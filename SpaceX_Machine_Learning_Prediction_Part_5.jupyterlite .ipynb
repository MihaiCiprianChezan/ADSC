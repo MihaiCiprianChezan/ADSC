{
  "metadata": {
    "language_info": {
      "codemirror_mode": {
        "name": "python",
        "version": 3
      },
      "file_extension": ".py",
      "mimetype": "text/x-python",
      "name": "python",
      "nbconvert_exporter": "python",
      "pygments_lexer": "ipython3",
      "version": "3.8"
    },
    "kernelspec": {
      "name": "python",
      "display_name": "Python (Pyodide)",
      "language": "python"
    }
  },
  "nbformat_minor": 4,
  "nbformat": 4,
  "cells": [
    {
      "cell_type": "markdown",
      "source": "<p style=\"text-align:center\">\n    <a href=\"https://skills.network/?utm_medium=Exinfluencer&utm_source=Exinfluencer&utm_content=000026UJ&utm_term=10006555&utm_id=NA-SkillsNetwork-Channel-SkillsNetworkCoursesIBMDS0321ENSkillsNetwork26802033-2022-01-01\">\n    <img src=\"https://cf-courses-data.s3.us.cloud-object-storage.appdomain.cloud/assets/logos/SN_web_lightmode.png\" width=\"200\" alt=\"Skills Network Logo\"  />\n    </a>\n</p>\n",
      "metadata": {}
    },
    {
      "cell_type": "markdown",
      "source": "# **Space X  Falcon 9 First Stage Landing Prediction**\n",
      "metadata": {}
    },
    {
      "cell_type": "markdown",
      "source": "## Assignment:  Machine Learning Prediction\n",
      "metadata": {}
    },
    {
      "cell_type": "markdown",
      "source": "Estimated time needed: **60** minutes\n",
      "metadata": {}
    },
    {
      "cell_type": "markdown",
      "source": "Space X advertises Falcon 9 rocket launches on its website with a cost of 62 million dollars; other providers cost upward of 165 million dollars each, much of the savings is because Space X can reuse the first stage. Therefore if we can determine if the first stage will land, we can determine the cost of a launch. This information can be used if an alternate company wants to bid against space X for a rocket launch.   In this lab, you will create a machine learning pipeline  to predict if the first stage will land given the data from the preceding labs.\n",
      "metadata": {}
    },
    {
      "cell_type": "markdown",
      "source": "![](https://cf-courses-data.s3.us.cloud-object-storage.appdomain.cloud/IBMDeveloperSkillsNetwork-DS0701EN-SkillsNetwork/api/Images/landing_1.gif)\n",
      "metadata": {}
    },
    {
      "cell_type": "markdown",
      "source": "Several examples of an unsuccessful landing are shown here:\n",
      "metadata": {}
    },
    {
      "cell_type": "markdown",
      "source": "![](https://cf-courses-data.s3.us.cloud-object-storage.appdomain.cloud/IBMDeveloperSkillsNetwork-DS0701EN-SkillsNetwork/api/Images/crash.gif)\n",
      "metadata": {}
    },
    {
      "cell_type": "markdown",
      "source": "Most unsuccessful landings are planed. Space X; performs a controlled landing in the oceans.\n",
      "metadata": {}
    },
    {
      "cell_type": "markdown",
      "source": "## Objectives\n",
      "metadata": {}
    },
    {
      "cell_type": "markdown",
      "source": "Perform exploratory  Data Analysis and determine Training Labels\n\n*   create a column for the class\n*   Standardize the data\n*   Split into training data and test data\n\n\\-Find best Hyperparameter for SVM, Classification Trees and Logistic Regression\n\n*   Find the method performs best using test data\n",
      "metadata": {}
    },
    {
      "cell_type": "markdown",
      "source": "## Import Libraries and Define Auxiliary Functions\n",
      "metadata": {}
    },
    {
      "cell_type": "code",
      "source": "import piplite\nawait piplite.install(['numpy'])\nawait piplite.install(['pandas'])\nawait piplite.install(['seaborn'])",
      "metadata": {
        "trusted": true
      },
      "execution_count": 1,
      "outputs": []
    },
    {
      "cell_type": "markdown",
      "source": "We will import the following libraries for the lab\n",
      "metadata": {}
    },
    {
      "cell_type": "code",
      "source": "# Pandas is a software library written for the Python programming language for data manipulation and analysis.\nimport pandas as pd\n# NumPy is a library for the Python programming language, adding support for large, multi-dimensional arrays and matrices, along with a large collection of high-level mathematical functions to operate on these arrays\nimport numpy as np\n# Matplotlib is a plotting library for python and pyplot gives us a MatLab like plotting framework. We will use this in our plotter function to plot data.\nimport matplotlib.pyplot as plt\n#Seaborn is a Python data visualization library based on matplotlib. It provides a high-level interface for drawing attractive and informative statistical graphics\nimport seaborn as sns\n# Preprocessing allows us to standarsize our data\nfrom sklearn import preprocessing\n# Allows us to split our data into training and testing data\nfrom sklearn.model_selection import train_test_split\n# Allows us to test parameters of classification algorithms and find the best one\nfrom sklearn.model_selection import GridSearchCV\n# Logistic Regression classification algorithm\nfrom sklearn.linear_model import LogisticRegression\n# Support Vector Machine classification algorithm\nfrom sklearn.svm import SVC\n# Decision Tree classification algorithm\nfrom sklearn.tree import DecisionTreeClassifier\n# K Nearest Neighbors classification algorithm\nfrom sklearn.neighbors import KNeighborsClassifier",
      "metadata": {
        "trusted": true
      },
      "execution_count": 2,
      "outputs": []
    },
    {
      "cell_type": "markdown",
      "source": "This function is to plot the confusion matrix.\n",
      "metadata": {}
    },
    {
      "cell_type": "code",
      "source": "def plot_confusion_matrix(y,y_predict):\n    \"this function plots the confusion matrix\"\n    from sklearn.metrics import confusion_matrix\n\n    cm = confusion_matrix(y, y_predict)\n    ax= plt.subplot()\n    sns.heatmap(cm, annot=True, ax = ax); #annot=True to annotate cells\n    ax.set_xlabel('Predicted labels')\n    ax.set_ylabel('True labels')\n    ax.set_title('Confusion Matrix'); \n    ax.xaxis.set_ticklabels(['did not land', 'land']); ax.yaxis.set_ticklabels(['did not land', 'landed']) \n    plt.show() ",
      "metadata": {
        "trusted": true
      },
      "execution_count": 3,
      "outputs": []
    },
    {
      "cell_type": "markdown",
      "source": "## Load the dataframe\n",
      "metadata": {}
    },
    {
      "cell_type": "markdown",
      "source": "Load the data\n",
      "metadata": {}
    },
    {
      "cell_type": "code",
      "source": "from js import fetch\nimport io\n\nURL1 = \"https://cf-courses-data.s3.us.cloud-object-storage.appdomain.cloud/IBM-DS0321EN-SkillsNetwork/datasets/dataset_part_2.csv\"\nresp1 = await fetch(URL1)\ntext1 = io.BytesIO((await resp1.arrayBuffer()).to_py())\ndata = pd.read_csv(text1)",
      "metadata": {
        "trusted": true
      },
      "execution_count": 4,
      "outputs": []
    },
    {
      "cell_type": "code",
      "source": "data.head()",
      "metadata": {
        "trusted": true
      },
      "execution_count": 5,
      "outputs": [
        {
          "execution_count": 5,
          "output_type": "execute_result",
          "data": {
            "text/plain": "   FlightNumber        Date BoosterVersion  PayloadMass Orbit    LaunchSite  \\\n0             1  2010-06-04       Falcon 9  6104.959412   LEO  CCAFS SLC 40   \n1             2  2012-05-22       Falcon 9   525.000000   LEO  CCAFS SLC 40   \n2             3  2013-03-01       Falcon 9   677.000000   ISS  CCAFS SLC 40   \n3             4  2013-09-29       Falcon 9   500.000000    PO   VAFB SLC 4E   \n4             5  2013-12-03       Falcon 9  3170.000000   GTO  CCAFS SLC 40   \n\n       Outcome  Flights  GridFins  Reused   Legs LandingPad  Block  \\\n0    None None        1     False   False  False        NaN    1.0   \n1    None None        1     False   False  False        NaN    1.0   \n2    None None        1     False   False  False        NaN    1.0   \n3  False Ocean        1     False   False  False        NaN    1.0   \n4    None None        1     False   False  False        NaN    1.0   \n\n   ReusedCount Serial   Longitude   Latitude  Class  \n0            0  B0003  -80.577366  28.561857      0  \n1            0  B0005  -80.577366  28.561857      0  \n2            0  B0007  -80.577366  28.561857      0  \n3            0  B1003 -120.610829  34.632093      0  \n4            0  B1004  -80.577366  28.561857      0  ",
            "text/html": "<div>\n<style scoped>\n    .dataframe tbody tr th:only-of-type {\n        vertical-align: middle;\n    }\n\n    .dataframe tbody tr th {\n        vertical-align: top;\n    }\n\n    .dataframe thead th {\n        text-align: right;\n    }\n</style>\n<table border=\"1\" class=\"dataframe\">\n  <thead>\n    <tr style=\"text-align: right;\">\n      <th></th>\n      <th>FlightNumber</th>\n      <th>Date</th>\n      <th>BoosterVersion</th>\n      <th>PayloadMass</th>\n      <th>Orbit</th>\n      <th>LaunchSite</th>\n      <th>Outcome</th>\n      <th>Flights</th>\n      <th>GridFins</th>\n      <th>Reused</th>\n      <th>Legs</th>\n      <th>LandingPad</th>\n      <th>Block</th>\n      <th>ReusedCount</th>\n      <th>Serial</th>\n      <th>Longitude</th>\n      <th>Latitude</th>\n      <th>Class</th>\n    </tr>\n  </thead>\n  <tbody>\n    <tr>\n      <th>0</th>\n      <td>1</td>\n      <td>2010-06-04</td>\n      <td>Falcon 9</td>\n      <td>6104.959412</td>\n      <td>LEO</td>\n      <td>CCAFS SLC 40</td>\n      <td>None None</td>\n      <td>1</td>\n      <td>False</td>\n      <td>False</td>\n      <td>False</td>\n      <td>NaN</td>\n      <td>1.0</td>\n      <td>0</td>\n      <td>B0003</td>\n      <td>-80.577366</td>\n      <td>28.561857</td>\n      <td>0</td>\n    </tr>\n    <tr>\n      <th>1</th>\n      <td>2</td>\n      <td>2012-05-22</td>\n      <td>Falcon 9</td>\n      <td>525.000000</td>\n      <td>LEO</td>\n      <td>CCAFS SLC 40</td>\n      <td>None None</td>\n      <td>1</td>\n      <td>False</td>\n      <td>False</td>\n      <td>False</td>\n      <td>NaN</td>\n      <td>1.0</td>\n      <td>0</td>\n      <td>B0005</td>\n      <td>-80.577366</td>\n      <td>28.561857</td>\n      <td>0</td>\n    </tr>\n    <tr>\n      <th>2</th>\n      <td>3</td>\n      <td>2013-03-01</td>\n      <td>Falcon 9</td>\n      <td>677.000000</td>\n      <td>ISS</td>\n      <td>CCAFS SLC 40</td>\n      <td>None None</td>\n      <td>1</td>\n      <td>False</td>\n      <td>False</td>\n      <td>False</td>\n      <td>NaN</td>\n      <td>1.0</td>\n      <td>0</td>\n      <td>B0007</td>\n      <td>-80.577366</td>\n      <td>28.561857</td>\n      <td>0</td>\n    </tr>\n    <tr>\n      <th>3</th>\n      <td>4</td>\n      <td>2013-09-29</td>\n      <td>Falcon 9</td>\n      <td>500.000000</td>\n      <td>PO</td>\n      <td>VAFB SLC 4E</td>\n      <td>False Ocean</td>\n      <td>1</td>\n      <td>False</td>\n      <td>False</td>\n      <td>False</td>\n      <td>NaN</td>\n      <td>1.0</td>\n      <td>0</td>\n      <td>B1003</td>\n      <td>-120.610829</td>\n      <td>34.632093</td>\n      <td>0</td>\n    </tr>\n    <tr>\n      <th>4</th>\n      <td>5</td>\n      <td>2013-12-03</td>\n      <td>Falcon 9</td>\n      <td>3170.000000</td>\n      <td>GTO</td>\n      <td>CCAFS SLC 40</td>\n      <td>None None</td>\n      <td>1</td>\n      <td>False</td>\n      <td>False</td>\n      <td>False</td>\n      <td>NaN</td>\n      <td>1.0</td>\n      <td>0</td>\n      <td>B1004</td>\n      <td>-80.577366</td>\n      <td>28.561857</td>\n      <td>0</td>\n    </tr>\n  </tbody>\n</table>\n</div>"
          },
          "metadata": {}
        }
      ]
    },
    {
      "cell_type": "code",
      "source": "URL2 = 'https://cf-courses-data.s3.us.cloud-object-storage.appdomain.cloud/IBM-DS0321EN-SkillsNetwork/datasets/dataset_part_3.csv'\nresp2 = await fetch(URL2)\ntext2 = io.BytesIO((await resp2.arrayBuffer()).to_py())\nX = pd.read_csv(text2)",
      "metadata": {
        "trusted": true
      },
      "execution_count": 35,
      "outputs": []
    },
    {
      "cell_type": "code",
      "source": "X.head(100)\n# X = X.head(100)\n# X\n",
      "metadata": {
        "trusted": true
      },
      "execution_count": 36,
      "outputs": [
        {
          "execution_count": 36,
          "output_type": "execute_result",
          "data": {
            "text/plain": "    FlightNumber   PayloadMass  Flights  Block  ReusedCount  Orbit_ES-L1  \\\n0            1.0   6104.959412      1.0    1.0          0.0          0.0   \n1            2.0    525.000000      1.0    1.0          0.0          0.0   \n2            3.0    677.000000      1.0    1.0          0.0          0.0   \n3            4.0    500.000000      1.0    1.0          0.0          0.0   \n4            5.0   3170.000000      1.0    1.0          0.0          0.0   \n..           ...           ...      ...    ...          ...          ...   \n85          86.0  15400.000000      2.0    5.0          2.0          0.0   \n86          87.0  15400.000000      3.0    5.0          2.0          0.0   \n87          88.0  15400.000000      6.0    5.0          5.0          0.0   \n88          89.0  15400.000000      3.0    5.0          2.0          0.0   \n89          90.0   3681.000000      1.0    5.0          0.0          0.0   \n\n    Orbit_GEO  Orbit_GTO  Orbit_HEO  Orbit_ISS  ...  Serial_B1058  \\\n0         0.0        0.0        0.0        0.0  ...           0.0   \n1         0.0        0.0        0.0        0.0  ...           0.0   \n2         0.0        0.0        0.0        1.0  ...           0.0   \n3         0.0        0.0        0.0        0.0  ...           0.0   \n4         0.0        1.0        0.0        0.0  ...           0.0   \n..        ...        ...        ...        ...  ...           ...   \n85        0.0        0.0        0.0        0.0  ...           0.0   \n86        0.0        0.0        0.0        0.0  ...           1.0   \n87        0.0        0.0        0.0        0.0  ...           0.0   \n88        0.0        0.0        0.0        0.0  ...           0.0   \n89        0.0        0.0        0.0        0.0  ...           0.0   \n\n    Serial_B1059  Serial_B1060  Serial_B1062  GridFins_False  GridFins_True  \\\n0            0.0           0.0           0.0             1.0            0.0   \n1            0.0           0.0           0.0             1.0            0.0   \n2            0.0           0.0           0.0             1.0            0.0   \n3            0.0           0.0           0.0             1.0            0.0   \n4            0.0           0.0           0.0             1.0            0.0   \n..           ...           ...           ...             ...            ...   \n85           0.0           1.0           0.0             0.0            1.0   \n86           0.0           0.0           0.0             0.0            1.0   \n87           0.0           0.0           0.0             0.0            1.0   \n88           0.0           1.0           0.0             0.0            1.0   \n89           0.0           0.0           1.0             0.0            1.0   \n\n    Reused_False  Reused_True  Legs_False  Legs_True  \n0            1.0          0.0         1.0        0.0  \n1            1.0          0.0         1.0        0.0  \n2            1.0          0.0         1.0        0.0  \n3            1.0          0.0         1.0        0.0  \n4            1.0          0.0         1.0        0.0  \n..           ...          ...         ...        ...  \n85           0.0          1.0         0.0        1.0  \n86           0.0          1.0         0.0        1.0  \n87           0.0          1.0         0.0        1.0  \n88           0.0          1.0         0.0        1.0  \n89           1.0          0.0         0.0        1.0  \n\n[90 rows x 83 columns]",
            "text/html": "<div>\n<style scoped>\n    .dataframe tbody tr th:only-of-type {\n        vertical-align: middle;\n    }\n\n    .dataframe tbody tr th {\n        vertical-align: top;\n    }\n\n    .dataframe thead th {\n        text-align: right;\n    }\n</style>\n<table border=\"1\" class=\"dataframe\">\n  <thead>\n    <tr style=\"text-align: right;\">\n      <th></th>\n      <th>FlightNumber</th>\n      <th>PayloadMass</th>\n      <th>Flights</th>\n      <th>Block</th>\n      <th>ReusedCount</th>\n      <th>Orbit_ES-L1</th>\n      <th>Orbit_GEO</th>\n      <th>Orbit_GTO</th>\n      <th>Orbit_HEO</th>\n      <th>Orbit_ISS</th>\n      <th>...</th>\n      <th>Serial_B1058</th>\n      <th>Serial_B1059</th>\n      <th>Serial_B1060</th>\n      <th>Serial_B1062</th>\n      <th>GridFins_False</th>\n      <th>GridFins_True</th>\n      <th>Reused_False</th>\n      <th>Reused_True</th>\n      <th>Legs_False</th>\n      <th>Legs_True</th>\n    </tr>\n  </thead>\n  <tbody>\n    <tr>\n      <th>0</th>\n      <td>1.0</td>\n      <td>6104.959412</td>\n      <td>1.0</td>\n      <td>1.0</td>\n      <td>0.0</td>\n      <td>0.0</td>\n      <td>0.0</td>\n      <td>0.0</td>\n      <td>0.0</td>\n      <td>0.0</td>\n      <td>...</td>\n      <td>0.0</td>\n      <td>0.0</td>\n      <td>0.0</td>\n      <td>0.0</td>\n      <td>1.0</td>\n      <td>0.0</td>\n      <td>1.0</td>\n      <td>0.0</td>\n      <td>1.0</td>\n      <td>0.0</td>\n    </tr>\n    <tr>\n      <th>1</th>\n      <td>2.0</td>\n      <td>525.000000</td>\n      <td>1.0</td>\n      <td>1.0</td>\n      <td>0.0</td>\n      <td>0.0</td>\n      <td>0.0</td>\n      <td>0.0</td>\n      <td>0.0</td>\n      <td>0.0</td>\n      <td>...</td>\n      <td>0.0</td>\n      <td>0.0</td>\n      <td>0.0</td>\n      <td>0.0</td>\n      <td>1.0</td>\n      <td>0.0</td>\n      <td>1.0</td>\n      <td>0.0</td>\n      <td>1.0</td>\n      <td>0.0</td>\n    </tr>\n    <tr>\n      <th>2</th>\n      <td>3.0</td>\n      <td>677.000000</td>\n      <td>1.0</td>\n      <td>1.0</td>\n      <td>0.0</td>\n      <td>0.0</td>\n      <td>0.0</td>\n      <td>0.0</td>\n      <td>0.0</td>\n      <td>1.0</td>\n      <td>...</td>\n      <td>0.0</td>\n      <td>0.0</td>\n      <td>0.0</td>\n      <td>0.0</td>\n      <td>1.0</td>\n      <td>0.0</td>\n      <td>1.0</td>\n      <td>0.0</td>\n      <td>1.0</td>\n      <td>0.0</td>\n    </tr>\n    <tr>\n      <th>3</th>\n      <td>4.0</td>\n      <td>500.000000</td>\n      <td>1.0</td>\n      <td>1.0</td>\n      <td>0.0</td>\n      <td>0.0</td>\n      <td>0.0</td>\n      <td>0.0</td>\n      <td>0.0</td>\n      <td>0.0</td>\n      <td>...</td>\n      <td>0.0</td>\n      <td>0.0</td>\n      <td>0.0</td>\n      <td>0.0</td>\n      <td>1.0</td>\n      <td>0.0</td>\n      <td>1.0</td>\n      <td>0.0</td>\n      <td>1.0</td>\n      <td>0.0</td>\n    </tr>\n    <tr>\n      <th>4</th>\n      <td>5.0</td>\n      <td>3170.000000</td>\n      <td>1.0</td>\n      <td>1.0</td>\n      <td>0.0</td>\n      <td>0.0</td>\n      <td>0.0</td>\n      <td>1.0</td>\n      <td>0.0</td>\n      <td>0.0</td>\n      <td>...</td>\n      <td>0.0</td>\n      <td>0.0</td>\n      <td>0.0</td>\n      <td>0.0</td>\n      <td>1.0</td>\n      <td>0.0</td>\n      <td>1.0</td>\n      <td>0.0</td>\n      <td>1.0</td>\n      <td>0.0</td>\n    </tr>\n    <tr>\n      <th>...</th>\n      <td>...</td>\n      <td>...</td>\n      <td>...</td>\n      <td>...</td>\n      <td>...</td>\n      <td>...</td>\n      <td>...</td>\n      <td>...</td>\n      <td>...</td>\n      <td>...</td>\n      <td>...</td>\n      <td>...</td>\n      <td>...</td>\n      <td>...</td>\n      <td>...</td>\n      <td>...</td>\n      <td>...</td>\n      <td>...</td>\n      <td>...</td>\n      <td>...</td>\n      <td>...</td>\n    </tr>\n    <tr>\n      <th>85</th>\n      <td>86.0</td>\n      <td>15400.000000</td>\n      <td>2.0</td>\n      <td>5.0</td>\n      <td>2.0</td>\n      <td>0.0</td>\n      <td>0.0</td>\n      <td>0.0</td>\n      <td>0.0</td>\n      <td>0.0</td>\n      <td>...</td>\n      <td>0.0</td>\n      <td>0.0</td>\n      <td>1.0</td>\n      <td>0.0</td>\n      <td>0.0</td>\n      <td>1.0</td>\n      <td>0.0</td>\n      <td>1.0</td>\n      <td>0.0</td>\n      <td>1.0</td>\n    </tr>\n    <tr>\n      <th>86</th>\n      <td>87.0</td>\n      <td>15400.000000</td>\n      <td>3.0</td>\n      <td>5.0</td>\n      <td>2.0</td>\n      <td>0.0</td>\n      <td>0.0</td>\n      <td>0.0</td>\n      <td>0.0</td>\n      <td>0.0</td>\n      <td>...</td>\n      <td>1.0</td>\n      <td>0.0</td>\n      <td>0.0</td>\n      <td>0.0</td>\n      <td>0.0</td>\n      <td>1.0</td>\n      <td>0.0</td>\n      <td>1.0</td>\n      <td>0.0</td>\n      <td>1.0</td>\n    </tr>\n    <tr>\n      <th>87</th>\n      <td>88.0</td>\n      <td>15400.000000</td>\n      <td>6.0</td>\n      <td>5.0</td>\n      <td>5.0</td>\n      <td>0.0</td>\n      <td>0.0</td>\n      <td>0.0</td>\n      <td>0.0</td>\n      <td>0.0</td>\n      <td>...</td>\n      <td>0.0</td>\n      <td>0.0</td>\n      <td>0.0</td>\n      <td>0.0</td>\n      <td>0.0</td>\n      <td>1.0</td>\n      <td>0.0</td>\n      <td>1.0</td>\n      <td>0.0</td>\n      <td>1.0</td>\n    </tr>\n    <tr>\n      <th>88</th>\n      <td>89.0</td>\n      <td>15400.000000</td>\n      <td>3.0</td>\n      <td>5.0</td>\n      <td>2.0</td>\n      <td>0.0</td>\n      <td>0.0</td>\n      <td>0.0</td>\n      <td>0.0</td>\n      <td>0.0</td>\n      <td>...</td>\n      <td>0.0</td>\n      <td>0.0</td>\n      <td>1.0</td>\n      <td>0.0</td>\n      <td>0.0</td>\n      <td>1.0</td>\n      <td>0.0</td>\n      <td>1.0</td>\n      <td>0.0</td>\n      <td>1.0</td>\n    </tr>\n    <tr>\n      <th>89</th>\n      <td>90.0</td>\n      <td>3681.000000</td>\n      <td>1.0</td>\n      <td>5.0</td>\n      <td>0.0</td>\n      <td>0.0</td>\n      <td>0.0</td>\n      <td>0.0</td>\n      <td>0.0</td>\n      <td>0.0</td>\n      <td>...</td>\n      <td>0.0</td>\n      <td>0.0</td>\n      <td>0.0</td>\n      <td>1.0</td>\n      <td>0.0</td>\n      <td>1.0</td>\n      <td>1.0</td>\n      <td>0.0</td>\n      <td>0.0</td>\n      <td>1.0</td>\n    </tr>\n  </tbody>\n</table>\n<p>90 rows × 83 columns</p>\n</div>"
          },
          "metadata": {}
        }
      ]
    },
    {
      "cell_type": "markdown",
      "source": "## TASK  1\n",
      "metadata": {}
    },
    {
      "cell_type": "markdown",
      "source": "Create a NumPy array from the column <code>Class</code> in <code>data</code>, by applying the method <code>to_numpy()</code>  then\nassign it  to the variable <code>Y</code>,make sure the output is a  Pandas series (only one bracket df\\['name of  column']).\n",
      "metadata": {}
    },
    {
      "cell_type": "code",
      "source": "Y = data['Class'].to_numpy()\nY",
      "metadata": {
        "trusted": true
      },
      "execution_count": 37,
      "outputs": [
        {
          "execution_count": 37,
          "output_type": "execute_result",
          "data": {
            "text/plain": "array([0, 0, 0, 0, 0, 0, 1, 1, 0, 0, 0, 0, 1, 0, 0, 0, 1, 0, 0, 1, 1, 1,\n       1, 1, 0, 1, 1, 0, 1, 1, 0, 1, 1, 1, 0, 1, 1, 1, 1, 1, 1, 1, 1, 1,\n       1, 0, 0, 0, 1, 1, 0, 0, 1, 1, 1, 1, 1, 1, 1, 0, 0, 1, 1, 1, 1, 1,\n       1, 0, 1, 1, 1, 1, 0, 1, 0, 1, 0, 1, 1, 1, 1, 1, 1, 1, 1, 1, 1, 1,\n       1, 1], dtype=int64)"
          },
          "metadata": {}
        }
      ]
    },
    {
      "cell_type": "markdown",
      "source": "## TASK  2\n",
      "metadata": {}
    },
    {
      "cell_type": "markdown",
      "source": "Standardize the data in <code>X</code> then reassign it to the variable  <code>X</code> using the transform provided below.\n",
      "metadata": {}
    },
    {
      "cell_type": "code",
      "source": "# students get this \ntransform = preprocessing.StandardScaler().fit(X).transform(X)\ntransform",
      "metadata": {
        "trusted": true
      },
      "execution_count": 38,
      "outputs": [
        {
          "execution_count": 38,
          "output_type": "execute_result",
          "data": {
            "text/plain": "array([[-1.71291154e+00, -1.94814463e-16, -6.53912840e-01, ...,\n        -8.35531692e-01,  1.93309133e+00, -1.93309133e+00],\n       [-1.67441914e+00, -1.19523159e+00, -6.53912840e-01, ...,\n        -8.35531692e-01,  1.93309133e+00, -1.93309133e+00],\n       [-1.63592675e+00, -1.16267307e+00, -6.53912840e-01, ...,\n        -8.35531692e-01,  1.93309133e+00, -1.93309133e+00],\n       ...,\n       [ 1.63592675e+00,  1.99100483e+00,  3.49060516e+00, ...,\n         1.19684269e+00, -5.17306132e-01,  5.17306132e-01],\n       [ 1.67441914e+00,  1.99100483e+00,  1.00389436e+00, ...,\n         1.19684269e+00, -5.17306132e-01,  5.17306132e-01],\n       [ 1.71291154e+00, -5.19213966e-01, -6.53912840e-01, ...,\n        -8.35531692e-01, -5.17306132e-01,  5.17306132e-01]])"
          },
          "metadata": {}
        }
      ]
    },
    {
      "cell_type": "markdown",
      "source": "We split the data into training and testing data using the  function  <code>train_test_split</code>.   The training data is divided into validation data, a second set used for training  data; then the models are trained and hyperparameters are selected using the function <code>GridSearchCV</code>.\n",
      "metadata": {}
    },
    {
      "cell_type": "markdown",
      "source": "## TASK  3\n",
      "metadata": {}
    },
    {
      "cell_type": "markdown",
      "source": "Use the function train_test_split to split the data X and Y into training and test data. Set the parameter test_size to  0.2 and random_state to 2. The training data and test data should be assigned to the following labels.\n",
      "metadata": {}
    },
    {
      "cell_type": "markdown",
      "source": "<code>X_train, X_test, Y_train, Y_test</code>\n",
      "metadata": {}
    },
    {
      "cell_type": "code",
      "source": "X_train, X_test, Y_train, Y_test = train_test_split(X, Y, test_size=0.2, random_state=2)",
      "metadata": {
        "trusted": true
      },
      "execution_count": 39,
      "outputs": []
    },
    {
      "cell_type": "markdown",
      "source": "we can see we only have 18 test samples.\n",
      "metadata": {}
    },
    {
      "cell_type": "code",
      "source": "Y_test.shape",
      "metadata": {
        "trusted": true
      },
      "execution_count": 40,
      "outputs": [
        {
          "execution_count": 40,
          "output_type": "execute_result",
          "data": {
            "text/plain": "(18,)"
          },
          "metadata": {}
        }
      ]
    },
    {
      "cell_type": "markdown",
      "source": "## TASK  4\n",
      "metadata": {}
    },
    {
      "cell_type": "markdown",
      "source": "Create a logistic regression object  then create a  GridSearchCV object  <code>logreg_cv</code> with cv = 10.  Fit the object to find the best parameters from the dictionary <code>parameters</code>.\n",
      "metadata": {}
    },
    {
      "cell_type": "code",
      "source": "parameters ={'C':[0.01,0.1,1],\n             'penalty':['l2'],\n             'solver':['lbfgs']}",
      "metadata": {
        "trusted": true
      },
      "execution_count": 12,
      "outputs": []
    },
    {
      "cell_type": "code",
      "source": "parameters ={\"C\":[0.01,0.1,1],'penalty':['l2'], 'solver':['lbfgs']}  # l1 lasso l2 ridge\nlr=LogisticRegression()\nlogreg_cv = GridSearchCV(lr, parameters, cv=10)\nlogreg_cv.fit(X_train, Y_train)",
      "metadata": {
        "trusted": true
      },
      "execution_count": 13,
      "outputs": [
        {
          "name": "stderr",
          "text": "/lib/python3.11/site-packages/sklearn/linear_model/_logistic.py:458: ConvergenceWarning: lbfgs failed to converge (status=1):\nSTOP: TOTAL NO. of ITERATIONS REACHED LIMIT.\n\nIncrease the number of iterations (max_iter) or scale the data as shown in:\n    https://scikit-learn.org/stable/modules/preprocessing.html\nPlease also refer to the documentation for alternative solver options:\n    https://scikit-learn.org/stable/modules/linear_model.html#logistic-regression\n  n_iter_i = _check_optimize_result(\n/lib/python3.11/site-packages/sklearn/linear_model/_logistic.py:458: ConvergenceWarning: lbfgs failed to converge (status=1):\nSTOP: TOTAL NO. of ITERATIONS REACHED LIMIT.\n\nIncrease the number of iterations (max_iter) or scale the data as shown in:\n    https://scikit-learn.org/stable/modules/preprocessing.html\nPlease also refer to the documentation for alternative solver options:\n    https://scikit-learn.org/stable/modules/linear_model.html#logistic-regression\n  n_iter_i = _check_optimize_result(\n/lib/python3.11/site-packages/sklearn/linear_model/_logistic.py:458: ConvergenceWarning: lbfgs failed to converge (status=1):\nSTOP: TOTAL NO. of ITERATIONS REACHED LIMIT.\n\nIncrease the number of iterations (max_iter) or scale the data as shown in:\n    https://scikit-learn.org/stable/modules/preprocessing.html\nPlease also refer to the documentation for alternative solver options:\n    https://scikit-learn.org/stable/modules/linear_model.html#logistic-regression\n  n_iter_i = _check_optimize_result(\n/lib/python3.11/site-packages/sklearn/linear_model/_logistic.py:458: ConvergenceWarning: lbfgs failed to converge (status=1):\nSTOP: TOTAL NO. of ITERATIONS REACHED LIMIT.\n\nIncrease the number of iterations (max_iter) or scale the data as shown in:\n    https://scikit-learn.org/stable/modules/preprocessing.html\nPlease also refer to the documentation for alternative solver options:\n    https://scikit-learn.org/stable/modules/linear_model.html#logistic-regression\n  n_iter_i = _check_optimize_result(\n/lib/python3.11/site-packages/sklearn/linear_model/_logistic.py:458: ConvergenceWarning: lbfgs failed to converge (status=1):\nSTOP: TOTAL NO. of ITERATIONS REACHED LIMIT.\n\nIncrease the number of iterations (max_iter) or scale the data as shown in:\n    https://scikit-learn.org/stable/modules/preprocessing.html\nPlease also refer to the documentation for alternative solver options:\n    https://scikit-learn.org/stable/modules/linear_model.html#logistic-regression\n  n_iter_i = _check_optimize_result(\n/lib/python3.11/site-packages/sklearn/linear_model/_logistic.py:458: ConvergenceWarning: lbfgs failed to converge (status=1):\nSTOP: TOTAL NO. of ITERATIONS REACHED LIMIT.\n\nIncrease the number of iterations (max_iter) or scale the data as shown in:\n    https://scikit-learn.org/stable/modules/preprocessing.html\nPlease also refer to the documentation for alternative solver options:\n    https://scikit-learn.org/stable/modules/linear_model.html#logistic-regression\n  n_iter_i = _check_optimize_result(\n/lib/python3.11/site-packages/sklearn/linear_model/_logistic.py:458: ConvergenceWarning: lbfgs failed to converge (status=1):\nSTOP: TOTAL NO. of ITERATIONS REACHED LIMIT.\n\nIncrease the number of iterations (max_iter) or scale the data as shown in:\n    https://scikit-learn.org/stable/modules/preprocessing.html\nPlease also refer to the documentation for alternative solver options:\n    https://scikit-learn.org/stable/modules/linear_model.html#logistic-regression\n  n_iter_i = _check_optimize_result(\n/lib/python3.11/site-packages/sklearn/linear_model/_logistic.py:458: ConvergenceWarning: lbfgs failed to converge (status=1):\nSTOP: TOTAL NO. of ITERATIONS REACHED LIMIT.\n\nIncrease the number of iterations (max_iter) or scale the data as shown in:\n    https://scikit-learn.org/stable/modules/preprocessing.html\nPlease also refer to the documentation for alternative solver options:\n    https://scikit-learn.org/stable/modules/linear_model.html#logistic-regression\n  n_iter_i = _check_optimize_result(\n/lib/python3.11/site-packages/sklearn/linear_model/_logistic.py:458: ConvergenceWarning: lbfgs failed to converge (status=1):\nSTOP: TOTAL NO. of ITERATIONS REACHED LIMIT.\n\nIncrease the number of iterations (max_iter) or scale the data as shown in:\n    https://scikit-learn.org/stable/modules/preprocessing.html\nPlease also refer to the documentation for alternative solver options:\n    https://scikit-learn.org/stable/modules/linear_model.html#logistic-regression\n  n_iter_i = _check_optimize_result(\n/lib/python3.11/site-packages/sklearn/linear_model/_logistic.py:458: ConvergenceWarning: lbfgs failed to converge (status=1):\nSTOP: TOTAL NO. of ITERATIONS REACHED LIMIT.\n\nIncrease the number of iterations (max_iter) or scale the data as shown in:\n    https://scikit-learn.org/stable/modules/preprocessing.html\nPlease also refer to the documentation for alternative solver options:\n    https://scikit-learn.org/stable/modules/linear_model.html#logistic-regression\n  n_iter_i = _check_optimize_result(\n/lib/python3.11/site-packages/sklearn/linear_model/_logistic.py:458: ConvergenceWarning: lbfgs failed to converge (status=1):\nSTOP: TOTAL NO. of ITERATIONS REACHED LIMIT.\n\nIncrease the number of iterations (max_iter) or scale the data as shown in:\n    https://scikit-learn.org/stable/modules/preprocessing.html\nPlease also refer to the documentation for alternative solver options:\n    https://scikit-learn.org/stable/modules/linear_model.html#logistic-regression\n  n_iter_i = _check_optimize_result(\n/lib/python3.11/site-packages/sklearn/linear_model/_logistic.py:458: ConvergenceWarning: lbfgs failed to converge (status=1):\nSTOP: TOTAL NO. of ITERATIONS REACHED LIMIT.\n\nIncrease the number of iterations (max_iter) or scale the data as shown in:\n    https://scikit-learn.org/stable/modules/preprocessing.html\nPlease also refer to the documentation for alternative solver options:\n    https://scikit-learn.org/stable/modules/linear_model.html#logistic-regression\n  n_iter_i = _check_optimize_result(\n/lib/python3.11/site-packages/sklearn/linear_model/_logistic.py:458: ConvergenceWarning: lbfgs failed to converge (status=1):\nSTOP: TOTAL NO. of ITERATIONS REACHED LIMIT.\n\nIncrease the number of iterations (max_iter) or scale the data as shown in:\n    https://scikit-learn.org/stable/modules/preprocessing.html\nPlease also refer to the documentation for alternative solver options:\n    https://scikit-learn.org/stable/modules/linear_model.html#logistic-regression\n  n_iter_i = _check_optimize_result(\n/lib/python3.11/site-packages/sklearn/linear_model/_logistic.py:458: ConvergenceWarning: lbfgs failed to converge (status=1):\nSTOP: TOTAL NO. of ITERATIONS REACHED LIMIT.\n\nIncrease the number of iterations (max_iter) or scale the data as shown in:\n    https://scikit-learn.org/stable/modules/preprocessing.html\nPlease also refer to the documentation for alternative solver options:\n    https://scikit-learn.org/stable/modules/linear_model.html#logistic-regression\n  n_iter_i = _check_optimize_result(\n/lib/python3.11/site-packages/sklearn/linear_model/_logistic.py:458: ConvergenceWarning: lbfgs failed to converge (status=1):\nSTOP: TOTAL NO. of ITERATIONS REACHED LIMIT.\n\nIncrease the number of iterations (max_iter) or scale the data as shown in:\n    https://scikit-learn.org/stable/modules/preprocessing.html\nPlease also refer to the documentation for alternative solver options:\n    https://scikit-learn.org/stable/modules/linear_model.html#logistic-regression\n  n_iter_i = _check_optimize_result(\n/lib/python3.11/site-packages/sklearn/linear_model/_logistic.py:458: ConvergenceWarning: lbfgs failed to converge (status=1):\nSTOP: TOTAL NO. of ITERATIONS REACHED LIMIT.\n\nIncrease the number of iterations (max_iter) or scale the data as shown in:\n    https://scikit-learn.org/stable/modules/preprocessing.html\nPlease also refer to the documentation for alternative solver options:\n    https://scikit-learn.org/stable/modules/linear_model.html#logistic-regression\n  n_iter_i = _check_optimize_result(\n/lib/python3.11/site-packages/sklearn/linear_model/_logistic.py:458: ConvergenceWarning: lbfgs failed to converge (status=1):\nSTOP: TOTAL NO. of ITERATIONS REACHED LIMIT.\n\nIncrease the number of iterations (max_iter) or scale the data as shown in:\n    https://scikit-learn.org/stable/modules/preprocessing.html\nPlease also refer to the documentation for alternative solver options:\n    https://scikit-learn.org/stable/modules/linear_model.html#logistic-regression\n  n_iter_i = _check_optimize_result(\n",
          "output_type": "stream"
        },
        {
          "execution_count": 13,
          "output_type": "execute_result",
          "data": {
            "text/plain": "GridSearchCV(cv=10, estimator=LogisticRegression(),\n             param_grid={'C': [0.01, 0.1, 1], 'penalty': ['l2'],\n                         'solver': ['lbfgs']})",
            "text/html": "<style>#sk-container-id-1 {color: black;background-color: white;}#sk-container-id-1 pre{padding: 0;}#sk-container-id-1 div.sk-toggleable {background-color: white;}#sk-container-id-1 label.sk-toggleable__label {cursor: pointer;display: block;width: 100%;margin-bottom: 0;padding: 0.3em;box-sizing: border-box;text-align: center;}#sk-container-id-1 label.sk-toggleable__label-arrow:before {content: \"▸\";float: left;margin-right: 0.25em;color: #696969;}#sk-container-id-1 label.sk-toggleable__label-arrow:hover:before {color: black;}#sk-container-id-1 div.sk-estimator:hover label.sk-toggleable__label-arrow:before {color: black;}#sk-container-id-1 div.sk-toggleable__content {max-height: 0;max-width: 0;overflow: hidden;text-align: left;background-color: #f0f8ff;}#sk-container-id-1 div.sk-toggleable__content pre {margin: 0.2em;color: black;border-radius: 0.25em;background-color: #f0f8ff;}#sk-container-id-1 input.sk-toggleable__control:checked~div.sk-toggleable__content {max-height: 200px;max-width: 100%;overflow: auto;}#sk-container-id-1 input.sk-toggleable__control:checked~label.sk-toggleable__label-arrow:before {content: \"▾\";}#sk-container-id-1 div.sk-estimator input.sk-toggleable__control:checked~label.sk-toggleable__label {background-color: #d4ebff;}#sk-container-id-1 div.sk-label input.sk-toggleable__control:checked~label.sk-toggleable__label {background-color: #d4ebff;}#sk-container-id-1 input.sk-hidden--visually {border: 0;clip: rect(1px 1px 1px 1px);clip: rect(1px, 1px, 1px, 1px);height: 1px;margin: -1px;overflow: hidden;padding: 0;position: absolute;width: 1px;}#sk-container-id-1 div.sk-estimator {font-family: monospace;background-color: #f0f8ff;border: 1px dotted black;border-radius: 0.25em;box-sizing: border-box;margin-bottom: 0.5em;}#sk-container-id-1 div.sk-estimator:hover {background-color: #d4ebff;}#sk-container-id-1 div.sk-parallel-item::after {content: \"\";width: 100%;border-bottom: 1px solid gray;flex-grow: 1;}#sk-container-id-1 div.sk-label:hover label.sk-toggleable__label {background-color: #d4ebff;}#sk-container-id-1 div.sk-serial::before {content: \"\";position: absolute;border-left: 1px solid gray;box-sizing: border-box;top: 0;bottom: 0;left: 50%;z-index: 0;}#sk-container-id-1 div.sk-serial {display: flex;flex-direction: column;align-items: center;background-color: white;padding-right: 0.2em;padding-left: 0.2em;position: relative;}#sk-container-id-1 div.sk-item {position: relative;z-index: 1;}#sk-container-id-1 div.sk-parallel {display: flex;align-items: stretch;justify-content: center;background-color: white;position: relative;}#sk-container-id-1 div.sk-item::before, #sk-container-id-1 div.sk-parallel-item::before {content: \"\";position: absolute;border-left: 1px solid gray;box-sizing: border-box;top: 0;bottom: 0;left: 50%;z-index: -1;}#sk-container-id-1 div.sk-parallel-item {display: flex;flex-direction: column;z-index: 1;position: relative;background-color: white;}#sk-container-id-1 div.sk-parallel-item:first-child::after {align-self: flex-end;width: 50%;}#sk-container-id-1 div.sk-parallel-item:last-child::after {align-self: flex-start;width: 50%;}#sk-container-id-1 div.sk-parallel-item:only-child::after {width: 0;}#sk-container-id-1 div.sk-dashed-wrapped {border: 1px dashed gray;margin: 0 0.4em 0.5em 0.4em;box-sizing: border-box;padding-bottom: 0.4em;background-color: white;}#sk-container-id-1 div.sk-label label {font-family: monospace;font-weight: bold;display: inline-block;line-height: 1.2em;}#sk-container-id-1 div.sk-label-container {text-align: center;}#sk-container-id-1 div.sk-container {/* jupyter's `normalize.less` sets `[hidden] { display: none; }` but bootstrap.min.css set `[hidden] { display: none !important; }` so we also need the `!important` here to be able to override the default hidden behavior on the sphinx rendered scikit-learn.org. See: https://github.com/scikit-learn/scikit-learn/issues/21755 */display: inline-block !important;position: relative;}#sk-container-id-1 div.sk-text-repr-fallback {display: none;}</style><div id=\"sk-container-id-1\" class=\"sk-top-container\"><div class=\"sk-text-repr-fallback\"><pre>GridSearchCV(cv=10, estimator=LogisticRegression(),\n             param_grid={&#x27;C&#x27;: [0.01, 0.1, 1], &#x27;penalty&#x27;: [&#x27;l2&#x27;],\n                         &#x27;solver&#x27;: [&#x27;lbfgs&#x27;]})</pre><b>In a Jupyter environment, please rerun this cell to show the HTML representation or trust the notebook. <br />On GitHub, the HTML representation is unable to render, please try loading this page with nbviewer.org.</b></div><div class=\"sk-container\" hidden><div class=\"sk-item sk-dashed-wrapped\"><div class=\"sk-label-container\"><div class=\"sk-label sk-toggleable\"><input class=\"sk-toggleable__control sk-hidden--visually\" id=\"sk-estimator-id-1\" type=\"checkbox\" ><label for=\"sk-estimator-id-1\" class=\"sk-toggleable__label sk-toggleable__label-arrow\">GridSearchCV</label><div class=\"sk-toggleable__content\"><pre>GridSearchCV(cv=10, estimator=LogisticRegression(),\n             param_grid={&#x27;C&#x27;: [0.01, 0.1, 1], &#x27;penalty&#x27;: [&#x27;l2&#x27;],\n                         &#x27;solver&#x27;: [&#x27;lbfgs&#x27;]})</pre></div></div></div><div class=\"sk-parallel\"><div class=\"sk-parallel-item\"><div class=\"sk-item\"><div class=\"sk-label-container\"><div class=\"sk-label sk-toggleable\"><input class=\"sk-toggleable__control sk-hidden--visually\" id=\"sk-estimator-id-2\" type=\"checkbox\" ><label for=\"sk-estimator-id-2\" class=\"sk-toggleable__label sk-toggleable__label-arrow\">estimator: LogisticRegression</label><div class=\"sk-toggleable__content\"><pre>LogisticRegression()</pre></div></div></div><div class=\"sk-serial\"><div class=\"sk-item\"><div class=\"sk-estimator sk-toggleable\"><input class=\"sk-toggleable__control sk-hidden--visually\" id=\"sk-estimator-id-3\" type=\"checkbox\" ><label for=\"sk-estimator-id-3\" class=\"sk-toggleable__label sk-toggleable__label-arrow\">LogisticRegression</label><div class=\"sk-toggleable__content\"><pre>LogisticRegression()</pre></div></div></div></div></div></div></div></div></div></div>"
          },
          "metadata": {}
        }
      ]
    },
    {
      "cell_type": "markdown",
      "source": "We output the <code>GridSearchCV</code> object for logistic regression. We display the best parameters using the data attribute <code>best_params\\_</code> and the accuracy on the validation data using the data attribute <code>best_score\\_</code>.\n",
      "metadata": {}
    },
    {
      "cell_type": "code",
      "source": "print(\"tuned hpyerparameters :(best parameters) \",logreg_cv.best_params_)\nprint(\"accuracy :\",logreg_cv.best_score_)",
      "metadata": {
        "trusted": true
      },
      "execution_count": 14,
      "outputs": [
        {
          "name": "stdout",
          "text": "tuned hpyerparameters :(best parameters)  {'C': 0.1, 'penalty': 'l2', 'solver': 'lbfgs'}\naccuracy : 0.8196428571428571\n",
          "output_type": "stream"
        }
      ]
    },
    {
      "cell_type": "markdown",
      "source": "## TASK  5\n",
      "metadata": {}
    },
    {
      "cell_type": "markdown",
      "source": "Calculate the accuracy on the test data using the method <code>score</code>:\n",
      "metadata": {}
    },
    {
      "cell_type": "code",
      "source": "scr_logreg = logreg_cv.score(X_test, Y_test)\nscr_logreg",
      "metadata": {
        "trusted": true
      },
      "execution_count": 15,
      "outputs": [
        {
          "execution_count": 15,
          "output_type": "execute_result",
          "data": {
            "text/plain": "0.8333333333333334"
          },
          "metadata": {}
        }
      ]
    },
    {
      "cell_type": "markdown",
      "source": "Lets look at the confusion matrix:\n",
      "metadata": {}
    },
    {
      "cell_type": "code",
      "source": "yhat=logreg_cv.predict(X_test)\nplot_confusion_matrix(Y_test, yhat)",
      "metadata": {
        "trusted": true
      },
      "execution_count": 16,
      "outputs": [
        {
          "output_type": "display_data",
          "data": {
            "text/plain": "<Figure size 640x480 with 2 Axes>",
            "image/png": "[encoded data removed]"
          },
          "metadata": {}
        }
      ]
    },
    {
      "cell_type": "markdown",
      "source": "Examining the confusion matrix, we see that logistic regression can distinguish between the different classes.  We see that the major problem is false positives.\n",
      "metadata": {}
    },
    {
      "cell_type": "markdown",
      "source": "## TASK  6\n",
      "metadata": {}
    },
    {
      "cell_type": "markdown",
      "source": "Create a support vector machine object then  create a  <code>GridSearchCV</code> object  <code>svm_cv</code> with cv - 10.  Fit the object to find the best parameters from the dictionary <code>parameters</code>.\n",
      "metadata": {}
    },
    {
      "cell_type": "code",
      "source": "parameters = {'kernel':('linear', 'rbf','poly','rbf', 'sigmoid'),\n              'C': np.logspace(-3, 3, 5),\n              'gamma':np.logspace(-3, 3, 5)}\nsvm = SVC()\nsvm",
      "metadata": {
        "trusted": true
      },
      "execution_count": 17,
      "outputs": [
        {
          "execution_count": 17,
          "output_type": "execute_result",
          "data": {
            "text/plain": "SVC()",
            "text/html": "<style>#sk-container-id-2 {color: black;background-color: white;}#sk-container-id-2 pre{padding: 0;}#sk-container-id-2 div.sk-toggleable {background-color: white;}#sk-container-id-2 label.sk-toggleable__label {cursor: pointer;display: block;width: 100%;margin-bottom: 0;padding: 0.3em;box-sizing: border-box;text-align: center;}#sk-container-id-2 label.sk-toggleable__label-arrow:before {content: \"▸\";float: left;margin-right: 0.25em;color: #696969;}#sk-container-id-2 label.sk-toggleable__label-arrow:hover:before {color: black;}#sk-container-id-2 div.sk-estimator:hover label.sk-toggleable__label-arrow:before {color: black;}#sk-container-id-2 div.sk-toggleable__content {max-height: 0;max-width: 0;overflow: hidden;text-align: left;background-color: #f0f8ff;}#sk-container-id-2 div.sk-toggleable__content pre {margin: 0.2em;color: black;border-radius: 0.25em;background-color: #f0f8ff;}#sk-container-id-2 input.sk-toggleable__control:checked~div.sk-toggleable__content {max-height: 200px;max-width: 100%;overflow: auto;}#sk-container-id-2 input.sk-toggleable__control:checked~label.sk-toggleable__label-arrow:before {content: \"▾\";}#sk-container-id-2 div.sk-estimator input.sk-toggleable__control:checked~label.sk-toggleable__label {background-color: #d4ebff;}#sk-container-id-2 div.sk-label input.sk-toggleable__control:checked~label.sk-toggleable__label {background-color: #d4ebff;}#sk-container-id-2 input.sk-hidden--visually {border: 0;clip: rect(1px 1px 1px 1px);clip: rect(1px, 1px, 1px, 1px);height: 1px;margin: -1px;overflow: hidden;padding: 0;position: absolute;width: 1px;}#sk-container-id-2 div.sk-estimator {font-family: monospace;background-color: #f0f8ff;border: 1px dotted black;border-radius: 0.25em;box-sizing: border-box;margin-bottom: 0.5em;}#sk-container-id-2 div.sk-estimator:hover {background-color: #d4ebff;}#sk-container-id-2 div.sk-parallel-item::after {content: \"\";width: 100%;border-bottom: 1px solid gray;flex-grow: 1;}#sk-container-id-2 div.sk-label:hover label.sk-toggleable__label {background-color: #d4ebff;}#sk-container-id-2 div.sk-serial::before {content: \"\";position: absolute;border-left: 1px solid gray;box-sizing: border-box;top: 0;bottom: 0;left: 50%;z-index: 0;}#sk-container-id-2 div.sk-serial {display: flex;flex-direction: column;align-items: center;background-color: white;padding-right: 0.2em;padding-left: 0.2em;position: relative;}#sk-container-id-2 div.sk-item {position: relative;z-index: 1;}#sk-container-id-2 div.sk-parallel {display: flex;align-items: stretch;justify-content: center;background-color: white;position: relative;}#sk-container-id-2 div.sk-item::before, #sk-container-id-2 div.sk-parallel-item::before {content: \"\";position: absolute;border-left: 1px solid gray;box-sizing: border-box;top: 0;bottom: 0;left: 50%;z-index: -1;}#sk-container-id-2 div.sk-parallel-item {display: flex;flex-direction: column;z-index: 1;position: relative;background-color: white;}#sk-container-id-2 div.sk-parallel-item:first-child::after {align-self: flex-end;width: 50%;}#sk-container-id-2 div.sk-parallel-item:last-child::after {align-self: flex-start;width: 50%;}#sk-container-id-2 div.sk-parallel-item:only-child::after {width: 0;}#sk-container-id-2 div.sk-dashed-wrapped {border: 1px dashed gray;margin: 0 0.4em 0.5em 0.4em;box-sizing: border-box;padding-bottom: 0.4em;background-color: white;}#sk-container-id-2 div.sk-label label {font-family: monospace;font-weight: bold;display: inline-block;line-height: 1.2em;}#sk-container-id-2 div.sk-label-container {text-align: center;}#sk-container-id-2 div.sk-container {/* jupyter's `normalize.less` sets `[hidden] { display: none; }` but bootstrap.min.css set `[hidden] { display: none !important; }` so we also need the `!important` here to be able to override the default hidden behavior on the sphinx rendered scikit-learn.org. See: https://github.com/scikit-learn/scikit-learn/issues/21755 */display: inline-block !important;position: relative;}#sk-container-id-2 div.sk-text-repr-fallback {display: none;}</style><div id=\"sk-container-id-2\" class=\"sk-top-container\"><div class=\"sk-text-repr-fallback\"><pre>SVC()</pre><b>In a Jupyter environment, please rerun this cell to show the HTML representation or trust the notebook. <br />On GitHub, the HTML representation is unable to render, please try loading this page with nbviewer.org.</b></div><div class=\"sk-container\" hidden><div class=\"sk-item\"><div class=\"sk-estimator sk-toggleable\"><input class=\"sk-toggleable__control sk-hidden--visually\" id=\"sk-estimator-id-4\" type=\"checkbox\" checked><label for=\"sk-estimator-id-4\" class=\"sk-toggleable__label sk-toggleable__label-arrow\">SVC</label><div class=\"sk-toggleable__content\"><pre>SVC()</pre></div></div></div></div></div>"
          },
          "metadata": {}
        }
      ]
    },
    {
      "cell_type": "code",
      "source": "svm_cv = GridSearchCV(svm, parameters, cv=2, verbose=10)\n# cv=10 takes for ever can't actually run with 10 so changed to 2...\nprint('Training (fitting) ...')\nsvm_cv.fit(X_test, Y_test)\nprint('Done training.')",
      "metadata": {
        "trusted": true
      },
      "execution_count": 18,
      "outputs": [
        {
          "name": "stdout",
          "text": "Training (fitting) ...\nFitting 2 folds for each of 125 candidates, totalling 250 fits\n[CV 1/2; 1/125] START C=0.001, gamma=0.001, kernel=linear.......................\n[CV 1/2; 1/125] END C=0.001, gamma=0.001, kernel=linear;, score=0.333 total time=   0.0s\n[CV 2/2; 1/125] START C=0.001, gamma=0.001, kernel=linear.......................\n[CV 2/2; 1/125] END C=0.001, gamma=0.001, kernel=linear;, score=0.889 total time=   0.0s\n[CV 1/2; 2/125] START C=0.001, gamma=0.001, kernel=rbf..........................\n[CV 1/2; 2/125] END C=0.001, gamma=0.001, kernel=rbf;, score=0.667 total time=   0.0s\n[CV 2/2; 2/125] START C=0.001, gamma=0.001, kernel=rbf..........................\n[CV 2/2; 2/125] END C=0.001, gamma=0.001, kernel=rbf;, score=0.667 total time=   0.0s\n[CV 1/2; 3/125] START C=0.001, gamma=0.001, kernel=poly.........................\n[CV 1/2; 3/125] END C=0.001, gamma=0.001, kernel=poly;, score=0.333 total time=   0.0s\n[CV 2/2; 3/125] START C=0.001, gamma=0.001, kernel=poly.........................\n[CV 2/2; 3/125] END C=0.001, gamma=0.001, kernel=poly;, score=0.556 total time=   0.3s\n[CV 1/2; 4/125] START C=0.001, gamma=0.001, kernel=rbf..........................\n[CV 1/2; 4/125] END C=0.001, gamma=0.001, kernel=rbf;, score=0.667 total time=   0.0s\n[CV 2/2; 4/125] START C=0.001, gamma=0.001, kernel=rbf..........................\n[CV 2/2; 4/125] END C=0.001, gamma=0.001, kernel=rbf;, score=0.667 total time=   0.0s\n[CV 1/2; 5/125] START C=0.001, gamma=0.001, kernel=sigmoid......................\n[CV 1/2; 5/125] END C=0.001, gamma=0.001, kernel=sigmoid;, score=0.667 total time=   0.0s\n[CV 2/2; 5/125] START C=0.001, gamma=0.001, kernel=sigmoid......................\n[CV 2/2; 5/125] END C=0.001, gamma=0.001, kernel=sigmoid;, score=0.667 total time=   0.0s\n[CV 1/2; 6/125] START C=0.001, gamma=0.03162277660168379, kernel=linear.........\n[CV 1/2; 6/125] END C=0.001, gamma=0.03162277660168379, kernel=linear;, score=0.333 total time=   0.0s\n[CV 2/2; 6/125] START C=0.001, gamma=0.03162277660168379, kernel=linear.........\n[CV 2/2; 6/125] END C=0.001, gamma=0.03162277660168379, kernel=linear;, score=0.889 total time=   0.0s\n[CV 1/2; 7/125] START C=0.001, gamma=0.03162277660168379, kernel=rbf............\n[CV 1/2; 7/125] END C=0.001, gamma=0.03162277660168379, kernel=rbf;, score=0.667 total time=   0.0s\n[CV 2/2; 7/125] START C=0.001, gamma=0.03162277660168379, kernel=rbf............\n[CV 2/2; 7/125] END C=0.001, gamma=0.03162277660168379, kernel=rbf;, score=0.667 total time=   0.0s\n[CV 1/2; 8/125] START C=0.001, gamma=0.03162277660168379, kernel=poly...........\n[CV 1/2; 8/125] END C=0.001, gamma=0.03162277660168379, kernel=poly;, score=0.333 total time=   0.0s\n[CV 2/2; 8/125] START C=0.001, gamma=0.03162277660168379, kernel=poly...........\n[CV 2/2; 8/125] END C=0.001, gamma=0.03162277660168379, kernel=poly;, score=0.556 total time=   0.2s\n[CV 1/2; 9/125] START C=0.001, gamma=0.03162277660168379, kernel=rbf............\n[CV 1/2; 9/125] END C=0.001, gamma=0.03162277660168379, kernel=rbf;, score=0.667 total time=   0.0s\n[CV 2/2; 9/125] START C=0.001, gamma=0.03162277660168379, kernel=rbf............\n[CV 2/2; 9/125] END C=0.001, gamma=0.03162277660168379, kernel=rbf;, score=0.667 total time=   0.0s\n[CV 1/2; 10/125] START C=0.001, gamma=0.03162277660168379, kernel=sigmoid.......\n[CV 1/2; 10/125] END C=0.001, gamma=0.03162277660168379, kernel=sigmoid;, score=0.667 total time=   0.0s\n[CV 2/2; 10/125] START C=0.001, gamma=0.03162277660168379, kernel=sigmoid.......\n[CV 2/2; 10/125] END C=0.001, gamma=0.03162277660168379, kernel=sigmoid;, score=0.667 total time=   0.0s\n[CV 1/2; 11/125] START C=0.001, gamma=1.0, kernel=linear........................\n[CV 1/2; 11/125] END C=0.001, gamma=1.0, kernel=linear;, score=0.333 total time=   0.0s\n[CV 2/2; 11/125] START C=0.001, gamma=1.0, kernel=linear........................\n[CV 2/2; 11/125] END C=0.001, gamma=1.0, kernel=linear;, score=0.889 total time=   0.0s\n[CV 1/2; 12/125] START C=0.001, gamma=1.0, kernel=rbf...........................\n[CV 1/2; 12/125] END C=0.001, gamma=1.0, kernel=rbf;, score=0.667 total time=   0.0s\n[CV 2/2; 12/125] START C=0.001, gamma=1.0, kernel=rbf...........................\n[CV 2/2; 12/125] END C=0.001, gamma=1.0, kernel=rbf;, score=0.667 total time=   0.0s\n[CV 1/2; 13/125] START C=0.001, gamma=1.0, kernel=poly..........................\n[CV 1/2; 13/125] END C=0.001, gamma=1.0, kernel=poly;, score=0.333 total time=   0.0s\n[CV 2/2; 13/125] START C=0.001, gamma=1.0, kernel=poly..........................\n[CV 2/2; 13/125] END C=0.001, gamma=1.0, kernel=poly;, score=0.556 total time=   0.2s\n[CV 1/2; 14/125] START C=0.001, gamma=1.0, kernel=rbf...........................\n[CV 1/2; 14/125] END C=0.001, gamma=1.0, kernel=rbf;, score=0.667 total time=   0.0s\n[CV 2/2; 14/125] START C=0.001, gamma=1.0, kernel=rbf...........................\n[CV 2/2; 14/125] END C=0.001, gamma=1.0, kernel=rbf;, score=0.667 total time=   0.0s\n[CV 1/2; 15/125] START C=0.001, gamma=1.0, kernel=sigmoid.......................\n[CV 1/2; 15/125] END C=0.001, gamma=1.0, kernel=sigmoid;, score=0.667 total time=   0.0s\n[CV 2/2; 15/125] START C=0.001, gamma=1.0, kernel=sigmoid.......................\n[CV 2/2; 15/125] END C=0.001, gamma=1.0, kernel=sigmoid;, score=0.667 total time=   0.0s\n[CV 1/2; 16/125] START C=0.001, gamma=31.622776601683793, kernel=linear.........\n[CV 1/2; 16/125] END C=0.001, gamma=31.622776601683793, kernel=linear;, score=0.333 total time=   0.0s\n[CV 2/2; 16/125] START C=0.001, gamma=31.622776601683793, kernel=linear.........\n[CV 2/2; 16/125] END C=0.001, gamma=31.622776601683793, kernel=linear;, score=0.889 total time=   0.0s\n[CV 1/2; 17/125] START C=0.001, gamma=31.622776601683793, kernel=rbf............\n[CV 1/2; 17/125] END C=0.001, gamma=31.622776601683793, kernel=rbf;, score=0.667 total time=   0.0s\n[CV 2/2; 17/125] START C=0.001, gamma=31.622776601683793, kernel=rbf............\n[CV 2/2; 17/125] END C=0.001, gamma=31.622776601683793, kernel=rbf;, score=0.667 total time=   0.0s\n[CV 1/2; 18/125] START C=0.001, gamma=31.622776601683793, kernel=poly...........\n[CV 1/2; 18/125] END C=0.001, gamma=31.622776601683793, kernel=poly;, score=0.333 total time=   0.0s\n[CV 2/2; 18/125] START C=0.001, gamma=31.622776601683793, kernel=poly...........\n[CV 2/2; 18/125] END C=0.001, gamma=31.622776601683793, kernel=poly;, score=0.556 total time=   0.2s\n[CV 1/2; 19/125] START C=0.001, gamma=31.622776601683793, kernel=rbf............\n[CV 1/2; 19/125] END C=0.001, gamma=31.622776601683793, kernel=rbf;, score=0.667 total time=   0.0s\n[CV 2/2; 19/125] START C=0.001, gamma=31.622776601683793, kernel=rbf............\n[CV 2/2; 19/125] END C=0.001, gamma=31.622776601683793, kernel=rbf;, score=0.667 total time=   0.0s\n[CV 1/2; 20/125] START C=0.001, gamma=31.622776601683793, kernel=sigmoid........\n[CV 1/2; 20/125] END C=0.001, gamma=31.622776601683793, kernel=sigmoid;, score=0.667 total time=   0.0s\n[CV 2/2; 20/125] START C=0.001, gamma=31.622776601683793, kernel=sigmoid........\n[CV 2/2; 20/125] END C=0.001, gamma=31.622776601683793, kernel=sigmoid;, score=0.667 total time=   0.0s\n[CV 1/2; 21/125] START C=0.001, gamma=1000.0, kernel=linear.....................\n[CV 1/2; 21/125] END C=0.001, gamma=1000.0, kernel=linear;, score=0.333 total time=   0.0s\n[CV 2/2; 21/125] START C=0.001, gamma=1000.0, kernel=linear.....................\n[CV 2/2; 21/125] END C=0.001, gamma=1000.0, kernel=linear;, score=0.889 total time=   0.0s\n[CV 1/2; 22/125] START C=0.001, gamma=1000.0, kernel=rbf........................\n[CV 1/2; 22/125] END C=0.001, gamma=1000.0, kernel=rbf;, score=0.667 total time=   0.0s\n[CV 2/2; 22/125] START C=0.001, gamma=1000.0, kernel=rbf........................\n[CV 2/2; 22/125] END C=0.001, gamma=1000.0, kernel=rbf;, score=0.667 total time=   0.0s\n[CV 1/2; 23/125] START C=0.001, gamma=1000.0, kernel=poly.......................\n[CV 1/2; 23/125] END C=0.001, gamma=1000.0, kernel=poly;, score=0.333 total time=   0.0s\n[CV 2/2; 23/125] START C=0.001, gamma=1000.0, kernel=poly.......................\n[CV 2/2; 23/125] END C=0.001, gamma=1000.0, kernel=poly;, score=0.556 total time=   0.3s\n[CV 1/2; 24/125] START C=0.001, gamma=1000.0, kernel=rbf........................\n[CV 1/2; 24/125] END C=0.001, gamma=1000.0, kernel=rbf;, score=0.667 total time=   0.0s\n[CV 2/2; 24/125] START C=0.001, gamma=1000.0, kernel=rbf........................\n[CV 2/2; 24/125] END C=0.001, gamma=1000.0, kernel=rbf;, score=0.667 total time=   0.0s\n[CV 1/2; 25/125] START C=0.001, gamma=1000.0, kernel=sigmoid....................\n[CV 1/2; 25/125] END C=0.001, gamma=1000.0, kernel=sigmoid;, score=0.667 total time=   0.0s\n[CV 2/2; 25/125] START C=0.001, gamma=1000.0, kernel=sigmoid....................\n[CV 2/2; 25/125] END C=0.001, gamma=1000.0, kernel=sigmoid;, score=0.667 total time=   0.0s\n[CV 1/2; 26/125] START C=0.03162277660168379, gamma=0.001, kernel=linear........\n[CV 1/2; 26/125] END C=0.03162277660168379, gamma=0.001, kernel=linear;, score=0.333 total time=   0.0s\n[CV 2/2; 26/125] START C=0.03162277660168379, gamma=0.001, kernel=linear........\n[CV 2/2; 26/125] END C=0.03162277660168379, gamma=0.001, kernel=linear;, score=0.556 total time=   0.0s\n[CV 1/2; 27/125] START C=0.03162277660168379, gamma=0.001, kernel=rbf...........\n[CV 1/2; 27/125] END C=0.03162277660168379, gamma=0.001, kernel=rbf;, score=0.667 total time=   0.0s\n[CV 2/2; 27/125] START C=0.03162277660168379, gamma=0.001, kernel=rbf...........\n[CV 2/2; 27/125] END C=0.03162277660168379, gamma=0.001, kernel=rbf;, score=0.667 total time=   0.0s\n[CV 1/2; 28/125] START C=0.03162277660168379, gamma=0.001, kernel=poly..........\n[CV 1/2; 28/125] END C=0.03162277660168379, gamma=0.001, kernel=poly;, score=0.333 total time=   0.0s\n[CV 2/2; 28/125] START C=0.03162277660168379, gamma=0.001, kernel=poly..........\n[CV 2/2; 28/125] END C=0.03162277660168379, gamma=0.001, kernel=poly;, score=0.556 total time=   0.3s\n[CV 1/2; 29/125] START C=0.03162277660168379, gamma=0.001, kernel=rbf...........\n[CV 1/2; 29/125] END C=0.03162277660168379, gamma=0.001, kernel=rbf;, score=0.667 total time=   0.0s\n[CV 2/2; 29/125] START C=0.03162277660168379, gamma=0.001, kernel=rbf...........\n[CV 2/2; 29/125] END C=0.03162277660168379, gamma=0.001, kernel=rbf;, score=0.667 total time=   0.0s\n[CV 1/2; 30/125] START C=0.03162277660168379, gamma=0.001, kernel=sigmoid.......\n[CV 1/2; 30/125] END C=0.03162277660168379, gamma=0.001, kernel=sigmoid;, score=0.667 total time=   0.0s\n[CV 2/2; 30/125] START C=0.03162277660168379, gamma=0.001, kernel=sigmoid.......\n[CV 2/2; 30/125] END C=0.03162277660168379, gamma=0.001, kernel=sigmoid;, score=0.667 total time=   0.0s\n[CV 1/2; 31/125] START C=0.03162277660168379, gamma=0.03162277660168379, kernel=linear\n[CV 1/2; 31/125] END C=0.03162277660168379, gamma=0.03162277660168379, kernel=linear;, score=0.333 total time=   0.0s\n[CV 2/2; 31/125] START C=0.03162277660168379, gamma=0.03162277660168379, kernel=linear\n[CV 2/2; 31/125] END C=0.03162277660168379, gamma=0.03162277660168379, kernel=linear;, score=0.556 total time=   0.0s\n[CV 1/2; 32/125] START C=0.03162277660168379, gamma=0.03162277660168379, kernel=rbf\n[CV 1/2; 32/125] END C=0.03162277660168379, gamma=0.03162277660168379, kernel=rbf;, score=0.667 total time=   0.0s\n[CV 2/2; 32/125] START C=0.03162277660168379, gamma=0.03162277660168379, kernel=rbf\n[CV 2/2; 32/125] END C=0.03162277660168379, gamma=0.03162277660168379, kernel=rbf;, score=0.667 total time=   0.0s\n[CV 1/2; 33/125] START C=0.03162277660168379, gamma=0.03162277660168379, kernel=poly\n[CV 1/2; 33/125] END C=0.03162277660168379, gamma=0.03162277660168379, kernel=poly;, score=0.333 total time=   0.0s\n[CV 2/2; 33/125] START C=0.03162277660168379, gamma=0.03162277660168379, kernel=poly\n[CV 2/2; 33/125] END C=0.03162277660168379, gamma=0.03162277660168379, kernel=poly;, score=0.556 total time=   0.2s\n[CV 1/2; 34/125] START C=0.03162277660168379, gamma=0.03162277660168379, kernel=rbf\n[CV 1/2; 34/125] END C=0.03162277660168379, gamma=0.03162277660168379, kernel=rbf;, score=0.667 total time=   0.0s\n[CV 2/2; 34/125] START C=0.03162277660168379, gamma=0.03162277660168379, kernel=rbf\n[CV 2/2; 34/125] END C=0.03162277660168379, gamma=0.03162277660168379, kernel=rbf;, score=0.667 total time=   0.0s\n[CV 1/2; 35/125] START C=0.03162277660168379, gamma=0.03162277660168379, kernel=sigmoid\n[CV 1/2; 35/125] END C=0.03162277660168379, gamma=0.03162277660168379, kernel=sigmoid;, score=0.667 total time=   0.0s\n[CV 2/2; 35/125] START C=0.03162277660168379, gamma=0.03162277660168379, kernel=sigmoid\n[CV 2/2; 35/125] END C=0.03162277660168379, gamma=0.03162277660168379, kernel=sigmoid;, score=0.667 total time=   0.0s\n[CV 1/2; 36/125] START C=0.03162277660168379, gamma=1.0, kernel=linear..........\n[CV 1/2; 36/125] END C=0.03162277660168379, gamma=1.0, kernel=linear;, score=0.333 total time=   0.0s\n[CV 2/2; 36/125] START C=0.03162277660168379, gamma=1.0, kernel=linear..........\n[CV 2/2; 36/125] END C=0.03162277660168379, gamma=1.0, kernel=linear;, score=0.556 total time=   0.0s\n[CV 1/2; 37/125] START C=0.03162277660168379, gamma=1.0, kernel=rbf.............\n[CV 1/2; 37/125] END C=0.03162277660168379, gamma=1.0, kernel=rbf;, score=0.667 total time=   0.0s\n[CV 2/2; 37/125] START C=0.03162277660168379, gamma=1.0, kernel=rbf.............\n[CV 2/2; 37/125] END C=0.03162277660168379, gamma=1.0, kernel=rbf;, score=0.667 total time=   0.0s\n[CV 1/2; 38/125] START C=0.03162277660168379, gamma=1.0, kernel=poly............\n[CV 1/2; 38/125] END C=0.03162277660168379, gamma=1.0, kernel=poly;, score=0.333 total time=   0.0s\n[CV 2/2; 38/125] START C=0.03162277660168379, gamma=1.0, kernel=poly............\n[CV 2/2; 38/125] END C=0.03162277660168379, gamma=1.0, kernel=poly;, score=0.556 total time=   0.2s\n[CV 1/2; 39/125] START C=0.03162277660168379, gamma=1.0, kernel=rbf.............\n[CV 1/2; 39/125] END C=0.03162277660168379, gamma=1.0, kernel=rbf;, score=0.667 total time=   0.0s\n[CV 2/2; 39/125] START C=0.03162277660168379, gamma=1.0, kernel=rbf.............\n[CV 2/2; 39/125] END C=0.03162277660168379, gamma=1.0, kernel=rbf;, score=0.667 total time=   0.0s\n[CV 1/2; 40/125] START C=0.03162277660168379, gamma=1.0, kernel=sigmoid.........\n[CV 1/2; 40/125] END C=0.03162277660168379, gamma=1.0, kernel=sigmoid;, score=0.667 total time=   0.0s\n[CV 2/2; 40/125] START C=0.03162277660168379, gamma=1.0, kernel=sigmoid.........\n[CV 2/2; 40/125] END C=0.03162277660168379, gamma=1.0, kernel=sigmoid;, score=0.667 total time=   0.0s\n[CV 1/2; 41/125] START C=0.03162277660168379, gamma=31.622776601683793, kernel=linear\n[CV 1/2; 41/125] END C=0.03162277660168379, gamma=31.622776601683793, kernel=linear;, score=0.333 total time=   0.0s\n[CV 2/2; 41/125] START C=0.03162277660168379, gamma=31.622776601683793, kernel=linear\n[CV 2/2; 41/125] END C=0.03162277660168379, gamma=31.622776601683793, kernel=linear;, score=0.556 total time=   0.0s\n[CV 1/2; 42/125] START C=0.03162277660168379, gamma=31.622776601683793, kernel=rbf\n[CV 1/2; 42/125] END C=0.03162277660168379, gamma=31.622776601683793, kernel=rbf;, score=0.667 total time=   0.0s\n[CV 2/2; 42/125] START C=0.03162277660168379, gamma=31.622776601683793, kernel=rbf\n[CV 2/2; 42/125] END C=0.03162277660168379, gamma=31.622776601683793, kernel=rbf;, score=0.667 total time=   0.0s\n[CV 1/2; 43/125] START C=0.03162277660168379, gamma=31.622776601683793, kernel=poly\n[CV 1/2; 43/125] END C=0.03162277660168379, gamma=31.622776601683793, kernel=poly;, score=0.333 total time=   0.0s\n[CV 2/2; 43/125] START C=0.03162277660168379, gamma=31.622776601683793, kernel=poly\n[CV 2/2; 43/125] END C=0.03162277660168379, gamma=31.622776601683793, kernel=poly;, score=0.556 total time=   0.2s\n[CV 1/2; 44/125] START C=0.03162277660168379, gamma=31.622776601683793, kernel=rbf\n[CV 1/2; 44/125] END C=0.03162277660168379, gamma=31.622776601683793, kernel=rbf;, score=0.667 total time=   0.0s\n[CV 2/2; 44/125] START C=0.03162277660168379, gamma=31.622776601683793, kernel=rbf\n[CV 2/2; 44/125] END C=0.03162277660168379, gamma=31.622776601683793, kernel=rbf;, score=0.667 total time=   0.0s\n[CV 1/2; 45/125] START C=0.03162277660168379, gamma=31.622776601683793, kernel=sigmoid\n[CV 1/2; 45/125] END C=0.03162277660168379, gamma=31.622776601683793, kernel=sigmoid;, score=0.667 total time=   0.0s\n[CV 2/2; 45/125] START C=0.03162277660168379, gamma=31.622776601683793, kernel=sigmoid\n[CV 2/2; 45/125] END C=0.03162277660168379, gamma=31.622776601683793, kernel=sigmoid;, score=0.667 total time=   0.0s\n[CV 1/2; 46/125] START C=0.03162277660168379, gamma=1000.0, kernel=linear.......\n[CV 1/2; 46/125] END C=0.03162277660168379, gamma=1000.0, kernel=linear;, score=0.333 total time=   0.0s\n[CV 2/2; 46/125] START C=0.03162277660168379, gamma=1000.0, kernel=linear.......\n[CV 2/2; 46/125] END C=0.03162277660168379, gamma=1000.0, kernel=linear;, score=0.556 total time=   0.0s\n[CV 1/2; 47/125] START C=0.03162277660168379, gamma=1000.0, kernel=rbf..........\n[CV 1/2; 47/125] END C=0.03162277660168379, gamma=1000.0, kernel=rbf;, score=0.667 total time=   0.0s\n[CV 2/2; 47/125] START C=0.03162277660168379, gamma=1000.0, kernel=rbf..........\n[CV 2/2; 47/125] END C=0.03162277660168379, gamma=1000.0, kernel=rbf;, score=0.667 total time=   0.0s\n[CV 1/2; 48/125] START C=0.03162277660168379, gamma=1000.0, kernel=poly.........\n[CV 1/2; 48/125] END C=0.03162277660168379, gamma=1000.0, kernel=poly;, score=0.333 total time=   0.0s\n[CV 2/2; 48/125] START C=0.03162277660168379, gamma=1000.0, kernel=poly.........\n[CV 2/2; 48/125] END C=0.03162277660168379, gamma=1000.0, kernel=poly;, score=0.556 total time=   0.3s\n[CV 1/2; 49/125] START C=0.03162277660168379, gamma=1000.0, kernel=rbf..........\n[CV 1/2; 49/125] END C=0.03162277660168379, gamma=1000.0, kernel=rbf;, score=0.667 total time=   0.0s\n[CV 2/2; 49/125] START C=0.03162277660168379, gamma=1000.0, kernel=rbf..........\n[CV 2/2; 49/125] END C=0.03162277660168379, gamma=1000.0, kernel=rbf;, score=0.667 total time=   0.0s\n[CV 1/2; 50/125] START C=0.03162277660168379, gamma=1000.0, kernel=sigmoid......\n[CV 1/2; 50/125] END C=0.03162277660168379, gamma=1000.0, kernel=sigmoid;, score=0.667 total time=   0.0s\n[CV 2/2; 50/125] START C=0.03162277660168379, gamma=1000.0, kernel=sigmoid......\n[CV 2/2; 50/125] END C=0.03162277660168379, gamma=1000.0, kernel=sigmoid;, score=0.667 total time=   0.0s\n[CV 1/2; 51/125] START C=1.0, gamma=0.001, kernel=linear........................\n[CV 1/2; 51/125] END C=1.0, gamma=0.001, kernel=linear;, score=0.333 total time=   0.0s\n[CV 2/2; 51/125] START C=1.0, gamma=0.001, kernel=linear........................\n[CV 2/2; 51/125] END C=1.0, gamma=0.001, kernel=linear;, score=0.444 total time=   0.0s\n[CV 1/2; 52/125] START C=1.0, gamma=0.001, kernel=rbf...........................\n[CV 1/2; 52/125] END C=1.0, gamma=0.001, kernel=rbf;, score=0.667 total time=   0.0s\n[CV 2/2; 52/125] START C=1.0, gamma=0.001, kernel=rbf...........................\n[CV 2/2; 52/125] END C=1.0, gamma=0.001, kernel=rbf;, score=0.667 total time=   0.0s\n[CV 1/2; 53/125] START C=1.0, gamma=0.001, kernel=poly..........................\n[CV 1/2; 53/125] END C=1.0, gamma=0.001, kernel=poly;, score=0.333 total time=   0.0s\n[CV 2/2; 53/125] START C=1.0, gamma=0.001, kernel=poly..........................\n[CV 2/2; 53/125] END C=1.0, gamma=0.001, kernel=poly;, score=0.556 total time=   0.3s\n[CV 1/2; 54/125] START C=1.0, gamma=0.001, kernel=rbf...........................\n[CV 1/2; 54/125] END C=1.0, gamma=0.001, kernel=rbf;, score=0.667 total time=   0.0s\n[CV 2/2; 54/125] START C=1.0, gamma=0.001, kernel=rbf...........................\n[CV 2/2; 54/125] END C=1.0, gamma=0.001, kernel=rbf;, score=0.667 total time=   0.0s\n[CV 1/2; 55/125] START C=1.0, gamma=0.001, kernel=sigmoid.......................\n[CV 1/2; 55/125] END C=1.0, gamma=0.001, kernel=sigmoid;, score=0.667 total time=   0.0s\n[CV 2/2; 55/125] START C=1.0, gamma=0.001, kernel=sigmoid.......................\n[CV 2/2; 55/125] END C=1.0, gamma=0.001, kernel=sigmoid;, score=0.667 total time=   0.0s\n[CV 1/2; 56/125] START C=1.0, gamma=0.03162277660168379, kernel=linear..........\n[CV 1/2; 56/125] END C=1.0, gamma=0.03162277660168379, kernel=linear;, score=0.333 total time=   0.0s\n[CV 2/2; 56/125] START C=1.0, gamma=0.03162277660168379, kernel=linear..........\n[CV 2/2; 56/125] END C=1.0, gamma=0.03162277660168379, kernel=linear;, score=0.444 total time=   0.0s\n[CV 1/2; 57/125] START C=1.0, gamma=0.03162277660168379, kernel=rbf.............\n[CV 1/2; 57/125] END C=1.0, gamma=0.03162277660168379, kernel=rbf;, score=0.667 total time=   0.0s\n[CV 2/2; 57/125] START C=1.0, gamma=0.03162277660168379, kernel=rbf.............\n[CV 2/2; 57/125] END C=1.0, gamma=0.03162277660168379, kernel=rbf;, score=0.667 total time=   0.0s\n[CV 1/2; 58/125] START C=1.0, gamma=0.03162277660168379, kernel=poly............\n[CV 1/2; 58/125] END C=1.0, gamma=0.03162277660168379, kernel=poly;, score=0.333 total time=   0.0s\n[CV 2/2; 58/125] START C=1.0, gamma=0.03162277660168379, kernel=poly............\n[CV 2/2; 58/125] END C=1.0, gamma=0.03162277660168379, kernel=poly;, score=0.556 total time=   0.2s\n[CV 1/2; 59/125] START C=1.0, gamma=0.03162277660168379, kernel=rbf.............\n[CV 1/2; 59/125] END C=1.0, gamma=0.03162277660168379, kernel=rbf;, score=0.667 total time=   0.0s\n[CV 2/2; 59/125] START C=1.0, gamma=0.03162277660168379, kernel=rbf.............\n[CV 2/2; 59/125] END C=1.0, gamma=0.03162277660168379, kernel=rbf;, score=0.667 total time=   0.0s\n[CV 1/2; 60/125] START C=1.0, gamma=0.03162277660168379, kernel=sigmoid.........\n[CV 1/2; 60/125] END C=1.0, gamma=0.03162277660168379, kernel=sigmoid;, score=0.667 total time=   0.0s\n[CV 2/2; 60/125] START C=1.0, gamma=0.03162277660168379, kernel=sigmoid.........\n[CV 2/2; 60/125] END C=1.0, gamma=0.03162277660168379, kernel=sigmoid;, score=0.667 total time=   0.0s\n[CV 1/2; 61/125] START C=1.0, gamma=1.0, kernel=linear..........................\n[CV 1/2; 61/125] END C=1.0, gamma=1.0, kernel=linear;, score=0.333 total time=   0.0s\n[CV 2/2; 61/125] START C=1.0, gamma=1.0, kernel=linear..........................\n[CV 2/2; 61/125] END C=1.0, gamma=1.0, kernel=linear;, score=0.444 total time=   0.0s\n[CV 1/2; 62/125] START C=1.0, gamma=1.0, kernel=rbf.............................\n[CV 1/2; 62/125] END C=1.0, gamma=1.0, kernel=rbf;, score=0.667 total time=   0.0s\n[CV 2/2; 62/125] START C=1.0, gamma=1.0, kernel=rbf.............................\n[CV 2/2; 62/125] END C=1.0, gamma=1.0, kernel=rbf;, score=0.667 total time=   0.0s\n[CV 1/2; 63/125] START C=1.0, gamma=1.0, kernel=poly............................\n[CV 1/2; 63/125] END C=1.0, gamma=1.0, kernel=poly;, score=0.333 total time=   0.0s\n[CV 2/2; 63/125] START C=1.0, gamma=1.0, kernel=poly............................\n[CV 2/2; 63/125] END C=1.0, gamma=1.0, kernel=poly;, score=0.556 total time=   0.2s\n[CV 1/2; 64/125] START C=1.0, gamma=1.0, kernel=rbf.............................\n[CV 1/2; 64/125] END C=1.0, gamma=1.0, kernel=rbf;, score=0.667 total time=   0.0s\n[CV 2/2; 64/125] START C=1.0, gamma=1.0, kernel=rbf.............................\n[CV 2/2; 64/125] END C=1.0, gamma=1.0, kernel=rbf;, score=0.667 total time=   0.0s\n[CV 1/2; 65/125] START C=1.0, gamma=1.0, kernel=sigmoid.........................\n[CV 1/2; 65/125] END C=1.0, gamma=1.0, kernel=sigmoid;, score=0.667 total time=   0.0s\n[CV 2/2; 65/125] START C=1.0, gamma=1.0, kernel=sigmoid.........................\n[CV 2/2; 65/125] END C=1.0, gamma=1.0, kernel=sigmoid;, score=0.667 total time=   0.0s\n[CV 1/2; 66/125] START C=1.0, gamma=31.622776601683793, kernel=linear...........\n[CV 1/2; 66/125] END C=1.0, gamma=31.622776601683793, kernel=linear;, score=0.333 total time=   0.0s\n[CV 2/2; 66/125] START C=1.0, gamma=31.622776601683793, kernel=linear...........\n[CV 2/2; 66/125] END C=1.0, gamma=31.622776601683793, kernel=linear;, score=0.444 total time=   0.0s\n[CV 1/2; 67/125] START C=1.0, gamma=31.622776601683793, kernel=rbf..............\n[CV 1/2; 67/125] END C=1.0, gamma=31.622776601683793, kernel=rbf;, score=0.667 total time=   0.0s\n[CV 2/2; 67/125] START C=1.0, gamma=31.622776601683793, kernel=rbf..............\n[CV 2/2; 67/125] END C=1.0, gamma=31.622776601683793, kernel=rbf;, score=0.667 total time=   0.0s\n[CV 1/2; 68/125] START C=1.0, gamma=31.622776601683793, kernel=poly.............\n[CV 1/2; 68/125] END C=1.0, gamma=31.622776601683793, kernel=poly;, score=0.333 total time=   0.0s\n[CV 2/2; 68/125] START C=1.0, gamma=31.622776601683793, kernel=poly.............\n[CV 2/2; 68/125] END C=1.0, gamma=31.622776601683793, kernel=poly;, score=0.556 total time=   0.2s\n[CV 1/2; 69/125] START C=1.0, gamma=31.622776601683793, kernel=rbf..............\n[CV 1/2; 69/125] END C=1.0, gamma=31.622776601683793, kernel=rbf;, score=0.667 total time=   0.0s\n[CV 2/2; 69/125] START C=1.0, gamma=31.622776601683793, kernel=rbf..............\n[CV 2/2; 69/125] END C=1.0, gamma=31.622776601683793, kernel=rbf;, score=0.667 total time=   0.0s\n[CV 1/2; 70/125] START C=1.0, gamma=31.622776601683793, kernel=sigmoid..........\n[CV 1/2; 70/125] END C=1.0, gamma=31.622776601683793, kernel=sigmoid;, score=0.667 total time=   0.0s\n[CV 2/2; 70/125] START C=1.0, gamma=31.622776601683793, kernel=sigmoid..........\n[CV 2/2; 70/125] END C=1.0, gamma=31.622776601683793, kernel=sigmoid;, score=0.667 total time=   0.0s\n[CV 1/2; 71/125] START C=1.0, gamma=1000.0, kernel=linear.......................\n[CV 1/2; 71/125] END C=1.0, gamma=1000.0, kernel=linear;, score=0.333 total time=   0.0s\n[CV 2/2; 71/125] START C=1.0, gamma=1000.0, kernel=linear.......................\n[CV 2/2; 71/125] END C=1.0, gamma=1000.0, kernel=linear;, score=0.444 total time=   0.0s\n[CV 1/2; 72/125] START C=1.0, gamma=1000.0, kernel=rbf..........................\n[CV 1/2; 72/125] END C=1.0, gamma=1000.0, kernel=rbf;, score=0.667 total time=   0.0s\n[CV 2/2; 72/125] START C=1.0, gamma=1000.0, kernel=rbf..........................\n[CV 2/2; 72/125] END C=1.0, gamma=1000.0, kernel=rbf;, score=0.667 total time=   0.0s\n[CV 1/2; 73/125] START C=1.0, gamma=1000.0, kernel=poly.........................\n[CV 1/2; 73/125] END C=1.0, gamma=1000.0, kernel=poly;, score=0.333 total time=   0.0s\n[CV 2/2; 73/125] START C=1.0, gamma=1000.0, kernel=poly.........................\n[CV 2/2; 73/125] END C=1.0, gamma=1000.0, kernel=poly;, score=0.556 total time=   0.3s\n[CV 1/2; 74/125] START C=1.0, gamma=1000.0, kernel=rbf..........................\n[CV 1/2; 74/125] END C=1.0, gamma=1000.0, kernel=rbf;, score=0.667 total time=   0.0s\n[CV 2/2; 74/125] START C=1.0, gamma=1000.0, kernel=rbf..........................\n[CV 2/2; 74/125] END C=1.0, gamma=1000.0, kernel=rbf;, score=0.667 total time=   0.0s\n[CV 1/2; 75/125] START C=1.0, gamma=1000.0, kernel=sigmoid......................\n[CV 1/2; 75/125] END C=1.0, gamma=1000.0, kernel=sigmoid;, score=0.667 total time=   0.0s\n[CV 2/2; 75/125] START C=1.0, gamma=1000.0, kernel=sigmoid......................\n[CV 2/2; 75/125] END C=1.0, gamma=1000.0, kernel=sigmoid;, score=0.667 total time=   0.0s\n[CV 1/2; 76/125] START C=31.622776601683793, gamma=0.001, kernel=linear.........\n[CV 1/2; 76/125] END C=31.622776601683793, gamma=0.001, kernel=linear;, score=0.333 total time=   0.0s\n[CV 2/2; 76/125] START C=31.622776601683793, gamma=0.001, kernel=linear.........\n[CV 2/2; 76/125] END C=31.622776601683793, gamma=0.001, kernel=linear;, score=0.444 total time=   0.0s\n[CV 1/2; 77/125] START C=31.622776601683793, gamma=0.001, kernel=rbf............\n[CV 1/2; 77/125] END C=31.622776601683793, gamma=0.001, kernel=rbf;, score=0.667 total time=   0.0s\n[CV 2/2; 77/125] START C=31.622776601683793, gamma=0.001, kernel=rbf............\n[CV 2/2; 77/125] END C=31.622776601683793, gamma=0.001, kernel=rbf;, score=0.667 total time=   0.0s\n[CV 1/2; 78/125] START C=31.622776601683793, gamma=0.001, kernel=poly...........\n[CV 1/2; 78/125] END C=31.622776601683793, gamma=0.001, kernel=poly;, score=0.333 total time=   0.0s\n[CV 2/2; 78/125] START C=31.622776601683793, gamma=0.001, kernel=poly...........\n[CV 2/2; 78/125] END C=31.622776601683793, gamma=0.001, kernel=poly;, score=0.556 total time=   0.3s\n[CV 1/2; 79/125] START C=31.622776601683793, gamma=0.001, kernel=rbf............\n[CV 1/2; 79/125] END C=31.622776601683793, gamma=0.001, kernel=rbf;, score=0.667 total time=   0.0s\n[CV 2/2; 79/125] START C=31.622776601683793, gamma=0.001, kernel=rbf............\n[CV 2/2; 79/125] END C=31.622776601683793, gamma=0.001, kernel=rbf;, score=0.667 total time=   0.0s\n[CV 1/2; 80/125] START C=31.622776601683793, gamma=0.001, kernel=sigmoid........\n[CV 1/2; 80/125] END C=31.622776601683793, gamma=0.001, kernel=sigmoid;, score=0.667 total time=   0.0s\n[CV 2/2; 80/125] START C=31.622776601683793, gamma=0.001, kernel=sigmoid........\n[CV 2/2; 80/125] END C=31.622776601683793, gamma=0.001, kernel=sigmoid;, score=0.667 total time=   0.0s\n[CV 1/2; 81/125] START C=31.622776601683793, gamma=0.03162277660168379, kernel=linear\n[CV 1/2; 81/125] END C=31.622776601683793, gamma=0.03162277660168379, kernel=linear;, score=0.333 total time=   0.0s\n[CV 2/2; 81/125] START C=31.622776601683793, gamma=0.03162277660168379, kernel=linear\n[CV 2/2; 81/125] END C=31.622776601683793, gamma=0.03162277660168379, kernel=linear;, score=0.444 total time=   0.0s\n[CV 1/2; 82/125] START C=31.622776601683793, gamma=0.03162277660168379, kernel=rbf\n[CV 1/2; 82/125] END C=31.622776601683793, gamma=0.03162277660168379, kernel=rbf;, score=0.667 total time=   0.0s\n[CV 2/2; 82/125] START C=31.622776601683793, gamma=0.03162277660168379, kernel=rbf\n[CV 2/2; 82/125] END C=31.622776601683793, gamma=0.03162277660168379, kernel=rbf;, score=0.667 total time=   0.0s\n[CV 1/2; 83/125] START C=31.622776601683793, gamma=0.03162277660168379, kernel=poly\n[CV 1/2; 83/125] END C=31.622776601683793, gamma=0.03162277660168379, kernel=poly;, score=0.333 total time=   0.0s\n[CV 2/2; 83/125] START C=31.622776601683793, gamma=0.03162277660168379, kernel=poly\n[CV 2/2; 83/125] END C=31.622776601683793, gamma=0.03162277660168379, kernel=poly;, score=0.556 total time=   0.2s\n[CV 1/2; 84/125] START C=31.622776601683793, gamma=0.03162277660168379, kernel=rbf\n[CV 1/2; 84/125] END C=31.622776601683793, gamma=0.03162277660168379, kernel=rbf;, score=0.667 total time=   0.0s\n[CV 2/2; 84/125] START C=31.622776601683793, gamma=0.03162277660168379, kernel=rbf\n[CV 2/2; 84/125] END C=31.622776601683793, gamma=0.03162277660168379, kernel=rbf;, score=0.667 total time=   0.0s\n[CV 1/2; 85/125] START C=31.622776601683793, gamma=0.03162277660168379, kernel=sigmoid\n[CV 1/2; 85/125] END C=31.622776601683793, gamma=0.03162277660168379, kernel=sigmoid;, score=0.667 total time=   0.0s\n[CV 2/2; 85/125] START C=31.622776601683793, gamma=0.03162277660168379, kernel=sigmoid\n[CV 2/2; 85/125] END C=31.622776601683793, gamma=0.03162277660168379, kernel=sigmoid;, score=0.667 total time=   0.0s\n[CV 1/2; 86/125] START C=31.622776601683793, gamma=1.0, kernel=linear...........\n[CV 1/2; 86/125] END C=31.622776601683793, gamma=1.0, kernel=linear;, score=0.333 total time=   0.0s\n[CV 2/2; 86/125] START C=31.622776601683793, gamma=1.0, kernel=linear...........\n[CV 2/2; 86/125] END C=31.622776601683793, gamma=1.0, kernel=linear;, score=0.444 total time=   0.0s\n[CV 1/2; 87/125] START C=31.622776601683793, gamma=1.0, kernel=rbf..............\n[CV 1/2; 87/125] END C=31.622776601683793, gamma=1.0, kernel=rbf;, score=0.667 total time=   0.0s\n[CV 2/2; 87/125] START C=31.622776601683793, gamma=1.0, kernel=rbf..............\n[CV 2/2; 87/125] END C=31.622776601683793, gamma=1.0, kernel=rbf;, score=0.667 total time=   0.0s\n[CV 1/2; 88/125] START C=31.622776601683793, gamma=1.0, kernel=poly.............\n[CV 1/2; 88/125] END C=31.622776601683793, gamma=1.0, kernel=poly;, score=0.333 total time=   0.0s\n[CV 2/2; 88/125] START C=31.622776601683793, gamma=1.0, kernel=poly.............\n[CV 2/2; 88/125] END C=31.622776601683793, gamma=1.0, kernel=poly;, score=0.556 total time=   0.2s\n[CV 1/2; 89/125] START C=31.622776601683793, gamma=1.0, kernel=rbf..............\n[CV 1/2; 89/125] END C=31.622776601683793, gamma=1.0, kernel=rbf;, score=0.667 total time=   0.0s\n[CV 2/2; 89/125] START C=31.622776601683793, gamma=1.0, kernel=rbf..............\n[CV 2/2; 89/125] END C=31.622776601683793, gamma=1.0, kernel=rbf;, score=0.667 total time=   0.0s\n[CV 1/2; 90/125] START C=31.622776601683793, gamma=1.0, kernel=sigmoid..........\n[CV 1/2; 90/125] END C=31.622776601683793, gamma=1.0, kernel=sigmoid;, score=0.667 total time=   0.0s\n[CV 2/2; 90/125] START C=31.622776601683793, gamma=1.0, kernel=sigmoid..........\n[CV 2/2; 90/125] END C=31.622776601683793, gamma=1.0, kernel=sigmoid;, score=0.667 total time=   0.0s\n[CV 1/2; 91/125] START C=31.622776601683793, gamma=31.622776601683793, kernel=linear\n[CV 1/2; 91/125] END C=31.622776601683793, gamma=31.622776601683793, kernel=linear;, score=0.333 total time=   0.0s\n[CV 2/2; 91/125] START C=31.622776601683793, gamma=31.622776601683793, kernel=linear\n[CV 2/2; 91/125] END C=31.622776601683793, gamma=31.622776601683793, kernel=linear;, score=0.444 total time=   0.0s\n[CV 1/2; 92/125] START C=31.622776601683793, gamma=31.622776601683793, kernel=rbf\n[CV 1/2; 92/125] END C=31.622776601683793, gamma=31.622776601683793, kernel=rbf;, score=0.667 total time=   0.0s\n[CV 2/2; 92/125] START C=31.622776601683793, gamma=31.622776601683793, kernel=rbf\n[CV 2/2; 92/125] END C=31.622776601683793, gamma=31.622776601683793, kernel=rbf;, score=0.667 total time=   0.0s\n[CV 1/2; 93/125] START C=31.622776601683793, gamma=31.622776601683793, kernel=poly\n[CV 1/2; 93/125] END C=31.622776601683793, gamma=31.622776601683793, kernel=poly;, score=0.333 total time=   0.0s\n[CV 2/2; 93/125] START C=31.622776601683793, gamma=31.622776601683793, kernel=poly\n[CV 2/2; 93/125] END C=31.622776601683793, gamma=31.622776601683793, kernel=poly;, score=0.556 total time=   0.2s\n[CV 1/2; 94/125] START C=31.622776601683793, gamma=31.622776601683793, kernel=rbf\n[CV 1/2; 94/125] END C=31.622776601683793, gamma=31.622776601683793, kernel=rbf;, score=0.667 total time=   0.0s\n[CV 2/2; 94/125] START C=31.622776601683793, gamma=31.622776601683793, kernel=rbf\n[CV 2/2; 94/125] END C=31.622776601683793, gamma=31.622776601683793, kernel=rbf;, score=0.667 total time=   0.0s\n[CV 1/2; 95/125] START C=31.622776601683793, gamma=31.622776601683793, kernel=sigmoid\n[CV 1/2; 95/125] END C=31.622776601683793, gamma=31.622776601683793, kernel=sigmoid;, score=0.667 total time=   0.0s\n[CV 2/2; 95/125] START C=31.622776601683793, gamma=31.622776601683793, kernel=sigmoid\n[CV 2/2; 95/125] END C=31.622776601683793, gamma=31.622776601683793, kernel=sigmoid;, score=0.667 total time=   0.0s\n[CV 1/2; 96/125] START C=31.622776601683793, gamma=1000.0, kernel=linear........\n[CV 1/2; 96/125] END C=31.622776601683793, gamma=1000.0, kernel=linear;, score=0.333 total time=   0.0s\n[CV 2/2; 96/125] START C=31.622776601683793, gamma=1000.0, kernel=linear........\n[CV 2/2; 96/125] END C=31.622776601683793, gamma=1000.0, kernel=linear;, score=0.444 total time=   0.0s\n[CV 1/2; 97/125] START C=31.622776601683793, gamma=1000.0, kernel=rbf...........\n[CV 1/2; 97/125] END C=31.622776601683793, gamma=1000.0, kernel=rbf;, score=0.667 total time=   0.0s\n[CV 2/2; 97/125] START C=31.622776601683793, gamma=1000.0, kernel=rbf...........\n[CV 2/2; 97/125] END C=31.622776601683793, gamma=1000.0, kernel=rbf;, score=0.667 total time=   0.0s\n[CV 1/2; 98/125] START C=31.622776601683793, gamma=1000.0, kernel=poly..........\n[CV 1/2; 98/125] END C=31.622776601683793, gamma=1000.0, kernel=poly;, score=0.333 total time=   0.0s\n[CV 2/2; 98/125] START C=31.622776601683793, gamma=1000.0, kernel=poly..........\n[CV 2/2; 98/125] END C=31.622776601683793, gamma=1000.0, kernel=poly;, score=0.556 total time=   0.3s\n[CV 1/2; 99/125] START C=31.622776601683793, gamma=1000.0, kernel=rbf...........\n[CV 1/2; 99/125] END C=31.622776601683793, gamma=1000.0, kernel=rbf;, score=0.667 total time=   0.0s\n[CV 2/2; 99/125] START C=31.622776601683793, gamma=1000.0, kernel=rbf...........\n[CV 2/2; 99/125] END C=31.622776601683793, gamma=1000.0, kernel=rbf;, score=0.667 total time=   0.0s\n[CV 1/2; 100/125] START C=31.622776601683793, gamma=1000.0, kernel=sigmoid......\n[CV 1/2; 100/125] END C=31.622776601683793, gamma=1000.0, kernel=sigmoid;, score=0.667 total time=   0.0s\n[CV 2/2; 100/125] START C=31.622776601683793, gamma=1000.0, kernel=sigmoid......\n[CV 2/2; 100/125] END C=31.622776601683793, gamma=1000.0, kernel=sigmoid;, score=0.667 total time=   0.0s\n[CV 1/2; 101/125] START C=1000.0, gamma=0.001, kernel=linear....................\n[CV 1/2; 101/125] END C=1000.0, gamma=0.001, kernel=linear;, score=0.333 total time=   0.0s\n[CV 2/2; 101/125] START C=1000.0, gamma=0.001, kernel=linear....................\n[CV 2/2; 101/125] END C=1000.0, gamma=0.001, kernel=linear;, score=0.444 total time=   0.0s\n[CV 1/2; 102/125] START C=1000.0, gamma=0.001, kernel=rbf.......................\n[CV 1/2; 102/125] END C=1000.0, gamma=0.001, kernel=rbf;, score=0.667 total time=   0.0s\n[CV 2/2; 102/125] START C=1000.0, gamma=0.001, kernel=rbf.......................\n[CV 2/2; 102/125] END C=1000.0, gamma=0.001, kernel=rbf;, score=0.667 total time=   0.0s\n[CV 1/2; 103/125] START C=1000.0, gamma=0.001, kernel=poly......................\n[CV 1/2; 103/125] END C=1000.0, gamma=0.001, kernel=poly;, score=0.333 total time=   0.0s\n[CV 2/2; 103/125] START C=1000.0, gamma=0.001, kernel=poly......................\n[CV 2/2; 103/125] END C=1000.0, gamma=0.001, kernel=poly;, score=0.556 total time=   0.3s\n[CV 1/2; 104/125] START C=1000.0, gamma=0.001, kernel=rbf.......................\n[CV 1/2; 104/125] END C=1000.0, gamma=0.001, kernel=rbf;, score=0.667 total time=   0.0s\n[CV 2/2; 104/125] START C=1000.0, gamma=0.001, kernel=rbf.......................\n[CV 2/2; 104/125] END C=1000.0, gamma=0.001, kernel=rbf;, score=0.667 total time=   0.0s\n[CV 1/2; 105/125] START C=1000.0, gamma=0.001, kernel=sigmoid...................\n[CV 1/2; 105/125] END C=1000.0, gamma=0.001, kernel=sigmoid;, score=0.667 total time=   0.0s\n[CV 2/2; 105/125] START C=1000.0, gamma=0.001, kernel=sigmoid...................\n[CV 2/2; 105/125] END C=1000.0, gamma=0.001, kernel=sigmoid;, score=0.667 total time=   0.0s\n[CV 1/2; 106/125] START C=1000.0, gamma=0.03162277660168379, kernel=linear......\n[CV 1/2; 106/125] END C=1000.0, gamma=0.03162277660168379, kernel=linear;, score=0.333 total time=   0.0s\n[CV 2/2; 106/125] START C=1000.0, gamma=0.03162277660168379, kernel=linear......\n[CV 2/2; 106/125] END C=1000.0, gamma=0.03162277660168379, kernel=linear;, score=0.444 total time=   0.0s\n[CV 1/2; 107/125] START C=1000.0, gamma=0.03162277660168379, kernel=rbf.........\n[CV 1/2; 107/125] END C=1000.0, gamma=0.03162277660168379, kernel=rbf;, score=0.667 total time=   0.0s\n[CV 2/2; 107/125] START C=1000.0, gamma=0.03162277660168379, kernel=rbf.........\n[CV 2/2; 107/125] END C=1000.0, gamma=0.03162277660168379, kernel=rbf;, score=0.667 total time=   0.0s\n[CV 1/2; 108/125] START C=1000.0, gamma=0.03162277660168379, kernel=poly........\n[CV 1/2; 108/125] END C=1000.0, gamma=0.03162277660168379, kernel=poly;, score=0.333 total time=   0.0s\n[CV 2/2; 108/125] START C=1000.0, gamma=0.03162277660168379, kernel=poly........\n[CV 2/2; 108/125] END C=1000.0, gamma=0.03162277660168379, kernel=poly;, score=0.556 total time=   0.2s\n[CV 1/2; 109/125] START C=1000.0, gamma=0.03162277660168379, kernel=rbf.........\n[CV 1/2; 109/125] END C=1000.0, gamma=0.03162277660168379, kernel=rbf;, score=0.667 total time=   0.0s\n[CV 2/2; 109/125] START C=1000.0, gamma=0.03162277660168379, kernel=rbf.........\n[CV 2/2; 109/125] END C=1000.0, gamma=0.03162277660168379, kernel=rbf;, score=0.667 total time=   0.0s\n[CV 1/2; 110/125] START C=1000.0, gamma=0.03162277660168379, kernel=sigmoid.....\n[CV 1/2; 110/125] END C=1000.0, gamma=0.03162277660168379, kernel=sigmoid;, score=0.667 total time=   0.0s\n[CV 2/2; 110/125] START C=1000.0, gamma=0.03162277660168379, kernel=sigmoid.....\n[CV 2/2; 110/125] END C=1000.0, gamma=0.03162277660168379, kernel=sigmoid;, score=0.667 total time=   0.0s\n[CV 1/2; 111/125] START C=1000.0, gamma=1.0, kernel=linear......................\n[CV 1/2; 111/125] END C=1000.0, gamma=1.0, kernel=linear;, score=0.333 total time=   0.0s\n[CV 2/2; 111/125] START C=1000.0, gamma=1.0, kernel=linear......................\n[CV 2/2; 111/125] END C=1000.0, gamma=1.0, kernel=linear;, score=0.444 total time=   0.0s\n[CV 1/2; 112/125] START C=1000.0, gamma=1.0, kernel=rbf.........................\n[CV 1/2; 112/125] END C=1000.0, gamma=1.0, kernel=rbf;, score=0.667 total time=   0.0s\n[CV 2/2; 112/125] START C=1000.0, gamma=1.0, kernel=rbf.........................\n[CV 2/2; 112/125] END C=1000.0, gamma=1.0, kernel=rbf;, score=0.667 total time=   0.0s\n[CV 1/2; 113/125] START C=1000.0, gamma=1.0, kernel=poly........................\n[CV 1/2; 113/125] END C=1000.0, gamma=1.0, kernel=poly;, score=0.333 total time=   0.0s\n[CV 2/2; 113/125] START C=1000.0, gamma=1.0, kernel=poly........................\n[CV 2/2; 113/125] END C=1000.0, gamma=1.0, kernel=poly;, score=0.556 total time=   0.2s\n[CV 1/2; 114/125] START C=1000.0, gamma=1.0, kernel=rbf.........................\n[CV 1/2; 114/125] END C=1000.0, gamma=1.0, kernel=rbf;, score=0.667 total time=   0.0s\n[CV 2/2; 114/125] START C=1000.0, gamma=1.0, kernel=rbf.........................\n[CV 2/2; 114/125] END C=1000.0, gamma=1.0, kernel=rbf;, score=0.667 total time=   0.0s\n[CV 1/2; 115/125] START C=1000.0, gamma=1.0, kernel=sigmoid.....................\n[CV 1/2; 115/125] END C=1000.0, gamma=1.0, kernel=sigmoid;, score=0.667 total time=   0.0s\n[CV 2/2; 115/125] START C=1000.0, gamma=1.0, kernel=sigmoid.....................\n[CV 2/2; 115/125] END C=1000.0, gamma=1.0, kernel=sigmoid;, score=0.667 total time=   0.0s\n[CV 1/2; 116/125] START C=1000.0, gamma=31.622776601683793, kernel=linear.......\n[CV 1/2; 116/125] END C=1000.0, gamma=31.622776601683793, kernel=linear;, score=0.333 total time=   0.0s\n[CV 2/2; 116/125] START C=1000.0, gamma=31.622776601683793, kernel=linear.......\n[CV 2/2; 116/125] END C=1000.0, gamma=31.622776601683793, kernel=linear;, score=0.444 total time=   0.0s\n[CV 1/2; 117/125] START C=1000.0, gamma=31.622776601683793, kernel=rbf..........\n[CV 1/2; 117/125] END C=1000.0, gamma=31.622776601683793, kernel=rbf;, score=0.667 total time=   0.0s\n[CV 2/2; 117/125] START C=1000.0, gamma=31.622776601683793, kernel=rbf..........\n[CV 2/2; 117/125] END C=1000.0, gamma=31.622776601683793, kernel=rbf;, score=0.667 total time=   0.0s\n[CV 1/2; 118/125] START C=1000.0, gamma=31.622776601683793, kernel=poly.........\n[CV 1/2; 118/125] END C=1000.0, gamma=31.622776601683793, kernel=poly;, score=0.333 total time=   0.0s\n[CV 2/2; 118/125] START C=1000.0, gamma=31.622776601683793, kernel=poly.........\n[CV 2/2; 118/125] END C=1000.0, gamma=31.622776601683793, kernel=poly;, score=0.556 total time=   0.2s\n[CV 1/2; 119/125] START C=1000.0, gamma=31.622776601683793, kernel=rbf..........\n[CV 1/2; 119/125] END C=1000.0, gamma=31.622776601683793, kernel=rbf;, score=0.667 total time=   0.0s\n[CV 2/2; 119/125] START C=1000.0, gamma=31.622776601683793, kernel=rbf..........\n[CV 2/2; 119/125] END C=1000.0, gamma=31.622776601683793, kernel=rbf;, score=0.667 total time=   0.0s\n[CV 1/2; 120/125] START C=1000.0, gamma=31.622776601683793, kernel=sigmoid......\n[CV 1/2; 120/125] END C=1000.0, gamma=31.622776601683793, kernel=sigmoid;, score=0.667 total time=   0.0s\n[CV 2/2; 120/125] START C=1000.0, gamma=31.622776601683793, kernel=sigmoid......\n[CV 2/2; 120/125] END C=1000.0, gamma=31.622776601683793, kernel=sigmoid;, score=0.667 total time=   0.0s\n[CV 1/2; 121/125] START C=1000.0, gamma=1000.0, kernel=linear...................\n[CV 1/2; 121/125] END C=1000.0, gamma=1000.0, kernel=linear;, score=0.333 total time=   0.0s\n[CV 2/2; 121/125] START C=1000.0, gamma=1000.0, kernel=linear...................\n[CV 2/2; 121/125] END C=1000.0, gamma=1000.0, kernel=linear;, score=0.444 total time=   0.0s\n[CV 1/2; 122/125] START C=1000.0, gamma=1000.0, kernel=rbf......................\n[CV 1/2; 122/125] END C=1000.0, gamma=1000.0, kernel=rbf;, score=0.667 total time=   0.0s\n[CV 2/2; 122/125] START C=1000.0, gamma=1000.0, kernel=rbf......................\n[CV 2/2; 122/125] END C=1000.0, gamma=1000.0, kernel=rbf;, score=0.667 total time=   0.0s\n[CV 1/2; 123/125] START C=1000.0, gamma=1000.0, kernel=poly.....................\n[CV 1/2; 123/125] END C=1000.0, gamma=1000.0, kernel=poly;, score=0.333 total time=   0.0s\n[CV 2/2; 123/125] START C=1000.0, gamma=1000.0, kernel=poly.....................\n[CV 2/2; 123/125] END C=1000.0, gamma=1000.0, kernel=poly;, score=0.556 total time=   0.3s\n[CV 1/2; 124/125] START C=1000.0, gamma=1000.0, kernel=rbf......................\n[CV 1/2; 124/125] END C=1000.0, gamma=1000.0, kernel=rbf;, score=0.667 total time=   0.0s\n[CV 2/2; 124/125] START C=1000.0, gamma=1000.0, kernel=rbf......................\n[CV 2/2; 124/125] END C=1000.0, gamma=1000.0, kernel=rbf;, score=0.667 total time=   0.0s\n[CV 1/2; 125/125] START C=1000.0, gamma=1000.0, kernel=sigmoid..................\n[CV 1/2; 125/125] END C=1000.0, gamma=1000.0, kernel=sigmoid;, score=0.667 total time=   0.0s\n[CV 2/2; 125/125] START C=1000.0, gamma=1000.0, kernel=sigmoid..................\n[CV 2/2; 125/125] END C=1000.0, gamma=1000.0, kernel=sigmoid;, score=0.667 total time=   0.0s\nDone training.\n",
          "output_type": "stream"
        }
      ]
    },
    {
      "cell_type": "code",
      "source": "print(\"tuned hpyerparameters :(best parameters) \",svm_cv.best_params_)\nprint(\"accuracy :\",svm_cv.best_score_)",
      "metadata": {
        "trusted": true
      },
      "execution_count": 19,
      "outputs": [
        {
          "name": "stdout",
          "text": "tuned hpyerparameters :(best parameters)  {'C': 0.001, 'gamma': 0.001, 'kernel': 'rbf'}\naccuracy : 0.6666666666666666\n",
          "output_type": "stream"
        }
      ]
    },
    {
      "cell_type": "markdown",
      "source": "## TASK  7\n",
      "metadata": {}
    },
    {
      "cell_type": "markdown",
      "source": "Calculate the accuracy on the test data using the method <code>score</code>:\n",
      "metadata": {}
    },
    {
      "cell_type": "code",
      "source": "scr_svm = svm_cv.score(X_test, Y_test)\nscr_svm",
      "metadata": {
        "trusted": true
      },
      "execution_count": 20,
      "outputs": [
        {
          "execution_count": 20,
          "output_type": "execute_result",
          "data": {
            "text/plain": "0.6666666666666666"
          },
          "metadata": {}
        }
      ]
    },
    {
      "cell_type": "markdown",
      "source": "We can plot the confusion matrix\n",
      "metadata": {}
    },
    {
      "cell_type": "code",
      "source": "yhat=svm_cv.predict(X_test)\nplot_confusion_matrix(Y_test,yhat)",
      "metadata": {
        "trusted": true
      },
      "execution_count": 21,
      "outputs": [
        {
          "output_type": "display_data",
          "data": {
            "text/plain": "<Figure size 640x480 with 2 Axes>",
            "image/png": "[encoded data removed]"
          },
          "metadata": {}
        }
      ]
    },
    {
      "cell_type": "markdown",
      "source": "## TASK  8\n",
      "metadata": {}
    },
    {
      "cell_type": "markdown",
      "source": "Create a decision tree classifier object then  create a  <code>GridSearchCV</code> object  <code>tree_cv</code> with cv = 10.  Fit the object to find the best parameters from the dictionary <code>parameters</code>.\n",
      "metadata": {}
    },
    {
      "cell_type": "code",
      "source": "parameters = {'criterion': ['gini', 'entropy'],\n     'splitter': ['best', 'random'],\n     'max_depth': [2*n for n in range(1,10)],\n     'max_features': ['auto', 'sqrt'],\n     'min_samples_leaf': [1, 2, 4],\n     'min_samples_split': [2, 5, 10]}\n\ntree = DecisionTreeClassifier()",
      "metadata": {
        "trusted": true
      },
      "execution_count": 22,
      "outputs": []
    },
    {
      "cell_type": "code",
      "source": "tree_cv = GridSearchCV(tree, parameters, cv=2, verbose=10)\n# cv=10 takes for ever can't actually run with 10 so changed to 2...\nprint('Training (fitting) ...')\ntree_cv.fit(X_train, Y_train)\nprint('Done training.')",
      "metadata": {
        "trusted": true
      },
      "execution_count": 23,
      "outputs": [
        {
          "name": "stdout",
          "text": "Training (fitting) ...\nFitting 2 folds for each of 648 candidates, totalling 1296 fits\n[CV 1/2; 1/648] START criterion=gini, max_depth=2, max_features=auto, min_samples_leaf=1, min_samples_split=2, splitter=best\n",
          "output_type": "stream"
        },
        {
          "name": "stderr",
          "text": "/lib/python3.11/site-packages/sklearn/tree/_classes.py:269: FutureWarning: `max_features='auto'` has been deprecated in 1.1 and will be removed in 1.3. To keep the past behaviour, explicitly set `max_features='sqrt'`.\n  warnings.warn(\n",
          "output_type": "stream"
        },
        {
          "name": "stdout",
          "text": "[CV 1/2; 1/648] END criterion=gini, max_depth=2, max_features=auto, min_samples_leaf=1, min_samples_split=2, splitter=best;, score=0.611 total time=   0.0s\n[CV 2/2; 1/648] START criterion=gini, max_depth=2, max_features=auto, min_samples_leaf=1, min_samples_split=2, splitter=best\n",
          "output_type": "stream"
        },
        {
          "name": "stderr",
          "text": "/lib/python3.11/site-packages/sklearn/tree/_classes.py:269: FutureWarning: `max_features='auto'` has been deprecated in 1.1 and will be removed in 1.3. To keep the past behaviour, explicitly set `max_features='sqrt'`.\n  warnings.warn(\n",
          "output_type": "stream"
        },
        {
          "name": "stdout",
          "text": "[CV 2/2; 1/648] END criterion=gini, max_depth=2, max_features=auto, min_samples_leaf=1, min_samples_split=2, splitter=best;, score=0.778 total time=   0.0s\n[CV 1/2; 2/648] START criterion=gini, max_depth=2, max_features=auto, min_samples_leaf=1, min_samples_split=2, splitter=random\n",
          "output_type": "stream"
        },
        {
          "name": "stderr",
          "text": "/lib/python3.11/site-packages/sklearn/tree/_classes.py:269: FutureWarning: `max_features='auto'` has been deprecated in 1.1 and will be removed in 1.3. To keep the past behaviour, explicitly set `max_features='sqrt'`.\n  warnings.warn(\n",
          "output_type": "stream"
        },
        {
          "name": "stdout",
          "text": "[CV 1/2; 2/648] END criterion=gini, max_depth=2, max_features=auto, min_samples_leaf=1, min_samples_split=2, splitter=random;, score=0.861 total time=   0.0s\n[CV 2/2; 2/648] START criterion=gini, max_depth=2, max_features=auto, min_samples_leaf=1, min_samples_split=2, splitter=random\n",
          "output_type": "stream"
        },
        {
          "name": "stderr",
          "text": "/lib/python3.11/site-packages/sklearn/tree/_classes.py:269: FutureWarning: `max_features='auto'` has been deprecated in 1.1 and will be removed in 1.3. To keep the past behaviour, explicitly set `max_features='sqrt'`.\n  warnings.warn(\n",
          "output_type": "stream"
        },
        {
          "name": "stdout",
          "text": "[CV 2/2; 2/648] END criterion=gini, max_depth=2, max_features=auto, min_samples_leaf=1, min_samples_split=2, splitter=random;, score=0.389 total time=   0.0s\n[CV 1/2; 3/648] START criterion=gini, max_depth=2, max_features=auto, min_samples_leaf=1, min_samples_split=5, splitter=best\n",
          "output_type": "stream"
        },
        {
          "name": "stderr",
          "text": "/lib/python3.11/site-packages/sklearn/tree/_classes.py:269: FutureWarning: `max_features='auto'` has been deprecated in 1.1 and will be removed in 1.3. To keep the past behaviour, explicitly set `max_features='sqrt'`.\n  warnings.warn(\n",
          "output_type": "stream"
        },
        {
          "name": "stdout",
          "text": "[CV 1/2; 3/648] END criterion=gini, max_depth=2, max_features=auto, min_samples_leaf=1, min_samples_split=5, splitter=best;, score=0.861 total time=   0.0s\n[CV 2/2; 3/648] START criterion=gini, max_depth=2, max_features=auto, min_samples_leaf=1, min_samples_split=5, splitter=best\n",
          "output_type": "stream"
        },
        {
          "name": "stderr",
          "text": "/lib/python3.11/site-packages/sklearn/tree/_classes.py:269: FutureWarning: `max_features='auto'` has been deprecated in 1.1 and will be removed in 1.3. To keep the past behaviour, explicitly set `max_features='sqrt'`.\n  warnings.warn(\n",
          "output_type": "stream"
        },
        {
          "name": "stdout",
          "text": "[CV 2/2; 3/648] END criterion=gini, max_depth=2, max_features=auto, min_samples_leaf=1, min_samples_split=5, splitter=best;, score=0.556 total time=   0.0s\n[CV 1/2; 4/648] START criterion=gini, max_depth=2, max_features=auto, min_samples_leaf=1, min_samples_split=5, splitter=random\n",
          "output_type": "stream"
        },
        {
          "name": "stderr",
          "text": "/lib/python3.11/site-packages/sklearn/tree/_classes.py:269: FutureWarning: `max_features='auto'` has been deprecated in 1.1 and will be removed in 1.3. To keep the past behaviour, explicitly set `max_features='sqrt'`.\n  warnings.warn(\n",
          "output_type": "stream"
        },
        {
          "name": "stdout",
          "text": "[CV 1/2; 4/648] END criterion=gini, max_depth=2, max_features=auto, min_samples_leaf=1, min_samples_split=5, splitter=random;, score=0.833 total time=   0.0s\n[CV 2/2; 4/648] START criterion=gini, max_depth=2, max_features=auto, min_samples_leaf=1, min_samples_split=5, splitter=random\n",
          "output_type": "stream"
        },
        {
          "name": "stderr",
          "text": "/lib/python3.11/site-packages/sklearn/tree/_classes.py:269: FutureWarning: `max_features='auto'` has been deprecated in 1.1 and will be removed in 1.3. To keep the past behaviour, explicitly set `max_features='sqrt'`.\n  warnings.warn(\n",
          "output_type": "stream"
        },
        {
          "name": "stdout",
          "text": "[CV 2/2; 4/648] END criterion=gini, max_depth=2, max_features=auto, min_samples_leaf=1, min_samples_split=5, splitter=random;, score=0.472 total time=   0.0s\n[CV 1/2; 5/648] START criterion=gini, max_depth=2, max_features=auto, min_samples_leaf=1, min_samples_split=10, splitter=best\n",
          "output_type": "stream"
        },
        {
          "name": "stderr",
          "text": "/lib/python3.11/site-packages/sklearn/tree/_classes.py:269: FutureWarning: `max_features='auto'` has been deprecated in 1.1 and will be removed in 1.3. To keep the past behaviour, explicitly set `max_features='sqrt'`.\n  warnings.warn(\n",
          "output_type": "stream"
        },
        {
          "name": "stdout",
          "text": "[CV 1/2; 5/648] END criterion=gini, max_depth=2, max_features=auto, min_samples_leaf=1, min_samples_split=10, splitter=best;, score=0.861 total time=   0.0s\n[CV 2/2; 5/648] START criterion=gini, max_depth=2, max_features=auto, min_samples_leaf=1, min_samples_split=10, splitter=best\n",
          "output_type": "stream"
        },
        {
          "name": "stderr",
          "text": "/lib/python3.11/site-packages/sklearn/tree/_classes.py:269: FutureWarning: `max_features='auto'` has been deprecated in 1.1 and will be removed in 1.3. To keep the past behaviour, explicitly set `max_features='sqrt'`.\n  warnings.warn(\n",
          "output_type": "stream"
        },
        {
          "name": "stdout",
          "text": "[CV 2/2; 5/648] END criterion=gini, max_depth=2, max_features=auto, min_samples_leaf=1, min_samples_split=10, splitter=best;, score=0.861 total time=   0.0s\n[CV 1/2; 6/648] START criterion=gini, max_depth=2, max_features=auto, min_samples_leaf=1, min_samples_split=10, splitter=random\n",
          "output_type": "stream"
        },
        {
          "name": "stderr",
          "text": "/lib/python3.11/site-packages/sklearn/tree/_classes.py:269: FutureWarning: `max_features='auto'` has been deprecated in 1.1 and will be removed in 1.3. To keep the past behaviour, explicitly set `max_features='sqrt'`.\n  warnings.warn(\n",
          "output_type": "stream"
        },
        {
          "name": "stdout",
          "text": "[CV 1/2; 6/648] END criterion=gini, max_depth=2, max_features=auto, min_samples_leaf=1, min_samples_split=10, splitter=random;, score=0.833 total time=   0.0s\n[CV 2/2; 6/648] START criterion=gini, max_depth=2, max_features=auto, min_samples_leaf=1, min_samples_split=10, splitter=random\n",
          "output_type": "stream"
        },
        {
          "name": "stderr",
          "text": "/lib/python3.11/site-packages/sklearn/tree/_classes.py:269: FutureWarning: `max_features='auto'` has been deprecated in 1.1 and will be removed in 1.3. To keep the past behaviour, explicitly set `max_features='sqrt'`.\n  warnings.warn(\n",
          "output_type": "stream"
        },
        {
          "name": "stdout",
          "text": "[CV 2/2; 6/648] END criterion=gini, max_depth=2, max_features=auto, min_samples_leaf=1, min_samples_split=10, splitter=random;, score=0.861 total time=   0.0s\n[CV 1/2; 7/648] START criterion=gini, max_depth=2, max_features=auto, min_samples_leaf=2, min_samples_split=2, splitter=best\n",
          "output_type": "stream"
        },
        {
          "name": "stderr",
          "text": "/lib/python3.11/site-packages/sklearn/tree/_classes.py:269: FutureWarning: `max_features='auto'` has been deprecated in 1.1 and will be removed in 1.3. To keep the past behaviour, explicitly set `max_features='sqrt'`.\n  warnings.warn(\n",
          "output_type": "stream"
        },
        {
          "name": "stdout",
          "text": "[CV 1/2; 7/648] END criterion=gini, max_depth=2, max_features=auto, min_samples_leaf=2, min_samples_split=2, splitter=best;, score=0.722 total time=   0.0s\n[CV 2/2; 7/648] START criterion=gini, max_depth=2, max_features=auto, min_samples_leaf=2, min_samples_split=2, splitter=best\n",
          "output_type": "stream"
        },
        {
          "name": "stderr",
          "text": "/lib/python3.11/site-packages/sklearn/tree/_classes.py:269: FutureWarning: `max_features='auto'` has been deprecated in 1.1 and will be removed in 1.3. To keep the past behaviour, explicitly set `max_features='sqrt'`.\n  warnings.warn(\n",
          "output_type": "stream"
        },
        {
          "name": "stdout",
          "text": "[CV 2/2; 7/648] END criterion=gini, max_depth=2, max_features=auto, min_samples_leaf=2, min_samples_split=2, splitter=best;, score=0.556 total time=   0.0s\n[CV 1/2; 8/648] START criterion=gini, max_depth=2, max_features=auto, min_samples_leaf=2, min_samples_split=2, splitter=random\n",
          "output_type": "stream"
        },
        {
          "name": "stderr",
          "text": "/lib/python3.11/site-packages/sklearn/tree/_classes.py:269: FutureWarning: `max_features='auto'` has been deprecated in 1.1 and will be removed in 1.3. To keep the past behaviour, explicitly set `max_features='sqrt'`.\n  warnings.warn(\n",
          "output_type": "stream"
        },
        {
          "name": "stdout",
          "text": "[CV 1/2; 8/648] END criterion=gini, max_depth=2, max_features=auto, min_samples_leaf=2, min_samples_split=2, splitter=random;, score=0.667 total time=   0.0s\n[CV 2/2; 8/648] START criterion=gini, max_depth=2, max_features=auto, min_samples_leaf=2, min_samples_split=2, splitter=random\n",
          "output_type": "stream"
        },
        {
          "name": "stderr",
          "text": "/lib/python3.11/site-packages/sklearn/tree/_classes.py:269: FutureWarning: `max_features='auto'` has been deprecated in 1.1 and will be removed in 1.3. To keep the past behaviour, explicitly set `max_features='sqrt'`.\n  warnings.warn(\n",
          "output_type": "stream"
        },
        {
          "name": "stdout",
          "text": "[CV 2/2; 8/648] END criterion=gini, max_depth=2, max_features=auto, min_samples_leaf=2, min_samples_split=2, splitter=random;, score=0.389 total time=   0.0s\n[CV 1/2; 9/648] START criterion=gini, max_depth=2, max_features=auto, min_samples_leaf=2, min_samples_split=5, splitter=best\n",
          "output_type": "stream"
        },
        {
          "name": "stderr",
          "text": "/lib/python3.11/site-packages/sklearn/tree/_classes.py:269: FutureWarning: `max_features='auto'` has been deprecated in 1.1 and will be removed in 1.3. To keep the past behaviour, explicitly set `max_features='sqrt'`.\n  warnings.warn(\n",
          "output_type": "stream"
        },
        {
          "name": "stdout",
          "text": "[CV 1/2; 9/648] END criterion=gini, max_depth=2, max_features=auto, min_samples_leaf=2, min_samples_split=5, splitter=best;, score=0.278 total time=   0.0s\n[CV 2/2; 9/648] START criterion=gini, max_depth=2, max_features=auto, min_samples_leaf=2, min_samples_split=5, splitter=best\n",
          "output_type": "stream"
        },
        {
          "name": "stderr",
          "text": "/lib/python3.11/site-packages/sklearn/tree/_classes.py:269: FutureWarning: `max_features='auto'` has been deprecated in 1.1 and will be removed in 1.3. To keep the past behaviour, explicitly set `max_features='sqrt'`.\n  warnings.warn(\n",
          "output_type": "stream"
        },
        {
          "name": "stdout",
          "text": "[CV 2/2; 9/648] END criterion=gini, max_depth=2, max_features=auto, min_samples_leaf=2, min_samples_split=5, splitter=best;, score=0.389 total time=   0.0s\n[CV 1/2; 10/648] START criterion=gini, max_depth=2, max_features=auto, min_samples_leaf=2, min_samples_split=5, splitter=random\n",
          "output_type": "stream"
        },
        {
          "name": "stderr",
          "text": "/lib/python3.11/site-packages/sklearn/tree/_classes.py:269: FutureWarning: `max_features='auto'` has been deprecated in 1.1 and will be removed in 1.3. To keep the past behaviour, explicitly set `max_features='sqrt'`.\n  warnings.warn(\n",
          "output_type": "stream"
        },
        {
          "name": "stdout",
          "text": "[CV 1/2; 10/648] END criterion=gini, max_depth=2, max_features=auto, min_samples_leaf=2, min_samples_split=5, splitter=random;, score=0.667 total time=   0.0s\n[CV 2/2; 10/648] START criterion=gini, max_depth=2, max_features=auto, min_samples_leaf=2, min_samples_split=5, splitter=random\n",
          "output_type": "stream"
        },
        {
          "name": "stderr",
          "text": "/lib/python3.11/site-packages/sklearn/tree/_classes.py:269: FutureWarning: `max_features='auto'` has been deprecated in 1.1 and will be removed in 1.3. To keep the past behaviour, explicitly set `max_features='sqrt'`.\n  warnings.warn(\n",
          "output_type": "stream"
        },
        {
          "name": "stdout",
          "text": "[CV 2/2; 10/648] END criterion=gini, max_depth=2, max_features=auto, min_samples_leaf=2, min_samples_split=5, splitter=random;, score=0.861 total time=   0.0s\n[CV 1/2; 11/648] START criterion=gini, max_depth=2, max_features=auto, min_samples_leaf=2, min_samples_split=10, splitter=best\n",
          "output_type": "stream"
        },
        {
          "name": "stderr",
          "text": "/lib/python3.11/site-packages/sklearn/tree/_classes.py:269: FutureWarning: `max_features='auto'` has been deprecated in 1.1 and will be removed in 1.3. To keep the past behaviour, explicitly set `max_features='sqrt'`.\n  warnings.warn(\n",
          "output_type": "stream"
        },
        {
          "name": "stdout",
          "text": "[CV 1/2; 11/648] END criterion=gini, max_depth=2, max_features=auto, min_samples_leaf=2, min_samples_split=10, splitter=best;, score=0.444 total time=   0.0s\n[CV 2/2; 11/648] START criterion=gini, max_depth=2, max_features=auto, min_samples_leaf=2, min_samples_split=10, splitter=best\n",
          "output_type": "stream"
        },
        {
          "name": "stderr",
          "text": "/lib/python3.11/site-packages/sklearn/tree/_classes.py:269: FutureWarning: `max_features='auto'` has been deprecated in 1.1 and will be removed in 1.3. To keep the past behaviour, explicitly set `max_features='sqrt'`.\n  warnings.warn(\n",
          "output_type": "stream"
        },
        {
          "name": "stdout",
          "text": "[CV 2/2; 11/648] END criterion=gini, max_depth=2, max_features=auto, min_samples_leaf=2, min_samples_split=10, splitter=best;, score=0.667 total time=   0.0s\n[CV 1/2; 12/648] START criterion=gini, max_depth=2, max_features=auto, min_samples_leaf=2, min_samples_split=10, splitter=random\n",
          "output_type": "stream"
        },
        {
          "name": "stderr",
          "text": "/lib/python3.11/site-packages/sklearn/tree/_classes.py:269: FutureWarning: `max_features='auto'` has been deprecated in 1.1 and will be removed in 1.3. To keep the past behaviour, explicitly set `max_features='sqrt'`.\n  warnings.warn(\n",
          "output_type": "stream"
        },
        {
          "name": "stdout",
          "text": "[CV 1/2; 12/648] END criterion=gini, max_depth=2, max_features=auto, min_samples_leaf=2, min_samples_split=10, splitter=random;, score=0.833 total time=   0.0s\n[CV 2/2; 12/648] START criterion=gini, max_depth=2, max_features=auto, min_samples_leaf=2, min_samples_split=10, splitter=random\n",
          "output_type": "stream"
        },
        {
          "name": "stderr",
          "text": "/lib/python3.11/site-packages/sklearn/tree/_classes.py:269: FutureWarning: `max_features='auto'` has been deprecated in 1.1 and will be removed in 1.3. To keep the past behaviour, explicitly set `max_features='sqrt'`.\n  warnings.warn(\n",
          "output_type": "stream"
        },
        {
          "name": "stdout",
          "text": "[CV 2/2; 12/648] END criterion=gini, max_depth=2, max_features=auto, min_samples_leaf=2, min_samples_split=10, splitter=random;, score=0.861 total time=   0.0s\n[CV 1/2; 13/648] START criterion=gini, max_depth=2, max_features=auto, min_samples_leaf=4, min_samples_split=2, splitter=best\n",
          "output_type": "stream"
        },
        {
          "name": "stderr",
          "text": "/lib/python3.11/site-packages/sklearn/tree/_classes.py:269: FutureWarning: `max_features='auto'` has been deprecated in 1.1 and will be removed in 1.3. To keep the past behaviour, explicitly set `max_features='sqrt'`.\n  warnings.warn(\n",
          "output_type": "stream"
        },
        {
          "name": "stdout",
          "text": "[CV 1/2; 13/648] END criterion=gini, max_depth=2, max_features=auto, min_samples_leaf=4, min_samples_split=2, splitter=best;, score=0.667 total time=   0.0s\n[CV 2/2; 13/648] START criterion=gini, max_depth=2, max_features=auto, min_samples_leaf=4, min_samples_split=2, splitter=best\n",
          "output_type": "stream"
        },
        {
          "name": "stderr",
          "text": "/lib/python3.11/site-packages/sklearn/tree/_classes.py:269: FutureWarning: `max_features='auto'` has been deprecated in 1.1 and will be removed in 1.3. To keep the past behaviour, explicitly set `max_features='sqrt'`.\n  warnings.warn(\n",
          "output_type": "stream"
        },
        {
          "name": "stdout",
          "text": "[CV 2/2; 13/648] END criterion=gini, max_depth=2, max_features=auto, min_samples_leaf=4, min_samples_split=2, splitter=best;, score=0.861 total time=   0.0s\n[CV 1/2; 14/648] START criterion=gini, max_depth=2, max_features=auto, min_samples_leaf=4, min_samples_split=2, splitter=random\n",
          "output_type": "stream"
        },
        {
          "name": "stderr",
          "text": "/lib/python3.11/site-packages/sklearn/tree/_classes.py:269: FutureWarning: `max_features='auto'` has been deprecated in 1.1 and will be removed in 1.3. To keep the past behaviour, explicitly set `max_features='sqrt'`.\n  warnings.warn(\n",
          "output_type": "stream"
        },
        {
          "name": "stdout",
          "text": "[CV 1/2; 14/648] END criterion=gini, max_depth=2, max_features=auto, min_samples_leaf=4, min_samples_split=2, splitter=random;, score=0.833 total time=   0.0s\n[CV 2/2; 14/648] START criterion=gini, max_depth=2, max_features=auto, min_samples_leaf=4, min_samples_split=2, splitter=random\n",
          "output_type": "stream"
        },
        {
          "name": "stderr",
          "text": "/lib/python3.11/site-packages/sklearn/tree/_classes.py:269: FutureWarning: `max_features='auto'` has been deprecated in 1.1 and will be removed in 1.3. To keep the past behaviour, explicitly set `max_features='sqrt'`.\n  warnings.warn(\n",
          "output_type": "stream"
        },
        {
          "name": "stdout",
          "text": "[CV 2/2; 14/648] END criterion=gini, max_depth=2, max_features=auto, min_samples_leaf=4, min_samples_split=2, splitter=random;, score=0.389 total time=   0.0s\n[CV 1/2; 15/648] START criterion=gini, max_depth=2, max_features=auto, min_samples_leaf=4, min_samples_split=5, splitter=best\n",
          "output_type": "stream"
        },
        {
          "name": "stderr",
          "text": "/lib/python3.11/site-packages/sklearn/tree/_classes.py:269: FutureWarning: `max_features='auto'` has been deprecated in 1.1 and will be removed in 1.3. To keep the past behaviour, explicitly set `max_features='sqrt'`.\n  warnings.warn(\n",
          "output_type": "stream"
        },
        {
          "name": "stdout",
          "text": "[CV 1/2; 15/648] END criterion=gini, max_depth=2, max_features=auto, min_samples_leaf=4, min_samples_split=5, splitter=best;, score=0.944 total time=   0.0s\n[CV 2/2; 15/648] START criterion=gini, max_depth=2, max_features=auto, min_samples_leaf=4, min_samples_split=5, splitter=best\n",
          "output_type": "stream"
        },
        {
          "name": "stderr",
          "text": "/lib/python3.11/site-packages/sklearn/tree/_classes.py:269: FutureWarning: `max_features='auto'` has been deprecated in 1.1 and will be removed in 1.3. To keep the past behaviour, explicitly set `max_features='sqrt'`.\n  warnings.warn(\n",
          "output_type": "stream"
        },
        {
          "name": "stdout",
          "text": "[CV 2/2; 15/648] END criterion=gini, max_depth=2, max_features=auto, min_samples_leaf=4, min_samples_split=5, splitter=best;, score=0.667 total time=   0.0s\n[CV 1/2; 16/648] START criterion=gini, max_depth=2, max_features=auto, min_samples_leaf=4, min_samples_split=5, splitter=random\n",
          "output_type": "stream"
        },
        {
          "name": "stderr",
          "text": "/lib/python3.11/site-packages/sklearn/tree/_classes.py:269: FutureWarning: `max_features='auto'` has been deprecated in 1.1 and will be removed in 1.3. To keep the past behaviour, explicitly set `max_features='sqrt'`.\n  warnings.warn(\n",
          "output_type": "stream"
        },
        {
          "name": "stdout",
          "text": "[CV 1/2; 16/648] END criterion=gini, max_depth=2, max_features=auto, min_samples_leaf=4, min_samples_split=5, splitter=random;, score=0.806 total time=   0.0s\n[CV 2/2; 16/648] START criterion=gini, max_depth=2, max_features=auto, min_samples_leaf=4, min_samples_split=5, splitter=random\n",
          "output_type": "stream"
        },
        {
          "name": "stderr",
          "text": "/lib/python3.11/site-packages/sklearn/tree/_classes.py:269: FutureWarning: `max_features='auto'` has been deprecated in 1.1 and will be removed in 1.3. To keep the past behaviour, explicitly set `max_features='sqrt'`.\n  warnings.warn(\n",
          "output_type": "stream"
        },
        {
          "name": "stdout",
          "text": "[CV 2/2; 16/648] END criterion=gini, max_depth=2, max_features=auto, min_samples_leaf=4, min_samples_split=5, splitter=random;, score=0.528 total time=   0.0s\n[CV 1/2; 17/648] START criterion=gini, max_depth=2, max_features=auto, min_samples_leaf=4, min_samples_split=10, splitter=best\n",
          "output_type": "stream"
        },
        {
          "name": "stderr",
          "text": "/lib/python3.11/site-packages/sklearn/tree/_classes.py:269: FutureWarning: `max_features='auto'` has been deprecated in 1.1 and will be removed in 1.3. To keep the past behaviour, explicitly set `max_features='sqrt'`.\n  warnings.warn(\n",
          "output_type": "stream"
        },
        {
          "name": "stdout",
          "text": "[CV 1/2; 17/648] END criterion=gini, max_depth=2, max_features=auto, min_samples_leaf=4, min_samples_split=10, splitter=best;, score=0.667 total time=   0.0s\n[CV 2/2; 17/648] START criterion=gini, max_depth=2, max_features=auto, min_samples_leaf=4, min_samples_split=10, splitter=best\n",
          "output_type": "stream"
        },
        {
          "name": "stderr",
          "text": "/lib/python3.11/site-packages/sklearn/tree/_classes.py:269: FutureWarning: `max_features='auto'` has been deprecated in 1.1 and will be removed in 1.3. To keep the past behaviour, explicitly set `max_features='sqrt'`.\n  warnings.warn(\n",
          "output_type": "stream"
        },
        {
          "name": "stdout",
          "text": "[CV 2/2; 17/648] END criterion=gini, max_depth=2, max_features=auto, min_samples_leaf=4, min_samples_split=10, splitter=best;, score=0.667 total time=   0.0s\n[CV 1/2; 18/648] START criterion=gini, max_depth=2, max_features=auto, min_samples_leaf=4, min_samples_split=10, splitter=random\n",
          "output_type": "stream"
        },
        {
          "name": "stderr",
          "text": "/lib/python3.11/site-packages/sklearn/tree/_classes.py:269: FutureWarning: `max_features='auto'` has been deprecated in 1.1 and will be removed in 1.3. To keep the past behaviour, explicitly set `max_features='sqrt'`.\n  warnings.warn(\n",
          "output_type": "stream"
        },
        {
          "name": "stdout",
          "text": "[CV 1/2; 18/648] END criterion=gini, max_depth=2, max_features=auto, min_samples_leaf=4, min_samples_split=10, splitter=random;, score=0.833 total time=   0.0s\n[CV 2/2; 18/648] START criterion=gini, max_depth=2, max_features=auto, min_samples_leaf=4, min_samples_split=10, splitter=random\n",
          "output_type": "stream"
        },
        {
          "name": "stderr",
          "text": "/lib/python3.11/site-packages/sklearn/tree/_classes.py:269: FutureWarning: `max_features='auto'` has been deprecated in 1.1 and will be removed in 1.3. To keep the past behaviour, explicitly set `max_features='sqrt'`.\n  warnings.warn(\n",
          "output_type": "stream"
        },
        {
          "name": "stdout",
          "text": "[CV 2/2; 18/648] END criterion=gini, max_depth=2, max_features=auto, min_samples_leaf=4, min_samples_split=10, splitter=random;, score=0.667 total time=   0.0s\n[CV 1/2; 19/648] START criterion=gini, max_depth=2, max_features=sqrt, min_samples_leaf=1, min_samples_split=2, splitter=best\n[CV 1/2; 19/648] END criterion=gini, max_depth=2, max_features=sqrt, min_samples_leaf=1, min_samples_split=2, splitter=best;, score=0.444 total time=   0.0s\n[CV 2/2; 19/648] START criterion=gini, max_depth=2, max_features=sqrt, min_samples_leaf=1, min_samples_split=2, splitter=best\n[CV 2/2; 19/648] END criterion=gini, max_depth=2, max_features=sqrt, min_samples_leaf=1, min_samples_split=2, splitter=best;, score=0.444 total time=   0.0s\n[CV 1/2; 20/648] START criterion=gini, max_depth=2, max_features=sqrt, min_samples_leaf=1, min_samples_split=2, splitter=random\n[CV 1/2; 20/648] END criterion=gini, max_depth=2, max_features=sqrt, min_samples_leaf=1, min_samples_split=2, splitter=random;, score=0.667 total time=   0.0s\n[CV 2/2; 20/648] START criterion=gini, max_depth=2, max_features=sqrt, min_samples_leaf=1, min_samples_split=2, splitter=random\n[CV 2/2; 20/648] END criterion=gini, max_depth=2, max_features=sqrt, min_samples_leaf=1, min_samples_split=2, splitter=random;, score=0.861 total time=   0.0s\n[CV 1/2; 21/648] START criterion=gini, max_depth=2, max_features=sqrt, min_samples_leaf=1, min_samples_split=5, splitter=best\n[CV 1/2; 21/648] END criterion=gini, max_depth=2, max_features=sqrt, min_samples_leaf=1, min_samples_split=5, splitter=best;, score=0.722 total time=   0.0s\n[CV 2/2; 21/648] START criterion=gini, max_depth=2, max_features=sqrt, min_samples_leaf=1, min_samples_split=5, splitter=best\n[CV 2/2; 21/648] END criterion=gini, max_depth=2, max_features=sqrt, min_samples_leaf=1, min_samples_split=5, splitter=best;, score=0.389 total time=   0.0s\n[CV 1/2; 22/648] START criterion=gini, max_depth=2, max_features=sqrt, min_samples_leaf=1, min_samples_split=5, splitter=random\n[CV 1/2; 22/648] END criterion=gini, max_depth=2, max_features=sqrt, min_samples_leaf=1, min_samples_split=5, splitter=random;, score=0.861 total time=   0.0s\n[CV 2/2; 22/648] START criterion=gini, max_depth=2, max_features=sqrt, min_samples_leaf=1, min_samples_split=5, splitter=random\n[CV 2/2; 22/648] END criterion=gini, max_depth=2, max_features=sqrt, min_samples_leaf=1, min_samples_split=5, splitter=random;, score=0.861 total time=   0.0s\n[CV 1/2; 23/648] START criterion=gini, max_depth=2, max_features=sqrt, min_samples_leaf=1, min_samples_split=10, splitter=best\n[CV 1/2; 23/648] END criterion=gini, max_depth=2, max_features=sqrt, min_samples_leaf=1, min_samples_split=10, splitter=best;, score=0.833 total time=   0.0s\n[CV 2/2; 23/648] START criterion=gini, max_depth=2, max_features=sqrt, min_samples_leaf=1, min_samples_split=10, splitter=best\n[CV 2/2; 23/648] END criterion=gini, max_depth=2, max_features=sqrt, min_samples_leaf=1, min_samples_split=10, splitter=best;, score=0.667 total time=   0.0s\n[CV 1/2; 24/648] START criterion=gini, max_depth=2, max_features=sqrt, min_samples_leaf=1, min_samples_split=10, splitter=random\n[CV 1/2; 24/648] END criterion=gini, max_depth=2, max_features=sqrt, min_samples_leaf=1, min_samples_split=10, splitter=random;, score=0.861 total time=   0.0s\n[CV 2/2; 24/648] START criterion=gini, max_depth=2, max_features=sqrt, min_samples_leaf=1, min_samples_split=10, splitter=random\n[CV 2/2; 24/648] END criterion=gini, max_depth=2, max_features=sqrt, min_samples_leaf=1, min_samples_split=10, splitter=random;, score=0.861 total time=   0.0s\n[CV 1/2; 25/648] START criterion=gini, max_depth=2, max_features=sqrt, min_samples_leaf=2, min_samples_split=2, splitter=best\n[CV 1/2; 25/648] END criterion=gini, max_depth=2, max_features=sqrt, min_samples_leaf=2, min_samples_split=2, splitter=best;, score=0.861 total time=   0.0s\n[CV 2/2; 25/648] START criterion=gini, max_depth=2, max_features=sqrt, min_samples_leaf=2, min_samples_split=2, splitter=best\n[CV 2/2; 25/648] END criterion=gini, max_depth=2, max_features=sqrt, min_samples_leaf=2, min_samples_split=2, splitter=best;, score=0.472 total time=   0.0s\n[CV 1/2; 26/648] START criterion=gini, max_depth=2, max_features=sqrt, min_samples_leaf=2, min_samples_split=2, splitter=random\n[CV 1/2; 26/648] END criterion=gini, max_depth=2, max_features=sqrt, min_samples_leaf=2, min_samples_split=2, splitter=random;, score=0.722 total time=   0.0s\n[CV 2/2; 26/648] START criterion=gini, max_depth=2, max_features=sqrt, min_samples_leaf=2, min_samples_split=2, splitter=random\n[CV 2/2; 26/648] END criterion=gini, max_depth=2, max_features=sqrt, min_samples_leaf=2, min_samples_split=2, splitter=random;, score=0.778 total time=   0.0s\n[CV 1/2; 27/648] START criterion=gini, max_depth=2, max_features=sqrt, min_samples_leaf=2, min_samples_split=5, splitter=best\n[CV 1/2; 27/648] END criterion=gini, max_depth=2, max_features=sqrt, min_samples_leaf=2, min_samples_split=5, splitter=best;, score=0.833 total time=   0.0s\n[CV 2/2; 27/648] START criterion=gini, max_depth=2, max_features=sqrt, min_samples_leaf=2, min_samples_split=5, splitter=best\n[CV 2/2; 27/648] END criterion=gini, max_depth=2, max_features=sqrt, min_samples_leaf=2, min_samples_split=5, splitter=best;, score=0.778 total time=   0.0s\n[CV 1/2; 28/648] START criterion=gini, max_depth=2, max_features=sqrt, min_samples_leaf=2, min_samples_split=5, splitter=random\n[CV 1/2; 28/648] END criterion=gini, max_depth=2, max_features=sqrt, min_samples_leaf=2, min_samples_split=5, splitter=random;, score=0.833 total time=   0.0s\n[CV 2/2; 28/648] START criterion=gini, max_depth=2, max_features=sqrt, min_samples_leaf=2, min_samples_split=5, splitter=random\n[CV 2/2; 28/648] END criterion=gini, max_depth=2, max_features=sqrt, min_samples_leaf=2, min_samples_split=5, splitter=random;, score=0.861 total time=   0.0s\n[CV 1/2; 29/648] START criterion=gini, max_depth=2, max_features=sqrt, min_samples_leaf=2, min_samples_split=10, splitter=best\n[CV 1/2; 29/648] END criterion=gini, max_depth=2, max_features=sqrt, min_samples_leaf=2, min_samples_split=10, splitter=best;, score=0.806 total time=   0.0s\n[CV 2/2; 29/648] START criterion=gini, max_depth=2, max_features=sqrt, min_samples_leaf=2, min_samples_split=10, splitter=best\n[CV 2/2; 29/648] END criterion=gini, max_depth=2, max_features=sqrt, min_samples_leaf=2, min_samples_split=10, splitter=best;, score=0.778 total time=   0.0s\n[CV 1/2; 30/648] START criterion=gini, max_depth=2, max_features=sqrt, min_samples_leaf=2, min_samples_split=10, splitter=random\n[CV 1/2; 30/648] END criterion=gini, max_depth=2, max_features=sqrt, min_samples_leaf=2, min_samples_split=10, splitter=random;, score=0.833 total time=   0.0s\n[CV 2/2; 30/648] START criterion=gini, max_depth=2, max_features=sqrt, min_samples_leaf=2, min_samples_split=10, splitter=random\n[CV 2/2; 30/648] END criterion=gini, max_depth=2, max_features=sqrt, min_samples_leaf=2, min_samples_split=10, splitter=random;, score=0.861 total time=   0.0s\n[CV 1/2; 31/648] START criterion=gini, max_depth=2, max_features=sqrt, min_samples_leaf=4, min_samples_split=2, splitter=best\n[CV 1/2; 31/648] END criterion=gini, max_depth=2, max_features=sqrt, min_samples_leaf=4, min_samples_split=2, splitter=best;, score=0.667 total time=   0.0s\n[CV 2/2; 31/648] START criterion=gini, max_depth=2, max_features=sqrt, min_samples_leaf=4, min_samples_split=2, splitter=best\n[CV 2/2; 31/648] END criterion=gini, max_depth=2, max_features=sqrt, min_samples_leaf=4, min_samples_split=2, splitter=best;, score=0.667 total time=   0.0s\n[CV 1/2; 32/648] START criterion=gini, max_depth=2, max_features=sqrt, min_samples_leaf=4, min_samples_split=2, splitter=random\n[CV 1/2; 32/648] END criterion=gini, max_depth=2, max_features=sqrt, min_samples_leaf=4, min_samples_split=2, splitter=random;, score=0.833 total time=   0.0s\n[CV 2/2; 32/648] START criterion=gini, max_depth=2, max_features=sqrt, min_samples_leaf=4, min_samples_split=2, splitter=random\n[CV 2/2; 32/648] END criterion=gini, max_depth=2, max_features=sqrt, min_samples_leaf=4, min_samples_split=2, splitter=random;, score=0.806 total time=   0.0s\n[CV 1/2; 33/648] START criterion=gini, max_depth=2, max_features=sqrt, min_samples_leaf=4, min_samples_split=5, splitter=best\n[CV 1/2; 33/648] END criterion=gini, max_depth=2, max_features=sqrt, min_samples_leaf=4, min_samples_split=5, splitter=best;, score=0.861 total time=   0.0s\n[CV 2/2; 33/648] START criterion=gini, max_depth=2, max_features=sqrt, min_samples_leaf=4, min_samples_split=5, splitter=best\n[CV 2/2; 33/648] END criterion=gini, max_depth=2, max_features=sqrt, min_samples_leaf=4, min_samples_split=5, splitter=best;, score=0.861 total time=   0.0s\n[CV 1/2; 34/648] START criterion=gini, max_depth=2, max_features=sqrt, min_samples_leaf=4, min_samples_split=5, splitter=random\n[CV 1/2; 34/648] END criterion=gini, max_depth=2, max_features=sqrt, min_samples_leaf=4, min_samples_split=5, splitter=random;, score=0.667 total time=   0.0s\n[CV 2/2; 34/648] START criterion=gini, max_depth=2, max_features=sqrt, min_samples_leaf=4, min_samples_split=5, splitter=random\n[CV 2/2; 34/648] END criterion=gini, max_depth=2, max_features=sqrt, min_samples_leaf=4, min_samples_split=5, splitter=random;, score=0.667 total time=   0.0s\n[CV 1/2; 35/648] START criterion=gini, max_depth=2, max_features=sqrt, min_samples_leaf=4, min_samples_split=10, splitter=best\n[CV 1/2; 35/648] END criterion=gini, max_depth=2, max_features=sqrt, min_samples_leaf=4, min_samples_split=10, splitter=best;, score=0.861 total time=   0.0s\n[CV 2/2; 35/648] START criterion=gini, max_depth=2, max_features=sqrt, min_samples_leaf=4, min_samples_split=10, splitter=best\n[CV 2/2; 35/648] END criterion=gini, max_depth=2, max_features=sqrt, min_samples_leaf=4, min_samples_split=10, splitter=best;, score=0.667 total time=   0.0s\n[CV 1/2; 36/648] START criterion=gini, max_depth=2, max_features=sqrt, min_samples_leaf=4, min_samples_split=10, splitter=random\n[CV 1/2; 36/648] END criterion=gini, max_depth=2, max_features=sqrt, min_samples_leaf=4, min_samples_split=10, splitter=random;, score=0.861 total time=   0.0s\n[CV 2/2; 36/648] START criterion=gini, max_depth=2, max_features=sqrt, min_samples_leaf=4, min_samples_split=10, splitter=random\n[CV 2/2; 36/648] END criterion=gini, max_depth=2, max_features=sqrt, min_samples_leaf=4, min_samples_split=10, splitter=random;, score=0.750 total time=   0.0s\n[CV 1/2; 37/648] START criterion=gini, max_depth=4, max_features=auto, min_samples_leaf=1, min_samples_split=2, splitter=best\n",
          "output_type": "stream"
        },
        {
          "name": "stderr",
          "text": "/lib/python3.11/site-packages/sklearn/tree/_classes.py:269: FutureWarning: `max_features='auto'` has been deprecated in 1.1 and will be removed in 1.3. To keep the past behaviour, explicitly set `max_features='sqrt'`.\n  warnings.warn(\n",
          "output_type": "stream"
        },
        {
          "name": "stdout",
          "text": "[CV 1/2; 37/648] END criterion=gini, max_depth=4, max_features=auto, min_samples_leaf=1, min_samples_split=2, splitter=best;, score=0.806 total time=   0.0s\n[CV 2/2; 37/648] START criterion=gini, max_depth=4, max_features=auto, min_samples_leaf=1, min_samples_split=2, splitter=best\n",
          "output_type": "stream"
        },
        {
          "name": "stderr",
          "text": "/lib/python3.11/site-packages/sklearn/tree/_classes.py:269: FutureWarning: `max_features='auto'` has been deprecated in 1.1 and will be removed in 1.3. To keep the past behaviour, explicitly set `max_features='sqrt'`.\n  warnings.warn(\n",
          "output_type": "stream"
        },
        {
          "name": "stdout",
          "text": "[CV 2/2; 37/648] END criterion=gini, max_depth=4, max_features=auto, min_samples_leaf=1, min_samples_split=2, splitter=best;, score=0.667 total time=   0.0s\n[CV 1/2; 38/648] START criterion=gini, max_depth=4, max_features=auto, min_samples_leaf=1, min_samples_split=2, splitter=random\n",
          "output_type": "stream"
        },
        {
          "name": "stderr",
          "text": "/lib/python3.11/site-packages/sklearn/tree/_classes.py:269: FutureWarning: `max_features='auto'` has been deprecated in 1.1 and will be removed in 1.3. To keep the past behaviour, explicitly set `max_features='sqrt'`.\n  warnings.warn(\n",
          "output_type": "stream"
        },
        {
          "name": "stdout",
          "text": "[CV 1/2; 38/648] END criterion=gini, max_depth=4, max_features=auto, min_samples_leaf=1, min_samples_split=2, splitter=random;, score=0.833 total time=   0.0s\n[CV 2/2; 38/648] START criterion=gini, max_depth=4, max_features=auto, min_samples_leaf=1, min_samples_split=2, splitter=random\n",
          "output_type": "stream"
        },
        {
          "name": "stderr",
          "text": "/lib/python3.11/site-packages/sklearn/tree/_classes.py:269: FutureWarning: `max_features='auto'` has been deprecated in 1.1 and will be removed in 1.3. To keep the past behaviour, explicitly set `max_features='sqrt'`.\n  warnings.warn(\n",
          "output_type": "stream"
        },
        {
          "name": "stdout",
          "text": "[CV 2/2; 38/648] END criterion=gini, max_depth=4, max_features=auto, min_samples_leaf=1, min_samples_split=2, splitter=random;, score=0.611 total time=   0.0s\n[CV 1/2; 39/648] START criterion=gini, max_depth=4, max_features=auto, min_samples_leaf=1, min_samples_split=5, splitter=best\n",
          "output_type": "stream"
        },
        {
          "name": "stderr",
          "text": "/lib/python3.11/site-packages/sklearn/tree/_classes.py:269: FutureWarning: `max_features='auto'` has been deprecated in 1.1 and will be removed in 1.3. To keep the past behaviour, explicitly set `max_features='sqrt'`.\n  warnings.warn(\n",
          "output_type": "stream"
        },
        {
          "name": "stdout",
          "text": "[CV 1/2; 39/648] END criterion=gini, max_depth=4, max_features=auto, min_samples_leaf=1, min_samples_split=5, splitter=best;, score=0.861 total time=   0.0s\n[CV 2/2; 39/648] START criterion=gini, max_depth=4, max_features=auto, min_samples_leaf=1, min_samples_split=5, splitter=best\n",
          "output_type": "stream"
        },
        {
          "name": "stderr",
          "text": "/lib/python3.11/site-packages/sklearn/tree/_classes.py:269: FutureWarning: `max_features='auto'` has been deprecated in 1.1 and will be removed in 1.3. To keep the past behaviour, explicitly set `max_features='sqrt'`.\n  warnings.warn(\n",
          "output_type": "stream"
        },
        {
          "name": "stdout",
          "text": "[CV 2/2; 39/648] END criterion=gini, max_depth=4, max_features=auto, min_samples_leaf=1, min_samples_split=5, splitter=best;, score=0.861 total time=   0.0s\n[CV 1/2; 40/648] START criterion=gini, max_depth=4, max_features=auto, min_samples_leaf=1, min_samples_split=5, splitter=random\n",
          "output_type": "stream"
        },
        {
          "name": "stderr",
          "text": "/lib/python3.11/site-packages/sklearn/tree/_classes.py:269: FutureWarning: `max_features='auto'` has been deprecated in 1.1 and will be removed in 1.3. To keep the past behaviour, explicitly set `max_features='sqrt'`.\n  warnings.warn(\n",
          "output_type": "stream"
        },
        {
          "name": "stdout",
          "text": "[CV 1/2; 40/648] END criterion=gini, max_depth=4, max_features=auto, min_samples_leaf=1, min_samples_split=5, splitter=random;, score=0.806 total time=   0.0s\n[CV 2/2; 40/648] START criterion=gini, max_depth=4, max_features=auto, min_samples_leaf=1, min_samples_split=5, splitter=random\n",
          "output_type": "stream"
        },
        {
          "name": "stderr",
          "text": "/lib/python3.11/site-packages/sklearn/tree/_classes.py:269: FutureWarning: `max_features='auto'` has been deprecated in 1.1 and will be removed in 1.3. To keep the past behaviour, explicitly set `max_features='sqrt'`.\n  warnings.warn(\n",
          "output_type": "stream"
        },
        {
          "name": "stdout",
          "text": "[CV 2/2; 40/648] END criterion=gini, max_depth=4, max_features=auto, min_samples_leaf=1, min_samples_split=5, splitter=random;, score=0.861 total time=   0.0s\n[CV 1/2; 41/648] START criterion=gini, max_depth=4, max_features=auto, min_samples_leaf=1, min_samples_split=10, splitter=best\n",
          "output_type": "stream"
        },
        {
          "name": "stderr",
          "text": "/lib/python3.11/site-packages/sklearn/tree/_classes.py:269: FutureWarning: `max_features='auto'` has been deprecated in 1.1 and will be removed in 1.3. To keep the past behaviour, explicitly set `max_features='sqrt'`.\n  warnings.warn(\n",
          "output_type": "stream"
        },
        {
          "name": "stdout",
          "text": "[CV 1/2; 41/648] END criterion=gini, max_depth=4, max_features=auto, min_samples_leaf=1, min_samples_split=10, splitter=best;, score=0.861 total time=   0.0s\n[CV 2/2; 41/648] START criterion=gini, max_depth=4, max_features=auto, min_samples_leaf=1, min_samples_split=10, splitter=best\n",
          "output_type": "stream"
        },
        {
          "name": "stderr",
          "text": "/lib/python3.11/site-packages/sklearn/tree/_classes.py:269: FutureWarning: `max_features='auto'` has been deprecated in 1.1 and will be removed in 1.3. To keep the past behaviour, explicitly set `max_features='sqrt'`.\n  warnings.warn(\n",
          "output_type": "stream"
        },
        {
          "name": "stdout",
          "text": "[CV 2/2; 41/648] END criterion=gini, max_depth=4, max_features=auto, min_samples_leaf=1, min_samples_split=10, splitter=best;, score=0.833 total time=   0.0s\n[CV 1/2; 42/648] START criterion=gini, max_depth=4, max_features=auto, min_samples_leaf=1, min_samples_split=10, splitter=random\n",
          "output_type": "stream"
        },
        {
          "name": "stderr",
          "text": "/lib/python3.11/site-packages/sklearn/tree/_classes.py:269: FutureWarning: `max_features='auto'` has been deprecated in 1.1 and will be removed in 1.3. To keep the past behaviour, explicitly set `max_features='sqrt'`.\n  warnings.warn(\n",
          "output_type": "stream"
        },
        {
          "name": "stdout",
          "text": "[CV 1/2; 42/648] END criterion=gini, max_depth=4, max_features=auto, min_samples_leaf=1, min_samples_split=10, splitter=random;, score=0.861 total time=   0.0s\n[CV 2/2; 42/648] START criterion=gini, max_depth=4, max_features=auto, min_samples_leaf=1, min_samples_split=10, splitter=random\n",
          "output_type": "stream"
        },
        {
          "name": "stderr",
          "text": "/lib/python3.11/site-packages/sklearn/tree/_classes.py:269: FutureWarning: `max_features='auto'` has been deprecated in 1.1 and will be removed in 1.3. To keep the past behaviour, explicitly set `max_features='sqrt'`.\n  warnings.warn(\n",
          "output_type": "stream"
        },
        {
          "name": "stdout",
          "text": "[CV 2/2; 42/648] END criterion=gini, max_depth=4, max_features=auto, min_samples_leaf=1, min_samples_split=10, splitter=random;, score=0.861 total time=   0.0s\n[CV 1/2; 43/648] START criterion=gini, max_depth=4, max_features=auto, min_samples_leaf=2, min_samples_split=2, splitter=best\n",
          "output_type": "stream"
        },
        {
          "name": "stderr",
          "text": "/lib/python3.11/site-packages/sklearn/tree/_classes.py:269: FutureWarning: `max_features='auto'` has been deprecated in 1.1 and will be removed in 1.3. To keep the past behaviour, explicitly set `max_features='sqrt'`.\n  warnings.warn(\n",
          "output_type": "stream"
        },
        {
          "name": "stdout",
          "text": "[CV 1/2; 43/648] END criterion=gini, max_depth=4, max_features=auto, min_samples_leaf=2, min_samples_split=2, splitter=best;, score=0.722 total time=   0.0s\n[CV 2/2; 43/648] START criterion=gini, max_depth=4, max_features=auto, min_samples_leaf=2, min_samples_split=2, splitter=best\n",
          "output_type": "stream"
        },
        {
          "name": "stderr",
          "text": "/lib/python3.11/site-packages/sklearn/tree/_classes.py:269: FutureWarning: `max_features='auto'` has been deprecated in 1.1 and will be removed in 1.3. To keep the past behaviour, explicitly set `max_features='sqrt'`.\n  warnings.warn(\n",
          "output_type": "stream"
        },
        {
          "name": "stdout",
          "text": "[CV 2/2; 43/648] END criterion=gini, max_depth=4, max_features=auto, min_samples_leaf=2, min_samples_split=2, splitter=best;, score=0.667 total time=   0.0s\n[CV 1/2; 44/648] START criterion=gini, max_depth=4, max_features=auto, min_samples_leaf=2, min_samples_split=2, splitter=random\n",
          "output_type": "stream"
        },
        {
          "name": "stderr",
          "text": "/lib/python3.11/site-packages/sklearn/tree/_classes.py:269: FutureWarning: `max_features='auto'` has been deprecated in 1.1 and will be removed in 1.3. To keep the past behaviour, explicitly set `max_features='sqrt'`.\n  warnings.warn(\n",
          "output_type": "stream"
        },
        {
          "name": "stdout",
          "text": "[CV 1/2; 44/648] END criterion=gini, max_depth=4, max_features=auto, min_samples_leaf=2, min_samples_split=2, splitter=random;, score=0.861 total time=   0.0s\n[CV 2/2; 44/648] START criterion=gini, max_depth=4, max_features=auto, min_samples_leaf=2, min_samples_split=2, splitter=random\n",
          "output_type": "stream"
        },
        {
          "name": "stderr",
          "text": "/lib/python3.11/site-packages/sklearn/tree/_classes.py:269: FutureWarning: `max_features='auto'` has been deprecated in 1.1 and will be removed in 1.3. To keep the past behaviour, explicitly set `max_features='sqrt'`.\n  warnings.warn(\n",
          "output_type": "stream"
        },
        {
          "name": "stdout",
          "text": "[CV 2/2; 44/648] END criterion=gini, max_depth=4, max_features=auto, min_samples_leaf=2, min_samples_split=2, splitter=random;, score=0.667 total time=   0.0s\n[CV 1/2; 45/648] START criterion=gini, max_depth=4, max_features=auto, min_samples_leaf=2, min_samples_split=5, splitter=best\n",
          "output_type": "stream"
        },
        {
          "name": "stderr",
          "text": "/lib/python3.11/site-packages/sklearn/tree/_classes.py:269: FutureWarning: `max_features='auto'` has been deprecated in 1.1 and will be removed in 1.3. To keep the past behaviour, explicitly set `max_features='sqrt'`.\n  warnings.warn(\n",
          "output_type": "stream"
        },
        {
          "name": "stdout",
          "text": "[CV 1/2; 45/648] END criterion=gini, max_depth=4, max_features=auto, min_samples_leaf=2, min_samples_split=5, splitter=best;, score=0.583 total time=   0.0s\n[CV 2/2; 45/648] START criterion=gini, max_depth=4, max_features=auto, min_samples_leaf=2, min_samples_split=5, splitter=best\n",
          "output_type": "stream"
        },
        {
          "name": "stderr",
          "text": "/lib/python3.11/site-packages/sklearn/tree/_classes.py:269: FutureWarning: `max_features='auto'` has been deprecated in 1.1 and will be removed in 1.3. To keep the past behaviour, explicitly set `max_features='sqrt'`.\n  warnings.warn(\n",
          "output_type": "stream"
        },
        {
          "name": "stdout",
          "text": "[CV 2/2; 45/648] END criterion=gini, max_depth=4, max_features=auto, min_samples_leaf=2, min_samples_split=5, splitter=best;, score=0.611 total time=   0.0s\n[CV 1/2; 46/648] START criterion=gini, max_depth=4, max_features=auto, min_samples_leaf=2, min_samples_split=5, splitter=random\n",
          "output_type": "stream"
        },
        {
          "name": "stderr",
          "text": "/lib/python3.11/site-packages/sklearn/tree/_classes.py:269: FutureWarning: `max_features='auto'` has been deprecated in 1.1 and will be removed in 1.3. To keep the past behaviour, explicitly set `max_features='sqrt'`.\n  warnings.warn(\n",
          "output_type": "stream"
        },
        {
          "name": "stdout",
          "text": "[CV 1/2; 46/648] END criterion=gini, max_depth=4, max_features=auto, min_samples_leaf=2, min_samples_split=5, splitter=random;, score=0.750 total time=   0.0s\n[CV 2/2; 46/648] START criterion=gini, max_depth=4, max_features=auto, min_samples_leaf=2, min_samples_split=5, splitter=random\n",
          "output_type": "stream"
        },
        {
          "name": "stderr",
          "text": "/lib/python3.11/site-packages/sklearn/tree/_classes.py:269: FutureWarning: `max_features='auto'` has been deprecated in 1.1 and will be removed in 1.3. To keep the past behaviour, explicitly set `max_features='sqrt'`.\n  warnings.warn(\n",
          "output_type": "stream"
        },
        {
          "name": "stdout",
          "text": "[CV 2/2; 46/648] END criterion=gini, max_depth=4, max_features=auto, min_samples_leaf=2, min_samples_split=5, splitter=random;, score=0.778 total time=   0.0s\n[CV 1/2; 47/648] START criterion=gini, max_depth=4, max_features=auto, min_samples_leaf=2, min_samples_split=10, splitter=best\n",
          "output_type": "stream"
        },
        {
          "name": "stderr",
          "text": "/lib/python3.11/site-packages/sklearn/tree/_classes.py:269: FutureWarning: `max_features='auto'` has been deprecated in 1.1 and will be removed in 1.3. To keep the past behaviour, explicitly set `max_features='sqrt'`.\n  warnings.warn(\n",
          "output_type": "stream"
        },
        {
          "name": "stdout",
          "text": "[CV 1/2; 47/648] END criterion=gini, max_depth=4, max_features=auto, min_samples_leaf=2, min_samples_split=10, splitter=best;, score=0.750 total time=   0.0s\n[CV 2/2; 47/648] START criterion=gini, max_depth=4, max_features=auto, min_samples_leaf=2, min_samples_split=10, splitter=best\n",
          "output_type": "stream"
        },
        {
          "name": "stderr",
          "text": "/lib/python3.11/site-packages/sklearn/tree/_classes.py:269: FutureWarning: `max_features='auto'` has been deprecated in 1.1 and will be removed in 1.3. To keep the past behaviour, explicitly set `max_features='sqrt'`.\n  warnings.warn(\n",
          "output_type": "stream"
        },
        {
          "name": "stdout",
          "text": "[CV 2/2; 47/648] END criterion=gini, max_depth=4, max_features=auto, min_samples_leaf=2, min_samples_split=10, splitter=best;, score=0.611 total time=   0.0s\n[CV 1/2; 48/648] START criterion=gini, max_depth=4, max_features=auto, min_samples_leaf=2, min_samples_split=10, splitter=random\n",
          "output_type": "stream"
        },
        {
          "name": "stderr",
          "text": "/lib/python3.11/site-packages/sklearn/tree/_classes.py:269: FutureWarning: `max_features='auto'` has been deprecated in 1.1 and will be removed in 1.3. To keep the past behaviour, explicitly set `max_features='sqrt'`.\n  warnings.warn(\n",
          "output_type": "stream"
        },
        {
          "name": "stdout",
          "text": "[CV 1/2; 48/648] END criterion=gini, max_depth=4, max_features=auto, min_samples_leaf=2, min_samples_split=10, splitter=random;, score=0.417 total time=   0.0s\n[CV 2/2; 48/648] START criterion=gini, max_depth=4, max_features=auto, min_samples_leaf=2, min_samples_split=10, splitter=random\n",
          "output_type": "stream"
        },
        {
          "name": "stderr",
          "text": "/lib/python3.11/site-packages/sklearn/tree/_classes.py:269: FutureWarning: `max_features='auto'` has been deprecated in 1.1 and will be removed in 1.3. To keep the past behaviour, explicitly set `max_features='sqrt'`.\n  warnings.warn(\n",
          "output_type": "stream"
        },
        {
          "name": "stdout",
          "text": "[CV 2/2; 48/648] END criterion=gini, max_depth=4, max_features=auto, min_samples_leaf=2, min_samples_split=10, splitter=random;, score=0.528 total time=   0.0s\n[CV 1/2; 49/648] START criterion=gini, max_depth=4, max_features=auto, min_samples_leaf=4, min_samples_split=2, splitter=best\n",
          "output_type": "stream"
        },
        {
          "name": "stderr",
          "text": "/lib/python3.11/site-packages/sklearn/tree/_classes.py:269: FutureWarning: `max_features='auto'` has been deprecated in 1.1 and will be removed in 1.3. To keep the past behaviour, explicitly set `max_features='sqrt'`.\n  warnings.warn(\n",
          "output_type": "stream"
        },
        {
          "name": "stdout",
          "text": "[CV 1/2; 49/648] END criterion=gini, max_depth=4, max_features=auto, min_samples_leaf=4, min_samples_split=2, splitter=best;, score=0.694 total time=   0.0s\n[CV 2/2; 49/648] START criterion=gini, max_depth=4, max_features=auto, min_samples_leaf=4, min_samples_split=2, splitter=best\n",
          "output_type": "stream"
        },
        {
          "name": "stderr",
          "text": "/lib/python3.11/site-packages/sklearn/tree/_classes.py:269: FutureWarning: `max_features='auto'` has been deprecated in 1.1 and will be removed in 1.3. To keep the past behaviour, explicitly set `max_features='sqrt'`.\n  warnings.warn(\n",
          "output_type": "stream"
        },
        {
          "name": "stdout",
          "text": "[CV 2/2; 49/648] END criterion=gini, max_depth=4, max_features=auto, min_samples_leaf=4, min_samples_split=2, splitter=best;, score=0.750 total time=   0.0s\n[CV 1/2; 50/648] START criterion=gini, max_depth=4, max_features=auto, min_samples_leaf=4, min_samples_split=2, splitter=random\n",
          "output_type": "stream"
        },
        {
          "name": "stderr",
          "text": "/lib/python3.11/site-packages/sklearn/tree/_classes.py:269: FutureWarning: `max_features='auto'` has been deprecated in 1.1 and will be removed in 1.3. To keep the past behaviour, explicitly set `max_features='sqrt'`.\n  warnings.warn(\n",
          "output_type": "stream"
        },
        {
          "name": "stdout",
          "text": "[CV 1/2; 50/648] END criterion=gini, max_depth=4, max_features=auto, min_samples_leaf=4, min_samples_split=2, splitter=random;, score=0.861 total time=   0.0s\n[CV 2/2; 50/648] START criterion=gini, max_depth=4, max_features=auto, min_samples_leaf=4, min_samples_split=2, splitter=random\n",
          "output_type": "stream"
        },
        {
          "name": "stderr",
          "text": "/lib/python3.11/site-packages/sklearn/tree/_classes.py:269: FutureWarning: `max_features='auto'` has been deprecated in 1.1 and will be removed in 1.3. To keep the past behaviour, explicitly set `max_features='sqrt'`.\n  warnings.warn(\n",
          "output_type": "stream"
        },
        {
          "name": "stdout",
          "text": "[CV 2/2; 50/648] END criterion=gini, max_depth=4, max_features=auto, min_samples_leaf=4, min_samples_split=2, splitter=random;, score=0.861 total time=   0.0s\n[CV 1/2; 51/648] START criterion=gini, max_depth=4, max_features=auto, min_samples_leaf=4, min_samples_split=5, splitter=best\n",
          "output_type": "stream"
        },
        {
          "name": "stderr",
          "text": "/lib/python3.11/site-packages/sklearn/tree/_classes.py:269: FutureWarning: `max_features='auto'` has been deprecated in 1.1 and will be removed in 1.3. To keep the past behaviour, explicitly set `max_features='sqrt'`.\n  warnings.warn(\n",
          "output_type": "stream"
        },
        {
          "name": "stdout",
          "text": "[CV 1/2; 51/648] END criterion=gini, max_depth=4, max_features=auto, min_samples_leaf=4, min_samples_split=5, splitter=best;, score=0.750 total time=   0.0s\n[CV 2/2; 51/648] START criterion=gini, max_depth=4, max_features=auto, min_samples_leaf=4, min_samples_split=5, splitter=best\n",
          "output_type": "stream"
        },
        {
          "name": "stderr",
          "text": "/lib/python3.11/site-packages/sklearn/tree/_classes.py:269: FutureWarning: `max_features='auto'` has been deprecated in 1.1 and will be removed in 1.3. To keep the past behaviour, explicitly set `max_features='sqrt'`.\n  warnings.warn(\n",
          "output_type": "stream"
        },
        {
          "name": "stdout",
          "text": "[CV 2/2; 51/648] END criterion=gini, max_depth=4, max_features=auto, min_samples_leaf=4, min_samples_split=5, splitter=best;, score=0.417 total time=   0.0s\n[CV 1/2; 52/648] START criterion=gini, max_depth=4, max_features=auto, min_samples_leaf=4, min_samples_split=5, splitter=random\n",
          "output_type": "stream"
        },
        {
          "name": "stderr",
          "text": "/lib/python3.11/site-packages/sklearn/tree/_classes.py:269: FutureWarning: `max_features='auto'` has been deprecated in 1.1 and will be removed in 1.3. To keep the past behaviour, explicitly set `max_features='sqrt'`.\n  warnings.warn(\n",
          "output_type": "stream"
        },
        {
          "name": "stdout",
          "text": "[CV 1/2; 52/648] END criterion=gini, max_depth=4, max_features=auto, min_samples_leaf=4, min_samples_split=5, splitter=random;, score=0.861 total time=   0.0s\n[CV 2/2; 52/648] START criterion=gini, max_depth=4, max_features=auto, min_samples_leaf=4, min_samples_split=5, splitter=random\n",
          "output_type": "stream"
        },
        {
          "name": "stderr",
          "text": "/lib/python3.11/site-packages/sklearn/tree/_classes.py:269: FutureWarning: `max_features='auto'` has been deprecated in 1.1 and will be removed in 1.3. To keep the past behaviour, explicitly set `max_features='sqrt'`.\n  warnings.warn(\n",
          "output_type": "stream"
        },
        {
          "name": "stdout",
          "text": "[CV 2/2; 52/648] END criterion=gini, max_depth=4, max_features=auto, min_samples_leaf=4, min_samples_split=5, splitter=random;, score=0.500 total time=   0.0s\n[CV 1/2; 53/648] START criterion=gini, max_depth=4, max_features=auto, min_samples_leaf=4, min_samples_split=10, splitter=best\n",
          "output_type": "stream"
        },
        {
          "name": "stderr",
          "text": "/lib/python3.11/site-packages/sklearn/tree/_classes.py:269: FutureWarning: `max_features='auto'` has been deprecated in 1.1 and will be removed in 1.3. To keep the past behaviour, explicitly set `max_features='sqrt'`.\n  warnings.warn(\n",
          "output_type": "stream"
        },
        {
          "name": "stdout",
          "text": "[CV 1/2; 53/648] END criterion=gini, max_depth=4, max_features=auto, min_samples_leaf=4, min_samples_split=10, splitter=best;, score=0.833 total time=   0.0s\n[CV 2/2; 53/648] START criterion=gini, max_depth=4, max_features=auto, min_samples_leaf=4, min_samples_split=10, splitter=best\n",
          "output_type": "stream"
        },
        {
          "name": "stderr",
          "text": "/lib/python3.11/site-packages/sklearn/tree/_classes.py:269: FutureWarning: `max_features='auto'` has been deprecated in 1.1 and will be removed in 1.3. To keep the past behaviour, explicitly set `max_features='sqrt'`.\n  warnings.warn(\n",
          "output_type": "stream"
        },
        {
          "name": "stdout",
          "text": "[CV 2/2; 53/648] END criterion=gini, max_depth=4, max_features=auto, min_samples_leaf=4, min_samples_split=10, splitter=best;, score=0.750 total time=   0.0s\n[CV 1/2; 54/648] START criterion=gini, max_depth=4, max_features=auto, min_samples_leaf=4, min_samples_split=10, splitter=random\n",
          "output_type": "stream"
        },
        {
          "name": "stderr",
          "text": "/lib/python3.11/site-packages/sklearn/tree/_classes.py:269: FutureWarning: `max_features='auto'` has been deprecated in 1.1 and will be removed in 1.3. To keep the past behaviour, explicitly set `max_features='sqrt'`.\n  warnings.warn(\n",
          "output_type": "stream"
        },
        {
          "name": "stdout",
          "text": "[CV 1/2; 54/648] END criterion=gini, max_depth=4, max_features=auto, min_samples_leaf=4, min_samples_split=10, splitter=random;, score=0.806 total time=   0.0s\n[CV 2/2; 54/648] START criterion=gini, max_depth=4, max_features=auto, min_samples_leaf=4, min_samples_split=10, splitter=random\n",
          "output_type": "stream"
        },
        {
          "name": "stderr",
          "text": "/lib/python3.11/site-packages/sklearn/tree/_classes.py:269: FutureWarning: `max_features='auto'` has been deprecated in 1.1 and will be removed in 1.3. To keep the past behaviour, explicitly set `max_features='sqrt'`.\n  warnings.warn(\n",
          "output_type": "stream"
        },
        {
          "name": "stdout",
          "text": "[CV 2/2; 54/648] END criterion=gini, max_depth=4, max_features=auto, min_samples_leaf=4, min_samples_split=10, splitter=random;, score=0.694 total time=   0.0s\n[CV 1/2; 55/648] START criterion=gini, max_depth=4, max_features=sqrt, min_samples_leaf=1, min_samples_split=2, splitter=best\n[CV 1/2; 55/648] END criterion=gini, max_depth=4, max_features=sqrt, min_samples_leaf=1, min_samples_split=2, splitter=best;, score=0.806 total time=   0.0s\n[CV 2/2; 55/648] START criterion=gini, max_depth=4, max_features=sqrt, min_samples_leaf=1, min_samples_split=2, splitter=best\n[CV 2/2; 55/648] END criterion=gini, max_depth=4, max_features=sqrt, min_samples_leaf=1, min_samples_split=2, splitter=best;, score=0.583 total time=   0.0s\n[CV 1/2; 56/648] START criterion=gini, max_depth=4, max_features=sqrt, min_samples_leaf=1, min_samples_split=2, splitter=random\n[CV 1/2; 56/648] END criterion=gini, max_depth=4, max_features=sqrt, min_samples_leaf=1, min_samples_split=2, splitter=random;, score=0.833 total time=   0.0s\n[CV 2/2; 56/648] START criterion=gini, max_depth=4, max_features=sqrt, min_samples_leaf=1, min_samples_split=2, splitter=random\n[CV 2/2; 56/648] END criterion=gini, max_depth=4, max_features=sqrt, min_samples_leaf=1, min_samples_split=2, splitter=random;, score=0.500 total time=   0.0s\n[CV 1/2; 57/648] START criterion=gini, max_depth=4, max_features=sqrt, min_samples_leaf=1, min_samples_split=5, splitter=best\n[CV 1/2; 57/648] END criterion=gini, max_depth=4, max_features=sqrt, min_samples_leaf=1, min_samples_split=5, splitter=best;, score=0.556 total time=   0.0s\n[CV 2/2; 57/648] START criterion=gini, max_depth=4, max_features=sqrt, min_samples_leaf=1, min_samples_split=5, splitter=best\n[CV 2/2; 57/648] END criterion=gini, max_depth=4, max_features=sqrt, min_samples_leaf=1, min_samples_split=5, splitter=best;, score=0.722 total time=   0.0s\n[CV 1/2; 58/648] START criterion=gini, max_depth=4, max_features=sqrt, min_samples_leaf=1, min_samples_split=5, splitter=random\n[CV 1/2; 58/648] END criterion=gini, max_depth=4, max_features=sqrt, min_samples_leaf=1, min_samples_split=5, splitter=random;, score=0.833 total time=   0.0s\n[CV 2/2; 58/648] START criterion=gini, max_depth=4, max_features=sqrt, min_samples_leaf=1, min_samples_split=5, splitter=random\n[CV 2/2; 58/648] END criterion=gini, max_depth=4, max_features=sqrt, min_samples_leaf=1, min_samples_split=5, splitter=random;, score=0.861 total time=   0.0s\n[CV 1/2; 59/648] START criterion=gini, max_depth=4, max_features=sqrt, min_samples_leaf=1, min_samples_split=10, splitter=best\n[CV 1/2; 59/648] END criterion=gini, max_depth=4, max_features=sqrt, min_samples_leaf=1, min_samples_split=10, splitter=best;, score=0.639 total time=   0.0s\n[CV 2/2; 59/648] START criterion=gini, max_depth=4, max_features=sqrt, min_samples_leaf=1, min_samples_split=10, splitter=best\n[CV 2/2; 59/648] END criterion=gini, max_depth=4, max_features=sqrt, min_samples_leaf=1, min_samples_split=10, splitter=best;, score=0.861 total time=   0.0s\n[CV 1/2; 60/648] START criterion=gini, max_depth=4, max_features=sqrt, min_samples_leaf=1, min_samples_split=10, splitter=random\n[CV 1/2; 60/648] END criterion=gini, max_depth=4, max_features=sqrt, min_samples_leaf=1, min_samples_split=10, splitter=random;, score=0.667 total time=   0.0s\n[CV 2/2; 60/648] START criterion=gini, max_depth=4, max_features=sqrt, min_samples_leaf=1, min_samples_split=10, splitter=random\n[CV 2/2; 60/648] END criterion=gini, max_depth=4, max_features=sqrt, min_samples_leaf=1, min_samples_split=10, splitter=random;, score=0.611 total time=   0.0s\n[CV 1/2; 61/648] START criterion=gini, max_depth=4, max_features=sqrt, min_samples_leaf=2, min_samples_split=2, splitter=best\n[CV 1/2; 61/648] END criterion=gini, max_depth=4, max_features=sqrt, min_samples_leaf=2, min_samples_split=2, splitter=best;, score=0.750 total time=   0.0s\n[CV 2/2; 61/648] START criterion=gini, max_depth=4, max_features=sqrt, min_samples_leaf=2, min_samples_split=2, splitter=best\n[CV 2/2; 61/648] END criterion=gini, max_depth=4, max_features=sqrt, min_samples_leaf=2, min_samples_split=2, splitter=best;, score=0.722 total time=   0.0s\n[CV 1/2; 62/648] START criterion=gini, max_depth=4, max_features=sqrt, min_samples_leaf=2, min_samples_split=2, splitter=random\n[CV 1/2; 62/648] END criterion=gini, max_depth=4, max_features=sqrt, min_samples_leaf=2, min_samples_split=2, splitter=random;, score=0.667 total time=   0.0s\n[CV 2/2; 62/648] START criterion=gini, max_depth=4, max_features=sqrt, min_samples_leaf=2, min_samples_split=2, splitter=random\n[CV 2/2; 62/648] END criterion=gini, max_depth=4, max_features=sqrt, min_samples_leaf=2, min_samples_split=2, splitter=random;, score=0.833 total time=   0.0s\n[CV 1/2; 63/648] START criterion=gini, max_depth=4, max_features=sqrt, min_samples_leaf=2, min_samples_split=5, splitter=best\n[CV 1/2; 63/648] END criterion=gini, max_depth=4, max_features=sqrt, min_samples_leaf=2, min_samples_split=5, splitter=best;, score=0.528 total time=   0.0s\n[CV 2/2; 63/648] START criterion=gini, max_depth=4, max_features=sqrt, min_samples_leaf=2, min_samples_split=5, splitter=best\n[CV 2/2; 63/648] END criterion=gini, max_depth=4, max_features=sqrt, min_samples_leaf=2, min_samples_split=5, splitter=best;, score=0.611 total time=   0.0s\n[CV 1/2; 64/648] START criterion=gini, max_depth=4, max_features=sqrt, min_samples_leaf=2, min_samples_split=5, splitter=random\n[CV 1/2; 64/648] END criterion=gini, max_depth=4, max_features=sqrt, min_samples_leaf=2, min_samples_split=5, splitter=random;, score=0.722 total time=   0.0s\n[CV 2/2; 64/648] START criterion=gini, max_depth=4, max_features=sqrt, min_samples_leaf=2, min_samples_split=5, splitter=random\n[CV 2/2; 64/648] END criterion=gini, max_depth=4, max_features=sqrt, min_samples_leaf=2, min_samples_split=5, splitter=random;, score=0.861 total time=   0.0s\n[CV 1/2; 65/648] START criterion=gini, max_depth=4, max_features=sqrt, min_samples_leaf=2, min_samples_split=10, splitter=best\n[CV 1/2; 65/648] END criterion=gini, max_depth=4, max_features=sqrt, min_samples_leaf=2, min_samples_split=10, splitter=best;, score=0.861 total time=   0.0s\n[CV 2/2; 65/648] START criterion=gini, max_depth=4, max_features=sqrt, min_samples_leaf=2, min_samples_split=10, splitter=best\n[CV 2/2; 65/648] END criterion=gini, max_depth=4, max_features=sqrt, min_samples_leaf=2, min_samples_split=10, splitter=best;, score=0.667 total time=   0.0s\n[CV 1/2; 66/648] START criterion=gini, max_depth=4, max_features=sqrt, min_samples_leaf=2, min_samples_split=10, splitter=random\n[CV 1/2; 66/648] END criterion=gini, max_depth=4, max_features=sqrt, min_samples_leaf=2, min_samples_split=10, splitter=random;, score=0.667 total time=   0.0s\n[CV 2/2; 66/648] START criterion=gini, max_depth=4, max_features=sqrt, min_samples_leaf=2, min_samples_split=10, splitter=random\n[CV 2/2; 66/648] END criterion=gini, max_depth=4, max_features=sqrt, min_samples_leaf=2, min_samples_split=10, splitter=random;, score=0.861 total time=   0.0s\n[CV 1/2; 67/648] START criterion=gini, max_depth=4, max_features=sqrt, min_samples_leaf=4, min_samples_split=2, splitter=best\n[CV 1/2; 67/648] END criterion=gini, max_depth=4, max_features=sqrt, min_samples_leaf=4, min_samples_split=2, splitter=best;, score=0.861 total time=   0.0s\n[CV 2/2; 67/648] START criterion=gini, max_depth=4, max_features=sqrt, min_samples_leaf=4, min_samples_split=2, splitter=best\n[CV 2/2; 67/648] END criterion=gini, max_depth=4, max_features=sqrt, min_samples_leaf=4, min_samples_split=2, splitter=best;, score=0.750 total time=   0.0s\n[CV 1/2; 68/648] START criterion=gini, max_depth=4, max_features=sqrt, min_samples_leaf=4, min_samples_split=2, splitter=random\n[CV 1/2; 68/648] END criterion=gini, max_depth=4, max_features=sqrt, min_samples_leaf=4, min_samples_split=2, splitter=random;, score=0.833 total time=   0.0s\n[CV 2/2; 68/648] START criterion=gini, max_depth=4, max_features=sqrt, min_samples_leaf=4, min_samples_split=2, splitter=random\n[CV 2/2; 68/648] END criterion=gini, max_depth=4, max_features=sqrt, min_samples_leaf=4, min_samples_split=2, splitter=random;, score=0.667 total time=   0.0s\n[CV 1/2; 69/648] START criterion=gini, max_depth=4, max_features=sqrt, min_samples_leaf=4, min_samples_split=5, splitter=best\n[CV 1/2; 69/648] END criterion=gini, max_depth=4, max_features=sqrt, min_samples_leaf=4, min_samples_split=5, splitter=best;, score=0.917 total time=   0.0s\n[CV 2/2; 69/648] START criterion=gini, max_depth=4, max_features=sqrt, min_samples_leaf=4, min_samples_split=5, splitter=best\n[CV 2/2; 69/648] END criterion=gini, max_depth=4, max_features=sqrt, min_samples_leaf=4, min_samples_split=5, splitter=best;, score=0.667 total time=   0.0s\n[CV 1/2; 70/648] START criterion=gini, max_depth=4, max_features=sqrt, min_samples_leaf=4, min_samples_split=5, splitter=random\n[CV 1/2; 70/648] END criterion=gini, max_depth=4, max_features=sqrt, min_samples_leaf=4, min_samples_split=5, splitter=random;, score=0.889 total time=   0.0s\n[CV 2/2; 70/648] START criterion=gini, max_depth=4, max_features=sqrt, min_samples_leaf=4, min_samples_split=5, splitter=random\n[CV 2/2; 70/648] END criterion=gini, max_depth=4, max_features=sqrt, min_samples_leaf=4, min_samples_split=5, splitter=random;, score=0.778 total time=   0.0s\n[CV 1/2; 71/648] START criterion=gini, max_depth=4, max_features=sqrt, min_samples_leaf=4, min_samples_split=10, splitter=best\n[CV 1/2; 71/648] END criterion=gini, max_depth=4, max_features=sqrt, min_samples_leaf=4, min_samples_split=10, splitter=best;, score=0.861 total time=   0.0s\n[CV 2/2; 71/648] START criterion=gini, max_depth=4, max_features=sqrt, min_samples_leaf=4, min_samples_split=10, splitter=best\n[CV 2/2; 71/648] END criterion=gini, max_depth=4, max_features=sqrt, min_samples_leaf=4, min_samples_split=10, splitter=best;, score=0.472 total time=   0.0s\n[CV 1/2; 72/648] START criterion=gini, max_depth=4, max_features=sqrt, min_samples_leaf=4, min_samples_split=10, splitter=random\n[CV 1/2; 72/648] END criterion=gini, max_depth=4, max_features=sqrt, min_samples_leaf=4, min_samples_split=10, splitter=random;, score=0.806 total time=   0.0s\n[CV 2/2; 72/648] START criterion=gini, max_depth=4, max_features=sqrt, min_samples_leaf=4, min_samples_split=10, splitter=random\n[CV 2/2; 72/648] END criterion=gini, max_depth=4, max_features=sqrt, min_samples_leaf=4, min_samples_split=10, splitter=random;, score=0.556 total time=   0.0s\n[CV 1/2; 73/648] START criterion=gini, max_depth=6, max_features=auto, min_samples_leaf=1, min_samples_split=2, splitter=best\n",
          "output_type": "stream"
        },
        {
          "name": "stderr",
          "text": "/lib/python3.11/site-packages/sklearn/tree/_classes.py:269: FutureWarning: `max_features='auto'` has been deprecated in 1.1 and will be removed in 1.3. To keep the past behaviour, explicitly set `max_features='sqrt'`.\n  warnings.warn(\n",
          "output_type": "stream"
        },
        {
          "name": "stdout",
          "text": "[CV 1/2; 73/648] END criterion=gini, max_depth=6, max_features=auto, min_samples_leaf=1, min_samples_split=2, splitter=best;, score=0.806 total time=   0.0s\n[CV 2/2; 73/648] START criterion=gini, max_depth=6, max_features=auto, min_samples_leaf=1, min_samples_split=2, splitter=best\n",
          "output_type": "stream"
        },
        {
          "name": "stderr",
          "text": "/lib/python3.11/site-packages/sklearn/tree/_classes.py:269: FutureWarning: `max_features='auto'` has been deprecated in 1.1 and will be removed in 1.3. To keep the past behaviour, explicitly set `max_features='sqrt'`.\n  warnings.warn(\n",
          "output_type": "stream"
        },
        {
          "name": "stdout",
          "text": "[CV 2/2; 73/648] END criterion=gini, max_depth=6, max_features=auto, min_samples_leaf=1, min_samples_split=2, splitter=best;, score=0.778 total time=   0.0s\n[CV 1/2; 74/648] START criterion=gini, max_depth=6, max_features=auto, min_samples_leaf=1, min_samples_split=2, splitter=random\n",
          "output_type": "stream"
        },
        {
          "name": "stderr",
          "text": "/lib/python3.11/site-packages/sklearn/tree/_classes.py:269: FutureWarning: `max_features='auto'` has been deprecated in 1.1 and will be removed in 1.3. To keep the past behaviour, explicitly set `max_features='sqrt'`.\n  warnings.warn(\n",
          "output_type": "stream"
        },
        {
          "name": "stdout",
          "text": "[CV 1/2; 74/648] END criterion=gini, max_depth=6, max_features=auto, min_samples_leaf=1, min_samples_split=2, splitter=random;, score=0.639 total time=   0.0s\n[CV 2/2; 74/648] START criterion=gini, max_depth=6, max_features=auto, min_samples_leaf=1, min_samples_split=2, splitter=random\n",
          "output_type": "stream"
        },
        {
          "name": "stderr",
          "text": "/lib/python3.11/site-packages/sklearn/tree/_classes.py:269: FutureWarning: `max_features='auto'` has been deprecated in 1.1 and will be removed in 1.3. To keep the past behaviour, explicitly set `max_features='sqrt'`.\n  warnings.warn(\n",
          "output_type": "stream"
        },
        {
          "name": "stdout",
          "text": "[CV 2/2; 74/648] END criterion=gini, max_depth=6, max_features=auto, min_samples_leaf=1, min_samples_split=2, splitter=random;, score=0.667 total time=   0.0s\n[CV 1/2; 75/648] START criterion=gini, max_depth=6, max_features=auto, min_samples_leaf=1, min_samples_split=5, splitter=best\n",
          "output_type": "stream"
        },
        {
          "name": "stderr",
          "text": "/lib/python3.11/site-packages/sklearn/tree/_classes.py:269: FutureWarning: `max_features='auto'` has been deprecated in 1.1 and will be removed in 1.3. To keep the past behaviour, explicitly set `max_features='sqrt'`.\n  warnings.warn(\n",
          "output_type": "stream"
        },
        {
          "name": "stdout",
          "text": "[CV 1/2; 75/648] END criterion=gini, max_depth=6, max_features=auto, min_samples_leaf=1, min_samples_split=5, splitter=best;, score=0.806 total time=   0.0s\n[CV 2/2; 75/648] START criterion=gini, max_depth=6, max_features=auto, min_samples_leaf=1, min_samples_split=5, splitter=best\n",
          "output_type": "stream"
        },
        {
          "name": "stderr",
          "text": "/lib/python3.11/site-packages/sklearn/tree/_classes.py:269: FutureWarning: `max_features='auto'` has been deprecated in 1.1 and will be removed in 1.3. To keep the past behaviour, explicitly set `max_features='sqrt'`.\n  warnings.warn(\n",
          "output_type": "stream"
        },
        {
          "name": "stdout",
          "text": "[CV 2/2; 75/648] END criterion=gini, max_depth=6, max_features=auto, min_samples_leaf=1, min_samples_split=5, splitter=best;, score=0.778 total time=   0.0s\n[CV 1/2; 76/648] START criterion=gini, max_depth=6, max_features=auto, min_samples_leaf=1, min_samples_split=5, splitter=random\n",
          "output_type": "stream"
        },
        {
          "name": "stderr",
          "text": "/lib/python3.11/site-packages/sklearn/tree/_classes.py:269: FutureWarning: `max_features='auto'` has been deprecated in 1.1 and will be removed in 1.3. To keep the past behaviour, explicitly set `max_features='sqrt'`.\n  warnings.warn(\n",
          "output_type": "stream"
        },
        {
          "name": "stdout",
          "text": "[CV 1/2; 76/648] END criterion=gini, max_depth=6, max_features=auto, min_samples_leaf=1, min_samples_split=5, splitter=random;, score=0.667 total time=   0.0s\n[CV 2/2; 76/648] START criterion=gini, max_depth=6, max_features=auto, min_samples_leaf=1, min_samples_split=5, splitter=random\n",
          "output_type": "stream"
        },
        {
          "name": "stderr",
          "text": "/lib/python3.11/site-packages/sklearn/tree/_classes.py:269: FutureWarning: `max_features='auto'` has been deprecated in 1.1 and will be removed in 1.3. To keep the past behaviour, explicitly set `max_features='sqrt'`.\n  warnings.warn(\n",
          "output_type": "stream"
        },
        {
          "name": "stdout",
          "text": "[CV 2/2; 76/648] END criterion=gini, max_depth=6, max_features=auto, min_samples_leaf=1, min_samples_split=5, splitter=random;, score=0.639 total time=   0.0s\n[CV 1/2; 77/648] START criterion=gini, max_depth=6, max_features=auto, min_samples_leaf=1, min_samples_split=10, splitter=best\n",
          "output_type": "stream"
        },
        {
          "name": "stderr",
          "text": "/lib/python3.11/site-packages/sklearn/tree/_classes.py:269: FutureWarning: `max_features='auto'` has been deprecated in 1.1 and will be removed in 1.3. To keep the past behaviour, explicitly set `max_features='sqrt'`.\n  warnings.warn(\n",
          "output_type": "stream"
        },
        {
          "name": "stdout",
          "text": "[CV 1/2; 77/648] END criterion=gini, max_depth=6, max_features=auto, min_samples_leaf=1, min_samples_split=10, splitter=best;, score=0.750 total time=   0.0s\n[CV 2/2; 77/648] START criterion=gini, max_depth=6, max_features=auto, min_samples_leaf=1, min_samples_split=10, splitter=best\n",
          "output_type": "stream"
        },
        {
          "name": "stderr",
          "text": "/lib/python3.11/site-packages/sklearn/tree/_classes.py:269: FutureWarning: `max_features='auto'` has been deprecated in 1.1 and will be removed in 1.3. To keep the past behaviour, explicitly set `max_features='sqrt'`.\n  warnings.warn(\n",
          "output_type": "stream"
        },
        {
          "name": "stdout",
          "text": "[CV 2/2; 77/648] END criterion=gini, max_depth=6, max_features=auto, min_samples_leaf=1, min_samples_split=10, splitter=best;, score=0.611 total time=   0.0s\n[CV 1/2; 78/648] START criterion=gini, max_depth=6, max_features=auto, min_samples_leaf=1, min_samples_split=10, splitter=random\n",
          "output_type": "stream"
        },
        {
          "name": "stderr",
          "text": "/lib/python3.11/site-packages/sklearn/tree/_classes.py:269: FutureWarning: `max_features='auto'` has been deprecated in 1.1 and will be removed in 1.3. To keep the past behaviour, explicitly set `max_features='sqrt'`.\n  warnings.warn(\n",
          "output_type": "stream"
        },
        {
          "name": "stdout",
          "text": "[CV 1/2; 78/648] END criterion=gini, max_depth=6, max_features=auto, min_samples_leaf=1, min_samples_split=10, splitter=random;, score=0.750 total time=   0.0s\n[CV 2/2; 78/648] START criterion=gini, max_depth=6, max_features=auto, min_samples_leaf=1, min_samples_split=10, splitter=random\n",
          "output_type": "stream"
        },
        {
          "name": "stderr",
          "text": "/lib/python3.11/site-packages/sklearn/tree/_classes.py:269: FutureWarning: `max_features='auto'` has been deprecated in 1.1 and will be removed in 1.3. To keep the past behaviour, explicitly set `max_features='sqrt'`.\n  warnings.warn(\n",
          "output_type": "stream"
        },
        {
          "name": "stdout",
          "text": "[CV 2/2; 78/648] END criterion=gini, max_depth=6, max_features=auto, min_samples_leaf=1, min_samples_split=10, splitter=random;, score=0.639 total time=   0.0s\n[CV 1/2; 79/648] START criterion=gini, max_depth=6, max_features=auto, min_samples_leaf=2, min_samples_split=2, splitter=best\n",
          "output_type": "stream"
        },
        {
          "name": "stderr",
          "text": "/lib/python3.11/site-packages/sklearn/tree/_classes.py:269: FutureWarning: `max_features='auto'` has been deprecated in 1.1 and will be removed in 1.3. To keep the past behaviour, explicitly set `max_features='sqrt'`.\n  warnings.warn(\n",
          "output_type": "stream"
        },
        {
          "name": "stdout",
          "text": "[CV 1/2; 79/648] END criterion=gini, max_depth=6, max_features=auto, min_samples_leaf=2, min_samples_split=2, splitter=best;, score=0.861 total time=   0.0s\n[CV 2/2; 79/648] START criterion=gini, max_depth=6, max_features=auto, min_samples_leaf=2, min_samples_split=2, splitter=best\n",
          "output_type": "stream"
        },
        {
          "name": "stderr",
          "text": "/lib/python3.11/site-packages/sklearn/tree/_classes.py:269: FutureWarning: `max_features='auto'` has been deprecated in 1.1 and will be removed in 1.3. To keep the past behaviour, explicitly set `max_features='sqrt'`.\n  warnings.warn(\n",
          "output_type": "stream"
        },
        {
          "name": "stdout",
          "text": "[CV 2/2; 79/648] END criterion=gini, max_depth=6, max_features=auto, min_samples_leaf=2, min_samples_split=2, splitter=best;, score=0.667 total time=   0.0s\n[CV 1/2; 80/648] START criterion=gini, max_depth=6, max_features=auto, min_samples_leaf=2, min_samples_split=2, splitter=random\n",
          "output_type": "stream"
        },
        {
          "name": "stderr",
          "text": "/lib/python3.11/site-packages/sklearn/tree/_classes.py:269: FutureWarning: `max_features='auto'` has been deprecated in 1.1 and will be removed in 1.3. To keep the past behaviour, explicitly set `max_features='sqrt'`.\n  warnings.warn(\n",
          "output_type": "stream"
        },
        {
          "name": "stdout",
          "text": "[CV 1/2; 80/648] END criterion=gini, max_depth=6, max_features=auto, min_samples_leaf=2, min_samples_split=2, splitter=random;, score=0.861 total time=   0.0s\n[CV 2/2; 80/648] START criterion=gini, max_depth=6, max_features=auto, min_samples_leaf=2, min_samples_split=2, splitter=random\n",
          "output_type": "stream"
        },
        {
          "name": "stderr",
          "text": "/lib/python3.11/site-packages/sklearn/tree/_classes.py:269: FutureWarning: `max_features='auto'` has been deprecated in 1.1 and will be removed in 1.3. To keep the past behaviour, explicitly set `max_features='sqrt'`.\n  warnings.warn(\n",
          "output_type": "stream"
        },
        {
          "name": "stdout",
          "text": "[CV 2/2; 80/648] END criterion=gini, max_depth=6, max_features=auto, min_samples_leaf=2, min_samples_split=2, splitter=random;, score=0.528 total time=   0.0s\n[CV 1/2; 81/648] START criterion=gini, max_depth=6, max_features=auto, min_samples_leaf=2, min_samples_split=5, splitter=best\n",
          "output_type": "stream"
        },
        {
          "name": "stderr",
          "text": "/lib/python3.11/site-packages/sklearn/tree/_classes.py:269: FutureWarning: `max_features='auto'` has been deprecated in 1.1 and will be removed in 1.3. To keep the past behaviour, explicitly set `max_features='sqrt'`.\n  warnings.warn(\n",
          "output_type": "stream"
        },
        {
          "name": "stdout",
          "text": "[CV 1/2; 81/648] END criterion=gini, max_depth=6, max_features=auto, min_samples_leaf=2, min_samples_split=5, splitter=best;, score=0.694 total time=   0.0s\n[CV 2/2; 81/648] START criterion=gini, max_depth=6, max_features=auto, min_samples_leaf=2, min_samples_split=5, splitter=best\n",
          "output_type": "stream"
        },
        {
          "name": "stderr",
          "text": "/lib/python3.11/site-packages/sklearn/tree/_classes.py:269: FutureWarning: `max_features='auto'` has been deprecated in 1.1 and will be removed in 1.3. To keep the past behaviour, explicitly set `max_features='sqrt'`.\n  warnings.warn(\n",
          "output_type": "stream"
        },
        {
          "name": "stdout",
          "text": "[CV 2/2; 81/648] END criterion=gini, max_depth=6, max_features=auto, min_samples_leaf=2, min_samples_split=5, splitter=best;, score=0.750 total time=   0.0s\n[CV 1/2; 82/648] START criterion=gini, max_depth=6, max_features=auto, min_samples_leaf=2, min_samples_split=5, splitter=random\n",
          "output_type": "stream"
        },
        {
          "name": "stderr",
          "text": "/lib/python3.11/site-packages/sklearn/tree/_classes.py:269: FutureWarning: `max_features='auto'` has been deprecated in 1.1 and will be removed in 1.3. To keep the past behaviour, explicitly set `max_features='sqrt'`.\n  warnings.warn(\n",
          "output_type": "stream"
        },
        {
          "name": "stdout",
          "text": "[CV 1/2; 82/648] END criterion=gini, max_depth=6, max_features=auto, min_samples_leaf=2, min_samples_split=5, splitter=random;, score=0.639 total time=   0.0s\n[CV 2/2; 82/648] START criterion=gini, max_depth=6, max_features=auto, min_samples_leaf=2, min_samples_split=5, splitter=random\n",
          "output_type": "stream"
        },
        {
          "name": "stderr",
          "text": "/lib/python3.11/site-packages/sklearn/tree/_classes.py:269: FutureWarning: `max_features='auto'` has been deprecated in 1.1 and will be removed in 1.3. To keep the past behaviour, explicitly set `max_features='sqrt'`.\n  warnings.warn(\n",
          "output_type": "stream"
        },
        {
          "name": "stdout",
          "text": "[CV 2/2; 82/648] END criterion=gini, max_depth=6, max_features=auto, min_samples_leaf=2, min_samples_split=5, splitter=random;, score=0.750 total time=   0.0s\n[CV 1/2; 83/648] START criterion=gini, max_depth=6, max_features=auto, min_samples_leaf=2, min_samples_split=10, splitter=best\n",
          "output_type": "stream"
        },
        {
          "name": "stderr",
          "text": "/lib/python3.11/site-packages/sklearn/tree/_classes.py:269: FutureWarning: `max_features='auto'` has been deprecated in 1.1 and will be removed in 1.3. To keep the past behaviour, explicitly set `max_features='sqrt'`.\n  warnings.warn(\n",
          "output_type": "stream"
        },
        {
          "name": "stdout",
          "text": "[CV 1/2; 83/648] END criterion=gini, max_depth=6, max_features=auto, min_samples_leaf=2, min_samples_split=10, splitter=best;, score=0.833 total time=   0.0s\n[CV 2/2; 83/648] START criterion=gini, max_depth=6, max_features=auto, min_samples_leaf=2, min_samples_split=10, splitter=best\n",
          "output_type": "stream"
        },
        {
          "name": "stderr",
          "text": "/lib/python3.11/site-packages/sklearn/tree/_classes.py:269: FutureWarning: `max_features='auto'` has been deprecated in 1.1 and will be removed in 1.3. To keep the past behaviour, explicitly set `max_features='sqrt'`.\n  warnings.warn(\n",
          "output_type": "stream"
        },
        {
          "name": "stdout",
          "text": "[CV 2/2; 83/648] END criterion=gini, max_depth=6, max_features=auto, min_samples_leaf=2, min_samples_split=10, splitter=best;, score=0.667 total time=   0.0s\n[CV 1/2; 84/648] START criterion=gini, max_depth=6, max_features=auto, min_samples_leaf=2, min_samples_split=10, splitter=random\n",
          "output_type": "stream"
        },
        {
          "name": "stderr",
          "text": "/lib/python3.11/site-packages/sklearn/tree/_classes.py:269: FutureWarning: `max_features='auto'` has been deprecated in 1.1 and will be removed in 1.3. To keep the past behaviour, explicitly set `max_features='sqrt'`.\n  warnings.warn(\n",
          "output_type": "stream"
        },
        {
          "name": "stdout",
          "text": "[CV 1/2; 84/648] END criterion=gini, max_depth=6, max_features=auto, min_samples_leaf=2, min_samples_split=10, splitter=random;, score=0.611 total time=   0.0s\n[CV 2/2; 84/648] START criterion=gini, max_depth=6, max_features=auto, min_samples_leaf=2, min_samples_split=10, splitter=random\n",
          "output_type": "stream"
        },
        {
          "name": "stderr",
          "text": "/lib/python3.11/site-packages/sklearn/tree/_classes.py:269: FutureWarning: `max_features='auto'` has been deprecated in 1.1 and will be removed in 1.3. To keep the past behaviour, explicitly set `max_features='sqrt'`.\n  warnings.warn(\n",
          "output_type": "stream"
        },
        {
          "name": "stdout",
          "text": "[CV 2/2; 84/648] END criterion=gini, max_depth=6, max_features=auto, min_samples_leaf=2, min_samples_split=10, splitter=random;, score=0.778 total time=   0.0s\n[CV 1/2; 85/648] START criterion=gini, max_depth=6, max_features=auto, min_samples_leaf=4, min_samples_split=2, splitter=best\n",
          "output_type": "stream"
        },
        {
          "name": "stderr",
          "text": "/lib/python3.11/site-packages/sklearn/tree/_classes.py:269: FutureWarning: `max_features='auto'` has been deprecated in 1.1 and will be removed in 1.3. To keep the past behaviour, explicitly set `max_features='sqrt'`.\n  warnings.warn(\n",
          "output_type": "stream"
        },
        {
          "name": "stdout",
          "text": "[CV 1/2; 85/648] END criterion=gini, max_depth=6, max_features=auto, min_samples_leaf=4, min_samples_split=2, splitter=best;, score=0.667 total time=   0.0s\n[CV 2/2; 85/648] START criterion=gini, max_depth=6, max_features=auto, min_samples_leaf=4, min_samples_split=2, splitter=best\n",
          "output_type": "stream"
        },
        {
          "name": "stderr",
          "text": "/lib/python3.11/site-packages/sklearn/tree/_classes.py:269: FutureWarning: `max_features='auto'` has been deprecated in 1.1 and will be removed in 1.3. To keep the past behaviour, explicitly set `max_features='sqrt'`.\n  warnings.warn(\n",
          "output_type": "stream"
        },
        {
          "name": "stdout",
          "text": "[CV 2/2; 85/648] END criterion=gini, max_depth=6, max_features=auto, min_samples_leaf=4, min_samples_split=2, splitter=best;, score=0.667 total time=   0.0s\n[CV 1/2; 86/648] START criterion=gini, max_depth=6, max_features=auto, min_samples_leaf=4, min_samples_split=2, splitter=random\n",
          "output_type": "stream"
        },
        {
          "name": "stderr",
          "text": "/lib/python3.11/site-packages/sklearn/tree/_classes.py:269: FutureWarning: `max_features='auto'` has been deprecated in 1.1 and will be removed in 1.3. To keep the past behaviour, explicitly set `max_features='sqrt'`.\n  warnings.warn(\n",
          "output_type": "stream"
        },
        {
          "name": "stdout",
          "text": "[CV 1/2; 86/648] END criterion=gini, max_depth=6, max_features=auto, min_samples_leaf=4, min_samples_split=2, splitter=random;, score=0.861 total time=   0.0s\n[CV 2/2; 86/648] START criterion=gini, max_depth=6, max_features=auto, min_samples_leaf=4, min_samples_split=2, splitter=random\n",
          "output_type": "stream"
        },
        {
          "name": "stderr",
          "text": "/lib/python3.11/site-packages/sklearn/tree/_classes.py:269: FutureWarning: `max_features='auto'` has been deprecated in 1.1 and will be removed in 1.3. To keep the past behaviour, explicitly set `max_features='sqrt'`.\n  warnings.warn(\n",
          "output_type": "stream"
        },
        {
          "name": "stdout",
          "text": "[CV 2/2; 86/648] END criterion=gini, max_depth=6, max_features=auto, min_samples_leaf=4, min_samples_split=2, splitter=random;, score=0.750 total time=   0.0s\n[CV 1/2; 87/648] START criterion=gini, max_depth=6, max_features=auto, min_samples_leaf=4, min_samples_split=5, splitter=best\n",
          "output_type": "stream"
        },
        {
          "name": "stderr",
          "text": "/lib/python3.11/site-packages/sklearn/tree/_classes.py:269: FutureWarning: `max_features='auto'` has been deprecated in 1.1 and will be removed in 1.3. To keep the past behaviour, explicitly set `max_features='sqrt'`.\n  warnings.warn(\n",
          "output_type": "stream"
        },
        {
          "name": "stdout",
          "text": "[CV 1/2; 87/648] END criterion=gini, max_depth=6, max_features=auto, min_samples_leaf=4, min_samples_split=5, splitter=best;, score=0.667 total time=   0.0s\n[CV 2/2; 87/648] START criterion=gini, max_depth=6, max_features=auto, min_samples_leaf=4, min_samples_split=5, splitter=best\n",
          "output_type": "stream"
        },
        {
          "name": "stderr",
          "text": "/lib/python3.11/site-packages/sklearn/tree/_classes.py:269: FutureWarning: `max_features='auto'` has been deprecated in 1.1 and will be removed in 1.3. To keep the past behaviour, explicitly set `max_features='sqrt'`.\n  warnings.warn(\n",
          "output_type": "stream"
        },
        {
          "name": "stdout",
          "text": "[CV 2/2; 87/648] END criterion=gini, max_depth=6, max_features=auto, min_samples_leaf=4, min_samples_split=5, splitter=best;, score=0.667 total time=   0.0s\n[CV 1/2; 88/648] START criterion=gini, max_depth=6, max_features=auto, min_samples_leaf=4, min_samples_split=5, splitter=random\n",
          "output_type": "stream"
        },
        {
          "name": "stderr",
          "text": "/lib/python3.11/site-packages/sklearn/tree/_classes.py:269: FutureWarning: `max_features='auto'` has been deprecated in 1.1 and will be removed in 1.3. To keep the past behaviour, explicitly set `max_features='sqrt'`.\n  warnings.warn(\n",
          "output_type": "stream"
        },
        {
          "name": "stdout",
          "text": "[CV 1/2; 88/648] END criterion=gini, max_depth=6, max_features=auto, min_samples_leaf=4, min_samples_split=5, splitter=random;, score=0.750 total time=   0.0s\n[CV 2/2; 88/648] START criterion=gini, max_depth=6, max_features=auto, min_samples_leaf=4, min_samples_split=5, splitter=random\n",
          "output_type": "stream"
        },
        {
          "name": "stderr",
          "text": "/lib/python3.11/site-packages/sklearn/tree/_classes.py:269: FutureWarning: `max_features='auto'` has been deprecated in 1.1 and will be removed in 1.3. To keep the past behaviour, explicitly set `max_features='sqrt'`.\n  warnings.warn(\n",
          "output_type": "stream"
        },
        {
          "name": "stdout",
          "text": "[CV 2/2; 88/648] END criterion=gini, max_depth=6, max_features=auto, min_samples_leaf=4, min_samples_split=5, splitter=random;, score=0.750 total time=   0.0s\n[CV 1/2; 89/648] START criterion=gini, max_depth=6, max_features=auto, min_samples_leaf=4, min_samples_split=10, splitter=best\n",
          "output_type": "stream"
        },
        {
          "name": "stderr",
          "text": "/lib/python3.11/site-packages/sklearn/tree/_classes.py:269: FutureWarning: `max_features='auto'` has been deprecated in 1.1 and will be removed in 1.3. To keep the past behaviour, explicitly set `max_features='sqrt'`.\n  warnings.warn(\n",
          "output_type": "stream"
        },
        {
          "name": "stdout",
          "text": "[CV 1/2; 89/648] END criterion=gini, max_depth=6, max_features=auto, min_samples_leaf=4, min_samples_split=10, splitter=best;, score=0.833 total time=   0.0s\n[CV 2/2; 89/648] START criterion=gini, max_depth=6, max_features=auto, min_samples_leaf=4, min_samples_split=10, splitter=best\n",
          "output_type": "stream"
        },
        {
          "name": "stderr",
          "text": "/lib/python3.11/site-packages/sklearn/tree/_classes.py:269: FutureWarning: `max_features='auto'` has been deprecated in 1.1 and will be removed in 1.3. To keep the past behaviour, explicitly set `max_features='sqrt'`.\n  warnings.warn(\n",
          "output_type": "stream"
        },
        {
          "name": "stdout",
          "text": "[CV 2/2; 89/648] END criterion=gini, max_depth=6, max_features=auto, min_samples_leaf=4, min_samples_split=10, splitter=best;, score=0.556 total time=   0.0s\n[CV 1/2; 90/648] START criterion=gini, max_depth=6, max_features=auto, min_samples_leaf=4, min_samples_split=10, splitter=random\n",
          "output_type": "stream"
        },
        {
          "name": "stderr",
          "text": "/lib/python3.11/site-packages/sklearn/tree/_classes.py:269: FutureWarning: `max_features='auto'` has been deprecated in 1.1 and will be removed in 1.3. To keep the past behaviour, explicitly set `max_features='sqrt'`.\n  warnings.warn(\n",
          "output_type": "stream"
        },
        {
          "name": "stdout",
          "text": "[CV 1/2; 90/648] END criterion=gini, max_depth=6, max_features=auto, min_samples_leaf=4, min_samples_split=10, splitter=random;, score=0.889 total time=   0.0s\n[CV 2/2; 90/648] START criterion=gini, max_depth=6, max_features=auto, min_samples_leaf=4, min_samples_split=10, splitter=random\n",
          "output_type": "stream"
        },
        {
          "name": "stderr",
          "text": "/lib/python3.11/site-packages/sklearn/tree/_classes.py:269: FutureWarning: `max_features='auto'` has been deprecated in 1.1 and will be removed in 1.3. To keep the past behaviour, explicitly set `max_features='sqrt'`.\n  warnings.warn(\n",
          "output_type": "stream"
        },
        {
          "name": "stdout",
          "text": "[CV 2/2; 90/648] END criterion=gini, max_depth=6, max_features=auto, min_samples_leaf=4, min_samples_split=10, splitter=random;, score=0.861 total time=   0.0s\n[CV 1/2; 91/648] START criterion=gini, max_depth=6, max_features=sqrt, min_samples_leaf=1, min_samples_split=2, splitter=best\n[CV 1/2; 91/648] END criterion=gini, max_depth=6, max_features=sqrt, min_samples_leaf=1, min_samples_split=2, splitter=best;, score=0.778 total time=   0.0s\n[CV 2/2; 91/648] START criterion=gini, max_depth=6, max_features=sqrt, min_samples_leaf=1, min_samples_split=2, splitter=best\n[CV 2/2; 91/648] END criterion=gini, max_depth=6, max_features=sqrt, min_samples_leaf=1, min_samples_split=2, splitter=best;, score=0.778 total time=   0.0s\n[CV 1/2; 92/648] START criterion=gini, max_depth=6, max_features=sqrt, min_samples_leaf=1, min_samples_split=2, splitter=random\n[CV 1/2; 92/648] END criterion=gini, max_depth=6, max_features=sqrt, min_samples_leaf=1, min_samples_split=2, splitter=random;, score=0.722 total time=   0.0s\n[CV 2/2; 92/648] START criterion=gini, max_depth=6, max_features=sqrt, min_samples_leaf=1, min_samples_split=2, splitter=random\n[CV 2/2; 92/648] END criterion=gini, max_depth=6, max_features=sqrt, min_samples_leaf=1, min_samples_split=2, splitter=random;, score=0.639 total time=   0.0s\n[CV 1/2; 93/648] START criterion=gini, max_depth=6, max_features=sqrt, min_samples_leaf=1, min_samples_split=5, splitter=best\n[CV 1/2; 93/648] END criterion=gini, max_depth=6, max_features=sqrt, min_samples_leaf=1, min_samples_split=5, splitter=best;, score=0.861 total time=   0.0s\n[CV 2/2; 93/648] START criterion=gini, max_depth=6, max_features=sqrt, min_samples_leaf=1, min_samples_split=5, splitter=best\n[CV 2/2; 93/648] END criterion=gini, max_depth=6, max_features=sqrt, min_samples_leaf=1, min_samples_split=5, splitter=best;, score=0.694 total time=   0.0s\n[CV 1/2; 94/648] START criterion=gini, max_depth=6, max_features=sqrt, min_samples_leaf=1, min_samples_split=5, splitter=random\n[CV 1/2; 94/648] END criterion=gini, max_depth=6, max_features=sqrt, min_samples_leaf=1, min_samples_split=5, splitter=random;, score=0.833 total time=   0.0s\n[CV 2/2; 94/648] START criterion=gini, max_depth=6, max_features=sqrt, min_samples_leaf=1, min_samples_split=5, splitter=random\n[CV 2/2; 94/648] END criterion=gini, max_depth=6, max_features=sqrt, min_samples_leaf=1, min_samples_split=5, splitter=random;, score=0.778 total time=   0.0s\n[CV 1/2; 95/648] START criterion=gini, max_depth=6, max_features=sqrt, min_samples_leaf=1, min_samples_split=10, splitter=best\n[CV 1/2; 95/648] END criterion=gini, max_depth=6, max_features=sqrt, min_samples_leaf=1, min_samples_split=10, splitter=best;, score=0.861 total time=   0.0s\n[CV 2/2; 95/648] START criterion=gini, max_depth=6, max_features=sqrt, min_samples_leaf=1, min_samples_split=10, splitter=best\n[CV 2/2; 95/648] END criterion=gini, max_depth=6, max_features=sqrt, min_samples_leaf=1, min_samples_split=10, splitter=best;, score=0.806 total time=   0.0s\n[CV 1/2; 96/648] START criterion=gini, max_depth=6, max_features=sqrt, min_samples_leaf=1, min_samples_split=10, splitter=random\n[CV 1/2; 96/648] END criterion=gini, max_depth=6, max_features=sqrt, min_samples_leaf=1, min_samples_split=10, splitter=random;, score=0.833 total time=   0.0s\n[CV 2/2; 96/648] START criterion=gini, max_depth=6, max_features=sqrt, min_samples_leaf=1, min_samples_split=10, splitter=random\n[CV 2/2; 96/648] END criterion=gini, max_depth=6, max_features=sqrt, min_samples_leaf=1, min_samples_split=10, splitter=random;, score=0.722 total time=   0.0s\n[CV 1/2; 97/648] START criterion=gini, max_depth=6, max_features=sqrt, min_samples_leaf=2, min_samples_split=2, splitter=best\n[CV 1/2; 97/648] END criterion=gini, max_depth=6, max_features=sqrt, min_samples_leaf=2, min_samples_split=2, splitter=best;, score=0.833 total time=   0.0s\n[CV 2/2; 97/648] START criterion=gini, max_depth=6, max_features=sqrt, min_samples_leaf=2, min_samples_split=2, splitter=best\n[CV 2/2; 97/648] END criterion=gini, max_depth=6, max_features=sqrt, min_samples_leaf=2, min_samples_split=2, splitter=best;, score=0.611 total time=   0.0s\n[CV 1/2; 98/648] START criterion=gini, max_depth=6, max_features=sqrt, min_samples_leaf=2, min_samples_split=2, splitter=random\n[CV 1/2; 98/648] END criterion=gini, max_depth=6, max_features=sqrt, min_samples_leaf=2, min_samples_split=2, splitter=random;, score=0.833 total time=   0.0s\n[CV 2/2; 98/648] START criterion=gini, max_depth=6, max_features=sqrt, min_samples_leaf=2, min_samples_split=2, splitter=random\n[CV 2/2; 98/648] END criterion=gini, max_depth=6, max_features=sqrt, min_samples_leaf=2, min_samples_split=2, splitter=random;, score=0.667 total time=   0.0s\n[CV 1/2; 99/648] START criterion=gini, max_depth=6, max_features=sqrt, min_samples_leaf=2, min_samples_split=5, splitter=best\n[CV 1/2; 99/648] END criterion=gini, max_depth=6, max_features=sqrt, min_samples_leaf=2, min_samples_split=5, splitter=best;, score=0.778 total time=   0.0s\n[CV 2/2; 99/648] START criterion=gini, max_depth=6, max_features=sqrt, min_samples_leaf=2, min_samples_split=5, splitter=best\n[CV 2/2; 99/648] END criterion=gini, max_depth=6, max_features=sqrt, min_samples_leaf=2, min_samples_split=5, splitter=best;, score=0.722 total time=   0.0s\n[CV 1/2; 100/648] START criterion=gini, max_depth=6, max_features=sqrt, min_samples_leaf=2, min_samples_split=5, splitter=random\n[CV 1/2; 100/648] END criterion=gini, max_depth=6, max_features=sqrt, min_samples_leaf=2, min_samples_split=5, splitter=random;, score=0.833 total time=   0.0s\n[CV 2/2; 100/648] START criterion=gini, max_depth=6, max_features=sqrt, min_samples_leaf=2, min_samples_split=5, splitter=random\n[CV 2/2; 100/648] END criterion=gini, max_depth=6, max_features=sqrt, min_samples_leaf=2, min_samples_split=5, splitter=random;, score=0.750 total time=   0.0s\n[CV 1/2; 101/648] START criterion=gini, max_depth=6, max_features=sqrt, min_samples_leaf=2, min_samples_split=10, splitter=best\n[CV 1/2; 101/648] END criterion=gini, max_depth=6, max_features=sqrt, min_samples_leaf=2, min_samples_split=10, splitter=best;, score=0.833 total time=   0.0s\n[CV 2/2; 101/648] START criterion=gini, max_depth=6, max_features=sqrt, min_samples_leaf=2, min_samples_split=10, splitter=best\n[CV 2/2; 101/648] END criterion=gini, max_depth=6, max_features=sqrt, min_samples_leaf=2, min_samples_split=10, splitter=best;, score=0.667 total time=   0.0s\n[CV 1/2; 102/648] START criterion=gini, max_depth=6, max_features=sqrt, min_samples_leaf=2, min_samples_split=10, splitter=random\n[CV 1/2; 102/648] END criterion=gini, max_depth=6, max_features=sqrt, min_samples_leaf=2, min_samples_split=10, splitter=random;, score=0.806 total time=   0.0s\n[CV 2/2; 102/648] START criterion=gini, max_depth=6, max_features=sqrt, min_samples_leaf=2, min_samples_split=10, splitter=random\n[CV 2/2; 102/648] END criterion=gini, max_depth=6, max_features=sqrt, min_samples_leaf=2, min_samples_split=10, splitter=random;, score=0.722 total time=   0.0s\n[CV 1/2; 103/648] START criterion=gini, max_depth=6, max_features=sqrt, min_samples_leaf=4, min_samples_split=2, splitter=best\n[CV 1/2; 103/648] END criterion=gini, max_depth=6, max_features=sqrt, min_samples_leaf=4, min_samples_split=2, splitter=best;, score=0.556 total time=   0.0s\n[CV 2/2; 103/648] START criterion=gini, max_depth=6, max_features=sqrt, min_samples_leaf=4, min_samples_split=2, splitter=best\n[CV 2/2; 103/648] END criterion=gini, max_depth=6, max_features=sqrt, min_samples_leaf=4, min_samples_split=2, splitter=best;, score=0.778 total time=   0.0s\n[CV 1/2; 104/648] START criterion=gini, max_depth=6, max_features=sqrt, min_samples_leaf=4, min_samples_split=2, splitter=random\n[CV 1/2; 104/648] END criterion=gini, max_depth=6, max_features=sqrt, min_samples_leaf=4, min_samples_split=2, splitter=random;, score=0.861 total time=   0.0s\n[CV 2/2; 104/648] START criterion=gini, max_depth=6, max_features=sqrt, min_samples_leaf=4, min_samples_split=2, splitter=random\n[CV 2/2; 104/648] END criterion=gini, max_depth=6, max_features=sqrt, min_samples_leaf=4, min_samples_split=2, splitter=random;, score=0.694 total time=   0.0s\n[CV 1/2; 105/648] START criterion=gini, max_depth=6, max_features=sqrt, min_samples_leaf=4, min_samples_split=5, splitter=best\n[CV 1/2; 105/648] END criterion=gini, max_depth=6, max_features=sqrt, min_samples_leaf=4, min_samples_split=5, splitter=best;, score=0.667 total time=   0.0s\n[CV 2/2; 105/648] START criterion=gini, max_depth=6, max_features=sqrt, min_samples_leaf=4, min_samples_split=5, splitter=best\n[CV 2/2; 105/648] END criterion=gini, max_depth=6, max_features=sqrt, min_samples_leaf=4, min_samples_split=5, splitter=best;, score=0.500 total time=   0.0s\n[CV 1/2; 106/648] START criterion=gini, max_depth=6, max_features=sqrt, min_samples_leaf=4, min_samples_split=5, splitter=random\n[CV 1/2; 106/648] END criterion=gini, max_depth=6, max_features=sqrt, min_samples_leaf=4, min_samples_split=5, splitter=random;, score=0.833 total time=   0.0s\n[CV 2/2; 106/648] START criterion=gini, max_depth=6, max_features=sqrt, min_samples_leaf=4, min_samples_split=5, splitter=random\n[CV 2/2; 106/648] END criterion=gini, max_depth=6, max_features=sqrt, min_samples_leaf=4, min_samples_split=5, splitter=random;, score=0.889 total time=   0.0s\n[CV 1/2; 107/648] START criterion=gini, max_depth=6, max_features=sqrt, min_samples_leaf=4, min_samples_split=10, splitter=best\n[CV 1/2; 107/648] END criterion=gini, max_depth=6, max_features=sqrt, min_samples_leaf=4, min_samples_split=10, splitter=best;, score=0.806 total time=   0.0s\n[CV 2/2; 107/648] START criterion=gini, max_depth=6, max_features=sqrt, min_samples_leaf=4, min_samples_split=10, splitter=best\n[CV 2/2; 107/648] END criterion=gini, max_depth=6, max_features=sqrt, min_samples_leaf=4, min_samples_split=10, splitter=best;, score=0.750 total time=   0.0s\n[CV 1/2; 108/648] START criterion=gini, max_depth=6, max_features=sqrt, min_samples_leaf=4, min_samples_split=10, splitter=random\n[CV 1/2; 108/648] END criterion=gini, max_depth=6, max_features=sqrt, min_samples_leaf=4, min_samples_split=10, splitter=random;, score=0.694 total time=   0.0s\n[CV 2/2; 108/648] START criterion=gini, max_depth=6, max_features=sqrt, min_samples_leaf=4, min_samples_split=10, splitter=random\n[CV 2/2; 108/648] END criterion=gini, max_depth=6, max_features=sqrt, min_samples_leaf=4, min_samples_split=10, splitter=random;, score=0.806 total time=   0.0s\n[CV 1/2; 109/648] START criterion=gini, max_depth=8, max_features=auto, min_samples_leaf=1, min_samples_split=2, splitter=best\n",
          "output_type": "stream"
        },
        {
          "name": "stderr",
          "text": "/lib/python3.11/site-packages/sklearn/tree/_classes.py:269: FutureWarning: `max_features='auto'` has been deprecated in 1.1 and will be removed in 1.3. To keep the past behaviour, explicitly set `max_features='sqrt'`.\n  warnings.warn(\n",
          "output_type": "stream"
        },
        {
          "name": "stdout",
          "text": "[CV 1/2; 109/648] END criterion=gini, max_depth=8, max_features=auto, min_samples_leaf=1, min_samples_split=2, splitter=best;, score=0.778 total time=   0.0s\n[CV 2/2; 109/648] START criterion=gini, max_depth=8, max_features=auto, min_samples_leaf=1, min_samples_split=2, splitter=best\n",
          "output_type": "stream"
        },
        {
          "name": "stderr",
          "text": "/lib/python3.11/site-packages/sklearn/tree/_classes.py:269: FutureWarning: `max_features='auto'` has been deprecated in 1.1 and will be removed in 1.3. To keep the past behaviour, explicitly set `max_features='sqrt'`.\n  warnings.warn(\n",
          "output_type": "stream"
        },
        {
          "name": "stdout",
          "text": "[CV 2/2; 109/648] END criterion=gini, max_depth=8, max_features=auto, min_samples_leaf=1, min_samples_split=2, splitter=best;, score=0.556 total time=   0.0s\n[CV 1/2; 110/648] START criterion=gini, max_depth=8, max_features=auto, min_samples_leaf=1, min_samples_split=2, splitter=random\n",
          "output_type": "stream"
        },
        {
          "name": "stderr",
          "text": "/lib/python3.11/site-packages/sklearn/tree/_classes.py:269: FutureWarning: `max_features='auto'` has been deprecated in 1.1 and will be removed in 1.3. To keep the past behaviour, explicitly set `max_features='sqrt'`.\n  warnings.warn(\n",
          "output_type": "stream"
        },
        {
          "name": "stdout",
          "text": "[CV 1/2; 110/648] END criterion=gini, max_depth=8, max_features=auto, min_samples_leaf=1, min_samples_split=2, splitter=random;, score=0.667 total time=   0.0s\n[CV 2/2; 110/648] START criterion=gini, max_depth=8, max_features=auto, min_samples_leaf=1, min_samples_split=2, splitter=random\n",
          "output_type": "stream"
        },
        {
          "name": "stderr",
          "text": "/lib/python3.11/site-packages/sklearn/tree/_classes.py:269: FutureWarning: `max_features='auto'` has been deprecated in 1.1 and will be removed in 1.3. To keep the past behaviour, explicitly set `max_features='sqrt'`.\n  warnings.warn(\n",
          "output_type": "stream"
        },
        {
          "name": "stdout",
          "text": "[CV 2/2; 110/648] END criterion=gini, max_depth=8, max_features=auto, min_samples_leaf=1, min_samples_split=2, splitter=random;, score=0.694 total time=   0.0s\n[CV 1/2; 111/648] START criterion=gini, max_depth=8, max_features=auto, min_samples_leaf=1, min_samples_split=5, splitter=best\n",
          "output_type": "stream"
        },
        {
          "name": "stderr",
          "text": "/lib/python3.11/site-packages/sklearn/tree/_classes.py:269: FutureWarning: `max_features='auto'` has been deprecated in 1.1 and will be removed in 1.3. To keep the past behaviour, explicitly set `max_features='sqrt'`.\n  warnings.warn(\n",
          "output_type": "stream"
        },
        {
          "name": "stdout",
          "text": "[CV 1/2; 111/648] END criterion=gini, max_depth=8, max_features=auto, min_samples_leaf=1, min_samples_split=5, splitter=best;, score=0.722 total time=   0.0s\n[CV 2/2; 111/648] START criterion=gini, max_depth=8, max_features=auto, min_samples_leaf=1, min_samples_split=5, splitter=best\n",
          "output_type": "stream"
        },
        {
          "name": "stderr",
          "text": "/lib/python3.11/site-packages/sklearn/tree/_classes.py:269: FutureWarning: `max_features='auto'` has been deprecated in 1.1 and will be removed in 1.3. To keep the past behaviour, explicitly set `max_features='sqrt'`.\n  warnings.warn(\n",
          "output_type": "stream"
        },
        {
          "name": "stdout",
          "text": "[CV 2/2; 111/648] END criterion=gini, max_depth=8, max_features=auto, min_samples_leaf=1, min_samples_split=5, splitter=best;, score=0.639 total time=   0.0s\n[CV 1/2; 112/648] START criterion=gini, max_depth=8, max_features=auto, min_samples_leaf=1, min_samples_split=5, splitter=random\n",
          "output_type": "stream"
        },
        {
          "name": "stderr",
          "text": "/lib/python3.11/site-packages/sklearn/tree/_classes.py:269: FutureWarning: `max_features='auto'` has been deprecated in 1.1 and will be removed in 1.3. To keep the past behaviour, explicitly set `max_features='sqrt'`.\n  warnings.warn(\n",
          "output_type": "stream"
        },
        {
          "name": "stdout",
          "text": "[CV 1/2; 112/648] END criterion=gini, max_depth=8, max_features=auto, min_samples_leaf=1, min_samples_split=5, splitter=random;, score=0.861 total time=   0.0s\n[CV 2/2; 112/648] START criterion=gini, max_depth=8, max_features=auto, min_samples_leaf=1, min_samples_split=5, splitter=random\n",
          "output_type": "stream"
        },
        {
          "name": "stderr",
          "text": "/lib/python3.11/site-packages/sklearn/tree/_classes.py:269: FutureWarning: `max_features='auto'` has been deprecated in 1.1 and will be removed in 1.3. To keep the past behaviour, explicitly set `max_features='sqrt'`.\n  warnings.warn(\n",
          "output_type": "stream"
        },
        {
          "name": "stdout",
          "text": "[CV 2/2; 112/648] END criterion=gini, max_depth=8, max_features=auto, min_samples_leaf=1, min_samples_split=5, splitter=random;, score=0.611 total time=   0.0s\n[CV 1/2; 113/648] START criterion=gini, max_depth=8, max_features=auto, min_samples_leaf=1, min_samples_split=10, splitter=best\n",
          "output_type": "stream"
        },
        {
          "name": "stderr",
          "text": "/lib/python3.11/site-packages/sklearn/tree/_classes.py:269: FutureWarning: `max_features='auto'` has been deprecated in 1.1 and will be removed in 1.3. To keep the past behaviour, explicitly set `max_features='sqrt'`.\n  warnings.warn(\n",
          "output_type": "stream"
        },
        {
          "name": "stdout",
          "text": "[CV 1/2; 113/648] END criterion=gini, max_depth=8, max_features=auto, min_samples_leaf=1, min_samples_split=10, splitter=best;, score=0.778 total time=   0.0s\n[CV 2/2; 113/648] START criterion=gini, max_depth=8, max_features=auto, min_samples_leaf=1, min_samples_split=10, splitter=best\n",
          "output_type": "stream"
        },
        {
          "name": "stderr",
          "text": "/lib/python3.11/site-packages/sklearn/tree/_classes.py:269: FutureWarning: `max_features='auto'` has been deprecated in 1.1 and will be removed in 1.3. To keep the past behaviour, explicitly set `max_features='sqrt'`.\n  warnings.warn(\n",
          "output_type": "stream"
        },
        {
          "name": "stdout",
          "text": "[CV 2/2; 113/648] END criterion=gini, max_depth=8, max_features=auto, min_samples_leaf=1, min_samples_split=10, splitter=best;, score=0.611 total time=   0.0s\n[CV 1/2; 114/648] START criterion=gini, max_depth=8, max_features=auto, min_samples_leaf=1, min_samples_split=10, splitter=random\n",
          "output_type": "stream"
        },
        {
          "name": "stderr",
          "text": "/lib/python3.11/site-packages/sklearn/tree/_classes.py:269: FutureWarning: `max_features='auto'` has been deprecated in 1.1 and will be removed in 1.3. To keep the past behaviour, explicitly set `max_features='sqrt'`.\n  warnings.warn(\n",
          "output_type": "stream"
        },
        {
          "name": "stdout",
          "text": "[CV 1/2; 114/648] END criterion=gini, max_depth=8, max_features=auto, min_samples_leaf=1, min_samples_split=10, splitter=random;, score=0.694 total time=   0.0s\n[CV 2/2; 114/648] START criterion=gini, max_depth=8, max_features=auto, min_samples_leaf=1, min_samples_split=10, splitter=random\n",
          "output_type": "stream"
        },
        {
          "name": "stderr",
          "text": "/lib/python3.11/site-packages/sklearn/tree/_classes.py:269: FutureWarning: `max_features='auto'` has been deprecated in 1.1 and will be removed in 1.3. To keep the past behaviour, explicitly set `max_features='sqrt'`.\n  warnings.warn(\n",
          "output_type": "stream"
        },
        {
          "name": "stdout",
          "text": "[CV 2/2; 114/648] END criterion=gini, max_depth=8, max_features=auto, min_samples_leaf=1, min_samples_split=10, splitter=random;, score=0.750 total time=   0.0s\n[CV 1/2; 115/648] START criterion=gini, max_depth=8, max_features=auto, min_samples_leaf=2, min_samples_split=2, splitter=best\n",
          "output_type": "stream"
        },
        {
          "name": "stderr",
          "text": "/lib/python3.11/site-packages/sklearn/tree/_classes.py:269: FutureWarning: `max_features='auto'` has been deprecated in 1.1 and will be removed in 1.3. To keep the past behaviour, explicitly set `max_features='sqrt'`.\n  warnings.warn(\n",
          "output_type": "stream"
        },
        {
          "name": "stdout",
          "text": "[CV 1/2; 115/648] END criterion=gini, max_depth=8, max_features=auto, min_samples_leaf=2, min_samples_split=2, splitter=best;, score=0.861 total time=   0.0s\n[CV 2/2; 115/648] START criterion=gini, max_depth=8, max_features=auto, min_samples_leaf=2, min_samples_split=2, splitter=best\n",
          "output_type": "stream"
        },
        {
          "name": "stderr",
          "text": "/lib/python3.11/site-packages/sklearn/tree/_classes.py:269: FutureWarning: `max_features='auto'` has been deprecated in 1.1 and will be removed in 1.3. To keep the past behaviour, explicitly set `max_features='sqrt'`.\n  warnings.warn(\n",
          "output_type": "stream"
        },
        {
          "name": "stdout",
          "text": "[CV 2/2; 115/648] END criterion=gini, max_depth=8, max_features=auto, min_samples_leaf=2, min_samples_split=2, splitter=best;, score=0.722 total time=   0.0s\n[CV 1/2; 116/648] START criterion=gini, max_depth=8, max_features=auto, min_samples_leaf=2, min_samples_split=2, splitter=random\n",
          "output_type": "stream"
        },
        {
          "name": "stderr",
          "text": "/lib/python3.11/site-packages/sklearn/tree/_classes.py:269: FutureWarning: `max_features='auto'` has been deprecated in 1.1 and will be removed in 1.3. To keep the past behaviour, explicitly set `max_features='sqrt'`.\n  warnings.warn(\n",
          "output_type": "stream"
        },
        {
          "name": "stdout",
          "text": "[CV 1/2; 116/648] END criterion=gini, max_depth=8, max_features=auto, min_samples_leaf=2, min_samples_split=2, splitter=random;, score=0.861 total time=   0.0s\n[CV 2/2; 116/648] START criterion=gini, max_depth=8, max_features=auto, min_samples_leaf=2, min_samples_split=2, splitter=random\n",
          "output_type": "stream"
        },
        {
          "name": "stderr",
          "text": "/lib/python3.11/site-packages/sklearn/tree/_classes.py:269: FutureWarning: `max_features='auto'` has been deprecated in 1.1 and will be removed in 1.3. To keep the past behaviour, explicitly set `max_features='sqrt'`.\n  warnings.warn(\n",
          "output_type": "stream"
        },
        {
          "name": "stdout",
          "text": "[CV 2/2; 116/648] END criterion=gini, max_depth=8, max_features=auto, min_samples_leaf=2, min_samples_split=2, splitter=random;, score=0.861 total time=   0.0s\n[CV 1/2; 117/648] START criterion=gini, max_depth=8, max_features=auto, min_samples_leaf=2, min_samples_split=5, splitter=best\n",
          "output_type": "stream"
        },
        {
          "name": "stderr",
          "text": "/lib/python3.11/site-packages/sklearn/tree/_classes.py:269: FutureWarning: `max_features='auto'` has been deprecated in 1.1 and will be removed in 1.3. To keep the past behaviour, explicitly set `max_features='sqrt'`.\n  warnings.warn(\n",
          "output_type": "stream"
        },
        {
          "name": "stdout",
          "text": "[CV 1/2; 117/648] END criterion=gini, max_depth=8, max_features=auto, min_samples_leaf=2, min_samples_split=5, splitter=best;, score=0.722 total time=   0.0s\n[CV 2/2; 117/648] START criterion=gini, max_depth=8, max_features=auto, min_samples_leaf=2, min_samples_split=5, splitter=best\n",
          "output_type": "stream"
        },
        {
          "name": "stderr",
          "text": "/lib/python3.11/site-packages/sklearn/tree/_classes.py:269: FutureWarning: `max_features='auto'` has been deprecated in 1.1 and will be removed in 1.3. To keep the past behaviour, explicitly set `max_features='sqrt'`.\n  warnings.warn(\n",
          "output_type": "stream"
        },
        {
          "name": "stdout",
          "text": "[CV 2/2; 117/648] END criterion=gini, max_depth=8, max_features=auto, min_samples_leaf=2, min_samples_split=5, splitter=best;, score=0.528 total time=   0.0s\n[CV 1/2; 118/648] START criterion=gini, max_depth=8, max_features=auto, min_samples_leaf=2, min_samples_split=5, splitter=random\n",
          "output_type": "stream"
        },
        {
          "name": "stderr",
          "text": "/lib/python3.11/site-packages/sklearn/tree/_classes.py:269: FutureWarning: `max_features='auto'` has been deprecated in 1.1 and will be removed in 1.3. To keep the past behaviour, explicitly set `max_features='sqrt'`.\n  warnings.warn(\n",
          "output_type": "stream"
        },
        {
          "name": "stdout",
          "text": "[CV 1/2; 118/648] END criterion=gini, max_depth=8, max_features=auto, min_samples_leaf=2, min_samples_split=5, splitter=random;, score=0.639 total time=   0.0s\n[CV 2/2; 118/648] START criterion=gini, max_depth=8, max_features=auto, min_samples_leaf=2, min_samples_split=5, splitter=random\n",
          "output_type": "stream"
        },
        {
          "name": "stderr",
          "text": "/lib/python3.11/site-packages/sklearn/tree/_classes.py:269: FutureWarning: `max_features='auto'` has been deprecated in 1.1 and will be removed in 1.3. To keep the past behaviour, explicitly set `max_features='sqrt'`.\n  warnings.warn(\n",
          "output_type": "stream"
        },
        {
          "name": "stdout",
          "text": "[CV 2/2; 118/648] END criterion=gini, max_depth=8, max_features=auto, min_samples_leaf=2, min_samples_split=5, splitter=random;, score=0.639 total time=   0.0s\n[CV 1/2; 119/648] START criterion=gini, max_depth=8, max_features=auto, min_samples_leaf=2, min_samples_split=10, splitter=best\n",
          "output_type": "stream"
        },
        {
          "name": "stderr",
          "text": "/lib/python3.11/site-packages/sklearn/tree/_classes.py:269: FutureWarning: `max_features='auto'` has been deprecated in 1.1 and will be removed in 1.3. To keep the past behaviour, explicitly set `max_features='sqrt'`.\n  warnings.warn(\n",
          "output_type": "stream"
        },
        {
          "name": "stdout",
          "text": "[CV 1/2; 119/648] END criterion=gini, max_depth=8, max_features=auto, min_samples_leaf=2, min_samples_split=10, splitter=best;, score=0.833 total time=   0.0s\n[CV 2/2; 119/648] START criterion=gini, max_depth=8, max_features=auto, min_samples_leaf=2, min_samples_split=10, splitter=best\n",
          "output_type": "stream"
        },
        {
          "name": "stderr",
          "text": "/lib/python3.11/site-packages/sklearn/tree/_classes.py:269: FutureWarning: `max_features='auto'` has been deprecated in 1.1 and will be removed in 1.3. To keep the past behaviour, explicitly set `max_features='sqrt'`.\n  warnings.warn(\n",
          "output_type": "stream"
        },
        {
          "name": "stdout",
          "text": "[CV 2/2; 119/648] END criterion=gini, max_depth=8, max_features=auto, min_samples_leaf=2, min_samples_split=10, splitter=best;, score=0.778 total time=   0.0s\n[CV 1/2; 120/648] START criterion=gini, max_depth=8, max_features=auto, min_samples_leaf=2, min_samples_split=10, splitter=random\n",
          "output_type": "stream"
        },
        {
          "name": "stderr",
          "text": "/lib/python3.11/site-packages/sklearn/tree/_classes.py:269: FutureWarning: `max_features='auto'` has been deprecated in 1.1 and will be removed in 1.3. To keep the past behaviour, explicitly set `max_features='sqrt'`.\n  warnings.warn(\n",
          "output_type": "stream"
        },
        {
          "name": "stdout",
          "text": "[CV 1/2; 120/648] END criterion=gini, max_depth=8, max_features=auto, min_samples_leaf=2, min_samples_split=10, splitter=random;, score=0.833 total time=   0.0s\n[CV 2/2; 120/648] START criterion=gini, max_depth=8, max_features=auto, min_samples_leaf=2, min_samples_split=10, splitter=random\n",
          "output_type": "stream"
        },
        {
          "name": "stderr",
          "text": "/lib/python3.11/site-packages/sklearn/tree/_classes.py:269: FutureWarning: `max_features='auto'` has been deprecated in 1.1 and will be removed in 1.3. To keep the past behaviour, explicitly set `max_features='sqrt'`.\n  warnings.warn(\n",
          "output_type": "stream"
        },
        {
          "name": "stdout",
          "text": "[CV 2/2; 120/648] END criterion=gini, max_depth=8, max_features=auto, min_samples_leaf=2, min_samples_split=10, splitter=random;, score=0.389 total time=   0.0s\n[CV 1/2; 121/648] START criterion=gini, max_depth=8, max_features=auto, min_samples_leaf=4, min_samples_split=2, splitter=best\n",
          "output_type": "stream"
        },
        {
          "name": "stderr",
          "text": "/lib/python3.11/site-packages/sklearn/tree/_classes.py:269: FutureWarning: `max_features='auto'` has been deprecated in 1.1 and will be removed in 1.3. To keep the past behaviour, explicitly set `max_features='sqrt'`.\n  warnings.warn(\n",
          "output_type": "stream"
        },
        {
          "name": "stdout",
          "text": "[CV 1/2; 121/648] END criterion=gini, max_depth=8, max_features=auto, min_samples_leaf=4, min_samples_split=2, splitter=best;, score=0.806 total time=   0.0s\n[CV 2/2; 121/648] START criterion=gini, max_depth=8, max_features=auto, min_samples_leaf=4, min_samples_split=2, splitter=best\n",
          "output_type": "stream"
        },
        {
          "name": "stderr",
          "text": "/lib/python3.11/site-packages/sklearn/tree/_classes.py:269: FutureWarning: `max_features='auto'` has been deprecated in 1.1 and will be removed in 1.3. To keep the past behaviour, explicitly set `max_features='sqrt'`.\n  warnings.warn(\n",
          "output_type": "stream"
        },
        {
          "name": "stdout",
          "text": "[CV 2/2; 121/648] END criterion=gini, max_depth=8, max_features=auto, min_samples_leaf=4, min_samples_split=2, splitter=best;, score=0.778 total time=   0.0s\n[CV 1/2; 122/648] START criterion=gini, max_depth=8, max_features=auto, min_samples_leaf=4, min_samples_split=2, splitter=random\n",
          "output_type": "stream"
        },
        {
          "name": "stderr",
          "text": "/lib/python3.11/site-packages/sklearn/tree/_classes.py:269: FutureWarning: `max_features='auto'` has been deprecated in 1.1 and will be removed in 1.3. To keep the past behaviour, explicitly set `max_features='sqrt'`.\n  warnings.warn(\n",
          "output_type": "stream"
        },
        {
          "name": "stdout",
          "text": "[CV 1/2; 122/648] END criterion=gini, max_depth=8, max_features=auto, min_samples_leaf=4, min_samples_split=2, splitter=random;, score=0.833 total time=   0.0s\n[CV 2/2; 122/648] START criterion=gini, max_depth=8, max_features=auto, min_samples_leaf=4, min_samples_split=2, splitter=random\n",
          "output_type": "stream"
        },
        {
          "name": "stderr",
          "text": "/lib/python3.11/site-packages/sklearn/tree/_classes.py:269: FutureWarning: `max_features='auto'` has been deprecated in 1.1 and will be removed in 1.3. To keep the past behaviour, explicitly set `max_features='sqrt'`.\n  warnings.warn(\n",
          "output_type": "stream"
        },
        {
          "name": "stdout",
          "text": "[CV 2/2; 122/648] END criterion=gini, max_depth=8, max_features=auto, min_samples_leaf=4, min_samples_split=2, splitter=random;, score=0.750 total time=   0.0s\n[CV 1/2; 123/648] START criterion=gini, max_depth=8, max_features=auto, min_samples_leaf=4, min_samples_split=5, splitter=best\n",
          "output_type": "stream"
        },
        {
          "name": "stderr",
          "text": "/lib/python3.11/site-packages/sklearn/tree/_classes.py:269: FutureWarning: `max_features='auto'` has been deprecated in 1.1 and will be removed in 1.3. To keep the past behaviour, explicitly set `max_features='sqrt'`.\n  warnings.warn(\n",
          "output_type": "stream"
        },
        {
          "name": "stdout",
          "text": "[CV 1/2; 123/648] END criterion=gini, max_depth=8, max_features=auto, min_samples_leaf=4, min_samples_split=5, splitter=best;, score=0.778 total time=   0.0s\n[CV 2/2; 123/648] START criterion=gini, max_depth=8, max_features=auto, min_samples_leaf=4, min_samples_split=5, splitter=best\n",
          "output_type": "stream"
        },
        {
          "name": "stderr",
          "text": "/lib/python3.11/site-packages/sklearn/tree/_classes.py:269: FutureWarning: `max_features='auto'` has been deprecated in 1.1 and will be removed in 1.3. To keep the past behaviour, explicitly set `max_features='sqrt'`.\n  warnings.warn(\n",
          "output_type": "stream"
        },
        {
          "name": "stdout",
          "text": "[CV 2/2; 123/648] END criterion=gini, max_depth=8, max_features=auto, min_samples_leaf=4, min_samples_split=5, splitter=best;, score=0.667 total time=   0.0s\n[CV 1/2; 124/648] START criterion=gini, max_depth=8, max_features=auto, min_samples_leaf=4, min_samples_split=5, splitter=random\n",
          "output_type": "stream"
        },
        {
          "name": "stderr",
          "text": "/lib/python3.11/site-packages/sklearn/tree/_classes.py:269: FutureWarning: `max_features='auto'` has been deprecated in 1.1 and will be removed in 1.3. To keep the past behaviour, explicitly set `max_features='sqrt'`.\n  warnings.warn(\n",
          "output_type": "stream"
        },
        {
          "name": "stdout",
          "text": "[CV 1/2; 124/648] END criterion=gini, max_depth=8, max_features=auto, min_samples_leaf=4, min_samples_split=5, splitter=random;, score=0.667 total time=   0.0s\n[CV 2/2; 124/648] START criterion=gini, max_depth=8, max_features=auto, min_samples_leaf=4, min_samples_split=5, splitter=random\n",
          "output_type": "stream"
        },
        {
          "name": "stderr",
          "text": "/lib/python3.11/site-packages/sklearn/tree/_classes.py:269: FutureWarning: `max_features='auto'` has been deprecated in 1.1 and will be removed in 1.3. To keep the past behaviour, explicitly set `max_features='sqrt'`.\n  warnings.warn(\n",
          "output_type": "stream"
        },
        {
          "name": "stdout",
          "text": "[CV 2/2; 124/648] END criterion=gini, max_depth=8, max_features=auto, min_samples_leaf=4, min_samples_split=5, splitter=random;, score=0.861 total time=   0.0s\n[CV 1/2; 125/648] START criterion=gini, max_depth=8, max_features=auto, min_samples_leaf=4, min_samples_split=10, splitter=best\n",
          "output_type": "stream"
        },
        {
          "name": "stderr",
          "text": "/lib/python3.11/site-packages/sklearn/tree/_classes.py:269: FutureWarning: `max_features='auto'` has been deprecated in 1.1 and will be removed in 1.3. To keep the past behaviour, explicitly set `max_features='sqrt'`.\n  warnings.warn(\n",
          "output_type": "stream"
        },
        {
          "name": "stdout",
          "text": "[CV 1/2; 125/648] END criterion=gini, max_depth=8, max_features=auto, min_samples_leaf=4, min_samples_split=10, splitter=best;, score=0.861 total time=   0.0s\n[CV 2/2; 125/648] START criterion=gini, max_depth=8, max_features=auto, min_samples_leaf=4, min_samples_split=10, splitter=best\n",
          "output_type": "stream"
        },
        {
          "name": "stderr",
          "text": "/lib/python3.11/site-packages/sklearn/tree/_classes.py:269: FutureWarning: `max_features='auto'` has been deprecated in 1.1 and will be removed in 1.3. To keep the past behaviour, explicitly set `max_features='sqrt'`.\n  warnings.warn(\n",
          "output_type": "stream"
        },
        {
          "name": "stdout",
          "text": "[CV 2/2; 125/648] END criterion=gini, max_depth=8, max_features=auto, min_samples_leaf=4, min_samples_split=10, splitter=best;, score=0.667 total time=   0.0s\n[CV 1/2; 126/648] START criterion=gini, max_depth=8, max_features=auto, min_samples_leaf=4, min_samples_split=10, splitter=random\n",
          "output_type": "stream"
        },
        {
          "name": "stderr",
          "text": "/lib/python3.11/site-packages/sklearn/tree/_classes.py:269: FutureWarning: `max_features='auto'` has been deprecated in 1.1 and will be removed in 1.3. To keep the past behaviour, explicitly set `max_features='sqrt'`.\n  warnings.warn(\n",
          "output_type": "stream"
        },
        {
          "name": "stdout",
          "text": "[CV 1/2; 126/648] END criterion=gini, max_depth=8, max_features=auto, min_samples_leaf=4, min_samples_split=10, splitter=random;, score=0.861 total time=   0.0s\n[CV 2/2; 126/648] START criterion=gini, max_depth=8, max_features=auto, min_samples_leaf=4, min_samples_split=10, splitter=random\n",
          "output_type": "stream"
        },
        {
          "name": "stderr",
          "text": "/lib/python3.11/site-packages/sklearn/tree/_classes.py:269: FutureWarning: `max_features='auto'` has been deprecated in 1.1 and will be removed in 1.3. To keep the past behaviour, explicitly set `max_features='sqrt'`.\n  warnings.warn(\n",
          "output_type": "stream"
        },
        {
          "name": "stdout",
          "text": "[CV 2/2; 126/648] END criterion=gini, max_depth=8, max_features=auto, min_samples_leaf=4, min_samples_split=10, splitter=random;, score=0.583 total time=   0.0s\n[CV 1/2; 127/648] START criterion=gini, max_depth=8, max_features=sqrt, min_samples_leaf=1, min_samples_split=2, splitter=best\n[CV 1/2; 127/648] END criterion=gini, max_depth=8, max_features=sqrt, min_samples_leaf=1, min_samples_split=2, splitter=best;, score=0.778 total time=   0.0s\n[CV 2/2; 127/648] START criterion=gini, max_depth=8, max_features=sqrt, min_samples_leaf=1, min_samples_split=2, splitter=best\n[CV 2/2; 127/648] END criterion=gini, max_depth=8, max_features=sqrt, min_samples_leaf=1, min_samples_split=2, splitter=best;, score=0.639 total time=   0.0s\n[CV 1/2; 128/648] START criterion=gini, max_depth=8, max_features=sqrt, min_samples_leaf=1, min_samples_split=2, splitter=random\n[CV 1/2; 128/648] END criterion=gini, max_depth=8, max_features=sqrt, min_samples_leaf=1, min_samples_split=2, splitter=random;, score=0.667 total time=   0.0s\n[CV 2/2; 128/648] START criterion=gini, max_depth=8, max_features=sqrt, min_samples_leaf=1, min_samples_split=2, splitter=random\n[CV 2/2; 128/648] END criterion=gini, max_depth=8, max_features=sqrt, min_samples_leaf=1, min_samples_split=2, splitter=random;, score=0.806 total time=   0.0s\n[CV 1/2; 129/648] START criterion=gini, max_depth=8, max_features=sqrt, min_samples_leaf=1, min_samples_split=5, splitter=best\n[CV 1/2; 129/648] END criterion=gini, max_depth=8, max_features=sqrt, min_samples_leaf=1, min_samples_split=5, splitter=best;, score=0.778 total time=   0.0s\n[CV 2/2; 129/648] START criterion=gini, max_depth=8, max_features=sqrt, min_samples_leaf=1, min_samples_split=5, splitter=best\n[CV 2/2; 129/648] END criterion=gini, max_depth=8, max_features=sqrt, min_samples_leaf=1, min_samples_split=5, splitter=best;, score=0.722 total time=   0.0s\n[CV 1/2; 130/648] START criterion=gini, max_depth=8, max_features=sqrt, min_samples_leaf=1, min_samples_split=5, splitter=random\n[CV 1/2; 130/648] END criterion=gini, max_depth=8, max_features=sqrt, min_samples_leaf=1, min_samples_split=5, splitter=random;, score=0.833 total time=   0.0s\n[CV 2/2; 130/648] START criterion=gini, max_depth=8, max_features=sqrt, min_samples_leaf=1, min_samples_split=5, splitter=random\n[CV 2/2; 130/648] END criterion=gini, max_depth=8, max_features=sqrt, min_samples_leaf=1, min_samples_split=5, splitter=random;, score=0.639 total time=   0.0s\n[CV 1/2; 131/648] START criterion=gini, max_depth=8, max_features=sqrt, min_samples_leaf=1, min_samples_split=10, splitter=best\n[CV 1/2; 131/648] END criterion=gini, max_depth=8, max_features=sqrt, min_samples_leaf=1, min_samples_split=10, splitter=best;, score=0.750 total time=   0.0s\n[CV 2/2; 131/648] START criterion=gini, max_depth=8, max_features=sqrt, min_samples_leaf=1, min_samples_split=10, splitter=best\n[CV 2/2; 131/648] END criterion=gini, max_depth=8, max_features=sqrt, min_samples_leaf=1, min_samples_split=10, splitter=best;, score=0.806 total time=   0.0s\n[CV 1/2; 132/648] START criterion=gini, max_depth=8, max_features=sqrt, min_samples_leaf=1, min_samples_split=10, splitter=random\n[CV 1/2; 132/648] END criterion=gini, max_depth=8, max_features=sqrt, min_samples_leaf=1, min_samples_split=10, splitter=random;, score=0.806 total time=   0.0s\n[CV 2/2; 132/648] START criterion=gini, max_depth=8, max_features=sqrt, min_samples_leaf=1, min_samples_split=10, splitter=random\n[CV 2/2; 132/648] END criterion=gini, max_depth=8, max_features=sqrt, min_samples_leaf=1, min_samples_split=10, splitter=random;, score=0.778 total time=   0.0s\n[CV 1/2; 133/648] START criterion=gini, max_depth=8, max_features=sqrt, min_samples_leaf=2, min_samples_split=2, splitter=best\n[CV 1/2; 133/648] END criterion=gini, max_depth=8, max_features=sqrt, min_samples_leaf=2, min_samples_split=2, splitter=best;, score=0.694 total time=   0.0s\n[CV 2/2; 133/648] START criterion=gini, max_depth=8, max_features=sqrt, min_samples_leaf=2, min_samples_split=2, splitter=best\n[CV 2/2; 133/648] END criterion=gini, max_depth=8, max_features=sqrt, min_samples_leaf=2, min_samples_split=2, splitter=best;, score=0.889 total time=   0.0s\n[CV 1/2; 134/648] START criterion=gini, max_depth=8, max_features=sqrt, min_samples_leaf=2, min_samples_split=2, splitter=random\n[CV 1/2; 134/648] END criterion=gini, max_depth=8, max_features=sqrt, min_samples_leaf=2, min_samples_split=2, splitter=random;, score=0.611 total time=   0.0s\n[CV 2/2; 134/648] START criterion=gini, max_depth=8, max_features=sqrt, min_samples_leaf=2, min_samples_split=2, splitter=random\n[CV 2/2; 134/648] END criterion=gini, max_depth=8, max_features=sqrt, min_samples_leaf=2, min_samples_split=2, splitter=random;, score=0.750 total time=   0.0s\n[CV 1/2; 135/648] START criterion=gini, max_depth=8, max_features=sqrt, min_samples_leaf=2, min_samples_split=5, splitter=best\n[CV 1/2; 135/648] END criterion=gini, max_depth=8, max_features=sqrt, min_samples_leaf=2, min_samples_split=5, splitter=best;, score=0.667 total time=   0.0s\n[CV 2/2; 135/648] START criterion=gini, max_depth=8, max_features=sqrt, min_samples_leaf=2, min_samples_split=5, splitter=best\n[CV 2/2; 135/648] END criterion=gini, max_depth=8, max_features=sqrt, min_samples_leaf=2, min_samples_split=5, splitter=best;, score=0.667 total time=   0.0s\n[CV 1/2; 136/648] START criterion=gini, max_depth=8, max_features=sqrt, min_samples_leaf=2, min_samples_split=5, splitter=random\n[CV 1/2; 136/648] END criterion=gini, max_depth=8, max_features=sqrt, min_samples_leaf=2, min_samples_split=5, splitter=random;, score=0.583 total time=   0.0s\n[CV 2/2; 136/648] START criterion=gini, max_depth=8, max_features=sqrt, min_samples_leaf=2, min_samples_split=5, splitter=random\n[CV 2/2; 136/648] END criterion=gini, max_depth=8, max_features=sqrt, min_samples_leaf=2, min_samples_split=5, splitter=random;, score=0.500 total time=   0.0s\n[CV 1/2; 137/648] START criterion=gini, max_depth=8, max_features=sqrt, min_samples_leaf=2, min_samples_split=10, splitter=best\n[CV 1/2; 137/648] END criterion=gini, max_depth=8, max_features=sqrt, min_samples_leaf=2, min_samples_split=10, splitter=best;, score=0.778 total time=   0.0s\n[CV 2/2; 137/648] START criterion=gini, max_depth=8, max_features=sqrt, min_samples_leaf=2, min_samples_split=10, splitter=best\n[CV 2/2; 137/648] END criterion=gini, max_depth=8, max_features=sqrt, min_samples_leaf=2, min_samples_split=10, splitter=best;, score=0.667 total time=   0.0s\n[CV 1/2; 138/648] START criterion=gini, max_depth=8, max_features=sqrt, min_samples_leaf=2, min_samples_split=10, splitter=random\n[CV 1/2; 138/648] END criterion=gini, max_depth=8, max_features=sqrt, min_samples_leaf=2, min_samples_split=10, splitter=random;, score=0.667 total time=   0.0s\n[CV 2/2; 138/648] START criterion=gini, max_depth=8, max_features=sqrt, min_samples_leaf=2, min_samples_split=10, splitter=random\n[CV 2/2; 138/648] END criterion=gini, max_depth=8, max_features=sqrt, min_samples_leaf=2, min_samples_split=10, splitter=random;, score=0.583 total time=   0.0s\n[CV 1/2; 139/648] START criterion=gini, max_depth=8, max_features=sqrt, min_samples_leaf=4, min_samples_split=2, splitter=best\n[CV 1/2; 139/648] END criterion=gini, max_depth=8, max_features=sqrt, min_samples_leaf=4, min_samples_split=2, splitter=best;, score=0.806 total time=   0.0s\n[CV 2/2; 139/648] START criterion=gini, max_depth=8, max_features=sqrt, min_samples_leaf=4, min_samples_split=2, splitter=best\n[CV 2/2; 139/648] END criterion=gini, max_depth=8, max_features=sqrt, min_samples_leaf=4, min_samples_split=2, splitter=best;, score=0.750 total time=   0.0s\n[CV 1/2; 140/648] START criterion=gini, max_depth=8, max_features=sqrt, min_samples_leaf=4, min_samples_split=2, splitter=random\n[CV 1/2; 140/648] END criterion=gini, max_depth=8, max_features=sqrt, min_samples_leaf=4, min_samples_split=2, splitter=random;, score=0.667 total time=   0.0s\n[CV 2/2; 140/648] START criterion=gini, max_depth=8, max_features=sqrt, min_samples_leaf=4, min_samples_split=2, splitter=random\n[CV 2/2; 140/648] END criterion=gini, max_depth=8, max_features=sqrt, min_samples_leaf=4, min_samples_split=2, splitter=random;, score=0.667 total time=   0.0s\n[CV 1/2; 141/648] START criterion=gini, max_depth=8, max_features=sqrt, min_samples_leaf=4, min_samples_split=5, splitter=best\n[CV 1/2; 141/648] END criterion=gini, max_depth=8, max_features=sqrt, min_samples_leaf=4, min_samples_split=5, splitter=best;, score=0.667 total time=   0.0s\n[CV 2/2; 141/648] START criterion=gini, max_depth=8, max_features=sqrt, min_samples_leaf=4, min_samples_split=5, splitter=best\n[CV 2/2; 141/648] END criterion=gini, max_depth=8, max_features=sqrt, min_samples_leaf=4, min_samples_split=5, splitter=best;, score=0.611 total time=   0.0s\n[CV 1/2; 142/648] START criterion=gini, max_depth=8, max_features=sqrt, min_samples_leaf=4, min_samples_split=5, splitter=random\n[CV 1/2; 142/648] END criterion=gini, max_depth=8, max_features=sqrt, min_samples_leaf=4, min_samples_split=5, splitter=random;, score=0.861 total time=   0.0s\n[CV 2/2; 142/648] START criterion=gini, max_depth=8, max_features=sqrt, min_samples_leaf=4, min_samples_split=5, splitter=random\n[CV 2/2; 142/648] END criterion=gini, max_depth=8, max_features=sqrt, min_samples_leaf=4, min_samples_split=5, splitter=random;, score=0.667 total time=   0.0s\n[CV 1/2; 143/648] START criterion=gini, max_depth=8, max_features=sqrt, min_samples_leaf=4, min_samples_split=10, splitter=best\n[CV 1/2; 143/648] END criterion=gini, max_depth=8, max_features=sqrt, min_samples_leaf=4, min_samples_split=10, splitter=best;, score=0.667 total time=   0.0s\n[CV 2/2; 143/648] START criterion=gini, max_depth=8, max_features=sqrt, min_samples_leaf=4, min_samples_split=10, splitter=best\n[CV 2/2; 143/648] END criterion=gini, max_depth=8, max_features=sqrt, min_samples_leaf=4, min_samples_split=10, splitter=best;, score=0.778 total time=   0.0s\n[CV 1/2; 144/648] START criterion=gini, max_depth=8, max_features=sqrt, min_samples_leaf=4, min_samples_split=10, splitter=random\n[CV 1/2; 144/648] END criterion=gini, max_depth=8, max_features=sqrt, min_samples_leaf=4, min_samples_split=10, splitter=random;, score=0.806 total time=   0.0s\n[CV 2/2; 144/648] START criterion=gini, max_depth=8, max_features=sqrt, min_samples_leaf=4, min_samples_split=10, splitter=random\n[CV 2/2; 144/648] END criterion=gini, max_depth=8, max_features=sqrt, min_samples_leaf=4, min_samples_split=10, splitter=random;, score=0.667 total time=   0.0s\n[CV 1/2; 145/648] START criterion=gini, max_depth=10, max_features=auto, min_samples_leaf=1, min_samples_split=2, splitter=best\n",
          "output_type": "stream"
        },
        {
          "name": "stderr",
          "text": "/lib/python3.11/site-packages/sklearn/tree/_classes.py:269: FutureWarning: `max_features='auto'` has been deprecated in 1.1 and will be removed in 1.3. To keep the past behaviour, explicitly set `max_features='sqrt'`.\n  warnings.warn(\n",
          "output_type": "stream"
        },
        {
          "name": "stdout",
          "text": "[CV 1/2; 145/648] END criterion=gini, max_depth=10, max_features=auto, min_samples_leaf=1, min_samples_split=2, splitter=best;, score=0.833 total time=   0.0s\n[CV 2/2; 145/648] START criterion=gini, max_depth=10, max_features=auto, min_samples_leaf=1, min_samples_split=2, splitter=best\n",
          "output_type": "stream"
        },
        {
          "name": "stderr",
          "text": "/lib/python3.11/site-packages/sklearn/tree/_classes.py:269: FutureWarning: `max_features='auto'` has been deprecated in 1.1 and will be removed in 1.3. To keep the past behaviour, explicitly set `max_features='sqrt'`.\n  warnings.warn(\n",
          "output_type": "stream"
        },
        {
          "name": "stdout",
          "text": "[CV 2/2; 145/648] END criterion=gini, max_depth=10, max_features=auto, min_samples_leaf=1, min_samples_split=2, splitter=best;, score=0.806 total time=   0.0s\n[CV 1/2; 146/648] START criterion=gini, max_depth=10, max_features=auto, min_samples_leaf=1, min_samples_split=2, splitter=random\n",
          "output_type": "stream"
        },
        {
          "name": "stderr",
          "text": "/lib/python3.11/site-packages/sklearn/tree/_classes.py:269: FutureWarning: `max_features='auto'` has been deprecated in 1.1 and will be removed in 1.3. To keep the past behaviour, explicitly set `max_features='sqrt'`.\n  warnings.warn(\n",
          "output_type": "stream"
        },
        {
          "name": "stdout",
          "text": "[CV 1/2; 146/648] END criterion=gini, max_depth=10, max_features=auto, min_samples_leaf=1, min_samples_split=2, splitter=random;, score=0.750 total time=   0.0s\n[CV 2/2; 146/648] START criterion=gini, max_depth=10, max_features=auto, min_samples_leaf=1, min_samples_split=2, splitter=random\n",
          "output_type": "stream"
        },
        {
          "name": "stderr",
          "text": "/lib/python3.11/site-packages/sklearn/tree/_classes.py:269: FutureWarning: `max_features='auto'` has been deprecated in 1.1 and will be removed in 1.3. To keep the past behaviour, explicitly set `max_features='sqrt'`.\n  warnings.warn(\n",
          "output_type": "stream"
        },
        {
          "name": "stdout",
          "text": "[CV 2/2; 146/648] END criterion=gini, max_depth=10, max_features=auto, min_samples_leaf=1, min_samples_split=2, splitter=random;, score=0.583 total time=   0.0s\n[CV 1/2; 147/648] START criterion=gini, max_depth=10, max_features=auto, min_samples_leaf=1, min_samples_split=5, splitter=best\n",
          "output_type": "stream"
        },
        {
          "name": "stderr",
          "text": "/lib/python3.11/site-packages/sklearn/tree/_classes.py:269: FutureWarning: `max_features='auto'` has been deprecated in 1.1 and will be removed in 1.3. To keep the past behaviour, explicitly set `max_features='sqrt'`.\n  warnings.warn(\n",
          "output_type": "stream"
        },
        {
          "name": "stdout",
          "text": "[CV 1/2; 147/648] END criterion=gini, max_depth=10, max_features=auto, min_samples_leaf=1, min_samples_split=5, splitter=best;, score=0.472 total time=   0.0s\n[CV 2/2; 147/648] START criterion=gini, max_depth=10, max_features=auto, min_samples_leaf=1, min_samples_split=5, splitter=best\n",
          "output_type": "stream"
        },
        {
          "name": "stderr",
          "text": "/lib/python3.11/site-packages/sklearn/tree/_classes.py:269: FutureWarning: `max_features='auto'` has been deprecated in 1.1 and will be removed in 1.3. To keep the past behaviour, explicitly set `max_features='sqrt'`.\n  warnings.warn(\n",
          "output_type": "stream"
        },
        {
          "name": "stdout",
          "text": "[CV 2/2; 147/648] END criterion=gini, max_depth=10, max_features=auto, min_samples_leaf=1, min_samples_split=5, splitter=best;, score=0.778 total time=   0.0s\n[CV 1/2; 148/648] START criterion=gini, max_depth=10, max_features=auto, min_samples_leaf=1, min_samples_split=5, splitter=random\n",
          "output_type": "stream"
        },
        {
          "name": "stderr",
          "text": "/lib/python3.11/site-packages/sklearn/tree/_classes.py:269: FutureWarning: `max_features='auto'` has been deprecated in 1.1 and will be removed in 1.3. To keep the past behaviour, explicitly set `max_features='sqrt'`.\n  warnings.warn(\n",
          "output_type": "stream"
        },
        {
          "name": "stdout",
          "text": "[CV 1/2; 148/648] END criterion=gini, max_depth=10, max_features=auto, min_samples_leaf=1, min_samples_split=5, splitter=random;, score=0.833 total time=   0.0s\n[CV 2/2; 148/648] START criterion=gini, max_depth=10, max_features=auto, min_samples_leaf=1, min_samples_split=5, splitter=random\n",
          "output_type": "stream"
        },
        {
          "name": "stderr",
          "text": "/lib/python3.11/site-packages/sklearn/tree/_classes.py:269: FutureWarning: `max_features='auto'` has been deprecated in 1.1 and will be removed in 1.3. To keep the past behaviour, explicitly set `max_features='sqrt'`.\n  warnings.warn(\n",
          "output_type": "stream"
        },
        {
          "name": "stdout",
          "text": "[CV 2/2; 148/648] END criterion=gini, max_depth=10, max_features=auto, min_samples_leaf=1, min_samples_split=5, splitter=random;, score=0.778 total time=   0.0s\n[CV 1/2; 149/648] START criterion=gini, max_depth=10, max_features=auto, min_samples_leaf=1, min_samples_split=10, splitter=best\n",
          "output_type": "stream"
        },
        {
          "name": "stderr",
          "text": "/lib/python3.11/site-packages/sklearn/tree/_classes.py:269: FutureWarning: `max_features='auto'` has been deprecated in 1.1 and will be removed in 1.3. To keep the past behaviour, explicitly set `max_features='sqrt'`.\n  warnings.warn(\n",
          "output_type": "stream"
        },
        {
          "name": "stdout",
          "text": "[CV 1/2; 149/648] END criterion=gini, max_depth=10, max_features=auto, min_samples_leaf=1, min_samples_split=10, splitter=best;, score=0.861 total time=   0.0s\n[CV 2/2; 149/648] START criterion=gini, max_depth=10, max_features=auto, min_samples_leaf=1, min_samples_split=10, splitter=best\n",
          "output_type": "stream"
        },
        {
          "name": "stderr",
          "text": "/lib/python3.11/site-packages/sklearn/tree/_classes.py:269: FutureWarning: `max_features='auto'` has been deprecated in 1.1 and will be removed in 1.3. To keep the past behaviour, explicitly set `max_features='sqrt'`.\n  warnings.warn(\n",
          "output_type": "stream"
        },
        {
          "name": "stdout",
          "text": "[CV 2/2; 149/648] END criterion=gini, max_depth=10, max_features=auto, min_samples_leaf=1, min_samples_split=10, splitter=best;, score=0.639 total time=   0.0s\n[CV 1/2; 150/648] START criterion=gini, max_depth=10, max_features=auto, min_samples_leaf=1, min_samples_split=10, splitter=random\n",
          "output_type": "stream"
        },
        {
          "name": "stderr",
          "text": "/lib/python3.11/site-packages/sklearn/tree/_classes.py:269: FutureWarning: `max_features='auto'` has been deprecated in 1.1 and will be removed in 1.3. To keep the past behaviour, explicitly set `max_features='sqrt'`.\n  warnings.warn(\n",
          "output_type": "stream"
        },
        {
          "name": "stdout",
          "text": "[CV 1/2; 150/648] END criterion=gini, max_depth=10, max_features=auto, min_samples_leaf=1, min_samples_split=10, splitter=random;, score=0.778 total time=   0.0s\n[CV 2/2; 150/648] START criterion=gini, max_depth=10, max_features=auto, min_samples_leaf=1, min_samples_split=10, splitter=random\n",
          "output_type": "stream"
        },
        {
          "name": "stderr",
          "text": "/lib/python3.11/site-packages/sklearn/tree/_classes.py:269: FutureWarning: `max_features='auto'` has been deprecated in 1.1 and will be removed in 1.3. To keep the past behaviour, explicitly set `max_features='sqrt'`.\n  warnings.warn(\n",
          "output_type": "stream"
        },
        {
          "name": "stdout",
          "text": "[CV 2/2; 150/648] END criterion=gini, max_depth=10, max_features=auto, min_samples_leaf=1, min_samples_split=10, splitter=random;, score=0.444 total time=   0.0s\n[CV 1/2; 151/648] START criterion=gini, max_depth=10, max_features=auto, min_samples_leaf=2, min_samples_split=2, splitter=best\n",
          "output_type": "stream"
        },
        {
          "name": "stderr",
          "text": "/lib/python3.11/site-packages/sklearn/tree/_classes.py:269: FutureWarning: `max_features='auto'` has been deprecated in 1.1 and will be removed in 1.3. To keep the past behaviour, explicitly set `max_features='sqrt'`.\n  warnings.warn(\n",
          "output_type": "stream"
        },
        {
          "name": "stdout",
          "text": "[CV 1/2; 151/648] END criterion=gini, max_depth=10, max_features=auto, min_samples_leaf=2, min_samples_split=2, splitter=best;, score=0.833 total time=   0.0s\n[CV 2/2; 151/648] START criterion=gini, max_depth=10, max_features=auto, min_samples_leaf=2, min_samples_split=2, splitter=best\n",
          "output_type": "stream"
        },
        {
          "name": "stderr",
          "text": "/lib/python3.11/site-packages/sklearn/tree/_classes.py:269: FutureWarning: `max_features='auto'` has been deprecated in 1.1 and will be removed in 1.3. To keep the past behaviour, explicitly set `max_features='sqrt'`.\n  warnings.warn(\n",
          "output_type": "stream"
        },
        {
          "name": "stdout",
          "text": "[CV 2/2; 151/648] END criterion=gini, max_depth=10, max_features=auto, min_samples_leaf=2, min_samples_split=2, splitter=best;, score=0.750 total time=   0.0s\n[CV 1/2; 152/648] START criterion=gini, max_depth=10, max_features=auto, min_samples_leaf=2, min_samples_split=2, splitter=random\n",
          "output_type": "stream"
        },
        {
          "name": "stderr",
          "text": "/lib/python3.11/site-packages/sklearn/tree/_classes.py:269: FutureWarning: `max_features='auto'` has been deprecated in 1.1 and will be removed in 1.3. To keep the past behaviour, explicitly set `max_features='sqrt'`.\n  warnings.warn(\n",
          "output_type": "stream"
        },
        {
          "name": "stdout",
          "text": "[CV 1/2; 152/648] END criterion=gini, max_depth=10, max_features=auto, min_samples_leaf=2, min_samples_split=2, splitter=random;, score=0.667 total time=   0.0s\n[CV 2/2; 152/648] START criterion=gini, max_depth=10, max_features=auto, min_samples_leaf=2, min_samples_split=2, splitter=random\n",
          "output_type": "stream"
        },
        {
          "name": "stderr",
          "text": "/lib/python3.11/site-packages/sklearn/tree/_classes.py:269: FutureWarning: `max_features='auto'` has been deprecated in 1.1 and will be removed in 1.3. To keep the past behaviour, explicitly set `max_features='sqrt'`.\n  warnings.warn(\n",
          "output_type": "stream"
        },
        {
          "name": "stdout",
          "text": "[CV 2/2; 152/648] END criterion=gini, max_depth=10, max_features=auto, min_samples_leaf=2, min_samples_split=2, splitter=random;, score=0.806 total time=   0.0s\n[CV 1/2; 153/648] START criterion=gini, max_depth=10, max_features=auto, min_samples_leaf=2, min_samples_split=5, splitter=best\n",
          "output_type": "stream"
        },
        {
          "name": "stderr",
          "text": "/lib/python3.11/site-packages/sklearn/tree/_classes.py:269: FutureWarning: `max_features='auto'` has been deprecated in 1.1 and will be removed in 1.3. To keep the past behaviour, explicitly set `max_features='sqrt'`.\n  warnings.warn(\n",
          "output_type": "stream"
        },
        {
          "name": "stdout",
          "text": "[CV 1/2; 153/648] END criterion=gini, max_depth=10, max_features=auto, min_samples_leaf=2, min_samples_split=5, splitter=best;, score=0.833 total time=   0.0s\n[CV 2/2; 153/648] START criterion=gini, max_depth=10, max_features=auto, min_samples_leaf=2, min_samples_split=5, splitter=best\n",
          "output_type": "stream"
        },
        {
          "name": "stderr",
          "text": "/lib/python3.11/site-packages/sklearn/tree/_classes.py:269: FutureWarning: `max_features='auto'` has been deprecated in 1.1 and will be removed in 1.3. To keep the past behaviour, explicitly set `max_features='sqrt'`.\n  warnings.warn(\n",
          "output_type": "stream"
        },
        {
          "name": "stdout",
          "text": "[CV 2/2; 153/648] END criterion=gini, max_depth=10, max_features=auto, min_samples_leaf=2, min_samples_split=5, splitter=best;, score=0.583 total time=   0.0s\n[CV 1/2; 154/648] START criterion=gini, max_depth=10, max_features=auto, min_samples_leaf=2, min_samples_split=5, splitter=random\n",
          "output_type": "stream"
        },
        {
          "name": "stderr",
          "text": "/lib/python3.11/site-packages/sklearn/tree/_classes.py:269: FutureWarning: `max_features='auto'` has been deprecated in 1.1 and will be removed in 1.3. To keep the past behaviour, explicitly set `max_features='sqrt'`.\n  warnings.warn(\n",
          "output_type": "stream"
        },
        {
          "name": "stdout",
          "text": "[CV 1/2; 154/648] END criterion=gini, max_depth=10, max_features=auto, min_samples_leaf=2, min_samples_split=5, splitter=random;, score=0.861 total time=   0.0s\n[CV 2/2; 154/648] START criterion=gini, max_depth=10, max_features=auto, min_samples_leaf=2, min_samples_split=5, splitter=random\n",
          "output_type": "stream"
        },
        {
          "name": "stderr",
          "text": "/lib/python3.11/site-packages/sklearn/tree/_classes.py:269: FutureWarning: `max_features='auto'` has been deprecated in 1.1 and will be removed in 1.3. To keep the past behaviour, explicitly set `max_features='sqrt'`.\n  warnings.warn(\n",
          "output_type": "stream"
        },
        {
          "name": "stdout",
          "text": "[CV 2/2; 154/648] END criterion=gini, max_depth=10, max_features=auto, min_samples_leaf=2, min_samples_split=5, splitter=random;, score=0.833 total time=   0.0s\n[CV 1/2; 155/648] START criterion=gini, max_depth=10, max_features=auto, min_samples_leaf=2, min_samples_split=10, splitter=best\n",
          "output_type": "stream"
        },
        {
          "name": "stderr",
          "text": "/lib/python3.11/site-packages/sklearn/tree/_classes.py:269: FutureWarning: `max_features='auto'` has been deprecated in 1.1 and will be removed in 1.3. To keep the past behaviour, explicitly set `max_features='sqrt'`.\n  warnings.warn(\n",
          "output_type": "stream"
        },
        {
          "name": "stdout",
          "text": "[CV 1/2; 155/648] END criterion=gini, max_depth=10, max_features=auto, min_samples_leaf=2, min_samples_split=10, splitter=best;, score=0.667 total time=   0.0s\n[CV 2/2; 155/648] START criterion=gini, max_depth=10, max_features=auto, min_samples_leaf=2, min_samples_split=10, splitter=best\n",
          "output_type": "stream"
        },
        {
          "name": "stderr",
          "text": "/lib/python3.11/site-packages/sklearn/tree/_classes.py:269: FutureWarning: `max_features='auto'` has been deprecated in 1.1 and will be removed in 1.3. To keep the past behaviour, explicitly set `max_features='sqrt'`.\n  warnings.warn(\n",
          "output_type": "stream"
        },
        {
          "name": "stdout",
          "text": "[CV 2/2; 155/648] END criterion=gini, max_depth=10, max_features=auto, min_samples_leaf=2, min_samples_split=10, splitter=best;, score=0.583 total time=   0.0s\n[CV 1/2; 156/648] START criterion=gini, max_depth=10, max_features=auto, min_samples_leaf=2, min_samples_split=10, splitter=random\n",
          "output_type": "stream"
        },
        {
          "name": "stderr",
          "text": "/lib/python3.11/site-packages/sklearn/tree/_classes.py:269: FutureWarning: `max_features='auto'` has been deprecated in 1.1 and will be removed in 1.3. To keep the past behaviour, explicitly set `max_features='sqrt'`.\n  warnings.warn(\n",
          "output_type": "stream"
        },
        {
          "name": "stdout",
          "text": "[CV 1/2; 156/648] END criterion=gini, max_depth=10, max_features=auto, min_samples_leaf=2, min_samples_split=10, splitter=random;, score=0.861 total time=   0.0s\n[CV 2/2; 156/648] START criterion=gini, max_depth=10, max_features=auto, min_samples_leaf=2, min_samples_split=10, splitter=random\n",
          "output_type": "stream"
        },
        {
          "name": "stderr",
          "text": "/lib/python3.11/site-packages/sklearn/tree/_classes.py:269: FutureWarning: `max_features='auto'` has been deprecated in 1.1 and will be removed in 1.3. To keep the past behaviour, explicitly set `max_features='sqrt'`.\n  warnings.warn(\n",
          "output_type": "stream"
        },
        {
          "name": "stdout",
          "text": "[CV 2/2; 156/648] END criterion=gini, max_depth=10, max_features=auto, min_samples_leaf=2, min_samples_split=10, splitter=random;, score=0.389 total time=   0.0s\n[CV 1/2; 157/648] START criterion=gini, max_depth=10, max_features=auto, min_samples_leaf=4, min_samples_split=2, splitter=best\n",
          "output_type": "stream"
        },
        {
          "name": "stderr",
          "text": "/lib/python3.11/site-packages/sklearn/tree/_classes.py:269: FutureWarning: `max_features='auto'` has been deprecated in 1.1 and will be removed in 1.3. To keep the past behaviour, explicitly set `max_features='sqrt'`.\n  warnings.warn(\n",
          "output_type": "stream"
        },
        {
          "name": "stdout",
          "text": "[CV 1/2; 157/648] END criterion=gini, max_depth=10, max_features=auto, min_samples_leaf=4, min_samples_split=2, splitter=best;, score=0.833 total time=   0.0s\n[CV 2/2; 157/648] START criterion=gini, max_depth=10, max_features=auto, min_samples_leaf=4, min_samples_split=2, splitter=best\n",
          "output_type": "stream"
        },
        {
          "name": "stderr",
          "text": "/lib/python3.11/site-packages/sklearn/tree/_classes.py:269: FutureWarning: `max_features='auto'` has been deprecated in 1.1 and will be removed in 1.3. To keep the past behaviour, explicitly set `max_features='sqrt'`.\n  warnings.warn(\n",
          "output_type": "stream"
        },
        {
          "name": "stdout",
          "text": "[CV 2/2; 157/648] END criterion=gini, max_depth=10, max_features=auto, min_samples_leaf=4, min_samples_split=2, splitter=best;, score=0.556 total time=   0.0s\n[CV 1/2; 158/648] START criterion=gini, max_depth=10, max_features=auto, min_samples_leaf=4, min_samples_split=2, splitter=random\n",
          "output_type": "stream"
        },
        {
          "name": "stderr",
          "text": "/lib/python3.11/site-packages/sklearn/tree/_classes.py:269: FutureWarning: `max_features='auto'` has been deprecated in 1.1 and will be removed in 1.3. To keep the past behaviour, explicitly set `max_features='sqrt'`.\n  warnings.warn(\n",
          "output_type": "stream"
        },
        {
          "name": "stdout",
          "text": "[CV 1/2; 158/648] END criterion=gini, max_depth=10, max_features=auto, min_samples_leaf=4, min_samples_split=2, splitter=random;, score=0.861 total time=   0.0s\n[CV 2/2; 158/648] START criterion=gini, max_depth=10, max_features=auto, min_samples_leaf=4, min_samples_split=2, splitter=random\n",
          "output_type": "stream"
        },
        {
          "name": "stderr",
          "text": "/lib/python3.11/site-packages/sklearn/tree/_classes.py:269: FutureWarning: `max_features='auto'` has been deprecated in 1.1 and will be removed in 1.3. To keep the past behaviour, explicitly set `max_features='sqrt'`.\n  warnings.warn(\n",
          "output_type": "stream"
        },
        {
          "name": "stdout",
          "text": "[CV 2/2; 158/648] END criterion=gini, max_depth=10, max_features=auto, min_samples_leaf=4, min_samples_split=2, splitter=random;, score=0.861 total time=   0.0s\n[CV 1/2; 159/648] START criterion=gini, max_depth=10, max_features=auto, min_samples_leaf=4, min_samples_split=5, splitter=best\n",
          "output_type": "stream"
        },
        {
          "name": "stderr",
          "text": "/lib/python3.11/site-packages/sklearn/tree/_classes.py:269: FutureWarning: `max_features='auto'` has been deprecated in 1.1 and will be removed in 1.3. To keep the past behaviour, explicitly set `max_features='sqrt'`.\n  warnings.warn(\n",
          "output_type": "stream"
        },
        {
          "name": "stdout",
          "text": "[CV 1/2; 159/648] END criterion=gini, max_depth=10, max_features=auto, min_samples_leaf=4, min_samples_split=5, splitter=best;, score=0.861 total time=   0.0s\n[CV 2/2; 159/648] START criterion=gini, max_depth=10, max_features=auto, min_samples_leaf=4, min_samples_split=5, splitter=best\n",
          "output_type": "stream"
        },
        {
          "name": "stderr",
          "text": "/lib/python3.11/site-packages/sklearn/tree/_classes.py:269: FutureWarning: `max_features='auto'` has been deprecated in 1.1 and will be removed in 1.3. To keep the past behaviour, explicitly set `max_features='sqrt'`.\n  warnings.warn(\n",
          "output_type": "stream"
        },
        {
          "name": "stdout",
          "text": "[CV 2/2; 159/648] END criterion=gini, max_depth=10, max_features=auto, min_samples_leaf=4, min_samples_split=5, splitter=best;, score=0.750 total time=   0.0s\n[CV 1/2; 160/648] START criterion=gini, max_depth=10, max_features=auto, min_samples_leaf=4, min_samples_split=5, splitter=random\n",
          "output_type": "stream"
        },
        {
          "name": "stderr",
          "text": "/lib/python3.11/site-packages/sklearn/tree/_classes.py:269: FutureWarning: `max_features='auto'` has been deprecated in 1.1 and will be removed in 1.3. To keep the past behaviour, explicitly set `max_features='sqrt'`.\n  warnings.warn(\n",
          "output_type": "stream"
        },
        {
          "name": "stdout",
          "text": "[CV 1/2; 160/648] END criterion=gini, max_depth=10, max_features=auto, min_samples_leaf=4, min_samples_split=5, splitter=random;, score=0.833 total time=   0.0s\n[CV 2/2; 160/648] START criterion=gini, max_depth=10, max_features=auto, min_samples_leaf=4, min_samples_split=5, splitter=random\n",
          "output_type": "stream"
        },
        {
          "name": "stderr",
          "text": "/lib/python3.11/site-packages/sklearn/tree/_classes.py:269: FutureWarning: `max_features='auto'` has been deprecated in 1.1 and will be removed in 1.3. To keep the past behaviour, explicitly set `max_features='sqrt'`.\n  warnings.warn(\n",
          "output_type": "stream"
        },
        {
          "name": "stdout",
          "text": "[CV 2/2; 160/648] END criterion=gini, max_depth=10, max_features=auto, min_samples_leaf=4, min_samples_split=5, splitter=random;, score=0.444 total time=   0.0s\n[CV 1/2; 161/648] START criterion=gini, max_depth=10, max_features=auto, min_samples_leaf=4, min_samples_split=10, splitter=best\n",
          "output_type": "stream"
        },
        {
          "name": "stderr",
          "text": "/lib/python3.11/site-packages/sklearn/tree/_classes.py:269: FutureWarning: `max_features='auto'` has been deprecated in 1.1 and will be removed in 1.3. To keep the past behaviour, explicitly set `max_features='sqrt'`.\n  warnings.warn(\n",
          "output_type": "stream"
        },
        {
          "name": "stdout",
          "text": "[CV 1/2; 161/648] END criterion=gini, max_depth=10, max_features=auto, min_samples_leaf=4, min_samples_split=10, splitter=best;, score=0.861 total time=   0.0s\n[CV 2/2; 161/648] START criterion=gini, max_depth=10, max_features=auto, min_samples_leaf=4, min_samples_split=10, splitter=best\n",
          "output_type": "stream"
        },
        {
          "name": "stderr",
          "text": "/lib/python3.11/site-packages/sklearn/tree/_classes.py:269: FutureWarning: `max_features='auto'` has been deprecated in 1.1 and will be removed in 1.3. To keep the past behaviour, explicitly set `max_features='sqrt'`.\n  warnings.warn(\n",
          "output_type": "stream"
        },
        {
          "name": "stdout",
          "text": "[CV 2/2; 161/648] END criterion=gini, max_depth=10, max_features=auto, min_samples_leaf=4, min_samples_split=10, splitter=best;, score=0.861 total time=   0.0s\n[CV 1/2; 162/648] START criterion=gini, max_depth=10, max_features=auto, min_samples_leaf=4, min_samples_split=10, splitter=random\n",
          "output_type": "stream"
        },
        {
          "name": "stderr",
          "text": "/lib/python3.11/site-packages/sklearn/tree/_classes.py:269: FutureWarning: `max_features='auto'` has been deprecated in 1.1 and will be removed in 1.3. To keep the past behaviour, explicitly set `max_features='sqrt'`.\n  warnings.warn(\n",
          "output_type": "stream"
        },
        {
          "name": "stdout",
          "text": "[CV 1/2; 162/648] END criterion=gini, max_depth=10, max_features=auto, min_samples_leaf=4, min_samples_split=10, splitter=random;, score=0.667 total time=   0.0s\n[CV 2/2; 162/648] START criterion=gini, max_depth=10, max_features=auto, min_samples_leaf=4, min_samples_split=10, splitter=random\n",
          "output_type": "stream"
        },
        {
          "name": "stderr",
          "text": "/lib/python3.11/site-packages/sklearn/tree/_classes.py:269: FutureWarning: `max_features='auto'` has been deprecated in 1.1 and will be removed in 1.3. To keep the past behaviour, explicitly set `max_features='sqrt'`.\n  warnings.warn(\n",
          "output_type": "stream"
        },
        {
          "name": "stdout",
          "text": "[CV 2/2; 162/648] END criterion=gini, max_depth=10, max_features=auto, min_samples_leaf=4, min_samples_split=10, splitter=random;, score=0.389 total time=   0.0s\n[CV 1/2; 163/648] START criterion=gini, max_depth=10, max_features=sqrt, min_samples_leaf=1, min_samples_split=2, splitter=best\n[CV 1/2; 163/648] END criterion=gini, max_depth=10, max_features=sqrt, min_samples_leaf=1, min_samples_split=2, splitter=best;, score=0.750 total time=   0.0s\n[CV 2/2; 163/648] START criterion=gini, max_depth=10, max_features=sqrt, min_samples_leaf=1, min_samples_split=2, splitter=best\n[CV 2/2; 163/648] END criterion=gini, max_depth=10, max_features=sqrt, min_samples_leaf=1, min_samples_split=2, splitter=best;, score=0.694 total time=   0.0s\n[CV 1/2; 164/648] START criterion=gini, max_depth=10, max_features=sqrt, min_samples_leaf=1, min_samples_split=2, splitter=random\n[CV 1/2; 164/648] END criterion=gini, max_depth=10, max_features=sqrt, min_samples_leaf=1, min_samples_split=2, splitter=random;, score=0.722 total time=   0.0s\n[CV 2/2; 164/648] START criterion=gini, max_depth=10, max_features=sqrt, min_samples_leaf=1, min_samples_split=2, splitter=random\n[CV 2/2; 164/648] END criterion=gini, max_depth=10, max_features=sqrt, min_samples_leaf=1, min_samples_split=2, splitter=random;, score=0.778 total time=   0.0s\n[CV 1/2; 165/648] START criterion=gini, max_depth=10, max_features=sqrt, min_samples_leaf=1, min_samples_split=5, splitter=best\n[CV 1/2; 165/648] END criterion=gini, max_depth=10, max_features=sqrt, min_samples_leaf=1, min_samples_split=5, splitter=best;, score=0.806 total time=   0.0s\n[CV 2/2; 165/648] START criterion=gini, max_depth=10, max_features=sqrt, min_samples_leaf=1, min_samples_split=5, splitter=best\n[CV 2/2; 165/648] END criterion=gini, max_depth=10, max_features=sqrt, min_samples_leaf=1, min_samples_split=5, splitter=best;, score=0.750 total time=   0.0s\n[CV 1/2; 166/648] START criterion=gini, max_depth=10, max_features=sqrt, min_samples_leaf=1, min_samples_split=5, splitter=random\n[CV 1/2; 166/648] END criterion=gini, max_depth=10, max_features=sqrt, min_samples_leaf=1, min_samples_split=5, splitter=random;, score=0.750 total time=   0.0s\n[CV 2/2; 166/648] START criterion=gini, max_depth=10, max_features=sqrt, min_samples_leaf=1, min_samples_split=5, splitter=random\n[CV 2/2; 166/648] END criterion=gini, max_depth=10, max_features=sqrt, min_samples_leaf=1, min_samples_split=5, splitter=random;, score=0.639 total time=   0.0s\n[CV 1/2; 167/648] START criterion=gini, max_depth=10, max_features=sqrt, min_samples_leaf=1, min_samples_split=10, splitter=best\n[CV 1/2; 167/648] END criterion=gini, max_depth=10, max_features=sqrt, min_samples_leaf=1, min_samples_split=10, splitter=best;, score=0.861 total time=   0.0s\n[CV 2/2; 167/648] START criterion=gini, max_depth=10, max_features=sqrt, min_samples_leaf=1, min_samples_split=10, splitter=best\n[CV 2/2; 167/648] END criterion=gini, max_depth=10, max_features=sqrt, min_samples_leaf=1, min_samples_split=10, splitter=best;, score=0.639 total time=   0.0s\n[CV 1/2; 168/648] START criterion=gini, max_depth=10, max_features=sqrt, min_samples_leaf=1, min_samples_split=10, splitter=random\n[CV 1/2; 168/648] END criterion=gini, max_depth=10, max_features=sqrt, min_samples_leaf=1, min_samples_split=10, splitter=random;, score=0.833 total time=   0.0s\n[CV 2/2; 168/648] START criterion=gini, max_depth=10, max_features=sqrt, min_samples_leaf=1, min_samples_split=10, splitter=random\n[CV 2/2; 168/648] END criterion=gini, max_depth=10, max_features=sqrt, min_samples_leaf=1, min_samples_split=10, splitter=random;, score=0.472 total time=   0.0s\n[CV 1/2; 169/648] START criterion=gini, max_depth=10, max_features=sqrt, min_samples_leaf=2, min_samples_split=2, splitter=best\n[CV 1/2; 169/648] END criterion=gini, max_depth=10, max_features=sqrt, min_samples_leaf=2, min_samples_split=2, splitter=best;, score=0.806 total time=   0.0s\n[CV 2/2; 169/648] START criterion=gini, max_depth=10, max_features=sqrt, min_samples_leaf=2, min_samples_split=2, splitter=best\n[CV 2/2; 169/648] END criterion=gini, max_depth=10, max_features=sqrt, min_samples_leaf=2, min_samples_split=2, splitter=best;, score=0.806 total time=   0.0s\n[CV 1/2; 170/648] START criterion=gini, max_depth=10, max_features=sqrt, min_samples_leaf=2, min_samples_split=2, splitter=random\n[CV 1/2; 170/648] END criterion=gini, max_depth=10, max_features=sqrt, min_samples_leaf=2, min_samples_split=2, splitter=random;, score=0.750 total time=   0.0s\n[CV 2/2; 170/648] START criterion=gini, max_depth=10, max_features=sqrt, min_samples_leaf=2, min_samples_split=2, splitter=random\n[CV 2/2; 170/648] END criterion=gini, max_depth=10, max_features=sqrt, min_samples_leaf=2, min_samples_split=2, splitter=random;, score=0.583 total time=   0.0s\n[CV 1/2; 171/648] START criterion=gini, max_depth=10, max_features=sqrt, min_samples_leaf=2, min_samples_split=5, splitter=best\n[CV 1/2; 171/648] END criterion=gini, max_depth=10, max_features=sqrt, min_samples_leaf=2, min_samples_split=5, splitter=best;, score=0.722 total time=   0.0s\n[CV 2/2; 171/648] START criterion=gini, max_depth=10, max_features=sqrt, min_samples_leaf=2, min_samples_split=5, splitter=best\n[CV 2/2; 171/648] END criterion=gini, max_depth=10, max_features=sqrt, min_samples_leaf=2, min_samples_split=5, splitter=best;, score=0.750 total time=   0.0s\n[CV 1/2; 172/648] START criterion=gini, max_depth=10, max_features=sqrt, min_samples_leaf=2, min_samples_split=5, splitter=random\n[CV 1/2; 172/648] END criterion=gini, max_depth=10, max_features=sqrt, min_samples_leaf=2, min_samples_split=5, splitter=random;, score=0.833 total time=   0.0s\n[CV 2/2; 172/648] START criterion=gini, max_depth=10, max_features=sqrt, min_samples_leaf=2, min_samples_split=5, splitter=random\n[CV 2/2; 172/648] END criterion=gini, max_depth=10, max_features=sqrt, min_samples_leaf=2, min_samples_split=5, splitter=random;, score=0.528 total time=   0.0s\n[CV 1/2; 173/648] START criterion=gini, max_depth=10, max_features=sqrt, min_samples_leaf=2, min_samples_split=10, splitter=best\n[CV 1/2; 173/648] END criterion=gini, max_depth=10, max_features=sqrt, min_samples_leaf=2, min_samples_split=10, splitter=best;, score=0.806 total time=   0.0s\n[CV 2/2; 173/648] START criterion=gini, max_depth=10, max_features=sqrt, min_samples_leaf=2, min_samples_split=10, splitter=best\n[CV 2/2; 173/648] END criterion=gini, max_depth=10, max_features=sqrt, min_samples_leaf=2, min_samples_split=10, splitter=best;, score=0.722 total time=   0.0s\n[CV 1/2; 174/648] START criterion=gini, max_depth=10, max_features=sqrt, min_samples_leaf=2, min_samples_split=10, splitter=random\n[CV 1/2; 174/648] END criterion=gini, max_depth=10, max_features=sqrt, min_samples_leaf=2, min_samples_split=10, splitter=random;, score=0.722 total time=   0.0s\n[CV 2/2; 174/648] START criterion=gini, max_depth=10, max_features=sqrt, min_samples_leaf=2, min_samples_split=10, splitter=random\n[CV 2/2; 174/648] END criterion=gini, max_depth=10, max_features=sqrt, min_samples_leaf=2, min_samples_split=10, splitter=random;, score=0.667 total time=   0.0s\n[CV 1/2; 175/648] START criterion=gini, max_depth=10, max_features=sqrt, min_samples_leaf=4, min_samples_split=2, splitter=best\n[CV 1/2; 175/648] END criterion=gini, max_depth=10, max_features=sqrt, min_samples_leaf=4, min_samples_split=2, splitter=best;, score=0.833 total time=   0.0s\n[CV 2/2; 175/648] START criterion=gini, max_depth=10, max_features=sqrt, min_samples_leaf=4, min_samples_split=2, splitter=best\n[CV 2/2; 175/648] END criterion=gini, max_depth=10, max_features=sqrt, min_samples_leaf=4, min_samples_split=2, splitter=best;, score=0.722 total time=   0.0s\n[CV 1/2; 176/648] START criterion=gini, max_depth=10, max_features=sqrt, min_samples_leaf=4, min_samples_split=2, splitter=random\n[CV 1/2; 176/648] END criterion=gini, max_depth=10, max_features=sqrt, min_samples_leaf=4, min_samples_split=2, splitter=random;, score=0.833 total time=   0.0s\n[CV 2/2; 176/648] START criterion=gini, max_depth=10, max_features=sqrt, min_samples_leaf=4, min_samples_split=2, splitter=random\n[CV 2/2; 176/648] END criterion=gini, max_depth=10, max_features=sqrt, min_samples_leaf=4, min_samples_split=2, splitter=random;, score=0.861 total time=   0.0s\n[CV 1/2; 177/648] START criterion=gini, max_depth=10, max_features=sqrt, min_samples_leaf=4, min_samples_split=5, splitter=best\n[CV 1/2; 177/648] END criterion=gini, max_depth=10, max_features=sqrt, min_samples_leaf=4, min_samples_split=5, splitter=best;, score=0.806 total time=   0.0s\n[CV 2/2; 177/648] START criterion=gini, max_depth=10, max_features=sqrt, min_samples_leaf=4, min_samples_split=5, splitter=best\n[CV 2/2; 177/648] END criterion=gini, max_depth=10, max_features=sqrt, min_samples_leaf=4, min_samples_split=5, splitter=best;, score=0.556 total time=   0.0s\n[CV 1/2; 178/648] START criterion=gini, max_depth=10, max_features=sqrt, min_samples_leaf=4, min_samples_split=5, splitter=random\n[CV 1/2; 178/648] END criterion=gini, max_depth=10, max_features=sqrt, min_samples_leaf=4, min_samples_split=5, splitter=random;, score=0.833 total time=   0.0s\n[CV 2/2; 178/648] START criterion=gini, max_depth=10, max_features=sqrt, min_samples_leaf=4, min_samples_split=5, splitter=random\n[CV 2/2; 178/648] END criterion=gini, max_depth=10, max_features=sqrt, min_samples_leaf=4, min_samples_split=5, splitter=random;, score=0.861 total time=   0.0s\n[CV 1/2; 179/648] START criterion=gini, max_depth=10, max_features=sqrt, min_samples_leaf=4, min_samples_split=10, splitter=best\n[CV 1/2; 179/648] END criterion=gini, max_depth=10, max_features=sqrt, min_samples_leaf=4, min_samples_split=10, splitter=best;, score=0.778 total time=   0.0s\n[CV 2/2; 179/648] START criterion=gini, max_depth=10, max_features=sqrt, min_samples_leaf=4, min_samples_split=10, splitter=best\n[CV 2/2; 179/648] END criterion=gini, max_depth=10, max_features=sqrt, min_samples_leaf=4, min_samples_split=10, splitter=best;, score=0.667 total time=   0.0s\n[CV 1/2; 180/648] START criterion=gini, max_depth=10, max_features=sqrt, min_samples_leaf=4, min_samples_split=10, splitter=random\n[CV 1/2; 180/648] END criterion=gini, max_depth=10, max_features=sqrt, min_samples_leaf=4, min_samples_split=10, splitter=random;, score=0.667 total time=   0.0s\n[CV 2/2; 180/648] START criterion=gini, max_depth=10, max_features=sqrt, min_samples_leaf=4, min_samples_split=10, splitter=random\n[CV 2/2; 180/648] END criterion=gini, max_depth=10, max_features=sqrt, min_samples_leaf=4, min_samples_split=10, splitter=random;, score=0.444 total time=   0.0s\n[CV 1/2; 181/648] START criterion=gini, max_depth=12, max_features=auto, min_samples_leaf=1, min_samples_split=2, splitter=best\n",
          "output_type": "stream"
        },
        {
          "name": "stderr",
          "text": "/lib/python3.11/site-packages/sklearn/tree/_classes.py:269: FutureWarning: `max_features='auto'` has been deprecated in 1.1 and will be removed in 1.3. To keep the past behaviour, explicitly set `max_features='sqrt'`.\n  warnings.warn(\n",
          "output_type": "stream"
        },
        {
          "name": "stdout",
          "text": "[CV 1/2; 181/648] END criterion=gini, max_depth=12, max_features=auto, min_samples_leaf=1, min_samples_split=2, splitter=best;, score=0.750 total time=   0.0s\n[CV 2/2; 181/648] START criterion=gini, max_depth=12, max_features=auto, min_samples_leaf=1, min_samples_split=2, splitter=best\n",
          "output_type": "stream"
        },
        {
          "name": "stderr",
          "text": "/lib/python3.11/site-packages/sklearn/tree/_classes.py:269: FutureWarning: `max_features='auto'` has been deprecated in 1.1 and will be removed in 1.3. To keep the past behaviour, explicitly set `max_features='sqrt'`.\n  warnings.warn(\n",
          "output_type": "stream"
        },
        {
          "name": "stdout",
          "text": "[CV 2/2; 181/648] END criterion=gini, max_depth=12, max_features=auto, min_samples_leaf=1, min_samples_split=2, splitter=best;, score=0.750 total time=   0.0s\n[CV 1/2; 182/648] START criterion=gini, max_depth=12, max_features=auto, min_samples_leaf=1, min_samples_split=2, splitter=random\n",
          "output_type": "stream"
        },
        {
          "name": "stderr",
          "text": "/lib/python3.11/site-packages/sklearn/tree/_classes.py:269: FutureWarning: `max_features='auto'` has been deprecated in 1.1 and will be removed in 1.3. To keep the past behaviour, explicitly set `max_features='sqrt'`.\n  warnings.warn(\n",
          "output_type": "stream"
        },
        {
          "name": "stdout",
          "text": "[CV 1/2; 182/648] END criterion=gini, max_depth=12, max_features=auto, min_samples_leaf=1, min_samples_split=2, splitter=random;, score=0.750 total time=   0.0s\n[CV 2/2; 182/648] START criterion=gini, max_depth=12, max_features=auto, min_samples_leaf=1, min_samples_split=2, splitter=random\n",
          "output_type": "stream"
        },
        {
          "name": "stderr",
          "text": "/lib/python3.11/site-packages/sklearn/tree/_classes.py:269: FutureWarning: `max_features='auto'` has been deprecated in 1.1 and will be removed in 1.3. To keep the past behaviour, explicitly set `max_features='sqrt'`.\n  warnings.warn(\n",
          "output_type": "stream"
        },
        {
          "name": "stdout",
          "text": "[CV 2/2; 182/648] END criterion=gini, max_depth=12, max_features=auto, min_samples_leaf=1, min_samples_split=2, splitter=random;, score=0.639 total time=   0.0s\n[CV 1/2; 183/648] START criterion=gini, max_depth=12, max_features=auto, min_samples_leaf=1, min_samples_split=5, splitter=best\n",
          "output_type": "stream"
        },
        {
          "name": "stderr",
          "text": "/lib/python3.11/site-packages/sklearn/tree/_classes.py:269: FutureWarning: `max_features='auto'` has been deprecated in 1.1 and will be removed in 1.3. To keep the past behaviour, explicitly set `max_features='sqrt'`.\n  warnings.warn(\n",
          "output_type": "stream"
        },
        {
          "name": "stdout",
          "text": "[CV 1/2; 183/648] END criterion=gini, max_depth=12, max_features=auto, min_samples_leaf=1, min_samples_split=5, splitter=best;, score=0.806 total time=   0.0s\n[CV 2/2; 183/648] START criterion=gini, max_depth=12, max_features=auto, min_samples_leaf=1, min_samples_split=5, splitter=best\n",
          "output_type": "stream"
        },
        {
          "name": "stderr",
          "text": "/lib/python3.11/site-packages/sklearn/tree/_classes.py:269: FutureWarning: `max_features='auto'` has been deprecated in 1.1 and will be removed in 1.3. To keep the past behaviour, explicitly set `max_features='sqrt'`.\n  warnings.warn(\n",
          "output_type": "stream"
        },
        {
          "name": "stdout",
          "text": "[CV 2/2; 183/648] END criterion=gini, max_depth=12, max_features=auto, min_samples_leaf=1, min_samples_split=5, splitter=best;, score=0.667 total time=   0.0s\n[CV 1/2; 184/648] START criterion=gini, max_depth=12, max_features=auto, min_samples_leaf=1, min_samples_split=5, splitter=random\n",
          "output_type": "stream"
        },
        {
          "name": "stderr",
          "text": "/lib/python3.11/site-packages/sklearn/tree/_classes.py:269: FutureWarning: `max_features='auto'` has been deprecated in 1.1 and will be removed in 1.3. To keep the past behaviour, explicitly set `max_features='sqrt'`.\n  warnings.warn(\n",
          "output_type": "stream"
        },
        {
          "name": "stdout",
          "text": "[CV 1/2; 184/648] END criterion=gini, max_depth=12, max_features=auto, min_samples_leaf=1, min_samples_split=5, splitter=random;, score=0.833 total time=   0.0s\n[CV 2/2; 184/648] START criterion=gini, max_depth=12, max_features=auto, min_samples_leaf=1, min_samples_split=5, splitter=random\n",
          "output_type": "stream"
        },
        {
          "name": "stderr",
          "text": "/lib/python3.11/site-packages/sklearn/tree/_classes.py:269: FutureWarning: `max_features='auto'` has been deprecated in 1.1 and will be removed in 1.3. To keep the past behaviour, explicitly set `max_features='sqrt'`.\n  warnings.warn(\n",
          "output_type": "stream"
        },
        {
          "name": "stdout",
          "text": "[CV 2/2; 184/648] END criterion=gini, max_depth=12, max_features=auto, min_samples_leaf=1, min_samples_split=5, splitter=random;, score=0.722 total time=   0.0s\n[CV 1/2; 185/648] START criterion=gini, max_depth=12, max_features=auto, min_samples_leaf=1, min_samples_split=10, splitter=best\n",
          "output_type": "stream"
        },
        {
          "name": "stderr",
          "text": "/lib/python3.11/site-packages/sklearn/tree/_classes.py:269: FutureWarning: `max_features='auto'` has been deprecated in 1.1 and will be removed in 1.3. To keep the past behaviour, explicitly set `max_features='sqrt'`.\n  warnings.warn(\n",
          "output_type": "stream"
        },
        {
          "name": "stdout",
          "text": "[CV 1/2; 185/648] END criterion=gini, max_depth=12, max_features=auto, min_samples_leaf=1, min_samples_split=10, splitter=best;, score=0.806 total time=   0.0s\n[CV 2/2; 185/648] START criterion=gini, max_depth=12, max_features=auto, min_samples_leaf=1, min_samples_split=10, splitter=best\n",
          "output_type": "stream"
        },
        {
          "name": "stderr",
          "text": "/lib/python3.11/site-packages/sklearn/tree/_classes.py:269: FutureWarning: `max_features='auto'` has been deprecated in 1.1 and will be removed in 1.3. To keep the past behaviour, explicitly set `max_features='sqrt'`.\n  warnings.warn(\n",
          "output_type": "stream"
        },
        {
          "name": "stdout",
          "text": "[CV 2/2; 185/648] END criterion=gini, max_depth=12, max_features=auto, min_samples_leaf=1, min_samples_split=10, splitter=best;, score=0.667 total time=   0.0s\n[CV 1/2; 186/648] START criterion=gini, max_depth=12, max_features=auto, min_samples_leaf=1, min_samples_split=10, splitter=random\n",
          "output_type": "stream"
        },
        {
          "name": "stderr",
          "text": "/lib/python3.11/site-packages/sklearn/tree/_classes.py:269: FutureWarning: `max_features='auto'` has been deprecated in 1.1 and will be removed in 1.3. To keep the past behaviour, explicitly set `max_features='sqrt'`.\n  warnings.warn(\n",
          "output_type": "stream"
        },
        {
          "name": "stdout",
          "text": "[CV 1/2; 186/648] END criterion=gini, max_depth=12, max_features=auto, min_samples_leaf=1, min_samples_split=10, splitter=random;, score=0.750 total time=   0.0s\n[CV 2/2; 186/648] START criterion=gini, max_depth=12, max_features=auto, min_samples_leaf=1, min_samples_split=10, splitter=random\n",
          "output_type": "stream"
        },
        {
          "name": "stderr",
          "text": "/lib/python3.11/site-packages/sklearn/tree/_classes.py:269: FutureWarning: `max_features='auto'` has been deprecated in 1.1 and will be removed in 1.3. To keep the past behaviour, explicitly set `max_features='sqrt'`.\n  warnings.warn(\n",
          "output_type": "stream"
        },
        {
          "name": "stdout",
          "text": "[CV 2/2; 186/648] END criterion=gini, max_depth=12, max_features=auto, min_samples_leaf=1, min_samples_split=10, splitter=random;, score=0.833 total time=   0.0s\n[CV 1/2; 187/648] START criterion=gini, max_depth=12, max_features=auto, min_samples_leaf=2, min_samples_split=2, splitter=best\n",
          "output_type": "stream"
        },
        {
          "name": "stderr",
          "text": "/lib/python3.11/site-packages/sklearn/tree/_classes.py:269: FutureWarning: `max_features='auto'` has been deprecated in 1.1 and will be removed in 1.3. To keep the past behaviour, explicitly set `max_features='sqrt'`.\n  warnings.warn(\n",
          "output_type": "stream"
        },
        {
          "name": "stdout",
          "text": "[CV 1/2; 187/648] END criterion=gini, max_depth=12, max_features=auto, min_samples_leaf=2, min_samples_split=2, splitter=best;, score=0.806 total time=   0.0s\n[CV 2/2; 187/648] START criterion=gini, max_depth=12, max_features=auto, min_samples_leaf=2, min_samples_split=2, splitter=best\n",
          "output_type": "stream"
        },
        {
          "name": "stderr",
          "text": "/lib/python3.11/site-packages/sklearn/tree/_classes.py:269: FutureWarning: `max_features='auto'` has been deprecated in 1.1 and will be removed in 1.3. To keep the past behaviour, explicitly set `max_features='sqrt'`.\n  warnings.warn(\n",
          "output_type": "stream"
        },
        {
          "name": "stdout",
          "text": "[CV 2/2; 187/648] END criterion=gini, max_depth=12, max_features=auto, min_samples_leaf=2, min_samples_split=2, splitter=best;, score=0.722 total time=   0.0s\n[CV 1/2; 188/648] START criterion=gini, max_depth=12, max_features=auto, min_samples_leaf=2, min_samples_split=2, splitter=random\n",
          "output_type": "stream"
        },
        {
          "name": "stderr",
          "text": "/lib/python3.11/site-packages/sklearn/tree/_classes.py:269: FutureWarning: `max_features='auto'` has been deprecated in 1.1 and will be removed in 1.3. To keep the past behaviour, explicitly set `max_features='sqrt'`.\n  warnings.warn(\n",
          "output_type": "stream"
        },
        {
          "name": "stdout",
          "text": "[CV 1/2; 188/648] END criterion=gini, max_depth=12, max_features=auto, min_samples_leaf=2, min_samples_split=2, splitter=random;, score=0.778 total time=   0.0s\n[CV 2/2; 188/648] START criterion=gini, max_depth=12, max_features=auto, min_samples_leaf=2, min_samples_split=2, splitter=random\n",
          "output_type": "stream"
        },
        {
          "name": "stderr",
          "text": "/lib/python3.11/site-packages/sklearn/tree/_classes.py:269: FutureWarning: `max_features='auto'` has been deprecated in 1.1 and will be removed in 1.3. To keep the past behaviour, explicitly set `max_features='sqrt'`.\n  warnings.warn(\n",
          "output_type": "stream"
        },
        {
          "name": "stdout",
          "text": "[CV 2/2; 188/648] END criterion=gini, max_depth=12, max_features=auto, min_samples_leaf=2, min_samples_split=2, splitter=random;, score=0.694 total time=   0.0s\n[CV 1/2; 189/648] START criterion=gini, max_depth=12, max_features=auto, min_samples_leaf=2, min_samples_split=5, splitter=best\n",
          "output_type": "stream"
        },
        {
          "name": "stderr",
          "text": "/lib/python3.11/site-packages/sklearn/tree/_classes.py:269: FutureWarning: `max_features='auto'` has been deprecated in 1.1 and will be removed in 1.3. To keep the past behaviour, explicitly set `max_features='sqrt'`.\n  warnings.warn(\n",
          "output_type": "stream"
        },
        {
          "name": "stdout",
          "text": "[CV 1/2; 189/648] END criterion=gini, max_depth=12, max_features=auto, min_samples_leaf=2, min_samples_split=5, splitter=best;, score=0.833 total time=   0.0s\n[CV 2/2; 189/648] START criterion=gini, max_depth=12, max_features=auto, min_samples_leaf=2, min_samples_split=5, splitter=best\n",
          "output_type": "stream"
        },
        {
          "name": "stderr",
          "text": "/lib/python3.11/site-packages/sklearn/tree/_classes.py:269: FutureWarning: `max_features='auto'` has been deprecated in 1.1 and will be removed in 1.3. To keep the past behaviour, explicitly set `max_features='sqrt'`.\n  warnings.warn(\n",
          "output_type": "stream"
        },
        {
          "name": "stdout",
          "text": "[CV 2/2; 189/648] END criterion=gini, max_depth=12, max_features=auto, min_samples_leaf=2, min_samples_split=5, splitter=best;, score=0.583 total time=   0.0s\n[CV 1/2; 190/648] START criterion=gini, max_depth=12, max_features=auto, min_samples_leaf=2, min_samples_split=5, splitter=random\n",
          "output_type": "stream"
        },
        {
          "name": "stderr",
          "text": "/lib/python3.11/site-packages/sklearn/tree/_classes.py:269: FutureWarning: `max_features='auto'` has been deprecated in 1.1 and will be removed in 1.3. To keep the past behaviour, explicitly set `max_features='sqrt'`.\n  warnings.warn(\n",
          "output_type": "stream"
        },
        {
          "name": "stdout",
          "text": "[CV 1/2; 190/648] END criterion=gini, max_depth=12, max_features=auto, min_samples_leaf=2, min_samples_split=5, splitter=random;, score=0.750 total time=   0.0s\n[CV 2/2; 190/648] START criterion=gini, max_depth=12, max_features=auto, min_samples_leaf=2, min_samples_split=5, splitter=random\n",
          "output_type": "stream"
        },
        {
          "name": "stderr",
          "text": "/lib/python3.11/site-packages/sklearn/tree/_classes.py:269: FutureWarning: `max_features='auto'` has been deprecated in 1.1 and will be removed in 1.3. To keep the past behaviour, explicitly set `max_features='sqrt'`.\n  warnings.warn(\n",
          "output_type": "stream"
        },
        {
          "name": "stdout",
          "text": "[CV 2/2; 190/648] END criterion=gini, max_depth=12, max_features=auto, min_samples_leaf=2, min_samples_split=5, splitter=random;, score=0.778 total time=   0.0s\n[CV 1/2; 191/648] START criterion=gini, max_depth=12, max_features=auto, min_samples_leaf=2, min_samples_split=10, splitter=best\n",
          "output_type": "stream"
        },
        {
          "name": "stderr",
          "text": "/lib/python3.11/site-packages/sklearn/tree/_classes.py:269: FutureWarning: `max_features='auto'` has been deprecated in 1.1 and will be removed in 1.3. To keep the past behaviour, explicitly set `max_features='sqrt'`.\n  warnings.warn(\n",
          "output_type": "stream"
        },
        {
          "name": "stdout",
          "text": "[CV 1/2; 191/648] END criterion=gini, max_depth=12, max_features=auto, min_samples_leaf=2, min_samples_split=10, splitter=best;, score=0.861 total time=   0.0s\n[CV 2/2; 191/648] START criterion=gini, max_depth=12, max_features=auto, min_samples_leaf=2, min_samples_split=10, splitter=best\n",
          "output_type": "stream"
        },
        {
          "name": "stderr",
          "text": "/lib/python3.11/site-packages/sklearn/tree/_classes.py:269: FutureWarning: `max_features='auto'` has been deprecated in 1.1 and will be removed in 1.3. To keep the past behaviour, explicitly set `max_features='sqrt'`.\n  warnings.warn(\n",
          "output_type": "stream"
        },
        {
          "name": "stdout",
          "text": "[CV 2/2; 191/648] END criterion=gini, max_depth=12, max_features=auto, min_samples_leaf=2, min_samples_split=10, splitter=best;, score=0.500 total time=   0.0s\n[CV 1/2; 192/648] START criterion=gini, max_depth=12, max_features=auto, min_samples_leaf=2, min_samples_split=10, splitter=random\n",
          "output_type": "stream"
        },
        {
          "name": "stderr",
          "text": "/lib/python3.11/site-packages/sklearn/tree/_classes.py:269: FutureWarning: `max_features='auto'` has been deprecated in 1.1 and will be removed in 1.3. To keep the past behaviour, explicitly set `max_features='sqrt'`.\n  warnings.warn(\n",
          "output_type": "stream"
        },
        {
          "name": "stdout",
          "text": "[CV 1/2; 192/648] END criterion=gini, max_depth=12, max_features=auto, min_samples_leaf=2, min_samples_split=10, splitter=random;, score=0.667 total time=   0.0s\n[CV 2/2; 192/648] START criterion=gini, max_depth=12, max_features=auto, min_samples_leaf=2, min_samples_split=10, splitter=random\n",
          "output_type": "stream"
        },
        {
          "name": "stderr",
          "text": "/lib/python3.11/site-packages/sklearn/tree/_classes.py:269: FutureWarning: `max_features='auto'` has been deprecated in 1.1 and will be removed in 1.3. To keep the past behaviour, explicitly set `max_features='sqrt'`.\n  warnings.warn(\n",
          "output_type": "stream"
        },
        {
          "name": "stdout",
          "text": "[CV 2/2; 192/648] END criterion=gini, max_depth=12, max_features=auto, min_samples_leaf=2, min_samples_split=10, splitter=random;, score=0.861 total time=   0.0s\n[CV 1/2; 193/648] START criterion=gini, max_depth=12, max_features=auto, min_samples_leaf=4, min_samples_split=2, splitter=best\n",
          "output_type": "stream"
        },
        {
          "name": "stderr",
          "text": "/lib/python3.11/site-packages/sklearn/tree/_classes.py:269: FutureWarning: `max_features='auto'` has been deprecated in 1.1 and will be removed in 1.3. To keep the past behaviour, explicitly set `max_features='sqrt'`.\n  warnings.warn(\n",
          "output_type": "stream"
        },
        {
          "name": "stdout",
          "text": "[CV 1/2; 193/648] END criterion=gini, max_depth=12, max_features=auto, min_samples_leaf=4, min_samples_split=2, splitter=best;, score=0.833 total time=   0.0s\n[CV 2/2; 193/648] START criterion=gini, max_depth=12, max_features=auto, min_samples_leaf=4, min_samples_split=2, splitter=best\n",
          "output_type": "stream"
        },
        {
          "name": "stderr",
          "text": "/lib/python3.11/site-packages/sklearn/tree/_classes.py:269: FutureWarning: `max_features='auto'` has been deprecated in 1.1 and will be removed in 1.3. To keep the past behaviour, explicitly set `max_features='sqrt'`.\n  warnings.warn(\n",
          "output_type": "stream"
        },
        {
          "name": "stdout",
          "text": "[CV 2/2; 193/648] END criterion=gini, max_depth=12, max_features=auto, min_samples_leaf=4, min_samples_split=2, splitter=best;, score=0.778 total time=   0.0s\n[CV 1/2; 194/648] START criterion=gini, max_depth=12, max_features=auto, min_samples_leaf=4, min_samples_split=2, splitter=random\n",
          "output_type": "stream"
        },
        {
          "name": "stderr",
          "text": "/lib/python3.11/site-packages/sklearn/tree/_classes.py:269: FutureWarning: `max_features='auto'` has been deprecated in 1.1 and will be removed in 1.3. To keep the past behaviour, explicitly set `max_features='sqrt'`.\n  warnings.warn(\n",
          "output_type": "stream"
        },
        {
          "name": "stdout",
          "text": "[CV 1/2; 194/648] END criterion=gini, max_depth=12, max_features=auto, min_samples_leaf=4, min_samples_split=2, splitter=random;, score=0.861 total time=   0.0s\n[CV 2/2; 194/648] START criterion=gini, max_depth=12, max_features=auto, min_samples_leaf=4, min_samples_split=2, splitter=random\n",
          "output_type": "stream"
        },
        {
          "name": "stderr",
          "text": "/lib/python3.11/site-packages/sklearn/tree/_classes.py:269: FutureWarning: `max_features='auto'` has been deprecated in 1.1 and will be removed in 1.3. To keep the past behaviour, explicitly set `max_features='sqrt'`.\n  warnings.warn(\n",
          "output_type": "stream"
        },
        {
          "name": "stdout",
          "text": "[CV 2/2; 194/648] END criterion=gini, max_depth=12, max_features=auto, min_samples_leaf=4, min_samples_split=2, splitter=random;, score=0.639 total time=   0.0s\n[CV 1/2; 195/648] START criterion=gini, max_depth=12, max_features=auto, min_samples_leaf=4, min_samples_split=5, splitter=best\n",
          "output_type": "stream"
        },
        {
          "name": "stderr",
          "text": "/lib/python3.11/site-packages/sklearn/tree/_classes.py:269: FutureWarning: `max_features='auto'` has been deprecated in 1.1 and will be removed in 1.3. To keep the past behaviour, explicitly set `max_features='sqrt'`.\n  warnings.warn(\n",
          "output_type": "stream"
        },
        {
          "name": "stdout",
          "text": "[CV 1/2; 195/648] END criterion=gini, max_depth=12, max_features=auto, min_samples_leaf=4, min_samples_split=5, splitter=best;, score=0.833 total time=   0.0s\n[CV 2/2; 195/648] START criterion=gini, max_depth=12, max_features=auto, min_samples_leaf=4, min_samples_split=5, splitter=best\n",
          "output_type": "stream"
        },
        {
          "name": "stderr",
          "text": "/lib/python3.11/site-packages/sklearn/tree/_classes.py:269: FutureWarning: `max_features='auto'` has been deprecated in 1.1 and will be removed in 1.3. To keep the past behaviour, explicitly set `max_features='sqrt'`.\n  warnings.warn(\n",
          "output_type": "stream"
        },
        {
          "name": "stdout",
          "text": "[CV 2/2; 195/648] END criterion=gini, max_depth=12, max_features=auto, min_samples_leaf=4, min_samples_split=5, splitter=best;, score=0.667 total time=   0.0s\n[CV 1/2; 196/648] START criterion=gini, max_depth=12, max_features=auto, min_samples_leaf=4, min_samples_split=5, splitter=random\n",
          "output_type": "stream"
        },
        {
          "name": "stderr",
          "text": "/lib/python3.11/site-packages/sklearn/tree/_classes.py:269: FutureWarning: `max_features='auto'` has been deprecated in 1.1 and will be removed in 1.3. To keep the past behaviour, explicitly set `max_features='sqrt'`.\n  warnings.warn(\n",
          "output_type": "stream"
        },
        {
          "name": "stdout",
          "text": "[CV 1/2; 196/648] END criterion=gini, max_depth=12, max_features=auto, min_samples_leaf=4, min_samples_split=5, splitter=random;, score=0.611 total time=   0.0s\n[CV 2/2; 196/648] START criterion=gini, max_depth=12, max_features=auto, min_samples_leaf=4, min_samples_split=5, splitter=random\n",
          "output_type": "stream"
        },
        {
          "name": "stderr",
          "text": "/lib/python3.11/site-packages/sklearn/tree/_classes.py:269: FutureWarning: `max_features='auto'` has been deprecated in 1.1 and will be removed in 1.3. To keep the past behaviour, explicitly set `max_features='sqrt'`.\n  warnings.warn(\n",
          "output_type": "stream"
        },
        {
          "name": "stdout",
          "text": "[CV 2/2; 196/648] END criterion=gini, max_depth=12, max_features=auto, min_samples_leaf=4, min_samples_split=5, splitter=random;, score=0.611 total time=   0.0s\n[CV 1/2; 197/648] START criterion=gini, max_depth=12, max_features=auto, min_samples_leaf=4, min_samples_split=10, splitter=best\n",
          "output_type": "stream"
        },
        {
          "name": "stderr",
          "text": "/lib/python3.11/site-packages/sklearn/tree/_classes.py:269: FutureWarning: `max_features='auto'` has been deprecated in 1.1 and will be removed in 1.3. To keep the past behaviour, explicitly set `max_features='sqrt'`.\n  warnings.warn(\n",
          "output_type": "stream"
        },
        {
          "name": "stdout",
          "text": "[CV 1/2; 197/648] END criterion=gini, max_depth=12, max_features=auto, min_samples_leaf=4, min_samples_split=10, splitter=best;, score=0.667 total time=   0.0s\n[CV 2/2; 197/648] START criterion=gini, max_depth=12, max_features=auto, min_samples_leaf=4, min_samples_split=10, splitter=best\n",
          "output_type": "stream"
        },
        {
          "name": "stderr",
          "text": "/lib/python3.11/site-packages/sklearn/tree/_classes.py:269: FutureWarning: `max_features='auto'` has been deprecated in 1.1 and will be removed in 1.3. To keep the past behaviour, explicitly set `max_features='sqrt'`.\n  warnings.warn(\n",
          "output_type": "stream"
        },
        {
          "name": "stdout",
          "text": "[CV 2/2; 197/648] END criterion=gini, max_depth=12, max_features=auto, min_samples_leaf=4, min_samples_split=10, splitter=best;, score=0.556 total time=   0.0s\n[CV 1/2; 198/648] START criterion=gini, max_depth=12, max_features=auto, min_samples_leaf=4, min_samples_split=10, splitter=random\n",
          "output_type": "stream"
        },
        {
          "name": "stderr",
          "text": "/lib/python3.11/site-packages/sklearn/tree/_classes.py:269: FutureWarning: `max_features='auto'` has been deprecated in 1.1 and will be removed in 1.3. To keep the past behaviour, explicitly set `max_features='sqrt'`.\n  warnings.warn(\n",
          "output_type": "stream"
        },
        {
          "name": "stdout",
          "text": "[CV 1/2; 198/648] END criterion=gini, max_depth=12, max_features=auto, min_samples_leaf=4, min_samples_split=10, splitter=random;, score=0.833 total time=   0.0s\n[CV 2/2; 198/648] START criterion=gini, max_depth=12, max_features=auto, min_samples_leaf=4, min_samples_split=10, splitter=random\n",
          "output_type": "stream"
        },
        {
          "name": "stderr",
          "text": "/lib/python3.11/site-packages/sklearn/tree/_classes.py:269: FutureWarning: `max_features='auto'` has been deprecated in 1.1 and will be removed in 1.3. To keep the past behaviour, explicitly set `max_features='sqrt'`.\n  warnings.warn(\n",
          "output_type": "stream"
        },
        {
          "name": "stdout",
          "text": "[CV 2/2; 198/648] END criterion=gini, max_depth=12, max_features=auto, min_samples_leaf=4, min_samples_split=10, splitter=random;, score=0.861 total time=   0.0s\n[CV 1/2; 199/648] START criterion=gini, max_depth=12, max_features=sqrt, min_samples_leaf=1, min_samples_split=2, splitter=best\n[CV 1/2; 199/648] END criterion=gini, max_depth=12, max_features=sqrt, min_samples_leaf=1, min_samples_split=2, splitter=best;, score=0.722 total time=   0.0s\n[CV 2/2; 199/648] START criterion=gini, max_depth=12, max_features=sqrt, min_samples_leaf=1, min_samples_split=2, splitter=best\n[CV 2/2; 199/648] END criterion=gini, max_depth=12, max_features=sqrt, min_samples_leaf=1, min_samples_split=2, splitter=best;, score=0.722 total time=   0.0s\n[CV 1/2; 200/648] START criterion=gini, max_depth=12, max_features=sqrt, min_samples_leaf=1, min_samples_split=2, splitter=random\n[CV 1/2; 200/648] END criterion=gini, max_depth=12, max_features=sqrt, min_samples_leaf=1, min_samples_split=2, splitter=random;, score=0.694 total time=   0.0s\n[CV 2/2; 200/648] START criterion=gini, max_depth=12, max_features=sqrt, min_samples_leaf=1, min_samples_split=2, splitter=random\n[CV 2/2; 200/648] END criterion=gini, max_depth=12, max_features=sqrt, min_samples_leaf=1, min_samples_split=2, splitter=random;, score=0.833 total time=   0.0s\n[CV 1/2; 201/648] START criterion=gini, max_depth=12, max_features=sqrt, min_samples_leaf=1, min_samples_split=5, splitter=best\n[CV 1/2; 201/648] END criterion=gini, max_depth=12, max_features=sqrt, min_samples_leaf=1, min_samples_split=5, splitter=best;, score=0.778 total time=   0.0s\n[CV 2/2; 201/648] START criterion=gini, max_depth=12, max_features=sqrt, min_samples_leaf=1, min_samples_split=5, splitter=best\n[CV 2/2; 201/648] END criterion=gini, max_depth=12, max_features=sqrt, min_samples_leaf=1, min_samples_split=5, splitter=best;, score=0.611 total time=   0.0s\n[CV 1/2; 202/648] START criterion=gini, max_depth=12, max_features=sqrt, min_samples_leaf=1, min_samples_split=5, splitter=random\n[CV 1/2; 202/648] END criterion=gini, max_depth=12, max_features=sqrt, min_samples_leaf=1, min_samples_split=5, splitter=random;, score=0.667 total time=   0.0s\n[CV 2/2; 202/648] START criterion=gini, max_depth=12, max_features=sqrt, min_samples_leaf=1, min_samples_split=5, splitter=random\n[CV 2/2; 202/648] END criterion=gini, max_depth=12, max_features=sqrt, min_samples_leaf=1, min_samples_split=5, splitter=random;, score=0.694 total time=   0.0s\n[CV 1/2; 203/648] START criterion=gini, max_depth=12, max_features=sqrt, min_samples_leaf=1, min_samples_split=10, splitter=best\n[CV 1/2; 203/648] END criterion=gini, max_depth=12, max_features=sqrt, min_samples_leaf=1, min_samples_split=10, splitter=best;, score=0.694 total time=   0.0s\n[CV 2/2; 203/648] START criterion=gini, max_depth=12, max_features=sqrt, min_samples_leaf=1, min_samples_split=10, splitter=best\n[CV 2/2; 203/648] END criterion=gini, max_depth=12, max_features=sqrt, min_samples_leaf=1, min_samples_split=10, splitter=best;, score=0.639 total time=   0.0s\n[CV 1/2; 204/648] START criterion=gini, max_depth=12, max_features=sqrt, min_samples_leaf=1, min_samples_split=10, splitter=random\n[CV 1/2; 204/648] END criterion=gini, max_depth=12, max_features=sqrt, min_samples_leaf=1, min_samples_split=10, splitter=random;, score=0.861 total time=   0.0s\n[CV 2/2; 204/648] START criterion=gini, max_depth=12, max_features=sqrt, min_samples_leaf=1, min_samples_split=10, splitter=random\n[CV 2/2; 204/648] END criterion=gini, max_depth=12, max_features=sqrt, min_samples_leaf=1, min_samples_split=10, splitter=random;, score=0.750 total time=   0.0s\n[CV 1/2; 205/648] START criterion=gini, max_depth=12, max_features=sqrt, min_samples_leaf=2, min_samples_split=2, splitter=best\n[CV 1/2; 205/648] END criterion=gini, max_depth=12, max_features=sqrt, min_samples_leaf=2, min_samples_split=2, splitter=best;, score=0.750 total time=   0.0s\n[CV 2/2; 205/648] START criterion=gini, max_depth=12, max_features=sqrt, min_samples_leaf=2, min_samples_split=2, splitter=best\n[CV 2/2; 205/648] END criterion=gini, max_depth=12, max_features=sqrt, min_samples_leaf=2, min_samples_split=2, splitter=best;, score=0.556 total time=   0.0s\n[CV 1/2; 206/648] START criterion=gini, max_depth=12, max_features=sqrt, min_samples_leaf=2, min_samples_split=2, splitter=random\n[CV 1/2; 206/648] END criterion=gini, max_depth=12, max_features=sqrt, min_samples_leaf=2, min_samples_split=2, splitter=random;, score=0.833 total time=   0.0s\n[CV 2/2; 206/648] START criterion=gini, max_depth=12, max_features=sqrt, min_samples_leaf=2, min_samples_split=2, splitter=random\n[CV 2/2; 206/648] END criterion=gini, max_depth=12, max_features=sqrt, min_samples_leaf=2, min_samples_split=2, splitter=random;, score=0.778 total time=   0.0s\n[CV 1/2; 207/648] START criterion=gini, max_depth=12, max_features=sqrt, min_samples_leaf=2, min_samples_split=5, splitter=best\n[CV 1/2; 207/648] END criterion=gini, max_depth=12, max_features=sqrt, min_samples_leaf=2, min_samples_split=5, splitter=best;, score=0.833 total time=   0.0s\n[CV 2/2; 207/648] START criterion=gini, max_depth=12, max_features=sqrt, min_samples_leaf=2, min_samples_split=5, splitter=best\n[CV 2/2; 207/648] END criterion=gini, max_depth=12, max_features=sqrt, min_samples_leaf=2, min_samples_split=5, splitter=best;, score=0.667 total time=   0.0s\n[CV 1/2; 208/648] START criterion=gini, max_depth=12, max_features=sqrt, min_samples_leaf=2, min_samples_split=5, splitter=random\n[CV 1/2; 208/648] END criterion=gini, max_depth=12, max_features=sqrt, min_samples_leaf=2, min_samples_split=5, splitter=random;, score=0.861 total time=   0.0s\n[CV 2/2; 208/648] START criterion=gini, max_depth=12, max_features=sqrt, min_samples_leaf=2, min_samples_split=5, splitter=random\n[CV 2/2; 208/648] END criterion=gini, max_depth=12, max_features=sqrt, min_samples_leaf=2, min_samples_split=5, splitter=random;, score=0.556 total time=   0.0s\n[CV 1/2; 209/648] START criterion=gini, max_depth=12, max_features=sqrt, min_samples_leaf=2, min_samples_split=10, splitter=best\n[CV 1/2; 209/648] END criterion=gini, max_depth=12, max_features=sqrt, min_samples_leaf=2, min_samples_split=10, splitter=best;, score=0.889 total time=   0.0s\n[CV 2/2; 209/648] START criterion=gini, max_depth=12, max_features=sqrt, min_samples_leaf=2, min_samples_split=10, splitter=best\n[CV 2/2; 209/648] END criterion=gini, max_depth=12, max_features=sqrt, min_samples_leaf=2, min_samples_split=10, splitter=best;, score=0.556 total time=   0.0s\n[CV 1/2; 210/648] START criterion=gini, max_depth=12, max_features=sqrt, min_samples_leaf=2, min_samples_split=10, splitter=random\n[CV 1/2; 210/648] END criterion=gini, max_depth=12, max_features=sqrt, min_samples_leaf=2, min_samples_split=10, splitter=random;, score=0.833 total time=   0.0s\n[CV 2/2; 210/648] START criterion=gini, max_depth=12, max_features=sqrt, min_samples_leaf=2, min_samples_split=10, splitter=random\n[CV 2/2; 210/648] END criterion=gini, max_depth=12, max_features=sqrt, min_samples_leaf=2, min_samples_split=10, splitter=random;, score=0.694 total time=   0.0s\n[CV 1/2; 211/648] START criterion=gini, max_depth=12, max_features=sqrt, min_samples_leaf=4, min_samples_split=2, splitter=best\n[CV 1/2; 211/648] END criterion=gini, max_depth=12, max_features=sqrt, min_samples_leaf=4, min_samples_split=2, splitter=best;, score=0.833 total time=   0.0s\n[CV 2/2; 211/648] START criterion=gini, max_depth=12, max_features=sqrt, min_samples_leaf=4, min_samples_split=2, splitter=best\n[CV 2/2; 211/648] END criterion=gini, max_depth=12, max_features=sqrt, min_samples_leaf=4, min_samples_split=2, splitter=best;, score=0.750 total time=   0.0s\n[CV 1/2; 212/648] START criterion=gini, max_depth=12, max_features=sqrt, min_samples_leaf=4, min_samples_split=2, splitter=random\n[CV 1/2; 212/648] END criterion=gini, max_depth=12, max_features=sqrt, min_samples_leaf=4, min_samples_split=2, splitter=random;, score=0.833 total time=   0.0s\n[CV 2/2; 212/648] START criterion=gini, max_depth=12, max_features=sqrt, min_samples_leaf=4, min_samples_split=2, splitter=random\n[CV 2/2; 212/648] END criterion=gini, max_depth=12, max_features=sqrt, min_samples_leaf=4, min_samples_split=2, splitter=random;, score=0.694 total time=   0.0s\n[CV 1/2; 213/648] START criterion=gini, max_depth=12, max_features=sqrt, min_samples_leaf=4, min_samples_split=5, splitter=best\n[CV 1/2; 213/648] END criterion=gini, max_depth=12, max_features=sqrt, min_samples_leaf=4, min_samples_split=5, splitter=best;, score=0.667 total time=   0.0s\n[CV 2/2; 213/648] START criterion=gini, max_depth=12, max_features=sqrt, min_samples_leaf=4, min_samples_split=5, splitter=best\n[CV 2/2; 213/648] END criterion=gini, max_depth=12, max_features=sqrt, min_samples_leaf=4, min_samples_split=5, splitter=best;, score=0.778 total time=   0.0s\n[CV 1/2; 214/648] START criterion=gini, max_depth=12, max_features=sqrt, min_samples_leaf=4, min_samples_split=5, splitter=random\n[CV 1/2; 214/648] END criterion=gini, max_depth=12, max_features=sqrt, min_samples_leaf=4, min_samples_split=5, splitter=random;, score=0.667 total time=   0.0s\n[CV 2/2; 214/648] START criterion=gini, max_depth=12, max_features=sqrt, min_samples_leaf=4, min_samples_split=5, splitter=random\n[CV 2/2; 214/648] END criterion=gini, max_depth=12, max_features=sqrt, min_samples_leaf=4, min_samples_split=5, splitter=random;, score=0.806 total time=   0.0s\n[CV 1/2; 215/648] START criterion=gini, max_depth=12, max_features=sqrt, min_samples_leaf=4, min_samples_split=10, splitter=best\n[CV 1/2; 215/648] END criterion=gini, max_depth=12, max_features=sqrt, min_samples_leaf=4, min_samples_split=10, splitter=best;, score=0.833 total time=   0.0s\n[CV 2/2; 215/648] START criterion=gini, max_depth=12, max_features=sqrt, min_samples_leaf=4, min_samples_split=10, splitter=best\n[CV 2/2; 215/648] END criterion=gini, max_depth=12, max_features=sqrt, min_samples_leaf=4, min_samples_split=10, splitter=best;, score=0.444 total time=   0.0s\n[CV 1/2; 216/648] START criterion=gini, max_depth=12, max_features=sqrt, min_samples_leaf=4, min_samples_split=10, splitter=random\n[CV 1/2; 216/648] END criterion=gini, max_depth=12, max_features=sqrt, min_samples_leaf=4, min_samples_split=10, splitter=random;, score=0.750 total time=   0.0s\n[CV 2/2; 216/648] START criterion=gini, max_depth=12, max_features=sqrt, min_samples_leaf=4, min_samples_split=10, splitter=random\n[CV 2/2; 216/648] END criterion=gini, max_depth=12, max_features=sqrt, min_samples_leaf=4, min_samples_split=10, splitter=random;, score=0.694 total time=   0.0s\n[CV 1/2; 217/648] START criterion=gini, max_depth=14, max_features=auto, min_samples_leaf=1, min_samples_split=2, splitter=best\n",
          "output_type": "stream"
        },
        {
          "name": "stderr",
          "text": "/lib/python3.11/site-packages/sklearn/tree/_classes.py:269: FutureWarning: `max_features='auto'` has been deprecated in 1.1 and will be removed in 1.3. To keep the past behaviour, explicitly set `max_features='sqrt'`.\n  warnings.warn(\n",
          "output_type": "stream"
        },
        {
          "name": "stdout",
          "text": "[CV 1/2; 217/648] END criterion=gini, max_depth=14, max_features=auto, min_samples_leaf=1, min_samples_split=2, splitter=best;, score=0.722 total time=   0.0s\n[CV 2/2; 217/648] START criterion=gini, max_depth=14, max_features=auto, min_samples_leaf=1, min_samples_split=2, splitter=best\n",
          "output_type": "stream"
        },
        {
          "name": "stderr",
          "text": "/lib/python3.11/site-packages/sklearn/tree/_classes.py:269: FutureWarning: `max_features='auto'` has been deprecated in 1.1 and will be removed in 1.3. To keep the past behaviour, explicitly set `max_features='sqrt'`.\n  warnings.warn(\n",
          "output_type": "stream"
        },
        {
          "name": "stdout",
          "text": "[CV 2/2; 217/648] END criterion=gini, max_depth=14, max_features=auto, min_samples_leaf=1, min_samples_split=2, splitter=best;, score=0.806 total time=   0.0s\n[CV 1/2; 218/648] START criterion=gini, max_depth=14, max_features=auto, min_samples_leaf=1, min_samples_split=2, splitter=random\n",
          "output_type": "stream"
        },
        {
          "name": "stderr",
          "text": "/lib/python3.11/site-packages/sklearn/tree/_classes.py:269: FutureWarning: `max_features='auto'` has been deprecated in 1.1 and will be removed in 1.3. To keep the past behaviour, explicitly set `max_features='sqrt'`.\n  warnings.warn(\n",
          "output_type": "stream"
        },
        {
          "name": "stdout",
          "text": "[CV 1/2; 218/648] END criterion=gini, max_depth=14, max_features=auto, min_samples_leaf=1, min_samples_split=2, splitter=random;, score=0.778 total time=   0.0s\n[CV 2/2; 218/648] START criterion=gini, max_depth=14, max_features=auto, min_samples_leaf=1, min_samples_split=2, splitter=random\n",
          "output_type": "stream"
        },
        {
          "name": "stderr",
          "text": "/lib/python3.11/site-packages/sklearn/tree/_classes.py:269: FutureWarning: `max_features='auto'` has been deprecated in 1.1 and will be removed in 1.3. To keep the past behaviour, explicitly set `max_features='sqrt'`.\n  warnings.warn(\n",
          "output_type": "stream"
        },
        {
          "name": "stdout",
          "text": "[CV 2/2; 218/648] END criterion=gini, max_depth=14, max_features=auto, min_samples_leaf=1, min_samples_split=2, splitter=random;, score=0.806 total time=   0.0s\n[CV 1/2; 219/648] START criterion=gini, max_depth=14, max_features=auto, min_samples_leaf=1, min_samples_split=5, splitter=best\n",
          "output_type": "stream"
        },
        {
          "name": "stderr",
          "text": "/lib/python3.11/site-packages/sklearn/tree/_classes.py:269: FutureWarning: `max_features='auto'` has been deprecated in 1.1 and will be removed in 1.3. To keep the past behaviour, explicitly set `max_features='sqrt'`.\n  warnings.warn(\n",
          "output_type": "stream"
        },
        {
          "name": "stdout",
          "text": "[CV 1/2; 219/648] END criterion=gini, max_depth=14, max_features=auto, min_samples_leaf=1, min_samples_split=5, splitter=best;, score=0.611 total time=   0.0s\n[CV 2/2; 219/648] START criterion=gini, max_depth=14, max_features=auto, min_samples_leaf=1, min_samples_split=5, splitter=best\n",
          "output_type": "stream"
        },
        {
          "name": "stderr",
          "text": "/lib/python3.11/site-packages/sklearn/tree/_classes.py:269: FutureWarning: `max_features='auto'` has been deprecated in 1.1 and will be removed in 1.3. To keep the past behaviour, explicitly set `max_features='sqrt'`.\n  warnings.warn(\n",
          "output_type": "stream"
        },
        {
          "name": "stdout",
          "text": "[CV 2/2; 219/648] END criterion=gini, max_depth=14, max_features=auto, min_samples_leaf=1, min_samples_split=5, splitter=best;, score=0.556 total time=   0.0s\n[CV 1/2; 220/648] START criterion=gini, max_depth=14, max_features=auto, min_samples_leaf=1, min_samples_split=5, splitter=random\n",
          "output_type": "stream"
        },
        {
          "name": "stderr",
          "text": "/lib/python3.11/site-packages/sklearn/tree/_classes.py:269: FutureWarning: `max_features='auto'` has been deprecated in 1.1 and will be removed in 1.3. To keep the past behaviour, explicitly set `max_features='sqrt'`.\n  warnings.warn(\n",
          "output_type": "stream"
        },
        {
          "name": "stdout",
          "text": "[CV 1/2; 220/648] END criterion=gini, max_depth=14, max_features=auto, min_samples_leaf=1, min_samples_split=5, splitter=random;, score=0.833 total time=   0.0s\n[CV 2/2; 220/648] START criterion=gini, max_depth=14, max_features=auto, min_samples_leaf=1, min_samples_split=5, splitter=random\n",
          "output_type": "stream"
        },
        {
          "name": "stderr",
          "text": "/lib/python3.11/site-packages/sklearn/tree/_classes.py:269: FutureWarning: `max_features='auto'` has been deprecated in 1.1 and will be removed in 1.3. To keep the past behaviour, explicitly set `max_features='sqrt'`.\n  warnings.warn(\n",
          "output_type": "stream"
        },
        {
          "name": "stdout",
          "text": "[CV 2/2; 220/648] END criterion=gini, max_depth=14, max_features=auto, min_samples_leaf=1, min_samples_split=5, splitter=random;, score=0.806 total time=   0.0s\n[CV 1/2; 221/648] START criterion=gini, max_depth=14, max_features=auto, min_samples_leaf=1, min_samples_split=10, splitter=best\n",
          "output_type": "stream"
        },
        {
          "name": "stderr",
          "text": "/lib/python3.11/site-packages/sklearn/tree/_classes.py:269: FutureWarning: `max_features='auto'` has been deprecated in 1.1 and will be removed in 1.3. To keep the past behaviour, explicitly set `max_features='sqrt'`.\n  warnings.warn(\n",
          "output_type": "stream"
        },
        {
          "name": "stdout",
          "text": "[CV 1/2; 221/648] END criterion=gini, max_depth=14, max_features=auto, min_samples_leaf=1, min_samples_split=10, splitter=best;, score=0.778 total time=   0.0s\n[CV 2/2; 221/648] START criterion=gini, max_depth=14, max_features=auto, min_samples_leaf=1, min_samples_split=10, splitter=best\n",
          "output_type": "stream"
        },
        {
          "name": "stderr",
          "text": "/lib/python3.11/site-packages/sklearn/tree/_classes.py:269: FutureWarning: `max_features='auto'` has been deprecated in 1.1 and will be removed in 1.3. To keep the past behaviour, explicitly set `max_features='sqrt'`.\n  warnings.warn(\n",
          "output_type": "stream"
        },
        {
          "name": "stdout",
          "text": "[CV 2/2; 221/648] END criterion=gini, max_depth=14, max_features=auto, min_samples_leaf=1, min_samples_split=10, splitter=best;, score=0.583 total time=   0.0s\n[CV 1/2; 222/648] START criterion=gini, max_depth=14, max_features=auto, min_samples_leaf=1, min_samples_split=10, splitter=random\n",
          "output_type": "stream"
        },
        {
          "name": "stderr",
          "text": "/lib/python3.11/site-packages/sklearn/tree/_classes.py:269: FutureWarning: `max_features='auto'` has been deprecated in 1.1 and will be removed in 1.3. To keep the past behaviour, explicitly set `max_features='sqrt'`.\n  warnings.warn(\n",
          "output_type": "stream"
        },
        {
          "name": "stdout",
          "text": "[CV 1/2; 222/648] END criterion=gini, max_depth=14, max_features=auto, min_samples_leaf=1, min_samples_split=10, splitter=random;, score=0.806 total time=   0.0s\n[CV 2/2; 222/648] START criterion=gini, max_depth=14, max_features=auto, min_samples_leaf=1, min_samples_split=10, splitter=random\n",
          "output_type": "stream"
        },
        {
          "name": "stderr",
          "text": "/lib/python3.11/site-packages/sklearn/tree/_classes.py:269: FutureWarning: `max_features='auto'` has been deprecated in 1.1 and will be removed in 1.3. To keep the past behaviour, explicitly set `max_features='sqrt'`.\n  warnings.warn(\n",
          "output_type": "stream"
        },
        {
          "name": "stdout",
          "text": "[CV 2/2; 222/648] END criterion=gini, max_depth=14, max_features=auto, min_samples_leaf=1, min_samples_split=10, splitter=random;, score=0.611 total time=   0.0s\n[CV 1/2; 223/648] START criterion=gini, max_depth=14, max_features=auto, min_samples_leaf=2, min_samples_split=2, splitter=best\n",
          "output_type": "stream"
        },
        {
          "name": "stderr",
          "text": "/lib/python3.11/site-packages/sklearn/tree/_classes.py:269: FutureWarning: `max_features='auto'` has been deprecated in 1.1 and will be removed in 1.3. To keep the past behaviour, explicitly set `max_features='sqrt'`.\n  warnings.warn(\n",
          "output_type": "stream"
        },
        {
          "name": "stdout",
          "text": "[CV 1/2; 223/648] END criterion=gini, max_depth=14, max_features=auto, min_samples_leaf=2, min_samples_split=2, splitter=best;, score=0.889 total time=   0.0s\n[CV 2/2; 223/648] START criterion=gini, max_depth=14, max_features=auto, min_samples_leaf=2, min_samples_split=2, splitter=best\n",
          "output_type": "stream"
        },
        {
          "name": "stderr",
          "text": "/lib/python3.11/site-packages/sklearn/tree/_classes.py:269: FutureWarning: `max_features='auto'` has been deprecated in 1.1 and will be removed in 1.3. To keep the past behaviour, explicitly set `max_features='sqrt'`.\n  warnings.warn(\n",
          "output_type": "stream"
        },
        {
          "name": "stdout",
          "text": "[CV 2/2; 223/648] END criterion=gini, max_depth=14, max_features=auto, min_samples_leaf=2, min_samples_split=2, splitter=best;, score=0.694 total time=   0.0s\n[CV 1/2; 224/648] START criterion=gini, max_depth=14, max_features=auto, min_samples_leaf=2, min_samples_split=2, splitter=random\n",
          "output_type": "stream"
        },
        {
          "name": "stderr",
          "text": "/lib/python3.11/site-packages/sklearn/tree/_classes.py:269: FutureWarning: `max_features='auto'` has been deprecated in 1.1 and will be removed in 1.3. To keep the past behaviour, explicitly set `max_features='sqrt'`.\n  warnings.warn(\n",
          "output_type": "stream"
        },
        {
          "name": "stdout",
          "text": "[CV 1/2; 224/648] END criterion=gini, max_depth=14, max_features=auto, min_samples_leaf=2, min_samples_split=2, splitter=random;, score=0.861 total time=   0.0s\n[CV 2/2; 224/648] START criterion=gini, max_depth=14, max_features=auto, min_samples_leaf=2, min_samples_split=2, splitter=random\n",
          "output_type": "stream"
        },
        {
          "name": "stderr",
          "text": "/lib/python3.11/site-packages/sklearn/tree/_classes.py:269: FutureWarning: `max_features='auto'` has been deprecated in 1.1 and will be removed in 1.3. To keep the past behaviour, explicitly set `max_features='sqrt'`.\n  warnings.warn(\n",
          "output_type": "stream"
        },
        {
          "name": "stdout",
          "text": "[CV 2/2; 224/648] END criterion=gini, max_depth=14, max_features=auto, min_samples_leaf=2, min_samples_split=2, splitter=random;, score=0.667 total time=   0.0s\n[CV 1/2; 225/648] START criterion=gini, max_depth=14, max_features=auto, min_samples_leaf=2, min_samples_split=5, splitter=best\n",
          "output_type": "stream"
        },
        {
          "name": "stderr",
          "text": "/lib/python3.11/site-packages/sklearn/tree/_classes.py:269: FutureWarning: `max_features='auto'` has been deprecated in 1.1 and will be removed in 1.3. To keep the past behaviour, explicitly set `max_features='sqrt'`.\n  warnings.warn(\n",
          "output_type": "stream"
        },
        {
          "name": "stdout",
          "text": "[CV 1/2; 225/648] END criterion=gini, max_depth=14, max_features=auto, min_samples_leaf=2, min_samples_split=5, splitter=best;, score=0.861 total time=   0.0s\n[CV 2/2; 225/648] START criterion=gini, max_depth=14, max_features=auto, min_samples_leaf=2, min_samples_split=5, splitter=best\n",
          "output_type": "stream"
        },
        {
          "name": "stderr",
          "text": "/lib/python3.11/site-packages/sklearn/tree/_classes.py:269: FutureWarning: `max_features='auto'` has been deprecated in 1.1 and will be removed in 1.3. To keep the past behaviour, explicitly set `max_features='sqrt'`.\n  warnings.warn(\n",
          "output_type": "stream"
        },
        {
          "name": "stdout",
          "text": "[CV 2/2; 225/648] END criterion=gini, max_depth=14, max_features=auto, min_samples_leaf=2, min_samples_split=5, splitter=best;, score=0.833 total time=   0.0s\n[CV 1/2; 226/648] START criterion=gini, max_depth=14, max_features=auto, min_samples_leaf=2, min_samples_split=5, splitter=random\n",
          "output_type": "stream"
        },
        {
          "name": "stderr",
          "text": "/lib/python3.11/site-packages/sklearn/tree/_classes.py:269: FutureWarning: `max_features='auto'` has been deprecated in 1.1 and will be removed in 1.3. To keep the past behaviour, explicitly set `max_features='sqrt'`.\n  warnings.warn(\n",
          "output_type": "stream"
        },
        {
          "name": "stdout",
          "text": "[CV 1/2; 226/648] END criterion=gini, max_depth=14, max_features=auto, min_samples_leaf=2, min_samples_split=5, splitter=random;, score=0.639 total time=   0.0s\n[CV 2/2; 226/648] START criterion=gini, max_depth=14, max_features=auto, min_samples_leaf=2, min_samples_split=5, splitter=random\n",
          "output_type": "stream"
        },
        {
          "name": "stderr",
          "text": "/lib/python3.11/site-packages/sklearn/tree/_classes.py:269: FutureWarning: `max_features='auto'` has been deprecated in 1.1 and will be removed in 1.3. To keep the past behaviour, explicitly set `max_features='sqrt'`.\n  warnings.warn(\n",
          "output_type": "stream"
        },
        {
          "name": "stdout",
          "text": "[CV 2/2; 226/648] END criterion=gini, max_depth=14, max_features=auto, min_samples_leaf=2, min_samples_split=5, splitter=random;, score=0.639 total time=   0.0s\n[CV 1/2; 227/648] START criterion=gini, max_depth=14, max_features=auto, min_samples_leaf=2, min_samples_split=10, splitter=best\n",
          "output_type": "stream"
        },
        {
          "name": "stderr",
          "text": "/lib/python3.11/site-packages/sklearn/tree/_classes.py:269: FutureWarning: `max_features='auto'` has been deprecated in 1.1 and will be removed in 1.3. To keep the past behaviour, explicitly set `max_features='sqrt'`.\n  warnings.warn(\n",
          "output_type": "stream"
        },
        {
          "name": "stdout",
          "text": "[CV 1/2; 227/648] END criterion=gini, max_depth=14, max_features=auto, min_samples_leaf=2, min_samples_split=10, splitter=best;, score=0.722 total time=   0.0s\n[CV 2/2; 227/648] START criterion=gini, max_depth=14, max_features=auto, min_samples_leaf=2, min_samples_split=10, splitter=best\n",
          "output_type": "stream"
        },
        {
          "name": "stderr",
          "text": "/lib/python3.11/site-packages/sklearn/tree/_classes.py:269: FutureWarning: `max_features='auto'` has been deprecated in 1.1 and will be removed in 1.3. To keep the past behaviour, explicitly set `max_features='sqrt'`.\n  warnings.warn(\n",
          "output_type": "stream"
        },
        {
          "name": "stdout",
          "text": "[CV 2/2; 227/648] END criterion=gini, max_depth=14, max_features=auto, min_samples_leaf=2, min_samples_split=10, splitter=best;, score=0.667 total time=   0.0s\n[CV 1/2; 228/648] START criterion=gini, max_depth=14, max_features=auto, min_samples_leaf=2, min_samples_split=10, splitter=random\n",
          "output_type": "stream"
        },
        {
          "name": "stderr",
          "text": "/lib/python3.11/site-packages/sklearn/tree/_classes.py:269: FutureWarning: `max_features='auto'` has been deprecated in 1.1 and will be removed in 1.3. To keep the past behaviour, explicitly set `max_features='sqrt'`.\n  warnings.warn(\n",
          "output_type": "stream"
        },
        {
          "name": "stdout",
          "text": "[CV 1/2; 228/648] END criterion=gini, max_depth=14, max_features=auto, min_samples_leaf=2, min_samples_split=10, splitter=random;, score=0.889 total time=   0.0s\n[CV 2/2; 228/648] START criterion=gini, max_depth=14, max_features=auto, min_samples_leaf=2, min_samples_split=10, splitter=random\n",
          "output_type": "stream"
        },
        {
          "name": "stderr",
          "text": "/lib/python3.11/site-packages/sklearn/tree/_classes.py:269: FutureWarning: `max_features='auto'` has been deprecated in 1.1 and will be removed in 1.3. To keep the past behaviour, explicitly set `max_features='sqrt'`.\n  warnings.warn(\n",
          "output_type": "stream"
        },
        {
          "name": "stdout",
          "text": "[CV 2/2; 228/648] END criterion=gini, max_depth=14, max_features=auto, min_samples_leaf=2, min_samples_split=10, splitter=random;, score=0.861 total time=   0.0s\n[CV 1/2; 229/648] START criterion=gini, max_depth=14, max_features=auto, min_samples_leaf=4, min_samples_split=2, splitter=best\n",
          "output_type": "stream"
        },
        {
          "name": "stderr",
          "text": "/lib/python3.11/site-packages/sklearn/tree/_classes.py:269: FutureWarning: `max_features='auto'` has been deprecated in 1.1 and will be removed in 1.3. To keep the past behaviour, explicitly set `max_features='sqrt'`.\n  warnings.warn(\n",
          "output_type": "stream"
        },
        {
          "name": "stdout",
          "text": "[CV 1/2; 229/648] END criterion=gini, max_depth=14, max_features=auto, min_samples_leaf=4, min_samples_split=2, splitter=best;, score=0.833 total time=   0.0s\n[CV 2/2; 229/648] START criterion=gini, max_depth=14, max_features=auto, min_samples_leaf=4, min_samples_split=2, splitter=best\n",
          "output_type": "stream"
        },
        {
          "name": "stderr",
          "text": "/lib/python3.11/site-packages/sklearn/tree/_classes.py:269: FutureWarning: `max_features='auto'` has been deprecated in 1.1 and will be removed in 1.3. To keep the past behaviour, explicitly set `max_features='sqrt'`.\n  warnings.warn(\n",
          "output_type": "stream"
        },
        {
          "name": "stdout",
          "text": "[CV 2/2; 229/648] END criterion=gini, max_depth=14, max_features=auto, min_samples_leaf=4, min_samples_split=2, splitter=best;, score=0.556 total time=   0.0s\n[CV 1/2; 230/648] START criterion=gini, max_depth=14, max_features=auto, min_samples_leaf=4, min_samples_split=2, splitter=random\n",
          "output_type": "stream"
        },
        {
          "name": "stderr",
          "text": "/lib/python3.11/site-packages/sklearn/tree/_classes.py:269: FutureWarning: `max_features='auto'` has been deprecated in 1.1 and will be removed in 1.3. To keep the past behaviour, explicitly set `max_features='sqrt'`.\n  warnings.warn(\n",
          "output_type": "stream"
        },
        {
          "name": "stdout",
          "text": "[CV 1/2; 230/648] END criterion=gini, max_depth=14, max_features=auto, min_samples_leaf=4, min_samples_split=2, splitter=random;, score=0.944 total time=   0.0s\n[CV 2/2; 230/648] START criterion=gini, max_depth=14, max_features=auto, min_samples_leaf=4, min_samples_split=2, splitter=random\n",
          "output_type": "stream"
        },
        {
          "name": "stderr",
          "text": "/lib/python3.11/site-packages/sklearn/tree/_classes.py:269: FutureWarning: `max_features='auto'` has been deprecated in 1.1 and will be removed in 1.3. To keep the past behaviour, explicitly set `max_features='sqrt'`.\n  warnings.warn(\n",
          "output_type": "stream"
        },
        {
          "name": "stdout",
          "text": "[CV 2/2; 230/648] END criterion=gini, max_depth=14, max_features=auto, min_samples_leaf=4, min_samples_split=2, splitter=random;, score=0.500 total time=   0.0s\n[CV 1/2; 231/648] START criterion=gini, max_depth=14, max_features=auto, min_samples_leaf=4, min_samples_split=5, splitter=best\n",
          "output_type": "stream"
        },
        {
          "name": "stderr",
          "text": "/lib/python3.11/site-packages/sklearn/tree/_classes.py:269: FutureWarning: `max_features='auto'` has been deprecated in 1.1 and will be removed in 1.3. To keep the past behaviour, explicitly set `max_features='sqrt'`.\n  warnings.warn(\n",
          "output_type": "stream"
        },
        {
          "name": "stdout",
          "text": "[CV 1/2; 231/648] END criterion=gini, max_depth=14, max_features=auto, min_samples_leaf=4, min_samples_split=5, splitter=best;, score=0.583 total time=   0.0s\n[CV 2/2; 231/648] START criterion=gini, max_depth=14, max_features=auto, min_samples_leaf=4, min_samples_split=5, splitter=best\n",
          "output_type": "stream"
        },
        {
          "name": "stderr",
          "text": "/lib/python3.11/site-packages/sklearn/tree/_classes.py:269: FutureWarning: `max_features='auto'` has been deprecated in 1.1 and will be removed in 1.3. To keep the past behaviour, explicitly set `max_features='sqrt'`.\n  warnings.warn(\n",
          "output_type": "stream"
        },
        {
          "name": "stdout",
          "text": "[CV 2/2; 231/648] END criterion=gini, max_depth=14, max_features=auto, min_samples_leaf=4, min_samples_split=5, splitter=best;, score=0.583 total time=   0.0s\n[CV 1/2; 232/648] START criterion=gini, max_depth=14, max_features=auto, min_samples_leaf=4, min_samples_split=5, splitter=random\n",
          "output_type": "stream"
        },
        {
          "name": "stderr",
          "text": "/lib/python3.11/site-packages/sklearn/tree/_classes.py:269: FutureWarning: `max_features='auto'` has been deprecated in 1.1 and will be removed in 1.3. To keep the past behaviour, explicitly set `max_features='sqrt'`.\n  warnings.warn(\n",
          "output_type": "stream"
        },
        {
          "name": "stdout",
          "text": "[CV 1/2; 232/648] END criterion=gini, max_depth=14, max_features=auto, min_samples_leaf=4, min_samples_split=5, splitter=random;, score=0.861 total time=   0.0s\n[CV 2/2; 232/648] START criterion=gini, max_depth=14, max_features=auto, min_samples_leaf=4, min_samples_split=5, splitter=random\n",
          "output_type": "stream"
        },
        {
          "name": "stderr",
          "text": "/lib/python3.11/site-packages/sklearn/tree/_classes.py:269: FutureWarning: `max_features='auto'` has been deprecated in 1.1 and will be removed in 1.3. To keep the past behaviour, explicitly set `max_features='sqrt'`.\n  warnings.warn(\n",
          "output_type": "stream"
        },
        {
          "name": "stdout",
          "text": "[CV 2/2; 232/648] END criterion=gini, max_depth=14, max_features=auto, min_samples_leaf=4, min_samples_split=5, splitter=random;, score=0.667 total time=   0.0s\n[CV 1/2; 233/648] START criterion=gini, max_depth=14, max_features=auto, min_samples_leaf=4, min_samples_split=10, splitter=best\n",
          "output_type": "stream"
        },
        {
          "name": "stderr",
          "text": "/lib/python3.11/site-packages/sklearn/tree/_classes.py:269: FutureWarning: `max_features='auto'` has been deprecated in 1.1 and will be removed in 1.3. To keep the past behaviour, explicitly set `max_features='sqrt'`.\n  warnings.warn(\n",
          "output_type": "stream"
        },
        {
          "name": "stdout",
          "text": "[CV 1/2; 233/648] END criterion=gini, max_depth=14, max_features=auto, min_samples_leaf=4, min_samples_split=10, splitter=best;, score=0.833 total time=   0.0s\n[CV 2/2; 233/648] START criterion=gini, max_depth=14, max_features=auto, min_samples_leaf=4, min_samples_split=10, splitter=best\n",
          "output_type": "stream"
        },
        {
          "name": "stderr",
          "text": "/lib/python3.11/site-packages/sklearn/tree/_classes.py:269: FutureWarning: `max_features='auto'` has been deprecated in 1.1 and will be removed in 1.3. To keep the past behaviour, explicitly set `max_features='sqrt'`.\n  warnings.warn(\n",
          "output_type": "stream"
        },
        {
          "name": "stdout",
          "text": "[CV 2/2; 233/648] END criterion=gini, max_depth=14, max_features=auto, min_samples_leaf=4, min_samples_split=10, splitter=best;, score=0.667 total time=   0.0s\n[CV 1/2; 234/648] START criterion=gini, max_depth=14, max_features=auto, min_samples_leaf=4, min_samples_split=10, splitter=random\n",
          "output_type": "stream"
        },
        {
          "name": "stderr",
          "text": "/lib/python3.11/site-packages/sklearn/tree/_classes.py:269: FutureWarning: `max_features='auto'` has been deprecated in 1.1 and will be removed in 1.3. To keep the past behaviour, explicitly set `max_features='sqrt'`.\n  warnings.warn(\n",
          "output_type": "stream"
        },
        {
          "name": "stdout",
          "text": "[CV 1/2; 234/648] END criterion=gini, max_depth=14, max_features=auto, min_samples_leaf=4, min_samples_split=10, splitter=random;, score=0.667 total time=   0.0s\n[CV 2/2; 234/648] START criterion=gini, max_depth=14, max_features=auto, min_samples_leaf=4, min_samples_split=10, splitter=random\n",
          "output_type": "stream"
        },
        {
          "name": "stderr",
          "text": "/lib/python3.11/site-packages/sklearn/tree/_classes.py:269: FutureWarning: `max_features='auto'` has been deprecated in 1.1 and will be removed in 1.3. To keep the past behaviour, explicitly set `max_features='sqrt'`.\n  warnings.warn(\n",
          "output_type": "stream"
        },
        {
          "name": "stdout",
          "text": "[CV 2/2; 234/648] END criterion=gini, max_depth=14, max_features=auto, min_samples_leaf=4, min_samples_split=10, splitter=random;, score=0.389 total time=   0.0s\n[CV 1/2; 235/648] START criterion=gini, max_depth=14, max_features=sqrt, min_samples_leaf=1, min_samples_split=2, splitter=best\n[CV 1/2; 235/648] END criterion=gini, max_depth=14, max_features=sqrt, min_samples_leaf=1, min_samples_split=2, splitter=best;, score=0.722 total time=   0.0s\n[CV 2/2; 235/648] START criterion=gini, max_depth=14, max_features=sqrt, min_samples_leaf=1, min_samples_split=2, splitter=best\n[CV 2/2; 235/648] END criterion=gini, max_depth=14, max_features=sqrt, min_samples_leaf=1, min_samples_split=2, splitter=best;, score=0.667 total time=   0.0s\n[CV 1/2; 236/648] START criterion=gini, max_depth=14, max_features=sqrt, min_samples_leaf=1, min_samples_split=2, splitter=random\n[CV 1/2; 236/648] END criterion=gini, max_depth=14, max_features=sqrt, min_samples_leaf=1, min_samples_split=2, splitter=random;, score=0.833 total time=   0.0s\n[CV 2/2; 236/648] START criterion=gini, max_depth=14, max_features=sqrt, min_samples_leaf=1, min_samples_split=2, splitter=random\n[CV 2/2; 236/648] END criterion=gini, max_depth=14, max_features=sqrt, min_samples_leaf=1, min_samples_split=2, splitter=random;, score=0.722 total time=   0.0s\n[CV 1/2; 237/648] START criterion=gini, max_depth=14, max_features=sqrt, min_samples_leaf=1, min_samples_split=5, splitter=best\n[CV 1/2; 237/648] END criterion=gini, max_depth=14, max_features=sqrt, min_samples_leaf=1, min_samples_split=5, splitter=best;, score=0.778 total time=   0.0s\n[CV 2/2; 237/648] START criterion=gini, max_depth=14, max_features=sqrt, min_samples_leaf=1, min_samples_split=5, splitter=best\n[CV 2/2; 237/648] END criterion=gini, max_depth=14, max_features=sqrt, min_samples_leaf=1, min_samples_split=5, splitter=best;, score=0.556 total time=   0.0s\n[CV 1/2; 238/648] START criterion=gini, max_depth=14, max_features=sqrt, min_samples_leaf=1, min_samples_split=5, splitter=random\n[CV 1/2; 238/648] END criterion=gini, max_depth=14, max_features=sqrt, min_samples_leaf=1, min_samples_split=5, splitter=random;, score=0.806 total time=   0.0s\n[CV 2/2; 238/648] START criterion=gini, max_depth=14, max_features=sqrt, min_samples_leaf=1, min_samples_split=5, splitter=random\n[CV 2/2; 238/648] END criterion=gini, max_depth=14, max_features=sqrt, min_samples_leaf=1, min_samples_split=5, splitter=random;, score=0.639 total time=   0.0s\n[CV 1/2; 239/648] START criterion=gini, max_depth=14, max_features=sqrt, min_samples_leaf=1, min_samples_split=10, splitter=best\n[CV 1/2; 239/648] END criterion=gini, max_depth=14, max_features=sqrt, min_samples_leaf=1, min_samples_split=10, splitter=best;, score=0.806 total time=   0.0s\n[CV 2/2; 239/648] START criterion=gini, max_depth=14, max_features=sqrt, min_samples_leaf=1, min_samples_split=10, splitter=best\n[CV 2/2; 239/648] END criterion=gini, max_depth=14, max_features=sqrt, min_samples_leaf=1, min_samples_split=10, splitter=best;, score=0.583 total time=   0.0s\n[CV 1/2; 240/648] START criterion=gini, max_depth=14, max_features=sqrt, min_samples_leaf=1, min_samples_split=10, splitter=random\n[CV 1/2; 240/648] END criterion=gini, max_depth=14, max_features=sqrt, min_samples_leaf=1, min_samples_split=10, splitter=random;, score=0.833 total time=   0.0s\n[CV 2/2; 240/648] START criterion=gini, max_depth=14, max_features=sqrt, min_samples_leaf=1, min_samples_split=10, splitter=random\n[CV 2/2; 240/648] END criterion=gini, max_depth=14, max_features=sqrt, min_samples_leaf=1, min_samples_split=10, splitter=random;, score=0.861 total time=   0.0s\n[CV 1/2; 241/648] START criterion=gini, max_depth=14, max_features=sqrt, min_samples_leaf=2, min_samples_split=2, splitter=best\n[CV 1/2; 241/648] END criterion=gini, max_depth=14, max_features=sqrt, min_samples_leaf=2, min_samples_split=2, splitter=best;, score=0.528 total time=   0.0s\n[CV 2/2; 241/648] START criterion=gini, max_depth=14, max_features=sqrt, min_samples_leaf=2, min_samples_split=2, splitter=best\n[CV 2/2; 241/648] END criterion=gini, max_depth=14, max_features=sqrt, min_samples_leaf=2, min_samples_split=2, splitter=best;, score=0.861 total time=   0.0s\n[CV 1/2; 242/648] START criterion=gini, max_depth=14, max_features=sqrt, min_samples_leaf=2, min_samples_split=2, splitter=random\n[CV 1/2; 242/648] END criterion=gini, max_depth=14, max_features=sqrt, min_samples_leaf=2, min_samples_split=2, splitter=random;, score=0.556 total time=   0.0s\n[CV 2/2; 242/648] START criterion=gini, max_depth=14, max_features=sqrt, min_samples_leaf=2, min_samples_split=2, splitter=random\n[CV 2/2; 242/648] END criterion=gini, max_depth=14, max_features=sqrt, min_samples_leaf=2, min_samples_split=2, splitter=random;, score=0.861 total time=   0.0s\n[CV 1/2; 243/648] START criterion=gini, max_depth=14, max_features=sqrt, min_samples_leaf=2, min_samples_split=5, splitter=best\n[CV 1/2; 243/648] END criterion=gini, max_depth=14, max_features=sqrt, min_samples_leaf=2, min_samples_split=5, splitter=best;, score=0.528 total time=   0.0s\n[CV 2/2; 243/648] START criterion=gini, max_depth=14, max_features=sqrt, min_samples_leaf=2, min_samples_split=5, splitter=best\n[CV 2/2; 243/648] END criterion=gini, max_depth=14, max_features=sqrt, min_samples_leaf=2, min_samples_split=5, splitter=best;, score=0.556 total time=   0.0s\n[CV 1/2; 244/648] START criterion=gini, max_depth=14, max_features=sqrt, min_samples_leaf=2, min_samples_split=5, splitter=random\n[CV 1/2; 244/648] END criterion=gini, max_depth=14, max_features=sqrt, min_samples_leaf=2, min_samples_split=5, splitter=random;, score=0.778 total time=   0.0s\n[CV 2/2; 244/648] START criterion=gini, max_depth=14, max_features=sqrt, min_samples_leaf=2, min_samples_split=5, splitter=random\n[CV 2/2; 244/648] END criterion=gini, max_depth=14, max_features=sqrt, min_samples_leaf=2, min_samples_split=5, splitter=random;, score=0.750 total time=   0.0s\n[CV 1/2; 245/648] START criterion=gini, max_depth=14, max_features=sqrt, min_samples_leaf=2, min_samples_split=10, splitter=best\n[CV 1/2; 245/648] END criterion=gini, max_depth=14, max_features=sqrt, min_samples_leaf=2, min_samples_split=10, splitter=best;, score=0.833 total time=   0.0s\n[CV 2/2; 245/648] START criterion=gini, max_depth=14, max_features=sqrt, min_samples_leaf=2, min_samples_split=10, splitter=best\n[CV 2/2; 245/648] END criterion=gini, max_depth=14, max_features=sqrt, min_samples_leaf=2, min_samples_split=10, splitter=best;, score=0.639 total time=   0.0s\n[CV 1/2; 246/648] START criterion=gini, max_depth=14, max_features=sqrt, min_samples_leaf=2, min_samples_split=10, splitter=random\n[CV 1/2; 246/648] END criterion=gini, max_depth=14, max_features=sqrt, min_samples_leaf=2, min_samples_split=10, splitter=random;, score=0.861 total time=   0.0s\n[CV 2/2; 246/648] START criterion=gini, max_depth=14, max_features=sqrt, min_samples_leaf=2, min_samples_split=10, splitter=random\n[CV 2/2; 246/648] END criterion=gini, max_depth=14, max_features=sqrt, min_samples_leaf=2, min_samples_split=10, splitter=random;, score=0.722 total time=   0.0s\n[CV 1/2; 247/648] START criterion=gini, max_depth=14, max_features=sqrt, min_samples_leaf=4, min_samples_split=2, splitter=best\n[CV 1/2; 247/648] END criterion=gini, max_depth=14, max_features=sqrt, min_samples_leaf=4, min_samples_split=2, splitter=best;, score=0.861 total time=   0.0s\n[CV 2/2; 247/648] START criterion=gini, max_depth=14, max_features=sqrt, min_samples_leaf=4, min_samples_split=2, splitter=best\n[CV 2/2; 247/648] END criterion=gini, max_depth=14, max_features=sqrt, min_samples_leaf=4, min_samples_split=2, splitter=best;, score=0.556 total time=   0.0s\n[CV 1/2; 248/648] START criterion=gini, max_depth=14, max_features=sqrt, min_samples_leaf=4, min_samples_split=2, splitter=random\n[CV 1/2; 248/648] END criterion=gini, max_depth=14, max_features=sqrt, min_samples_leaf=4, min_samples_split=2, splitter=random;, score=0.833 total time=   0.0s\n[CV 2/2; 248/648] START criterion=gini, max_depth=14, max_features=sqrt, min_samples_leaf=4, min_samples_split=2, splitter=random\n[CV 2/2; 248/648] END criterion=gini, max_depth=14, max_features=sqrt, min_samples_leaf=4, min_samples_split=2, splitter=random;, score=0.861 total time=   0.0s\n[CV 1/2; 249/648] START criterion=gini, max_depth=14, max_features=sqrt, min_samples_leaf=4, min_samples_split=5, splitter=best\n[CV 1/2; 249/648] END criterion=gini, max_depth=14, max_features=sqrt, min_samples_leaf=4, min_samples_split=5, splitter=best;, score=0.833 total time=   0.0s\n[CV 2/2; 249/648] START criterion=gini, max_depth=14, max_features=sqrt, min_samples_leaf=4, min_samples_split=5, splitter=best\n[CV 2/2; 249/648] END criterion=gini, max_depth=14, max_features=sqrt, min_samples_leaf=4, min_samples_split=5, splitter=best;, score=0.778 total time=   0.0s\n[CV 1/2; 250/648] START criterion=gini, max_depth=14, max_features=sqrt, min_samples_leaf=4, min_samples_split=5, splitter=random\n[CV 1/2; 250/648] END criterion=gini, max_depth=14, max_features=sqrt, min_samples_leaf=4, min_samples_split=5, splitter=random;, score=0.861 total time=   0.0s\n[CV 2/2; 250/648] START criterion=gini, max_depth=14, max_features=sqrt, min_samples_leaf=4, min_samples_split=5, splitter=random\n[CV 2/2; 250/648] END criterion=gini, max_depth=14, max_features=sqrt, min_samples_leaf=4, min_samples_split=5, splitter=random;, score=0.750 total time=   0.0s\n[CV 1/2; 251/648] START criterion=gini, max_depth=14, max_features=sqrt, min_samples_leaf=4, min_samples_split=10, splitter=best\n[CV 1/2; 251/648] END criterion=gini, max_depth=14, max_features=sqrt, min_samples_leaf=4, min_samples_split=10, splitter=best;, score=0.833 total time=   0.0s\n[CV 2/2; 251/648] START criterion=gini, max_depth=14, max_features=sqrt, min_samples_leaf=4, min_samples_split=10, splitter=best\n[CV 2/2; 251/648] END criterion=gini, max_depth=14, max_features=sqrt, min_samples_leaf=4, min_samples_split=10, splitter=best;, score=0.444 total time=   0.0s\n[CV 1/2; 252/648] START criterion=gini, max_depth=14, max_features=sqrt, min_samples_leaf=4, min_samples_split=10, splitter=random\n[CV 1/2; 252/648] END criterion=gini, max_depth=14, max_features=sqrt, min_samples_leaf=4, min_samples_split=10, splitter=random;, score=0.778 total time=   0.0s\n[CV 2/2; 252/648] START criterion=gini, max_depth=14, max_features=sqrt, min_samples_leaf=4, min_samples_split=10, splitter=random\n[CV 2/2; 252/648] END criterion=gini, max_depth=14, max_features=sqrt, min_samples_leaf=4, min_samples_split=10, splitter=random;, score=0.667 total time=   0.0s\n[CV 1/2; 253/648] START criterion=gini, max_depth=16, max_features=auto, min_samples_leaf=1, min_samples_split=2, splitter=best\n",
          "output_type": "stream"
        },
        {
          "name": "stderr",
          "text": "/lib/python3.11/site-packages/sklearn/tree/_classes.py:269: FutureWarning: `max_features='auto'` has been deprecated in 1.1 and will be removed in 1.3. To keep the past behaviour, explicitly set `max_features='sqrt'`.\n  warnings.warn(\n",
          "output_type": "stream"
        },
        {
          "name": "stdout",
          "text": "[CV 1/2; 253/648] END criterion=gini, max_depth=16, max_features=auto, min_samples_leaf=1, min_samples_split=2, splitter=best;, score=0.694 total time=   0.0s\n[CV 2/2; 253/648] START criterion=gini, max_depth=16, max_features=auto, min_samples_leaf=1, min_samples_split=2, splitter=best\n",
          "output_type": "stream"
        },
        {
          "name": "stderr",
          "text": "/lib/python3.11/site-packages/sklearn/tree/_classes.py:269: FutureWarning: `max_features='auto'` has been deprecated in 1.1 and will be removed in 1.3. To keep the past behaviour, explicitly set `max_features='sqrt'`.\n  warnings.warn(\n",
          "output_type": "stream"
        },
        {
          "name": "stdout",
          "text": "[CV 2/2; 253/648] END criterion=gini, max_depth=16, max_features=auto, min_samples_leaf=1, min_samples_split=2, splitter=best;, score=0.639 total time=   0.0s\n[CV 1/2; 254/648] START criterion=gini, max_depth=16, max_features=auto, min_samples_leaf=1, min_samples_split=2, splitter=random\n",
          "output_type": "stream"
        },
        {
          "name": "stderr",
          "text": "/lib/python3.11/site-packages/sklearn/tree/_classes.py:269: FutureWarning: `max_features='auto'` has been deprecated in 1.1 and will be removed in 1.3. To keep the past behaviour, explicitly set `max_features='sqrt'`.\n  warnings.warn(\n",
          "output_type": "stream"
        },
        {
          "name": "stdout",
          "text": "[CV 1/2; 254/648] END criterion=gini, max_depth=16, max_features=auto, min_samples_leaf=1, min_samples_split=2, splitter=random;, score=0.694 total time=   0.0s\n[CV 2/2; 254/648] START criterion=gini, max_depth=16, max_features=auto, min_samples_leaf=1, min_samples_split=2, splitter=random\n",
          "output_type": "stream"
        },
        {
          "name": "stderr",
          "text": "/lib/python3.11/site-packages/sklearn/tree/_classes.py:269: FutureWarning: `max_features='auto'` has been deprecated in 1.1 and will be removed in 1.3. To keep the past behaviour, explicitly set `max_features='sqrt'`.\n  warnings.warn(\n",
          "output_type": "stream"
        },
        {
          "name": "stdout",
          "text": "[CV 2/2; 254/648] END criterion=gini, max_depth=16, max_features=auto, min_samples_leaf=1, min_samples_split=2, splitter=random;, score=0.750 total time=   0.0s\n[CV 1/2; 255/648] START criterion=gini, max_depth=16, max_features=auto, min_samples_leaf=1, min_samples_split=5, splitter=best\n",
          "output_type": "stream"
        },
        {
          "name": "stderr",
          "text": "/lib/python3.11/site-packages/sklearn/tree/_classes.py:269: FutureWarning: `max_features='auto'` has been deprecated in 1.1 and will be removed in 1.3. To keep the past behaviour, explicitly set `max_features='sqrt'`.\n  warnings.warn(\n",
          "output_type": "stream"
        },
        {
          "name": "stdout",
          "text": "[CV 1/2; 255/648] END criterion=gini, max_depth=16, max_features=auto, min_samples_leaf=1, min_samples_split=5, splitter=best;, score=0.611 total time=   0.0s\n[CV 2/2; 255/648] START criterion=gini, max_depth=16, max_features=auto, min_samples_leaf=1, min_samples_split=5, splitter=best\n",
          "output_type": "stream"
        },
        {
          "name": "stderr",
          "text": "/lib/python3.11/site-packages/sklearn/tree/_classes.py:269: FutureWarning: `max_features='auto'` has been deprecated in 1.1 and will be removed in 1.3. To keep the past behaviour, explicitly set `max_features='sqrt'`.\n  warnings.warn(\n",
          "output_type": "stream"
        },
        {
          "name": "stdout",
          "text": "[CV 2/2; 255/648] END criterion=gini, max_depth=16, max_features=auto, min_samples_leaf=1, min_samples_split=5, splitter=best;, score=0.806 total time=   0.0s\n[CV 1/2; 256/648] START criterion=gini, max_depth=16, max_features=auto, min_samples_leaf=1, min_samples_split=5, splitter=random\n",
          "output_type": "stream"
        },
        {
          "name": "stderr",
          "text": "/lib/python3.11/site-packages/sklearn/tree/_classes.py:269: FutureWarning: `max_features='auto'` has been deprecated in 1.1 and will be removed in 1.3. To keep the past behaviour, explicitly set `max_features='sqrt'`.\n  warnings.warn(\n",
          "output_type": "stream"
        },
        {
          "name": "stdout",
          "text": "[CV 1/2; 256/648] END criterion=gini, max_depth=16, max_features=auto, min_samples_leaf=1, min_samples_split=5, splitter=random;, score=0.694 total time=   0.0s\n[CV 2/2; 256/648] START criterion=gini, max_depth=16, max_features=auto, min_samples_leaf=1, min_samples_split=5, splitter=random\n",
          "output_type": "stream"
        },
        {
          "name": "stderr",
          "text": "/lib/python3.11/site-packages/sklearn/tree/_classes.py:269: FutureWarning: `max_features='auto'` has been deprecated in 1.1 and will be removed in 1.3. To keep the past behaviour, explicitly set `max_features='sqrt'`.\n  warnings.warn(\n",
          "output_type": "stream"
        },
        {
          "name": "stdout",
          "text": "[CV 2/2; 256/648] END criterion=gini, max_depth=16, max_features=auto, min_samples_leaf=1, min_samples_split=5, splitter=random;, score=0.694 total time=   0.0s\n[CV 1/2; 257/648] START criterion=gini, max_depth=16, max_features=auto, min_samples_leaf=1, min_samples_split=10, splitter=best\n",
          "output_type": "stream"
        },
        {
          "name": "stderr",
          "text": "/lib/python3.11/site-packages/sklearn/tree/_classes.py:269: FutureWarning: `max_features='auto'` has been deprecated in 1.1 and will be removed in 1.3. To keep the past behaviour, explicitly set `max_features='sqrt'`.\n  warnings.warn(\n",
          "output_type": "stream"
        },
        {
          "name": "stdout",
          "text": "[CV 1/2; 257/648] END criterion=gini, max_depth=16, max_features=auto, min_samples_leaf=1, min_samples_split=10, splitter=best;, score=0.778 total time=   0.0s\n[CV 2/2; 257/648] START criterion=gini, max_depth=16, max_features=auto, min_samples_leaf=1, min_samples_split=10, splitter=best\n",
          "output_type": "stream"
        },
        {
          "name": "stderr",
          "text": "/lib/python3.11/site-packages/sklearn/tree/_classes.py:269: FutureWarning: `max_features='auto'` has been deprecated in 1.1 and will be removed in 1.3. To keep the past behaviour, explicitly set `max_features='sqrt'`.\n  warnings.warn(\n",
          "output_type": "stream"
        },
        {
          "name": "stdout",
          "text": "[CV 2/2; 257/648] END criterion=gini, max_depth=16, max_features=auto, min_samples_leaf=1, min_samples_split=10, splitter=best;, score=0.667 total time=   0.0s\n[CV 1/2; 258/648] START criterion=gini, max_depth=16, max_features=auto, min_samples_leaf=1, min_samples_split=10, splitter=random\n",
          "output_type": "stream"
        },
        {
          "name": "stderr",
          "text": "/lib/python3.11/site-packages/sklearn/tree/_classes.py:269: FutureWarning: `max_features='auto'` has been deprecated in 1.1 and will be removed in 1.3. To keep the past behaviour, explicitly set `max_features='sqrt'`.\n  warnings.warn(\n",
          "output_type": "stream"
        },
        {
          "name": "stdout",
          "text": "[CV 1/2; 258/648] END criterion=gini, max_depth=16, max_features=auto, min_samples_leaf=1, min_samples_split=10, splitter=random;, score=0.833 total time=   0.0s\n[CV 2/2; 258/648] START criterion=gini, max_depth=16, max_features=auto, min_samples_leaf=1, min_samples_split=10, splitter=random\n",
          "output_type": "stream"
        },
        {
          "name": "stderr",
          "text": "/lib/python3.11/site-packages/sklearn/tree/_classes.py:269: FutureWarning: `max_features='auto'` has been deprecated in 1.1 and will be removed in 1.3. To keep the past behaviour, explicitly set `max_features='sqrt'`.\n  warnings.warn(\n",
          "output_type": "stream"
        },
        {
          "name": "stdout",
          "text": "[CV 2/2; 258/648] END criterion=gini, max_depth=16, max_features=auto, min_samples_leaf=1, min_samples_split=10, splitter=random;, score=0.861 total time=   0.0s\n[CV 1/2; 259/648] START criterion=gini, max_depth=16, max_features=auto, min_samples_leaf=2, min_samples_split=2, splitter=best\n",
          "output_type": "stream"
        },
        {
          "name": "stderr",
          "text": "/lib/python3.11/site-packages/sklearn/tree/_classes.py:269: FutureWarning: `max_features='auto'` has been deprecated in 1.1 and will be removed in 1.3. To keep the past behaviour, explicitly set `max_features='sqrt'`.\n  warnings.warn(\n",
          "output_type": "stream"
        },
        {
          "name": "stdout",
          "text": "[CV 1/2; 259/648] END criterion=gini, max_depth=16, max_features=auto, min_samples_leaf=2, min_samples_split=2, splitter=best;, score=0.750 total time=   0.0s\n[CV 2/2; 259/648] START criterion=gini, max_depth=16, max_features=auto, min_samples_leaf=2, min_samples_split=2, splitter=best\n",
          "output_type": "stream"
        },
        {
          "name": "stderr",
          "text": "/lib/python3.11/site-packages/sklearn/tree/_classes.py:269: FutureWarning: `max_features='auto'` has been deprecated in 1.1 and will be removed in 1.3. To keep the past behaviour, explicitly set `max_features='sqrt'`.\n  warnings.warn(\n",
          "output_type": "stream"
        },
        {
          "name": "stdout",
          "text": "[CV 2/2; 259/648] END criterion=gini, max_depth=16, max_features=auto, min_samples_leaf=2, min_samples_split=2, splitter=best;, score=0.611 total time=   0.0s\n[CV 1/2; 260/648] START criterion=gini, max_depth=16, max_features=auto, min_samples_leaf=2, min_samples_split=2, splitter=random\n",
          "output_type": "stream"
        },
        {
          "name": "stderr",
          "text": "/lib/python3.11/site-packages/sklearn/tree/_classes.py:269: FutureWarning: `max_features='auto'` has been deprecated in 1.1 and will be removed in 1.3. To keep the past behaviour, explicitly set `max_features='sqrt'`.\n  warnings.warn(\n",
          "output_type": "stream"
        },
        {
          "name": "stdout",
          "text": "[CV 1/2; 260/648] END criterion=gini, max_depth=16, max_features=auto, min_samples_leaf=2, min_samples_split=2, splitter=random;, score=0.750 total time=   0.0s\n[CV 2/2; 260/648] START criterion=gini, max_depth=16, max_features=auto, min_samples_leaf=2, min_samples_split=2, splitter=random\n",
          "output_type": "stream"
        },
        {
          "name": "stderr",
          "text": "/lib/python3.11/site-packages/sklearn/tree/_classes.py:269: FutureWarning: `max_features='auto'` has been deprecated in 1.1 and will be removed in 1.3. To keep the past behaviour, explicitly set `max_features='sqrt'`.\n  warnings.warn(\n",
          "output_type": "stream"
        },
        {
          "name": "stdout",
          "text": "[CV 2/2; 260/648] END criterion=gini, max_depth=16, max_features=auto, min_samples_leaf=2, min_samples_split=2, splitter=random;, score=0.667 total time=   0.0s\n[CV 1/2; 261/648] START criterion=gini, max_depth=16, max_features=auto, min_samples_leaf=2, min_samples_split=5, splitter=best\n",
          "output_type": "stream"
        },
        {
          "name": "stderr",
          "text": "/lib/python3.11/site-packages/sklearn/tree/_classes.py:269: FutureWarning: `max_features='auto'` has been deprecated in 1.1 and will be removed in 1.3. To keep the past behaviour, explicitly set `max_features='sqrt'`.\n  warnings.warn(\n",
          "output_type": "stream"
        },
        {
          "name": "stdout",
          "text": "[CV 1/2; 261/648] END criterion=gini, max_depth=16, max_features=auto, min_samples_leaf=2, min_samples_split=5, splitter=best;, score=0.750 total time=   0.0s\n[CV 2/2; 261/648] START criterion=gini, max_depth=16, max_features=auto, min_samples_leaf=2, min_samples_split=5, splitter=best\n",
          "output_type": "stream"
        },
        {
          "name": "stderr",
          "text": "/lib/python3.11/site-packages/sklearn/tree/_classes.py:269: FutureWarning: `max_features='auto'` has been deprecated in 1.1 and will be removed in 1.3. To keep the past behaviour, explicitly set `max_features='sqrt'`.\n  warnings.warn(\n",
          "output_type": "stream"
        },
        {
          "name": "stdout",
          "text": "[CV 2/2; 261/648] END criterion=gini, max_depth=16, max_features=auto, min_samples_leaf=2, min_samples_split=5, splitter=best;, score=0.694 total time=   0.0s\n[CV 1/2; 262/648] START criterion=gini, max_depth=16, max_features=auto, min_samples_leaf=2, min_samples_split=5, splitter=random\n",
          "output_type": "stream"
        },
        {
          "name": "stderr",
          "text": "/lib/python3.11/site-packages/sklearn/tree/_classes.py:269: FutureWarning: `max_features='auto'` has been deprecated in 1.1 and will be removed in 1.3. To keep the past behaviour, explicitly set `max_features='sqrt'`.\n  warnings.warn(\n",
          "output_type": "stream"
        },
        {
          "name": "stdout",
          "text": "[CV 1/2; 262/648] END criterion=gini, max_depth=16, max_features=auto, min_samples_leaf=2, min_samples_split=5, splitter=random;, score=0.722 total time=   0.0s\n[CV 2/2; 262/648] START criterion=gini, max_depth=16, max_features=auto, min_samples_leaf=2, min_samples_split=5, splitter=random\n",
          "output_type": "stream"
        },
        {
          "name": "stderr",
          "text": "/lib/python3.11/site-packages/sklearn/tree/_classes.py:269: FutureWarning: `max_features='auto'` has been deprecated in 1.1 and will be removed in 1.3. To keep the past behaviour, explicitly set `max_features='sqrt'`.\n  warnings.warn(\n",
          "output_type": "stream"
        },
        {
          "name": "stdout",
          "text": "[CV 2/2; 262/648] END criterion=gini, max_depth=16, max_features=auto, min_samples_leaf=2, min_samples_split=5, splitter=random;, score=0.694 total time=   0.0s\n[CV 1/2; 263/648] START criterion=gini, max_depth=16, max_features=auto, min_samples_leaf=2, min_samples_split=10, splitter=best\n",
          "output_type": "stream"
        },
        {
          "name": "stderr",
          "text": "/lib/python3.11/site-packages/sklearn/tree/_classes.py:269: FutureWarning: `max_features='auto'` has been deprecated in 1.1 and will be removed in 1.3. To keep the past behaviour, explicitly set `max_features='sqrt'`.\n  warnings.warn(\n",
          "output_type": "stream"
        },
        {
          "name": "stdout",
          "text": "[CV 1/2; 263/648] END criterion=gini, max_depth=16, max_features=auto, min_samples_leaf=2, min_samples_split=10, splitter=best;, score=0.778 total time=   0.0s\n[CV 2/2; 263/648] START criterion=gini, max_depth=16, max_features=auto, min_samples_leaf=2, min_samples_split=10, splitter=best\n",
          "output_type": "stream"
        },
        {
          "name": "stderr",
          "text": "/lib/python3.11/site-packages/sklearn/tree/_classes.py:269: FutureWarning: `max_features='auto'` has been deprecated in 1.1 and will be removed in 1.3. To keep the past behaviour, explicitly set `max_features='sqrt'`.\n  warnings.warn(\n",
          "output_type": "stream"
        },
        {
          "name": "stdout",
          "text": "[CV 2/2; 263/648] END criterion=gini, max_depth=16, max_features=auto, min_samples_leaf=2, min_samples_split=10, splitter=best;, score=0.389 total time=   0.0s\n[CV 1/2; 264/648] START criterion=gini, max_depth=16, max_features=auto, min_samples_leaf=2, min_samples_split=10, splitter=random\n",
          "output_type": "stream"
        },
        {
          "name": "stderr",
          "text": "/lib/python3.11/site-packages/sklearn/tree/_classes.py:269: FutureWarning: `max_features='auto'` has been deprecated in 1.1 and will be removed in 1.3. To keep the past behaviour, explicitly set `max_features='sqrt'`.\n  warnings.warn(\n",
          "output_type": "stream"
        },
        {
          "name": "stdout",
          "text": "[CV 1/2; 264/648] END criterion=gini, max_depth=16, max_features=auto, min_samples_leaf=2, min_samples_split=10, splitter=random;, score=0.833 total time=   0.0s\n[CV 2/2; 264/648] START criterion=gini, max_depth=16, max_features=auto, min_samples_leaf=2, min_samples_split=10, splitter=random\n",
          "output_type": "stream"
        },
        {
          "name": "stderr",
          "text": "/lib/python3.11/site-packages/sklearn/tree/_classes.py:269: FutureWarning: `max_features='auto'` has been deprecated in 1.1 and will be removed in 1.3. To keep the past behaviour, explicitly set `max_features='sqrt'`.\n  warnings.warn(\n",
          "output_type": "stream"
        },
        {
          "name": "stdout",
          "text": "[CV 2/2; 264/648] END criterion=gini, max_depth=16, max_features=auto, min_samples_leaf=2, min_samples_split=10, splitter=random;, score=0.667 total time=   0.0s\n[CV 1/2; 265/648] START criterion=gini, max_depth=16, max_features=auto, min_samples_leaf=4, min_samples_split=2, splitter=best\n",
          "output_type": "stream"
        },
        {
          "name": "stderr",
          "text": "/lib/python3.11/site-packages/sklearn/tree/_classes.py:269: FutureWarning: `max_features='auto'` has been deprecated in 1.1 and will be removed in 1.3. To keep the past behaviour, explicitly set `max_features='sqrt'`.\n  warnings.warn(\n",
          "output_type": "stream"
        },
        {
          "name": "stdout",
          "text": "[CV 1/2; 265/648] END criterion=gini, max_depth=16, max_features=auto, min_samples_leaf=4, min_samples_split=2, splitter=best;, score=0.722 total time=   0.0s\n[CV 2/2; 265/648] START criterion=gini, max_depth=16, max_features=auto, min_samples_leaf=4, min_samples_split=2, splitter=best\n",
          "output_type": "stream"
        },
        {
          "name": "stderr",
          "text": "/lib/python3.11/site-packages/sklearn/tree/_classes.py:269: FutureWarning: `max_features='auto'` has been deprecated in 1.1 and will be removed in 1.3. To keep the past behaviour, explicitly set `max_features='sqrt'`.\n  warnings.warn(\n",
          "output_type": "stream"
        },
        {
          "name": "stdout",
          "text": "[CV 2/2; 265/648] END criterion=gini, max_depth=16, max_features=auto, min_samples_leaf=4, min_samples_split=2, splitter=best;, score=0.806 total time=   0.0s\n[CV 1/2; 266/648] START criterion=gini, max_depth=16, max_features=auto, min_samples_leaf=4, min_samples_split=2, splitter=random\n",
          "output_type": "stream"
        },
        {
          "name": "stderr",
          "text": "/lib/python3.11/site-packages/sklearn/tree/_classes.py:269: FutureWarning: `max_features='auto'` has been deprecated in 1.1 and will be removed in 1.3. To keep the past behaviour, explicitly set `max_features='sqrt'`.\n  warnings.warn(\n",
          "output_type": "stream"
        },
        {
          "name": "stdout",
          "text": "[CV 1/2; 266/648] END criterion=gini, max_depth=16, max_features=auto, min_samples_leaf=4, min_samples_split=2, splitter=random;, score=0.667 total time=   0.0s\n[CV 2/2; 266/648] START criterion=gini, max_depth=16, max_features=auto, min_samples_leaf=4, min_samples_split=2, splitter=random\n",
          "output_type": "stream"
        },
        {
          "name": "stderr",
          "text": "/lib/python3.11/site-packages/sklearn/tree/_classes.py:269: FutureWarning: `max_features='auto'` has been deprecated in 1.1 and will be removed in 1.3. To keep the past behaviour, explicitly set `max_features='sqrt'`.\n  warnings.warn(\n",
          "output_type": "stream"
        },
        {
          "name": "stdout",
          "text": "[CV 2/2; 266/648] END criterion=gini, max_depth=16, max_features=auto, min_samples_leaf=4, min_samples_split=2, splitter=random;, score=0.667 total time=   0.0s\n[CV 1/2; 267/648] START criterion=gini, max_depth=16, max_features=auto, min_samples_leaf=4, min_samples_split=5, splitter=best\n",
          "output_type": "stream"
        },
        {
          "name": "stderr",
          "text": "/lib/python3.11/site-packages/sklearn/tree/_classes.py:269: FutureWarning: `max_features='auto'` has been deprecated in 1.1 and will be removed in 1.3. To keep the past behaviour, explicitly set `max_features='sqrt'`.\n  warnings.warn(\n",
          "output_type": "stream"
        },
        {
          "name": "stdout",
          "text": "[CV 1/2; 267/648] END criterion=gini, max_depth=16, max_features=auto, min_samples_leaf=4, min_samples_split=5, splitter=best;, score=0.667 total time=   0.0s\n[CV 2/2; 267/648] START criterion=gini, max_depth=16, max_features=auto, min_samples_leaf=4, min_samples_split=5, splitter=best\n",
          "output_type": "stream"
        },
        {
          "name": "stderr",
          "text": "/lib/python3.11/site-packages/sklearn/tree/_classes.py:269: FutureWarning: `max_features='auto'` has been deprecated in 1.1 and will be removed in 1.3. To keep the past behaviour, explicitly set `max_features='sqrt'`.\n  warnings.warn(\n",
          "output_type": "stream"
        },
        {
          "name": "stdout",
          "text": "[CV 2/2; 267/648] END criterion=gini, max_depth=16, max_features=auto, min_samples_leaf=4, min_samples_split=5, splitter=best;, score=0.861 total time=   0.0s\n[CV 1/2; 268/648] START criterion=gini, max_depth=16, max_features=auto, min_samples_leaf=4, min_samples_split=5, splitter=random\n",
          "output_type": "stream"
        },
        {
          "name": "stderr",
          "text": "/lib/python3.11/site-packages/sklearn/tree/_classes.py:269: FutureWarning: `max_features='auto'` has been deprecated in 1.1 and will be removed in 1.3. To keep the past behaviour, explicitly set `max_features='sqrt'`.\n  warnings.warn(\n",
          "output_type": "stream"
        },
        {
          "name": "stdout",
          "text": "[CV 1/2; 268/648] END criterion=gini, max_depth=16, max_features=auto, min_samples_leaf=4, min_samples_split=5, splitter=random;, score=0.556 total time=   0.0s\n[CV 2/2; 268/648] START criterion=gini, max_depth=16, max_features=auto, min_samples_leaf=4, min_samples_split=5, splitter=random\n",
          "output_type": "stream"
        },
        {
          "name": "stderr",
          "text": "/lib/python3.11/site-packages/sklearn/tree/_classes.py:269: FutureWarning: `max_features='auto'` has been deprecated in 1.1 and will be removed in 1.3. To keep the past behaviour, explicitly set `max_features='sqrt'`.\n  warnings.warn(\n",
          "output_type": "stream"
        },
        {
          "name": "stdout",
          "text": "[CV 2/2; 268/648] END criterion=gini, max_depth=16, max_features=auto, min_samples_leaf=4, min_samples_split=5, splitter=random;, score=0.667 total time=   0.0s\n[CV 1/2; 269/648] START criterion=gini, max_depth=16, max_features=auto, min_samples_leaf=4, min_samples_split=10, splitter=best\n",
          "output_type": "stream"
        },
        {
          "name": "stderr",
          "text": "/lib/python3.11/site-packages/sklearn/tree/_classes.py:269: FutureWarning: `max_features='auto'` has been deprecated in 1.1 and will be removed in 1.3. To keep the past behaviour, explicitly set `max_features='sqrt'`.\n  warnings.warn(\n",
          "output_type": "stream"
        },
        {
          "name": "stdout",
          "text": "[CV 1/2; 269/648] END criterion=gini, max_depth=16, max_features=auto, min_samples_leaf=4, min_samples_split=10, splitter=best;, score=0.861 total time=   0.0s\n[CV 2/2; 269/648] START criterion=gini, max_depth=16, max_features=auto, min_samples_leaf=4, min_samples_split=10, splitter=best\n",
          "output_type": "stream"
        },
        {
          "name": "stderr",
          "text": "/lib/python3.11/site-packages/sklearn/tree/_classes.py:269: FutureWarning: `max_features='auto'` has been deprecated in 1.1 and will be removed in 1.3. To keep the past behaviour, explicitly set `max_features='sqrt'`.\n  warnings.warn(\n",
          "output_type": "stream"
        },
        {
          "name": "stdout",
          "text": "[CV 2/2; 269/648] END criterion=gini, max_depth=16, max_features=auto, min_samples_leaf=4, min_samples_split=10, splitter=best;, score=0.611 total time=   0.0s\n[CV 1/2; 270/648] START criterion=gini, max_depth=16, max_features=auto, min_samples_leaf=4, min_samples_split=10, splitter=random\n",
          "output_type": "stream"
        },
        {
          "name": "stderr",
          "text": "/lib/python3.11/site-packages/sklearn/tree/_classes.py:269: FutureWarning: `max_features='auto'` has been deprecated in 1.1 and will be removed in 1.3. To keep the past behaviour, explicitly set `max_features='sqrt'`.\n  warnings.warn(\n",
          "output_type": "stream"
        },
        {
          "name": "stdout",
          "text": "[CV 1/2; 270/648] END criterion=gini, max_depth=16, max_features=auto, min_samples_leaf=4, min_samples_split=10, splitter=random;, score=0.861 total time=   0.0s\n[CV 2/2; 270/648] START criterion=gini, max_depth=16, max_features=auto, min_samples_leaf=4, min_samples_split=10, splitter=random\n",
          "output_type": "stream"
        },
        {
          "name": "stderr",
          "text": "/lib/python3.11/site-packages/sklearn/tree/_classes.py:269: FutureWarning: `max_features='auto'` has been deprecated in 1.1 and will be removed in 1.3. To keep the past behaviour, explicitly set `max_features='sqrt'`.\n  warnings.warn(\n",
          "output_type": "stream"
        },
        {
          "name": "stdout",
          "text": "[CV 2/2; 270/648] END criterion=gini, max_depth=16, max_features=auto, min_samples_leaf=4, min_samples_split=10, splitter=random;, score=0.778 total time=   0.0s\n[CV 1/2; 271/648] START criterion=gini, max_depth=16, max_features=sqrt, min_samples_leaf=1, min_samples_split=2, splitter=best\n[CV 1/2; 271/648] END criterion=gini, max_depth=16, max_features=sqrt, min_samples_leaf=1, min_samples_split=2, splitter=best;, score=0.833 total time=   0.0s\n[CV 2/2; 271/648] START criterion=gini, max_depth=16, max_features=sqrt, min_samples_leaf=1, min_samples_split=2, splitter=best\n[CV 2/2; 271/648] END criterion=gini, max_depth=16, max_features=sqrt, min_samples_leaf=1, min_samples_split=2, splitter=best;, score=0.778 total time=   0.0s\n[CV 1/2; 272/648] START criterion=gini, max_depth=16, max_features=sqrt, min_samples_leaf=1, min_samples_split=2, splitter=random\n[CV 1/2; 272/648] END criterion=gini, max_depth=16, max_features=sqrt, min_samples_leaf=1, min_samples_split=2, splitter=random;, score=0.750 total time=   0.0s\n[CV 2/2; 272/648] START criterion=gini, max_depth=16, max_features=sqrt, min_samples_leaf=1, min_samples_split=2, splitter=random\n[CV 2/2; 272/648] END criterion=gini, max_depth=16, max_features=sqrt, min_samples_leaf=1, min_samples_split=2, splitter=random;, score=0.694 total time=   0.0s\n[CV 1/2; 273/648] START criterion=gini, max_depth=16, max_features=sqrt, min_samples_leaf=1, min_samples_split=5, splitter=best\n[CV 1/2; 273/648] END criterion=gini, max_depth=16, max_features=sqrt, min_samples_leaf=1, min_samples_split=5, splitter=best;, score=0.778 total time=   0.0s\n[CV 2/2; 273/648] START criterion=gini, max_depth=16, max_features=sqrt, min_samples_leaf=1, min_samples_split=5, splitter=best\n[CV 2/2; 273/648] END criterion=gini, max_depth=16, max_features=sqrt, min_samples_leaf=1, min_samples_split=5, splitter=best;, score=0.639 total time=   0.0s\n[CV 1/2; 274/648] START criterion=gini, max_depth=16, max_features=sqrt, min_samples_leaf=1, min_samples_split=5, splitter=random\n[CV 1/2; 274/648] END criterion=gini, max_depth=16, max_features=sqrt, min_samples_leaf=1, min_samples_split=5, splitter=random;, score=0.611 total time=   0.0s\n[CV 2/2; 274/648] START criterion=gini, max_depth=16, max_features=sqrt, min_samples_leaf=1, min_samples_split=5, splitter=random\n[CV 2/2; 274/648] END criterion=gini, max_depth=16, max_features=sqrt, min_samples_leaf=1, min_samples_split=5, splitter=random;, score=0.806 total time=   0.0s\n[CV 1/2; 275/648] START criterion=gini, max_depth=16, max_features=sqrt, min_samples_leaf=1, min_samples_split=10, splitter=best\n[CV 1/2; 275/648] END criterion=gini, max_depth=16, max_features=sqrt, min_samples_leaf=1, min_samples_split=10, splitter=best;, score=0.750 total time=   0.0s\n[CV 2/2; 275/648] START criterion=gini, max_depth=16, max_features=sqrt, min_samples_leaf=1, min_samples_split=10, splitter=best\n[CV 2/2; 275/648] END criterion=gini, max_depth=16, max_features=sqrt, min_samples_leaf=1, min_samples_split=10, splitter=best;, score=0.528 total time=   0.0s\n[CV 1/2; 276/648] START criterion=gini, max_depth=16, max_features=sqrt, min_samples_leaf=1, min_samples_split=10, splitter=random\n[CV 1/2; 276/648] END criterion=gini, max_depth=16, max_features=sqrt, min_samples_leaf=1, min_samples_split=10, splitter=random;, score=0.806 total time=   0.0s\n[CV 2/2; 276/648] START criterion=gini, max_depth=16, max_features=sqrt, min_samples_leaf=1, min_samples_split=10, splitter=random\n[CV 2/2; 276/648] END criterion=gini, max_depth=16, max_features=sqrt, min_samples_leaf=1, min_samples_split=10, splitter=random;, score=0.750 total time=   0.0s\n[CV 1/2; 277/648] START criterion=gini, max_depth=16, max_features=sqrt, min_samples_leaf=2, min_samples_split=2, splitter=best\n[CV 1/2; 277/648] END criterion=gini, max_depth=16, max_features=sqrt, min_samples_leaf=2, min_samples_split=2, splitter=best;, score=0.611 total time=   0.0s\n[CV 2/2; 277/648] START criterion=gini, max_depth=16, max_features=sqrt, min_samples_leaf=2, min_samples_split=2, splitter=best\n[CV 2/2; 277/648] END criterion=gini, max_depth=16, max_features=sqrt, min_samples_leaf=2, min_samples_split=2, splitter=best;, score=0.556 total time=   0.0s\n[CV 1/2; 278/648] START criterion=gini, max_depth=16, max_features=sqrt, min_samples_leaf=2, min_samples_split=2, splitter=random\n[CV 1/2; 278/648] END criterion=gini, max_depth=16, max_features=sqrt, min_samples_leaf=2, min_samples_split=2, splitter=random;, score=0.806 total time=   0.0s\n[CV 2/2; 278/648] START criterion=gini, max_depth=16, max_features=sqrt, min_samples_leaf=2, min_samples_split=2, splitter=random\n[CV 2/2; 278/648] END criterion=gini, max_depth=16, max_features=sqrt, min_samples_leaf=2, min_samples_split=2, splitter=random;, score=0.806 total time=   0.0s\n[CV 1/2; 279/648] START criterion=gini, max_depth=16, max_features=sqrt, min_samples_leaf=2, min_samples_split=5, splitter=best\n[CV 1/2; 279/648] END criterion=gini, max_depth=16, max_features=sqrt, min_samples_leaf=2, min_samples_split=5, splitter=best;, score=0.861 total time=   0.0s\n[CV 2/2; 279/648] START criterion=gini, max_depth=16, max_features=sqrt, min_samples_leaf=2, min_samples_split=5, splitter=best\n[CV 2/2; 279/648] END criterion=gini, max_depth=16, max_features=sqrt, min_samples_leaf=2, min_samples_split=5, splitter=best;, score=0.583 total time=   0.0s\n[CV 1/2; 280/648] START criterion=gini, max_depth=16, max_features=sqrt, min_samples_leaf=2, min_samples_split=5, splitter=random\n[CV 1/2; 280/648] END criterion=gini, max_depth=16, max_features=sqrt, min_samples_leaf=2, min_samples_split=5, splitter=random;, score=0.667 total time=   0.0s\n[CV 2/2; 280/648] START criterion=gini, max_depth=16, max_features=sqrt, min_samples_leaf=2, min_samples_split=5, splitter=random\n[CV 2/2; 280/648] END criterion=gini, max_depth=16, max_features=sqrt, min_samples_leaf=2, min_samples_split=5, splitter=random;, score=0.778 total time=   0.0s\n[CV 1/2; 281/648] START criterion=gini, max_depth=16, max_features=sqrt, min_samples_leaf=2, min_samples_split=10, splitter=best\n[CV 1/2; 281/648] END criterion=gini, max_depth=16, max_features=sqrt, min_samples_leaf=2, min_samples_split=10, splitter=best;, score=0.833 total time=   0.0s\n[CV 2/2; 281/648] START criterion=gini, max_depth=16, max_features=sqrt, min_samples_leaf=2, min_samples_split=10, splitter=best\n[CV 2/2; 281/648] END criterion=gini, max_depth=16, max_features=sqrt, min_samples_leaf=2, min_samples_split=10, splitter=best;, score=0.750 total time=   0.0s\n[CV 1/2; 282/648] START criterion=gini, max_depth=16, max_features=sqrt, min_samples_leaf=2, min_samples_split=10, splitter=random\n[CV 1/2; 282/648] END criterion=gini, max_depth=16, max_features=sqrt, min_samples_leaf=2, min_samples_split=10, splitter=random;, score=0.861 total time=   0.0s\n[CV 2/2; 282/648] START criterion=gini, max_depth=16, max_features=sqrt, min_samples_leaf=2, min_samples_split=10, splitter=random\n[CV 2/2; 282/648] END criterion=gini, max_depth=16, max_features=sqrt, min_samples_leaf=2, min_samples_split=10, splitter=random;, score=0.667 total time=   0.0s\n[CV 1/2; 283/648] START criterion=gini, max_depth=16, max_features=sqrt, min_samples_leaf=4, min_samples_split=2, splitter=best\n[CV 1/2; 283/648] END criterion=gini, max_depth=16, max_features=sqrt, min_samples_leaf=4, min_samples_split=2, splitter=best;, score=0.694 total time=   0.0s\n[CV 2/2; 283/648] START criterion=gini, max_depth=16, max_features=sqrt, min_samples_leaf=4, min_samples_split=2, splitter=best\n[CV 2/2; 283/648] END criterion=gini, max_depth=16, max_features=sqrt, min_samples_leaf=4, min_samples_split=2, splitter=best;, score=0.694 total time=   0.0s\n[CV 1/2; 284/648] START criterion=gini, max_depth=16, max_features=sqrt, min_samples_leaf=4, min_samples_split=2, splitter=random\n[CV 1/2; 284/648] END criterion=gini, max_depth=16, max_features=sqrt, min_samples_leaf=4, min_samples_split=2, splitter=random;, score=0.722 total time=   0.0s\n[CV 2/2; 284/648] START criterion=gini, max_depth=16, max_features=sqrt, min_samples_leaf=4, min_samples_split=2, splitter=random\n[CV 2/2; 284/648] END criterion=gini, max_depth=16, max_features=sqrt, min_samples_leaf=4, min_samples_split=2, splitter=random;, score=0.750 total time=   0.0s\n[CV 1/2; 285/648] START criterion=gini, max_depth=16, max_features=sqrt, min_samples_leaf=4, min_samples_split=5, splitter=best\n[CV 1/2; 285/648] END criterion=gini, max_depth=16, max_features=sqrt, min_samples_leaf=4, min_samples_split=5, splitter=best;, score=0.667 total time=   0.0s\n[CV 2/2; 285/648] START criterion=gini, max_depth=16, max_features=sqrt, min_samples_leaf=4, min_samples_split=5, splitter=best\n[CV 2/2; 285/648] END criterion=gini, max_depth=16, max_features=sqrt, min_samples_leaf=4, min_samples_split=5, splitter=best;, score=0.667 total time=   0.0s\n[CV 1/2; 286/648] START criterion=gini, max_depth=16, max_features=sqrt, min_samples_leaf=4, min_samples_split=5, splitter=random\n[CV 1/2; 286/648] END criterion=gini, max_depth=16, max_features=sqrt, min_samples_leaf=4, min_samples_split=5, splitter=random;, score=0.667 total time=   0.0s\n[CV 2/2; 286/648] START criterion=gini, max_depth=16, max_features=sqrt, min_samples_leaf=4, min_samples_split=5, splitter=random\n[CV 2/2; 286/648] END criterion=gini, max_depth=16, max_features=sqrt, min_samples_leaf=4, min_samples_split=5, splitter=random;, score=0.861 total time=   0.0s\n[CV 1/2; 287/648] START criterion=gini, max_depth=16, max_features=sqrt, min_samples_leaf=4, min_samples_split=10, splitter=best\n[CV 1/2; 287/648] END criterion=gini, max_depth=16, max_features=sqrt, min_samples_leaf=4, min_samples_split=10, splitter=best;, score=0.833 total time=   0.0s\n[CV 2/2; 287/648] START criterion=gini, max_depth=16, max_features=sqrt, min_samples_leaf=4, min_samples_split=10, splitter=best\n[CV 2/2; 287/648] END criterion=gini, max_depth=16, max_features=sqrt, min_samples_leaf=4, min_samples_split=10, splitter=best;, score=0.528 total time=   0.0s\n[CV 1/2; 288/648] START criterion=gini, max_depth=16, max_features=sqrt, min_samples_leaf=4, min_samples_split=10, splitter=random\n[CV 1/2; 288/648] END criterion=gini, max_depth=16, max_features=sqrt, min_samples_leaf=4, min_samples_split=10, splitter=random;, score=0.833 total time=   0.0s\n[CV 2/2; 288/648] START criterion=gini, max_depth=16, max_features=sqrt, min_samples_leaf=4, min_samples_split=10, splitter=random\n[CV 2/2; 288/648] END criterion=gini, max_depth=16, max_features=sqrt, min_samples_leaf=4, min_samples_split=10, splitter=random;, score=0.861 total time=   0.0s\n[CV 1/2; 289/648] START criterion=gini, max_depth=18, max_features=auto, min_samples_leaf=1, min_samples_split=2, splitter=best\n",
          "output_type": "stream"
        },
        {
          "name": "stderr",
          "text": "/lib/python3.11/site-packages/sklearn/tree/_classes.py:269: FutureWarning: `max_features='auto'` has been deprecated in 1.1 and will be removed in 1.3. To keep the past behaviour, explicitly set `max_features='sqrt'`.\n  warnings.warn(\n",
          "output_type": "stream"
        },
        {
          "name": "stdout",
          "text": "[CV 1/2; 289/648] END criterion=gini, max_depth=18, max_features=auto, min_samples_leaf=1, min_samples_split=2, splitter=best;, score=0.806 total time=   0.0s\n[CV 2/2; 289/648] START criterion=gini, max_depth=18, max_features=auto, min_samples_leaf=1, min_samples_split=2, splitter=best\n",
          "output_type": "stream"
        },
        {
          "name": "stderr",
          "text": "/lib/python3.11/site-packages/sklearn/tree/_classes.py:269: FutureWarning: `max_features='auto'` has been deprecated in 1.1 and will be removed in 1.3. To keep the past behaviour, explicitly set `max_features='sqrt'`.\n  warnings.warn(\n",
          "output_type": "stream"
        },
        {
          "name": "stdout",
          "text": "[CV 2/2; 289/648] END criterion=gini, max_depth=18, max_features=auto, min_samples_leaf=1, min_samples_split=2, splitter=best;, score=0.778 total time=   0.0s\n[CV 1/2; 290/648] START criterion=gini, max_depth=18, max_features=auto, min_samples_leaf=1, min_samples_split=2, splitter=random\n",
          "output_type": "stream"
        },
        {
          "name": "stderr",
          "text": "/lib/python3.11/site-packages/sklearn/tree/_classes.py:269: FutureWarning: `max_features='auto'` has been deprecated in 1.1 and will be removed in 1.3. To keep the past behaviour, explicitly set `max_features='sqrt'`.\n  warnings.warn(\n",
          "output_type": "stream"
        },
        {
          "name": "stdout",
          "text": "[CV 1/2; 290/648] END criterion=gini, max_depth=18, max_features=auto, min_samples_leaf=1, min_samples_split=2, splitter=random;, score=0.694 total time=   0.0s\n[CV 2/2; 290/648] START criterion=gini, max_depth=18, max_features=auto, min_samples_leaf=1, min_samples_split=2, splitter=random\n",
          "output_type": "stream"
        },
        {
          "name": "stderr",
          "text": "/lib/python3.11/site-packages/sklearn/tree/_classes.py:269: FutureWarning: `max_features='auto'` has been deprecated in 1.1 and will be removed in 1.3. To keep the past behaviour, explicitly set `max_features='sqrt'`.\n  warnings.warn(\n",
          "output_type": "stream"
        },
        {
          "name": "stdout",
          "text": "[CV 2/2; 290/648] END criterion=gini, max_depth=18, max_features=auto, min_samples_leaf=1, min_samples_split=2, splitter=random;, score=0.667 total time=   0.0s\n[CV 1/2; 291/648] START criterion=gini, max_depth=18, max_features=auto, min_samples_leaf=1, min_samples_split=5, splitter=best\n",
          "output_type": "stream"
        },
        {
          "name": "stderr",
          "text": "/lib/python3.11/site-packages/sklearn/tree/_classes.py:269: FutureWarning: `max_features='auto'` has been deprecated in 1.1 and will be removed in 1.3. To keep the past behaviour, explicitly set `max_features='sqrt'`.\n  warnings.warn(\n",
          "output_type": "stream"
        },
        {
          "name": "stdout",
          "text": "[CV 1/2; 291/648] END criterion=gini, max_depth=18, max_features=auto, min_samples_leaf=1, min_samples_split=5, splitter=best;, score=0.833 total time=   0.0s\n[CV 2/2; 291/648] START criterion=gini, max_depth=18, max_features=auto, min_samples_leaf=1, min_samples_split=5, splitter=best\n",
          "output_type": "stream"
        },
        {
          "name": "stderr",
          "text": "/lib/python3.11/site-packages/sklearn/tree/_classes.py:269: FutureWarning: `max_features='auto'` has been deprecated in 1.1 and will be removed in 1.3. To keep the past behaviour, explicitly set `max_features='sqrt'`.\n  warnings.warn(\n",
          "output_type": "stream"
        },
        {
          "name": "stdout",
          "text": "[CV 2/2; 291/648] END criterion=gini, max_depth=18, max_features=auto, min_samples_leaf=1, min_samples_split=5, splitter=best;, score=0.722 total time=   0.0s\n[CV 1/2; 292/648] START criterion=gini, max_depth=18, max_features=auto, min_samples_leaf=1, min_samples_split=5, splitter=random\n",
          "output_type": "stream"
        },
        {
          "name": "stderr",
          "text": "/lib/python3.11/site-packages/sklearn/tree/_classes.py:269: FutureWarning: `max_features='auto'` has been deprecated in 1.1 and will be removed in 1.3. To keep the past behaviour, explicitly set `max_features='sqrt'`.\n  warnings.warn(\n",
          "output_type": "stream"
        },
        {
          "name": "stdout",
          "text": "[CV 1/2; 292/648] END criterion=gini, max_depth=18, max_features=auto, min_samples_leaf=1, min_samples_split=5, splitter=random;, score=0.611 total time=   0.0s\n[CV 2/2; 292/648] START criterion=gini, max_depth=18, max_features=auto, min_samples_leaf=1, min_samples_split=5, splitter=random\n",
          "output_type": "stream"
        },
        {
          "name": "stderr",
          "text": "/lib/python3.11/site-packages/sklearn/tree/_classes.py:269: FutureWarning: `max_features='auto'` has been deprecated in 1.1 and will be removed in 1.3. To keep the past behaviour, explicitly set `max_features='sqrt'`.\n  warnings.warn(\n",
          "output_type": "stream"
        },
        {
          "name": "stdout",
          "text": "[CV 2/2; 292/648] END criterion=gini, max_depth=18, max_features=auto, min_samples_leaf=1, min_samples_split=5, splitter=random;, score=0.667 total time=   0.0s\n[CV 1/2; 293/648] START criterion=gini, max_depth=18, max_features=auto, min_samples_leaf=1, min_samples_split=10, splitter=best\n",
          "output_type": "stream"
        },
        {
          "name": "stderr",
          "text": "/lib/python3.11/site-packages/sklearn/tree/_classes.py:269: FutureWarning: `max_features='auto'` has been deprecated in 1.1 and will be removed in 1.3. To keep the past behaviour, explicitly set `max_features='sqrt'`.\n  warnings.warn(\n",
          "output_type": "stream"
        },
        {
          "name": "stdout",
          "text": "[CV 1/2; 293/648] END criterion=gini, max_depth=18, max_features=auto, min_samples_leaf=1, min_samples_split=10, splitter=best;, score=0.778 total time=   0.0s\n[CV 2/2; 293/648] START criterion=gini, max_depth=18, max_features=auto, min_samples_leaf=1, min_samples_split=10, splitter=best\n",
          "output_type": "stream"
        },
        {
          "name": "stderr",
          "text": "/lib/python3.11/site-packages/sklearn/tree/_classes.py:269: FutureWarning: `max_features='auto'` has been deprecated in 1.1 and will be removed in 1.3. To keep the past behaviour, explicitly set `max_features='sqrt'`.\n  warnings.warn(\n",
          "output_type": "stream"
        },
        {
          "name": "stdout",
          "text": "[CV 2/2; 293/648] END criterion=gini, max_depth=18, max_features=auto, min_samples_leaf=1, min_samples_split=10, splitter=best;, score=0.639 total time=   0.0s\n[CV 1/2; 294/648] START criterion=gini, max_depth=18, max_features=auto, min_samples_leaf=1, min_samples_split=10, splitter=random\n",
          "output_type": "stream"
        },
        {
          "name": "stderr",
          "text": "/lib/python3.11/site-packages/sklearn/tree/_classes.py:269: FutureWarning: `max_features='auto'` has been deprecated in 1.1 and will be removed in 1.3. To keep the past behaviour, explicitly set `max_features='sqrt'`.\n  warnings.warn(\n",
          "output_type": "stream"
        },
        {
          "name": "stdout",
          "text": "[CV 1/2; 294/648] END criterion=gini, max_depth=18, max_features=auto, min_samples_leaf=1, min_samples_split=10, splitter=random;, score=0.806 total time=   0.0s\n[CV 2/2; 294/648] START criterion=gini, max_depth=18, max_features=auto, min_samples_leaf=1, min_samples_split=10, splitter=random\n",
          "output_type": "stream"
        },
        {
          "name": "stderr",
          "text": "/lib/python3.11/site-packages/sklearn/tree/_classes.py:269: FutureWarning: `max_features='auto'` has been deprecated in 1.1 and will be removed in 1.3. To keep the past behaviour, explicitly set `max_features='sqrt'`.\n  warnings.warn(\n",
          "output_type": "stream"
        },
        {
          "name": "stdout",
          "text": "[CV 2/2; 294/648] END criterion=gini, max_depth=18, max_features=auto, min_samples_leaf=1, min_samples_split=10, splitter=random;, score=0.806 total time=   0.0s\n[CV 1/2; 295/648] START criterion=gini, max_depth=18, max_features=auto, min_samples_leaf=2, min_samples_split=2, splitter=best\n",
          "output_type": "stream"
        },
        {
          "name": "stderr",
          "text": "/lib/python3.11/site-packages/sklearn/tree/_classes.py:269: FutureWarning: `max_features='auto'` has been deprecated in 1.1 and will be removed in 1.3. To keep the past behaviour, explicitly set `max_features='sqrt'`.\n  warnings.warn(\n",
          "output_type": "stream"
        },
        {
          "name": "stdout",
          "text": "[CV 1/2; 295/648] END criterion=gini, max_depth=18, max_features=auto, min_samples_leaf=2, min_samples_split=2, splitter=best;, score=0.806 total time=   0.0s\n[CV 2/2; 295/648] START criterion=gini, max_depth=18, max_features=auto, min_samples_leaf=2, min_samples_split=2, splitter=best\n",
          "output_type": "stream"
        },
        {
          "name": "stderr",
          "text": "/lib/python3.11/site-packages/sklearn/tree/_classes.py:269: FutureWarning: `max_features='auto'` has been deprecated in 1.1 and will be removed in 1.3. To keep the past behaviour, explicitly set `max_features='sqrt'`.\n  warnings.warn(\n",
          "output_type": "stream"
        },
        {
          "name": "stdout",
          "text": "[CV 2/2; 295/648] END criterion=gini, max_depth=18, max_features=auto, min_samples_leaf=2, min_samples_split=2, splitter=best;, score=0.667 total time=   0.0s\n[CV 1/2; 296/648] START criterion=gini, max_depth=18, max_features=auto, min_samples_leaf=2, min_samples_split=2, splitter=random\n",
          "output_type": "stream"
        },
        {
          "name": "stderr",
          "text": "/lib/python3.11/site-packages/sklearn/tree/_classes.py:269: FutureWarning: `max_features='auto'` has been deprecated in 1.1 and will be removed in 1.3. To keep the past behaviour, explicitly set `max_features='sqrt'`.\n  warnings.warn(\n",
          "output_type": "stream"
        },
        {
          "name": "stdout",
          "text": "[CV 1/2; 296/648] END criterion=gini, max_depth=18, max_features=auto, min_samples_leaf=2, min_samples_split=2, splitter=random;, score=0.667 total time=   0.0s\n[CV 2/2; 296/648] START criterion=gini, max_depth=18, max_features=auto, min_samples_leaf=2, min_samples_split=2, splitter=random\n",
          "output_type": "stream"
        },
        {
          "name": "stderr",
          "text": "/lib/python3.11/site-packages/sklearn/tree/_classes.py:269: FutureWarning: `max_features='auto'` has been deprecated in 1.1 and will be removed in 1.3. To keep the past behaviour, explicitly set `max_features='sqrt'`.\n  warnings.warn(\n",
          "output_type": "stream"
        },
        {
          "name": "stdout",
          "text": "[CV 2/2; 296/648] END criterion=gini, max_depth=18, max_features=auto, min_samples_leaf=2, min_samples_split=2, splitter=random;, score=0.861 total time=   0.0s\n[CV 1/2; 297/648] START criterion=gini, max_depth=18, max_features=auto, min_samples_leaf=2, min_samples_split=5, splitter=best\n",
          "output_type": "stream"
        },
        {
          "name": "stderr",
          "text": "/lib/python3.11/site-packages/sklearn/tree/_classes.py:269: FutureWarning: `max_features='auto'` has been deprecated in 1.1 and will be removed in 1.3. To keep the past behaviour, explicitly set `max_features='sqrt'`.\n  warnings.warn(\n",
          "output_type": "stream"
        },
        {
          "name": "stdout",
          "text": "[CV 1/2; 297/648] END criterion=gini, max_depth=18, max_features=auto, min_samples_leaf=2, min_samples_split=5, splitter=best;, score=0.806 total time=   0.0s\n[CV 2/2; 297/648] START criterion=gini, max_depth=18, max_features=auto, min_samples_leaf=2, min_samples_split=5, splitter=best\n",
          "output_type": "stream"
        },
        {
          "name": "stderr",
          "text": "/lib/python3.11/site-packages/sklearn/tree/_classes.py:269: FutureWarning: `max_features='auto'` has been deprecated in 1.1 and will be removed in 1.3. To keep the past behaviour, explicitly set `max_features='sqrt'`.\n  warnings.warn(\n",
          "output_type": "stream"
        },
        {
          "name": "stdout",
          "text": "[CV 2/2; 297/648] END criterion=gini, max_depth=18, max_features=auto, min_samples_leaf=2, min_samples_split=5, splitter=best;, score=0.444 total time=   0.0s\n[CV 1/2; 298/648] START criterion=gini, max_depth=18, max_features=auto, min_samples_leaf=2, min_samples_split=5, splitter=random\n",
          "output_type": "stream"
        },
        {
          "name": "stderr",
          "text": "/lib/python3.11/site-packages/sklearn/tree/_classes.py:269: FutureWarning: `max_features='auto'` has been deprecated in 1.1 and will be removed in 1.3. To keep the past behaviour, explicitly set `max_features='sqrt'`.\n  warnings.warn(\n",
          "output_type": "stream"
        },
        {
          "name": "stdout",
          "text": "[CV 1/2; 298/648] END criterion=gini, max_depth=18, max_features=auto, min_samples_leaf=2, min_samples_split=5, splitter=random;, score=0.806 total time=   0.0s\n[CV 2/2; 298/648] START criterion=gini, max_depth=18, max_features=auto, min_samples_leaf=2, min_samples_split=5, splitter=random\n",
          "output_type": "stream"
        },
        {
          "name": "stderr",
          "text": "/lib/python3.11/site-packages/sklearn/tree/_classes.py:269: FutureWarning: `max_features='auto'` has been deprecated in 1.1 and will be removed in 1.3. To keep the past behaviour, explicitly set `max_features='sqrt'`.\n  warnings.warn(\n",
          "output_type": "stream"
        },
        {
          "name": "stdout",
          "text": "[CV 2/2; 298/648] END criterion=gini, max_depth=18, max_features=auto, min_samples_leaf=2, min_samples_split=5, splitter=random;, score=0.389 total time=   0.0s\n[CV 1/2; 299/648] START criterion=gini, max_depth=18, max_features=auto, min_samples_leaf=2, min_samples_split=10, splitter=best\n",
          "output_type": "stream"
        },
        {
          "name": "stderr",
          "text": "/lib/python3.11/site-packages/sklearn/tree/_classes.py:269: FutureWarning: `max_features='auto'` has been deprecated in 1.1 and will be removed in 1.3. To keep the past behaviour, explicitly set `max_features='sqrt'`.\n  warnings.warn(\n",
          "output_type": "stream"
        },
        {
          "name": "stdout",
          "text": "[CV 1/2; 299/648] END criterion=gini, max_depth=18, max_features=auto, min_samples_leaf=2, min_samples_split=10, splitter=best;, score=0.833 total time=   0.0s\n[CV 2/2; 299/648] START criterion=gini, max_depth=18, max_features=auto, min_samples_leaf=2, min_samples_split=10, splitter=best\n",
          "output_type": "stream"
        },
        {
          "name": "stderr",
          "text": "/lib/python3.11/site-packages/sklearn/tree/_classes.py:269: FutureWarning: `max_features='auto'` has been deprecated in 1.1 and will be removed in 1.3. To keep the past behaviour, explicitly set `max_features='sqrt'`.\n  warnings.warn(\n",
          "output_type": "stream"
        },
        {
          "name": "stdout",
          "text": "[CV 2/2; 299/648] END criterion=gini, max_depth=18, max_features=auto, min_samples_leaf=2, min_samples_split=10, splitter=best;, score=0.833 total time=   0.0s\n[CV 1/2; 300/648] START criterion=gini, max_depth=18, max_features=auto, min_samples_leaf=2, min_samples_split=10, splitter=random\n",
          "output_type": "stream"
        },
        {
          "name": "stderr",
          "text": "/lib/python3.11/site-packages/sklearn/tree/_classes.py:269: FutureWarning: `max_features='auto'` has been deprecated in 1.1 and will be removed in 1.3. To keep the past behaviour, explicitly set `max_features='sqrt'`.\n  warnings.warn(\n",
          "output_type": "stream"
        },
        {
          "name": "stdout",
          "text": "[CV 1/2; 300/648] END criterion=gini, max_depth=18, max_features=auto, min_samples_leaf=2, min_samples_split=10, splitter=random;, score=0.833 total time=   0.0s\n[CV 2/2; 300/648] START criterion=gini, max_depth=18, max_features=auto, min_samples_leaf=2, min_samples_split=10, splitter=random\n",
          "output_type": "stream"
        },
        {
          "name": "stderr",
          "text": "/lib/python3.11/site-packages/sklearn/tree/_classes.py:269: FutureWarning: `max_features='auto'` has been deprecated in 1.1 and will be removed in 1.3. To keep the past behaviour, explicitly set `max_features='sqrt'`.\n  warnings.warn(\n",
          "output_type": "stream"
        },
        {
          "name": "stdout",
          "text": "[CV 2/2; 300/648] END criterion=gini, max_depth=18, max_features=auto, min_samples_leaf=2, min_samples_split=10, splitter=random;, score=0.667 total time=   0.0s\n[CV 1/2; 301/648] START criterion=gini, max_depth=18, max_features=auto, min_samples_leaf=4, min_samples_split=2, splitter=best\n",
          "output_type": "stream"
        },
        {
          "name": "stderr",
          "text": "/lib/python3.11/site-packages/sklearn/tree/_classes.py:269: FutureWarning: `max_features='auto'` has been deprecated in 1.1 and will be removed in 1.3. To keep the past behaviour, explicitly set `max_features='sqrt'`.\n  warnings.warn(\n",
          "output_type": "stream"
        },
        {
          "name": "stdout",
          "text": "[CV 1/2; 301/648] END criterion=gini, max_depth=18, max_features=auto, min_samples_leaf=4, min_samples_split=2, splitter=best;, score=0.556 total time=   0.0s\n[CV 2/2; 301/648] START criterion=gini, max_depth=18, max_features=auto, min_samples_leaf=4, min_samples_split=2, splitter=best\n",
          "output_type": "stream"
        },
        {
          "name": "stderr",
          "text": "/lib/python3.11/site-packages/sklearn/tree/_classes.py:269: FutureWarning: `max_features='auto'` has been deprecated in 1.1 and will be removed in 1.3. To keep the past behaviour, explicitly set `max_features='sqrt'`.\n  warnings.warn(\n",
          "output_type": "stream"
        },
        {
          "name": "stdout",
          "text": "[CV 2/2; 301/648] END criterion=gini, max_depth=18, max_features=auto, min_samples_leaf=4, min_samples_split=2, splitter=best;, score=0.694 total time=   0.0s\n[CV 1/2; 302/648] START criterion=gini, max_depth=18, max_features=auto, min_samples_leaf=4, min_samples_split=2, splitter=random\n",
          "output_type": "stream"
        },
        {
          "name": "stderr",
          "text": "/lib/python3.11/site-packages/sklearn/tree/_classes.py:269: FutureWarning: `max_features='auto'` has been deprecated in 1.1 and will be removed in 1.3. To keep the past behaviour, explicitly set `max_features='sqrt'`.\n  warnings.warn(\n",
          "output_type": "stream"
        },
        {
          "name": "stdout",
          "text": "[CV 1/2; 302/648] END criterion=gini, max_depth=18, max_features=auto, min_samples_leaf=4, min_samples_split=2, splitter=random;, score=0.833 total time=   0.0s\n[CV 2/2; 302/648] START criterion=gini, max_depth=18, max_features=auto, min_samples_leaf=4, min_samples_split=2, splitter=random\n",
          "output_type": "stream"
        },
        {
          "name": "stderr",
          "text": "/lib/python3.11/site-packages/sklearn/tree/_classes.py:269: FutureWarning: `max_features='auto'` has been deprecated in 1.1 and will be removed in 1.3. To keep the past behaviour, explicitly set `max_features='sqrt'`.\n  warnings.warn(\n",
          "output_type": "stream"
        },
        {
          "name": "stdout",
          "text": "[CV 2/2; 302/648] END criterion=gini, max_depth=18, max_features=auto, min_samples_leaf=4, min_samples_split=2, splitter=random;, score=0.778 total time=   0.0s\n[CV 1/2; 303/648] START criterion=gini, max_depth=18, max_features=auto, min_samples_leaf=4, min_samples_split=5, splitter=best\n",
          "output_type": "stream"
        },
        {
          "name": "stderr",
          "text": "/lib/python3.11/site-packages/sklearn/tree/_classes.py:269: FutureWarning: `max_features='auto'` has been deprecated in 1.1 and will be removed in 1.3. To keep the past behaviour, explicitly set `max_features='sqrt'`.\n  warnings.warn(\n",
          "output_type": "stream"
        },
        {
          "name": "stdout",
          "text": "[CV 1/2; 303/648] END criterion=gini, max_depth=18, max_features=auto, min_samples_leaf=4, min_samples_split=5, splitter=best;, score=0.694 total time=   0.0s\n[CV 2/2; 303/648] START criterion=gini, max_depth=18, max_features=auto, min_samples_leaf=4, min_samples_split=5, splitter=best\n",
          "output_type": "stream"
        },
        {
          "name": "stderr",
          "text": "/lib/python3.11/site-packages/sklearn/tree/_classes.py:269: FutureWarning: `max_features='auto'` has been deprecated in 1.1 and will be removed in 1.3. To keep the past behaviour, explicitly set `max_features='sqrt'`.\n  warnings.warn(\n",
          "output_type": "stream"
        },
        {
          "name": "stdout",
          "text": "[CV 2/2; 303/648] END criterion=gini, max_depth=18, max_features=auto, min_samples_leaf=4, min_samples_split=5, splitter=best;, score=0.722 total time=   0.0s\n[CV 1/2; 304/648] START criterion=gini, max_depth=18, max_features=auto, min_samples_leaf=4, min_samples_split=5, splitter=random\n",
          "output_type": "stream"
        },
        {
          "name": "stderr",
          "text": "/lib/python3.11/site-packages/sklearn/tree/_classes.py:269: FutureWarning: `max_features='auto'` has been deprecated in 1.1 and will be removed in 1.3. To keep the past behaviour, explicitly set `max_features='sqrt'`.\n  warnings.warn(\n",
          "output_type": "stream"
        },
        {
          "name": "stdout",
          "text": "[CV 1/2; 304/648] END criterion=gini, max_depth=18, max_features=auto, min_samples_leaf=4, min_samples_split=5, splitter=random;, score=0.861 total time=   0.0s\n[CV 2/2; 304/648] START criterion=gini, max_depth=18, max_features=auto, min_samples_leaf=4, min_samples_split=5, splitter=random\n",
          "output_type": "stream"
        },
        {
          "name": "stderr",
          "text": "/lib/python3.11/site-packages/sklearn/tree/_classes.py:269: FutureWarning: `max_features='auto'` has been deprecated in 1.1 and will be removed in 1.3. To keep the past behaviour, explicitly set `max_features='sqrt'`.\n  warnings.warn(\n",
          "output_type": "stream"
        },
        {
          "name": "stdout",
          "text": "[CV 2/2; 304/648] END criterion=gini, max_depth=18, max_features=auto, min_samples_leaf=4, min_samples_split=5, splitter=random;, score=0.556 total time=   0.0s\n[CV 1/2; 305/648] START criterion=gini, max_depth=18, max_features=auto, min_samples_leaf=4, min_samples_split=10, splitter=best\n",
          "output_type": "stream"
        },
        {
          "name": "stderr",
          "text": "/lib/python3.11/site-packages/sklearn/tree/_classes.py:269: FutureWarning: `max_features='auto'` has been deprecated in 1.1 and will be removed in 1.3. To keep the past behaviour, explicitly set `max_features='sqrt'`.\n  warnings.warn(\n",
          "output_type": "stream"
        },
        {
          "name": "stdout",
          "text": "[CV 1/2; 305/648] END criterion=gini, max_depth=18, max_features=auto, min_samples_leaf=4, min_samples_split=10, splitter=best;, score=0.833 total time=   0.0s\n[CV 2/2; 305/648] START criterion=gini, max_depth=18, max_features=auto, min_samples_leaf=4, min_samples_split=10, splitter=best\n",
          "output_type": "stream"
        },
        {
          "name": "stderr",
          "text": "/lib/python3.11/site-packages/sklearn/tree/_classes.py:269: FutureWarning: `max_features='auto'` has been deprecated in 1.1 and will be removed in 1.3. To keep the past behaviour, explicitly set `max_features='sqrt'`.\n  warnings.warn(\n",
          "output_type": "stream"
        },
        {
          "name": "stdout",
          "text": "[CV 2/2; 305/648] END criterion=gini, max_depth=18, max_features=auto, min_samples_leaf=4, min_samples_split=10, splitter=best;, score=0.667 total time=   0.0s\n[CV 1/2; 306/648] START criterion=gini, max_depth=18, max_features=auto, min_samples_leaf=4, min_samples_split=10, splitter=random\n",
          "output_type": "stream"
        },
        {
          "name": "stderr",
          "text": "/lib/python3.11/site-packages/sklearn/tree/_classes.py:269: FutureWarning: `max_features='auto'` has been deprecated in 1.1 and will be removed in 1.3. To keep the past behaviour, explicitly set `max_features='sqrt'`.\n  warnings.warn(\n",
          "output_type": "stream"
        },
        {
          "name": "stdout",
          "text": "[CV 1/2; 306/648] END criterion=gini, max_depth=18, max_features=auto, min_samples_leaf=4, min_samples_split=10, splitter=random;, score=0.722 total time=   0.0s\n[CV 2/2; 306/648] START criterion=gini, max_depth=18, max_features=auto, min_samples_leaf=4, min_samples_split=10, splitter=random\n",
          "output_type": "stream"
        },
        {
          "name": "stderr",
          "text": "/lib/python3.11/site-packages/sklearn/tree/_classes.py:269: FutureWarning: `max_features='auto'` has been deprecated in 1.1 and will be removed in 1.3. To keep the past behaviour, explicitly set `max_features='sqrt'`.\n  warnings.warn(\n",
          "output_type": "stream"
        },
        {
          "name": "stdout",
          "text": "[CV 2/2; 306/648] END criterion=gini, max_depth=18, max_features=auto, min_samples_leaf=4, min_samples_split=10, splitter=random;, score=0.556 total time=   0.0s\n[CV 1/2; 307/648] START criterion=gini, max_depth=18, max_features=sqrt, min_samples_leaf=1, min_samples_split=2, splitter=best\n[CV 1/2; 307/648] END criterion=gini, max_depth=18, max_features=sqrt, min_samples_leaf=1, min_samples_split=2, splitter=best;, score=0.806 total time=   0.0s\n[CV 2/2; 307/648] START criterion=gini, max_depth=18, max_features=sqrt, min_samples_leaf=1, min_samples_split=2, splitter=best\n[CV 2/2; 307/648] END criterion=gini, max_depth=18, max_features=sqrt, min_samples_leaf=1, min_samples_split=2, splitter=best;, score=0.833 total time=   0.0s\n[CV 1/2; 308/648] START criterion=gini, max_depth=18, max_features=sqrt, min_samples_leaf=1, min_samples_split=2, splitter=random\n[CV 1/2; 308/648] END criterion=gini, max_depth=18, max_features=sqrt, min_samples_leaf=1, min_samples_split=2, splitter=random;, score=0.694 total time=   0.0s\n[CV 2/2; 308/648] START criterion=gini, max_depth=18, max_features=sqrt, min_samples_leaf=1, min_samples_split=2, splitter=random\n[CV 2/2; 308/648] END criterion=gini, max_depth=18, max_features=sqrt, min_samples_leaf=1, min_samples_split=2, splitter=random;, score=0.833 total time=   0.0s\n[CV 1/2; 309/648] START criterion=gini, max_depth=18, max_features=sqrt, min_samples_leaf=1, min_samples_split=5, splitter=best\n[CV 1/2; 309/648] END criterion=gini, max_depth=18, max_features=sqrt, min_samples_leaf=1, min_samples_split=5, splitter=best;, score=0.806 total time=   0.0s\n[CV 2/2; 309/648] START criterion=gini, max_depth=18, max_features=sqrt, min_samples_leaf=1, min_samples_split=5, splitter=best\n[CV 2/2; 309/648] END criterion=gini, max_depth=18, max_features=sqrt, min_samples_leaf=1, min_samples_split=5, splitter=best;, score=0.639 total time=   0.0s\n[CV 1/2; 310/648] START criterion=gini, max_depth=18, max_features=sqrt, min_samples_leaf=1, min_samples_split=5, splitter=random\n[CV 1/2; 310/648] END criterion=gini, max_depth=18, max_features=sqrt, min_samples_leaf=1, min_samples_split=5, splitter=random;, score=0.833 total time=   0.0s\n[CV 2/2; 310/648] START criterion=gini, max_depth=18, max_features=sqrt, min_samples_leaf=1, min_samples_split=5, splitter=random\n[CV 2/2; 310/648] END criterion=gini, max_depth=18, max_features=sqrt, min_samples_leaf=1, min_samples_split=5, splitter=random;, score=0.583 total time=   0.0s\n[CV 1/2; 311/648] START criterion=gini, max_depth=18, max_features=sqrt, min_samples_leaf=1, min_samples_split=10, splitter=best\n[CV 1/2; 311/648] END criterion=gini, max_depth=18, max_features=sqrt, min_samples_leaf=1, min_samples_split=10, splitter=best;, score=0.750 total time=   0.0s\n[CV 2/2; 311/648] START criterion=gini, max_depth=18, max_features=sqrt, min_samples_leaf=1, min_samples_split=10, splitter=best\n[CV 2/2; 311/648] END criterion=gini, max_depth=18, max_features=sqrt, min_samples_leaf=1, min_samples_split=10, splitter=best;, score=0.806 total time=   0.0s\n[CV 1/2; 312/648] START criterion=gini, max_depth=18, max_features=sqrt, min_samples_leaf=1, min_samples_split=10, splitter=random\n[CV 1/2; 312/648] END criterion=gini, max_depth=18, max_features=sqrt, min_samples_leaf=1, min_samples_split=10, splitter=random;, score=0.778 total time=   0.0s\n[CV 2/2; 312/648] START criterion=gini, max_depth=18, max_features=sqrt, min_samples_leaf=1, min_samples_split=10, splitter=random\n[CV 2/2; 312/648] END criterion=gini, max_depth=18, max_features=sqrt, min_samples_leaf=1, min_samples_split=10, splitter=random;, score=0.806 total time=   0.0s\n[CV 1/2; 313/648] START criterion=gini, max_depth=18, max_features=sqrt, min_samples_leaf=2, min_samples_split=2, splitter=best\n[CV 1/2; 313/648] END criterion=gini, max_depth=18, max_features=sqrt, min_samples_leaf=2, min_samples_split=2, splitter=best;, score=0.694 total time=   0.0s\n[CV 2/2; 313/648] START criterion=gini, max_depth=18, max_features=sqrt, min_samples_leaf=2, min_samples_split=2, splitter=best\n[CV 2/2; 313/648] END criterion=gini, max_depth=18, max_features=sqrt, min_samples_leaf=2, min_samples_split=2, splitter=best;, score=0.778 total time=   0.0s\n[CV 1/2; 314/648] START criterion=gini, max_depth=18, max_features=sqrt, min_samples_leaf=2, min_samples_split=2, splitter=random\n[CV 1/2; 314/648] END criterion=gini, max_depth=18, max_features=sqrt, min_samples_leaf=2, min_samples_split=2, splitter=random;, score=0.694 total time=   0.0s\n[CV 2/2; 314/648] START criterion=gini, max_depth=18, max_features=sqrt, min_samples_leaf=2, min_samples_split=2, splitter=random\n[CV 2/2; 314/648] END criterion=gini, max_depth=18, max_features=sqrt, min_samples_leaf=2, min_samples_split=2, splitter=random;, score=0.750 total time=   0.0s\n[CV 1/2; 315/648] START criterion=gini, max_depth=18, max_features=sqrt, min_samples_leaf=2, min_samples_split=5, splitter=best\n[CV 1/2; 315/648] END criterion=gini, max_depth=18, max_features=sqrt, min_samples_leaf=2, min_samples_split=5, splitter=best;, score=0.694 total time=   0.0s\n[CV 2/2; 315/648] START criterion=gini, max_depth=18, max_features=sqrt, min_samples_leaf=2, min_samples_split=5, splitter=best\n[CV 2/2; 315/648] END criterion=gini, max_depth=18, max_features=sqrt, min_samples_leaf=2, min_samples_split=5, splitter=best;, score=0.639 total time=   0.0s\n[CV 1/2; 316/648] START criterion=gini, max_depth=18, max_features=sqrt, min_samples_leaf=2, min_samples_split=5, splitter=random\n[CV 1/2; 316/648] END criterion=gini, max_depth=18, max_features=sqrt, min_samples_leaf=2, min_samples_split=5, splitter=random;, score=0.694 total time=   0.0s\n[CV 2/2; 316/648] START criterion=gini, max_depth=18, max_features=sqrt, min_samples_leaf=2, min_samples_split=5, splitter=random\n[CV 2/2; 316/648] END criterion=gini, max_depth=18, max_features=sqrt, min_samples_leaf=2, min_samples_split=5, splitter=random;, score=0.444 total time=   0.0s\n[CV 1/2; 317/648] START criterion=gini, max_depth=18, max_features=sqrt, min_samples_leaf=2, min_samples_split=10, splitter=best\n[CV 1/2; 317/648] END criterion=gini, max_depth=18, max_features=sqrt, min_samples_leaf=2, min_samples_split=10, splitter=best;, score=0.833 total time=   0.0s\n[CV 2/2; 317/648] START criterion=gini, max_depth=18, max_features=sqrt, min_samples_leaf=2, min_samples_split=10, splitter=best\n[CV 2/2; 317/648] END criterion=gini, max_depth=18, max_features=sqrt, min_samples_leaf=2, min_samples_split=10, splitter=best;, score=0.750 total time=   0.0s\n[CV 1/2; 318/648] START criterion=gini, max_depth=18, max_features=sqrt, min_samples_leaf=2, min_samples_split=10, splitter=random\n[CV 1/2; 318/648] END criterion=gini, max_depth=18, max_features=sqrt, min_samples_leaf=2, min_samples_split=10, splitter=random;, score=0.833 total time=   0.0s\n[CV 2/2; 318/648] START criterion=gini, max_depth=18, max_features=sqrt, min_samples_leaf=2, min_samples_split=10, splitter=random\n[CV 2/2; 318/648] END criterion=gini, max_depth=18, max_features=sqrt, min_samples_leaf=2, min_samples_split=10, splitter=random;, score=0.472 total time=   0.0s\n[CV 1/2; 319/648] START criterion=gini, max_depth=18, max_features=sqrt, min_samples_leaf=4, min_samples_split=2, splitter=best\n[CV 1/2; 319/648] END criterion=gini, max_depth=18, max_features=sqrt, min_samples_leaf=4, min_samples_split=2, splitter=best;, score=0.667 total time=   0.0s\n[CV 2/2; 319/648] START criterion=gini, max_depth=18, max_features=sqrt, min_samples_leaf=4, min_samples_split=2, splitter=best\n[CV 2/2; 319/648] END criterion=gini, max_depth=18, max_features=sqrt, min_samples_leaf=4, min_samples_split=2, splitter=best;, score=0.667 total time=   0.0s\n[CV 1/2; 320/648] START criterion=gini, max_depth=18, max_features=sqrt, min_samples_leaf=4, min_samples_split=2, splitter=random\n[CV 1/2; 320/648] END criterion=gini, max_depth=18, max_features=sqrt, min_samples_leaf=4, min_samples_split=2, splitter=random;, score=0.750 total time=   0.0s\n[CV 2/2; 320/648] START criterion=gini, max_depth=18, max_features=sqrt, min_samples_leaf=4, min_samples_split=2, splitter=random\n[CV 2/2; 320/648] END criterion=gini, max_depth=18, max_features=sqrt, min_samples_leaf=4, min_samples_split=2, splitter=random;, score=0.750 total time=   0.0s\n[CV 1/2; 321/648] START criterion=gini, max_depth=18, max_features=sqrt, min_samples_leaf=4, min_samples_split=5, splitter=best\n[CV 1/2; 321/648] END criterion=gini, max_depth=18, max_features=sqrt, min_samples_leaf=4, min_samples_split=5, splitter=best;, score=0.806 total time=   0.0s\n[CV 2/2; 321/648] START criterion=gini, max_depth=18, max_features=sqrt, min_samples_leaf=4, min_samples_split=5, splitter=best\n[CV 2/2; 321/648] END criterion=gini, max_depth=18, max_features=sqrt, min_samples_leaf=4, min_samples_split=5, splitter=best;, score=0.667 total time=   0.0s\n[CV 1/2; 322/648] START criterion=gini, max_depth=18, max_features=sqrt, min_samples_leaf=4, min_samples_split=5, splitter=random\n[CV 1/2; 322/648] END criterion=gini, max_depth=18, max_features=sqrt, min_samples_leaf=4, min_samples_split=5, splitter=random;, score=0.806 total time=   0.0s\n[CV 2/2; 322/648] START criterion=gini, max_depth=18, max_features=sqrt, min_samples_leaf=4, min_samples_split=5, splitter=random\n[CV 2/2; 322/648] END criterion=gini, max_depth=18, max_features=sqrt, min_samples_leaf=4, min_samples_split=5, splitter=random;, score=0.389 total time=   0.0s\n[CV 1/2; 323/648] START criterion=gini, max_depth=18, max_features=sqrt, min_samples_leaf=4, min_samples_split=10, splitter=best\n[CV 1/2; 323/648] END criterion=gini, max_depth=18, max_features=sqrt, min_samples_leaf=4, min_samples_split=10, splitter=best;, score=0.639 total time=   0.0s\n[CV 2/2; 323/648] START criterion=gini, max_depth=18, max_features=sqrt, min_samples_leaf=4, min_samples_split=10, splitter=best\n[CV 2/2; 323/648] END criterion=gini, max_depth=18, max_features=sqrt, min_samples_leaf=4, min_samples_split=10, splitter=best;, score=0.389 total time=   0.0s\n[CV 1/2; 324/648] START criterion=gini, max_depth=18, max_features=sqrt, min_samples_leaf=4, min_samples_split=10, splitter=random\n[CV 1/2; 324/648] END criterion=gini, max_depth=18, max_features=sqrt, min_samples_leaf=4, min_samples_split=10, splitter=random;, score=0.861 total time=   0.0s\n[CV 2/2; 324/648] START criterion=gini, max_depth=18, max_features=sqrt, min_samples_leaf=4, min_samples_split=10, splitter=random\n[CV 2/2; 324/648] END criterion=gini, max_depth=18, max_features=sqrt, min_samples_leaf=4, min_samples_split=10, splitter=random;, score=0.861 total time=   0.0s\n[CV 1/2; 325/648] START criterion=entropy, max_depth=2, max_features=auto, min_samples_leaf=1, min_samples_split=2, splitter=best\n",
          "output_type": "stream"
        },
        {
          "name": "stderr",
          "text": "/lib/python3.11/site-packages/sklearn/tree/_classes.py:269: FutureWarning: `max_features='auto'` has been deprecated in 1.1 and will be removed in 1.3. To keep the past behaviour, explicitly set `max_features='sqrt'`.\n  warnings.warn(\n",
          "output_type": "stream"
        },
        {
          "name": "stdout",
          "text": "[CV 1/2; 325/648] END criterion=entropy, max_depth=2, max_features=auto, min_samples_leaf=1, min_samples_split=2, splitter=best;, score=0.333 total time=   0.0s\n[CV 2/2; 325/648] START criterion=entropy, max_depth=2, max_features=auto, min_samples_leaf=1, min_samples_split=2, splitter=best\n",
          "output_type": "stream"
        },
        {
          "name": "stderr",
          "text": "/lib/python3.11/site-packages/sklearn/tree/_classes.py:269: FutureWarning: `max_features='auto'` has been deprecated in 1.1 and will be removed in 1.3. To keep the past behaviour, explicitly set `max_features='sqrt'`.\n  warnings.warn(\n",
          "output_type": "stream"
        },
        {
          "name": "stdout",
          "text": "[CV 2/2; 325/648] END criterion=entropy, max_depth=2, max_features=auto, min_samples_leaf=1, min_samples_split=2, splitter=best;, score=0.389 total time=   0.0s\n[CV 1/2; 326/648] START criterion=entropy, max_depth=2, max_features=auto, min_samples_leaf=1, min_samples_split=2, splitter=random\n",
          "output_type": "stream"
        },
        {
          "name": "stderr",
          "text": "/lib/python3.11/site-packages/sklearn/tree/_classes.py:269: FutureWarning: `max_features='auto'` has been deprecated in 1.1 and will be removed in 1.3. To keep the past behaviour, explicitly set `max_features='sqrt'`.\n  warnings.warn(\n",
          "output_type": "stream"
        },
        {
          "name": "stdout",
          "text": "[CV 1/2; 326/648] END criterion=entropy, max_depth=2, max_features=auto, min_samples_leaf=1, min_samples_split=2, splitter=random;, score=0.667 total time=   0.0s\n[CV 2/2; 326/648] START criterion=entropy, max_depth=2, max_features=auto, min_samples_leaf=1, min_samples_split=2, splitter=random\n",
          "output_type": "stream"
        },
        {
          "name": "stderr",
          "text": "/lib/python3.11/site-packages/sklearn/tree/_classes.py:269: FutureWarning: `max_features='auto'` has been deprecated in 1.1 and will be removed in 1.3. To keep the past behaviour, explicitly set `max_features='sqrt'`.\n  warnings.warn(\n",
          "output_type": "stream"
        },
        {
          "name": "stdout",
          "text": "[CV 2/2; 326/648] END criterion=entropy, max_depth=2, max_features=auto, min_samples_leaf=1, min_samples_split=2, splitter=random;, score=0.861 total time=   0.0s\n[CV 1/2; 327/648] START criterion=entropy, max_depth=2, max_features=auto, min_samples_leaf=1, min_samples_split=5, splitter=best\n",
          "output_type": "stream"
        },
        {
          "name": "stderr",
          "text": "/lib/python3.11/site-packages/sklearn/tree/_classes.py:269: FutureWarning: `max_features='auto'` has been deprecated in 1.1 and will be removed in 1.3. To keep the past behaviour, explicitly set `max_features='sqrt'`.\n  warnings.warn(\n",
          "output_type": "stream"
        },
        {
          "name": "stdout",
          "text": "[CV 1/2; 327/648] END criterion=entropy, max_depth=2, max_features=auto, min_samples_leaf=1, min_samples_split=5, splitter=best;, score=0.833 total time=   0.0s\n[CV 2/2; 327/648] START criterion=entropy, max_depth=2, max_features=auto, min_samples_leaf=1, min_samples_split=5, splitter=best\n",
          "output_type": "stream"
        },
        {
          "name": "stderr",
          "text": "/lib/python3.11/site-packages/sklearn/tree/_classes.py:269: FutureWarning: `max_features='auto'` has been deprecated in 1.1 and will be removed in 1.3. To keep the past behaviour, explicitly set `max_features='sqrt'`.\n  warnings.warn(\n",
          "output_type": "stream"
        },
        {
          "name": "stdout",
          "text": "[CV 2/2; 327/648] END criterion=entropy, max_depth=2, max_features=auto, min_samples_leaf=1, min_samples_split=5, splitter=best;, score=0.667 total time=   0.0s\n[CV 1/2; 328/648] START criterion=entropy, max_depth=2, max_features=auto, min_samples_leaf=1, min_samples_split=5, splitter=random\n",
          "output_type": "stream"
        },
        {
          "name": "stderr",
          "text": "/lib/python3.11/site-packages/sklearn/tree/_classes.py:269: FutureWarning: `max_features='auto'` has been deprecated in 1.1 and will be removed in 1.3. To keep the past behaviour, explicitly set `max_features='sqrt'`.\n  warnings.warn(\n",
          "output_type": "stream"
        },
        {
          "name": "stdout",
          "text": "[CV 1/2; 328/648] END criterion=entropy, max_depth=2, max_features=auto, min_samples_leaf=1, min_samples_split=5, splitter=random;, score=0.861 total time=   0.0s\n[CV 2/2; 328/648] START criterion=entropy, max_depth=2, max_features=auto, min_samples_leaf=1, min_samples_split=5, splitter=random\n",
          "output_type": "stream"
        },
        {
          "name": "stderr",
          "text": "/lib/python3.11/site-packages/sklearn/tree/_classes.py:269: FutureWarning: `max_features='auto'` has been deprecated in 1.1 and will be removed in 1.3. To keep the past behaviour, explicitly set `max_features='sqrt'`.\n  warnings.warn(\n",
          "output_type": "stream"
        },
        {
          "name": "stdout",
          "text": "[CV 2/2; 328/648] END criterion=entropy, max_depth=2, max_features=auto, min_samples_leaf=1, min_samples_split=5, splitter=random;, score=0.444 total time=   0.0s\n[CV 1/2; 329/648] START criterion=entropy, max_depth=2, max_features=auto, min_samples_leaf=1, min_samples_split=10, splitter=best\n",
          "output_type": "stream"
        },
        {
          "name": "stderr",
          "text": "/lib/python3.11/site-packages/sklearn/tree/_classes.py:269: FutureWarning: `max_features='auto'` has been deprecated in 1.1 and will be removed in 1.3. To keep the past behaviour, explicitly set `max_features='sqrt'`.\n  warnings.warn(\n",
          "output_type": "stream"
        },
        {
          "name": "stdout",
          "text": "[CV 1/2; 329/648] END criterion=entropy, max_depth=2, max_features=auto, min_samples_leaf=1, min_samples_split=10, splitter=best;, score=0.833 total time=   0.0s\n[CV 2/2; 329/648] START criterion=entropy, max_depth=2, max_features=auto, min_samples_leaf=1, min_samples_split=10, splitter=best\n",
          "output_type": "stream"
        },
        {
          "name": "stderr",
          "text": "/lib/python3.11/site-packages/sklearn/tree/_classes.py:269: FutureWarning: `max_features='auto'` has been deprecated in 1.1 and will be removed in 1.3. To keep the past behaviour, explicitly set `max_features='sqrt'`.\n  warnings.warn(\n",
          "output_type": "stream"
        },
        {
          "name": "stdout",
          "text": "[CV 2/2; 329/648] END criterion=entropy, max_depth=2, max_features=auto, min_samples_leaf=1, min_samples_split=10, splitter=best;, score=0.861 total time=   0.0s\n[CV 1/2; 330/648] START criterion=entropy, max_depth=2, max_features=auto, min_samples_leaf=1, min_samples_split=10, splitter=random\n",
          "output_type": "stream"
        },
        {
          "name": "stderr",
          "text": "/lib/python3.11/site-packages/sklearn/tree/_classes.py:269: FutureWarning: `max_features='auto'` has been deprecated in 1.1 and will be removed in 1.3. To keep the past behaviour, explicitly set `max_features='sqrt'`.\n  warnings.warn(\n",
          "output_type": "stream"
        },
        {
          "name": "stdout",
          "text": "[CV 1/2; 330/648] END criterion=entropy, max_depth=2, max_features=auto, min_samples_leaf=1, min_samples_split=10, splitter=random;, score=0.639 total time=   0.0s\n[CV 2/2; 330/648] START criterion=entropy, max_depth=2, max_features=auto, min_samples_leaf=1, min_samples_split=10, splitter=random\n",
          "output_type": "stream"
        },
        {
          "name": "stderr",
          "text": "/lib/python3.11/site-packages/sklearn/tree/_classes.py:269: FutureWarning: `max_features='auto'` has been deprecated in 1.1 and will be removed in 1.3. To keep the past behaviour, explicitly set `max_features='sqrt'`.\n  warnings.warn(\n",
          "output_type": "stream"
        },
        {
          "name": "stdout",
          "text": "[CV 2/2; 330/648] END criterion=entropy, max_depth=2, max_features=auto, min_samples_leaf=1, min_samples_split=10, splitter=random;, score=0.667 total time=   0.0s\n[CV 1/2; 331/648] START criterion=entropy, max_depth=2, max_features=auto, min_samples_leaf=2, min_samples_split=2, splitter=best\n",
          "output_type": "stream"
        },
        {
          "name": "stderr",
          "text": "/lib/python3.11/site-packages/sklearn/tree/_classes.py:269: FutureWarning: `max_features='auto'` has been deprecated in 1.1 and will be removed in 1.3. To keep the past behaviour, explicitly set `max_features='sqrt'`.\n  warnings.warn(\n",
          "output_type": "stream"
        },
        {
          "name": "stdout",
          "text": "[CV 1/2; 331/648] END criterion=entropy, max_depth=2, max_features=auto, min_samples_leaf=2, min_samples_split=2, splitter=best;, score=0.667 total time=   0.0s\n[CV 2/2; 331/648] START criterion=entropy, max_depth=2, max_features=auto, min_samples_leaf=2, min_samples_split=2, splitter=best\n",
          "output_type": "stream"
        },
        {
          "name": "stderr",
          "text": "/lib/python3.11/site-packages/sklearn/tree/_classes.py:269: FutureWarning: `max_features='auto'` has been deprecated in 1.1 and will be removed in 1.3. To keep the past behaviour, explicitly set `max_features='sqrt'`.\n  warnings.warn(\n",
          "output_type": "stream"
        },
        {
          "name": "stdout",
          "text": "[CV 2/2; 331/648] END criterion=entropy, max_depth=2, max_features=auto, min_samples_leaf=2, min_samples_split=2, splitter=best;, score=0.667 total time=   0.0s\n[CV 1/2; 332/648] START criterion=entropy, max_depth=2, max_features=auto, min_samples_leaf=2, min_samples_split=2, splitter=random\n",
          "output_type": "stream"
        },
        {
          "name": "stderr",
          "text": "/lib/python3.11/site-packages/sklearn/tree/_classes.py:269: FutureWarning: `max_features='auto'` has been deprecated in 1.1 and will be removed in 1.3. To keep the past behaviour, explicitly set `max_features='sqrt'`.\n  warnings.warn(\n",
          "output_type": "stream"
        },
        {
          "name": "stdout",
          "text": "[CV 1/2; 332/648] END criterion=entropy, max_depth=2, max_features=auto, min_samples_leaf=2, min_samples_split=2, splitter=random;, score=0.667 total time=   0.0s\n[CV 2/2; 332/648] START criterion=entropy, max_depth=2, max_features=auto, min_samples_leaf=2, min_samples_split=2, splitter=random\n",
          "output_type": "stream"
        },
        {
          "name": "stderr",
          "text": "/lib/python3.11/site-packages/sklearn/tree/_classes.py:269: FutureWarning: `max_features='auto'` has been deprecated in 1.1 and will be removed in 1.3. To keep the past behaviour, explicitly set `max_features='sqrt'`.\n  warnings.warn(\n",
          "output_type": "stream"
        },
        {
          "name": "stdout",
          "text": "[CV 2/2; 332/648] END criterion=entropy, max_depth=2, max_features=auto, min_samples_leaf=2, min_samples_split=2, splitter=random;, score=0.778 total time=   0.0s\n[CV 1/2; 333/648] START criterion=entropy, max_depth=2, max_features=auto, min_samples_leaf=2, min_samples_split=5, splitter=best\n",
          "output_type": "stream"
        },
        {
          "name": "stderr",
          "text": "/lib/python3.11/site-packages/sklearn/tree/_classes.py:269: FutureWarning: `max_features='auto'` has been deprecated in 1.1 and will be removed in 1.3. To keep the past behaviour, explicitly set `max_features='sqrt'`.\n  warnings.warn(\n",
          "output_type": "stream"
        },
        {
          "name": "stdout",
          "text": "[CV 1/2; 333/648] END criterion=entropy, max_depth=2, max_features=auto, min_samples_leaf=2, min_samples_split=5, splitter=best;, score=0.861 total time=   0.0s\n[CV 2/2; 333/648] START criterion=entropy, max_depth=2, max_features=auto, min_samples_leaf=2, min_samples_split=5, splitter=best\n",
          "output_type": "stream"
        },
        {
          "name": "stderr",
          "text": "/lib/python3.11/site-packages/sklearn/tree/_classes.py:269: FutureWarning: `max_features='auto'` has been deprecated in 1.1 and will be removed in 1.3. To keep the past behaviour, explicitly set `max_features='sqrt'`.\n  warnings.warn(\n",
          "output_type": "stream"
        },
        {
          "name": "stdout",
          "text": "[CV 2/2; 333/648] END criterion=entropy, max_depth=2, max_features=auto, min_samples_leaf=2, min_samples_split=5, splitter=best;, score=0.778 total time=   0.0s\n[CV 1/2; 334/648] START criterion=entropy, max_depth=2, max_features=auto, min_samples_leaf=2, min_samples_split=5, splitter=random\n",
          "output_type": "stream"
        },
        {
          "name": "stderr",
          "text": "/lib/python3.11/site-packages/sklearn/tree/_classes.py:269: FutureWarning: `max_features='auto'` has been deprecated in 1.1 and will be removed in 1.3. To keep the past behaviour, explicitly set `max_features='sqrt'`.\n  warnings.warn(\n",
          "output_type": "stream"
        },
        {
          "name": "stdout",
          "text": "[CV 1/2; 334/648] END criterion=entropy, max_depth=2, max_features=auto, min_samples_leaf=2, min_samples_split=5, splitter=random;, score=0.667 total time=   0.0s\n[CV 2/2; 334/648] START criterion=entropy, max_depth=2, max_features=auto, min_samples_leaf=2, min_samples_split=5, splitter=random\n",
          "output_type": "stream"
        },
        {
          "name": "stderr",
          "text": "/lib/python3.11/site-packages/sklearn/tree/_classes.py:269: FutureWarning: `max_features='auto'` has been deprecated in 1.1 and will be removed in 1.3. To keep the past behaviour, explicitly set `max_features='sqrt'`.\n  warnings.warn(\n",
          "output_type": "stream"
        },
        {
          "name": "stdout",
          "text": "[CV 2/2; 334/648] END criterion=entropy, max_depth=2, max_features=auto, min_samples_leaf=2, min_samples_split=5, splitter=random;, score=0.750 total time=   0.0s\n[CV 1/2; 335/648] START criterion=entropy, max_depth=2, max_features=auto, min_samples_leaf=2, min_samples_split=10, splitter=best\n",
          "output_type": "stream"
        },
        {
          "name": "stderr",
          "text": "/lib/python3.11/site-packages/sklearn/tree/_classes.py:269: FutureWarning: `max_features='auto'` has been deprecated in 1.1 and will be removed in 1.3. To keep the past behaviour, explicitly set `max_features='sqrt'`.\n  warnings.warn(\n",
          "output_type": "stream"
        },
        {
          "name": "stdout",
          "text": "[CV 1/2; 335/648] END criterion=entropy, max_depth=2, max_features=auto, min_samples_leaf=2, min_samples_split=10, splitter=best;, score=0.861 total time=   0.0s\n[CV 2/2; 335/648] START criterion=entropy, max_depth=2, max_features=auto, min_samples_leaf=2, min_samples_split=10, splitter=best\n",
          "output_type": "stream"
        },
        {
          "name": "stderr",
          "text": "/lib/python3.11/site-packages/sklearn/tree/_classes.py:269: FutureWarning: `max_features='auto'` has been deprecated in 1.1 and will be removed in 1.3. To keep the past behaviour, explicitly set `max_features='sqrt'`.\n  warnings.warn(\n",
          "output_type": "stream"
        },
        {
          "name": "stdout",
          "text": "[CV 2/2; 335/648] END criterion=entropy, max_depth=2, max_features=auto, min_samples_leaf=2, min_samples_split=10, splitter=best;, score=0.667 total time=   0.0s\n[CV 1/2; 336/648] START criterion=entropy, max_depth=2, max_features=auto, min_samples_leaf=2, min_samples_split=10, splitter=random\n",
          "output_type": "stream"
        },
        {
          "name": "stderr",
          "text": "/lib/python3.11/site-packages/sklearn/tree/_classes.py:269: FutureWarning: `max_features='auto'` has been deprecated in 1.1 and will be removed in 1.3. To keep the past behaviour, explicitly set `max_features='sqrt'`.\n  warnings.warn(\n",
          "output_type": "stream"
        },
        {
          "name": "stdout",
          "text": "[CV 1/2; 336/648] END criterion=entropy, max_depth=2, max_features=auto, min_samples_leaf=2, min_samples_split=10, splitter=random;, score=0.667 total time=   0.0s\n[CV 2/2; 336/648] START criterion=entropy, max_depth=2, max_features=auto, min_samples_leaf=2, min_samples_split=10, splitter=random\n",
          "output_type": "stream"
        },
        {
          "name": "stderr",
          "text": "/lib/python3.11/site-packages/sklearn/tree/_classes.py:269: FutureWarning: `max_features='auto'` has been deprecated in 1.1 and will be removed in 1.3. To keep the past behaviour, explicitly set `max_features='sqrt'`.\n  warnings.warn(\n",
          "output_type": "stream"
        },
        {
          "name": "stdout",
          "text": "[CV 2/2; 336/648] END criterion=entropy, max_depth=2, max_features=auto, min_samples_leaf=2, min_samples_split=10, splitter=random;, score=0.861 total time=   0.0s\n[CV 1/2; 337/648] START criterion=entropy, max_depth=2, max_features=auto, min_samples_leaf=4, min_samples_split=2, splitter=best\n",
          "output_type": "stream"
        },
        {
          "name": "stderr",
          "text": "/lib/python3.11/site-packages/sklearn/tree/_classes.py:269: FutureWarning: `max_features='auto'` has been deprecated in 1.1 and will be removed in 1.3. To keep the past behaviour, explicitly set `max_features='sqrt'`.\n  warnings.warn(\n",
          "output_type": "stream"
        },
        {
          "name": "stdout",
          "text": "[CV 1/2; 337/648] END criterion=entropy, max_depth=2, max_features=auto, min_samples_leaf=4, min_samples_split=2, splitter=best;, score=0.861 total time=   0.0s\n[CV 2/2; 337/648] START criterion=entropy, max_depth=2, max_features=auto, min_samples_leaf=4, min_samples_split=2, splitter=best\n",
          "output_type": "stream"
        },
        {
          "name": "stderr",
          "text": "/lib/python3.11/site-packages/sklearn/tree/_classes.py:269: FutureWarning: `max_features='auto'` has been deprecated in 1.1 and will be removed in 1.3. To keep the past behaviour, explicitly set `max_features='sqrt'`.\n  warnings.warn(\n",
          "output_type": "stream"
        },
        {
          "name": "stdout",
          "text": "[CV 2/2; 337/648] END criterion=entropy, max_depth=2, max_features=auto, min_samples_leaf=4, min_samples_split=2, splitter=best;, score=0.389 total time=   0.0s\n[CV 1/2; 338/648] START criterion=entropy, max_depth=2, max_features=auto, min_samples_leaf=4, min_samples_split=2, splitter=random\n",
          "output_type": "stream"
        },
        {
          "name": "stderr",
          "text": "/lib/python3.11/site-packages/sklearn/tree/_classes.py:269: FutureWarning: `max_features='auto'` has been deprecated in 1.1 and will be removed in 1.3. To keep the past behaviour, explicitly set `max_features='sqrt'`.\n  warnings.warn(\n",
          "output_type": "stream"
        },
        {
          "name": "stdout",
          "text": "[CV 1/2; 338/648] END criterion=entropy, max_depth=2, max_features=auto, min_samples_leaf=4, min_samples_split=2, splitter=random;, score=0.833 total time=   0.0s\n[CV 2/2; 338/648] START criterion=entropy, max_depth=2, max_features=auto, min_samples_leaf=4, min_samples_split=2, splitter=random\n",
          "output_type": "stream"
        },
        {
          "name": "stderr",
          "text": "/lib/python3.11/site-packages/sklearn/tree/_classes.py:269: FutureWarning: `max_features='auto'` has been deprecated in 1.1 and will be removed in 1.3. To keep the past behaviour, explicitly set `max_features='sqrt'`.\n  warnings.warn(\n",
          "output_type": "stream"
        },
        {
          "name": "stdout",
          "text": "[CV 2/2; 338/648] END criterion=entropy, max_depth=2, max_features=auto, min_samples_leaf=4, min_samples_split=2, splitter=random;, score=0.861 total time=   0.0s\n[CV 1/2; 339/648] START criterion=entropy, max_depth=2, max_features=auto, min_samples_leaf=4, min_samples_split=5, splitter=best\n",
          "output_type": "stream"
        },
        {
          "name": "stderr",
          "text": "/lib/python3.11/site-packages/sklearn/tree/_classes.py:269: FutureWarning: `max_features='auto'` has been deprecated in 1.1 and will be removed in 1.3. To keep the past behaviour, explicitly set `max_features='sqrt'`.\n  warnings.warn(\n",
          "output_type": "stream"
        },
        {
          "name": "stdout",
          "text": "[CV 1/2; 339/648] END criterion=entropy, max_depth=2, max_features=auto, min_samples_leaf=4, min_samples_split=5, splitter=best;, score=0.833 total time=   0.0s\n[CV 2/2; 339/648] START criterion=entropy, max_depth=2, max_features=auto, min_samples_leaf=4, min_samples_split=5, splitter=best\n",
          "output_type": "stream"
        },
        {
          "name": "stderr",
          "text": "/lib/python3.11/site-packages/sklearn/tree/_classes.py:269: FutureWarning: `max_features='auto'` has been deprecated in 1.1 and will be removed in 1.3. To keep the past behaviour, explicitly set `max_features='sqrt'`.\n  warnings.warn(\n",
          "output_type": "stream"
        },
        {
          "name": "stdout",
          "text": "[CV 2/2; 339/648] END criterion=entropy, max_depth=2, max_features=auto, min_samples_leaf=4, min_samples_split=5, splitter=best;, score=0.583 total time=   0.0s\n[CV 1/2; 340/648] START criterion=entropy, max_depth=2, max_features=auto, min_samples_leaf=4, min_samples_split=5, splitter=random\n",
          "output_type": "stream"
        },
        {
          "name": "stderr",
          "text": "/lib/python3.11/site-packages/sklearn/tree/_classes.py:269: FutureWarning: `max_features='auto'` has been deprecated in 1.1 and will be removed in 1.3. To keep the past behaviour, explicitly set `max_features='sqrt'`.\n  warnings.warn(\n",
          "output_type": "stream"
        },
        {
          "name": "stdout",
          "text": "[CV 1/2; 340/648] END criterion=entropy, max_depth=2, max_features=auto, min_samples_leaf=4, min_samples_split=5, splitter=random;, score=0.444 total time=   0.0s\n[CV 2/2; 340/648] START criterion=entropy, max_depth=2, max_features=auto, min_samples_leaf=4, min_samples_split=5, splitter=random\n",
          "output_type": "stream"
        },
        {
          "name": "stderr",
          "text": "/lib/python3.11/site-packages/sklearn/tree/_classes.py:269: FutureWarning: `max_features='auto'` has been deprecated in 1.1 and will be removed in 1.3. To keep the past behaviour, explicitly set `max_features='sqrt'`.\n  warnings.warn(\n",
          "output_type": "stream"
        },
        {
          "name": "stdout",
          "text": "[CV 2/2; 340/648] END criterion=entropy, max_depth=2, max_features=auto, min_samples_leaf=4, min_samples_split=5, splitter=random;, score=0.583 total time=   0.0s\n[CV 1/2; 341/648] START criterion=entropy, max_depth=2, max_features=auto, min_samples_leaf=4, min_samples_split=10, splitter=best\n",
          "output_type": "stream"
        },
        {
          "name": "stderr",
          "text": "/lib/python3.11/site-packages/sklearn/tree/_classes.py:269: FutureWarning: `max_features='auto'` has been deprecated in 1.1 and will be removed in 1.3. To keep the past behaviour, explicitly set `max_features='sqrt'`.\n  warnings.warn(\n",
          "output_type": "stream"
        },
        {
          "name": "stdout",
          "text": "[CV 1/2; 341/648] END criterion=entropy, max_depth=2, max_features=auto, min_samples_leaf=4, min_samples_split=10, splitter=best;, score=0.861 total time=   0.0s\n[CV 2/2; 341/648] START criterion=entropy, max_depth=2, max_features=auto, min_samples_leaf=4, min_samples_split=10, splitter=best\n",
          "output_type": "stream"
        },
        {
          "name": "stderr",
          "text": "/lib/python3.11/site-packages/sklearn/tree/_classes.py:269: FutureWarning: `max_features='auto'` has been deprecated in 1.1 and will be removed in 1.3. To keep the past behaviour, explicitly set `max_features='sqrt'`.\n  warnings.warn(\n",
          "output_type": "stream"
        },
        {
          "name": "stdout",
          "text": "[CV 2/2; 341/648] END criterion=entropy, max_depth=2, max_features=auto, min_samples_leaf=4, min_samples_split=10, splitter=best;, score=0.389 total time=   0.0s\n[CV 1/2; 342/648] START criterion=entropy, max_depth=2, max_features=auto, min_samples_leaf=4, min_samples_split=10, splitter=random\n",
          "output_type": "stream"
        },
        {
          "name": "stderr",
          "text": "/lib/python3.11/site-packages/sklearn/tree/_classes.py:269: FutureWarning: `max_features='auto'` has been deprecated in 1.1 and will be removed in 1.3. To keep the past behaviour, explicitly set `max_features='sqrt'`.\n  warnings.warn(\n",
          "output_type": "stream"
        },
        {
          "name": "stdout",
          "text": "[CV 1/2; 342/648] END criterion=entropy, max_depth=2, max_features=auto, min_samples_leaf=4, min_samples_split=10, splitter=random;, score=0.833 total time=   0.0s\n[CV 2/2; 342/648] START criterion=entropy, max_depth=2, max_features=auto, min_samples_leaf=4, min_samples_split=10, splitter=random\n",
          "output_type": "stream"
        },
        {
          "name": "stderr",
          "text": "/lib/python3.11/site-packages/sklearn/tree/_classes.py:269: FutureWarning: `max_features='auto'` has been deprecated in 1.1 and will be removed in 1.3. To keep the past behaviour, explicitly set `max_features='sqrt'`.\n  warnings.warn(\n",
          "output_type": "stream"
        },
        {
          "name": "stdout",
          "text": "[CV 2/2; 342/648] END criterion=entropy, max_depth=2, max_features=auto, min_samples_leaf=4, min_samples_split=10, splitter=random;, score=0.861 total time=   0.0s\n[CV 1/2; 343/648] START criterion=entropy, max_depth=2, max_features=sqrt, min_samples_leaf=1, min_samples_split=2, splitter=best\n[CV 1/2; 343/648] END criterion=entropy, max_depth=2, max_features=sqrt, min_samples_leaf=1, min_samples_split=2, splitter=best;, score=0.667 total time=   0.0s\n[CV 2/2; 343/648] START criterion=entropy, max_depth=2, max_features=sqrt, min_samples_leaf=1, min_samples_split=2, splitter=best\n[CV 2/2; 343/648] END criterion=entropy, max_depth=2, max_features=sqrt, min_samples_leaf=1, min_samples_split=2, splitter=best;, score=0.750 total time=   0.0s\n[CV 1/2; 344/648] START criterion=entropy, max_depth=2, max_features=sqrt, min_samples_leaf=1, min_samples_split=2, splitter=random\n[CV 1/2; 344/648] END criterion=entropy, max_depth=2, max_features=sqrt, min_samples_leaf=1, min_samples_split=2, splitter=random;, score=0.861 total time=   0.0s\n[CV 2/2; 344/648] START criterion=entropy, max_depth=2, max_features=sqrt, min_samples_leaf=1, min_samples_split=2, splitter=random\n[CV 2/2; 344/648] END criterion=entropy, max_depth=2, max_features=sqrt, min_samples_leaf=1, min_samples_split=2, splitter=random;, score=0.667 total time=   0.0s\n[CV 1/2; 345/648] START criterion=entropy, max_depth=2, max_features=sqrt, min_samples_leaf=1, min_samples_split=5, splitter=best\n[CV 1/2; 345/648] END criterion=entropy, max_depth=2, max_features=sqrt, min_samples_leaf=1, min_samples_split=5, splitter=best;, score=0.750 total time=   0.0s\n[CV 2/2; 345/648] START criterion=entropy, max_depth=2, max_features=sqrt, min_samples_leaf=1, min_samples_split=5, splitter=best\n[CV 2/2; 345/648] END criterion=entropy, max_depth=2, max_features=sqrt, min_samples_leaf=1, min_samples_split=5, splitter=best;, score=0.667 total time=   0.0s\n[CV 1/2; 346/648] START criterion=entropy, max_depth=2, max_features=sqrt, min_samples_leaf=1, min_samples_split=5, splitter=random\n[CV 1/2; 346/648] END criterion=entropy, max_depth=2, max_features=sqrt, min_samples_leaf=1, min_samples_split=5, splitter=random;, score=0.583 total time=   0.0s\n[CV 2/2; 346/648] START criterion=entropy, max_depth=2, max_features=sqrt, min_samples_leaf=1, min_samples_split=5, splitter=random\n[CV 2/2; 346/648] END criterion=entropy, max_depth=2, max_features=sqrt, min_samples_leaf=1, min_samples_split=5, splitter=random;, score=0.500 total time=   0.0s\n[CV 1/2; 347/648] START criterion=entropy, max_depth=2, max_features=sqrt, min_samples_leaf=1, min_samples_split=10, splitter=best\n[CV 1/2; 347/648] END criterion=entropy, max_depth=2, max_features=sqrt, min_samples_leaf=1, min_samples_split=10, splitter=best;, score=0.667 total time=   0.0s\n[CV 2/2; 347/648] START criterion=entropy, max_depth=2, max_features=sqrt, min_samples_leaf=1, min_samples_split=10, splitter=best\n[CV 2/2; 347/648] END criterion=entropy, max_depth=2, max_features=sqrt, min_samples_leaf=1, min_samples_split=10, splitter=best;, score=0.556 total time=   0.0s\n[CV 1/2; 348/648] START criterion=entropy, max_depth=2, max_features=sqrt, min_samples_leaf=1, min_samples_split=10, splitter=random\n[CV 1/2; 348/648] END criterion=entropy, max_depth=2, max_features=sqrt, min_samples_leaf=1, min_samples_split=10, splitter=random;, score=0.861 total time=   0.0s\n[CV 2/2; 348/648] START criterion=entropy, max_depth=2, max_features=sqrt, min_samples_leaf=1, min_samples_split=10, splitter=random\n[CV 2/2; 348/648] END criterion=entropy, max_depth=2, max_features=sqrt, min_samples_leaf=1, min_samples_split=10, splitter=random;, score=0.861 total time=   0.0s\n[CV 1/2; 349/648] START criterion=entropy, max_depth=2, max_features=sqrt, min_samples_leaf=2, min_samples_split=2, splitter=best\n[CV 1/2; 349/648] END criterion=entropy, max_depth=2, max_features=sqrt, min_samples_leaf=2, min_samples_split=2, splitter=best;, score=0.861 total time=   0.0s\n[CV 2/2; 349/648] START criterion=entropy, max_depth=2, max_features=sqrt, min_samples_leaf=2, min_samples_split=2, splitter=best\n[CV 2/2; 349/648] END criterion=entropy, max_depth=2, max_features=sqrt, min_samples_leaf=2, min_samples_split=2, splitter=best;, score=0.444 total time=   0.0s\n[CV 1/2; 350/648] START criterion=entropy, max_depth=2, max_features=sqrt, min_samples_leaf=2, min_samples_split=2, splitter=random\n[CV 1/2; 350/648] END criterion=entropy, max_depth=2, max_features=sqrt, min_samples_leaf=2, min_samples_split=2, splitter=random;, score=0.861 total time=   0.0s\n[CV 2/2; 350/648] START criterion=entropy, max_depth=2, max_features=sqrt, min_samples_leaf=2, min_samples_split=2, splitter=random\n[CV 2/2; 350/648] END criterion=entropy, max_depth=2, max_features=sqrt, min_samples_leaf=2, min_samples_split=2, splitter=random;, score=0.667 total time=   0.0s\n[CV 1/2; 351/648] START criterion=entropy, max_depth=2, max_features=sqrt, min_samples_leaf=2, min_samples_split=5, splitter=best\n[CV 1/2; 351/648] END criterion=entropy, max_depth=2, max_features=sqrt, min_samples_leaf=2, min_samples_split=5, splitter=best;, score=0.861 total time=   0.0s\n[CV 2/2; 351/648] START criterion=entropy, max_depth=2, max_features=sqrt, min_samples_leaf=2, min_samples_split=5, splitter=best\n[CV 2/2; 351/648] END criterion=entropy, max_depth=2, max_features=sqrt, min_samples_leaf=2, min_samples_split=5, splitter=best;, score=0.500 total time=   0.0s\n[CV 1/2; 352/648] START criterion=entropy, max_depth=2, max_features=sqrt, min_samples_leaf=2, min_samples_split=5, splitter=random\n[CV 1/2; 352/648] END criterion=entropy, max_depth=2, max_features=sqrt, min_samples_leaf=2, min_samples_split=5, splitter=random;, score=0.833 total time=   0.0s\n[CV 2/2; 352/648] START criterion=entropy, max_depth=2, max_features=sqrt, min_samples_leaf=2, min_samples_split=5, splitter=random\n[CV 2/2; 352/648] END criterion=entropy, max_depth=2, max_features=sqrt, min_samples_leaf=2, min_samples_split=5, splitter=random;, score=0.750 total time=   0.0s\n[CV 1/2; 353/648] START criterion=entropy, max_depth=2, max_features=sqrt, min_samples_leaf=2, min_samples_split=10, splitter=best\n[CV 1/2; 353/648] END criterion=entropy, max_depth=2, max_features=sqrt, min_samples_leaf=2, min_samples_split=10, splitter=best;, score=0.667 total time=   0.0s\n[CV 2/2; 353/648] START criterion=entropy, max_depth=2, max_features=sqrt, min_samples_leaf=2, min_samples_split=10, splitter=best\n[CV 2/2; 353/648] END criterion=entropy, max_depth=2, max_features=sqrt, min_samples_leaf=2, min_samples_split=10, splitter=best;, score=0.556 total time=   0.0s\n[CV 1/2; 354/648] START criterion=entropy, max_depth=2, max_features=sqrt, min_samples_leaf=2, min_samples_split=10, splitter=random\n[CV 1/2; 354/648] END criterion=entropy, max_depth=2, max_features=sqrt, min_samples_leaf=2, min_samples_split=10, splitter=random;, score=0.861 total time=   0.0s\n[CV 2/2; 354/648] START criterion=entropy, max_depth=2, max_features=sqrt, min_samples_leaf=2, min_samples_split=10, splitter=random\n[CV 2/2; 354/648] END criterion=entropy, max_depth=2, max_features=sqrt, min_samples_leaf=2, min_samples_split=10, splitter=random;, score=0.361 total time=   0.0s\n[CV 1/2; 355/648] START criterion=entropy, max_depth=2, max_features=sqrt, min_samples_leaf=4, min_samples_split=2, splitter=best\n[CV 1/2; 355/648] END criterion=entropy, max_depth=2, max_features=sqrt, min_samples_leaf=4, min_samples_split=2, splitter=best;, score=0.833 total time=   0.0s\n[CV 2/2; 355/648] START criterion=entropy, max_depth=2, max_features=sqrt, min_samples_leaf=4, min_samples_split=2, splitter=best\n[CV 2/2; 355/648] END criterion=entropy, max_depth=2, max_features=sqrt, min_samples_leaf=4, min_samples_split=2, splitter=best;, score=0.639 total time=   0.0s\n[CV 1/2; 356/648] START criterion=entropy, max_depth=2, max_features=sqrt, min_samples_leaf=4, min_samples_split=2, splitter=random\n[CV 1/2; 356/648] END criterion=entropy, max_depth=2, max_features=sqrt, min_samples_leaf=4, min_samples_split=2, splitter=random;, score=0.833 total time=   0.0s\n[CV 2/2; 356/648] START criterion=entropy, max_depth=2, max_features=sqrt, min_samples_leaf=4, min_samples_split=2, splitter=random\n[CV 2/2; 356/648] END criterion=entropy, max_depth=2, max_features=sqrt, min_samples_leaf=4, min_samples_split=2, splitter=random;, score=0.667 total time=   0.0s\n[CV 1/2; 357/648] START criterion=entropy, max_depth=2, max_features=sqrt, min_samples_leaf=4, min_samples_split=5, splitter=best\n[CV 1/2; 357/648] END criterion=entropy, max_depth=2, max_features=sqrt, min_samples_leaf=4, min_samples_split=5, splitter=best;, score=0.667 total time=   0.0s\n[CV 2/2; 357/648] START criterion=entropy, max_depth=2, max_features=sqrt, min_samples_leaf=4, min_samples_split=5, splitter=best\n[CV 2/2; 357/648] END criterion=entropy, max_depth=2, max_features=sqrt, min_samples_leaf=4, min_samples_split=5, splitter=best;, score=0.861 total time=   0.0s\n[CV 1/2; 358/648] START criterion=entropy, max_depth=2, max_features=sqrt, min_samples_leaf=4, min_samples_split=5, splitter=random\n[CV 1/2; 358/648] END criterion=entropy, max_depth=2, max_features=sqrt, min_samples_leaf=4, min_samples_split=5, splitter=random;, score=0.833 total time=   0.0s\n[CV 2/2; 358/648] START criterion=entropy, max_depth=2, max_features=sqrt, min_samples_leaf=4, min_samples_split=5, splitter=random\n[CV 2/2; 358/648] END criterion=entropy, max_depth=2, max_features=sqrt, min_samples_leaf=4, min_samples_split=5, splitter=random;, score=0.861 total time=   0.0s\n[CV 1/2; 359/648] START criterion=entropy, max_depth=2, max_features=sqrt, min_samples_leaf=4, min_samples_split=10, splitter=best\n[CV 1/2; 359/648] END criterion=entropy, max_depth=2, max_features=sqrt, min_samples_leaf=4, min_samples_split=10, splitter=best;, score=0.667 total time=   0.0s\n[CV 2/2; 359/648] START criterion=entropy, max_depth=2, max_features=sqrt, min_samples_leaf=4, min_samples_split=10, splitter=best\n[CV 2/2; 359/648] END criterion=entropy, max_depth=2, max_features=sqrt, min_samples_leaf=4, min_samples_split=10, splitter=best;, score=0.778 total time=   0.0s\n[CV 1/2; 360/648] START criterion=entropy, max_depth=2, max_features=sqrt, min_samples_leaf=4, min_samples_split=10, splitter=random\n[CV 1/2; 360/648] END criterion=entropy, max_depth=2, max_features=sqrt, min_samples_leaf=4, min_samples_split=10, splitter=random;, score=0.833 total time=   0.0s\n[CV 2/2; 360/648] START criterion=entropy, max_depth=2, max_features=sqrt, min_samples_leaf=4, min_samples_split=10, splitter=random\n[CV 2/2; 360/648] END criterion=entropy, max_depth=2, max_features=sqrt, min_samples_leaf=4, min_samples_split=10, splitter=random;, score=0.861 total time=   0.0s\n[CV 1/2; 361/648] START criterion=entropy, max_depth=4, max_features=auto, min_samples_leaf=1, min_samples_split=2, splitter=best\n",
          "output_type": "stream"
        },
        {
          "name": "stderr",
          "text": "/lib/python3.11/site-packages/sklearn/tree/_classes.py:269: FutureWarning: `max_features='auto'` has been deprecated in 1.1 and will be removed in 1.3. To keep the past behaviour, explicitly set `max_features='sqrt'`.\n  warnings.warn(\n",
          "output_type": "stream"
        },
        {
          "name": "stdout",
          "text": "[CV 1/2; 361/648] END criterion=entropy, max_depth=4, max_features=auto, min_samples_leaf=1, min_samples_split=2, splitter=best;, score=0.833 total time=   0.0s\n[CV 2/2; 361/648] START criterion=entropy, max_depth=4, max_features=auto, min_samples_leaf=1, min_samples_split=2, splitter=best\n",
          "output_type": "stream"
        },
        {
          "name": "stderr",
          "text": "/lib/python3.11/site-packages/sklearn/tree/_classes.py:269: FutureWarning: `max_features='auto'` has been deprecated in 1.1 and will be removed in 1.3. To keep the past behaviour, explicitly set `max_features='sqrt'`.\n  warnings.warn(\n",
          "output_type": "stream"
        },
        {
          "name": "stdout",
          "text": "[CV 2/2; 361/648] END criterion=entropy, max_depth=4, max_features=auto, min_samples_leaf=1, min_samples_split=2, splitter=best;, score=0.667 total time=   0.0s\n[CV 1/2; 362/648] START criterion=entropy, max_depth=4, max_features=auto, min_samples_leaf=1, min_samples_split=2, splitter=random\n",
          "output_type": "stream"
        },
        {
          "name": "stderr",
          "text": "/lib/python3.11/site-packages/sklearn/tree/_classes.py:269: FutureWarning: `max_features='auto'` has been deprecated in 1.1 and will be removed in 1.3. To keep the past behaviour, explicitly set `max_features='sqrt'`.\n  warnings.warn(\n",
          "output_type": "stream"
        },
        {
          "name": "stdout",
          "text": "[CV 1/2; 362/648] END criterion=entropy, max_depth=4, max_features=auto, min_samples_leaf=1, min_samples_split=2, splitter=random;, score=0.833 total time=   0.0s\n[CV 2/2; 362/648] START criterion=entropy, max_depth=4, max_features=auto, min_samples_leaf=1, min_samples_split=2, splitter=random\n",
          "output_type": "stream"
        },
        {
          "name": "stderr",
          "text": "/lib/python3.11/site-packages/sklearn/tree/_classes.py:269: FutureWarning: `max_features='auto'` has been deprecated in 1.1 and will be removed in 1.3. To keep the past behaviour, explicitly set `max_features='sqrt'`.\n  warnings.warn(\n",
          "output_type": "stream"
        },
        {
          "name": "stdout",
          "text": "[CV 2/2; 362/648] END criterion=entropy, max_depth=4, max_features=auto, min_samples_leaf=1, min_samples_split=2, splitter=random;, score=0.472 total time=   0.0s\n[CV 1/2; 363/648] START criterion=entropy, max_depth=4, max_features=auto, min_samples_leaf=1, min_samples_split=5, splitter=best\n",
          "output_type": "stream"
        },
        {
          "name": "stderr",
          "text": "/lib/python3.11/site-packages/sklearn/tree/_classes.py:269: FutureWarning: `max_features='auto'` has been deprecated in 1.1 and will be removed in 1.3. To keep the past behaviour, explicitly set `max_features='sqrt'`.\n  warnings.warn(\n",
          "output_type": "stream"
        },
        {
          "name": "stdout",
          "text": "[CV 1/2; 363/648] END criterion=entropy, max_depth=4, max_features=auto, min_samples_leaf=1, min_samples_split=5, splitter=best;, score=0.833 total time=   0.0s\n[CV 2/2; 363/648] START criterion=entropy, max_depth=4, max_features=auto, min_samples_leaf=1, min_samples_split=5, splitter=best\n",
          "output_type": "stream"
        },
        {
          "name": "stderr",
          "text": "/lib/python3.11/site-packages/sklearn/tree/_classes.py:269: FutureWarning: `max_features='auto'` has been deprecated in 1.1 and will be removed in 1.3. To keep the past behaviour, explicitly set `max_features='sqrt'`.\n  warnings.warn(\n",
          "output_type": "stream"
        },
        {
          "name": "stdout",
          "text": "[CV 2/2; 363/648] END criterion=entropy, max_depth=4, max_features=auto, min_samples_leaf=1, min_samples_split=5, splitter=best;, score=0.750 total time=   0.0s\n[CV 1/2; 364/648] START criterion=entropy, max_depth=4, max_features=auto, min_samples_leaf=1, min_samples_split=5, splitter=random\n",
          "output_type": "stream"
        },
        {
          "name": "stderr",
          "text": "/lib/python3.11/site-packages/sklearn/tree/_classes.py:269: FutureWarning: `max_features='auto'` has been deprecated in 1.1 and will be removed in 1.3. To keep the past behaviour, explicitly set `max_features='sqrt'`.\n  warnings.warn(\n",
          "output_type": "stream"
        },
        {
          "name": "stdout",
          "text": "[CV 1/2; 364/648] END criterion=entropy, max_depth=4, max_features=auto, min_samples_leaf=1, min_samples_split=5, splitter=random;, score=0.833 total time=   0.0s\n[CV 2/2; 364/648] START criterion=entropy, max_depth=4, max_features=auto, min_samples_leaf=1, min_samples_split=5, splitter=random\n",
          "output_type": "stream"
        },
        {
          "name": "stderr",
          "text": "/lib/python3.11/site-packages/sklearn/tree/_classes.py:269: FutureWarning: `max_features='auto'` has been deprecated in 1.1 and will be removed in 1.3. To keep the past behaviour, explicitly set `max_features='sqrt'`.\n  warnings.warn(\n",
          "output_type": "stream"
        },
        {
          "name": "stdout",
          "text": "[CV 2/2; 364/648] END criterion=entropy, max_depth=4, max_features=auto, min_samples_leaf=1, min_samples_split=5, splitter=random;, score=0.667 total time=   0.0s\n[CV 1/2; 365/648] START criterion=entropy, max_depth=4, max_features=auto, min_samples_leaf=1, min_samples_split=10, splitter=best\n",
          "output_type": "stream"
        },
        {
          "name": "stderr",
          "text": "/lib/python3.11/site-packages/sklearn/tree/_classes.py:269: FutureWarning: `max_features='auto'` has been deprecated in 1.1 and will be removed in 1.3. To keep the past behaviour, explicitly set `max_features='sqrt'`.\n  warnings.warn(\n",
          "output_type": "stream"
        },
        {
          "name": "stdout",
          "text": "[CV 1/2; 365/648] END criterion=entropy, max_depth=4, max_features=auto, min_samples_leaf=1, min_samples_split=10, splitter=best;, score=0.833 total time=   0.0s\n[CV 2/2; 365/648] START criterion=entropy, max_depth=4, max_features=auto, min_samples_leaf=1, min_samples_split=10, splitter=best\n",
          "output_type": "stream"
        },
        {
          "name": "stderr",
          "text": "/lib/python3.11/site-packages/sklearn/tree/_classes.py:269: FutureWarning: `max_features='auto'` has been deprecated in 1.1 and will be removed in 1.3. To keep the past behaviour, explicitly set `max_features='sqrt'`.\n  warnings.warn(\n",
          "output_type": "stream"
        },
        {
          "name": "stdout",
          "text": "[CV 2/2; 365/648] END criterion=entropy, max_depth=4, max_features=auto, min_samples_leaf=1, min_samples_split=10, splitter=best;, score=0.667 total time=   0.0s\n[CV 1/2; 366/648] START criterion=entropy, max_depth=4, max_features=auto, min_samples_leaf=1, min_samples_split=10, splitter=random\n",
          "output_type": "stream"
        },
        {
          "name": "stderr",
          "text": "/lib/python3.11/site-packages/sklearn/tree/_classes.py:269: FutureWarning: `max_features='auto'` has been deprecated in 1.1 and will be removed in 1.3. To keep the past behaviour, explicitly set `max_features='sqrt'`.\n  warnings.warn(\n",
          "output_type": "stream"
        },
        {
          "name": "stdout",
          "text": "[CV 1/2; 366/648] END criterion=entropy, max_depth=4, max_features=auto, min_samples_leaf=1, min_samples_split=10, splitter=random;, score=0.833 total time=   0.0s\n[CV 2/2; 366/648] START criterion=entropy, max_depth=4, max_features=auto, min_samples_leaf=1, min_samples_split=10, splitter=random\n",
          "output_type": "stream"
        },
        {
          "name": "stderr",
          "text": "/lib/python3.11/site-packages/sklearn/tree/_classes.py:269: FutureWarning: `max_features='auto'` has been deprecated in 1.1 and will be removed in 1.3. To keep the past behaviour, explicitly set `max_features='sqrt'`.\n  warnings.warn(\n",
          "output_type": "stream"
        },
        {
          "name": "stdout",
          "text": "[CV 2/2; 366/648] END criterion=entropy, max_depth=4, max_features=auto, min_samples_leaf=1, min_samples_split=10, splitter=random;, score=0.861 total time=   0.0s\n[CV 1/2; 367/648] START criterion=entropy, max_depth=4, max_features=auto, min_samples_leaf=2, min_samples_split=2, splitter=best\n",
          "output_type": "stream"
        },
        {
          "name": "stderr",
          "text": "/lib/python3.11/site-packages/sklearn/tree/_classes.py:269: FutureWarning: `max_features='auto'` has been deprecated in 1.1 and will be removed in 1.3. To keep the past behaviour, explicitly set `max_features='sqrt'`.\n  warnings.warn(\n",
          "output_type": "stream"
        },
        {
          "name": "stdout",
          "text": "[CV 1/2; 367/648] END criterion=entropy, max_depth=4, max_features=auto, min_samples_leaf=2, min_samples_split=2, splitter=best;, score=0.806 total time=   0.0s\n[CV 2/2; 367/648] START criterion=entropy, max_depth=4, max_features=auto, min_samples_leaf=2, min_samples_split=2, splitter=best\n",
          "output_type": "stream"
        },
        {
          "name": "stderr",
          "text": "/lib/python3.11/site-packages/sklearn/tree/_classes.py:269: FutureWarning: `max_features='auto'` has been deprecated in 1.1 and will be removed in 1.3. To keep the past behaviour, explicitly set `max_features='sqrt'`.\n  warnings.warn(\n",
          "output_type": "stream"
        },
        {
          "name": "stdout",
          "text": "[CV 2/2; 367/648] END criterion=entropy, max_depth=4, max_features=auto, min_samples_leaf=2, min_samples_split=2, splitter=best;, score=0.556 total time=   0.0s\n[CV 1/2; 368/648] START criterion=entropy, max_depth=4, max_features=auto, min_samples_leaf=2, min_samples_split=2, splitter=random\n",
          "output_type": "stream"
        },
        {
          "name": "stderr",
          "text": "/lib/python3.11/site-packages/sklearn/tree/_classes.py:269: FutureWarning: `max_features='auto'` has been deprecated in 1.1 and will be removed in 1.3. To keep the past behaviour, explicitly set `max_features='sqrt'`.\n  warnings.warn(\n",
          "output_type": "stream"
        },
        {
          "name": "stdout",
          "text": "[CV 1/2; 368/648] END criterion=entropy, max_depth=4, max_features=auto, min_samples_leaf=2, min_samples_split=2, splitter=random;, score=0.861 total time=   0.0s\n[CV 2/2; 368/648] START criterion=entropy, max_depth=4, max_features=auto, min_samples_leaf=2, min_samples_split=2, splitter=random\n",
          "output_type": "stream"
        },
        {
          "name": "stderr",
          "text": "/lib/python3.11/site-packages/sklearn/tree/_classes.py:269: FutureWarning: `max_features='auto'` has been deprecated in 1.1 and will be removed in 1.3. To keep the past behaviour, explicitly set `max_features='sqrt'`.\n  warnings.warn(\n",
          "output_type": "stream"
        },
        {
          "name": "stdout",
          "text": "[CV 2/2; 368/648] END criterion=entropy, max_depth=4, max_features=auto, min_samples_leaf=2, min_samples_split=2, splitter=random;, score=0.722 total time=   0.0s\n[CV 1/2; 369/648] START criterion=entropy, max_depth=4, max_features=auto, min_samples_leaf=2, min_samples_split=5, splitter=best\n",
          "output_type": "stream"
        },
        {
          "name": "stderr",
          "text": "/lib/python3.11/site-packages/sklearn/tree/_classes.py:269: FutureWarning: `max_features='auto'` has been deprecated in 1.1 and will be removed in 1.3. To keep the past behaviour, explicitly set `max_features='sqrt'`.\n  warnings.warn(\n",
          "output_type": "stream"
        },
        {
          "name": "stdout",
          "text": "[CV 1/2; 369/648] END criterion=entropy, max_depth=4, max_features=auto, min_samples_leaf=2, min_samples_split=5, splitter=best;, score=0.611 total time=   0.0s\n[CV 2/2; 369/648] START criterion=entropy, max_depth=4, max_features=auto, min_samples_leaf=2, min_samples_split=5, splitter=best\n",
          "output_type": "stream"
        },
        {
          "name": "stderr",
          "text": "/lib/python3.11/site-packages/sklearn/tree/_classes.py:269: FutureWarning: `max_features='auto'` has been deprecated in 1.1 and will be removed in 1.3. To keep the past behaviour, explicitly set `max_features='sqrt'`.\n  warnings.warn(\n",
          "output_type": "stream"
        },
        {
          "name": "stdout",
          "text": "[CV 2/2; 369/648] END criterion=entropy, max_depth=4, max_features=auto, min_samples_leaf=2, min_samples_split=5, splitter=best;, score=0.583 total time=   0.0s\n[CV 1/2; 370/648] START criterion=entropy, max_depth=4, max_features=auto, min_samples_leaf=2, min_samples_split=5, splitter=random\n",
          "output_type": "stream"
        },
        {
          "name": "stderr",
          "text": "/lib/python3.11/site-packages/sklearn/tree/_classes.py:269: FutureWarning: `max_features='auto'` has been deprecated in 1.1 and will be removed in 1.3. To keep the past behaviour, explicitly set `max_features='sqrt'`.\n  warnings.warn(\n",
          "output_type": "stream"
        },
        {
          "name": "stdout",
          "text": "[CV 1/2; 370/648] END criterion=entropy, max_depth=4, max_features=auto, min_samples_leaf=2, min_samples_split=5, splitter=random;, score=0.833 total time=   0.0s\n[CV 2/2; 370/648] START criterion=entropy, max_depth=4, max_features=auto, min_samples_leaf=2, min_samples_split=5, splitter=random\n",
          "output_type": "stream"
        },
        {
          "name": "stderr",
          "text": "/lib/python3.11/site-packages/sklearn/tree/_classes.py:269: FutureWarning: `max_features='auto'` has been deprecated in 1.1 and will be removed in 1.3. To keep the past behaviour, explicitly set `max_features='sqrt'`.\n  warnings.warn(\n",
          "output_type": "stream"
        },
        {
          "name": "stdout",
          "text": "[CV 2/2; 370/648] END criterion=entropy, max_depth=4, max_features=auto, min_samples_leaf=2, min_samples_split=5, splitter=random;, score=0.611 total time=   0.0s\n[CV 1/2; 371/648] START criterion=entropy, max_depth=4, max_features=auto, min_samples_leaf=2, min_samples_split=10, splitter=best\n",
          "output_type": "stream"
        },
        {
          "name": "stderr",
          "text": "/lib/python3.11/site-packages/sklearn/tree/_classes.py:269: FutureWarning: `max_features='auto'` has been deprecated in 1.1 and will be removed in 1.3. To keep the past behaviour, explicitly set `max_features='sqrt'`.\n  warnings.warn(\n",
          "output_type": "stream"
        },
        {
          "name": "stdout",
          "text": "[CV 1/2; 371/648] END criterion=entropy, max_depth=4, max_features=auto, min_samples_leaf=2, min_samples_split=10, splitter=best;, score=0.778 total time=   0.0s\n[CV 2/2; 371/648] START criterion=entropy, max_depth=4, max_features=auto, min_samples_leaf=2, min_samples_split=10, splitter=best\n",
          "output_type": "stream"
        },
        {
          "name": "stderr",
          "text": "/lib/python3.11/site-packages/sklearn/tree/_classes.py:269: FutureWarning: `max_features='auto'` has been deprecated in 1.1 and will be removed in 1.3. To keep the past behaviour, explicitly set `max_features='sqrt'`.\n  warnings.warn(\n",
          "output_type": "stream"
        },
        {
          "name": "stdout",
          "text": "[CV 2/2; 371/648] END criterion=entropy, max_depth=4, max_features=auto, min_samples_leaf=2, min_samples_split=10, splitter=best;, score=0.750 total time=   0.0s\n[CV 1/2; 372/648] START criterion=entropy, max_depth=4, max_features=auto, min_samples_leaf=2, min_samples_split=10, splitter=random\n",
          "output_type": "stream"
        },
        {
          "name": "stderr",
          "text": "/lib/python3.11/site-packages/sklearn/tree/_classes.py:269: FutureWarning: `max_features='auto'` has been deprecated in 1.1 and will be removed in 1.3. To keep the past behaviour, explicitly set `max_features='sqrt'`.\n  warnings.warn(\n",
          "output_type": "stream"
        },
        {
          "name": "stdout",
          "text": "[CV 1/2; 372/648] END criterion=entropy, max_depth=4, max_features=auto, min_samples_leaf=2, min_samples_split=10, splitter=random;, score=0.778 total time=   0.0s\n[CV 2/2; 372/648] START criterion=entropy, max_depth=4, max_features=auto, min_samples_leaf=2, min_samples_split=10, splitter=random\n",
          "output_type": "stream"
        },
        {
          "name": "stderr",
          "text": "/lib/python3.11/site-packages/sklearn/tree/_classes.py:269: FutureWarning: `max_features='auto'` has been deprecated in 1.1 and will be removed in 1.3. To keep the past behaviour, explicitly set `max_features='sqrt'`.\n  warnings.warn(\n",
          "output_type": "stream"
        },
        {
          "name": "stdout",
          "text": "[CV 2/2; 372/648] END criterion=entropy, max_depth=4, max_features=auto, min_samples_leaf=2, min_samples_split=10, splitter=random;, score=0.500 total time=   0.0s\n[CV 1/2; 373/648] START criterion=entropy, max_depth=4, max_features=auto, min_samples_leaf=4, min_samples_split=2, splitter=best\n",
          "output_type": "stream"
        },
        {
          "name": "stderr",
          "text": "/lib/python3.11/site-packages/sklearn/tree/_classes.py:269: FutureWarning: `max_features='auto'` has been deprecated in 1.1 and will be removed in 1.3. To keep the past behaviour, explicitly set `max_features='sqrt'`.\n  warnings.warn(\n",
          "output_type": "stream"
        },
        {
          "name": "stdout",
          "text": "[CV 1/2; 373/648] END criterion=entropy, max_depth=4, max_features=auto, min_samples_leaf=4, min_samples_split=2, splitter=best;, score=0.806 total time=   0.0s\n[CV 2/2; 373/648] START criterion=entropy, max_depth=4, max_features=auto, min_samples_leaf=4, min_samples_split=2, splitter=best\n",
          "output_type": "stream"
        },
        {
          "name": "stderr",
          "text": "/lib/python3.11/site-packages/sklearn/tree/_classes.py:269: FutureWarning: `max_features='auto'` has been deprecated in 1.1 and will be removed in 1.3. To keep the past behaviour, explicitly set `max_features='sqrt'`.\n  warnings.warn(\n",
          "output_type": "stream"
        },
        {
          "name": "stdout",
          "text": "[CV 2/2; 373/648] END criterion=entropy, max_depth=4, max_features=auto, min_samples_leaf=4, min_samples_split=2, splitter=best;, score=0.889 total time=   0.0s\n[CV 1/2; 374/648] START criterion=entropy, max_depth=4, max_features=auto, min_samples_leaf=4, min_samples_split=2, splitter=random\n",
          "output_type": "stream"
        },
        {
          "name": "stderr",
          "text": "/lib/python3.11/site-packages/sklearn/tree/_classes.py:269: FutureWarning: `max_features='auto'` has been deprecated in 1.1 and will be removed in 1.3. To keep the past behaviour, explicitly set `max_features='sqrt'`.\n  warnings.warn(\n",
          "output_type": "stream"
        },
        {
          "name": "stdout",
          "text": "[CV 1/2; 374/648] END criterion=entropy, max_depth=4, max_features=auto, min_samples_leaf=4, min_samples_split=2, splitter=random;, score=0.667 total time=   0.0s\n[CV 2/2; 374/648] START criterion=entropy, max_depth=4, max_features=auto, min_samples_leaf=4, min_samples_split=2, splitter=random\n",
          "output_type": "stream"
        },
        {
          "name": "stderr",
          "text": "/lib/python3.11/site-packages/sklearn/tree/_classes.py:269: FutureWarning: `max_features='auto'` has been deprecated in 1.1 and will be removed in 1.3. To keep the past behaviour, explicitly set `max_features='sqrt'`.\n  warnings.warn(\n",
          "output_type": "stream"
        },
        {
          "name": "stdout",
          "text": "[CV 2/2; 374/648] END criterion=entropy, max_depth=4, max_features=auto, min_samples_leaf=4, min_samples_split=2, splitter=random;, score=0.861 total time=   0.0s\n[CV 1/2; 375/648] START criterion=entropy, max_depth=4, max_features=auto, min_samples_leaf=4, min_samples_split=5, splitter=best\n",
          "output_type": "stream"
        },
        {
          "name": "stderr",
          "text": "/lib/python3.11/site-packages/sklearn/tree/_classes.py:269: FutureWarning: `max_features='auto'` has been deprecated in 1.1 and will be removed in 1.3. To keep the past behaviour, explicitly set `max_features='sqrt'`.\n  warnings.warn(\n",
          "output_type": "stream"
        },
        {
          "name": "stdout",
          "text": "[CV 1/2; 375/648] END criterion=entropy, max_depth=4, max_features=auto, min_samples_leaf=4, min_samples_split=5, splitter=best;, score=0.833 total time=   0.0s\n[CV 2/2; 375/648] START criterion=entropy, max_depth=4, max_features=auto, min_samples_leaf=4, min_samples_split=5, splitter=best\n",
          "output_type": "stream"
        },
        {
          "name": "stderr",
          "text": "/lib/python3.11/site-packages/sklearn/tree/_classes.py:269: FutureWarning: `max_features='auto'` has been deprecated in 1.1 and will be removed in 1.3. To keep the past behaviour, explicitly set `max_features='sqrt'`.\n  warnings.warn(\n",
          "output_type": "stream"
        },
        {
          "name": "stdout",
          "text": "[CV 2/2; 375/648] END criterion=entropy, max_depth=4, max_features=auto, min_samples_leaf=4, min_samples_split=5, splitter=best;, score=0.667 total time=   0.0s\n[CV 1/2; 376/648] START criterion=entropy, max_depth=4, max_features=auto, min_samples_leaf=4, min_samples_split=5, splitter=random\n",
          "output_type": "stream"
        },
        {
          "name": "stderr",
          "text": "/lib/python3.11/site-packages/sklearn/tree/_classes.py:269: FutureWarning: `max_features='auto'` has been deprecated in 1.1 and will be removed in 1.3. To keep the past behaviour, explicitly set `max_features='sqrt'`.\n  warnings.warn(\n",
          "output_type": "stream"
        },
        {
          "name": "stdout",
          "text": "[CV 1/2; 376/648] END criterion=entropy, max_depth=4, max_features=auto, min_samples_leaf=4, min_samples_split=5, splitter=random;, score=0.833 total time=   0.0s\n[CV 2/2; 376/648] START criterion=entropy, max_depth=4, max_features=auto, min_samples_leaf=4, min_samples_split=5, splitter=random\n",
          "output_type": "stream"
        },
        {
          "name": "stderr",
          "text": "/lib/python3.11/site-packages/sklearn/tree/_classes.py:269: FutureWarning: `max_features='auto'` has been deprecated in 1.1 and will be removed in 1.3. To keep the past behaviour, explicitly set `max_features='sqrt'`.\n  warnings.warn(\n",
          "output_type": "stream"
        },
        {
          "name": "stdout",
          "text": "[CV 2/2; 376/648] END criterion=entropy, max_depth=4, max_features=auto, min_samples_leaf=4, min_samples_split=5, splitter=random;, score=0.861 total time=   0.0s\n[CV 1/2; 377/648] START criterion=entropy, max_depth=4, max_features=auto, min_samples_leaf=4, min_samples_split=10, splitter=best\n",
          "output_type": "stream"
        },
        {
          "name": "stderr",
          "text": "/lib/python3.11/site-packages/sklearn/tree/_classes.py:269: FutureWarning: `max_features='auto'` has been deprecated in 1.1 and will be removed in 1.3. To keep the past behaviour, explicitly set `max_features='sqrt'`.\n  warnings.warn(\n",
          "output_type": "stream"
        },
        {
          "name": "stdout",
          "text": "[CV 1/2; 377/648] END criterion=entropy, max_depth=4, max_features=auto, min_samples_leaf=4, min_samples_split=10, splitter=best;, score=0.694 total time=   0.0s\n[CV 2/2; 377/648] START criterion=entropy, max_depth=4, max_features=auto, min_samples_leaf=4, min_samples_split=10, splitter=best\n",
          "output_type": "stream"
        },
        {
          "name": "stderr",
          "text": "/lib/python3.11/site-packages/sklearn/tree/_classes.py:269: FutureWarning: `max_features='auto'` has been deprecated in 1.1 and will be removed in 1.3. To keep the past behaviour, explicitly set `max_features='sqrt'`.\n  warnings.warn(\n",
          "output_type": "stream"
        },
        {
          "name": "stdout",
          "text": "[CV 2/2; 377/648] END criterion=entropy, max_depth=4, max_features=auto, min_samples_leaf=4, min_samples_split=10, splitter=best;, score=0.861 total time=   0.0s\n[CV 1/2; 378/648] START criterion=entropy, max_depth=4, max_features=auto, min_samples_leaf=4, min_samples_split=10, splitter=random\n",
          "output_type": "stream"
        },
        {
          "name": "stderr",
          "text": "/lib/python3.11/site-packages/sklearn/tree/_classes.py:269: FutureWarning: `max_features='auto'` has been deprecated in 1.1 and will be removed in 1.3. To keep the past behaviour, explicitly set `max_features='sqrt'`.\n  warnings.warn(\n",
          "output_type": "stream"
        },
        {
          "name": "stdout",
          "text": "[CV 1/2; 378/648] END criterion=entropy, max_depth=4, max_features=auto, min_samples_leaf=4, min_samples_split=10, splitter=random;, score=0.667 total time=   0.0s\n[CV 2/2; 378/648] START criterion=entropy, max_depth=4, max_features=auto, min_samples_leaf=4, min_samples_split=10, splitter=random\n",
          "output_type": "stream"
        },
        {
          "name": "stderr",
          "text": "/lib/python3.11/site-packages/sklearn/tree/_classes.py:269: FutureWarning: `max_features='auto'` has been deprecated in 1.1 and will be removed in 1.3. To keep the past behaviour, explicitly set `max_features='sqrt'`.\n  warnings.warn(\n",
          "output_type": "stream"
        },
        {
          "name": "stdout",
          "text": "[CV 2/2; 378/648] END criterion=entropy, max_depth=4, max_features=auto, min_samples_leaf=4, min_samples_split=10, splitter=random;, score=0.667 total time=   0.0s\n[CV 1/2; 379/648] START criterion=entropy, max_depth=4, max_features=sqrt, min_samples_leaf=1, min_samples_split=2, splitter=best\n[CV 1/2; 379/648] END criterion=entropy, max_depth=4, max_features=sqrt, min_samples_leaf=1, min_samples_split=2, splitter=best;, score=0.806 total time=   0.0s\n[CV 2/2; 379/648] START criterion=entropy, max_depth=4, max_features=sqrt, min_samples_leaf=1, min_samples_split=2, splitter=best\n[CV 2/2; 379/648] END criterion=entropy, max_depth=4, max_features=sqrt, min_samples_leaf=1, min_samples_split=2, splitter=best;, score=0.833 total time=   0.0s\n[CV 1/2; 380/648] START criterion=entropy, max_depth=4, max_features=sqrt, min_samples_leaf=1, min_samples_split=2, splitter=random\n[CV 1/2; 380/648] END criterion=entropy, max_depth=4, max_features=sqrt, min_samples_leaf=1, min_samples_split=2, splitter=random;, score=0.806 total time=   0.0s\n[CV 2/2; 380/648] START criterion=entropy, max_depth=4, max_features=sqrt, min_samples_leaf=1, min_samples_split=2, splitter=random\n[CV 2/2; 380/648] END criterion=entropy, max_depth=4, max_features=sqrt, min_samples_leaf=1, min_samples_split=2, splitter=random;, score=0.667 total time=   0.0s\n[CV 1/2; 381/648] START criterion=entropy, max_depth=4, max_features=sqrt, min_samples_leaf=1, min_samples_split=5, splitter=best\n[CV 1/2; 381/648] END criterion=entropy, max_depth=4, max_features=sqrt, min_samples_leaf=1, min_samples_split=5, splitter=best;, score=0.778 total time=   0.0s\n[CV 2/2; 381/648] START criterion=entropy, max_depth=4, max_features=sqrt, min_samples_leaf=1, min_samples_split=5, splitter=best\n[CV 2/2; 381/648] END criterion=entropy, max_depth=4, max_features=sqrt, min_samples_leaf=1, min_samples_split=5, splitter=best;, score=0.861 total time=   0.0s\n[CV 1/2; 382/648] START criterion=entropy, max_depth=4, max_features=sqrt, min_samples_leaf=1, min_samples_split=5, splitter=random\n[CV 1/2; 382/648] END criterion=entropy, max_depth=4, max_features=sqrt, min_samples_leaf=1, min_samples_split=5, splitter=random;, score=0.750 total time=   0.0s\n[CV 2/2; 382/648] START criterion=entropy, max_depth=4, max_features=sqrt, min_samples_leaf=1, min_samples_split=5, splitter=random\n[CV 2/2; 382/648] END criterion=entropy, max_depth=4, max_features=sqrt, min_samples_leaf=1, min_samples_split=5, splitter=random;, score=0.444 total time=   0.0s\n[CV 1/2; 383/648] START criterion=entropy, max_depth=4, max_features=sqrt, min_samples_leaf=1, min_samples_split=10, splitter=best\n[CV 1/2; 383/648] END criterion=entropy, max_depth=4, max_features=sqrt, min_samples_leaf=1, min_samples_split=10, splitter=best;, score=0.806 total time=   0.0s\n[CV 2/2; 383/648] START criterion=entropy, max_depth=4, max_features=sqrt, min_samples_leaf=1, min_samples_split=10, splitter=best\n[CV 2/2; 383/648] END criterion=entropy, max_depth=4, max_features=sqrt, min_samples_leaf=1, min_samples_split=10, splitter=best;, score=0.667 total time=   0.0s\n[CV 1/2; 384/648] START criterion=entropy, max_depth=4, max_features=sqrt, min_samples_leaf=1, min_samples_split=10, splitter=random\n[CV 1/2; 384/648] END criterion=entropy, max_depth=4, max_features=sqrt, min_samples_leaf=1, min_samples_split=10, splitter=random;, score=0.833 total time=   0.0s\n[CV 2/2; 384/648] START criterion=entropy, max_depth=4, max_features=sqrt, min_samples_leaf=1, min_samples_split=10, splitter=random\n[CV 2/2; 384/648] END criterion=entropy, max_depth=4, max_features=sqrt, min_samples_leaf=1, min_samples_split=10, splitter=random;, score=0.556 total time=   0.0s\n[CV 1/2; 385/648] START criterion=entropy, max_depth=4, max_features=sqrt, min_samples_leaf=2, min_samples_split=2, splitter=best\n[CV 1/2; 385/648] END criterion=entropy, max_depth=4, max_features=sqrt, min_samples_leaf=2, min_samples_split=2, splitter=best;, score=0.833 total time=   0.0s\n[CV 2/2; 385/648] START criterion=entropy, max_depth=4, max_features=sqrt, min_samples_leaf=2, min_samples_split=2, splitter=best\n[CV 2/2; 385/648] END criterion=entropy, max_depth=4, max_features=sqrt, min_samples_leaf=2, min_samples_split=2, splitter=best;, score=0.639 total time=   0.0s\n[CV 1/2; 386/648] START criterion=entropy, max_depth=4, max_features=sqrt, min_samples_leaf=2, min_samples_split=2, splitter=random\n[CV 1/2; 386/648] END criterion=entropy, max_depth=4, max_features=sqrt, min_samples_leaf=2, min_samples_split=2, splitter=random;, score=0.861 total time=   0.0s\n[CV 2/2; 386/648] START criterion=entropy, max_depth=4, max_features=sqrt, min_samples_leaf=2, min_samples_split=2, splitter=random\n[CV 2/2; 386/648] END criterion=entropy, max_depth=4, max_features=sqrt, min_samples_leaf=2, min_samples_split=2, splitter=random;, score=0.583 total time=   0.0s\n[CV 1/2; 387/648] START criterion=entropy, max_depth=4, max_features=sqrt, min_samples_leaf=2, min_samples_split=5, splitter=best\n[CV 1/2; 387/648] END criterion=entropy, max_depth=4, max_features=sqrt, min_samples_leaf=2, min_samples_split=5, splitter=best;, score=0.806 total time=   0.0s\n[CV 2/2; 387/648] START criterion=entropy, max_depth=4, max_features=sqrt, min_samples_leaf=2, min_samples_split=5, splitter=best\n[CV 2/2; 387/648] END criterion=entropy, max_depth=4, max_features=sqrt, min_samples_leaf=2, min_samples_split=5, splitter=best;, score=0.750 total time=   0.0s\n[CV 1/2; 388/648] START criterion=entropy, max_depth=4, max_features=sqrt, min_samples_leaf=2, min_samples_split=5, splitter=random\n[CV 1/2; 388/648] END criterion=entropy, max_depth=4, max_features=sqrt, min_samples_leaf=2, min_samples_split=5, splitter=random;, score=0.833 total time=   0.0s\n[CV 2/2; 388/648] START criterion=entropy, max_depth=4, max_features=sqrt, min_samples_leaf=2, min_samples_split=5, splitter=random\n[CV 2/2; 388/648] END criterion=entropy, max_depth=4, max_features=sqrt, min_samples_leaf=2, min_samples_split=5, splitter=random;, score=0.639 total time=   0.0s\n[CV 1/2; 389/648] START criterion=entropy, max_depth=4, max_features=sqrt, min_samples_leaf=2, min_samples_split=10, splitter=best\n[CV 1/2; 389/648] END criterion=entropy, max_depth=4, max_features=sqrt, min_samples_leaf=2, min_samples_split=10, splitter=best;, score=0.750 total time=   0.0s\n[CV 2/2; 389/648] START criterion=entropy, max_depth=4, max_features=sqrt, min_samples_leaf=2, min_samples_split=10, splitter=best\n[CV 2/2; 389/648] END criterion=entropy, max_depth=4, max_features=sqrt, min_samples_leaf=2, min_samples_split=10, splitter=best;, score=0.667 total time=   0.0s\n[CV 1/2; 390/648] START criterion=entropy, max_depth=4, max_features=sqrt, min_samples_leaf=2, min_samples_split=10, splitter=random\n[CV 1/2; 390/648] END criterion=entropy, max_depth=4, max_features=sqrt, min_samples_leaf=2, min_samples_split=10, splitter=random;, score=0.833 total time=   0.0s\n[CV 2/2; 390/648] START criterion=entropy, max_depth=4, max_features=sqrt, min_samples_leaf=2, min_samples_split=10, splitter=random\n[CV 2/2; 390/648] END criterion=entropy, max_depth=4, max_features=sqrt, min_samples_leaf=2, min_samples_split=10, splitter=random;, score=0.667 total time=   0.0s\n[CV 1/2; 391/648] START criterion=entropy, max_depth=4, max_features=sqrt, min_samples_leaf=4, min_samples_split=2, splitter=best\n[CV 1/2; 391/648] END criterion=entropy, max_depth=4, max_features=sqrt, min_samples_leaf=4, min_samples_split=2, splitter=best;, score=0.806 total time=   0.0s\n[CV 2/2; 391/648] START criterion=entropy, max_depth=4, max_features=sqrt, min_samples_leaf=4, min_samples_split=2, splitter=best\n[CV 2/2; 391/648] END criterion=entropy, max_depth=4, max_features=sqrt, min_samples_leaf=4, min_samples_split=2, splitter=best;, score=0.639 total time=   0.0s\n[CV 1/2; 392/648] START criterion=entropy, max_depth=4, max_features=sqrt, min_samples_leaf=4, min_samples_split=2, splitter=random\n[CV 1/2; 392/648] END criterion=entropy, max_depth=4, max_features=sqrt, min_samples_leaf=4, min_samples_split=2, splitter=random;, score=0.861 total time=   0.0s\n[CV 2/2; 392/648] START criterion=entropy, max_depth=4, max_features=sqrt, min_samples_leaf=4, min_samples_split=2, splitter=random\n[CV 2/2; 392/648] END criterion=entropy, max_depth=4, max_features=sqrt, min_samples_leaf=4, min_samples_split=2, splitter=random;, score=0.861 total time=   0.0s\n[CV 1/2; 393/648] START criterion=entropy, max_depth=4, max_features=sqrt, min_samples_leaf=4, min_samples_split=5, splitter=best\n[CV 1/2; 393/648] END criterion=entropy, max_depth=4, max_features=sqrt, min_samples_leaf=4, min_samples_split=5, splitter=best;, score=0.778 total time=   0.0s\n[CV 2/2; 393/648] START criterion=entropy, max_depth=4, max_features=sqrt, min_samples_leaf=4, min_samples_split=5, splitter=best\n[CV 2/2; 393/648] END criterion=entropy, max_depth=4, max_features=sqrt, min_samples_leaf=4, min_samples_split=5, splitter=best;, score=0.639 total time=   0.0s\n[CV 1/2; 394/648] START criterion=entropy, max_depth=4, max_features=sqrt, min_samples_leaf=4, min_samples_split=5, splitter=random\n[CV 1/2; 394/648] END criterion=entropy, max_depth=4, max_features=sqrt, min_samples_leaf=4, min_samples_split=5, splitter=random;, score=0.667 total time=   0.0s\n[CV 2/2; 394/648] START criterion=entropy, max_depth=4, max_features=sqrt, min_samples_leaf=4, min_samples_split=5, splitter=random\n[CV 2/2; 394/648] END criterion=entropy, max_depth=4, max_features=sqrt, min_samples_leaf=4, min_samples_split=5, splitter=random;, score=0.639 total time=   0.0s\n[CV 1/2; 395/648] START criterion=entropy, max_depth=4, max_features=sqrt, min_samples_leaf=4, min_samples_split=10, splitter=best\n[CV 1/2; 395/648] END criterion=entropy, max_depth=4, max_features=sqrt, min_samples_leaf=4, min_samples_split=10, splitter=best;, score=0.639 total time=   0.0s\n[CV 2/2; 395/648] START criterion=entropy, max_depth=4, max_features=sqrt, min_samples_leaf=4, min_samples_split=10, splitter=best\n[CV 2/2; 395/648] END criterion=entropy, max_depth=4, max_features=sqrt, min_samples_leaf=4, min_samples_split=10, splitter=best;, score=0.667 total time=   0.0s\n[CV 1/2; 396/648] START criterion=entropy, max_depth=4, max_features=sqrt, min_samples_leaf=4, min_samples_split=10, splitter=random\n[CV 1/2; 396/648] END criterion=entropy, max_depth=4, max_features=sqrt, min_samples_leaf=4, min_samples_split=10, splitter=random;, score=0.667 total time=   0.0s\n[CV 2/2; 396/648] START criterion=entropy, max_depth=4, max_features=sqrt, min_samples_leaf=4, min_samples_split=10, splitter=random\n[CV 2/2; 396/648] END criterion=entropy, max_depth=4, max_features=sqrt, min_samples_leaf=4, min_samples_split=10, splitter=random;, score=0.861 total time=   0.0s\n[CV 1/2; 397/648] START criterion=entropy, max_depth=6, max_features=auto, min_samples_leaf=1, min_samples_split=2, splitter=best\n",
          "output_type": "stream"
        },
        {
          "name": "stderr",
          "text": "/lib/python3.11/site-packages/sklearn/tree/_classes.py:269: FutureWarning: `max_features='auto'` has been deprecated in 1.1 and will be removed in 1.3. To keep the past behaviour, explicitly set `max_features='sqrt'`.\n  warnings.warn(\n",
          "output_type": "stream"
        },
        {
          "name": "stdout",
          "text": "[CV 1/2; 397/648] END criterion=entropy, max_depth=6, max_features=auto, min_samples_leaf=1, min_samples_split=2, splitter=best;, score=0.833 total time=   0.0s\n[CV 2/2; 397/648] START criterion=entropy, max_depth=6, max_features=auto, min_samples_leaf=1, min_samples_split=2, splitter=best\n",
          "output_type": "stream"
        },
        {
          "name": "stderr",
          "text": "/lib/python3.11/site-packages/sklearn/tree/_classes.py:269: FutureWarning: `max_features='auto'` has been deprecated in 1.1 and will be removed in 1.3. To keep the past behaviour, explicitly set `max_features='sqrt'`.\n  warnings.warn(\n",
          "output_type": "stream"
        },
        {
          "name": "stdout",
          "text": "[CV 2/2; 397/648] END criterion=entropy, max_depth=6, max_features=auto, min_samples_leaf=1, min_samples_split=2, splitter=best;, score=0.722 total time=   0.0s\n[CV 1/2; 398/648] START criterion=entropy, max_depth=6, max_features=auto, min_samples_leaf=1, min_samples_split=2, splitter=random\n",
          "output_type": "stream"
        },
        {
          "name": "stderr",
          "text": "/lib/python3.11/site-packages/sklearn/tree/_classes.py:269: FutureWarning: `max_features='auto'` has been deprecated in 1.1 and will be removed in 1.3. To keep the past behaviour, explicitly set `max_features='sqrt'`.\n  warnings.warn(\n",
          "output_type": "stream"
        },
        {
          "name": "stdout",
          "text": "[CV 1/2; 398/648] END criterion=entropy, max_depth=6, max_features=auto, min_samples_leaf=1, min_samples_split=2, splitter=random;, score=0.694 total time=   0.0s\n[CV 2/2; 398/648] START criterion=entropy, max_depth=6, max_features=auto, min_samples_leaf=1, min_samples_split=2, splitter=random\n",
          "output_type": "stream"
        },
        {
          "name": "stderr",
          "text": "/lib/python3.11/site-packages/sklearn/tree/_classes.py:269: FutureWarning: `max_features='auto'` has been deprecated in 1.1 and will be removed in 1.3. To keep the past behaviour, explicitly set `max_features='sqrt'`.\n  warnings.warn(\n",
          "output_type": "stream"
        },
        {
          "name": "stdout",
          "text": "[CV 2/2; 398/648] END criterion=entropy, max_depth=6, max_features=auto, min_samples_leaf=1, min_samples_split=2, splitter=random;, score=0.667 total time=   0.0s\n[CV 1/2; 399/648] START criterion=entropy, max_depth=6, max_features=auto, min_samples_leaf=1, min_samples_split=5, splitter=best\n",
          "output_type": "stream"
        },
        {
          "name": "stderr",
          "text": "/lib/python3.11/site-packages/sklearn/tree/_classes.py:269: FutureWarning: `max_features='auto'` has been deprecated in 1.1 and will be removed in 1.3. To keep the past behaviour, explicitly set `max_features='sqrt'`.\n  warnings.warn(\n",
          "output_type": "stream"
        },
        {
          "name": "stdout",
          "text": "[CV 1/2; 399/648] END criterion=entropy, max_depth=6, max_features=auto, min_samples_leaf=1, min_samples_split=5, splitter=best;, score=0.472 total time=   0.0s\n[CV 2/2; 399/648] START criterion=entropy, max_depth=6, max_features=auto, min_samples_leaf=1, min_samples_split=5, splitter=best\n",
          "output_type": "stream"
        },
        {
          "name": "stderr",
          "text": "/lib/python3.11/site-packages/sklearn/tree/_classes.py:269: FutureWarning: `max_features='auto'` has been deprecated in 1.1 and will be removed in 1.3. To keep the past behaviour, explicitly set `max_features='sqrt'`.\n  warnings.warn(\n",
          "output_type": "stream"
        },
        {
          "name": "stdout",
          "text": "[CV 2/2; 399/648] END criterion=entropy, max_depth=6, max_features=auto, min_samples_leaf=1, min_samples_split=5, splitter=best;, score=0.667 total time=   0.0s\n[CV 1/2; 400/648] START criterion=entropy, max_depth=6, max_features=auto, min_samples_leaf=1, min_samples_split=5, splitter=random\n",
          "output_type": "stream"
        },
        {
          "name": "stderr",
          "text": "/lib/python3.11/site-packages/sklearn/tree/_classes.py:269: FutureWarning: `max_features='auto'` has been deprecated in 1.1 and will be removed in 1.3. To keep the past behaviour, explicitly set `max_features='sqrt'`.\n  warnings.warn(\n",
          "output_type": "stream"
        },
        {
          "name": "stdout",
          "text": "[CV 1/2; 400/648] END criterion=entropy, max_depth=6, max_features=auto, min_samples_leaf=1, min_samples_split=5, splitter=random;, score=0.806 total time=   0.0s\n[CV 2/2; 400/648] START criterion=entropy, max_depth=6, max_features=auto, min_samples_leaf=1, min_samples_split=5, splitter=random\n",
          "output_type": "stream"
        },
        {
          "name": "stderr",
          "text": "/lib/python3.11/site-packages/sklearn/tree/_classes.py:269: FutureWarning: `max_features='auto'` has been deprecated in 1.1 and will be removed in 1.3. To keep the past behaviour, explicitly set `max_features='sqrt'`.\n  warnings.warn(\n",
          "output_type": "stream"
        },
        {
          "name": "stdout",
          "text": "[CV 2/2; 400/648] END criterion=entropy, max_depth=6, max_features=auto, min_samples_leaf=1, min_samples_split=5, splitter=random;, score=0.583 total time=   0.0s\n[CV 1/2; 401/648] START criterion=entropy, max_depth=6, max_features=auto, min_samples_leaf=1, min_samples_split=10, splitter=best\n",
          "output_type": "stream"
        },
        {
          "name": "stderr",
          "text": "/lib/python3.11/site-packages/sklearn/tree/_classes.py:269: FutureWarning: `max_features='auto'` has been deprecated in 1.1 and will be removed in 1.3. To keep the past behaviour, explicitly set `max_features='sqrt'`.\n  warnings.warn(\n",
          "output_type": "stream"
        },
        {
          "name": "stdout",
          "text": "[CV 1/2; 401/648] END criterion=entropy, max_depth=6, max_features=auto, min_samples_leaf=1, min_samples_split=10, splitter=best;, score=0.806 total time=   0.0s\n[CV 2/2; 401/648] START criterion=entropy, max_depth=6, max_features=auto, min_samples_leaf=1, min_samples_split=10, splitter=best\n",
          "output_type": "stream"
        },
        {
          "name": "stderr",
          "text": "/lib/python3.11/site-packages/sklearn/tree/_classes.py:269: FutureWarning: `max_features='auto'` has been deprecated in 1.1 and will be removed in 1.3. To keep the past behaviour, explicitly set `max_features='sqrt'`.\n  warnings.warn(\n",
          "output_type": "stream"
        },
        {
          "name": "stdout",
          "text": "[CV 2/2; 401/648] END criterion=entropy, max_depth=6, max_features=auto, min_samples_leaf=1, min_samples_split=10, splitter=best;, score=0.667 total time=   0.0s\n[CV 1/2; 402/648] START criterion=entropy, max_depth=6, max_features=auto, min_samples_leaf=1, min_samples_split=10, splitter=random\n",
          "output_type": "stream"
        },
        {
          "name": "stderr",
          "text": "/lib/python3.11/site-packages/sklearn/tree/_classes.py:269: FutureWarning: `max_features='auto'` has been deprecated in 1.1 and will be removed in 1.3. To keep the past behaviour, explicitly set `max_features='sqrt'`.\n  warnings.warn(\n",
          "output_type": "stream"
        },
        {
          "name": "stdout",
          "text": "[CV 1/2; 402/648] END criterion=entropy, max_depth=6, max_features=auto, min_samples_leaf=1, min_samples_split=10, splitter=random;, score=0.750 total time=   0.0s\n[CV 2/2; 402/648] START criterion=entropy, max_depth=6, max_features=auto, min_samples_leaf=1, min_samples_split=10, splitter=random\n",
          "output_type": "stream"
        },
        {
          "name": "stderr",
          "text": "/lib/python3.11/site-packages/sklearn/tree/_classes.py:269: FutureWarning: `max_features='auto'` has been deprecated in 1.1 and will be removed in 1.3. To keep the past behaviour, explicitly set `max_features='sqrt'`.\n  warnings.warn(\n",
          "output_type": "stream"
        },
        {
          "name": "stdout",
          "text": "[CV 2/2; 402/648] END criterion=entropy, max_depth=6, max_features=auto, min_samples_leaf=1, min_samples_split=10, splitter=random;, score=0.694 total time=   0.0s\n[CV 1/2; 403/648] START criterion=entropy, max_depth=6, max_features=auto, min_samples_leaf=2, min_samples_split=2, splitter=best\n",
          "output_type": "stream"
        },
        {
          "name": "stderr",
          "text": "/lib/python3.11/site-packages/sklearn/tree/_classes.py:269: FutureWarning: `max_features='auto'` has been deprecated in 1.1 and will be removed in 1.3. To keep the past behaviour, explicitly set `max_features='sqrt'`.\n  warnings.warn(\n",
          "output_type": "stream"
        },
        {
          "name": "stdout",
          "text": "[CV 1/2; 403/648] END criterion=entropy, max_depth=6, max_features=auto, min_samples_leaf=2, min_samples_split=2, splitter=best;, score=0.889 total time=   0.0s\n[CV 2/2; 403/648] START criterion=entropy, max_depth=6, max_features=auto, min_samples_leaf=2, min_samples_split=2, splitter=best\n",
          "output_type": "stream"
        },
        {
          "name": "stderr",
          "text": "/lib/python3.11/site-packages/sklearn/tree/_classes.py:269: FutureWarning: `max_features='auto'` has been deprecated in 1.1 and will be removed in 1.3. To keep the past behaviour, explicitly set `max_features='sqrt'`.\n  warnings.warn(\n",
          "output_type": "stream"
        },
        {
          "name": "stdout",
          "text": "[CV 2/2; 403/648] END criterion=entropy, max_depth=6, max_features=auto, min_samples_leaf=2, min_samples_split=2, splitter=best;, score=0.750 total time=   0.0s\n[CV 1/2; 404/648] START criterion=entropy, max_depth=6, max_features=auto, min_samples_leaf=2, min_samples_split=2, splitter=random\n",
          "output_type": "stream"
        },
        {
          "name": "stderr",
          "text": "/lib/python3.11/site-packages/sklearn/tree/_classes.py:269: FutureWarning: `max_features='auto'` has been deprecated in 1.1 and will be removed in 1.3. To keep the past behaviour, explicitly set `max_features='sqrt'`.\n  warnings.warn(\n",
          "output_type": "stream"
        },
        {
          "name": "stdout",
          "text": "[CV 1/2; 404/648] END criterion=entropy, max_depth=6, max_features=auto, min_samples_leaf=2, min_samples_split=2, splitter=random;, score=0.583 total time=   0.0s\n[CV 2/2; 404/648] START criterion=entropy, max_depth=6, max_features=auto, min_samples_leaf=2, min_samples_split=2, splitter=random\n",
          "output_type": "stream"
        },
        {
          "name": "stderr",
          "text": "/lib/python3.11/site-packages/sklearn/tree/_classes.py:269: FutureWarning: `max_features='auto'` has been deprecated in 1.1 and will be removed in 1.3. To keep the past behaviour, explicitly set `max_features='sqrt'`.\n  warnings.warn(\n",
          "output_type": "stream"
        },
        {
          "name": "stdout",
          "text": "[CV 2/2; 404/648] END criterion=entropy, max_depth=6, max_features=auto, min_samples_leaf=2, min_samples_split=2, splitter=random;, score=0.472 total time=   0.0s\n[CV 1/2; 405/648] START criterion=entropy, max_depth=6, max_features=auto, min_samples_leaf=2, min_samples_split=5, splitter=best\n",
          "output_type": "stream"
        },
        {
          "name": "stderr",
          "text": "/lib/python3.11/site-packages/sklearn/tree/_classes.py:269: FutureWarning: `max_features='auto'` has been deprecated in 1.1 and will be removed in 1.3. To keep the past behaviour, explicitly set `max_features='sqrt'`.\n  warnings.warn(\n",
          "output_type": "stream"
        },
        {
          "name": "stdout",
          "text": "[CV 1/2; 405/648] END criterion=entropy, max_depth=6, max_features=auto, min_samples_leaf=2, min_samples_split=5, splitter=best;, score=0.861 total time=   0.0s\n[CV 2/2; 405/648] START criterion=entropy, max_depth=6, max_features=auto, min_samples_leaf=2, min_samples_split=5, splitter=best\n",
          "output_type": "stream"
        },
        {
          "name": "stderr",
          "text": "/lib/python3.11/site-packages/sklearn/tree/_classes.py:269: FutureWarning: `max_features='auto'` has been deprecated in 1.1 and will be removed in 1.3. To keep the past behaviour, explicitly set `max_features='sqrt'`.\n  warnings.warn(\n",
          "output_type": "stream"
        },
        {
          "name": "stdout",
          "text": "[CV 2/2; 405/648] END criterion=entropy, max_depth=6, max_features=auto, min_samples_leaf=2, min_samples_split=5, splitter=best;, score=0.667 total time=   0.0s\n[CV 1/2; 406/648] START criterion=entropy, max_depth=6, max_features=auto, min_samples_leaf=2, min_samples_split=5, splitter=random\n",
          "output_type": "stream"
        },
        {
          "name": "stderr",
          "text": "/lib/python3.11/site-packages/sklearn/tree/_classes.py:269: FutureWarning: `max_features='auto'` has been deprecated in 1.1 and will be removed in 1.3. To keep the past behaviour, explicitly set `max_features='sqrt'`.\n  warnings.warn(\n",
          "output_type": "stream"
        },
        {
          "name": "stdout",
          "text": "[CV 1/2; 406/648] END criterion=entropy, max_depth=6, max_features=auto, min_samples_leaf=2, min_samples_split=5, splitter=random;, score=0.889 total time=   0.0s\n[CV 2/2; 406/648] START criterion=entropy, max_depth=6, max_features=auto, min_samples_leaf=2, min_samples_split=5, splitter=random\n",
          "output_type": "stream"
        },
        {
          "name": "stderr",
          "text": "/lib/python3.11/site-packages/sklearn/tree/_classes.py:269: FutureWarning: `max_features='auto'` has been deprecated in 1.1 and will be removed in 1.3. To keep the past behaviour, explicitly set `max_features='sqrt'`.\n  warnings.warn(\n",
          "output_type": "stream"
        },
        {
          "name": "stdout",
          "text": "[CV 2/2; 406/648] END criterion=entropy, max_depth=6, max_features=auto, min_samples_leaf=2, min_samples_split=5, splitter=random;, score=0.750 total time=   0.0s\n[CV 1/2; 407/648] START criterion=entropy, max_depth=6, max_features=auto, min_samples_leaf=2, min_samples_split=10, splitter=best\n",
          "output_type": "stream"
        },
        {
          "name": "stderr",
          "text": "/lib/python3.11/site-packages/sklearn/tree/_classes.py:269: FutureWarning: `max_features='auto'` has been deprecated in 1.1 and will be removed in 1.3. To keep the past behaviour, explicitly set `max_features='sqrt'`.\n  warnings.warn(\n",
          "output_type": "stream"
        },
        {
          "name": "stdout",
          "text": "[CV 1/2; 407/648] END criterion=entropy, max_depth=6, max_features=auto, min_samples_leaf=2, min_samples_split=10, splitter=best;, score=0.833 total time=   0.0s\n[CV 2/2; 407/648] START criterion=entropy, max_depth=6, max_features=auto, min_samples_leaf=2, min_samples_split=10, splitter=best\n",
          "output_type": "stream"
        },
        {
          "name": "stderr",
          "text": "/lib/python3.11/site-packages/sklearn/tree/_classes.py:269: FutureWarning: `max_features='auto'` has been deprecated in 1.1 and will be removed in 1.3. To keep the past behaviour, explicitly set `max_features='sqrt'`.\n  warnings.warn(\n",
          "output_type": "stream"
        },
        {
          "name": "stdout",
          "text": "[CV 2/2; 407/648] END criterion=entropy, max_depth=6, max_features=auto, min_samples_leaf=2, min_samples_split=10, splitter=best;, score=0.667 total time=   0.0s\n[CV 1/2; 408/648] START criterion=entropy, max_depth=6, max_features=auto, min_samples_leaf=2, min_samples_split=10, splitter=random\n",
          "output_type": "stream"
        },
        {
          "name": "stderr",
          "text": "/lib/python3.11/site-packages/sklearn/tree/_classes.py:269: FutureWarning: `max_features='auto'` has been deprecated in 1.1 and will be removed in 1.3. To keep the past behaviour, explicitly set `max_features='sqrt'`.\n  warnings.warn(\n",
          "output_type": "stream"
        },
        {
          "name": "stdout",
          "text": "[CV 1/2; 408/648] END criterion=entropy, max_depth=6, max_features=auto, min_samples_leaf=2, min_samples_split=10, splitter=random;, score=0.833 total time=   0.0s\n[CV 2/2; 408/648] START criterion=entropy, max_depth=6, max_features=auto, min_samples_leaf=2, min_samples_split=10, splitter=random\n",
          "output_type": "stream"
        },
        {
          "name": "stderr",
          "text": "/lib/python3.11/site-packages/sklearn/tree/_classes.py:269: FutureWarning: `max_features='auto'` has been deprecated in 1.1 and will be removed in 1.3. To keep the past behaviour, explicitly set `max_features='sqrt'`.\n  warnings.warn(\n",
          "output_type": "stream"
        },
        {
          "name": "stdout",
          "text": "[CV 2/2; 408/648] END criterion=entropy, max_depth=6, max_features=auto, min_samples_leaf=2, min_samples_split=10, splitter=random;, score=0.583 total time=   0.0s\n[CV 1/2; 409/648] START criterion=entropy, max_depth=6, max_features=auto, min_samples_leaf=4, min_samples_split=2, splitter=best\n",
          "output_type": "stream"
        },
        {
          "name": "stderr",
          "text": "/lib/python3.11/site-packages/sklearn/tree/_classes.py:269: FutureWarning: `max_features='auto'` has been deprecated in 1.1 and will be removed in 1.3. To keep the past behaviour, explicitly set `max_features='sqrt'`.\n  warnings.warn(\n",
          "output_type": "stream"
        },
        {
          "name": "stdout",
          "text": "[CV 1/2; 409/648] END criterion=entropy, max_depth=6, max_features=auto, min_samples_leaf=4, min_samples_split=2, splitter=best;, score=0.861 total time=   0.0s\n[CV 2/2; 409/648] START criterion=entropy, max_depth=6, max_features=auto, min_samples_leaf=4, min_samples_split=2, splitter=best\n",
          "output_type": "stream"
        },
        {
          "name": "stderr",
          "text": "/lib/python3.11/site-packages/sklearn/tree/_classes.py:269: FutureWarning: `max_features='auto'` has been deprecated in 1.1 and will be removed in 1.3. To keep the past behaviour, explicitly set `max_features='sqrt'`.\n  warnings.warn(\n",
          "output_type": "stream"
        },
        {
          "name": "stdout",
          "text": "[CV 2/2; 409/648] END criterion=entropy, max_depth=6, max_features=auto, min_samples_leaf=4, min_samples_split=2, splitter=best;, score=0.861 total time=   0.0s\n[CV 1/2; 410/648] START criterion=entropy, max_depth=6, max_features=auto, min_samples_leaf=4, min_samples_split=2, splitter=random\n",
          "output_type": "stream"
        },
        {
          "name": "stderr",
          "text": "/lib/python3.11/site-packages/sklearn/tree/_classes.py:269: FutureWarning: `max_features='auto'` has been deprecated in 1.1 and will be removed in 1.3. To keep the past behaviour, explicitly set `max_features='sqrt'`.\n  warnings.warn(\n",
          "output_type": "stream"
        },
        {
          "name": "stdout",
          "text": "[CV 1/2; 410/648] END criterion=entropy, max_depth=6, max_features=auto, min_samples_leaf=4, min_samples_split=2, splitter=random;, score=0.667 total time=   0.0s\n[CV 2/2; 410/648] START criterion=entropy, max_depth=6, max_features=auto, min_samples_leaf=4, min_samples_split=2, splitter=random\n",
          "output_type": "stream"
        },
        {
          "name": "stderr",
          "text": "/lib/python3.11/site-packages/sklearn/tree/_classes.py:269: FutureWarning: `max_features='auto'` has been deprecated in 1.1 and will be removed in 1.3. To keep the past behaviour, explicitly set `max_features='sqrt'`.\n  warnings.warn(\n",
          "output_type": "stream"
        },
        {
          "name": "stdout",
          "text": "[CV 2/2; 410/648] END criterion=entropy, max_depth=6, max_features=auto, min_samples_leaf=4, min_samples_split=2, splitter=random;, score=0.750 total time=   0.0s\n[CV 1/2; 411/648] START criterion=entropy, max_depth=6, max_features=auto, min_samples_leaf=4, min_samples_split=5, splitter=best\n",
          "output_type": "stream"
        },
        {
          "name": "stderr",
          "text": "/lib/python3.11/site-packages/sklearn/tree/_classes.py:269: FutureWarning: `max_features='auto'` has been deprecated in 1.1 and will be removed in 1.3. To keep the past behaviour, explicitly set `max_features='sqrt'`.\n  warnings.warn(\n",
          "output_type": "stream"
        },
        {
          "name": "stdout",
          "text": "[CV 1/2; 411/648] END criterion=entropy, max_depth=6, max_features=auto, min_samples_leaf=4, min_samples_split=5, splitter=best;, score=0.861 total time=   0.0s\n[CV 2/2; 411/648] START criterion=entropy, max_depth=6, max_features=auto, min_samples_leaf=4, min_samples_split=5, splitter=best\n",
          "output_type": "stream"
        },
        {
          "name": "stderr",
          "text": "/lib/python3.11/site-packages/sklearn/tree/_classes.py:269: FutureWarning: `max_features='auto'` has been deprecated in 1.1 and will be removed in 1.3. To keep the past behaviour, explicitly set `max_features='sqrt'`.\n  warnings.warn(\n",
          "output_type": "stream"
        },
        {
          "name": "stdout",
          "text": "[CV 2/2; 411/648] END criterion=entropy, max_depth=6, max_features=auto, min_samples_leaf=4, min_samples_split=5, splitter=best;, score=0.861 total time=   0.0s\n[CV 1/2; 412/648] START criterion=entropy, max_depth=6, max_features=auto, min_samples_leaf=4, min_samples_split=5, splitter=random\n",
          "output_type": "stream"
        },
        {
          "name": "stderr",
          "text": "/lib/python3.11/site-packages/sklearn/tree/_classes.py:269: FutureWarning: `max_features='auto'` has been deprecated in 1.1 and will be removed in 1.3. To keep the past behaviour, explicitly set `max_features='sqrt'`.\n  warnings.warn(\n",
          "output_type": "stream"
        },
        {
          "name": "stdout",
          "text": "[CV 1/2; 412/648] END criterion=entropy, max_depth=6, max_features=auto, min_samples_leaf=4, min_samples_split=5, splitter=random;, score=0.861 total time=   0.0s\n[CV 2/2; 412/648] START criterion=entropy, max_depth=6, max_features=auto, min_samples_leaf=4, min_samples_split=5, splitter=random\n",
          "output_type": "stream"
        },
        {
          "name": "stderr",
          "text": "/lib/python3.11/site-packages/sklearn/tree/_classes.py:269: FutureWarning: `max_features='auto'` has been deprecated in 1.1 and will be removed in 1.3. To keep the past behaviour, explicitly set `max_features='sqrt'`.\n  warnings.warn(\n",
          "output_type": "stream"
        },
        {
          "name": "stdout",
          "text": "[CV 2/2; 412/648] END criterion=entropy, max_depth=6, max_features=auto, min_samples_leaf=4, min_samples_split=5, splitter=random;, score=0.583 total time=   0.0s\n[CV 1/2; 413/648] START criterion=entropy, max_depth=6, max_features=auto, min_samples_leaf=4, min_samples_split=10, splitter=best\n",
          "output_type": "stream"
        },
        {
          "name": "stderr",
          "text": "/lib/python3.11/site-packages/sklearn/tree/_classes.py:269: FutureWarning: `max_features='auto'` has been deprecated in 1.1 and will be removed in 1.3. To keep the past behaviour, explicitly set `max_features='sqrt'`.\n  warnings.warn(\n",
          "output_type": "stream"
        },
        {
          "name": "stdout",
          "text": "[CV 1/2; 413/648] END criterion=entropy, max_depth=6, max_features=auto, min_samples_leaf=4, min_samples_split=10, splitter=best;, score=0.833 total time=   0.0s\n[CV 2/2; 413/648] START criterion=entropy, max_depth=6, max_features=auto, min_samples_leaf=4, min_samples_split=10, splitter=best\n",
          "output_type": "stream"
        },
        {
          "name": "stderr",
          "text": "/lib/python3.11/site-packages/sklearn/tree/_classes.py:269: FutureWarning: `max_features='auto'` has been deprecated in 1.1 and will be removed in 1.3. To keep the past behaviour, explicitly set `max_features='sqrt'`.\n  warnings.warn(\n",
          "output_type": "stream"
        },
        {
          "name": "stdout",
          "text": "[CV 2/2; 413/648] END criterion=entropy, max_depth=6, max_features=auto, min_samples_leaf=4, min_samples_split=10, splitter=best;, score=0.556 total time=   0.0s\n[CV 1/2; 414/648] START criterion=entropy, max_depth=6, max_features=auto, min_samples_leaf=4, min_samples_split=10, splitter=random\n",
          "output_type": "stream"
        },
        {
          "name": "stderr",
          "text": "/lib/python3.11/site-packages/sklearn/tree/_classes.py:269: FutureWarning: `max_features='auto'` has been deprecated in 1.1 and will be removed in 1.3. To keep the past behaviour, explicitly set `max_features='sqrt'`.\n  warnings.warn(\n",
          "output_type": "stream"
        },
        {
          "name": "stdout",
          "text": "[CV 1/2; 414/648] END criterion=entropy, max_depth=6, max_features=auto, min_samples_leaf=4, min_samples_split=10, splitter=random;, score=0.778 total time=   0.0s\n[CV 2/2; 414/648] START criterion=entropy, max_depth=6, max_features=auto, min_samples_leaf=4, min_samples_split=10, splitter=random\n",
          "output_type": "stream"
        },
        {
          "name": "stderr",
          "text": "/lib/python3.11/site-packages/sklearn/tree/_classes.py:269: FutureWarning: `max_features='auto'` has been deprecated in 1.1 and will be removed in 1.3. To keep the past behaviour, explicitly set `max_features='sqrt'`.\n  warnings.warn(\n",
          "output_type": "stream"
        },
        {
          "name": "stdout",
          "text": "[CV 2/2; 414/648] END criterion=entropy, max_depth=6, max_features=auto, min_samples_leaf=4, min_samples_split=10, splitter=random;, score=0.667 total time=   0.0s\n[CV 1/2; 415/648] START criterion=entropy, max_depth=6, max_features=sqrt, min_samples_leaf=1, min_samples_split=2, splitter=best\n[CV 1/2; 415/648] END criterion=entropy, max_depth=6, max_features=sqrt, min_samples_leaf=1, min_samples_split=2, splitter=best;, score=0.833 total time=   0.0s\n[CV 2/2; 415/648] START criterion=entropy, max_depth=6, max_features=sqrt, min_samples_leaf=1, min_samples_split=2, splitter=best\n[CV 2/2; 415/648] END criterion=entropy, max_depth=6, max_features=sqrt, min_samples_leaf=1, min_samples_split=2, splitter=best;, score=0.528 total time=   0.0s\n[CV 1/2; 416/648] START criterion=entropy, max_depth=6, max_features=sqrt, min_samples_leaf=1, min_samples_split=2, splitter=random\n[CV 1/2; 416/648] END criterion=entropy, max_depth=6, max_features=sqrt, min_samples_leaf=1, min_samples_split=2, splitter=random;, score=0.694 total time=   0.0s\n[CV 2/2; 416/648] START criterion=entropy, max_depth=6, max_features=sqrt, min_samples_leaf=1, min_samples_split=2, splitter=random\n[CV 2/2; 416/648] END criterion=entropy, max_depth=6, max_features=sqrt, min_samples_leaf=1, min_samples_split=2, splitter=random;, score=0.528 total time=   0.0s\n[CV 1/2; 417/648] START criterion=entropy, max_depth=6, max_features=sqrt, min_samples_leaf=1, min_samples_split=5, splitter=best\n[CV 1/2; 417/648] END criterion=entropy, max_depth=6, max_features=sqrt, min_samples_leaf=1, min_samples_split=5, splitter=best;, score=0.861 total time=   0.0s\n[CV 2/2; 417/648] START criterion=entropy, max_depth=6, max_features=sqrt, min_samples_leaf=1, min_samples_split=5, splitter=best\n[CV 2/2; 417/648] END criterion=entropy, max_depth=6, max_features=sqrt, min_samples_leaf=1, min_samples_split=5, splitter=best;, score=0.667 total time=   0.0s\n[CV 1/2; 418/648] START criterion=entropy, max_depth=6, max_features=sqrt, min_samples_leaf=1, min_samples_split=5, splitter=random\n[CV 1/2; 418/648] END criterion=entropy, max_depth=6, max_features=sqrt, min_samples_leaf=1, min_samples_split=5, splitter=random;, score=0.833 total time=   0.0s\n[CV 2/2; 418/648] START criterion=entropy, max_depth=6, max_features=sqrt, min_samples_leaf=1, min_samples_split=5, splitter=random\n[CV 2/2; 418/648] END criterion=entropy, max_depth=6, max_features=sqrt, min_samples_leaf=1, min_samples_split=5, splitter=random;, score=0.722 total time=   0.0s\n[CV 1/2; 419/648] START criterion=entropy, max_depth=6, max_features=sqrt, min_samples_leaf=1, min_samples_split=10, splitter=best\n[CV 1/2; 419/648] END criterion=entropy, max_depth=6, max_features=sqrt, min_samples_leaf=1, min_samples_split=10, splitter=best;, score=0.861 total time=   0.0s\n[CV 2/2; 419/648] START criterion=entropy, max_depth=6, max_features=sqrt, min_samples_leaf=1, min_samples_split=10, splitter=best\n[CV 2/2; 419/648] END criterion=entropy, max_depth=6, max_features=sqrt, min_samples_leaf=1, min_samples_split=10, splitter=best;, score=0.861 total time=   0.0s\n[CV 1/2; 420/648] START criterion=entropy, max_depth=6, max_features=sqrt, min_samples_leaf=1, min_samples_split=10, splitter=random\n[CV 1/2; 420/648] END criterion=entropy, max_depth=6, max_features=sqrt, min_samples_leaf=1, min_samples_split=10, splitter=random;, score=0.778 total time=   0.0s\n[CV 2/2; 420/648] START criterion=entropy, max_depth=6, max_features=sqrt, min_samples_leaf=1, min_samples_split=10, splitter=random\n[CV 2/2; 420/648] END criterion=entropy, max_depth=6, max_features=sqrt, min_samples_leaf=1, min_samples_split=10, splitter=random;, score=0.667 total time=   0.0s\n[CV 1/2; 421/648] START criterion=entropy, max_depth=6, max_features=sqrt, min_samples_leaf=2, min_samples_split=2, splitter=best\n[CV 1/2; 421/648] END criterion=entropy, max_depth=6, max_features=sqrt, min_samples_leaf=2, min_samples_split=2, splitter=best;, score=0.722 total time=   0.0s\n[CV 2/2; 421/648] START criterion=entropy, max_depth=6, max_features=sqrt, min_samples_leaf=2, min_samples_split=2, splitter=best\n[CV 2/2; 421/648] END criterion=entropy, max_depth=6, max_features=sqrt, min_samples_leaf=2, min_samples_split=2, splitter=best;, score=0.694 total time=   0.0s\n[CV 1/2; 422/648] START criterion=entropy, max_depth=6, max_features=sqrt, min_samples_leaf=2, min_samples_split=2, splitter=random\n[CV 1/2; 422/648] END criterion=entropy, max_depth=6, max_features=sqrt, min_samples_leaf=2, min_samples_split=2, splitter=random;, score=0.639 total time=   0.0s\n[CV 2/2; 422/648] START criterion=entropy, max_depth=6, max_features=sqrt, min_samples_leaf=2, min_samples_split=2, splitter=random\n[CV 2/2; 422/648] END criterion=entropy, max_depth=6, max_features=sqrt, min_samples_leaf=2, min_samples_split=2, splitter=random;, score=0.667 total time=   0.0s\n[CV 1/2; 423/648] START criterion=entropy, max_depth=6, max_features=sqrt, min_samples_leaf=2, min_samples_split=5, splitter=best\n[CV 1/2; 423/648] END criterion=entropy, max_depth=6, max_features=sqrt, min_samples_leaf=2, min_samples_split=5, splitter=best;, score=0.833 total time=   0.0s\n[CV 2/2; 423/648] START criterion=entropy, max_depth=6, max_features=sqrt, min_samples_leaf=2, min_samples_split=5, splitter=best\n[CV 2/2; 423/648] END criterion=entropy, max_depth=6, max_features=sqrt, min_samples_leaf=2, min_samples_split=5, splitter=best;, score=0.667 total time=   0.0s\n[CV 1/2; 424/648] START criterion=entropy, max_depth=6, max_features=sqrt, min_samples_leaf=2, min_samples_split=5, splitter=random\n[CV 1/2; 424/648] END criterion=entropy, max_depth=6, max_features=sqrt, min_samples_leaf=2, min_samples_split=5, splitter=random;, score=0.778 total time=   0.0s\n[CV 2/2; 424/648] START criterion=entropy, max_depth=6, max_features=sqrt, min_samples_leaf=2, min_samples_split=5, splitter=random\n[CV 2/2; 424/648] END criterion=entropy, max_depth=6, max_features=sqrt, min_samples_leaf=2, min_samples_split=5, splitter=random;, score=0.722 total time=   0.0s\n[CV 1/2; 425/648] START criterion=entropy, max_depth=6, max_features=sqrt, min_samples_leaf=2, min_samples_split=10, splitter=best\n[CV 1/2; 425/648] END criterion=entropy, max_depth=6, max_features=sqrt, min_samples_leaf=2, min_samples_split=10, splitter=best;, score=0.833 total time=   0.0s\n[CV 2/2; 425/648] START criterion=entropy, max_depth=6, max_features=sqrt, min_samples_leaf=2, min_samples_split=10, splitter=best\n[CV 2/2; 425/648] END criterion=entropy, max_depth=6, max_features=sqrt, min_samples_leaf=2, min_samples_split=10, splitter=best;, score=0.583 total time=   0.0s\n[CV 1/2; 426/648] START criterion=entropy, max_depth=6, max_features=sqrt, min_samples_leaf=2, min_samples_split=10, splitter=random\n[CV 1/2; 426/648] END criterion=entropy, max_depth=6, max_features=sqrt, min_samples_leaf=2, min_samples_split=10, splitter=random;, score=0.750 total time=   0.0s\n[CV 2/2; 426/648] START criterion=entropy, max_depth=6, max_features=sqrt, min_samples_leaf=2, min_samples_split=10, splitter=random\n[CV 2/2; 426/648] END criterion=entropy, max_depth=6, max_features=sqrt, min_samples_leaf=2, min_samples_split=10, splitter=random;, score=0.750 total time=   0.0s\n[CV 1/2; 427/648] START criterion=entropy, max_depth=6, max_features=sqrt, min_samples_leaf=4, min_samples_split=2, splitter=best\n[CV 1/2; 427/648] END criterion=entropy, max_depth=6, max_features=sqrt, min_samples_leaf=4, min_samples_split=2, splitter=best;, score=0.667 total time=   0.0s\n[CV 2/2; 427/648] START criterion=entropy, max_depth=6, max_features=sqrt, min_samples_leaf=4, min_samples_split=2, splitter=best\n[CV 2/2; 427/648] END criterion=entropy, max_depth=6, max_features=sqrt, min_samples_leaf=4, min_samples_split=2, splitter=best;, score=0.389 total time=   0.0s\n[CV 1/2; 428/648] START criterion=entropy, max_depth=6, max_features=sqrt, min_samples_leaf=4, min_samples_split=2, splitter=random\n[CV 1/2; 428/648] END criterion=entropy, max_depth=6, max_features=sqrt, min_samples_leaf=4, min_samples_split=2, splitter=random;, score=0.861 total time=   0.0s\n[CV 2/2; 428/648] START criterion=entropy, max_depth=6, max_features=sqrt, min_samples_leaf=4, min_samples_split=2, splitter=random\n[CV 2/2; 428/648] END criterion=entropy, max_depth=6, max_features=sqrt, min_samples_leaf=4, min_samples_split=2, splitter=random;, score=0.389 total time=   0.0s\n[CV 1/2; 429/648] START criterion=entropy, max_depth=6, max_features=sqrt, min_samples_leaf=4, min_samples_split=5, splitter=best\n[CV 1/2; 429/648] END criterion=entropy, max_depth=6, max_features=sqrt, min_samples_leaf=4, min_samples_split=5, splitter=best;, score=0.833 total time=   0.0s\n[CV 2/2; 429/648] START criterion=entropy, max_depth=6, max_features=sqrt, min_samples_leaf=4, min_samples_split=5, splitter=best\n[CV 2/2; 429/648] END criterion=entropy, max_depth=6, max_features=sqrt, min_samples_leaf=4, min_samples_split=5, splitter=best;, score=0.750 total time=   0.0s\n[CV 1/2; 430/648] START criterion=entropy, max_depth=6, max_features=sqrt, min_samples_leaf=4, min_samples_split=5, splitter=random\n[CV 1/2; 430/648] END criterion=entropy, max_depth=6, max_features=sqrt, min_samples_leaf=4, min_samples_split=5, splitter=random;, score=0.667 total time=   0.0s\n[CV 2/2; 430/648] START criterion=entropy, max_depth=6, max_features=sqrt, min_samples_leaf=4, min_samples_split=5, splitter=random\n[CV 2/2; 430/648] END criterion=entropy, max_depth=6, max_features=sqrt, min_samples_leaf=4, min_samples_split=5, splitter=random;, score=0.861 total time=   0.0s\n[CV 1/2; 431/648] START criterion=entropy, max_depth=6, max_features=sqrt, min_samples_leaf=4, min_samples_split=10, splitter=best\n[CV 1/2; 431/648] END criterion=entropy, max_depth=6, max_features=sqrt, min_samples_leaf=4, min_samples_split=10, splitter=best;, score=0.861 total time=   0.0s\n[CV 2/2; 431/648] START criterion=entropy, max_depth=6, max_features=sqrt, min_samples_leaf=4, min_samples_split=10, splitter=best\n[CV 2/2; 431/648] END criterion=entropy, max_depth=6, max_features=sqrt, min_samples_leaf=4, min_samples_split=10, splitter=best;, score=0.667 total time=   0.0s\n[CV 1/2; 432/648] START criterion=entropy, max_depth=6, max_features=sqrt, min_samples_leaf=4, min_samples_split=10, splitter=random\n[CV 1/2; 432/648] END criterion=entropy, max_depth=6, max_features=sqrt, min_samples_leaf=4, min_samples_split=10, splitter=random;, score=0.667 total time=   0.0s\n[CV 2/2; 432/648] START criterion=entropy, max_depth=6, max_features=sqrt, min_samples_leaf=4, min_samples_split=10, splitter=random\n[CV 2/2; 432/648] END criterion=entropy, max_depth=6, max_features=sqrt, min_samples_leaf=4, min_samples_split=10, splitter=random;, score=0.500 total time=   0.0s\n[CV 1/2; 433/648] START criterion=entropy, max_depth=8, max_features=auto, min_samples_leaf=1, min_samples_split=2, splitter=best\n",
          "output_type": "stream"
        },
        {
          "name": "stderr",
          "text": "/lib/python3.11/site-packages/sklearn/tree/_classes.py:269: FutureWarning: `max_features='auto'` has been deprecated in 1.1 and will be removed in 1.3. To keep the past behaviour, explicitly set `max_features='sqrt'`.\n  warnings.warn(\n",
          "output_type": "stream"
        },
        {
          "name": "stdout",
          "text": "[CV 1/2; 433/648] END criterion=entropy, max_depth=8, max_features=auto, min_samples_leaf=1, min_samples_split=2, splitter=best;, score=0.722 total time=   0.0s\n[CV 2/2; 433/648] START criterion=entropy, max_depth=8, max_features=auto, min_samples_leaf=1, min_samples_split=2, splitter=best\n",
          "output_type": "stream"
        },
        {
          "name": "stderr",
          "text": "/lib/python3.11/site-packages/sklearn/tree/_classes.py:269: FutureWarning: `max_features='auto'` has been deprecated in 1.1 and will be removed in 1.3. To keep the past behaviour, explicitly set `max_features='sqrt'`.\n  warnings.warn(\n",
          "output_type": "stream"
        },
        {
          "name": "stdout",
          "text": "[CV 2/2; 433/648] END criterion=entropy, max_depth=8, max_features=auto, min_samples_leaf=1, min_samples_split=2, splitter=best;, score=0.778 total time=   0.0s\n[CV 1/2; 434/648] START criterion=entropy, max_depth=8, max_features=auto, min_samples_leaf=1, min_samples_split=2, splitter=random\n",
          "output_type": "stream"
        },
        {
          "name": "stderr",
          "text": "/lib/python3.11/site-packages/sklearn/tree/_classes.py:269: FutureWarning: `max_features='auto'` has been deprecated in 1.1 and will be removed in 1.3. To keep the past behaviour, explicitly set `max_features='sqrt'`.\n  warnings.warn(\n",
          "output_type": "stream"
        },
        {
          "name": "stdout",
          "text": "[CV 1/2; 434/648] END criterion=entropy, max_depth=8, max_features=auto, min_samples_leaf=1, min_samples_split=2, splitter=random;, score=0.750 total time=   0.0s\n[CV 2/2; 434/648] START criterion=entropy, max_depth=8, max_features=auto, min_samples_leaf=1, min_samples_split=2, splitter=random\n",
          "output_type": "stream"
        },
        {
          "name": "stderr",
          "text": "/lib/python3.11/site-packages/sklearn/tree/_classes.py:269: FutureWarning: `max_features='auto'` has been deprecated in 1.1 and will be removed in 1.3. To keep the past behaviour, explicitly set `max_features='sqrt'`.\n  warnings.warn(\n",
          "output_type": "stream"
        },
        {
          "name": "stdout",
          "text": "[CV 2/2; 434/648] END criterion=entropy, max_depth=8, max_features=auto, min_samples_leaf=1, min_samples_split=2, splitter=random;, score=0.750 total time=   0.0s\n[CV 1/2; 435/648] START criterion=entropy, max_depth=8, max_features=auto, min_samples_leaf=1, min_samples_split=5, splitter=best\n",
          "output_type": "stream"
        },
        {
          "name": "stderr",
          "text": "/lib/python3.11/site-packages/sklearn/tree/_classes.py:269: FutureWarning: `max_features='auto'` has been deprecated in 1.1 and will be removed in 1.3. To keep the past behaviour, explicitly set `max_features='sqrt'`.\n  warnings.warn(\n",
          "output_type": "stream"
        },
        {
          "name": "stdout",
          "text": "[CV 1/2; 435/648] END criterion=entropy, max_depth=8, max_features=auto, min_samples_leaf=1, min_samples_split=5, splitter=best;, score=0.778 total time=   0.0s\n[CV 2/2; 435/648] START criterion=entropy, max_depth=8, max_features=auto, min_samples_leaf=1, min_samples_split=5, splitter=best\n",
          "output_type": "stream"
        },
        {
          "name": "stderr",
          "text": "/lib/python3.11/site-packages/sklearn/tree/_classes.py:269: FutureWarning: `max_features='auto'` has been deprecated in 1.1 and will be removed in 1.3. To keep the past behaviour, explicitly set `max_features='sqrt'`.\n  warnings.warn(\n",
          "output_type": "stream"
        },
        {
          "name": "stdout",
          "text": "[CV 2/2; 435/648] END criterion=entropy, max_depth=8, max_features=auto, min_samples_leaf=1, min_samples_split=5, splitter=best;, score=0.667 total time=   0.0s\n[CV 1/2; 436/648] START criterion=entropy, max_depth=8, max_features=auto, min_samples_leaf=1, min_samples_split=5, splitter=random\n",
          "output_type": "stream"
        },
        {
          "name": "stderr",
          "text": "/lib/python3.11/site-packages/sklearn/tree/_classes.py:269: FutureWarning: `max_features='auto'` has been deprecated in 1.1 and will be removed in 1.3. To keep the past behaviour, explicitly set `max_features='sqrt'`.\n  warnings.warn(\n",
          "output_type": "stream"
        },
        {
          "name": "stdout",
          "text": "[CV 1/2; 436/648] END criterion=entropy, max_depth=8, max_features=auto, min_samples_leaf=1, min_samples_split=5, splitter=random;, score=0.833 total time=   0.0s\n[CV 2/2; 436/648] START criterion=entropy, max_depth=8, max_features=auto, min_samples_leaf=1, min_samples_split=5, splitter=random\n",
          "output_type": "stream"
        },
        {
          "name": "stderr",
          "text": "/lib/python3.11/site-packages/sklearn/tree/_classes.py:269: FutureWarning: `max_features='auto'` has been deprecated in 1.1 and will be removed in 1.3. To keep the past behaviour, explicitly set `max_features='sqrt'`.\n  warnings.warn(\n",
          "output_type": "stream"
        },
        {
          "name": "stdout",
          "text": "[CV 2/2; 436/648] END criterion=entropy, max_depth=8, max_features=auto, min_samples_leaf=1, min_samples_split=5, splitter=random;, score=0.667 total time=   0.0s\n[CV 1/2; 437/648] START criterion=entropy, max_depth=8, max_features=auto, min_samples_leaf=1, min_samples_split=10, splitter=best\n",
          "output_type": "stream"
        },
        {
          "name": "stderr",
          "text": "/lib/python3.11/site-packages/sklearn/tree/_classes.py:269: FutureWarning: `max_features='auto'` has been deprecated in 1.1 and will be removed in 1.3. To keep the past behaviour, explicitly set `max_features='sqrt'`.\n  warnings.warn(\n",
          "output_type": "stream"
        },
        {
          "name": "stdout",
          "text": "[CV 1/2; 437/648] END criterion=entropy, max_depth=8, max_features=auto, min_samples_leaf=1, min_samples_split=10, splitter=best;, score=0.722 total time=   0.0s\n[CV 2/2; 437/648] START criterion=entropy, max_depth=8, max_features=auto, min_samples_leaf=1, min_samples_split=10, splitter=best\n",
          "output_type": "stream"
        },
        {
          "name": "stderr",
          "text": "/lib/python3.11/site-packages/sklearn/tree/_classes.py:269: FutureWarning: `max_features='auto'` has been deprecated in 1.1 and will be removed in 1.3. To keep the past behaviour, explicitly set `max_features='sqrt'`.\n  warnings.warn(\n",
          "output_type": "stream"
        },
        {
          "name": "stdout",
          "text": "[CV 2/2; 437/648] END criterion=entropy, max_depth=8, max_features=auto, min_samples_leaf=1, min_samples_split=10, splitter=best;, score=0.556 total time=   0.0s\n[CV 1/2; 438/648] START criterion=entropy, max_depth=8, max_features=auto, min_samples_leaf=1, min_samples_split=10, splitter=random\n",
          "output_type": "stream"
        },
        {
          "name": "stderr",
          "text": "/lib/python3.11/site-packages/sklearn/tree/_classes.py:269: FutureWarning: `max_features='auto'` has been deprecated in 1.1 and will be removed in 1.3. To keep the past behaviour, explicitly set `max_features='sqrt'`.\n  warnings.warn(\n",
          "output_type": "stream"
        },
        {
          "name": "stdout",
          "text": "[CV 1/2; 438/648] END criterion=entropy, max_depth=8, max_features=auto, min_samples_leaf=1, min_samples_split=10, splitter=random;, score=0.833 total time=   0.0s\n[CV 2/2; 438/648] START criterion=entropy, max_depth=8, max_features=auto, min_samples_leaf=1, min_samples_split=10, splitter=random\n",
          "output_type": "stream"
        },
        {
          "name": "stderr",
          "text": "/lib/python3.11/site-packages/sklearn/tree/_classes.py:269: FutureWarning: `max_features='auto'` has been deprecated in 1.1 and will be removed in 1.3. To keep the past behaviour, explicitly set `max_features='sqrt'`.\n  warnings.warn(\n",
          "output_type": "stream"
        },
        {
          "name": "stdout",
          "text": "[CV 2/2; 438/648] END criterion=entropy, max_depth=8, max_features=auto, min_samples_leaf=1, min_samples_split=10, splitter=random;, score=0.667 total time=   0.0s\n[CV 1/2; 439/648] START criterion=entropy, max_depth=8, max_features=auto, min_samples_leaf=2, min_samples_split=2, splitter=best\n",
          "output_type": "stream"
        },
        {
          "name": "stderr",
          "text": "/lib/python3.11/site-packages/sklearn/tree/_classes.py:269: FutureWarning: `max_features='auto'` has been deprecated in 1.1 and will be removed in 1.3. To keep the past behaviour, explicitly set `max_features='sqrt'`.\n  warnings.warn(\n",
          "output_type": "stream"
        },
        {
          "name": "stdout",
          "text": "[CV 1/2; 439/648] END criterion=entropy, max_depth=8, max_features=auto, min_samples_leaf=2, min_samples_split=2, splitter=best;, score=0.667 total time=   0.0s\n[CV 2/2; 439/648] START criterion=entropy, max_depth=8, max_features=auto, min_samples_leaf=2, min_samples_split=2, splitter=best\n",
          "output_type": "stream"
        },
        {
          "name": "stderr",
          "text": "/lib/python3.11/site-packages/sklearn/tree/_classes.py:269: FutureWarning: `max_features='auto'` has been deprecated in 1.1 and will be removed in 1.3. To keep the past behaviour, explicitly set `max_features='sqrt'`.\n  warnings.warn(\n",
          "output_type": "stream"
        },
        {
          "name": "stdout",
          "text": "[CV 2/2; 439/648] END criterion=entropy, max_depth=8, max_features=auto, min_samples_leaf=2, min_samples_split=2, splitter=best;, score=0.722 total time=   0.0s\n[CV 1/2; 440/648] START criterion=entropy, max_depth=8, max_features=auto, min_samples_leaf=2, min_samples_split=2, splitter=random\n",
          "output_type": "stream"
        },
        {
          "name": "stderr",
          "text": "/lib/python3.11/site-packages/sklearn/tree/_classes.py:269: FutureWarning: `max_features='auto'` has been deprecated in 1.1 and will be removed in 1.3. To keep the past behaviour, explicitly set `max_features='sqrt'`.\n  warnings.warn(\n",
          "output_type": "stream"
        },
        {
          "name": "stdout",
          "text": "[CV 1/2; 440/648] END criterion=entropy, max_depth=8, max_features=auto, min_samples_leaf=2, min_samples_split=2, splitter=random;, score=0.806 total time=   0.0s\n[CV 2/2; 440/648] START criterion=entropy, max_depth=8, max_features=auto, min_samples_leaf=2, min_samples_split=2, splitter=random\n",
          "output_type": "stream"
        },
        {
          "name": "stderr",
          "text": "/lib/python3.11/site-packages/sklearn/tree/_classes.py:269: FutureWarning: `max_features='auto'` has been deprecated in 1.1 and will be removed in 1.3. To keep the past behaviour, explicitly set `max_features='sqrt'`.\n  warnings.warn(\n",
          "output_type": "stream"
        },
        {
          "name": "stdout",
          "text": "[CV 2/2; 440/648] END criterion=entropy, max_depth=8, max_features=auto, min_samples_leaf=2, min_samples_split=2, splitter=random;, score=0.639 total time=   0.0s\n[CV 1/2; 441/648] START criterion=entropy, max_depth=8, max_features=auto, min_samples_leaf=2, min_samples_split=5, splitter=best\n",
          "output_type": "stream"
        },
        {
          "name": "stderr",
          "text": "/lib/python3.11/site-packages/sklearn/tree/_classes.py:269: FutureWarning: `max_features='auto'` has been deprecated in 1.1 and will be removed in 1.3. To keep the past behaviour, explicitly set `max_features='sqrt'`.\n  warnings.warn(\n",
          "output_type": "stream"
        },
        {
          "name": "stdout",
          "text": "[CV 1/2; 441/648] END criterion=entropy, max_depth=8, max_features=auto, min_samples_leaf=2, min_samples_split=5, splitter=best;, score=0.722 total time=   0.0s\n[CV 2/2; 441/648] START criterion=entropy, max_depth=8, max_features=auto, min_samples_leaf=2, min_samples_split=5, splitter=best\n",
          "output_type": "stream"
        },
        {
          "name": "stderr",
          "text": "/lib/python3.11/site-packages/sklearn/tree/_classes.py:269: FutureWarning: `max_features='auto'` has been deprecated in 1.1 and will be removed in 1.3. To keep the past behaviour, explicitly set `max_features='sqrt'`.\n  warnings.warn(\n",
          "output_type": "stream"
        },
        {
          "name": "stdout",
          "text": "[CV 2/2; 441/648] END criterion=entropy, max_depth=8, max_features=auto, min_samples_leaf=2, min_samples_split=5, splitter=best;, score=0.583 total time=   0.0s\n[CV 1/2; 442/648] START criterion=entropy, max_depth=8, max_features=auto, min_samples_leaf=2, min_samples_split=5, splitter=random\n",
          "output_type": "stream"
        },
        {
          "name": "stderr",
          "text": "/lib/python3.11/site-packages/sklearn/tree/_classes.py:269: FutureWarning: `max_features='auto'` has been deprecated in 1.1 and will be removed in 1.3. To keep the past behaviour, explicitly set `max_features='sqrt'`.\n  warnings.warn(\n",
          "output_type": "stream"
        },
        {
          "name": "stdout",
          "text": "[CV 1/2; 442/648] END criterion=entropy, max_depth=8, max_features=auto, min_samples_leaf=2, min_samples_split=5, splitter=random;, score=0.694 total time=   0.0s\n[CV 2/2; 442/648] START criterion=entropy, max_depth=8, max_features=auto, min_samples_leaf=2, min_samples_split=5, splitter=random\n",
          "output_type": "stream"
        },
        {
          "name": "stderr",
          "text": "/lib/python3.11/site-packages/sklearn/tree/_classes.py:269: FutureWarning: `max_features='auto'` has been deprecated in 1.1 and will be removed in 1.3. To keep the past behaviour, explicitly set `max_features='sqrt'`.\n  warnings.warn(\n",
          "output_type": "stream"
        },
        {
          "name": "stdout",
          "text": "[CV 2/2; 442/648] END criterion=entropy, max_depth=8, max_features=auto, min_samples_leaf=2, min_samples_split=5, splitter=random;, score=0.639 total time=   0.0s\n[CV 1/2; 443/648] START criterion=entropy, max_depth=8, max_features=auto, min_samples_leaf=2, min_samples_split=10, splitter=best\n",
          "output_type": "stream"
        },
        {
          "name": "stderr",
          "text": "/lib/python3.11/site-packages/sklearn/tree/_classes.py:269: FutureWarning: `max_features='auto'` has been deprecated in 1.1 and will be removed in 1.3. To keep the past behaviour, explicitly set `max_features='sqrt'`.\n  warnings.warn(\n",
          "output_type": "stream"
        },
        {
          "name": "stdout",
          "text": "[CV 1/2; 443/648] END criterion=entropy, max_depth=8, max_features=auto, min_samples_leaf=2, min_samples_split=10, splitter=best;, score=0.778 total time=   0.0s\n[CV 2/2; 443/648] START criterion=entropy, max_depth=8, max_features=auto, min_samples_leaf=2, min_samples_split=10, splitter=best\n",
          "output_type": "stream"
        },
        {
          "name": "stderr",
          "text": "/lib/python3.11/site-packages/sklearn/tree/_classes.py:269: FutureWarning: `max_features='auto'` has been deprecated in 1.1 and will be removed in 1.3. To keep the past behaviour, explicitly set `max_features='sqrt'`.\n  warnings.warn(\n",
          "output_type": "stream"
        },
        {
          "name": "stdout",
          "text": "[CV 2/2; 443/648] END criterion=entropy, max_depth=8, max_features=auto, min_samples_leaf=2, min_samples_split=10, splitter=best;, score=0.556 total time=   0.0s\n[CV 1/2; 444/648] START criterion=entropy, max_depth=8, max_features=auto, min_samples_leaf=2, min_samples_split=10, splitter=random\n",
          "output_type": "stream"
        },
        {
          "name": "stderr",
          "text": "/lib/python3.11/site-packages/sklearn/tree/_classes.py:269: FutureWarning: `max_features='auto'` has been deprecated in 1.1 and will be removed in 1.3. To keep the past behaviour, explicitly set `max_features='sqrt'`.\n  warnings.warn(\n",
          "output_type": "stream"
        },
        {
          "name": "stdout",
          "text": "[CV 1/2; 444/648] END criterion=entropy, max_depth=8, max_features=auto, min_samples_leaf=2, min_samples_split=10, splitter=random;, score=0.889 total time=   0.0s\n[CV 2/2; 444/648] START criterion=entropy, max_depth=8, max_features=auto, min_samples_leaf=2, min_samples_split=10, splitter=random\n",
          "output_type": "stream"
        },
        {
          "name": "stderr",
          "text": "/lib/python3.11/site-packages/sklearn/tree/_classes.py:269: FutureWarning: `max_features='auto'` has been deprecated in 1.1 and will be removed in 1.3. To keep the past behaviour, explicitly set `max_features='sqrt'`.\n  warnings.warn(\n",
          "output_type": "stream"
        },
        {
          "name": "stdout",
          "text": "[CV 2/2; 444/648] END criterion=entropy, max_depth=8, max_features=auto, min_samples_leaf=2, min_samples_split=10, splitter=random;, score=0.861 total time=   0.0s\n[CV 1/2; 445/648] START criterion=entropy, max_depth=8, max_features=auto, min_samples_leaf=4, min_samples_split=2, splitter=best\n",
          "output_type": "stream"
        },
        {
          "name": "stderr",
          "text": "/lib/python3.11/site-packages/sklearn/tree/_classes.py:269: FutureWarning: `max_features='auto'` has been deprecated in 1.1 and will be removed in 1.3. To keep the past behaviour, explicitly set `max_features='sqrt'`.\n  warnings.warn(\n",
          "output_type": "stream"
        },
        {
          "name": "stdout",
          "text": "[CV 1/2; 445/648] END criterion=entropy, max_depth=8, max_features=auto, min_samples_leaf=4, min_samples_split=2, splitter=best;, score=0.861 total time=   0.0s\n[CV 2/2; 445/648] START criterion=entropy, max_depth=8, max_features=auto, min_samples_leaf=4, min_samples_split=2, splitter=best\n",
          "output_type": "stream"
        },
        {
          "name": "stderr",
          "text": "/lib/python3.11/site-packages/sklearn/tree/_classes.py:269: FutureWarning: `max_features='auto'` has been deprecated in 1.1 and will be removed in 1.3. To keep the past behaviour, explicitly set `max_features='sqrt'`.\n  warnings.warn(\n",
          "output_type": "stream"
        },
        {
          "name": "stdout",
          "text": "[CV 2/2; 445/648] END criterion=entropy, max_depth=8, max_features=auto, min_samples_leaf=4, min_samples_split=2, splitter=best;, score=0.750 total time=   0.0s\n[CV 1/2; 446/648] START criterion=entropy, max_depth=8, max_features=auto, min_samples_leaf=4, min_samples_split=2, splitter=random\n",
          "output_type": "stream"
        },
        {
          "name": "stderr",
          "text": "/lib/python3.11/site-packages/sklearn/tree/_classes.py:269: FutureWarning: `max_features='auto'` has been deprecated in 1.1 and will be removed in 1.3. To keep the past behaviour, explicitly set `max_features='sqrt'`.\n  warnings.warn(\n",
          "output_type": "stream"
        },
        {
          "name": "stdout",
          "text": "[CV 1/2; 446/648] END criterion=entropy, max_depth=8, max_features=auto, min_samples_leaf=4, min_samples_split=2, splitter=random;, score=0.583 total time=   0.0s\n[CV 2/2; 446/648] START criterion=entropy, max_depth=8, max_features=auto, min_samples_leaf=4, min_samples_split=2, splitter=random\n",
          "output_type": "stream"
        },
        {
          "name": "stderr",
          "text": "/lib/python3.11/site-packages/sklearn/tree/_classes.py:269: FutureWarning: `max_features='auto'` has been deprecated in 1.1 and will be removed in 1.3. To keep the past behaviour, explicitly set `max_features='sqrt'`.\n  warnings.warn(\n",
          "output_type": "stream"
        },
        {
          "name": "stdout",
          "text": "[CV 2/2; 446/648] END criterion=entropy, max_depth=8, max_features=auto, min_samples_leaf=4, min_samples_split=2, splitter=random;, score=0.806 total time=   0.0s\n[CV 1/2; 447/648] START criterion=entropy, max_depth=8, max_features=auto, min_samples_leaf=4, min_samples_split=5, splitter=best\n",
          "output_type": "stream"
        },
        {
          "name": "stderr",
          "text": "/lib/python3.11/site-packages/sklearn/tree/_classes.py:269: FutureWarning: `max_features='auto'` has been deprecated in 1.1 and will be removed in 1.3. To keep the past behaviour, explicitly set `max_features='sqrt'`.\n  warnings.warn(\n",
          "output_type": "stream"
        },
        {
          "name": "stdout",
          "text": "[CV 1/2; 447/648] END criterion=entropy, max_depth=8, max_features=auto, min_samples_leaf=4, min_samples_split=5, splitter=best;, score=0.833 total time=   0.0s\n[CV 2/2; 447/648] START criterion=entropy, max_depth=8, max_features=auto, min_samples_leaf=4, min_samples_split=5, splitter=best\n",
          "output_type": "stream"
        },
        {
          "name": "stderr",
          "text": "/lib/python3.11/site-packages/sklearn/tree/_classes.py:269: FutureWarning: `max_features='auto'` has been deprecated in 1.1 and will be removed in 1.3. To keep the past behaviour, explicitly set `max_features='sqrt'`.\n  warnings.warn(\n",
          "output_type": "stream"
        },
        {
          "name": "stdout",
          "text": "[CV 2/2; 447/648] END criterion=entropy, max_depth=8, max_features=auto, min_samples_leaf=4, min_samples_split=5, splitter=best;, score=0.667 total time=   0.0s\n[CV 1/2; 448/648] START criterion=entropy, max_depth=8, max_features=auto, min_samples_leaf=4, min_samples_split=5, splitter=random\n",
          "output_type": "stream"
        },
        {
          "name": "stderr",
          "text": "/lib/python3.11/site-packages/sklearn/tree/_classes.py:269: FutureWarning: `max_features='auto'` has been deprecated in 1.1 and will be removed in 1.3. To keep the past behaviour, explicitly set `max_features='sqrt'`.\n  warnings.warn(\n",
          "output_type": "stream"
        },
        {
          "name": "stdout",
          "text": "[CV 1/2; 448/648] END criterion=entropy, max_depth=8, max_features=auto, min_samples_leaf=4, min_samples_split=5, splitter=random;, score=0.750 total time=   0.0s\n[CV 2/2; 448/648] START criterion=entropy, max_depth=8, max_features=auto, min_samples_leaf=4, min_samples_split=5, splitter=random\n",
          "output_type": "stream"
        },
        {
          "name": "stderr",
          "text": "/lib/python3.11/site-packages/sklearn/tree/_classes.py:269: FutureWarning: `max_features='auto'` has been deprecated in 1.1 and will be removed in 1.3. To keep the past behaviour, explicitly set `max_features='sqrt'`.\n  warnings.warn(\n",
          "output_type": "stream"
        },
        {
          "name": "stdout",
          "text": "[CV 2/2; 448/648] END criterion=entropy, max_depth=8, max_features=auto, min_samples_leaf=4, min_samples_split=5, splitter=random;, score=0.667 total time=   0.0s\n[CV 1/2; 449/648] START criterion=entropy, max_depth=8, max_features=auto, min_samples_leaf=4, min_samples_split=10, splitter=best\n",
          "output_type": "stream"
        },
        {
          "name": "stderr",
          "text": "/lib/python3.11/site-packages/sklearn/tree/_classes.py:269: FutureWarning: `max_features='auto'` has been deprecated in 1.1 and will be removed in 1.3. To keep the past behaviour, explicitly set `max_features='sqrt'`.\n  warnings.warn(\n",
          "output_type": "stream"
        },
        {
          "name": "stdout",
          "text": "[CV 1/2; 449/648] END criterion=entropy, max_depth=8, max_features=auto, min_samples_leaf=4, min_samples_split=10, splitter=best;, score=0.944 total time=   0.0s\n[CV 2/2; 449/648] START criterion=entropy, max_depth=8, max_features=auto, min_samples_leaf=4, min_samples_split=10, splitter=best\n",
          "output_type": "stream"
        },
        {
          "name": "stderr",
          "text": "/lib/python3.11/site-packages/sklearn/tree/_classes.py:269: FutureWarning: `max_features='auto'` has been deprecated in 1.1 and will be removed in 1.3. To keep the past behaviour, explicitly set `max_features='sqrt'`.\n  warnings.warn(\n",
          "output_type": "stream"
        },
        {
          "name": "stdout",
          "text": "[CV 2/2; 449/648] END criterion=entropy, max_depth=8, max_features=auto, min_samples_leaf=4, min_samples_split=10, splitter=best;, score=0.722 total time=   0.0s\n[CV 1/2; 450/648] START criterion=entropy, max_depth=8, max_features=auto, min_samples_leaf=4, min_samples_split=10, splitter=random\n",
          "output_type": "stream"
        },
        {
          "name": "stderr",
          "text": "/lib/python3.11/site-packages/sklearn/tree/_classes.py:269: FutureWarning: `max_features='auto'` has been deprecated in 1.1 and will be removed in 1.3. To keep the past behaviour, explicitly set `max_features='sqrt'`.\n  warnings.warn(\n",
          "output_type": "stream"
        },
        {
          "name": "stdout",
          "text": "[CV 1/2; 450/648] END criterion=entropy, max_depth=8, max_features=auto, min_samples_leaf=4, min_samples_split=10, splitter=random;, score=0.639 total time=   0.0s\n[CV 2/2; 450/648] START criterion=entropy, max_depth=8, max_features=auto, min_samples_leaf=4, min_samples_split=10, splitter=random\n",
          "output_type": "stream"
        },
        {
          "name": "stderr",
          "text": "/lib/python3.11/site-packages/sklearn/tree/_classes.py:269: FutureWarning: `max_features='auto'` has been deprecated in 1.1 and will be removed in 1.3. To keep the past behaviour, explicitly set `max_features='sqrt'`.\n  warnings.warn(\n",
          "output_type": "stream"
        },
        {
          "name": "stdout",
          "text": "[CV 2/2; 450/648] END criterion=entropy, max_depth=8, max_features=auto, min_samples_leaf=4, min_samples_split=10, splitter=random;, score=0.667 total time=   0.0s\n[CV 1/2; 451/648] START criterion=entropy, max_depth=8, max_features=sqrt, min_samples_leaf=1, min_samples_split=2, splitter=best\n[CV 1/2; 451/648] END criterion=entropy, max_depth=8, max_features=sqrt, min_samples_leaf=1, min_samples_split=2, splitter=best;, score=0.778 total time=   0.0s\n[CV 2/2; 451/648] START criterion=entropy, max_depth=8, max_features=sqrt, min_samples_leaf=1, min_samples_split=2, splitter=best\n[CV 2/2; 451/648] END criterion=entropy, max_depth=8, max_features=sqrt, min_samples_leaf=1, min_samples_split=2, splitter=best;, score=0.667 total time=   0.0s\n[CV 1/2; 452/648] START criterion=entropy, max_depth=8, max_features=sqrt, min_samples_leaf=1, min_samples_split=2, splitter=random\n[CV 1/2; 452/648] END criterion=entropy, max_depth=8, max_features=sqrt, min_samples_leaf=1, min_samples_split=2, splitter=random;, score=0.750 total time=   0.0s\n[CV 2/2; 452/648] START criterion=entropy, max_depth=8, max_features=sqrt, min_samples_leaf=1, min_samples_split=2, splitter=random\n[CV 2/2; 452/648] END criterion=entropy, max_depth=8, max_features=sqrt, min_samples_leaf=1, min_samples_split=2, splitter=random;, score=0.694 total time=   0.0s\n[CV 1/2; 453/648] START criterion=entropy, max_depth=8, max_features=sqrt, min_samples_leaf=1, min_samples_split=5, splitter=best\n[CV 1/2; 453/648] END criterion=entropy, max_depth=8, max_features=sqrt, min_samples_leaf=1, min_samples_split=5, splitter=best;, score=0.639 total time=   0.0s\n[CV 2/2; 453/648] START criterion=entropy, max_depth=8, max_features=sqrt, min_samples_leaf=1, min_samples_split=5, splitter=best\n[CV 2/2; 453/648] END criterion=entropy, max_depth=8, max_features=sqrt, min_samples_leaf=1, min_samples_split=5, splitter=best;, score=0.639 total time=   0.0s\n[CV 1/2; 454/648] START criterion=entropy, max_depth=8, max_features=sqrt, min_samples_leaf=1, min_samples_split=5, splitter=random\n[CV 1/2; 454/648] END criterion=entropy, max_depth=8, max_features=sqrt, min_samples_leaf=1, min_samples_split=5, splitter=random;, score=0.750 total time=   0.0s\n[CV 2/2; 454/648] START criterion=entropy, max_depth=8, max_features=sqrt, min_samples_leaf=1, min_samples_split=5, splitter=random\n[CV 2/2; 454/648] END criterion=entropy, max_depth=8, max_features=sqrt, min_samples_leaf=1, min_samples_split=5, splitter=random;, score=0.861 total time=   0.0s\n[CV 1/2; 455/648] START criterion=entropy, max_depth=8, max_features=sqrt, min_samples_leaf=1, min_samples_split=10, splitter=best\n[CV 1/2; 455/648] END criterion=entropy, max_depth=8, max_features=sqrt, min_samples_leaf=1, min_samples_split=10, splitter=best;, score=0.694 total time=   0.0s\n[CV 2/2; 455/648] START criterion=entropy, max_depth=8, max_features=sqrt, min_samples_leaf=1, min_samples_split=10, splitter=best\n[CV 2/2; 455/648] END criterion=entropy, max_depth=8, max_features=sqrt, min_samples_leaf=1, min_samples_split=10, splitter=best;, score=0.833 total time=   0.0s\n[CV 1/2; 456/648] START criterion=entropy, max_depth=8, max_features=sqrt, min_samples_leaf=1, min_samples_split=10, splitter=random\n[CV 1/2; 456/648] END criterion=entropy, max_depth=8, max_features=sqrt, min_samples_leaf=1, min_samples_split=10, splitter=random;, score=0.861 total time=   0.0s\n[CV 2/2; 456/648] START criterion=entropy, max_depth=8, max_features=sqrt, min_samples_leaf=1, min_samples_split=10, splitter=random\n[CV 2/2; 456/648] END criterion=entropy, max_depth=8, max_features=sqrt, min_samples_leaf=1, min_samples_split=10, splitter=random;, score=0.778 total time=   0.0s\n[CV 1/2; 457/648] START criterion=entropy, max_depth=8, max_features=sqrt, min_samples_leaf=2, min_samples_split=2, splitter=best\n[CV 1/2; 457/648] END criterion=entropy, max_depth=8, max_features=sqrt, min_samples_leaf=2, min_samples_split=2, splitter=best;, score=0.639 total time=   0.0s\n[CV 2/2; 457/648] START criterion=entropy, max_depth=8, max_features=sqrt, min_samples_leaf=2, min_samples_split=2, splitter=best\n[CV 2/2; 457/648] END criterion=entropy, max_depth=8, max_features=sqrt, min_samples_leaf=2, min_samples_split=2, splitter=best;, score=0.611 total time=   0.0s\n[CV 1/2; 458/648] START criterion=entropy, max_depth=8, max_features=sqrt, min_samples_leaf=2, min_samples_split=2, splitter=random\n[CV 1/2; 458/648] END criterion=entropy, max_depth=8, max_features=sqrt, min_samples_leaf=2, min_samples_split=2, splitter=random;, score=0.778 total time=   0.0s\n[CV 2/2; 458/648] START criterion=entropy, max_depth=8, max_features=sqrt, min_samples_leaf=2, min_samples_split=2, splitter=random\n[CV 2/2; 458/648] END criterion=entropy, max_depth=8, max_features=sqrt, min_samples_leaf=2, min_samples_split=2, splitter=random;, score=0.556 total time=   0.0s\n[CV 1/2; 459/648] START criterion=entropy, max_depth=8, max_features=sqrt, min_samples_leaf=2, min_samples_split=5, splitter=best\n[CV 1/2; 459/648] END criterion=entropy, max_depth=8, max_features=sqrt, min_samples_leaf=2, min_samples_split=5, splitter=best;, score=0.694 total time=   0.0s\n[CV 2/2; 459/648] START criterion=entropy, max_depth=8, max_features=sqrt, min_samples_leaf=2, min_samples_split=5, splitter=best\n[CV 2/2; 459/648] END criterion=entropy, max_depth=8, max_features=sqrt, min_samples_leaf=2, min_samples_split=5, splitter=best;, score=0.639 total time=   0.0s\n[CV 1/2; 460/648] START criterion=entropy, max_depth=8, max_features=sqrt, min_samples_leaf=2, min_samples_split=5, splitter=random\n[CV 1/2; 460/648] END criterion=entropy, max_depth=8, max_features=sqrt, min_samples_leaf=2, min_samples_split=5, splitter=random;, score=0.694 total time=   0.0s\n[CV 2/2; 460/648] START criterion=entropy, max_depth=8, max_features=sqrt, min_samples_leaf=2, min_samples_split=5, splitter=random\n[CV 2/2; 460/648] END criterion=entropy, max_depth=8, max_features=sqrt, min_samples_leaf=2, min_samples_split=5, splitter=random;, score=0.722 total time=   0.0s\n[CV 1/2; 461/648] START criterion=entropy, max_depth=8, max_features=sqrt, min_samples_leaf=2, min_samples_split=10, splitter=best\n[CV 1/2; 461/648] END criterion=entropy, max_depth=8, max_features=sqrt, min_samples_leaf=2, min_samples_split=10, splitter=best;, score=0.861 total time=   0.0s\n[CV 2/2; 461/648] START criterion=entropy, max_depth=8, max_features=sqrt, min_samples_leaf=2, min_samples_split=10, splitter=best\n[CV 2/2; 461/648] END criterion=entropy, max_depth=8, max_features=sqrt, min_samples_leaf=2, min_samples_split=10, splitter=best;, score=0.528 total time=   0.0s\n[CV 1/2; 462/648] START criterion=entropy, max_depth=8, max_features=sqrt, min_samples_leaf=2, min_samples_split=10, splitter=random\n[CV 1/2; 462/648] END criterion=entropy, max_depth=8, max_features=sqrt, min_samples_leaf=2, min_samples_split=10, splitter=random;, score=0.611 total time=   0.0s\n[CV 2/2; 462/648] START criterion=entropy, max_depth=8, max_features=sqrt, min_samples_leaf=2, min_samples_split=10, splitter=random\n[CV 2/2; 462/648] END criterion=entropy, max_depth=8, max_features=sqrt, min_samples_leaf=2, min_samples_split=10, splitter=random;, score=0.750 total time=   0.0s\n[CV 1/2; 463/648] START criterion=entropy, max_depth=8, max_features=sqrt, min_samples_leaf=4, min_samples_split=2, splitter=best\n[CV 1/2; 463/648] END criterion=entropy, max_depth=8, max_features=sqrt, min_samples_leaf=4, min_samples_split=2, splitter=best;, score=0.806 total time=   0.0s\n[CV 2/2; 463/648] START criterion=entropy, max_depth=8, max_features=sqrt, min_samples_leaf=4, min_samples_split=2, splitter=best\n[CV 2/2; 463/648] END criterion=entropy, max_depth=8, max_features=sqrt, min_samples_leaf=4, min_samples_split=2, splitter=best;, score=0.472 total time=   0.0s\n[CV 1/2; 464/648] START criterion=entropy, max_depth=8, max_features=sqrt, min_samples_leaf=4, min_samples_split=2, splitter=random\n[CV 1/2; 464/648] END criterion=entropy, max_depth=8, max_features=sqrt, min_samples_leaf=4, min_samples_split=2, splitter=random;, score=0.861 total time=   0.0s\n[CV 2/2; 464/648] START criterion=entropy, max_depth=8, max_features=sqrt, min_samples_leaf=4, min_samples_split=2, splitter=random\n[CV 2/2; 464/648] END criterion=entropy, max_depth=8, max_features=sqrt, min_samples_leaf=4, min_samples_split=2, splitter=random;, score=0.611 total time=   0.0s\n[CV 1/2; 465/648] START criterion=entropy, max_depth=8, max_features=sqrt, min_samples_leaf=4, min_samples_split=5, splitter=best\n[CV 1/2; 465/648] END criterion=entropy, max_depth=8, max_features=sqrt, min_samples_leaf=4, min_samples_split=5, splitter=best;, score=0.861 total time=   0.0s\n[CV 2/2; 465/648] START criterion=entropy, max_depth=8, max_features=sqrt, min_samples_leaf=4, min_samples_split=5, splitter=best\n[CV 2/2; 465/648] END criterion=entropy, max_depth=8, max_features=sqrt, min_samples_leaf=4, min_samples_split=5, splitter=best;, score=0.694 total time=   0.0s\n[CV 1/2; 466/648] START criterion=entropy, max_depth=8, max_features=sqrt, min_samples_leaf=4, min_samples_split=5, splitter=random\n[CV 1/2; 466/648] END criterion=entropy, max_depth=8, max_features=sqrt, min_samples_leaf=4, min_samples_split=5, splitter=random;, score=0.833 total time=   0.0s\n[CV 2/2; 466/648] START criterion=entropy, max_depth=8, max_features=sqrt, min_samples_leaf=4, min_samples_split=5, splitter=random\n[CV 2/2; 466/648] END criterion=entropy, max_depth=8, max_features=sqrt, min_samples_leaf=4, min_samples_split=5, splitter=random;, score=0.667 total time=   0.0s\n[CV 1/2; 467/648] START criterion=entropy, max_depth=8, max_features=sqrt, min_samples_leaf=4, min_samples_split=10, splitter=best\n[CV 1/2; 467/648] END criterion=entropy, max_depth=8, max_features=sqrt, min_samples_leaf=4, min_samples_split=10, splitter=best;, score=0.833 total time=   0.0s\n[CV 2/2; 467/648] START criterion=entropy, max_depth=8, max_features=sqrt, min_samples_leaf=4, min_samples_split=10, splitter=best\n[CV 2/2; 467/648] END criterion=entropy, max_depth=8, max_features=sqrt, min_samples_leaf=4, min_samples_split=10, splitter=best;, score=0.667 total time=   0.0s\n[CV 1/2; 468/648] START criterion=entropy, max_depth=8, max_features=sqrt, min_samples_leaf=4, min_samples_split=10, splitter=random\n[CV 1/2; 468/648] END criterion=entropy, max_depth=8, max_features=sqrt, min_samples_leaf=4, min_samples_split=10, splitter=random;, score=0.833 total time=   0.0s\n[CV 2/2; 468/648] START criterion=entropy, max_depth=8, max_features=sqrt, min_samples_leaf=4, min_samples_split=10, splitter=random\n[CV 2/2; 468/648] END criterion=entropy, max_depth=8, max_features=sqrt, min_samples_leaf=4, min_samples_split=10, splitter=random;, score=0.861 total time=   0.0s\n[CV 1/2; 469/648] START criterion=entropy, max_depth=10, max_features=auto, min_samples_leaf=1, min_samples_split=2, splitter=best\n",
          "output_type": "stream"
        },
        {
          "name": "stderr",
          "text": "/lib/python3.11/site-packages/sklearn/tree/_classes.py:269: FutureWarning: `max_features='auto'` has been deprecated in 1.1 and will be removed in 1.3. To keep the past behaviour, explicitly set `max_features='sqrt'`.\n  warnings.warn(\n",
          "output_type": "stream"
        },
        {
          "name": "stdout",
          "text": "[CV 1/2; 469/648] END criterion=entropy, max_depth=10, max_features=auto, min_samples_leaf=1, min_samples_split=2, splitter=best;, score=0.778 total time=   0.0s\n[CV 2/2; 469/648] START criterion=entropy, max_depth=10, max_features=auto, min_samples_leaf=1, min_samples_split=2, splitter=best\n",
          "output_type": "stream"
        },
        {
          "name": "stderr",
          "text": "/lib/python3.11/site-packages/sklearn/tree/_classes.py:269: FutureWarning: `max_features='auto'` has been deprecated in 1.1 and will be removed in 1.3. To keep the past behaviour, explicitly set `max_features='sqrt'`.\n  warnings.warn(\n",
          "output_type": "stream"
        },
        {
          "name": "stdout",
          "text": "[CV 2/2; 469/648] END criterion=entropy, max_depth=10, max_features=auto, min_samples_leaf=1, min_samples_split=2, splitter=best;, score=0.750 total time=   0.0s\n[CV 1/2; 470/648] START criterion=entropy, max_depth=10, max_features=auto, min_samples_leaf=1, min_samples_split=2, splitter=random\n",
          "output_type": "stream"
        },
        {
          "name": "stderr",
          "text": "/lib/python3.11/site-packages/sklearn/tree/_classes.py:269: FutureWarning: `max_features='auto'` has been deprecated in 1.1 and will be removed in 1.3. To keep the past behaviour, explicitly set `max_features='sqrt'`.\n  warnings.warn(\n",
          "output_type": "stream"
        },
        {
          "name": "stdout",
          "text": "[CV 1/2; 470/648] END criterion=entropy, max_depth=10, max_features=auto, min_samples_leaf=1, min_samples_split=2, splitter=random;, score=0.639 total time=   0.0s\n[CV 2/2; 470/648] START criterion=entropy, max_depth=10, max_features=auto, min_samples_leaf=1, min_samples_split=2, splitter=random\n",
          "output_type": "stream"
        },
        {
          "name": "stderr",
          "text": "/lib/python3.11/site-packages/sklearn/tree/_classes.py:269: FutureWarning: `max_features='auto'` has been deprecated in 1.1 and will be removed in 1.3. To keep the past behaviour, explicitly set `max_features='sqrt'`.\n  warnings.warn(\n",
          "output_type": "stream"
        },
        {
          "name": "stdout",
          "text": "[CV 2/2; 470/648] END criterion=entropy, max_depth=10, max_features=auto, min_samples_leaf=1, min_samples_split=2, splitter=random;, score=0.667 total time=   0.0s\n[CV 1/2; 471/648] START criterion=entropy, max_depth=10, max_features=auto, min_samples_leaf=1, min_samples_split=5, splitter=best\n",
          "output_type": "stream"
        },
        {
          "name": "stderr",
          "text": "/lib/python3.11/site-packages/sklearn/tree/_classes.py:269: FutureWarning: `max_features='auto'` has been deprecated in 1.1 and will be removed in 1.3. To keep the past behaviour, explicitly set `max_features='sqrt'`.\n  warnings.warn(\n",
          "output_type": "stream"
        },
        {
          "name": "stdout",
          "text": "[CV 1/2; 471/648] END criterion=entropy, max_depth=10, max_features=auto, min_samples_leaf=1, min_samples_split=5, splitter=best;, score=0.750 total time=   0.0s\n[CV 2/2; 471/648] START criterion=entropy, max_depth=10, max_features=auto, min_samples_leaf=1, min_samples_split=5, splitter=best\n",
          "output_type": "stream"
        },
        {
          "name": "stderr",
          "text": "/lib/python3.11/site-packages/sklearn/tree/_classes.py:269: FutureWarning: `max_features='auto'` has been deprecated in 1.1 and will be removed in 1.3. To keep the past behaviour, explicitly set `max_features='sqrt'`.\n  warnings.warn(\n",
          "output_type": "stream"
        },
        {
          "name": "stdout",
          "text": "[CV 2/2; 471/648] END criterion=entropy, max_depth=10, max_features=auto, min_samples_leaf=1, min_samples_split=5, splitter=best;, score=0.750 total time=   0.0s\n[CV 1/2; 472/648] START criterion=entropy, max_depth=10, max_features=auto, min_samples_leaf=1, min_samples_split=5, splitter=random\n",
          "output_type": "stream"
        },
        {
          "name": "stderr",
          "text": "/lib/python3.11/site-packages/sklearn/tree/_classes.py:269: FutureWarning: `max_features='auto'` has been deprecated in 1.1 and will be removed in 1.3. To keep the past behaviour, explicitly set `max_features='sqrt'`.\n  warnings.warn(\n",
          "output_type": "stream"
        },
        {
          "name": "stdout",
          "text": "[CV 1/2; 472/648] END criterion=entropy, max_depth=10, max_features=auto, min_samples_leaf=1, min_samples_split=5, splitter=random;, score=0.778 total time=   0.0s\n[CV 2/2; 472/648] START criterion=entropy, max_depth=10, max_features=auto, min_samples_leaf=1, min_samples_split=5, splitter=random\n",
          "output_type": "stream"
        },
        {
          "name": "stderr",
          "text": "/lib/python3.11/site-packages/sklearn/tree/_classes.py:269: FutureWarning: `max_features='auto'` has been deprecated in 1.1 and will be removed in 1.3. To keep the past behaviour, explicitly set `max_features='sqrt'`.\n  warnings.warn(\n",
          "output_type": "stream"
        },
        {
          "name": "stdout",
          "text": "[CV 2/2; 472/648] END criterion=entropy, max_depth=10, max_features=auto, min_samples_leaf=1, min_samples_split=5, splitter=random;, score=0.528 total time=   0.0s\n[CV 1/2; 473/648] START criterion=entropy, max_depth=10, max_features=auto, min_samples_leaf=1, min_samples_split=10, splitter=best\n",
          "output_type": "stream"
        },
        {
          "name": "stderr",
          "text": "/lib/python3.11/site-packages/sklearn/tree/_classes.py:269: FutureWarning: `max_features='auto'` has been deprecated in 1.1 and will be removed in 1.3. To keep the past behaviour, explicitly set `max_features='sqrt'`.\n  warnings.warn(\n",
          "output_type": "stream"
        },
        {
          "name": "stdout",
          "text": "[CV 1/2; 473/648] END criterion=entropy, max_depth=10, max_features=auto, min_samples_leaf=1, min_samples_split=10, splitter=best;, score=0.861 total time=   0.0s\n[CV 2/2; 473/648] START criterion=entropy, max_depth=10, max_features=auto, min_samples_leaf=1, min_samples_split=10, splitter=best\n",
          "output_type": "stream"
        },
        {
          "name": "stderr",
          "text": "/lib/python3.11/site-packages/sklearn/tree/_classes.py:269: FutureWarning: `max_features='auto'` has been deprecated in 1.1 and will be removed in 1.3. To keep the past behaviour, explicitly set `max_features='sqrt'`.\n  warnings.warn(\n",
          "output_type": "stream"
        },
        {
          "name": "stdout",
          "text": "[CV 2/2; 473/648] END criterion=entropy, max_depth=10, max_features=auto, min_samples_leaf=1, min_samples_split=10, splitter=best;, score=0.639 total time=   0.0s\n[CV 1/2; 474/648] START criterion=entropy, max_depth=10, max_features=auto, min_samples_leaf=1, min_samples_split=10, splitter=random\n",
          "output_type": "stream"
        },
        {
          "name": "stderr",
          "text": "/lib/python3.11/site-packages/sklearn/tree/_classes.py:269: FutureWarning: `max_features='auto'` has been deprecated in 1.1 and will be removed in 1.3. To keep the past behaviour, explicitly set `max_features='sqrt'`.\n  warnings.warn(\n",
          "output_type": "stream"
        },
        {
          "name": "stdout",
          "text": "[CV 1/2; 474/648] END criterion=entropy, max_depth=10, max_features=auto, min_samples_leaf=1, min_samples_split=10, splitter=random;, score=0.667 total time=   0.0s\n[CV 2/2; 474/648] START criterion=entropy, max_depth=10, max_features=auto, min_samples_leaf=1, min_samples_split=10, splitter=random\n",
          "output_type": "stream"
        },
        {
          "name": "stderr",
          "text": "/lib/python3.11/site-packages/sklearn/tree/_classes.py:269: FutureWarning: `max_features='auto'` has been deprecated in 1.1 and will be removed in 1.3. To keep the past behaviour, explicitly set `max_features='sqrt'`.\n  warnings.warn(\n",
          "output_type": "stream"
        },
        {
          "name": "stdout",
          "text": "[CV 2/2; 474/648] END criterion=entropy, max_depth=10, max_features=auto, min_samples_leaf=1, min_samples_split=10, splitter=random;, score=0.778 total time=   0.0s\n[CV 1/2; 475/648] START criterion=entropy, max_depth=10, max_features=auto, min_samples_leaf=2, min_samples_split=2, splitter=best\n",
          "output_type": "stream"
        },
        {
          "name": "stderr",
          "text": "/lib/python3.11/site-packages/sklearn/tree/_classes.py:269: FutureWarning: `max_features='auto'` has been deprecated in 1.1 and will be removed in 1.3. To keep the past behaviour, explicitly set `max_features='sqrt'`.\n  warnings.warn(\n",
          "output_type": "stream"
        },
        {
          "name": "stdout",
          "text": "[CV 1/2; 475/648] END criterion=entropy, max_depth=10, max_features=auto, min_samples_leaf=2, min_samples_split=2, splitter=best;, score=0.556 total time=   0.0s\n[CV 2/2; 475/648] START criterion=entropy, max_depth=10, max_features=auto, min_samples_leaf=2, min_samples_split=2, splitter=best\n",
          "output_type": "stream"
        },
        {
          "name": "stderr",
          "text": "/lib/python3.11/site-packages/sklearn/tree/_classes.py:269: FutureWarning: `max_features='auto'` has been deprecated in 1.1 and will be removed in 1.3. To keep the past behaviour, explicitly set `max_features='sqrt'`.\n  warnings.warn(\n",
          "output_type": "stream"
        },
        {
          "name": "stdout",
          "text": "[CV 2/2; 475/648] END criterion=entropy, max_depth=10, max_features=auto, min_samples_leaf=2, min_samples_split=2, splitter=best;, score=0.667 total time=   0.0s\n[CV 1/2; 476/648] START criterion=entropy, max_depth=10, max_features=auto, min_samples_leaf=2, min_samples_split=2, splitter=random\n",
          "output_type": "stream"
        },
        {
          "name": "stderr",
          "text": "/lib/python3.11/site-packages/sklearn/tree/_classes.py:269: FutureWarning: `max_features='auto'` has been deprecated in 1.1 and will be removed in 1.3. To keep the past behaviour, explicitly set `max_features='sqrt'`.\n  warnings.warn(\n",
          "output_type": "stream"
        },
        {
          "name": "stdout",
          "text": "[CV 1/2; 476/648] END criterion=entropy, max_depth=10, max_features=auto, min_samples_leaf=2, min_samples_split=2, splitter=random;, score=0.833 total time=   0.0s\n[CV 2/2; 476/648] START criterion=entropy, max_depth=10, max_features=auto, min_samples_leaf=2, min_samples_split=2, splitter=random\n",
          "output_type": "stream"
        },
        {
          "name": "stderr",
          "text": "/lib/python3.11/site-packages/sklearn/tree/_classes.py:269: FutureWarning: `max_features='auto'` has been deprecated in 1.1 and will be removed in 1.3. To keep the past behaviour, explicitly set `max_features='sqrt'`.\n  warnings.warn(\n",
          "output_type": "stream"
        },
        {
          "name": "stdout",
          "text": "[CV 2/2; 476/648] END criterion=entropy, max_depth=10, max_features=auto, min_samples_leaf=2, min_samples_split=2, splitter=random;, score=0.472 total time=   0.0s\n[CV 1/2; 477/648] START criterion=entropy, max_depth=10, max_features=auto, min_samples_leaf=2, min_samples_split=5, splitter=best\n",
          "output_type": "stream"
        },
        {
          "name": "stderr",
          "text": "/lib/python3.11/site-packages/sklearn/tree/_classes.py:269: FutureWarning: `max_features='auto'` has been deprecated in 1.1 and will be removed in 1.3. To keep the past behaviour, explicitly set `max_features='sqrt'`.\n  warnings.warn(\n",
          "output_type": "stream"
        },
        {
          "name": "stdout",
          "text": "[CV 1/2; 477/648] END criterion=entropy, max_depth=10, max_features=auto, min_samples_leaf=2, min_samples_split=5, splitter=best;, score=0.750 total time=   0.0s\n[CV 2/2; 477/648] START criterion=entropy, max_depth=10, max_features=auto, min_samples_leaf=2, min_samples_split=5, splitter=best\n",
          "output_type": "stream"
        },
        {
          "name": "stderr",
          "text": "/lib/python3.11/site-packages/sklearn/tree/_classes.py:269: FutureWarning: `max_features='auto'` has been deprecated in 1.1 and will be removed in 1.3. To keep the past behaviour, explicitly set `max_features='sqrt'`.\n  warnings.warn(\n",
          "output_type": "stream"
        },
        {
          "name": "stdout",
          "text": "[CV 2/2; 477/648] END criterion=entropy, max_depth=10, max_features=auto, min_samples_leaf=2, min_samples_split=5, splitter=best;, score=0.583 total time=   0.0s\n[CV 1/2; 478/648] START criterion=entropy, max_depth=10, max_features=auto, min_samples_leaf=2, min_samples_split=5, splitter=random\n",
          "output_type": "stream"
        },
        {
          "name": "stderr",
          "text": "/lib/python3.11/site-packages/sklearn/tree/_classes.py:269: FutureWarning: `max_features='auto'` has been deprecated in 1.1 and will be removed in 1.3. To keep the past behaviour, explicitly set `max_features='sqrt'`.\n  warnings.warn(\n",
          "output_type": "stream"
        },
        {
          "name": "stdout",
          "text": "[CV 1/2; 478/648] END criterion=entropy, max_depth=10, max_features=auto, min_samples_leaf=2, min_samples_split=5, splitter=random;, score=0.861 total time=   0.0s\n[CV 2/2; 478/648] START criterion=entropy, max_depth=10, max_features=auto, min_samples_leaf=2, min_samples_split=5, splitter=random\n",
          "output_type": "stream"
        },
        {
          "name": "stderr",
          "text": "/lib/python3.11/site-packages/sklearn/tree/_classes.py:269: FutureWarning: `max_features='auto'` has been deprecated in 1.1 and will be removed in 1.3. To keep the past behaviour, explicitly set `max_features='sqrt'`.\n  warnings.warn(\n",
          "output_type": "stream"
        },
        {
          "name": "stdout",
          "text": "[CV 2/2; 478/648] END criterion=entropy, max_depth=10, max_features=auto, min_samples_leaf=2, min_samples_split=5, splitter=random;, score=0.583 total time=   0.0s\n[CV 1/2; 479/648] START criterion=entropy, max_depth=10, max_features=auto, min_samples_leaf=2, min_samples_split=10, splitter=best\n",
          "output_type": "stream"
        },
        {
          "name": "stderr",
          "text": "/lib/python3.11/site-packages/sklearn/tree/_classes.py:269: FutureWarning: `max_features='auto'` has been deprecated in 1.1 and will be removed in 1.3. To keep the past behaviour, explicitly set `max_features='sqrt'`.\n  warnings.warn(\n",
          "output_type": "stream"
        },
        {
          "name": "stdout",
          "text": "[CV 1/2; 479/648] END criterion=entropy, max_depth=10, max_features=auto, min_samples_leaf=2, min_samples_split=10, splitter=best;, score=0.806 total time=   0.0s\n[CV 2/2; 479/648] START criterion=entropy, max_depth=10, max_features=auto, min_samples_leaf=2, min_samples_split=10, splitter=best\n",
          "output_type": "stream"
        },
        {
          "name": "stderr",
          "text": "/lib/python3.11/site-packages/sklearn/tree/_classes.py:269: FutureWarning: `max_features='auto'` has been deprecated in 1.1 and will be removed in 1.3. To keep the past behaviour, explicitly set `max_features='sqrt'`.\n  warnings.warn(\n",
          "output_type": "stream"
        },
        {
          "name": "stdout",
          "text": "[CV 2/2; 479/648] END criterion=entropy, max_depth=10, max_features=auto, min_samples_leaf=2, min_samples_split=10, splitter=best;, score=0.639 total time=   0.0s\n[CV 1/2; 480/648] START criterion=entropy, max_depth=10, max_features=auto, min_samples_leaf=2, min_samples_split=10, splitter=random\n",
          "output_type": "stream"
        },
        {
          "name": "stderr",
          "text": "/lib/python3.11/site-packages/sklearn/tree/_classes.py:269: FutureWarning: `max_features='auto'` has been deprecated in 1.1 and will be removed in 1.3. To keep the past behaviour, explicitly set `max_features='sqrt'`.\n  warnings.warn(\n",
          "output_type": "stream"
        },
        {
          "name": "stdout",
          "text": "[CV 1/2; 480/648] END criterion=entropy, max_depth=10, max_features=auto, min_samples_leaf=2, min_samples_split=10, splitter=random;, score=0.833 total time=   0.0s\n[CV 2/2; 480/648] START criterion=entropy, max_depth=10, max_features=auto, min_samples_leaf=2, min_samples_split=10, splitter=random\n",
          "output_type": "stream"
        },
        {
          "name": "stderr",
          "text": "/lib/python3.11/site-packages/sklearn/tree/_classes.py:269: FutureWarning: `max_features='auto'` has been deprecated in 1.1 and will be removed in 1.3. To keep the past behaviour, explicitly set `max_features='sqrt'`.\n  warnings.warn(\n",
          "output_type": "stream"
        },
        {
          "name": "stdout",
          "text": "[CV 2/2; 480/648] END criterion=entropy, max_depth=10, max_features=auto, min_samples_leaf=2, min_samples_split=10, splitter=random;, score=0.722 total time=   0.0s\n[CV 1/2; 481/648] START criterion=entropy, max_depth=10, max_features=auto, min_samples_leaf=4, min_samples_split=2, splitter=best\n",
          "output_type": "stream"
        },
        {
          "name": "stderr",
          "text": "/lib/python3.11/site-packages/sklearn/tree/_classes.py:269: FutureWarning: `max_features='auto'` has been deprecated in 1.1 and will be removed in 1.3. To keep the past behaviour, explicitly set `max_features='sqrt'`.\n  warnings.warn(\n",
          "output_type": "stream"
        },
        {
          "name": "stdout",
          "text": "[CV 1/2; 481/648] END criterion=entropy, max_depth=10, max_features=auto, min_samples_leaf=4, min_samples_split=2, splitter=best;, score=0.778 total time=   0.0s\n[CV 2/2; 481/648] START criterion=entropy, max_depth=10, max_features=auto, min_samples_leaf=4, min_samples_split=2, splitter=best\n",
          "output_type": "stream"
        },
        {
          "name": "stderr",
          "text": "/lib/python3.11/site-packages/sklearn/tree/_classes.py:269: FutureWarning: `max_features='auto'` has been deprecated in 1.1 and will be removed in 1.3. To keep the past behaviour, explicitly set `max_features='sqrt'`.\n  warnings.warn(\n",
          "output_type": "stream"
        },
        {
          "name": "stdout",
          "text": "[CV 2/2; 481/648] END criterion=entropy, max_depth=10, max_features=auto, min_samples_leaf=4, min_samples_split=2, splitter=best;, score=0.444 total time=   0.0s\n[CV 1/2; 482/648] START criterion=entropy, max_depth=10, max_features=auto, min_samples_leaf=4, min_samples_split=2, splitter=random\n",
          "output_type": "stream"
        },
        {
          "name": "stderr",
          "text": "/lib/python3.11/site-packages/sklearn/tree/_classes.py:269: FutureWarning: `max_features='auto'` has been deprecated in 1.1 and will be removed in 1.3. To keep the past behaviour, explicitly set `max_features='sqrt'`.\n  warnings.warn(\n",
          "output_type": "stream"
        },
        {
          "name": "stdout",
          "text": "[CV 1/2; 482/648] END criterion=entropy, max_depth=10, max_features=auto, min_samples_leaf=4, min_samples_split=2, splitter=random;, score=0.667 total time=   0.0s\n[CV 2/2; 482/648] START criterion=entropy, max_depth=10, max_features=auto, min_samples_leaf=4, min_samples_split=2, splitter=random\n",
          "output_type": "stream"
        },
        {
          "name": "stderr",
          "text": "/lib/python3.11/site-packages/sklearn/tree/_classes.py:269: FutureWarning: `max_features='auto'` has been deprecated in 1.1 and will be removed in 1.3. To keep the past behaviour, explicitly set `max_features='sqrt'`.\n  warnings.warn(\n",
          "output_type": "stream"
        },
        {
          "name": "stdout",
          "text": "[CV 2/2; 482/648] END criterion=entropy, max_depth=10, max_features=auto, min_samples_leaf=4, min_samples_split=2, splitter=random;, score=0.583 total time=   0.0s\n[CV 1/2; 483/648] START criterion=entropy, max_depth=10, max_features=auto, min_samples_leaf=4, min_samples_split=5, splitter=best\n",
          "output_type": "stream"
        },
        {
          "name": "stderr",
          "text": "/lib/python3.11/site-packages/sklearn/tree/_classes.py:269: FutureWarning: `max_features='auto'` has been deprecated in 1.1 and will be removed in 1.3. To keep the past behaviour, explicitly set `max_features='sqrt'`.\n  warnings.warn(\n",
          "output_type": "stream"
        },
        {
          "name": "stdout",
          "text": "[CV 1/2; 483/648] END criterion=entropy, max_depth=10, max_features=auto, min_samples_leaf=4, min_samples_split=5, splitter=best;, score=0.667 total time=   0.0s\n[CV 2/2; 483/648] START criterion=entropy, max_depth=10, max_features=auto, min_samples_leaf=4, min_samples_split=5, splitter=best\n",
          "output_type": "stream"
        },
        {
          "name": "stderr",
          "text": "/lib/python3.11/site-packages/sklearn/tree/_classes.py:269: FutureWarning: `max_features='auto'` has been deprecated in 1.1 and will be removed in 1.3. To keep the past behaviour, explicitly set `max_features='sqrt'`.\n  warnings.warn(\n",
          "output_type": "stream"
        },
        {
          "name": "stdout",
          "text": "[CV 2/2; 483/648] END criterion=entropy, max_depth=10, max_features=auto, min_samples_leaf=4, min_samples_split=5, splitter=best;, score=0.861 total time=   0.0s\n[CV 1/2; 484/648] START criterion=entropy, max_depth=10, max_features=auto, min_samples_leaf=4, min_samples_split=5, splitter=random\n",
          "output_type": "stream"
        },
        {
          "name": "stderr",
          "text": "/lib/python3.11/site-packages/sklearn/tree/_classes.py:269: FutureWarning: `max_features='auto'` has been deprecated in 1.1 and will be removed in 1.3. To keep the past behaviour, explicitly set `max_features='sqrt'`.\n  warnings.warn(\n",
          "output_type": "stream"
        },
        {
          "name": "stdout",
          "text": "[CV 1/2; 484/648] END criterion=entropy, max_depth=10, max_features=auto, min_samples_leaf=4, min_samples_split=5, splitter=random;, score=0.667 total time=   0.0s\n[CV 2/2; 484/648] START criterion=entropy, max_depth=10, max_features=auto, min_samples_leaf=4, min_samples_split=5, splitter=random\n",
          "output_type": "stream"
        },
        {
          "name": "stderr",
          "text": "/lib/python3.11/site-packages/sklearn/tree/_classes.py:269: FutureWarning: `max_features='auto'` has been deprecated in 1.1 and will be removed in 1.3. To keep the past behaviour, explicitly set `max_features='sqrt'`.\n  warnings.warn(\n",
          "output_type": "stream"
        },
        {
          "name": "stdout",
          "text": "[CV 2/2; 484/648] END criterion=entropy, max_depth=10, max_features=auto, min_samples_leaf=4, min_samples_split=5, splitter=random;, score=0.861 total time=   0.0s\n[CV 1/2; 485/648] START criterion=entropy, max_depth=10, max_features=auto, min_samples_leaf=4, min_samples_split=10, splitter=best\n",
          "output_type": "stream"
        },
        {
          "name": "stderr",
          "text": "/lib/python3.11/site-packages/sklearn/tree/_classes.py:269: FutureWarning: `max_features='auto'` has been deprecated in 1.1 and will be removed in 1.3. To keep the past behaviour, explicitly set `max_features='sqrt'`.\n  warnings.warn(\n",
          "output_type": "stream"
        },
        {
          "name": "stdout",
          "text": "[CV 1/2; 485/648] END criterion=entropy, max_depth=10, max_features=auto, min_samples_leaf=4, min_samples_split=10, splitter=best;, score=0.917 total time=   0.0s\n[CV 2/2; 485/648] START criterion=entropy, max_depth=10, max_features=auto, min_samples_leaf=4, min_samples_split=10, splitter=best\n",
          "output_type": "stream"
        },
        {
          "name": "stderr",
          "text": "/lib/python3.11/site-packages/sklearn/tree/_classes.py:269: FutureWarning: `max_features='auto'` has been deprecated in 1.1 and will be removed in 1.3. To keep the past behaviour, explicitly set `max_features='sqrt'`.\n  warnings.warn(\n",
          "output_type": "stream"
        },
        {
          "name": "stdout",
          "text": "[CV 2/2; 485/648] END criterion=entropy, max_depth=10, max_features=auto, min_samples_leaf=4, min_samples_split=10, splitter=best;, score=0.667 total time=   0.0s\n[CV 1/2; 486/648] START criterion=entropy, max_depth=10, max_features=auto, min_samples_leaf=4, min_samples_split=10, splitter=random\n",
          "output_type": "stream"
        },
        {
          "name": "stderr",
          "text": "/lib/python3.11/site-packages/sklearn/tree/_classes.py:269: FutureWarning: `max_features='auto'` has been deprecated in 1.1 and will be removed in 1.3. To keep the past behaviour, explicitly set `max_features='sqrt'`.\n  warnings.warn(\n",
          "output_type": "stream"
        },
        {
          "name": "stdout",
          "text": "[CV 1/2; 486/648] END criterion=entropy, max_depth=10, max_features=auto, min_samples_leaf=4, min_samples_split=10, splitter=random;, score=0.667 total time=   0.0s\n[CV 2/2; 486/648] START criterion=entropy, max_depth=10, max_features=auto, min_samples_leaf=4, min_samples_split=10, splitter=random\n",
          "output_type": "stream"
        },
        {
          "name": "stderr",
          "text": "/lib/python3.11/site-packages/sklearn/tree/_classes.py:269: FutureWarning: `max_features='auto'` has been deprecated in 1.1 and will be removed in 1.3. To keep the past behaviour, explicitly set `max_features='sqrt'`.\n  warnings.warn(\n",
          "output_type": "stream"
        },
        {
          "name": "stdout",
          "text": "[CV 2/2; 486/648] END criterion=entropy, max_depth=10, max_features=auto, min_samples_leaf=4, min_samples_split=10, splitter=random;, score=0.667 total time=   0.0s\n[CV 1/2; 487/648] START criterion=entropy, max_depth=10, max_features=sqrt, min_samples_leaf=1, min_samples_split=2, splitter=best\n[CV 1/2; 487/648] END criterion=entropy, max_depth=10, max_features=sqrt, min_samples_leaf=1, min_samples_split=2, splitter=best;, score=0.806 total time=   0.0s\n[CV 2/2; 487/648] START criterion=entropy, max_depth=10, max_features=sqrt, min_samples_leaf=1, min_samples_split=2, splitter=best\n[CV 2/2; 487/648] END criterion=entropy, max_depth=10, max_features=sqrt, min_samples_leaf=1, min_samples_split=2, splitter=best;, score=0.667 total time=   0.0s\n[CV 1/2; 488/648] START criterion=entropy, max_depth=10, max_features=sqrt, min_samples_leaf=1, min_samples_split=2, splitter=random\n[CV 1/2; 488/648] END criterion=entropy, max_depth=10, max_features=sqrt, min_samples_leaf=1, min_samples_split=2, splitter=random;, score=0.667 total time=   0.0s\n[CV 2/2; 488/648] START criterion=entropy, max_depth=10, max_features=sqrt, min_samples_leaf=1, min_samples_split=2, splitter=random\n[CV 2/2; 488/648] END criterion=entropy, max_depth=10, max_features=sqrt, min_samples_leaf=1, min_samples_split=2, splitter=random;, score=0.639 total time=   0.0s\n[CV 1/2; 489/648] START criterion=entropy, max_depth=10, max_features=sqrt, min_samples_leaf=1, min_samples_split=5, splitter=best\n[CV 1/2; 489/648] END criterion=entropy, max_depth=10, max_features=sqrt, min_samples_leaf=1, min_samples_split=5, splitter=best;, score=0.806 total time=   0.0s\n[CV 2/2; 489/648] START criterion=entropy, max_depth=10, max_features=sqrt, min_samples_leaf=1, min_samples_split=5, splitter=best\n[CV 2/2; 489/648] END criterion=entropy, max_depth=10, max_features=sqrt, min_samples_leaf=1, min_samples_split=5, splitter=best;, score=0.667 total time=   0.0s\n[CV 1/2; 490/648] START criterion=entropy, max_depth=10, max_features=sqrt, min_samples_leaf=1, min_samples_split=5, splitter=random\n[CV 1/2; 490/648] END criterion=entropy, max_depth=10, max_features=sqrt, min_samples_leaf=1, min_samples_split=5, splitter=random;, score=0.778 total time=   0.0s\n[CV 2/2; 490/648] START criterion=entropy, max_depth=10, max_features=sqrt, min_samples_leaf=1, min_samples_split=5, splitter=random\n[CV 2/2; 490/648] END criterion=entropy, max_depth=10, max_features=sqrt, min_samples_leaf=1, min_samples_split=5, splitter=random;, score=0.694 total time=   0.0s\n[CV 1/2; 491/648] START criterion=entropy, max_depth=10, max_features=sqrt, min_samples_leaf=1, min_samples_split=10, splitter=best\n[CV 1/2; 491/648] END criterion=entropy, max_depth=10, max_features=sqrt, min_samples_leaf=1, min_samples_split=10, splitter=best;, score=0.750 total time=   0.0s\n[CV 2/2; 491/648] START criterion=entropy, max_depth=10, max_features=sqrt, min_samples_leaf=1, min_samples_split=10, splitter=best\n[CV 2/2; 491/648] END criterion=entropy, max_depth=10, max_features=sqrt, min_samples_leaf=1, min_samples_split=10, splitter=best;, score=0.611 total time=   0.0s\n[CV 1/2; 492/648] START criterion=entropy, max_depth=10, max_features=sqrt, min_samples_leaf=1, min_samples_split=10, splitter=random\n[CV 1/2; 492/648] END criterion=entropy, max_depth=10, max_features=sqrt, min_samples_leaf=1, min_samples_split=10, splitter=random;, score=0.750 total time=   0.0s\n[CV 2/2; 492/648] START criterion=entropy, max_depth=10, max_features=sqrt, min_samples_leaf=1, min_samples_split=10, splitter=random\n[CV 2/2; 492/648] END criterion=entropy, max_depth=10, max_features=sqrt, min_samples_leaf=1, min_samples_split=10, splitter=random;, score=0.472 total time=   0.0s\n[CV 1/2; 493/648] START criterion=entropy, max_depth=10, max_features=sqrt, min_samples_leaf=2, min_samples_split=2, splitter=best\n[CV 1/2; 493/648] END criterion=entropy, max_depth=10, max_features=sqrt, min_samples_leaf=2, min_samples_split=2, splitter=best;, score=0.556 total time=   0.0s\n[CV 2/2; 493/648] START criterion=entropy, max_depth=10, max_features=sqrt, min_samples_leaf=2, min_samples_split=2, splitter=best\n[CV 2/2; 493/648] END criterion=entropy, max_depth=10, max_features=sqrt, min_samples_leaf=2, min_samples_split=2, splitter=best;, score=0.667 total time=   0.0s\n[CV 1/2; 494/648] START criterion=entropy, max_depth=10, max_features=sqrt, min_samples_leaf=2, min_samples_split=2, splitter=random\n[CV 1/2; 494/648] END criterion=entropy, max_depth=10, max_features=sqrt, min_samples_leaf=2, min_samples_split=2, splitter=random;, score=0.722 total time=   0.0s\n[CV 2/2; 494/648] START criterion=entropy, max_depth=10, max_features=sqrt, min_samples_leaf=2, min_samples_split=2, splitter=random\n[CV 2/2; 494/648] END criterion=entropy, max_depth=10, max_features=sqrt, min_samples_leaf=2, min_samples_split=2, splitter=random;, score=0.444 total time=   0.0s\n[CV 1/2; 495/648] START criterion=entropy, max_depth=10, max_features=sqrt, min_samples_leaf=2, min_samples_split=5, splitter=best\n[CV 1/2; 495/648] END criterion=entropy, max_depth=10, max_features=sqrt, min_samples_leaf=2, min_samples_split=5, splitter=best;, score=0.722 total time=   0.0s\n[CV 2/2; 495/648] START criterion=entropy, max_depth=10, max_features=sqrt, min_samples_leaf=2, min_samples_split=5, splitter=best\n[CV 2/2; 495/648] END criterion=entropy, max_depth=10, max_features=sqrt, min_samples_leaf=2, min_samples_split=5, splitter=best;, score=0.528 total time=   0.0s\n[CV 1/2; 496/648] START criterion=entropy, max_depth=10, max_features=sqrt, min_samples_leaf=2, min_samples_split=5, splitter=random\n[CV 1/2; 496/648] END criterion=entropy, max_depth=10, max_features=sqrt, min_samples_leaf=2, min_samples_split=5, splitter=random;, score=0.500 total time=   0.0s\n[CV 2/2; 496/648] START criterion=entropy, max_depth=10, max_features=sqrt, min_samples_leaf=2, min_samples_split=5, splitter=random\n[CV 2/2; 496/648] END criterion=entropy, max_depth=10, max_features=sqrt, min_samples_leaf=2, min_samples_split=5, splitter=random;, score=0.667 total time=   0.0s\n[CV 1/2; 497/648] START criterion=entropy, max_depth=10, max_features=sqrt, min_samples_leaf=2, min_samples_split=10, splitter=best\n[CV 1/2; 497/648] END criterion=entropy, max_depth=10, max_features=sqrt, min_samples_leaf=2, min_samples_split=10, splitter=best;, score=0.861 total time=   0.0s\n[CV 2/2; 497/648] START criterion=entropy, max_depth=10, max_features=sqrt, min_samples_leaf=2, min_samples_split=10, splitter=best\n[CV 2/2; 497/648] END criterion=entropy, max_depth=10, max_features=sqrt, min_samples_leaf=2, min_samples_split=10, splitter=best;, score=0.556 total time=   0.0s\n[CV 1/2; 498/648] START criterion=entropy, max_depth=10, max_features=sqrt, min_samples_leaf=2, min_samples_split=10, splitter=random\n[CV 1/2; 498/648] END criterion=entropy, max_depth=10, max_features=sqrt, min_samples_leaf=2, min_samples_split=10, splitter=random;, score=0.778 total time=   0.0s\n[CV 2/2; 498/648] START criterion=entropy, max_depth=10, max_features=sqrt, min_samples_leaf=2, min_samples_split=10, splitter=random\n[CV 2/2; 498/648] END criterion=entropy, max_depth=10, max_features=sqrt, min_samples_leaf=2, min_samples_split=10, splitter=random;, score=0.389 total time=   0.0s\n[CV 1/2; 499/648] START criterion=entropy, max_depth=10, max_features=sqrt, min_samples_leaf=4, min_samples_split=2, splitter=best\n[CV 1/2; 499/648] END criterion=entropy, max_depth=10, max_features=sqrt, min_samples_leaf=4, min_samples_split=2, splitter=best;, score=0.833 total time=   0.0s\n[CV 2/2; 499/648] START criterion=entropy, max_depth=10, max_features=sqrt, min_samples_leaf=4, min_samples_split=2, splitter=best\n[CV 2/2; 499/648] END criterion=entropy, max_depth=10, max_features=sqrt, min_samples_leaf=4, min_samples_split=2, splitter=best;, score=0.750 total time=   0.0s\n[CV 1/2; 500/648] START criterion=entropy, max_depth=10, max_features=sqrt, min_samples_leaf=4, min_samples_split=2, splitter=random\n[CV 1/2; 500/648] END criterion=entropy, max_depth=10, max_features=sqrt, min_samples_leaf=4, min_samples_split=2, splitter=random;, score=0.667 total time=   0.0s\n[CV 2/2; 500/648] START criterion=entropy, max_depth=10, max_features=sqrt, min_samples_leaf=4, min_samples_split=2, splitter=random\n[CV 2/2; 500/648] END criterion=entropy, max_depth=10, max_features=sqrt, min_samples_leaf=4, min_samples_split=2, splitter=random;, score=0.611 total time=   0.0s\n[CV 1/2; 501/648] START criterion=entropy, max_depth=10, max_features=sqrt, min_samples_leaf=4, min_samples_split=5, splitter=best\n[CV 1/2; 501/648] END criterion=entropy, max_depth=10, max_features=sqrt, min_samples_leaf=4, min_samples_split=5, splitter=best;, score=0.806 total time=   0.0s\n[CV 2/2; 501/648] START criterion=entropy, max_depth=10, max_features=sqrt, min_samples_leaf=4, min_samples_split=5, splitter=best\n[CV 2/2; 501/648] END criterion=entropy, max_depth=10, max_features=sqrt, min_samples_leaf=4, min_samples_split=5, splitter=best;, score=0.667 total time=   0.0s\n[CV 1/2; 502/648] START criterion=entropy, max_depth=10, max_features=sqrt, min_samples_leaf=4, min_samples_split=5, splitter=random\n[CV 1/2; 502/648] END criterion=entropy, max_depth=10, max_features=sqrt, min_samples_leaf=4, min_samples_split=5, splitter=random;, score=0.861 total time=   0.0s\n[CV 2/2; 502/648] START criterion=entropy, max_depth=10, max_features=sqrt, min_samples_leaf=4, min_samples_split=5, splitter=random\n[CV 2/2; 502/648] END criterion=entropy, max_depth=10, max_features=sqrt, min_samples_leaf=4, min_samples_split=5, splitter=random;, score=0.667 total time=   0.0s\n[CV 1/2; 503/648] START criterion=entropy, max_depth=10, max_features=sqrt, min_samples_leaf=4, min_samples_split=10, splitter=best\n[CV 1/2; 503/648] END criterion=entropy, max_depth=10, max_features=sqrt, min_samples_leaf=4, min_samples_split=10, splitter=best;, score=0.833 total time=   0.0s\n[CV 2/2; 503/648] START criterion=entropy, max_depth=10, max_features=sqrt, min_samples_leaf=4, min_samples_split=10, splitter=best\n[CV 2/2; 503/648] END criterion=entropy, max_depth=10, max_features=sqrt, min_samples_leaf=4, min_samples_split=10, splitter=best;, score=0.389 total time=   0.0s\n[CV 1/2; 504/648] START criterion=entropy, max_depth=10, max_features=sqrt, min_samples_leaf=4, min_samples_split=10, splitter=random\n[CV 1/2; 504/648] END criterion=entropy, max_depth=10, max_features=sqrt, min_samples_leaf=4, min_samples_split=10, splitter=random;, score=0.861 total time=   0.0s\n[CV 2/2; 504/648] START criterion=entropy, max_depth=10, max_features=sqrt, min_samples_leaf=4, min_samples_split=10, splitter=random\n[CV 2/2; 504/648] END criterion=entropy, max_depth=10, max_features=sqrt, min_samples_leaf=4, min_samples_split=10, splitter=random;, score=0.389 total time=   0.0s\n[CV 1/2; 505/648] START criterion=entropy, max_depth=12, max_features=auto, min_samples_leaf=1, min_samples_split=2, splitter=best\n",
          "output_type": "stream"
        },
        {
          "name": "stderr",
          "text": "/lib/python3.11/site-packages/sklearn/tree/_classes.py:269: FutureWarning: `max_features='auto'` has been deprecated in 1.1 and will be removed in 1.3. To keep the past behaviour, explicitly set `max_features='sqrt'`.\n  warnings.warn(\n",
          "output_type": "stream"
        },
        {
          "name": "stdout",
          "text": "[CV 1/2; 505/648] END criterion=entropy, max_depth=12, max_features=auto, min_samples_leaf=1, min_samples_split=2, splitter=best;, score=0.694 total time=   0.0s\n[CV 2/2; 505/648] START criterion=entropy, max_depth=12, max_features=auto, min_samples_leaf=1, min_samples_split=2, splitter=best\n",
          "output_type": "stream"
        },
        {
          "name": "stderr",
          "text": "/lib/python3.11/site-packages/sklearn/tree/_classes.py:269: FutureWarning: `max_features='auto'` has been deprecated in 1.1 and will be removed in 1.3. To keep the past behaviour, explicitly set `max_features='sqrt'`.\n  warnings.warn(\n",
          "output_type": "stream"
        },
        {
          "name": "stdout",
          "text": "[CV 2/2; 505/648] END criterion=entropy, max_depth=12, max_features=auto, min_samples_leaf=1, min_samples_split=2, splitter=best;, score=0.722 total time=   0.0s\n[CV 1/2; 506/648] START criterion=entropy, max_depth=12, max_features=auto, min_samples_leaf=1, min_samples_split=2, splitter=random\n",
          "output_type": "stream"
        },
        {
          "name": "stderr",
          "text": "/lib/python3.11/site-packages/sklearn/tree/_classes.py:269: FutureWarning: `max_features='auto'` has been deprecated in 1.1 and will be removed in 1.3. To keep the past behaviour, explicitly set `max_features='sqrt'`.\n  warnings.warn(\n",
          "output_type": "stream"
        },
        {
          "name": "stdout",
          "text": "[CV 1/2; 506/648] END criterion=entropy, max_depth=12, max_features=auto, min_samples_leaf=1, min_samples_split=2, splitter=random;, score=0.722 total time=   0.0s\n[CV 2/2; 506/648] START criterion=entropy, max_depth=12, max_features=auto, min_samples_leaf=1, min_samples_split=2, splitter=random\n",
          "output_type": "stream"
        },
        {
          "name": "stderr",
          "text": "/lib/python3.11/site-packages/sklearn/tree/_classes.py:269: FutureWarning: `max_features='auto'` has been deprecated in 1.1 and will be removed in 1.3. To keep the past behaviour, explicitly set `max_features='sqrt'`.\n  warnings.warn(\n",
          "output_type": "stream"
        },
        {
          "name": "stdout",
          "text": "[CV 2/2; 506/648] END criterion=entropy, max_depth=12, max_features=auto, min_samples_leaf=1, min_samples_split=2, splitter=random;, score=0.722 total time=   0.0s\n[CV 1/2; 507/648] START criterion=entropy, max_depth=12, max_features=auto, min_samples_leaf=1, min_samples_split=5, splitter=best\n",
          "output_type": "stream"
        },
        {
          "name": "stderr",
          "text": "/lib/python3.11/site-packages/sklearn/tree/_classes.py:269: FutureWarning: `max_features='auto'` has been deprecated in 1.1 and will be removed in 1.3. To keep the past behaviour, explicitly set `max_features='sqrt'`.\n  warnings.warn(\n",
          "output_type": "stream"
        },
        {
          "name": "stdout",
          "text": "[CV 1/2; 507/648] END criterion=entropy, max_depth=12, max_features=auto, min_samples_leaf=1, min_samples_split=5, splitter=best;, score=0.806 total time=   0.0s\n[CV 2/2; 507/648] START criterion=entropy, max_depth=12, max_features=auto, min_samples_leaf=1, min_samples_split=5, splitter=best\n",
          "output_type": "stream"
        },
        {
          "name": "stderr",
          "text": "/lib/python3.11/site-packages/sklearn/tree/_classes.py:269: FutureWarning: `max_features='auto'` has been deprecated in 1.1 and will be removed in 1.3. To keep the past behaviour, explicitly set `max_features='sqrt'`.\n  warnings.warn(\n",
          "output_type": "stream"
        },
        {
          "name": "stdout",
          "text": "[CV 2/2; 507/648] END criterion=entropy, max_depth=12, max_features=auto, min_samples_leaf=1, min_samples_split=5, splitter=best;, score=0.639 total time=   0.0s\n[CV 1/2; 508/648] START criterion=entropy, max_depth=12, max_features=auto, min_samples_leaf=1, min_samples_split=5, splitter=random\n",
          "output_type": "stream"
        },
        {
          "name": "stderr",
          "text": "/lib/python3.11/site-packages/sklearn/tree/_classes.py:269: FutureWarning: `max_features='auto'` has been deprecated in 1.1 and will be removed in 1.3. To keep the past behaviour, explicitly set `max_features='sqrt'`.\n  warnings.warn(\n",
          "output_type": "stream"
        },
        {
          "name": "stdout",
          "text": "[CV 1/2; 508/648] END criterion=entropy, max_depth=12, max_features=auto, min_samples_leaf=1, min_samples_split=5, splitter=random;, score=0.667 total time=   0.0s\n[CV 2/2; 508/648] START criterion=entropy, max_depth=12, max_features=auto, min_samples_leaf=1, min_samples_split=5, splitter=random\n",
          "output_type": "stream"
        },
        {
          "name": "stderr",
          "text": "/lib/python3.11/site-packages/sklearn/tree/_classes.py:269: FutureWarning: `max_features='auto'` has been deprecated in 1.1 and will be removed in 1.3. To keep the past behaviour, explicitly set `max_features='sqrt'`.\n  warnings.warn(\n",
          "output_type": "stream"
        },
        {
          "name": "stdout",
          "text": "[CV 2/2; 508/648] END criterion=entropy, max_depth=12, max_features=auto, min_samples_leaf=1, min_samples_split=5, splitter=random;, score=0.806 total time=   0.0s\n[CV 1/2; 509/648] START criterion=entropy, max_depth=12, max_features=auto, min_samples_leaf=1, min_samples_split=10, splitter=best\n",
          "output_type": "stream"
        },
        {
          "name": "stderr",
          "text": "/lib/python3.11/site-packages/sklearn/tree/_classes.py:269: FutureWarning: `max_features='auto'` has been deprecated in 1.1 and will be removed in 1.3. To keep the past behaviour, explicitly set `max_features='sqrt'`.\n  warnings.warn(\n",
          "output_type": "stream"
        },
        {
          "name": "stdout",
          "text": "[CV 1/2; 509/648] END criterion=entropy, max_depth=12, max_features=auto, min_samples_leaf=1, min_samples_split=10, splitter=best;, score=0.806 total time=   0.0s\n[CV 2/2; 509/648] START criterion=entropy, max_depth=12, max_features=auto, min_samples_leaf=1, min_samples_split=10, splitter=best\n",
          "output_type": "stream"
        },
        {
          "name": "stderr",
          "text": "/lib/python3.11/site-packages/sklearn/tree/_classes.py:269: FutureWarning: `max_features='auto'` has been deprecated in 1.1 and will be removed in 1.3. To keep the past behaviour, explicitly set `max_features='sqrt'`.\n  warnings.warn(\n",
          "output_type": "stream"
        },
        {
          "name": "stdout",
          "text": "[CV 2/2; 509/648] END criterion=entropy, max_depth=12, max_features=auto, min_samples_leaf=1, min_samples_split=10, splitter=best;, score=0.667 total time=   0.0s\n[CV 1/2; 510/648] START criterion=entropy, max_depth=12, max_features=auto, min_samples_leaf=1, min_samples_split=10, splitter=random\n",
          "output_type": "stream"
        },
        {
          "name": "stderr",
          "text": "/lib/python3.11/site-packages/sklearn/tree/_classes.py:269: FutureWarning: `max_features='auto'` has been deprecated in 1.1 and will be removed in 1.3. To keep the past behaviour, explicitly set `max_features='sqrt'`.\n  warnings.warn(\n",
          "output_type": "stream"
        },
        {
          "name": "stdout",
          "text": "[CV 1/2; 510/648] END criterion=entropy, max_depth=12, max_features=auto, min_samples_leaf=1, min_samples_split=10, splitter=random;, score=0.750 total time=   0.0s\n[CV 2/2; 510/648] START criterion=entropy, max_depth=12, max_features=auto, min_samples_leaf=1, min_samples_split=10, splitter=random\n",
          "output_type": "stream"
        },
        {
          "name": "stderr",
          "text": "/lib/python3.11/site-packages/sklearn/tree/_classes.py:269: FutureWarning: `max_features='auto'` has been deprecated in 1.1 and will be removed in 1.3. To keep the past behaviour, explicitly set `max_features='sqrt'`.\n  warnings.warn(\n",
          "output_type": "stream"
        },
        {
          "name": "stdout",
          "text": "[CV 2/2; 510/648] END criterion=entropy, max_depth=12, max_features=auto, min_samples_leaf=1, min_samples_split=10, splitter=random;, score=0.667 total time=   0.0s\n[CV 1/2; 511/648] START criterion=entropy, max_depth=12, max_features=auto, min_samples_leaf=2, min_samples_split=2, splitter=best\n",
          "output_type": "stream"
        },
        {
          "name": "stderr",
          "text": "/lib/python3.11/site-packages/sklearn/tree/_classes.py:269: FutureWarning: `max_features='auto'` has been deprecated in 1.1 and will be removed in 1.3. To keep the past behaviour, explicitly set `max_features='sqrt'`.\n  warnings.warn(\n",
          "output_type": "stream"
        },
        {
          "name": "stdout",
          "text": "[CV 1/2; 511/648] END criterion=entropy, max_depth=12, max_features=auto, min_samples_leaf=2, min_samples_split=2, splitter=best;, score=0.556 total time=   0.0s\n[CV 2/2; 511/648] START criterion=entropy, max_depth=12, max_features=auto, min_samples_leaf=2, min_samples_split=2, splitter=best\n",
          "output_type": "stream"
        },
        {
          "name": "stderr",
          "text": "/lib/python3.11/site-packages/sklearn/tree/_classes.py:269: FutureWarning: `max_features='auto'` has been deprecated in 1.1 and will be removed in 1.3. To keep the past behaviour, explicitly set `max_features='sqrt'`.\n  warnings.warn(\n",
          "output_type": "stream"
        },
        {
          "name": "stdout",
          "text": "[CV 2/2; 511/648] END criterion=entropy, max_depth=12, max_features=auto, min_samples_leaf=2, min_samples_split=2, splitter=best;, score=0.722 total time=   0.0s\n[CV 1/2; 512/648] START criterion=entropy, max_depth=12, max_features=auto, min_samples_leaf=2, min_samples_split=2, splitter=random\n",
          "output_type": "stream"
        },
        {
          "name": "stderr",
          "text": "/lib/python3.11/site-packages/sklearn/tree/_classes.py:269: FutureWarning: `max_features='auto'` has been deprecated in 1.1 and will be removed in 1.3. To keep the past behaviour, explicitly set `max_features='sqrt'`.\n  warnings.warn(\n",
          "output_type": "stream"
        },
        {
          "name": "stdout",
          "text": "[CV 1/2; 512/648] END criterion=entropy, max_depth=12, max_features=auto, min_samples_leaf=2, min_samples_split=2, splitter=random;, score=0.833 total time=   0.0s\n[CV 2/2; 512/648] START criterion=entropy, max_depth=12, max_features=auto, min_samples_leaf=2, min_samples_split=2, splitter=random\n",
          "output_type": "stream"
        },
        {
          "name": "stderr",
          "text": "/lib/python3.11/site-packages/sklearn/tree/_classes.py:269: FutureWarning: `max_features='auto'` has been deprecated in 1.1 and will be removed in 1.3. To keep the past behaviour, explicitly set `max_features='sqrt'`.\n  warnings.warn(\n",
          "output_type": "stream"
        },
        {
          "name": "stdout",
          "text": "[CV 2/2; 512/648] END criterion=entropy, max_depth=12, max_features=auto, min_samples_leaf=2, min_samples_split=2, splitter=random;, score=0.694 total time=   0.0s\n[CV 1/2; 513/648] START criterion=entropy, max_depth=12, max_features=auto, min_samples_leaf=2, min_samples_split=5, splitter=best\n",
          "output_type": "stream"
        },
        {
          "name": "stderr",
          "text": "/lib/python3.11/site-packages/sklearn/tree/_classes.py:269: FutureWarning: `max_features='auto'` has been deprecated in 1.1 and will be removed in 1.3. To keep the past behaviour, explicitly set `max_features='sqrt'`.\n  warnings.warn(\n",
          "output_type": "stream"
        },
        {
          "name": "stdout",
          "text": "[CV 1/2; 513/648] END criterion=entropy, max_depth=12, max_features=auto, min_samples_leaf=2, min_samples_split=5, splitter=best;, score=0.611 total time=   0.0s\n[CV 2/2; 513/648] START criterion=entropy, max_depth=12, max_features=auto, min_samples_leaf=2, min_samples_split=5, splitter=best\n",
          "output_type": "stream"
        },
        {
          "name": "stderr",
          "text": "/lib/python3.11/site-packages/sklearn/tree/_classes.py:269: FutureWarning: `max_features='auto'` has been deprecated in 1.1 and will be removed in 1.3. To keep the past behaviour, explicitly set `max_features='sqrt'`.\n  warnings.warn(\n",
          "output_type": "stream"
        },
        {
          "name": "stdout",
          "text": "[CV 2/2; 513/648] END criterion=entropy, max_depth=12, max_features=auto, min_samples_leaf=2, min_samples_split=5, splitter=best;, score=0.667 total time=   0.0s\n[CV 1/2; 514/648] START criterion=entropy, max_depth=12, max_features=auto, min_samples_leaf=2, min_samples_split=5, splitter=random\n",
          "output_type": "stream"
        },
        {
          "name": "stderr",
          "text": "/lib/python3.11/site-packages/sklearn/tree/_classes.py:269: FutureWarning: `max_features='auto'` has been deprecated in 1.1 and will be removed in 1.3. To keep the past behaviour, explicitly set `max_features='sqrt'`.\n  warnings.warn(\n",
          "output_type": "stream"
        },
        {
          "name": "stdout",
          "text": "[CV 1/2; 514/648] END criterion=entropy, max_depth=12, max_features=auto, min_samples_leaf=2, min_samples_split=5, splitter=random;, score=0.778 total time=   0.0s\n[CV 2/2; 514/648] START criterion=entropy, max_depth=12, max_features=auto, min_samples_leaf=2, min_samples_split=5, splitter=random\n",
          "output_type": "stream"
        },
        {
          "name": "stderr",
          "text": "/lib/python3.11/site-packages/sklearn/tree/_classes.py:269: FutureWarning: `max_features='auto'` has been deprecated in 1.1 and will be removed in 1.3. To keep the past behaviour, explicitly set `max_features='sqrt'`.\n  warnings.warn(\n",
          "output_type": "stream"
        },
        {
          "name": "stdout",
          "text": "[CV 2/2; 514/648] END criterion=entropy, max_depth=12, max_features=auto, min_samples_leaf=2, min_samples_split=5, splitter=random;, score=0.861 total time=   0.0s\n[CV 1/2; 515/648] START criterion=entropy, max_depth=12, max_features=auto, min_samples_leaf=2, min_samples_split=10, splitter=best\n",
          "output_type": "stream"
        },
        {
          "name": "stderr",
          "text": "/lib/python3.11/site-packages/sklearn/tree/_classes.py:269: FutureWarning: `max_features='auto'` has been deprecated in 1.1 and will be removed in 1.3. To keep the past behaviour, explicitly set `max_features='sqrt'`.\n  warnings.warn(\n",
          "output_type": "stream"
        },
        {
          "name": "stdout",
          "text": "[CV 1/2; 515/648] END criterion=entropy, max_depth=12, max_features=auto, min_samples_leaf=2, min_samples_split=10, splitter=best;, score=0.861 total time=   0.0s\n[CV 2/2; 515/648] START criterion=entropy, max_depth=12, max_features=auto, min_samples_leaf=2, min_samples_split=10, splitter=best\n",
          "output_type": "stream"
        },
        {
          "name": "stderr",
          "text": "/lib/python3.11/site-packages/sklearn/tree/_classes.py:269: FutureWarning: `max_features='auto'` has been deprecated in 1.1 and will be removed in 1.3. To keep the past behaviour, explicitly set `max_features='sqrt'`.\n  warnings.warn(\n",
          "output_type": "stream"
        },
        {
          "name": "stdout",
          "text": "[CV 2/2; 515/648] END criterion=entropy, max_depth=12, max_features=auto, min_samples_leaf=2, min_samples_split=10, splitter=best;, score=0.556 total time=   0.0s\n[CV 1/2; 516/648] START criterion=entropy, max_depth=12, max_features=auto, min_samples_leaf=2, min_samples_split=10, splitter=random\n",
          "output_type": "stream"
        },
        {
          "name": "stderr",
          "text": "/lib/python3.11/site-packages/sklearn/tree/_classes.py:269: FutureWarning: `max_features='auto'` has been deprecated in 1.1 and will be removed in 1.3. To keep the past behaviour, explicitly set `max_features='sqrt'`.\n  warnings.warn(\n",
          "output_type": "stream"
        },
        {
          "name": "stdout",
          "text": "[CV 1/2; 516/648] END criterion=entropy, max_depth=12, max_features=auto, min_samples_leaf=2, min_samples_split=10, splitter=random;, score=0.722 total time=   0.0s\n[CV 2/2; 516/648] START criterion=entropy, max_depth=12, max_features=auto, min_samples_leaf=2, min_samples_split=10, splitter=random\n",
          "output_type": "stream"
        },
        {
          "name": "stderr",
          "text": "/lib/python3.11/site-packages/sklearn/tree/_classes.py:269: FutureWarning: `max_features='auto'` has been deprecated in 1.1 and will be removed in 1.3. To keep the past behaviour, explicitly set `max_features='sqrt'`.\n  warnings.warn(\n",
          "output_type": "stream"
        },
        {
          "name": "stdout",
          "text": "[CV 2/2; 516/648] END criterion=entropy, max_depth=12, max_features=auto, min_samples_leaf=2, min_samples_split=10, splitter=random;, score=0.806 total time=   0.0s\n[CV 1/2; 517/648] START criterion=entropy, max_depth=12, max_features=auto, min_samples_leaf=4, min_samples_split=2, splitter=best\n",
          "output_type": "stream"
        },
        {
          "name": "stderr",
          "text": "/lib/python3.11/site-packages/sklearn/tree/_classes.py:269: FutureWarning: `max_features='auto'` has been deprecated in 1.1 and will be removed in 1.3. To keep the past behaviour, explicitly set `max_features='sqrt'`.\n  warnings.warn(\n",
          "output_type": "stream"
        },
        {
          "name": "stdout",
          "text": "[CV 1/2; 517/648] END criterion=entropy, max_depth=12, max_features=auto, min_samples_leaf=4, min_samples_split=2, splitter=best;, score=0.778 total time=   0.0s\n[CV 2/2; 517/648] START criterion=entropy, max_depth=12, max_features=auto, min_samples_leaf=4, min_samples_split=2, splitter=best\n",
          "output_type": "stream"
        },
        {
          "name": "stderr",
          "text": "/lib/python3.11/site-packages/sklearn/tree/_classes.py:269: FutureWarning: `max_features='auto'` has been deprecated in 1.1 and will be removed in 1.3. To keep the past behaviour, explicitly set `max_features='sqrt'`.\n  warnings.warn(\n",
          "output_type": "stream"
        },
        {
          "name": "stdout",
          "text": "[CV 2/2; 517/648] END criterion=entropy, max_depth=12, max_features=auto, min_samples_leaf=4, min_samples_split=2, splitter=best;, score=0.444 total time=   0.0s\n[CV 1/2; 518/648] START criterion=entropy, max_depth=12, max_features=auto, min_samples_leaf=4, min_samples_split=2, splitter=random\n",
          "output_type": "stream"
        },
        {
          "name": "stderr",
          "text": "/lib/python3.11/site-packages/sklearn/tree/_classes.py:269: FutureWarning: `max_features='auto'` has been deprecated in 1.1 and will be removed in 1.3. To keep the past behaviour, explicitly set `max_features='sqrt'`.\n  warnings.warn(\n",
          "output_type": "stream"
        },
        {
          "name": "stdout",
          "text": "[CV 1/2; 518/648] END criterion=entropy, max_depth=12, max_features=auto, min_samples_leaf=4, min_samples_split=2, splitter=random;, score=0.778 total time=   0.0s\n[CV 2/2; 518/648] START criterion=entropy, max_depth=12, max_features=auto, min_samples_leaf=4, min_samples_split=2, splitter=random\n",
          "output_type": "stream"
        },
        {
          "name": "stderr",
          "text": "/lib/python3.11/site-packages/sklearn/tree/_classes.py:269: FutureWarning: `max_features='auto'` has been deprecated in 1.1 and will be removed in 1.3. To keep the past behaviour, explicitly set `max_features='sqrt'`.\n  warnings.warn(\n",
          "output_type": "stream"
        },
        {
          "name": "stdout",
          "text": "[CV 2/2; 518/648] END criterion=entropy, max_depth=12, max_features=auto, min_samples_leaf=4, min_samples_split=2, splitter=random;, score=0.639 total time=   0.0s\n[CV 1/2; 519/648] START criterion=entropy, max_depth=12, max_features=auto, min_samples_leaf=4, min_samples_split=5, splitter=best\n",
          "output_type": "stream"
        },
        {
          "name": "stderr",
          "text": "/lib/python3.11/site-packages/sklearn/tree/_classes.py:269: FutureWarning: `max_features='auto'` has been deprecated in 1.1 and will be removed in 1.3. To keep the past behaviour, explicitly set `max_features='sqrt'`.\n  warnings.warn(\n",
          "output_type": "stream"
        },
        {
          "name": "stdout",
          "text": "[CV 1/2; 519/648] END criterion=entropy, max_depth=12, max_features=auto, min_samples_leaf=4, min_samples_split=5, splitter=best;, score=0.833 total time=   0.0s\n[CV 2/2; 519/648] START criterion=entropy, max_depth=12, max_features=auto, min_samples_leaf=4, min_samples_split=5, splitter=best\n",
          "output_type": "stream"
        },
        {
          "name": "stderr",
          "text": "/lib/python3.11/site-packages/sklearn/tree/_classes.py:269: FutureWarning: `max_features='auto'` has been deprecated in 1.1 and will be removed in 1.3. To keep the past behaviour, explicitly set `max_features='sqrt'`.\n  warnings.warn(\n",
          "output_type": "stream"
        },
        {
          "name": "stdout",
          "text": "[CV 2/2; 519/648] END criterion=entropy, max_depth=12, max_features=auto, min_samples_leaf=4, min_samples_split=5, splitter=best;, score=0.639 total time=   0.0s\n[CV 1/2; 520/648] START criterion=entropy, max_depth=12, max_features=auto, min_samples_leaf=4, min_samples_split=5, splitter=random\n",
          "output_type": "stream"
        },
        {
          "name": "stderr",
          "text": "/lib/python3.11/site-packages/sklearn/tree/_classes.py:269: FutureWarning: `max_features='auto'` has been deprecated in 1.1 and will be removed in 1.3. To keep the past behaviour, explicitly set `max_features='sqrt'`.\n  warnings.warn(\n",
          "output_type": "stream"
        },
        {
          "name": "stdout",
          "text": "[CV 1/2; 520/648] END criterion=entropy, max_depth=12, max_features=auto, min_samples_leaf=4, min_samples_split=5, splitter=random;, score=0.861 total time=   0.0s\n[CV 2/2; 520/648] START criterion=entropy, max_depth=12, max_features=auto, min_samples_leaf=4, min_samples_split=5, splitter=random\n",
          "output_type": "stream"
        },
        {
          "name": "stderr",
          "text": "/lib/python3.11/site-packages/sklearn/tree/_classes.py:269: FutureWarning: `max_features='auto'` has been deprecated in 1.1 and will be removed in 1.3. To keep the past behaviour, explicitly set `max_features='sqrt'`.\n  warnings.warn(\n",
          "output_type": "stream"
        },
        {
          "name": "stdout",
          "text": "[CV 2/2; 520/648] END criterion=entropy, max_depth=12, max_features=auto, min_samples_leaf=4, min_samples_split=5, splitter=random;, score=0.667 total time=   0.0s\n[CV 1/2; 521/648] START criterion=entropy, max_depth=12, max_features=auto, min_samples_leaf=4, min_samples_split=10, splitter=best\n",
          "output_type": "stream"
        },
        {
          "name": "stderr",
          "text": "/lib/python3.11/site-packages/sklearn/tree/_classes.py:269: FutureWarning: `max_features='auto'` has been deprecated in 1.1 and will be removed in 1.3. To keep the past behaviour, explicitly set `max_features='sqrt'`.\n  warnings.warn(\n",
          "output_type": "stream"
        },
        {
          "name": "stdout",
          "text": "[CV 1/2; 521/648] END criterion=entropy, max_depth=12, max_features=auto, min_samples_leaf=4, min_samples_split=10, splitter=best;, score=0.861 total time=   0.0s\n[CV 2/2; 521/648] START criterion=entropy, max_depth=12, max_features=auto, min_samples_leaf=4, min_samples_split=10, splitter=best\n",
          "output_type": "stream"
        },
        {
          "name": "stderr",
          "text": "/lib/python3.11/site-packages/sklearn/tree/_classes.py:269: FutureWarning: `max_features='auto'` has been deprecated in 1.1 and will be removed in 1.3. To keep the past behaviour, explicitly set `max_features='sqrt'`.\n  warnings.warn(\n",
          "output_type": "stream"
        },
        {
          "name": "stdout",
          "text": "[CV 2/2; 521/648] END criterion=entropy, max_depth=12, max_features=auto, min_samples_leaf=4, min_samples_split=10, splitter=best;, score=0.778 total time=   0.0s\n[CV 1/2; 522/648] START criterion=entropy, max_depth=12, max_features=auto, min_samples_leaf=4, min_samples_split=10, splitter=random\n",
          "output_type": "stream"
        },
        {
          "name": "stderr",
          "text": "/lib/python3.11/site-packages/sklearn/tree/_classes.py:269: FutureWarning: `max_features='auto'` has been deprecated in 1.1 and will be removed in 1.3. To keep the past behaviour, explicitly set `max_features='sqrt'`.\n  warnings.warn(\n",
          "output_type": "stream"
        },
        {
          "name": "stdout",
          "text": "[CV 1/2; 522/648] END criterion=entropy, max_depth=12, max_features=auto, min_samples_leaf=4, min_samples_split=10, splitter=random;, score=0.861 total time=   0.0s\n[CV 2/2; 522/648] START criterion=entropy, max_depth=12, max_features=auto, min_samples_leaf=4, min_samples_split=10, splitter=random\n",
          "output_type": "stream"
        },
        {
          "name": "stderr",
          "text": "/lib/python3.11/site-packages/sklearn/tree/_classes.py:269: FutureWarning: `max_features='auto'` has been deprecated in 1.1 and will be removed in 1.3. To keep the past behaviour, explicitly set `max_features='sqrt'`.\n  warnings.warn(\n",
          "output_type": "stream"
        },
        {
          "name": "stdout",
          "text": "[CV 2/2; 522/648] END criterion=entropy, max_depth=12, max_features=auto, min_samples_leaf=4, min_samples_split=10, splitter=random;, score=0.694 total time=   0.0s\n[CV 1/2; 523/648] START criterion=entropy, max_depth=12, max_features=sqrt, min_samples_leaf=1, min_samples_split=2, splitter=best\n[CV 1/2; 523/648] END criterion=entropy, max_depth=12, max_features=sqrt, min_samples_leaf=1, min_samples_split=2, splitter=best;, score=0.750 total time=   0.0s\n[CV 2/2; 523/648] START criterion=entropy, max_depth=12, max_features=sqrt, min_samples_leaf=1, min_samples_split=2, splitter=best\n[CV 2/2; 523/648] END criterion=entropy, max_depth=12, max_features=sqrt, min_samples_leaf=1, min_samples_split=2, splitter=best;, score=0.806 total time=   0.0s\n[CV 1/2; 524/648] START criterion=entropy, max_depth=12, max_features=sqrt, min_samples_leaf=1, min_samples_split=2, splitter=random\n[CV 1/2; 524/648] END criterion=entropy, max_depth=12, max_features=sqrt, min_samples_leaf=1, min_samples_split=2, splitter=random;, score=0.750 total time=   0.0s\n[CV 2/2; 524/648] START criterion=entropy, max_depth=12, max_features=sqrt, min_samples_leaf=1, min_samples_split=2, splitter=random\n[CV 2/2; 524/648] END criterion=entropy, max_depth=12, max_features=sqrt, min_samples_leaf=1, min_samples_split=2, splitter=random;, score=0.861 total time=   0.0s\n[CV 1/2; 525/648] START criterion=entropy, max_depth=12, max_features=sqrt, min_samples_leaf=1, min_samples_split=5, splitter=best\n[CV 1/2; 525/648] END criterion=entropy, max_depth=12, max_features=sqrt, min_samples_leaf=1, min_samples_split=5, splitter=best;, score=0.750 total time=   0.0s\n[CV 2/2; 525/648] START criterion=entropy, max_depth=12, max_features=sqrt, min_samples_leaf=1, min_samples_split=5, splitter=best\n[CV 2/2; 525/648] END criterion=entropy, max_depth=12, max_features=sqrt, min_samples_leaf=1, min_samples_split=5, splitter=best;, score=0.722 total time=   0.0s\n[CV 1/2; 526/648] START criterion=entropy, max_depth=12, max_features=sqrt, min_samples_leaf=1, min_samples_split=5, splitter=random\n[CV 1/2; 526/648] END criterion=entropy, max_depth=12, max_features=sqrt, min_samples_leaf=1, min_samples_split=5, splitter=random;, score=0.611 total time=   0.0s\n[CV 2/2; 526/648] START criterion=entropy, max_depth=12, max_features=sqrt, min_samples_leaf=1, min_samples_split=5, splitter=random\n[CV 2/2; 526/648] END criterion=entropy, max_depth=12, max_features=sqrt, min_samples_leaf=1, min_samples_split=5, splitter=random;, score=0.722 total time=   0.0s\n[CV 1/2; 527/648] START criterion=entropy, max_depth=12, max_features=sqrt, min_samples_leaf=1, min_samples_split=10, splitter=best\n[CV 1/2; 527/648] END criterion=entropy, max_depth=12, max_features=sqrt, min_samples_leaf=1, min_samples_split=10, splitter=best;, score=0.750 total time=   0.0s\n[CV 2/2; 527/648] START criterion=entropy, max_depth=12, max_features=sqrt, min_samples_leaf=1, min_samples_split=10, splitter=best\n[CV 2/2; 527/648] END criterion=entropy, max_depth=12, max_features=sqrt, min_samples_leaf=1, min_samples_split=10, splitter=best;, score=0.861 total time=   0.0s\n[CV 1/2; 528/648] START criterion=entropy, max_depth=12, max_features=sqrt, min_samples_leaf=1, min_samples_split=10, splitter=random\n[CV 1/2; 528/648] END criterion=entropy, max_depth=12, max_features=sqrt, min_samples_leaf=1, min_samples_split=10, splitter=random;, score=0.750 total time=   0.0s\n[CV 2/2; 528/648] START criterion=entropy, max_depth=12, max_features=sqrt, min_samples_leaf=1, min_samples_split=10, splitter=random\n[CV 2/2; 528/648] END criterion=entropy, max_depth=12, max_features=sqrt, min_samples_leaf=1, min_samples_split=10, splitter=random;, score=0.583 total time=   0.0s\n[CV 1/2; 529/648] START criterion=entropy, max_depth=12, max_features=sqrt, min_samples_leaf=2, min_samples_split=2, splitter=best\n[CV 1/2; 529/648] END criterion=entropy, max_depth=12, max_features=sqrt, min_samples_leaf=2, min_samples_split=2, splitter=best;, score=0.639 total time=   0.0s\n[CV 2/2; 529/648] START criterion=entropy, max_depth=12, max_features=sqrt, min_samples_leaf=2, min_samples_split=2, splitter=best\n[CV 2/2; 529/648] END criterion=entropy, max_depth=12, max_features=sqrt, min_samples_leaf=2, min_samples_split=2, splitter=best;, score=0.861 total time=   0.0s\n[CV 1/2; 530/648] START criterion=entropy, max_depth=12, max_features=sqrt, min_samples_leaf=2, min_samples_split=2, splitter=random\n[CV 1/2; 530/648] END criterion=entropy, max_depth=12, max_features=sqrt, min_samples_leaf=2, min_samples_split=2, splitter=random;, score=0.722 total time=   0.0s\n[CV 2/2; 530/648] START criterion=entropy, max_depth=12, max_features=sqrt, min_samples_leaf=2, min_samples_split=2, splitter=random\n[CV 2/2; 530/648] END criterion=entropy, max_depth=12, max_features=sqrt, min_samples_leaf=2, min_samples_split=2, splitter=random;, score=0.667 total time=   0.0s\n[CV 1/2; 531/648] START criterion=entropy, max_depth=12, max_features=sqrt, min_samples_leaf=2, min_samples_split=5, splitter=best\n[CV 1/2; 531/648] END criterion=entropy, max_depth=12, max_features=sqrt, min_samples_leaf=2, min_samples_split=5, splitter=best;, score=0.806 total time=   0.0s\n[CV 2/2; 531/648] START criterion=entropy, max_depth=12, max_features=sqrt, min_samples_leaf=2, min_samples_split=5, splitter=best\n[CV 2/2; 531/648] END criterion=entropy, max_depth=12, max_features=sqrt, min_samples_leaf=2, min_samples_split=5, splitter=best;, score=0.667 total time=   0.0s\n[CV 1/2; 532/648] START criterion=entropy, max_depth=12, max_features=sqrt, min_samples_leaf=2, min_samples_split=5, splitter=random\n[CV 1/2; 532/648] END criterion=entropy, max_depth=12, max_features=sqrt, min_samples_leaf=2, min_samples_split=5, splitter=random;, score=0.778 total time=   0.0s\n[CV 2/2; 532/648] START criterion=entropy, max_depth=12, max_features=sqrt, min_samples_leaf=2, min_samples_split=5, splitter=random\n[CV 2/2; 532/648] END criterion=entropy, max_depth=12, max_features=sqrt, min_samples_leaf=2, min_samples_split=5, splitter=random;, score=0.639 total time=   0.0s\n[CV 1/2; 533/648] START criterion=entropy, max_depth=12, max_features=sqrt, min_samples_leaf=2, min_samples_split=10, splitter=best\n[CV 1/2; 533/648] END criterion=entropy, max_depth=12, max_features=sqrt, min_samples_leaf=2, min_samples_split=10, splitter=best;, score=0.778 total time=   0.0s\n[CV 2/2; 533/648] START criterion=entropy, max_depth=12, max_features=sqrt, min_samples_leaf=2, min_samples_split=10, splitter=best\n[CV 2/2; 533/648] END criterion=entropy, max_depth=12, max_features=sqrt, min_samples_leaf=2, min_samples_split=10, splitter=best;, score=0.861 total time=   0.0s\n[CV 1/2; 534/648] START criterion=entropy, max_depth=12, max_features=sqrt, min_samples_leaf=2, min_samples_split=10, splitter=random\n[CV 1/2; 534/648] END criterion=entropy, max_depth=12, max_features=sqrt, min_samples_leaf=2, min_samples_split=10, splitter=random;, score=0.694 total time=   0.0s\n[CV 2/2; 534/648] START criterion=entropy, max_depth=12, max_features=sqrt, min_samples_leaf=2, min_samples_split=10, splitter=random\n[CV 2/2; 534/648] END criterion=entropy, max_depth=12, max_features=sqrt, min_samples_leaf=2, min_samples_split=10, splitter=random;, score=0.861 total time=   0.0s\n[CV 1/2; 535/648] START criterion=entropy, max_depth=12, max_features=sqrt, min_samples_leaf=4, min_samples_split=2, splitter=best\n[CV 1/2; 535/648] END criterion=entropy, max_depth=12, max_features=sqrt, min_samples_leaf=4, min_samples_split=2, splitter=best;, score=0.833 total time=   0.0s\n[CV 2/2; 535/648] START criterion=entropy, max_depth=12, max_features=sqrt, min_samples_leaf=4, min_samples_split=2, splitter=best\n[CV 2/2; 535/648] END criterion=entropy, max_depth=12, max_features=sqrt, min_samples_leaf=4, min_samples_split=2, splitter=best;, score=0.778 total time=   0.0s\n[CV 1/2; 536/648] START criterion=entropy, max_depth=12, max_features=sqrt, min_samples_leaf=4, min_samples_split=2, splitter=random\n[CV 1/2; 536/648] END criterion=entropy, max_depth=12, max_features=sqrt, min_samples_leaf=4, min_samples_split=2, splitter=random;, score=0.694 total time=   0.0s\n[CV 2/2; 536/648] START criterion=entropy, max_depth=12, max_features=sqrt, min_samples_leaf=4, min_samples_split=2, splitter=random\n[CV 2/2; 536/648] END criterion=entropy, max_depth=12, max_features=sqrt, min_samples_leaf=4, min_samples_split=2, splitter=random;, score=0.806 total time=   0.0s\n[CV 1/2; 537/648] START criterion=entropy, max_depth=12, max_features=sqrt, min_samples_leaf=4, min_samples_split=5, splitter=best\n[CV 1/2; 537/648] END criterion=entropy, max_depth=12, max_features=sqrt, min_samples_leaf=4, min_samples_split=5, splitter=best;, score=0.639 total time=   0.0s\n[CV 2/2; 537/648] START criterion=entropy, max_depth=12, max_features=sqrt, min_samples_leaf=4, min_samples_split=5, splitter=best\n[CV 2/2; 537/648] END criterion=entropy, max_depth=12, max_features=sqrt, min_samples_leaf=4, min_samples_split=5, splitter=best;, score=0.861 total time=   0.0s\n[CV 1/2; 538/648] START criterion=entropy, max_depth=12, max_features=sqrt, min_samples_leaf=4, min_samples_split=5, splitter=random\n[CV 1/2; 538/648] END criterion=entropy, max_depth=12, max_features=sqrt, min_samples_leaf=4, min_samples_split=5, splitter=random;, score=0.778 total time=   0.0s\n[CV 2/2; 538/648] START criterion=entropy, max_depth=12, max_features=sqrt, min_samples_leaf=4, min_samples_split=5, splitter=random\n[CV 2/2; 538/648] END criterion=entropy, max_depth=12, max_features=sqrt, min_samples_leaf=4, min_samples_split=5, splitter=random;, score=0.778 total time=   0.0s\n[CV 1/2; 539/648] START criterion=entropy, max_depth=12, max_features=sqrt, min_samples_leaf=4, min_samples_split=10, splitter=best\n[CV 1/2; 539/648] END criterion=entropy, max_depth=12, max_features=sqrt, min_samples_leaf=4, min_samples_split=10, splitter=best;, score=0.667 total time=   0.0s\n[CV 2/2; 539/648] START criterion=entropy, max_depth=12, max_features=sqrt, min_samples_leaf=4, min_samples_split=10, splitter=best\n[CV 2/2; 539/648] END criterion=entropy, max_depth=12, max_features=sqrt, min_samples_leaf=4, min_samples_split=10, splitter=best;, score=0.389 total time=   0.0s\n[CV 1/2; 540/648] START criterion=entropy, max_depth=12, max_features=sqrt, min_samples_leaf=4, min_samples_split=10, splitter=random\n[CV 1/2; 540/648] END criterion=entropy, max_depth=12, max_features=sqrt, min_samples_leaf=4, min_samples_split=10, splitter=random;, score=0.806 total time=   0.0s\n[CV 2/2; 540/648] START criterion=entropy, max_depth=12, max_features=sqrt, min_samples_leaf=4, min_samples_split=10, splitter=random\n[CV 2/2; 540/648] END criterion=entropy, max_depth=12, max_features=sqrt, min_samples_leaf=4, min_samples_split=10, splitter=random;, score=0.611 total time=   0.0s\n[CV 1/2; 541/648] START criterion=entropy, max_depth=14, max_features=auto, min_samples_leaf=1, min_samples_split=2, splitter=best\n",
          "output_type": "stream"
        },
        {
          "name": "stderr",
          "text": "/lib/python3.11/site-packages/sklearn/tree/_classes.py:269: FutureWarning: `max_features='auto'` has been deprecated in 1.1 and will be removed in 1.3. To keep the past behaviour, explicitly set `max_features='sqrt'`.\n  warnings.warn(\n",
          "output_type": "stream"
        },
        {
          "name": "stdout",
          "text": "[CV 1/2; 541/648] END criterion=entropy, max_depth=14, max_features=auto, min_samples_leaf=1, min_samples_split=2, splitter=best;, score=0.667 total time=   0.0s\n[CV 2/2; 541/648] START criterion=entropy, max_depth=14, max_features=auto, min_samples_leaf=1, min_samples_split=2, splitter=best\n",
          "output_type": "stream"
        },
        {
          "name": "stderr",
          "text": "/lib/python3.11/site-packages/sklearn/tree/_classes.py:269: FutureWarning: `max_features='auto'` has been deprecated in 1.1 and will be removed in 1.3. To keep the past behaviour, explicitly set `max_features='sqrt'`.\n  warnings.warn(\n",
          "output_type": "stream"
        },
        {
          "name": "stdout",
          "text": "[CV 2/2; 541/648] END criterion=entropy, max_depth=14, max_features=auto, min_samples_leaf=1, min_samples_split=2, splitter=best;, score=0.667 total time=   0.0s\n[CV 1/2; 542/648] START criterion=entropy, max_depth=14, max_features=auto, min_samples_leaf=1, min_samples_split=2, splitter=random\n",
          "output_type": "stream"
        },
        {
          "name": "stderr",
          "text": "/lib/python3.11/site-packages/sklearn/tree/_classes.py:269: FutureWarning: `max_features='auto'` has been deprecated in 1.1 and will be removed in 1.3. To keep the past behaviour, explicitly set `max_features='sqrt'`.\n  warnings.warn(\n",
          "output_type": "stream"
        },
        {
          "name": "stdout",
          "text": "[CV 1/2; 542/648] END criterion=entropy, max_depth=14, max_features=auto, min_samples_leaf=1, min_samples_split=2, splitter=random;, score=0.722 total time=   0.0s\n[CV 2/2; 542/648] START criterion=entropy, max_depth=14, max_features=auto, min_samples_leaf=1, min_samples_split=2, splitter=random\n",
          "output_type": "stream"
        },
        {
          "name": "stderr",
          "text": "/lib/python3.11/site-packages/sklearn/tree/_classes.py:269: FutureWarning: `max_features='auto'` has been deprecated in 1.1 and will be removed in 1.3. To keep the past behaviour, explicitly set `max_features='sqrt'`.\n  warnings.warn(\n",
          "output_type": "stream"
        },
        {
          "name": "stdout",
          "text": "[CV 2/2; 542/648] END criterion=entropy, max_depth=14, max_features=auto, min_samples_leaf=1, min_samples_split=2, splitter=random;, score=0.722 total time=   0.0s\n[CV 1/2; 543/648] START criterion=entropy, max_depth=14, max_features=auto, min_samples_leaf=1, min_samples_split=5, splitter=best\n",
          "output_type": "stream"
        },
        {
          "name": "stderr",
          "text": "/lib/python3.11/site-packages/sklearn/tree/_classes.py:269: FutureWarning: `max_features='auto'` has been deprecated in 1.1 and will be removed in 1.3. To keep the past behaviour, explicitly set `max_features='sqrt'`.\n  warnings.warn(\n",
          "output_type": "stream"
        },
        {
          "name": "stdout",
          "text": "[CV 1/2; 543/648] END criterion=entropy, max_depth=14, max_features=auto, min_samples_leaf=1, min_samples_split=5, splitter=best;, score=0.750 total time=   0.0s\n[CV 2/2; 543/648] START criterion=entropy, max_depth=14, max_features=auto, min_samples_leaf=1, min_samples_split=5, splitter=best\n",
          "output_type": "stream"
        },
        {
          "name": "stderr",
          "text": "/lib/python3.11/site-packages/sklearn/tree/_classes.py:269: FutureWarning: `max_features='auto'` has been deprecated in 1.1 and will be removed in 1.3. To keep the past behaviour, explicitly set `max_features='sqrt'`.\n  warnings.warn(\n",
          "output_type": "stream"
        },
        {
          "name": "stdout",
          "text": "[CV 2/2; 543/648] END criterion=entropy, max_depth=14, max_features=auto, min_samples_leaf=1, min_samples_split=5, splitter=best;, score=0.778 total time=   0.0s\n[CV 1/2; 544/648] START criterion=entropy, max_depth=14, max_features=auto, min_samples_leaf=1, min_samples_split=5, splitter=random\n",
          "output_type": "stream"
        },
        {
          "name": "stderr",
          "text": "/lib/python3.11/site-packages/sklearn/tree/_classes.py:269: FutureWarning: `max_features='auto'` has been deprecated in 1.1 and will be removed in 1.3. To keep the past behaviour, explicitly set `max_features='sqrt'`.\n  warnings.warn(\n",
          "output_type": "stream"
        },
        {
          "name": "stdout",
          "text": "[CV 1/2; 544/648] END criterion=entropy, max_depth=14, max_features=auto, min_samples_leaf=1, min_samples_split=5, splitter=random;, score=0.750 total time=   0.0s\n[CV 2/2; 544/648] START criterion=entropy, max_depth=14, max_features=auto, min_samples_leaf=1, min_samples_split=5, splitter=random\n",
          "output_type": "stream"
        },
        {
          "name": "stderr",
          "text": "/lib/python3.11/site-packages/sklearn/tree/_classes.py:269: FutureWarning: `max_features='auto'` has been deprecated in 1.1 and will be removed in 1.3. To keep the past behaviour, explicitly set `max_features='sqrt'`.\n  warnings.warn(\n",
          "output_type": "stream"
        },
        {
          "name": "stdout",
          "text": "[CV 2/2; 544/648] END criterion=entropy, max_depth=14, max_features=auto, min_samples_leaf=1, min_samples_split=5, splitter=random;, score=0.472 total time=   0.0s\n[CV 1/2; 545/648] START criterion=entropy, max_depth=14, max_features=auto, min_samples_leaf=1, min_samples_split=10, splitter=best\n",
          "output_type": "stream"
        },
        {
          "name": "stderr",
          "text": "/lib/python3.11/site-packages/sklearn/tree/_classes.py:269: FutureWarning: `max_features='auto'` has been deprecated in 1.1 and will be removed in 1.3. To keep the past behaviour, explicitly set `max_features='sqrt'`.\n  warnings.warn(\n",
          "output_type": "stream"
        },
        {
          "name": "stdout",
          "text": "[CV 1/2; 545/648] END criterion=entropy, max_depth=14, max_features=auto, min_samples_leaf=1, min_samples_split=10, splitter=best;, score=0.778 total time=   0.0s\n[CV 2/2; 545/648] START criterion=entropy, max_depth=14, max_features=auto, min_samples_leaf=1, min_samples_split=10, splitter=best\n",
          "output_type": "stream"
        },
        {
          "name": "stderr",
          "text": "/lib/python3.11/site-packages/sklearn/tree/_classes.py:269: FutureWarning: `max_features='auto'` has been deprecated in 1.1 and will be removed in 1.3. To keep the past behaviour, explicitly set `max_features='sqrt'`.\n  warnings.warn(\n",
          "output_type": "stream"
        },
        {
          "name": "stdout",
          "text": "[CV 2/2; 545/648] END criterion=entropy, max_depth=14, max_features=auto, min_samples_leaf=1, min_samples_split=10, splitter=best;, score=0.861 total time=   0.0s\n[CV 1/2; 546/648] START criterion=entropy, max_depth=14, max_features=auto, min_samples_leaf=1, min_samples_split=10, splitter=random\n",
          "output_type": "stream"
        },
        {
          "name": "stderr",
          "text": "/lib/python3.11/site-packages/sklearn/tree/_classes.py:269: FutureWarning: `max_features='auto'` has been deprecated in 1.1 and will be removed in 1.3. To keep the past behaviour, explicitly set `max_features='sqrt'`.\n  warnings.warn(\n",
          "output_type": "stream"
        },
        {
          "name": "stdout",
          "text": "[CV 1/2; 546/648] END criterion=entropy, max_depth=14, max_features=auto, min_samples_leaf=1, min_samples_split=10, splitter=random;, score=0.556 total time=   0.0s\n[CV 2/2; 546/648] START criterion=entropy, max_depth=14, max_features=auto, min_samples_leaf=1, min_samples_split=10, splitter=random\n",
          "output_type": "stream"
        },
        {
          "name": "stderr",
          "text": "/lib/python3.11/site-packages/sklearn/tree/_classes.py:269: FutureWarning: `max_features='auto'` has been deprecated in 1.1 and will be removed in 1.3. To keep the past behaviour, explicitly set `max_features='sqrt'`.\n  warnings.warn(\n",
          "output_type": "stream"
        },
        {
          "name": "stdout",
          "text": "[CV 2/2; 546/648] END criterion=entropy, max_depth=14, max_features=auto, min_samples_leaf=1, min_samples_split=10, splitter=random;, score=0.778 total time=   0.0s\n[CV 1/2; 547/648] START criterion=entropy, max_depth=14, max_features=auto, min_samples_leaf=2, min_samples_split=2, splitter=best\n",
          "output_type": "stream"
        },
        {
          "name": "stderr",
          "text": "/lib/python3.11/site-packages/sklearn/tree/_classes.py:269: FutureWarning: `max_features='auto'` has been deprecated in 1.1 and will be removed in 1.3. To keep the past behaviour, explicitly set `max_features='sqrt'`.\n  warnings.warn(\n",
          "output_type": "stream"
        },
        {
          "name": "stdout",
          "text": "[CV 1/2; 547/648] END criterion=entropy, max_depth=14, max_features=auto, min_samples_leaf=2, min_samples_split=2, splitter=best;, score=0.500 total time=   0.0s\n[CV 2/2; 547/648] START criterion=entropy, max_depth=14, max_features=auto, min_samples_leaf=2, min_samples_split=2, splitter=best\n",
          "output_type": "stream"
        },
        {
          "name": "stderr",
          "text": "/lib/python3.11/site-packages/sklearn/tree/_classes.py:269: FutureWarning: `max_features='auto'` has been deprecated in 1.1 and will be removed in 1.3. To keep the past behaviour, explicitly set `max_features='sqrt'`.\n  warnings.warn(\n",
          "output_type": "stream"
        },
        {
          "name": "stdout",
          "text": "[CV 2/2; 547/648] END criterion=entropy, max_depth=14, max_features=auto, min_samples_leaf=2, min_samples_split=2, splitter=best;, score=0.639 total time=   0.0s\n[CV 1/2; 548/648] START criterion=entropy, max_depth=14, max_features=auto, min_samples_leaf=2, min_samples_split=2, splitter=random\n",
          "output_type": "stream"
        },
        {
          "name": "stderr",
          "text": "/lib/python3.11/site-packages/sklearn/tree/_classes.py:269: FutureWarning: `max_features='auto'` has been deprecated in 1.1 and will be removed in 1.3. To keep the past behaviour, explicitly set `max_features='sqrt'`.\n  warnings.warn(\n",
          "output_type": "stream"
        },
        {
          "name": "stdout",
          "text": "[CV 1/2; 548/648] END criterion=entropy, max_depth=14, max_features=auto, min_samples_leaf=2, min_samples_split=2, splitter=random;, score=0.861 total time=   0.0s\n[CV 2/2; 548/648] START criterion=entropy, max_depth=14, max_features=auto, min_samples_leaf=2, min_samples_split=2, splitter=random\n",
          "output_type": "stream"
        },
        {
          "name": "stderr",
          "text": "/lib/python3.11/site-packages/sklearn/tree/_classes.py:269: FutureWarning: `max_features='auto'` has been deprecated in 1.1 and will be removed in 1.3. To keep the past behaviour, explicitly set `max_features='sqrt'`.\n  warnings.warn(\n",
          "output_type": "stream"
        },
        {
          "name": "stdout",
          "text": "[CV 2/2; 548/648] END criterion=entropy, max_depth=14, max_features=auto, min_samples_leaf=2, min_samples_split=2, splitter=random;, score=0.861 total time=   0.0s\n[CV 1/2; 549/648] START criterion=entropy, max_depth=14, max_features=auto, min_samples_leaf=2, min_samples_split=5, splitter=best\n",
          "output_type": "stream"
        },
        {
          "name": "stderr",
          "text": "/lib/python3.11/site-packages/sklearn/tree/_classes.py:269: FutureWarning: `max_features='auto'` has been deprecated in 1.1 and will be removed in 1.3. To keep the past behaviour, explicitly set `max_features='sqrt'`.\n  warnings.warn(\n",
          "output_type": "stream"
        },
        {
          "name": "stdout",
          "text": "[CV 1/2; 549/648] END criterion=entropy, max_depth=14, max_features=auto, min_samples_leaf=2, min_samples_split=5, splitter=best;, score=0.778 total time=   0.0s\n[CV 2/2; 549/648] START criterion=entropy, max_depth=14, max_features=auto, min_samples_leaf=2, min_samples_split=5, splitter=best\n",
          "output_type": "stream"
        },
        {
          "name": "stderr",
          "text": "/lib/python3.11/site-packages/sklearn/tree/_classes.py:269: FutureWarning: `max_features='auto'` has been deprecated in 1.1 and will be removed in 1.3. To keep the past behaviour, explicitly set `max_features='sqrt'`.\n  warnings.warn(\n",
          "output_type": "stream"
        },
        {
          "name": "stdout",
          "text": "[CV 2/2; 549/648] END criterion=entropy, max_depth=14, max_features=auto, min_samples_leaf=2, min_samples_split=5, splitter=best;, score=0.611 total time=   0.0s\n[CV 1/2; 550/648] START criterion=entropy, max_depth=14, max_features=auto, min_samples_leaf=2, min_samples_split=5, splitter=random\n",
          "output_type": "stream"
        },
        {
          "name": "stderr",
          "text": "/lib/python3.11/site-packages/sklearn/tree/_classes.py:269: FutureWarning: `max_features='auto'` has been deprecated in 1.1 and will be removed in 1.3. To keep the past behaviour, explicitly set `max_features='sqrt'`.\n  warnings.warn(\n",
          "output_type": "stream"
        },
        {
          "name": "stdout",
          "text": "[CV 1/2; 550/648] END criterion=entropy, max_depth=14, max_features=auto, min_samples_leaf=2, min_samples_split=5, splitter=random;, score=0.833 total time=   0.0s\n[CV 2/2; 550/648] START criterion=entropy, max_depth=14, max_features=auto, min_samples_leaf=2, min_samples_split=5, splitter=random\n",
          "output_type": "stream"
        },
        {
          "name": "stderr",
          "text": "/lib/python3.11/site-packages/sklearn/tree/_classes.py:269: FutureWarning: `max_features='auto'` has been deprecated in 1.1 and will be removed in 1.3. To keep the past behaviour, explicitly set `max_features='sqrt'`.\n  warnings.warn(\n",
          "output_type": "stream"
        },
        {
          "name": "stdout",
          "text": "[CV 2/2; 550/648] END criterion=entropy, max_depth=14, max_features=auto, min_samples_leaf=2, min_samples_split=5, splitter=random;, score=0.861 total time=   0.0s\n[CV 1/2; 551/648] START criterion=entropy, max_depth=14, max_features=auto, min_samples_leaf=2, min_samples_split=10, splitter=best\n",
          "output_type": "stream"
        },
        {
          "name": "stderr",
          "text": "/lib/python3.11/site-packages/sklearn/tree/_classes.py:269: FutureWarning: `max_features='auto'` has been deprecated in 1.1 and will be removed in 1.3. To keep the past behaviour, explicitly set `max_features='sqrt'`.\n  warnings.warn(\n",
          "output_type": "stream"
        },
        {
          "name": "stdout",
          "text": "[CV 1/2; 551/648] END criterion=entropy, max_depth=14, max_features=auto, min_samples_leaf=2, min_samples_split=10, splitter=best;, score=0.889 total time=   0.0s\n[CV 2/2; 551/648] START criterion=entropy, max_depth=14, max_features=auto, min_samples_leaf=2, min_samples_split=10, splitter=best\n",
          "output_type": "stream"
        },
        {
          "name": "stderr",
          "text": "/lib/python3.11/site-packages/sklearn/tree/_classes.py:269: FutureWarning: `max_features='auto'` has been deprecated in 1.1 and will be removed in 1.3. To keep the past behaviour, explicitly set `max_features='sqrt'`.\n  warnings.warn(\n",
          "output_type": "stream"
        },
        {
          "name": "stdout",
          "text": "[CV 2/2; 551/648] END criterion=entropy, max_depth=14, max_features=auto, min_samples_leaf=2, min_samples_split=10, splitter=best;, score=0.667 total time=   0.0s\n[CV 1/2; 552/648] START criterion=entropy, max_depth=14, max_features=auto, min_samples_leaf=2, min_samples_split=10, splitter=random\n",
          "output_type": "stream"
        },
        {
          "name": "stderr",
          "text": "/lib/python3.11/site-packages/sklearn/tree/_classes.py:269: FutureWarning: `max_features='auto'` has been deprecated in 1.1 and will be removed in 1.3. To keep the past behaviour, explicitly set `max_features='sqrt'`.\n  warnings.warn(\n",
          "output_type": "stream"
        },
        {
          "name": "stdout",
          "text": "[CV 1/2; 552/648] END criterion=entropy, max_depth=14, max_features=auto, min_samples_leaf=2, min_samples_split=10, splitter=random;, score=0.528 total time=   0.0s\n[CV 2/2; 552/648] START criterion=entropy, max_depth=14, max_features=auto, min_samples_leaf=2, min_samples_split=10, splitter=random\n",
          "output_type": "stream"
        },
        {
          "name": "stderr",
          "text": "/lib/python3.11/site-packages/sklearn/tree/_classes.py:269: FutureWarning: `max_features='auto'` has been deprecated in 1.1 and will be removed in 1.3. To keep the past behaviour, explicitly set `max_features='sqrt'`.\n  warnings.warn(\n",
          "output_type": "stream"
        },
        {
          "name": "stdout",
          "text": "[CV 2/2; 552/648] END criterion=entropy, max_depth=14, max_features=auto, min_samples_leaf=2, min_samples_split=10, splitter=random;, score=0.611 total time=   0.0s\n[CV 1/2; 553/648] START criterion=entropy, max_depth=14, max_features=auto, min_samples_leaf=4, min_samples_split=2, splitter=best\n",
          "output_type": "stream"
        },
        {
          "name": "stderr",
          "text": "/lib/python3.11/site-packages/sklearn/tree/_classes.py:269: FutureWarning: `max_features='auto'` has been deprecated in 1.1 and will be removed in 1.3. To keep the past behaviour, explicitly set `max_features='sqrt'`.\n  warnings.warn(\n",
          "output_type": "stream"
        },
        {
          "name": "stdout",
          "text": "[CV 1/2; 553/648] END criterion=entropy, max_depth=14, max_features=auto, min_samples_leaf=4, min_samples_split=2, splitter=best;, score=0.861 total time=   0.0s\n[CV 2/2; 553/648] START criterion=entropy, max_depth=14, max_features=auto, min_samples_leaf=4, min_samples_split=2, splitter=best\n",
          "output_type": "stream"
        },
        {
          "name": "stderr",
          "text": "/lib/python3.11/site-packages/sklearn/tree/_classes.py:269: FutureWarning: `max_features='auto'` has been deprecated in 1.1 and will be removed in 1.3. To keep the past behaviour, explicitly set `max_features='sqrt'`.\n  warnings.warn(\n",
          "output_type": "stream"
        },
        {
          "name": "stdout",
          "text": "[CV 2/2; 553/648] END criterion=entropy, max_depth=14, max_features=auto, min_samples_leaf=4, min_samples_split=2, splitter=best;, score=0.667 total time=   0.0s\n[CV 1/2; 554/648] START criterion=entropy, max_depth=14, max_features=auto, min_samples_leaf=4, min_samples_split=2, splitter=random\n",
          "output_type": "stream"
        },
        {
          "name": "stderr",
          "text": "/lib/python3.11/site-packages/sklearn/tree/_classes.py:269: FutureWarning: `max_features='auto'` has been deprecated in 1.1 and will be removed in 1.3. To keep the past behaviour, explicitly set `max_features='sqrt'`.\n  warnings.warn(\n",
          "output_type": "stream"
        },
        {
          "name": "stdout",
          "text": "[CV 1/2; 554/648] END criterion=entropy, max_depth=14, max_features=auto, min_samples_leaf=4, min_samples_split=2, splitter=random;, score=0.833 total time=   0.0s\n[CV 2/2; 554/648] START criterion=entropy, max_depth=14, max_features=auto, min_samples_leaf=4, min_samples_split=2, splitter=random\n",
          "output_type": "stream"
        },
        {
          "name": "stderr",
          "text": "/lib/python3.11/site-packages/sklearn/tree/_classes.py:269: FutureWarning: `max_features='auto'` has been deprecated in 1.1 and will be removed in 1.3. To keep the past behaviour, explicitly set `max_features='sqrt'`.\n  warnings.warn(\n",
          "output_type": "stream"
        },
        {
          "name": "stdout",
          "text": "[CV 2/2; 554/648] END criterion=entropy, max_depth=14, max_features=auto, min_samples_leaf=4, min_samples_split=2, splitter=random;, score=0.444 total time=   0.0s\n[CV 1/2; 555/648] START criterion=entropy, max_depth=14, max_features=auto, min_samples_leaf=4, min_samples_split=5, splitter=best\n",
          "output_type": "stream"
        },
        {
          "name": "stderr",
          "text": "/lib/python3.11/site-packages/sklearn/tree/_classes.py:269: FutureWarning: `max_features='auto'` has been deprecated in 1.1 and will be removed in 1.3. To keep the past behaviour, explicitly set `max_features='sqrt'`.\n  warnings.warn(\n",
          "output_type": "stream"
        },
        {
          "name": "stdout",
          "text": "[CV 1/2; 555/648] END criterion=entropy, max_depth=14, max_features=auto, min_samples_leaf=4, min_samples_split=5, splitter=best;, score=0.472 total time=   0.0s\n[CV 2/2; 555/648] START criterion=entropy, max_depth=14, max_features=auto, min_samples_leaf=4, min_samples_split=5, splitter=best\n",
          "output_type": "stream"
        },
        {
          "name": "stderr",
          "text": "/lib/python3.11/site-packages/sklearn/tree/_classes.py:269: FutureWarning: `max_features='auto'` has been deprecated in 1.1 and will be removed in 1.3. To keep the past behaviour, explicitly set `max_features='sqrt'`.\n  warnings.warn(\n",
          "output_type": "stream"
        },
        {
          "name": "stdout",
          "text": "[CV 2/2; 555/648] END criterion=entropy, max_depth=14, max_features=auto, min_samples_leaf=4, min_samples_split=5, splitter=best;, score=0.667 total time=   0.0s\n[CV 1/2; 556/648] START criterion=entropy, max_depth=14, max_features=auto, min_samples_leaf=4, min_samples_split=5, splitter=random\n",
          "output_type": "stream"
        },
        {
          "name": "stderr",
          "text": "/lib/python3.11/site-packages/sklearn/tree/_classes.py:269: FutureWarning: `max_features='auto'` has been deprecated in 1.1 and will be removed in 1.3. To keep the past behaviour, explicitly set `max_features='sqrt'`.\n  warnings.warn(\n",
          "output_type": "stream"
        },
        {
          "name": "stdout",
          "text": "[CV 1/2; 556/648] END criterion=entropy, max_depth=14, max_features=auto, min_samples_leaf=4, min_samples_split=5, splitter=random;, score=0.750 total time=   0.0s\n[CV 2/2; 556/648] START criterion=entropy, max_depth=14, max_features=auto, min_samples_leaf=4, min_samples_split=5, splitter=random\n",
          "output_type": "stream"
        },
        {
          "name": "stderr",
          "text": "/lib/python3.11/site-packages/sklearn/tree/_classes.py:269: FutureWarning: `max_features='auto'` has been deprecated in 1.1 and will be removed in 1.3. To keep the past behaviour, explicitly set `max_features='sqrt'`.\n  warnings.warn(\n",
          "output_type": "stream"
        },
        {
          "name": "stdout",
          "text": "[CV 2/2; 556/648] END criterion=entropy, max_depth=14, max_features=auto, min_samples_leaf=4, min_samples_split=5, splitter=random;, score=0.667 total time=   0.0s\n[CV 1/2; 557/648] START criterion=entropy, max_depth=14, max_features=auto, min_samples_leaf=4, min_samples_split=10, splitter=best\n",
          "output_type": "stream"
        },
        {
          "name": "stderr",
          "text": "/lib/python3.11/site-packages/sklearn/tree/_classes.py:269: FutureWarning: `max_features='auto'` has been deprecated in 1.1 and will be removed in 1.3. To keep the past behaviour, explicitly set `max_features='sqrt'`.\n  warnings.warn(\n",
          "output_type": "stream"
        },
        {
          "name": "stdout",
          "text": "[CV 1/2; 557/648] END criterion=entropy, max_depth=14, max_features=auto, min_samples_leaf=4, min_samples_split=10, splitter=best;, score=0.667 total time=   0.0s\n[CV 2/2; 557/648] START criterion=entropy, max_depth=14, max_features=auto, min_samples_leaf=4, min_samples_split=10, splitter=best\n",
          "output_type": "stream"
        },
        {
          "name": "stderr",
          "text": "/lib/python3.11/site-packages/sklearn/tree/_classes.py:269: FutureWarning: `max_features='auto'` has been deprecated in 1.1 and will be removed in 1.3. To keep the past behaviour, explicitly set `max_features='sqrt'`.\n  warnings.warn(\n",
          "output_type": "stream"
        },
        {
          "name": "stdout",
          "text": "[CV 2/2; 557/648] END criterion=entropy, max_depth=14, max_features=auto, min_samples_leaf=4, min_samples_split=10, splitter=best;, score=0.861 total time=   0.0s\n[CV 1/2; 558/648] START criterion=entropy, max_depth=14, max_features=auto, min_samples_leaf=4, min_samples_split=10, splitter=random\n",
          "output_type": "stream"
        },
        {
          "name": "stderr",
          "text": "/lib/python3.11/site-packages/sklearn/tree/_classes.py:269: FutureWarning: `max_features='auto'` has been deprecated in 1.1 and will be removed in 1.3. To keep the past behaviour, explicitly set `max_features='sqrt'`.\n  warnings.warn(\n",
          "output_type": "stream"
        },
        {
          "name": "stdout",
          "text": "[CV 1/2; 558/648] END criterion=entropy, max_depth=14, max_features=auto, min_samples_leaf=4, min_samples_split=10, splitter=random;, score=0.861 total time=   0.0s\n[CV 2/2; 558/648] START criterion=entropy, max_depth=14, max_features=auto, min_samples_leaf=4, min_samples_split=10, splitter=random\n",
          "output_type": "stream"
        },
        {
          "name": "stderr",
          "text": "/lib/python3.11/site-packages/sklearn/tree/_classes.py:269: FutureWarning: `max_features='auto'` has been deprecated in 1.1 and will be removed in 1.3. To keep the past behaviour, explicitly set `max_features='sqrt'`.\n  warnings.warn(\n",
          "output_type": "stream"
        },
        {
          "name": "stdout",
          "text": "[CV 2/2; 558/648] END criterion=entropy, max_depth=14, max_features=auto, min_samples_leaf=4, min_samples_split=10, splitter=random;, score=0.667 total time=   0.0s\n[CV 1/2; 559/648] START criterion=entropy, max_depth=14, max_features=sqrt, min_samples_leaf=1, min_samples_split=2, splitter=best\n[CV 1/2; 559/648] END criterion=entropy, max_depth=14, max_features=sqrt, min_samples_leaf=1, min_samples_split=2, splitter=best;, score=0.639 total time=   0.0s\n[CV 2/2; 559/648] START criterion=entropy, max_depth=14, max_features=sqrt, min_samples_leaf=1, min_samples_split=2, splitter=best\n[CV 2/2; 559/648] END criterion=entropy, max_depth=14, max_features=sqrt, min_samples_leaf=1, min_samples_split=2, splitter=best;, score=0.556 total time=   0.0s\n[CV 1/2; 560/648] START criterion=entropy, max_depth=14, max_features=sqrt, min_samples_leaf=1, min_samples_split=2, splitter=random\n[CV 1/2; 560/648] END criterion=entropy, max_depth=14, max_features=sqrt, min_samples_leaf=1, min_samples_split=2, splitter=random;, score=0.694 total time=   0.0s\n[CV 2/2; 560/648] START criterion=entropy, max_depth=14, max_features=sqrt, min_samples_leaf=1, min_samples_split=2, splitter=random\n[CV 2/2; 560/648] END criterion=entropy, max_depth=14, max_features=sqrt, min_samples_leaf=1, min_samples_split=2, splitter=random;, score=0.778 total time=   0.0s\n[CV 1/2; 561/648] START criterion=entropy, max_depth=14, max_features=sqrt, min_samples_leaf=1, min_samples_split=5, splitter=best\n[CV 1/2; 561/648] END criterion=entropy, max_depth=14, max_features=sqrt, min_samples_leaf=1, min_samples_split=5, splitter=best;, score=0.806 total time=   0.0s\n[CV 2/2; 561/648] START criterion=entropy, max_depth=14, max_features=sqrt, min_samples_leaf=1, min_samples_split=5, splitter=best\n[CV 2/2; 561/648] END criterion=entropy, max_depth=14, max_features=sqrt, min_samples_leaf=1, min_samples_split=5, splitter=best;, score=0.722 total time=   0.0s\n[CV 1/2; 562/648] START criterion=entropy, max_depth=14, max_features=sqrt, min_samples_leaf=1, min_samples_split=5, splitter=random\n[CV 1/2; 562/648] END criterion=entropy, max_depth=14, max_features=sqrt, min_samples_leaf=1, min_samples_split=5, splitter=random;, score=0.806 total time=   0.0s\n[CV 2/2; 562/648] START criterion=entropy, max_depth=14, max_features=sqrt, min_samples_leaf=1, min_samples_split=5, splitter=random\n[CV 2/2; 562/648] END criterion=entropy, max_depth=14, max_features=sqrt, min_samples_leaf=1, min_samples_split=5, splitter=random;, score=0.750 total time=   0.0s\n[CV 1/2; 563/648] START criterion=entropy, max_depth=14, max_features=sqrt, min_samples_leaf=1, min_samples_split=10, splitter=best\n[CV 1/2; 563/648] END criterion=entropy, max_depth=14, max_features=sqrt, min_samples_leaf=1, min_samples_split=10, splitter=best;, score=0.750 total time=   0.0s\n[CV 2/2; 563/648] START criterion=entropy, max_depth=14, max_features=sqrt, min_samples_leaf=1, min_samples_split=10, splitter=best\n[CV 2/2; 563/648] END criterion=entropy, max_depth=14, max_features=sqrt, min_samples_leaf=1, min_samples_split=10, splitter=best;, score=0.806 total time=   0.0s\n[CV 1/2; 564/648] START criterion=entropy, max_depth=14, max_features=sqrt, min_samples_leaf=1, min_samples_split=10, splitter=random\n[CV 1/2; 564/648] END criterion=entropy, max_depth=14, max_features=sqrt, min_samples_leaf=1, min_samples_split=10, splitter=random;, score=0.778 total time=   0.0s\n[CV 2/2; 564/648] START criterion=entropy, max_depth=14, max_features=sqrt, min_samples_leaf=1, min_samples_split=10, splitter=random\n[CV 2/2; 564/648] END criterion=entropy, max_depth=14, max_features=sqrt, min_samples_leaf=1, min_samples_split=10, splitter=random;, score=0.667 total time=   0.0s\n[CV 1/2; 565/648] START criterion=entropy, max_depth=14, max_features=sqrt, min_samples_leaf=2, min_samples_split=2, splitter=best\n[CV 1/2; 565/648] END criterion=entropy, max_depth=14, max_features=sqrt, min_samples_leaf=2, min_samples_split=2, splitter=best;, score=0.778 total time=   0.0s\n[CV 2/2; 565/648] START criterion=entropy, max_depth=14, max_features=sqrt, min_samples_leaf=2, min_samples_split=2, splitter=best\n[CV 2/2; 565/648] END criterion=entropy, max_depth=14, max_features=sqrt, min_samples_leaf=2, min_samples_split=2, splitter=best;, score=0.667 total time=   0.0s\n[CV 1/2; 566/648] START criterion=entropy, max_depth=14, max_features=sqrt, min_samples_leaf=2, min_samples_split=2, splitter=random\n[CV 1/2; 566/648] END criterion=entropy, max_depth=14, max_features=sqrt, min_samples_leaf=2, min_samples_split=2, splitter=random;, score=0.833 total time=   0.0s\n[CV 2/2; 566/648] START criterion=entropy, max_depth=14, max_features=sqrt, min_samples_leaf=2, min_samples_split=2, splitter=random\n[CV 2/2; 566/648] END criterion=entropy, max_depth=14, max_features=sqrt, min_samples_leaf=2, min_samples_split=2, splitter=random;, score=0.861 total time=   0.0s\n[CV 1/2; 567/648] START criterion=entropy, max_depth=14, max_features=sqrt, min_samples_leaf=2, min_samples_split=5, splitter=best\n[CV 1/2; 567/648] END criterion=entropy, max_depth=14, max_features=sqrt, min_samples_leaf=2, min_samples_split=5, splitter=best;, score=0.556 total time=   0.0s\n[CV 2/2; 567/648] START criterion=entropy, max_depth=14, max_features=sqrt, min_samples_leaf=2, min_samples_split=5, splitter=best\n[CV 2/2; 567/648] END criterion=entropy, max_depth=14, max_features=sqrt, min_samples_leaf=2, min_samples_split=5, splitter=best;, score=0.861 total time=   0.0s\n[CV 1/2; 568/648] START criterion=entropy, max_depth=14, max_features=sqrt, min_samples_leaf=2, min_samples_split=5, splitter=random\n[CV 1/2; 568/648] END criterion=entropy, max_depth=14, max_features=sqrt, min_samples_leaf=2, min_samples_split=5, splitter=random;, score=0.806 total time=   0.0s\n[CV 2/2; 568/648] START criterion=entropy, max_depth=14, max_features=sqrt, min_samples_leaf=2, min_samples_split=5, splitter=random\n[CV 2/2; 568/648] END criterion=entropy, max_depth=14, max_features=sqrt, min_samples_leaf=2, min_samples_split=5, splitter=random;, score=0.639 total time=   0.0s\n[CV 1/2; 569/648] START criterion=entropy, max_depth=14, max_features=sqrt, min_samples_leaf=2, min_samples_split=10, splitter=best\n[CV 1/2; 569/648] END criterion=entropy, max_depth=14, max_features=sqrt, min_samples_leaf=2, min_samples_split=10, splitter=best;, score=0.833 total time=   0.0s\n[CV 2/2; 569/648] START criterion=entropy, max_depth=14, max_features=sqrt, min_samples_leaf=2, min_samples_split=10, splitter=best\n[CV 2/2; 569/648] END criterion=entropy, max_depth=14, max_features=sqrt, min_samples_leaf=2, min_samples_split=10, splitter=best;, score=0.667 total time=   0.0s\n[CV 1/2; 570/648] START criterion=entropy, max_depth=14, max_features=sqrt, min_samples_leaf=2, min_samples_split=10, splitter=random\n[CV 1/2; 570/648] END criterion=entropy, max_depth=14, max_features=sqrt, min_samples_leaf=2, min_samples_split=10, splitter=random;, score=0.833 total time=   0.0s\n[CV 2/2; 570/648] START criterion=entropy, max_depth=14, max_features=sqrt, min_samples_leaf=2, min_samples_split=10, splitter=random\n[CV 2/2; 570/648] END criterion=entropy, max_depth=14, max_features=sqrt, min_samples_leaf=2, min_samples_split=10, splitter=random;, score=0.861 total time=   0.0s\n[CV 1/2; 571/648] START criterion=entropy, max_depth=14, max_features=sqrt, min_samples_leaf=4, min_samples_split=2, splitter=best\n[CV 1/2; 571/648] END criterion=entropy, max_depth=14, max_features=sqrt, min_samples_leaf=4, min_samples_split=2, splitter=best;, score=0.611 total time=   0.0s\n[CV 2/2; 571/648] START criterion=entropy, max_depth=14, max_features=sqrt, min_samples_leaf=4, min_samples_split=2, splitter=best\n[CV 2/2; 571/648] END criterion=entropy, max_depth=14, max_features=sqrt, min_samples_leaf=4, min_samples_split=2, splitter=best;, score=0.750 total time=   0.0s\n[CV 1/2; 572/648] START criterion=entropy, max_depth=14, max_features=sqrt, min_samples_leaf=4, min_samples_split=2, splitter=random\n[CV 1/2; 572/648] END criterion=entropy, max_depth=14, max_features=sqrt, min_samples_leaf=4, min_samples_split=2, splitter=random;, score=0.833 total time=   0.0s\n[CV 2/2; 572/648] START criterion=entropy, max_depth=14, max_features=sqrt, min_samples_leaf=4, min_samples_split=2, splitter=random\n[CV 2/2; 572/648] END criterion=entropy, max_depth=14, max_features=sqrt, min_samples_leaf=4, min_samples_split=2, splitter=random;, score=0.667 total time=   0.0s\n[CV 1/2; 573/648] START criterion=entropy, max_depth=14, max_features=sqrt, min_samples_leaf=4, min_samples_split=5, splitter=best\n[CV 1/2; 573/648] END criterion=entropy, max_depth=14, max_features=sqrt, min_samples_leaf=4, min_samples_split=5, splitter=best;, score=0.778 total time=   0.0s\n[CV 2/2; 573/648] START criterion=entropy, max_depth=14, max_features=sqrt, min_samples_leaf=4, min_samples_split=5, splitter=best\n[CV 2/2; 573/648] END criterion=entropy, max_depth=14, max_features=sqrt, min_samples_leaf=4, min_samples_split=5, splitter=best;, score=0.750 total time=   0.0s\n[CV 1/2; 574/648] START criterion=entropy, max_depth=14, max_features=sqrt, min_samples_leaf=4, min_samples_split=5, splitter=random\n[CV 1/2; 574/648] END criterion=entropy, max_depth=14, max_features=sqrt, min_samples_leaf=4, min_samples_split=5, splitter=random;, score=0.833 total time=   0.0s\n[CV 2/2; 574/648] START criterion=entropy, max_depth=14, max_features=sqrt, min_samples_leaf=4, min_samples_split=5, splitter=random\n[CV 2/2; 574/648] END criterion=entropy, max_depth=14, max_features=sqrt, min_samples_leaf=4, min_samples_split=5, splitter=random;, score=0.861 total time=   0.0s\n[CV 1/2; 575/648] START criterion=entropy, max_depth=14, max_features=sqrt, min_samples_leaf=4, min_samples_split=10, splitter=best\n[CV 1/2; 575/648] END criterion=entropy, max_depth=14, max_features=sqrt, min_samples_leaf=4, min_samples_split=10, splitter=best;, score=0.861 total time=   0.0s\n[CV 2/2; 575/648] START criterion=entropy, max_depth=14, max_features=sqrt, min_samples_leaf=4, min_samples_split=10, splitter=best\n[CV 2/2; 575/648] END criterion=entropy, max_depth=14, max_features=sqrt, min_samples_leaf=4, min_samples_split=10, splitter=best;, score=0.667 total time=   0.0s\n[CV 1/2; 576/648] START criterion=entropy, max_depth=14, max_features=sqrt, min_samples_leaf=4, min_samples_split=10, splitter=random\n[CV 1/2; 576/648] END criterion=entropy, max_depth=14, max_features=sqrt, min_samples_leaf=4, min_samples_split=10, splitter=random;, score=0.750 total time=   0.0s\n[CV 2/2; 576/648] START criterion=entropy, max_depth=14, max_features=sqrt, min_samples_leaf=4, min_samples_split=10, splitter=random\n[CV 2/2; 576/648] END criterion=entropy, max_depth=14, max_features=sqrt, min_samples_leaf=4, min_samples_split=10, splitter=random;, score=0.861 total time=   0.0s\n[CV 1/2; 577/648] START criterion=entropy, max_depth=16, max_features=auto, min_samples_leaf=1, min_samples_split=2, splitter=best\n",
          "output_type": "stream"
        },
        {
          "name": "stderr",
          "text": "/lib/python3.11/site-packages/sklearn/tree/_classes.py:269: FutureWarning: `max_features='auto'` has been deprecated in 1.1 and will be removed in 1.3. To keep the past behaviour, explicitly set `max_features='sqrt'`.\n  warnings.warn(\n",
          "output_type": "stream"
        },
        {
          "name": "stdout",
          "text": "[CV 1/2; 577/648] END criterion=entropy, max_depth=16, max_features=auto, min_samples_leaf=1, min_samples_split=2, splitter=best;, score=0.778 total time=   0.0s\n[CV 2/2; 577/648] START criterion=entropy, max_depth=16, max_features=auto, min_samples_leaf=1, min_samples_split=2, splitter=best\n",
          "output_type": "stream"
        },
        {
          "name": "stderr",
          "text": "/lib/python3.11/site-packages/sklearn/tree/_classes.py:269: FutureWarning: `max_features='auto'` has been deprecated in 1.1 and will be removed in 1.3. To keep the past behaviour, explicitly set `max_features='sqrt'`.\n  warnings.warn(\n",
          "output_type": "stream"
        },
        {
          "name": "stdout",
          "text": "[CV 2/2; 577/648] END criterion=entropy, max_depth=16, max_features=auto, min_samples_leaf=1, min_samples_split=2, splitter=best;, score=0.583 total time=   0.0s\n[CV 1/2; 578/648] START criterion=entropy, max_depth=16, max_features=auto, min_samples_leaf=1, min_samples_split=2, splitter=random\n",
          "output_type": "stream"
        },
        {
          "name": "stderr",
          "text": "/lib/python3.11/site-packages/sklearn/tree/_classes.py:269: FutureWarning: `max_features='auto'` has been deprecated in 1.1 and will be removed in 1.3. To keep the past behaviour, explicitly set `max_features='sqrt'`.\n  warnings.warn(\n",
          "output_type": "stream"
        },
        {
          "name": "stdout",
          "text": "[CV 1/2; 578/648] END criterion=entropy, max_depth=16, max_features=auto, min_samples_leaf=1, min_samples_split=2, splitter=random;, score=0.611 total time=   0.0s\n[CV 2/2; 578/648] START criterion=entropy, max_depth=16, max_features=auto, min_samples_leaf=1, min_samples_split=2, splitter=random\n",
          "output_type": "stream"
        },
        {
          "name": "stderr",
          "text": "/lib/python3.11/site-packages/sklearn/tree/_classes.py:269: FutureWarning: `max_features='auto'` has been deprecated in 1.1 and will be removed in 1.3. To keep the past behaviour, explicitly set `max_features='sqrt'`.\n  warnings.warn(\n",
          "output_type": "stream"
        },
        {
          "name": "stdout",
          "text": "[CV 2/2; 578/648] END criterion=entropy, max_depth=16, max_features=auto, min_samples_leaf=1, min_samples_split=2, splitter=random;, score=0.750 total time=   0.0s\n[CV 1/2; 579/648] START criterion=entropy, max_depth=16, max_features=auto, min_samples_leaf=1, min_samples_split=5, splitter=best\n",
          "output_type": "stream"
        },
        {
          "name": "stderr",
          "text": "/lib/python3.11/site-packages/sklearn/tree/_classes.py:269: FutureWarning: `max_features='auto'` has been deprecated in 1.1 and will be removed in 1.3. To keep the past behaviour, explicitly set `max_features='sqrt'`.\n  warnings.warn(\n",
          "output_type": "stream"
        },
        {
          "name": "stdout",
          "text": "[CV 1/2; 579/648] END criterion=entropy, max_depth=16, max_features=auto, min_samples_leaf=1, min_samples_split=5, splitter=best;, score=0.500 total time=   0.0s\n[CV 2/2; 579/648] START criterion=entropy, max_depth=16, max_features=auto, min_samples_leaf=1, min_samples_split=5, splitter=best\n",
          "output_type": "stream"
        },
        {
          "name": "stderr",
          "text": "/lib/python3.11/site-packages/sklearn/tree/_classes.py:269: FutureWarning: `max_features='auto'` has been deprecated in 1.1 and will be removed in 1.3. To keep the past behaviour, explicitly set `max_features='sqrt'`.\n  warnings.warn(\n",
          "output_type": "stream"
        },
        {
          "name": "stdout",
          "text": "[CV 2/2; 579/648] END criterion=entropy, max_depth=16, max_features=auto, min_samples_leaf=1, min_samples_split=5, splitter=best;, score=0.778 total time=   0.0s\n[CV 1/2; 580/648] START criterion=entropy, max_depth=16, max_features=auto, min_samples_leaf=1, min_samples_split=5, splitter=random\n",
          "output_type": "stream"
        },
        {
          "name": "stderr",
          "text": "/lib/python3.11/site-packages/sklearn/tree/_classes.py:269: FutureWarning: `max_features='auto'` has been deprecated in 1.1 and will be removed in 1.3. To keep the past behaviour, explicitly set `max_features='sqrt'`.\n  warnings.warn(\n",
          "output_type": "stream"
        },
        {
          "name": "stdout",
          "text": "[CV 1/2; 580/648] END criterion=entropy, max_depth=16, max_features=auto, min_samples_leaf=1, min_samples_split=5, splitter=random;, score=0.833 total time=   0.0s\n[CV 2/2; 580/648] START criterion=entropy, max_depth=16, max_features=auto, min_samples_leaf=1, min_samples_split=5, splitter=random\n",
          "output_type": "stream"
        },
        {
          "name": "stderr",
          "text": "/lib/python3.11/site-packages/sklearn/tree/_classes.py:269: FutureWarning: `max_features='auto'` has been deprecated in 1.1 and will be removed in 1.3. To keep the past behaviour, explicitly set `max_features='sqrt'`.\n  warnings.warn(\n",
          "output_type": "stream"
        },
        {
          "name": "stdout",
          "text": "[CV 2/2; 580/648] END criterion=entropy, max_depth=16, max_features=auto, min_samples_leaf=1, min_samples_split=5, splitter=random;, score=0.611 total time=   0.0s\n[CV 1/2; 581/648] START criterion=entropy, max_depth=16, max_features=auto, min_samples_leaf=1, min_samples_split=10, splitter=best\n",
          "output_type": "stream"
        },
        {
          "name": "stderr",
          "text": "/lib/python3.11/site-packages/sklearn/tree/_classes.py:269: FutureWarning: `max_features='auto'` has been deprecated in 1.1 and will be removed in 1.3. To keep the past behaviour, explicitly set `max_features='sqrt'`.\n  warnings.warn(\n",
          "output_type": "stream"
        },
        {
          "name": "stdout",
          "text": "[CV 1/2; 581/648] END criterion=entropy, max_depth=16, max_features=auto, min_samples_leaf=1, min_samples_split=10, splitter=best;, score=0.778 total time=   0.0s\n[CV 2/2; 581/648] START criterion=entropy, max_depth=16, max_features=auto, min_samples_leaf=1, min_samples_split=10, splitter=best\n",
          "output_type": "stream"
        },
        {
          "name": "stderr",
          "text": "/lib/python3.11/site-packages/sklearn/tree/_classes.py:269: FutureWarning: `max_features='auto'` has been deprecated in 1.1 and will be removed in 1.3. To keep the past behaviour, explicitly set `max_features='sqrt'`.\n  warnings.warn(\n",
          "output_type": "stream"
        },
        {
          "name": "stdout",
          "text": "[CV 2/2; 581/648] END criterion=entropy, max_depth=16, max_features=auto, min_samples_leaf=1, min_samples_split=10, splitter=best;, score=0.556 total time=   0.0s\n[CV 1/2; 582/648] START criterion=entropy, max_depth=16, max_features=auto, min_samples_leaf=1, min_samples_split=10, splitter=random\n",
          "output_type": "stream"
        },
        {
          "name": "stderr",
          "text": "/lib/python3.11/site-packages/sklearn/tree/_classes.py:269: FutureWarning: `max_features='auto'` has been deprecated in 1.1 and will be removed in 1.3. To keep the past behaviour, explicitly set `max_features='sqrt'`.\n  warnings.warn(\n",
          "output_type": "stream"
        },
        {
          "name": "stdout",
          "text": "[CV 1/2; 582/648] END criterion=entropy, max_depth=16, max_features=auto, min_samples_leaf=1, min_samples_split=10, splitter=random;, score=0.722 total time=   0.0s\n[CV 2/2; 582/648] START criterion=entropy, max_depth=16, max_features=auto, min_samples_leaf=1, min_samples_split=10, splitter=random\n",
          "output_type": "stream"
        },
        {
          "name": "stderr",
          "text": "/lib/python3.11/site-packages/sklearn/tree/_classes.py:269: FutureWarning: `max_features='auto'` has been deprecated in 1.1 and will be removed in 1.3. To keep the past behaviour, explicitly set `max_features='sqrt'`.\n  warnings.warn(\n",
          "output_type": "stream"
        },
        {
          "name": "stdout",
          "text": "[CV 2/2; 582/648] END criterion=entropy, max_depth=16, max_features=auto, min_samples_leaf=1, min_samples_split=10, splitter=random;, score=0.750 total time=   0.0s\n[CV 1/2; 583/648] START criterion=entropy, max_depth=16, max_features=auto, min_samples_leaf=2, min_samples_split=2, splitter=best\n",
          "output_type": "stream"
        },
        {
          "name": "stderr",
          "text": "/lib/python3.11/site-packages/sklearn/tree/_classes.py:269: FutureWarning: `max_features='auto'` has been deprecated in 1.1 and will be removed in 1.3. To keep the past behaviour, explicitly set `max_features='sqrt'`.\n  warnings.warn(\n",
          "output_type": "stream"
        },
        {
          "name": "stdout",
          "text": "[CV 1/2; 583/648] END criterion=entropy, max_depth=16, max_features=auto, min_samples_leaf=2, min_samples_split=2, splitter=best;, score=0.861 total time=   0.0s\n[CV 2/2; 583/648] START criterion=entropy, max_depth=16, max_features=auto, min_samples_leaf=2, min_samples_split=2, splitter=best\n",
          "output_type": "stream"
        },
        {
          "name": "stderr",
          "text": "/lib/python3.11/site-packages/sklearn/tree/_classes.py:269: FutureWarning: `max_features='auto'` has been deprecated in 1.1 and will be removed in 1.3. To keep the past behaviour, explicitly set `max_features='sqrt'`.\n  warnings.warn(\n",
          "output_type": "stream"
        },
        {
          "name": "stdout",
          "text": "[CV 2/2; 583/648] END criterion=entropy, max_depth=16, max_features=auto, min_samples_leaf=2, min_samples_split=2, splitter=best;, score=0.528 total time=   0.0s\n[CV 1/2; 584/648] START criterion=entropy, max_depth=16, max_features=auto, min_samples_leaf=2, min_samples_split=2, splitter=random\n",
          "output_type": "stream"
        },
        {
          "name": "stderr",
          "text": "/lib/python3.11/site-packages/sklearn/tree/_classes.py:269: FutureWarning: `max_features='auto'` has been deprecated in 1.1 and will be removed in 1.3. To keep the past behaviour, explicitly set `max_features='sqrt'`.\n  warnings.warn(\n",
          "output_type": "stream"
        },
        {
          "name": "stdout",
          "text": "[CV 1/2; 584/648] END criterion=entropy, max_depth=16, max_features=auto, min_samples_leaf=2, min_samples_split=2, splitter=random;, score=0.778 total time=   0.0s\n[CV 2/2; 584/648] START criterion=entropy, max_depth=16, max_features=auto, min_samples_leaf=2, min_samples_split=2, splitter=random\n",
          "output_type": "stream"
        },
        {
          "name": "stderr",
          "text": "/lib/python3.11/site-packages/sklearn/tree/_classes.py:269: FutureWarning: `max_features='auto'` has been deprecated in 1.1 and will be removed in 1.3. To keep the past behaviour, explicitly set `max_features='sqrt'`.\n  warnings.warn(\n",
          "output_type": "stream"
        },
        {
          "name": "stdout",
          "text": "[CV 2/2; 584/648] END criterion=entropy, max_depth=16, max_features=auto, min_samples_leaf=2, min_samples_split=2, splitter=random;, score=0.806 total time=   0.0s\n[CV 1/2; 585/648] START criterion=entropy, max_depth=16, max_features=auto, min_samples_leaf=2, min_samples_split=5, splitter=best\n",
          "output_type": "stream"
        },
        {
          "name": "stderr",
          "text": "/lib/python3.11/site-packages/sklearn/tree/_classes.py:269: FutureWarning: `max_features='auto'` has been deprecated in 1.1 and will be removed in 1.3. To keep the past behaviour, explicitly set `max_features='sqrt'`.\n  warnings.warn(\n",
          "output_type": "stream"
        },
        {
          "name": "stdout",
          "text": "[CV 1/2; 585/648] END criterion=entropy, max_depth=16, max_features=auto, min_samples_leaf=2, min_samples_split=5, splitter=best;, score=0.861 total time=   0.0s\n[CV 2/2; 585/648] START criterion=entropy, max_depth=16, max_features=auto, min_samples_leaf=2, min_samples_split=5, splitter=best\n",
          "output_type": "stream"
        },
        {
          "name": "stderr",
          "text": "/lib/python3.11/site-packages/sklearn/tree/_classes.py:269: FutureWarning: `max_features='auto'` has been deprecated in 1.1 and will be removed in 1.3. To keep the past behaviour, explicitly set `max_features='sqrt'`.\n  warnings.warn(\n",
          "output_type": "stream"
        },
        {
          "name": "stdout",
          "text": "[CV 2/2; 585/648] END criterion=entropy, max_depth=16, max_features=auto, min_samples_leaf=2, min_samples_split=5, splitter=best;, score=0.667 total time=   0.0s\n[CV 1/2; 586/648] START criterion=entropy, max_depth=16, max_features=auto, min_samples_leaf=2, min_samples_split=5, splitter=random\n",
          "output_type": "stream"
        },
        {
          "name": "stderr",
          "text": "/lib/python3.11/site-packages/sklearn/tree/_classes.py:269: FutureWarning: `max_features='auto'` has been deprecated in 1.1 and will be removed in 1.3. To keep the past behaviour, explicitly set `max_features='sqrt'`.\n  warnings.warn(\n",
          "output_type": "stream"
        },
        {
          "name": "stdout",
          "text": "[CV 1/2; 586/648] END criterion=entropy, max_depth=16, max_features=auto, min_samples_leaf=2, min_samples_split=5, splitter=random;, score=0.833 total time=   0.0s\n[CV 2/2; 586/648] START criterion=entropy, max_depth=16, max_features=auto, min_samples_leaf=2, min_samples_split=5, splitter=random\n",
          "output_type": "stream"
        },
        {
          "name": "stderr",
          "text": "/lib/python3.11/site-packages/sklearn/tree/_classes.py:269: FutureWarning: `max_features='auto'` has been deprecated in 1.1 and will be removed in 1.3. To keep the past behaviour, explicitly set `max_features='sqrt'`.\n  warnings.warn(\n",
          "output_type": "stream"
        },
        {
          "name": "stdout",
          "text": "[CV 2/2; 586/648] END criterion=entropy, max_depth=16, max_features=auto, min_samples_leaf=2, min_samples_split=5, splitter=random;, score=0.750 total time=   0.0s\n[CV 1/2; 587/648] START criterion=entropy, max_depth=16, max_features=auto, min_samples_leaf=2, min_samples_split=10, splitter=best\n",
          "output_type": "stream"
        },
        {
          "name": "stderr",
          "text": "/lib/python3.11/site-packages/sklearn/tree/_classes.py:269: FutureWarning: `max_features='auto'` has been deprecated in 1.1 and will be removed in 1.3. To keep the past behaviour, explicitly set `max_features='sqrt'`.\n  warnings.warn(\n",
          "output_type": "stream"
        },
        {
          "name": "stdout",
          "text": "[CV 1/2; 587/648] END criterion=entropy, max_depth=16, max_features=auto, min_samples_leaf=2, min_samples_split=10, splitter=best;, score=0.639 total time=   0.0s\n[CV 2/2; 587/648] START criterion=entropy, max_depth=16, max_features=auto, min_samples_leaf=2, min_samples_split=10, splitter=best\n",
          "output_type": "stream"
        },
        {
          "name": "stderr",
          "text": "/lib/python3.11/site-packages/sklearn/tree/_classes.py:269: FutureWarning: `max_features='auto'` has been deprecated in 1.1 and will be removed in 1.3. To keep the past behaviour, explicitly set `max_features='sqrt'`.\n  warnings.warn(\n",
          "output_type": "stream"
        },
        {
          "name": "stdout",
          "text": "[CV 2/2; 587/648] END criterion=entropy, max_depth=16, max_features=auto, min_samples_leaf=2, min_samples_split=10, splitter=best;, score=0.611 total time=   0.0s\n[CV 1/2; 588/648] START criterion=entropy, max_depth=16, max_features=auto, min_samples_leaf=2, min_samples_split=10, splitter=random\n",
          "output_type": "stream"
        },
        {
          "name": "stderr",
          "text": "/lib/python3.11/site-packages/sklearn/tree/_classes.py:269: FutureWarning: `max_features='auto'` has been deprecated in 1.1 and will be removed in 1.3. To keep the past behaviour, explicitly set `max_features='sqrt'`.\n  warnings.warn(\n",
          "output_type": "stream"
        },
        {
          "name": "stdout",
          "text": "[CV 1/2; 588/648] END criterion=entropy, max_depth=16, max_features=auto, min_samples_leaf=2, min_samples_split=10, splitter=random;, score=0.667 total time=   0.0s\n[CV 2/2; 588/648] START criterion=entropy, max_depth=16, max_features=auto, min_samples_leaf=2, min_samples_split=10, splitter=random\n",
          "output_type": "stream"
        },
        {
          "name": "stderr",
          "text": "/lib/python3.11/site-packages/sklearn/tree/_classes.py:269: FutureWarning: `max_features='auto'` has been deprecated in 1.1 and will be removed in 1.3. To keep the past behaviour, explicitly set `max_features='sqrt'`.\n  warnings.warn(\n",
          "output_type": "stream"
        },
        {
          "name": "stdout",
          "text": "[CV 2/2; 588/648] END criterion=entropy, max_depth=16, max_features=auto, min_samples_leaf=2, min_samples_split=10, splitter=random;, score=0.472 total time=   0.0s\n[CV 1/2; 589/648] START criterion=entropy, max_depth=16, max_features=auto, min_samples_leaf=4, min_samples_split=2, splitter=best\n",
          "output_type": "stream"
        },
        {
          "name": "stderr",
          "text": "/lib/python3.11/site-packages/sklearn/tree/_classes.py:269: FutureWarning: `max_features='auto'` has been deprecated in 1.1 and will be removed in 1.3. To keep the past behaviour, explicitly set `max_features='sqrt'`.\n  warnings.warn(\n",
          "output_type": "stream"
        },
        {
          "name": "stdout",
          "text": "[CV 1/2; 589/648] END criterion=entropy, max_depth=16, max_features=auto, min_samples_leaf=4, min_samples_split=2, splitter=best;, score=0.833 total time=   0.0s\n[CV 2/2; 589/648] START criterion=entropy, max_depth=16, max_features=auto, min_samples_leaf=4, min_samples_split=2, splitter=best\n",
          "output_type": "stream"
        },
        {
          "name": "stderr",
          "text": "/lib/python3.11/site-packages/sklearn/tree/_classes.py:269: FutureWarning: `max_features='auto'` has been deprecated in 1.1 and will be removed in 1.3. To keep the past behaviour, explicitly set `max_features='sqrt'`.\n  warnings.warn(\n",
          "output_type": "stream"
        },
        {
          "name": "stdout",
          "text": "[CV 2/2; 589/648] END criterion=entropy, max_depth=16, max_features=auto, min_samples_leaf=4, min_samples_split=2, splitter=best;, score=0.611 total time=   0.0s\n[CV 1/2; 590/648] START criterion=entropy, max_depth=16, max_features=auto, min_samples_leaf=4, min_samples_split=2, splitter=random\n",
          "output_type": "stream"
        },
        {
          "name": "stderr",
          "text": "/lib/python3.11/site-packages/sklearn/tree/_classes.py:269: FutureWarning: `max_features='auto'` has been deprecated in 1.1 and will be removed in 1.3. To keep the past behaviour, explicitly set `max_features='sqrt'`.\n  warnings.warn(\n",
          "output_type": "stream"
        },
        {
          "name": "stdout",
          "text": "[CV 1/2; 590/648] END criterion=entropy, max_depth=16, max_features=auto, min_samples_leaf=4, min_samples_split=2, splitter=random;, score=0.611 total time=   0.0s\n[CV 2/2; 590/648] START criterion=entropy, max_depth=16, max_features=auto, min_samples_leaf=4, min_samples_split=2, splitter=random\n",
          "output_type": "stream"
        },
        {
          "name": "stderr",
          "text": "/lib/python3.11/site-packages/sklearn/tree/_classes.py:269: FutureWarning: `max_features='auto'` has been deprecated in 1.1 and will be removed in 1.3. To keep the past behaviour, explicitly set `max_features='sqrt'`.\n  warnings.warn(\n",
          "output_type": "stream"
        },
        {
          "name": "stdout",
          "text": "[CV 2/2; 590/648] END criterion=entropy, max_depth=16, max_features=auto, min_samples_leaf=4, min_samples_split=2, splitter=random;, score=0.556 total time=   0.0s\n[CV 1/2; 591/648] START criterion=entropy, max_depth=16, max_features=auto, min_samples_leaf=4, min_samples_split=5, splitter=best\n",
          "output_type": "stream"
        },
        {
          "name": "stderr",
          "text": "/lib/python3.11/site-packages/sklearn/tree/_classes.py:269: FutureWarning: `max_features='auto'` has been deprecated in 1.1 and will be removed in 1.3. To keep the past behaviour, explicitly set `max_features='sqrt'`.\n  warnings.warn(\n",
          "output_type": "stream"
        },
        {
          "name": "stdout",
          "text": "[CV 1/2; 591/648] END criterion=entropy, max_depth=16, max_features=auto, min_samples_leaf=4, min_samples_split=5, splitter=best;, score=0.833 total time=   0.0s\n[CV 2/2; 591/648] START criterion=entropy, max_depth=16, max_features=auto, min_samples_leaf=4, min_samples_split=5, splitter=best\n",
          "output_type": "stream"
        },
        {
          "name": "stderr",
          "text": "/lib/python3.11/site-packages/sklearn/tree/_classes.py:269: FutureWarning: `max_features='auto'` has been deprecated in 1.1 and will be removed in 1.3. To keep the past behaviour, explicitly set `max_features='sqrt'`.\n  warnings.warn(\n",
          "output_type": "stream"
        },
        {
          "name": "stdout",
          "text": "[CV 2/2; 591/648] END criterion=entropy, max_depth=16, max_features=auto, min_samples_leaf=4, min_samples_split=5, splitter=best;, score=0.694 total time=   0.0s\n[CV 1/2; 592/648] START criterion=entropy, max_depth=16, max_features=auto, min_samples_leaf=4, min_samples_split=5, splitter=random\n",
          "output_type": "stream"
        },
        {
          "name": "stderr",
          "text": "/lib/python3.11/site-packages/sklearn/tree/_classes.py:269: FutureWarning: `max_features='auto'` has been deprecated in 1.1 and will be removed in 1.3. To keep the past behaviour, explicitly set `max_features='sqrt'`.\n  warnings.warn(\n",
          "output_type": "stream"
        },
        {
          "name": "stdout",
          "text": "[CV 1/2; 592/648] END criterion=entropy, max_depth=16, max_features=auto, min_samples_leaf=4, min_samples_split=5, splitter=random;, score=0.667 total time=   0.0s\n[CV 2/2; 592/648] START criterion=entropy, max_depth=16, max_features=auto, min_samples_leaf=4, min_samples_split=5, splitter=random\n",
          "output_type": "stream"
        },
        {
          "name": "stderr",
          "text": "/lib/python3.11/site-packages/sklearn/tree/_classes.py:269: FutureWarning: `max_features='auto'` has been deprecated in 1.1 and will be removed in 1.3. To keep the past behaviour, explicitly set `max_features='sqrt'`.\n  warnings.warn(\n",
          "output_type": "stream"
        },
        {
          "name": "stdout",
          "text": "[CV 2/2; 592/648] END criterion=entropy, max_depth=16, max_features=auto, min_samples_leaf=4, min_samples_split=5, splitter=random;, score=0.861 total time=   0.0s\n[CV 1/2; 593/648] START criterion=entropy, max_depth=16, max_features=auto, min_samples_leaf=4, min_samples_split=10, splitter=best\n",
          "output_type": "stream"
        },
        {
          "name": "stderr",
          "text": "/lib/python3.11/site-packages/sklearn/tree/_classes.py:269: FutureWarning: `max_features='auto'` has been deprecated in 1.1 and will be removed in 1.3. To keep the past behaviour, explicitly set `max_features='sqrt'`.\n  warnings.warn(\n",
          "output_type": "stream"
        },
        {
          "name": "stdout",
          "text": "[CV 1/2; 593/648] END criterion=entropy, max_depth=16, max_features=auto, min_samples_leaf=4, min_samples_split=10, splitter=best;, score=0.806 total time=   0.0s\n[CV 2/2; 593/648] START criterion=entropy, max_depth=16, max_features=auto, min_samples_leaf=4, min_samples_split=10, splitter=best\n",
          "output_type": "stream"
        },
        {
          "name": "stderr",
          "text": "/lib/python3.11/site-packages/sklearn/tree/_classes.py:269: FutureWarning: `max_features='auto'` has been deprecated in 1.1 and will be removed in 1.3. To keep the past behaviour, explicitly set `max_features='sqrt'`.\n  warnings.warn(\n",
          "output_type": "stream"
        },
        {
          "name": "stdout",
          "text": "[CV 2/2; 593/648] END criterion=entropy, max_depth=16, max_features=auto, min_samples_leaf=4, min_samples_split=10, splitter=best;, score=0.667 total time=   0.0s\n[CV 1/2; 594/648] START criterion=entropy, max_depth=16, max_features=auto, min_samples_leaf=4, min_samples_split=10, splitter=random\n",
          "output_type": "stream"
        },
        {
          "name": "stderr",
          "text": "/lib/python3.11/site-packages/sklearn/tree/_classes.py:269: FutureWarning: `max_features='auto'` has been deprecated in 1.1 and will be removed in 1.3. To keep the past behaviour, explicitly set `max_features='sqrt'`.\n  warnings.warn(\n",
          "output_type": "stream"
        },
        {
          "name": "stdout",
          "text": "[CV 1/2; 594/648] END criterion=entropy, max_depth=16, max_features=auto, min_samples_leaf=4, min_samples_split=10, splitter=random;, score=0.667 total time=   0.0s\n[CV 2/2; 594/648] START criterion=entropy, max_depth=16, max_features=auto, min_samples_leaf=4, min_samples_split=10, splitter=random\n",
          "output_type": "stream"
        },
        {
          "name": "stderr",
          "text": "/lib/python3.11/site-packages/sklearn/tree/_classes.py:269: FutureWarning: `max_features='auto'` has been deprecated in 1.1 and will be removed in 1.3. To keep the past behaviour, explicitly set `max_features='sqrt'`.\n  warnings.warn(\n",
          "output_type": "stream"
        },
        {
          "name": "stdout",
          "text": "[CV 2/2; 594/648] END criterion=entropy, max_depth=16, max_features=auto, min_samples_leaf=4, min_samples_split=10, splitter=random;, score=0.556 total time=   0.0s\n[CV 1/2; 595/648] START criterion=entropy, max_depth=16, max_features=sqrt, min_samples_leaf=1, min_samples_split=2, splitter=best\n[CV 1/2; 595/648] END criterion=entropy, max_depth=16, max_features=sqrt, min_samples_leaf=1, min_samples_split=2, splitter=best;, score=0.833 total time=   0.0s\n[CV 2/2; 595/648] START criterion=entropy, max_depth=16, max_features=sqrt, min_samples_leaf=1, min_samples_split=2, splitter=best\n[CV 2/2; 595/648] END criterion=entropy, max_depth=16, max_features=sqrt, min_samples_leaf=1, min_samples_split=2, splitter=best;, score=0.667 total time=   0.0s\n[CV 1/2; 596/648] START criterion=entropy, max_depth=16, max_features=sqrt, min_samples_leaf=1, min_samples_split=2, splitter=random\n[CV 1/2; 596/648] END criterion=entropy, max_depth=16, max_features=sqrt, min_samples_leaf=1, min_samples_split=2, splitter=random;, score=0.833 total time=   0.0s\n[CV 2/2; 596/648] START criterion=entropy, max_depth=16, max_features=sqrt, min_samples_leaf=1, min_samples_split=2, splitter=random\n[CV 2/2; 596/648] END criterion=entropy, max_depth=16, max_features=sqrt, min_samples_leaf=1, min_samples_split=2, splitter=random;, score=0.611 total time=   0.0s\n[CV 1/2; 597/648] START criterion=entropy, max_depth=16, max_features=sqrt, min_samples_leaf=1, min_samples_split=5, splitter=best\n[CV 1/2; 597/648] END criterion=entropy, max_depth=16, max_features=sqrt, min_samples_leaf=1, min_samples_split=5, splitter=best;, score=0.722 total time=   0.0s\n[CV 2/2; 597/648] START criterion=entropy, max_depth=16, max_features=sqrt, min_samples_leaf=1, min_samples_split=5, splitter=best\n[CV 2/2; 597/648] END criterion=entropy, max_depth=16, max_features=sqrt, min_samples_leaf=1, min_samples_split=5, splitter=best;, score=0.639 total time=   0.0s\n[CV 1/2; 598/648] START criterion=entropy, max_depth=16, max_features=sqrt, min_samples_leaf=1, min_samples_split=5, splitter=random\n[CV 1/2; 598/648] END criterion=entropy, max_depth=16, max_features=sqrt, min_samples_leaf=1, min_samples_split=5, splitter=random;, score=0.861 total time=   0.0s\n[CV 2/2; 598/648] START criterion=entropy, max_depth=16, max_features=sqrt, min_samples_leaf=1, min_samples_split=5, splitter=random\n[CV 2/2; 598/648] END criterion=entropy, max_depth=16, max_features=sqrt, min_samples_leaf=1, min_samples_split=5, splitter=random;, score=0.639 total time=   0.0s\n[CV 1/2; 599/648] START criterion=entropy, max_depth=16, max_features=sqrt, min_samples_leaf=1, min_samples_split=10, splitter=best\n[CV 1/2; 599/648] END criterion=entropy, max_depth=16, max_features=sqrt, min_samples_leaf=1, min_samples_split=10, splitter=best;, score=0.778 total time=   0.0s\n[CV 2/2; 599/648] START criterion=entropy, max_depth=16, max_features=sqrt, min_samples_leaf=1, min_samples_split=10, splitter=best\n[CV 2/2; 599/648] END criterion=entropy, max_depth=16, max_features=sqrt, min_samples_leaf=1, min_samples_split=10, splitter=best;, score=0.500 total time=   0.0s\n[CV 1/2; 600/648] START criterion=entropy, max_depth=16, max_features=sqrt, min_samples_leaf=1, min_samples_split=10, splitter=random\n[CV 1/2; 600/648] END criterion=entropy, max_depth=16, max_features=sqrt, min_samples_leaf=1, min_samples_split=10, splitter=random;, score=0.694 total time=   0.0s\n[CV 2/2; 600/648] START criterion=entropy, max_depth=16, max_features=sqrt, min_samples_leaf=1, min_samples_split=10, splitter=random\n[CV 2/2; 600/648] END criterion=entropy, max_depth=16, max_features=sqrt, min_samples_leaf=1, min_samples_split=10, splitter=random;, score=0.861 total time=   0.0s\n[CV 1/2; 601/648] START criterion=entropy, max_depth=16, max_features=sqrt, min_samples_leaf=2, min_samples_split=2, splitter=best\n[CV 1/2; 601/648] END criterion=entropy, max_depth=16, max_features=sqrt, min_samples_leaf=2, min_samples_split=2, splitter=best;, score=0.667 total time=   0.0s\n[CV 2/2; 601/648] START criterion=entropy, max_depth=16, max_features=sqrt, min_samples_leaf=2, min_samples_split=2, splitter=best\n[CV 2/2; 601/648] END criterion=entropy, max_depth=16, max_features=sqrt, min_samples_leaf=2, min_samples_split=2, splitter=best;, score=0.611 total time=   0.0s\n[CV 1/2; 602/648] START criterion=entropy, max_depth=16, max_features=sqrt, min_samples_leaf=2, min_samples_split=2, splitter=random\n[CV 1/2; 602/648] END criterion=entropy, max_depth=16, max_features=sqrt, min_samples_leaf=2, min_samples_split=2, splitter=random;, score=0.750 total time=   0.0s\n[CV 2/2; 602/648] START criterion=entropy, max_depth=16, max_features=sqrt, min_samples_leaf=2, min_samples_split=2, splitter=random\n[CV 2/2; 602/648] END criterion=entropy, max_depth=16, max_features=sqrt, min_samples_leaf=2, min_samples_split=2, splitter=random;, score=0.806 total time=   0.0s\n[CV 1/2; 603/648] START criterion=entropy, max_depth=16, max_features=sqrt, min_samples_leaf=2, min_samples_split=5, splitter=best\n[CV 1/2; 603/648] END criterion=entropy, max_depth=16, max_features=sqrt, min_samples_leaf=2, min_samples_split=5, splitter=best;, score=0.722 total time=   0.0s\n[CV 2/2; 603/648] START criterion=entropy, max_depth=16, max_features=sqrt, min_samples_leaf=2, min_samples_split=5, splitter=best\n[CV 2/2; 603/648] END criterion=entropy, max_depth=16, max_features=sqrt, min_samples_leaf=2, min_samples_split=5, splitter=best;, score=0.667 total time=   0.0s\n[CV 1/2; 604/648] START criterion=entropy, max_depth=16, max_features=sqrt, min_samples_leaf=2, min_samples_split=5, splitter=random\n[CV 1/2; 604/648] END criterion=entropy, max_depth=16, max_features=sqrt, min_samples_leaf=2, min_samples_split=5, splitter=random;, score=0.833 total time=   0.0s\n[CV 2/2; 604/648] START criterion=entropy, max_depth=16, max_features=sqrt, min_samples_leaf=2, min_samples_split=5, splitter=random\n[CV 2/2; 604/648] END criterion=entropy, max_depth=16, max_features=sqrt, min_samples_leaf=2, min_samples_split=5, splitter=random;, score=0.694 total time=   0.0s\n[CV 1/2; 605/648] START criterion=entropy, max_depth=16, max_features=sqrt, min_samples_leaf=2, min_samples_split=10, splitter=best\n[CV 1/2; 605/648] END criterion=entropy, max_depth=16, max_features=sqrt, min_samples_leaf=2, min_samples_split=10, splitter=best;, score=0.778 total time=   0.0s\n[CV 2/2; 605/648] START criterion=entropy, max_depth=16, max_features=sqrt, min_samples_leaf=2, min_samples_split=10, splitter=best\n[CV 2/2; 605/648] END criterion=entropy, max_depth=16, max_features=sqrt, min_samples_leaf=2, min_samples_split=10, splitter=best;, score=0.583 total time=   0.0s\n[CV 1/2; 606/648] START criterion=entropy, max_depth=16, max_features=sqrt, min_samples_leaf=2, min_samples_split=10, splitter=random\n[CV 1/2; 606/648] END criterion=entropy, max_depth=16, max_features=sqrt, min_samples_leaf=2, min_samples_split=10, splitter=random;, score=0.639 total time=   0.0s\n[CV 2/2; 606/648] START criterion=entropy, max_depth=16, max_features=sqrt, min_samples_leaf=2, min_samples_split=10, splitter=random\n[CV 2/2; 606/648] END criterion=entropy, max_depth=16, max_features=sqrt, min_samples_leaf=2, min_samples_split=10, splitter=random;, score=0.861 total time=   0.0s\n[CV 1/2; 607/648] START criterion=entropy, max_depth=16, max_features=sqrt, min_samples_leaf=4, min_samples_split=2, splitter=best\n[CV 1/2; 607/648] END criterion=entropy, max_depth=16, max_features=sqrt, min_samples_leaf=4, min_samples_split=2, splitter=best;, score=0.667 total time=   0.0s\n[CV 2/2; 607/648] START criterion=entropy, max_depth=16, max_features=sqrt, min_samples_leaf=4, min_samples_split=2, splitter=best\n[CV 2/2; 607/648] END criterion=entropy, max_depth=16, max_features=sqrt, min_samples_leaf=4, min_samples_split=2, splitter=best;, score=0.500 total time=   0.0s\n[CV 1/2; 608/648] START criterion=entropy, max_depth=16, max_features=sqrt, min_samples_leaf=4, min_samples_split=2, splitter=random\n[CV 1/2; 608/648] END criterion=entropy, max_depth=16, max_features=sqrt, min_samples_leaf=4, min_samples_split=2, splitter=random;, score=0.833 total time=   0.0s\n[CV 2/2; 608/648] START criterion=entropy, max_depth=16, max_features=sqrt, min_samples_leaf=4, min_samples_split=2, splitter=random\n[CV 2/2; 608/648] END criterion=entropy, max_depth=16, max_features=sqrt, min_samples_leaf=4, min_samples_split=2, splitter=random;, score=0.806 total time=   0.0s\n[CV 1/2; 609/648] START criterion=entropy, max_depth=16, max_features=sqrt, min_samples_leaf=4, min_samples_split=5, splitter=best\n[CV 1/2; 609/648] END criterion=entropy, max_depth=16, max_features=sqrt, min_samples_leaf=4, min_samples_split=5, splitter=best;, score=0.528 total time=   0.0s\n[CV 2/2; 609/648] START criterion=entropy, max_depth=16, max_features=sqrt, min_samples_leaf=4, min_samples_split=5, splitter=best\n[CV 2/2; 609/648] END criterion=entropy, max_depth=16, max_features=sqrt, min_samples_leaf=4, min_samples_split=5, splitter=best;, score=0.861 total time=   0.0s\n[CV 1/2; 610/648] START criterion=entropy, max_depth=16, max_features=sqrt, min_samples_leaf=4, min_samples_split=5, splitter=random\n[CV 1/2; 610/648] END criterion=entropy, max_depth=16, max_features=sqrt, min_samples_leaf=4, min_samples_split=5, splitter=random;, score=0.861 total time=   0.0s\n[CV 2/2; 610/648] START criterion=entropy, max_depth=16, max_features=sqrt, min_samples_leaf=4, min_samples_split=5, splitter=random\n[CV 2/2; 610/648] END criterion=entropy, max_depth=16, max_features=sqrt, min_samples_leaf=4, min_samples_split=5, splitter=random;, score=0.861 total time=   0.0s\n[CV 1/2; 611/648] START criterion=entropy, max_depth=16, max_features=sqrt, min_samples_leaf=4, min_samples_split=10, splitter=best\n[CV 1/2; 611/648] END criterion=entropy, max_depth=16, max_features=sqrt, min_samples_leaf=4, min_samples_split=10, splitter=best;, score=0.722 total time=   0.0s\n[CV 2/2; 611/648] START criterion=entropy, max_depth=16, max_features=sqrt, min_samples_leaf=4, min_samples_split=10, splitter=best\n[CV 2/2; 611/648] END criterion=entropy, max_depth=16, max_features=sqrt, min_samples_leaf=4, min_samples_split=10, splitter=best;, score=0.611 total time=   0.0s\n[CV 1/2; 612/648] START criterion=entropy, max_depth=16, max_features=sqrt, min_samples_leaf=4, min_samples_split=10, splitter=random\n[CV 1/2; 612/648] END criterion=entropy, max_depth=16, max_features=sqrt, min_samples_leaf=4, min_samples_split=10, splitter=random;, score=0.833 total time=   0.0s\n[CV 2/2; 612/648] START criterion=entropy, max_depth=16, max_features=sqrt, min_samples_leaf=4, min_samples_split=10, splitter=random\n[CV 2/2; 612/648] END criterion=entropy, max_depth=16, max_features=sqrt, min_samples_leaf=4, min_samples_split=10, splitter=random;, score=0.778 total time=   0.0s\n[CV 1/2; 613/648] START criterion=entropy, max_depth=18, max_features=auto, min_samples_leaf=1, min_samples_split=2, splitter=best\n",
          "output_type": "stream"
        },
        {
          "name": "stderr",
          "text": "/lib/python3.11/site-packages/sklearn/tree/_classes.py:269: FutureWarning: `max_features='auto'` has been deprecated in 1.1 and will be removed in 1.3. To keep the past behaviour, explicitly set `max_features='sqrt'`.\n  warnings.warn(\n",
          "output_type": "stream"
        },
        {
          "name": "stdout",
          "text": "[CV 1/2; 613/648] END criterion=entropy, max_depth=18, max_features=auto, min_samples_leaf=1, min_samples_split=2, splitter=best;, score=0.722 total time=   0.0s\n[CV 2/2; 613/648] START criterion=entropy, max_depth=18, max_features=auto, min_samples_leaf=1, min_samples_split=2, splitter=best\n",
          "output_type": "stream"
        },
        {
          "name": "stderr",
          "text": "/lib/python3.11/site-packages/sklearn/tree/_classes.py:269: FutureWarning: `max_features='auto'` has been deprecated in 1.1 and will be removed in 1.3. To keep the past behaviour, explicitly set `max_features='sqrt'`.\n  warnings.warn(\n",
          "output_type": "stream"
        },
        {
          "name": "stdout",
          "text": "[CV 2/2; 613/648] END criterion=entropy, max_depth=18, max_features=auto, min_samples_leaf=1, min_samples_split=2, splitter=best;, score=0.556 total time=   0.0s\n[CV 1/2; 614/648] START criterion=entropy, max_depth=18, max_features=auto, min_samples_leaf=1, min_samples_split=2, splitter=random\n",
          "output_type": "stream"
        },
        {
          "name": "stderr",
          "text": "/lib/python3.11/site-packages/sklearn/tree/_classes.py:269: FutureWarning: `max_features='auto'` has been deprecated in 1.1 and will be removed in 1.3. To keep the past behaviour, explicitly set `max_features='sqrt'`.\n  warnings.warn(\n",
          "output_type": "stream"
        },
        {
          "name": "stdout",
          "text": "[CV 1/2; 614/648] END criterion=entropy, max_depth=18, max_features=auto, min_samples_leaf=1, min_samples_split=2, splitter=random;, score=0.778 total time=   0.0s\n[CV 2/2; 614/648] START criterion=entropy, max_depth=18, max_features=auto, min_samples_leaf=1, min_samples_split=2, splitter=random\n",
          "output_type": "stream"
        },
        {
          "name": "stderr",
          "text": "/lib/python3.11/site-packages/sklearn/tree/_classes.py:269: FutureWarning: `max_features='auto'` has been deprecated in 1.1 and will be removed in 1.3. To keep the past behaviour, explicitly set `max_features='sqrt'`.\n  warnings.warn(\n",
          "output_type": "stream"
        },
        {
          "name": "stdout",
          "text": "[CV 2/2; 614/648] END criterion=entropy, max_depth=18, max_features=auto, min_samples_leaf=1, min_samples_split=2, splitter=random;, score=0.861 total time=   0.0s\n[CV 1/2; 615/648] START criterion=entropy, max_depth=18, max_features=auto, min_samples_leaf=1, min_samples_split=5, splitter=best\n",
          "output_type": "stream"
        },
        {
          "name": "stderr",
          "text": "/lib/python3.11/site-packages/sklearn/tree/_classes.py:269: FutureWarning: `max_features='auto'` has been deprecated in 1.1 and will be removed in 1.3. To keep the past behaviour, explicitly set `max_features='sqrt'`.\n  warnings.warn(\n",
          "output_type": "stream"
        },
        {
          "name": "stdout",
          "text": "[CV 1/2; 615/648] END criterion=entropy, max_depth=18, max_features=auto, min_samples_leaf=1, min_samples_split=5, splitter=best;, score=0.806 total time=   0.0s\n[CV 2/2; 615/648] START criterion=entropy, max_depth=18, max_features=auto, min_samples_leaf=1, min_samples_split=5, splitter=best\n",
          "output_type": "stream"
        },
        {
          "name": "stderr",
          "text": "/lib/python3.11/site-packages/sklearn/tree/_classes.py:269: FutureWarning: `max_features='auto'` has been deprecated in 1.1 and will be removed in 1.3. To keep the past behaviour, explicitly set `max_features='sqrt'`.\n  warnings.warn(\n",
          "output_type": "stream"
        },
        {
          "name": "stdout",
          "text": "[CV 2/2; 615/648] END criterion=entropy, max_depth=18, max_features=auto, min_samples_leaf=1, min_samples_split=5, splitter=best;, score=0.667 total time=   0.0s\n[CV 1/2; 616/648] START criterion=entropy, max_depth=18, max_features=auto, min_samples_leaf=1, min_samples_split=5, splitter=random\n",
          "output_type": "stream"
        },
        {
          "name": "stderr",
          "text": "/lib/python3.11/site-packages/sklearn/tree/_classes.py:269: FutureWarning: `max_features='auto'` has been deprecated in 1.1 and will be removed in 1.3. To keep the past behaviour, explicitly set `max_features='sqrt'`.\n  warnings.warn(\n",
          "output_type": "stream"
        },
        {
          "name": "stdout",
          "text": "[CV 1/2; 616/648] END criterion=entropy, max_depth=18, max_features=auto, min_samples_leaf=1, min_samples_split=5, splitter=random;, score=0.778 total time=   0.0s\n[CV 2/2; 616/648] START criterion=entropy, max_depth=18, max_features=auto, min_samples_leaf=1, min_samples_split=5, splitter=random\n",
          "output_type": "stream"
        },
        {
          "name": "stderr",
          "text": "/lib/python3.11/site-packages/sklearn/tree/_classes.py:269: FutureWarning: `max_features='auto'` has been deprecated in 1.1 and will be removed in 1.3. To keep the past behaviour, explicitly set `max_features='sqrt'`.\n  warnings.warn(\n",
          "output_type": "stream"
        },
        {
          "name": "stdout",
          "text": "[CV 2/2; 616/648] END criterion=entropy, max_depth=18, max_features=auto, min_samples_leaf=1, min_samples_split=5, splitter=random;, score=0.694 total time=   0.0s\n[CV 1/2; 617/648] START criterion=entropy, max_depth=18, max_features=auto, min_samples_leaf=1, min_samples_split=10, splitter=best\n",
          "output_type": "stream"
        },
        {
          "name": "stderr",
          "text": "/lib/python3.11/site-packages/sklearn/tree/_classes.py:269: FutureWarning: `max_features='auto'` has been deprecated in 1.1 and will be removed in 1.3. To keep the past behaviour, explicitly set `max_features='sqrt'`.\n  warnings.warn(\n",
          "output_type": "stream"
        },
        {
          "name": "stdout",
          "text": "[CV 1/2; 617/648] END criterion=entropy, max_depth=18, max_features=auto, min_samples_leaf=1, min_samples_split=10, splitter=best;, score=0.722 total time=   0.0s\n[CV 2/2; 617/648] START criterion=entropy, max_depth=18, max_features=auto, min_samples_leaf=1, min_samples_split=10, splitter=best\n",
          "output_type": "stream"
        },
        {
          "name": "stderr",
          "text": "/lib/python3.11/site-packages/sklearn/tree/_classes.py:269: FutureWarning: `max_features='auto'` has been deprecated in 1.1 and will be removed in 1.3. To keep the past behaviour, explicitly set `max_features='sqrt'`.\n  warnings.warn(\n",
          "output_type": "stream"
        },
        {
          "name": "stdout",
          "text": "[CV 2/2; 617/648] END criterion=entropy, max_depth=18, max_features=auto, min_samples_leaf=1, min_samples_split=10, splitter=best;, score=0.639 total time=   0.0s\n[CV 1/2; 618/648] START criterion=entropy, max_depth=18, max_features=auto, min_samples_leaf=1, min_samples_split=10, splitter=random\n",
          "output_type": "stream"
        },
        {
          "name": "stderr",
          "text": "/lib/python3.11/site-packages/sklearn/tree/_classes.py:269: FutureWarning: `max_features='auto'` has been deprecated in 1.1 and will be removed in 1.3. To keep the past behaviour, explicitly set `max_features='sqrt'`.\n  warnings.warn(\n",
          "output_type": "stream"
        },
        {
          "name": "stdout",
          "text": "[CV 1/2; 618/648] END criterion=entropy, max_depth=18, max_features=auto, min_samples_leaf=1, min_samples_split=10, splitter=random;, score=0.861 total time=   0.0s\n[CV 2/2; 618/648] START criterion=entropy, max_depth=18, max_features=auto, min_samples_leaf=1, min_samples_split=10, splitter=random\n",
          "output_type": "stream"
        },
        {
          "name": "stderr",
          "text": "/lib/python3.11/site-packages/sklearn/tree/_classes.py:269: FutureWarning: `max_features='auto'` has been deprecated in 1.1 and will be removed in 1.3. To keep the past behaviour, explicitly set `max_features='sqrt'`.\n  warnings.warn(\n",
          "output_type": "stream"
        },
        {
          "name": "stdout",
          "text": "[CV 2/2; 618/648] END criterion=entropy, max_depth=18, max_features=auto, min_samples_leaf=1, min_samples_split=10, splitter=random;, score=0.611 total time=   0.0s\n[CV 1/2; 619/648] START criterion=entropy, max_depth=18, max_features=auto, min_samples_leaf=2, min_samples_split=2, splitter=best\n",
          "output_type": "stream"
        },
        {
          "name": "stderr",
          "text": "/lib/python3.11/site-packages/sklearn/tree/_classes.py:269: FutureWarning: `max_features='auto'` has been deprecated in 1.1 and will be removed in 1.3. To keep the past behaviour, explicitly set `max_features='sqrt'`.\n  warnings.warn(\n",
          "output_type": "stream"
        },
        {
          "name": "stdout",
          "text": "[CV 1/2; 619/648] END criterion=entropy, max_depth=18, max_features=auto, min_samples_leaf=2, min_samples_split=2, splitter=best;, score=0.694 total time=   0.0s\n[CV 2/2; 619/648] START criterion=entropy, max_depth=18, max_features=auto, min_samples_leaf=2, min_samples_split=2, splitter=best\n",
          "output_type": "stream"
        },
        {
          "name": "stderr",
          "text": "/lib/python3.11/site-packages/sklearn/tree/_classes.py:269: FutureWarning: `max_features='auto'` has been deprecated in 1.1 and will be removed in 1.3. To keep the past behaviour, explicitly set `max_features='sqrt'`.\n  warnings.warn(\n",
          "output_type": "stream"
        },
        {
          "name": "stdout",
          "text": "[CV 2/2; 619/648] END criterion=entropy, max_depth=18, max_features=auto, min_samples_leaf=2, min_samples_split=2, splitter=best;, score=0.389 total time=   0.0s\n[CV 1/2; 620/648] START criterion=entropy, max_depth=18, max_features=auto, min_samples_leaf=2, min_samples_split=2, splitter=random\n",
          "output_type": "stream"
        },
        {
          "name": "stderr",
          "text": "/lib/python3.11/site-packages/sklearn/tree/_classes.py:269: FutureWarning: `max_features='auto'` has been deprecated in 1.1 and will be removed in 1.3. To keep the past behaviour, explicitly set `max_features='sqrt'`.\n  warnings.warn(\n",
          "output_type": "stream"
        },
        {
          "name": "stdout",
          "text": "[CV 1/2; 620/648] END criterion=entropy, max_depth=18, max_features=auto, min_samples_leaf=2, min_samples_split=2, splitter=random;, score=0.639 total time=   0.0s\n[CV 2/2; 620/648] START criterion=entropy, max_depth=18, max_features=auto, min_samples_leaf=2, min_samples_split=2, splitter=random\n",
          "output_type": "stream"
        },
        {
          "name": "stderr",
          "text": "/lib/python3.11/site-packages/sklearn/tree/_classes.py:269: FutureWarning: `max_features='auto'` has been deprecated in 1.1 and will be removed in 1.3. To keep the past behaviour, explicitly set `max_features='sqrt'`.\n  warnings.warn(\n",
          "output_type": "stream"
        },
        {
          "name": "stdout",
          "text": "[CV 2/2; 620/648] END criterion=entropy, max_depth=18, max_features=auto, min_samples_leaf=2, min_samples_split=2, splitter=random;, score=0.556 total time=   0.0s\n[CV 1/2; 621/648] START criterion=entropy, max_depth=18, max_features=auto, min_samples_leaf=2, min_samples_split=5, splitter=best\n",
          "output_type": "stream"
        },
        {
          "name": "stderr",
          "text": "/lib/python3.11/site-packages/sklearn/tree/_classes.py:269: FutureWarning: `max_features='auto'` has been deprecated in 1.1 and will be removed in 1.3. To keep the past behaviour, explicitly set `max_features='sqrt'`.\n  warnings.warn(\n",
          "output_type": "stream"
        },
        {
          "name": "stdout",
          "text": "[CV 1/2; 621/648] END criterion=entropy, max_depth=18, max_features=auto, min_samples_leaf=2, min_samples_split=5, splitter=best;, score=0.861 total time=   0.0s\n[CV 2/2; 621/648] START criterion=entropy, max_depth=18, max_features=auto, min_samples_leaf=2, min_samples_split=5, splitter=best\n",
          "output_type": "stream"
        },
        {
          "name": "stderr",
          "text": "/lib/python3.11/site-packages/sklearn/tree/_classes.py:269: FutureWarning: `max_features='auto'` has been deprecated in 1.1 and will be removed in 1.3. To keep the past behaviour, explicitly set `max_features='sqrt'`.\n  warnings.warn(\n",
          "output_type": "stream"
        },
        {
          "name": "stdout",
          "text": "[CV 2/2; 621/648] END criterion=entropy, max_depth=18, max_features=auto, min_samples_leaf=2, min_samples_split=5, splitter=best;, score=0.667 total time=   0.0s\n[CV 1/2; 622/648] START criterion=entropy, max_depth=18, max_features=auto, min_samples_leaf=2, min_samples_split=5, splitter=random\n",
          "output_type": "stream"
        },
        {
          "name": "stderr",
          "text": "/lib/python3.11/site-packages/sklearn/tree/_classes.py:269: FutureWarning: `max_features='auto'` has been deprecated in 1.1 and will be removed in 1.3. To keep the past behaviour, explicitly set `max_features='sqrt'`.\n  warnings.warn(\n",
          "output_type": "stream"
        },
        {
          "name": "stdout",
          "text": "[CV 1/2; 622/648] END criterion=entropy, max_depth=18, max_features=auto, min_samples_leaf=2, min_samples_split=5, splitter=random;, score=0.833 total time=   0.0s\n[CV 2/2; 622/648] START criterion=entropy, max_depth=18, max_features=auto, min_samples_leaf=2, min_samples_split=5, splitter=random\n",
          "output_type": "stream"
        },
        {
          "name": "stderr",
          "text": "/lib/python3.11/site-packages/sklearn/tree/_classes.py:269: FutureWarning: `max_features='auto'` has been deprecated in 1.1 and will be removed in 1.3. To keep the past behaviour, explicitly set `max_features='sqrt'`.\n  warnings.warn(\n",
          "output_type": "stream"
        },
        {
          "name": "stdout",
          "text": "[CV 2/2; 622/648] END criterion=entropy, max_depth=18, max_features=auto, min_samples_leaf=2, min_samples_split=5, splitter=random;, score=0.806 total time=   0.0s\n[CV 1/2; 623/648] START criterion=entropy, max_depth=18, max_features=auto, min_samples_leaf=2, min_samples_split=10, splitter=best\n",
          "output_type": "stream"
        },
        {
          "name": "stderr",
          "text": "/lib/python3.11/site-packages/sklearn/tree/_classes.py:269: FutureWarning: `max_features='auto'` has been deprecated in 1.1 and will be removed in 1.3. To keep the past behaviour, explicitly set `max_features='sqrt'`.\n  warnings.warn(\n",
          "output_type": "stream"
        },
        {
          "name": "stdout",
          "text": "[CV 1/2; 623/648] END criterion=entropy, max_depth=18, max_features=auto, min_samples_leaf=2, min_samples_split=10, splitter=best;, score=0.861 total time=   0.0s\n[CV 2/2; 623/648] START criterion=entropy, max_depth=18, max_features=auto, min_samples_leaf=2, min_samples_split=10, splitter=best\n",
          "output_type": "stream"
        },
        {
          "name": "stderr",
          "text": "/lib/python3.11/site-packages/sklearn/tree/_classes.py:269: FutureWarning: `max_features='auto'` has been deprecated in 1.1 and will be removed in 1.3. To keep the past behaviour, explicitly set `max_features='sqrt'`.\n  warnings.warn(\n",
          "output_type": "stream"
        },
        {
          "name": "stdout",
          "text": "[CV 2/2; 623/648] END criterion=entropy, max_depth=18, max_features=auto, min_samples_leaf=2, min_samples_split=10, splitter=best;, score=0.778 total time=   0.0s\n[CV 1/2; 624/648] START criterion=entropy, max_depth=18, max_features=auto, min_samples_leaf=2, min_samples_split=10, splitter=random\n",
          "output_type": "stream"
        },
        {
          "name": "stderr",
          "text": "/lib/python3.11/site-packages/sklearn/tree/_classes.py:269: FutureWarning: `max_features='auto'` has been deprecated in 1.1 and will be removed in 1.3. To keep the past behaviour, explicitly set `max_features='sqrt'`.\n  warnings.warn(\n",
          "output_type": "stream"
        },
        {
          "name": "stdout",
          "text": "[CV 1/2; 624/648] END criterion=entropy, max_depth=18, max_features=auto, min_samples_leaf=2, min_samples_split=10, splitter=random;, score=0.833 total time=   0.0s\n[CV 2/2; 624/648] START criterion=entropy, max_depth=18, max_features=auto, min_samples_leaf=2, min_samples_split=10, splitter=random\n",
          "output_type": "stream"
        },
        {
          "name": "stderr",
          "text": "/lib/python3.11/site-packages/sklearn/tree/_classes.py:269: FutureWarning: `max_features='auto'` has been deprecated in 1.1 and will be removed in 1.3. To keep the past behaviour, explicitly set `max_features='sqrt'`.\n  warnings.warn(\n",
          "output_type": "stream"
        },
        {
          "name": "stdout",
          "text": "[CV 2/2; 624/648] END criterion=entropy, max_depth=18, max_features=auto, min_samples_leaf=2, min_samples_split=10, splitter=random;, score=0.861 total time=   0.0s\n[CV 1/2; 625/648] START criterion=entropy, max_depth=18, max_features=auto, min_samples_leaf=4, min_samples_split=2, splitter=best\n",
          "output_type": "stream"
        },
        {
          "name": "stderr",
          "text": "/lib/python3.11/site-packages/sklearn/tree/_classes.py:269: FutureWarning: `max_features='auto'` has been deprecated in 1.1 and will be removed in 1.3. To keep the past behaviour, explicitly set `max_features='sqrt'`.\n  warnings.warn(\n",
          "output_type": "stream"
        },
        {
          "name": "stdout",
          "text": "[CV 1/2; 625/648] END criterion=entropy, max_depth=18, max_features=auto, min_samples_leaf=4, min_samples_split=2, splitter=best;, score=0.750 total time=   0.0s\n[CV 2/2; 625/648] START criterion=entropy, max_depth=18, max_features=auto, min_samples_leaf=4, min_samples_split=2, splitter=best\n",
          "output_type": "stream"
        },
        {
          "name": "stderr",
          "text": "/lib/python3.11/site-packages/sklearn/tree/_classes.py:269: FutureWarning: `max_features='auto'` has been deprecated in 1.1 and will be removed in 1.3. To keep the past behaviour, explicitly set `max_features='sqrt'`.\n  warnings.warn(\n",
          "output_type": "stream"
        },
        {
          "name": "stdout",
          "text": "[CV 2/2; 625/648] END criterion=entropy, max_depth=18, max_features=auto, min_samples_leaf=4, min_samples_split=2, splitter=best;, score=0.639 total time=   0.0s\n[CV 1/2; 626/648] START criterion=entropy, max_depth=18, max_features=auto, min_samples_leaf=4, min_samples_split=2, splitter=random\n",
          "output_type": "stream"
        },
        {
          "name": "stderr",
          "text": "/lib/python3.11/site-packages/sklearn/tree/_classes.py:269: FutureWarning: `max_features='auto'` has been deprecated in 1.1 and will be removed in 1.3. To keep the past behaviour, explicitly set `max_features='sqrt'`.\n  warnings.warn(\n",
          "output_type": "stream"
        },
        {
          "name": "stdout",
          "text": "[CV 1/2; 626/648] END criterion=entropy, max_depth=18, max_features=auto, min_samples_leaf=4, min_samples_split=2, splitter=random;, score=0.833 total time=   0.0s\n[CV 2/2; 626/648] START criterion=entropy, max_depth=18, max_features=auto, min_samples_leaf=4, min_samples_split=2, splitter=random\n",
          "output_type": "stream"
        },
        {
          "name": "stderr",
          "text": "/lib/python3.11/site-packages/sklearn/tree/_classes.py:269: FutureWarning: `max_features='auto'` has been deprecated in 1.1 and will be removed in 1.3. To keep the past behaviour, explicitly set `max_features='sqrt'`.\n  warnings.warn(\n",
          "output_type": "stream"
        },
        {
          "name": "stdout",
          "text": "[CV 2/2; 626/648] END criterion=entropy, max_depth=18, max_features=auto, min_samples_leaf=4, min_samples_split=2, splitter=random;, score=0.778 total time=   0.0s\n[CV 1/2; 627/648] START criterion=entropy, max_depth=18, max_features=auto, min_samples_leaf=4, min_samples_split=5, splitter=best\n",
          "output_type": "stream"
        },
        {
          "name": "stderr",
          "text": "/lib/python3.11/site-packages/sklearn/tree/_classes.py:269: FutureWarning: `max_features='auto'` has been deprecated in 1.1 and will be removed in 1.3. To keep the past behaviour, explicitly set `max_features='sqrt'`.\n  warnings.warn(\n",
          "output_type": "stream"
        },
        {
          "name": "stdout",
          "text": "[CV 1/2; 627/648] END criterion=entropy, max_depth=18, max_features=auto, min_samples_leaf=4, min_samples_split=5, splitter=best;, score=0.806 total time=   0.0s\n[CV 2/2; 627/648] START criterion=entropy, max_depth=18, max_features=auto, min_samples_leaf=4, min_samples_split=5, splitter=best\n",
          "output_type": "stream"
        },
        {
          "name": "stderr",
          "text": "/lib/python3.11/site-packages/sklearn/tree/_classes.py:269: FutureWarning: `max_features='auto'` has been deprecated in 1.1 and will be removed in 1.3. To keep the past behaviour, explicitly set `max_features='sqrt'`.\n  warnings.warn(\n",
          "output_type": "stream"
        },
        {
          "name": "stdout",
          "text": "[CV 2/2; 627/648] END criterion=entropy, max_depth=18, max_features=auto, min_samples_leaf=4, min_samples_split=5, splitter=best;, score=0.556 total time=   0.0s\n[CV 1/2; 628/648] START criterion=entropy, max_depth=18, max_features=auto, min_samples_leaf=4, min_samples_split=5, splitter=random\n",
          "output_type": "stream"
        },
        {
          "name": "stderr",
          "text": "/lib/python3.11/site-packages/sklearn/tree/_classes.py:269: FutureWarning: `max_features='auto'` has been deprecated in 1.1 and will be removed in 1.3. To keep the past behaviour, explicitly set `max_features='sqrt'`.\n  warnings.warn(\n",
          "output_type": "stream"
        },
        {
          "name": "stdout",
          "text": "[CV 1/2; 628/648] END criterion=entropy, max_depth=18, max_features=auto, min_samples_leaf=4, min_samples_split=5, splitter=random;, score=0.694 total time=   0.0s\n[CV 2/2; 628/648] START criterion=entropy, max_depth=18, max_features=auto, min_samples_leaf=4, min_samples_split=5, splitter=random\n",
          "output_type": "stream"
        },
        {
          "name": "stderr",
          "text": "/lib/python3.11/site-packages/sklearn/tree/_classes.py:269: FutureWarning: `max_features='auto'` has been deprecated in 1.1 and will be removed in 1.3. To keep the past behaviour, explicitly set `max_features='sqrt'`.\n  warnings.warn(\n",
          "output_type": "stream"
        },
        {
          "name": "stdout",
          "text": "[CV 2/2; 628/648] END criterion=entropy, max_depth=18, max_features=auto, min_samples_leaf=4, min_samples_split=5, splitter=random;, score=0.778 total time=   0.0s\n[CV 1/2; 629/648] START criterion=entropy, max_depth=18, max_features=auto, min_samples_leaf=4, min_samples_split=10, splitter=best\n",
          "output_type": "stream"
        },
        {
          "name": "stderr",
          "text": "/lib/python3.11/site-packages/sklearn/tree/_classes.py:269: FutureWarning: `max_features='auto'` has been deprecated in 1.1 and will be removed in 1.3. To keep the past behaviour, explicitly set `max_features='sqrt'`.\n  warnings.warn(\n",
          "output_type": "stream"
        },
        {
          "name": "stdout",
          "text": "[CV 1/2; 629/648] END criterion=entropy, max_depth=18, max_features=auto, min_samples_leaf=4, min_samples_split=10, splitter=best;, score=0.806 total time=   0.0s\n[CV 2/2; 629/648] START criterion=entropy, max_depth=18, max_features=auto, min_samples_leaf=4, min_samples_split=10, splitter=best\n",
          "output_type": "stream"
        },
        {
          "name": "stderr",
          "text": "/lib/python3.11/site-packages/sklearn/tree/_classes.py:269: FutureWarning: `max_features='auto'` has been deprecated in 1.1 and will be removed in 1.3. To keep the past behaviour, explicitly set `max_features='sqrt'`.\n  warnings.warn(\n",
          "output_type": "stream"
        },
        {
          "name": "stdout",
          "text": "[CV 2/2; 629/648] END criterion=entropy, max_depth=18, max_features=auto, min_samples_leaf=4, min_samples_split=10, splitter=best;, score=0.722 total time=   0.0s\n[CV 1/2; 630/648] START criterion=entropy, max_depth=18, max_features=auto, min_samples_leaf=4, min_samples_split=10, splitter=random\n",
          "output_type": "stream"
        },
        {
          "name": "stderr",
          "text": "/lib/python3.11/site-packages/sklearn/tree/_classes.py:269: FutureWarning: `max_features='auto'` has been deprecated in 1.1 and will be removed in 1.3. To keep the past behaviour, explicitly set `max_features='sqrt'`.\n  warnings.warn(\n",
          "output_type": "stream"
        },
        {
          "name": "stdout",
          "text": "[CV 1/2; 630/648] END criterion=entropy, max_depth=18, max_features=auto, min_samples_leaf=4, min_samples_split=10, splitter=random;, score=0.806 total time=   0.0s\n[CV 2/2; 630/648] START criterion=entropy, max_depth=18, max_features=auto, min_samples_leaf=4, min_samples_split=10, splitter=random\n",
          "output_type": "stream"
        },
        {
          "name": "stderr",
          "text": "/lib/python3.11/site-packages/sklearn/tree/_classes.py:269: FutureWarning: `max_features='auto'` has been deprecated in 1.1 and will be removed in 1.3. To keep the past behaviour, explicitly set `max_features='sqrt'`.\n  warnings.warn(\n",
          "output_type": "stream"
        },
        {
          "name": "stdout",
          "text": "[CV 2/2; 630/648] END criterion=entropy, max_depth=18, max_features=auto, min_samples_leaf=4, min_samples_split=10, splitter=random;, score=0.556 total time=   0.0s\n[CV 1/2; 631/648] START criterion=entropy, max_depth=18, max_features=sqrt, min_samples_leaf=1, min_samples_split=2, splitter=best\n[CV 1/2; 631/648] END criterion=entropy, max_depth=18, max_features=sqrt, min_samples_leaf=1, min_samples_split=2, splitter=best;, score=0.778 total time=   0.0s\n[CV 2/2; 631/648] START criterion=entropy, max_depth=18, max_features=sqrt, min_samples_leaf=1, min_samples_split=2, splitter=best\n[CV 2/2; 631/648] END criterion=entropy, max_depth=18, max_features=sqrt, min_samples_leaf=1, min_samples_split=2, splitter=best;, score=0.667 total time=   0.0s\n[CV 1/2; 632/648] START criterion=entropy, max_depth=18, max_features=sqrt, min_samples_leaf=1, min_samples_split=2, splitter=random\n[CV 1/2; 632/648] END criterion=entropy, max_depth=18, max_features=sqrt, min_samples_leaf=1, min_samples_split=2, splitter=random;, score=0.750 total time=   0.0s\n[CV 2/2; 632/648] START criterion=entropy, max_depth=18, max_features=sqrt, min_samples_leaf=1, min_samples_split=2, splitter=random\n[CV 2/2; 632/648] END criterion=entropy, max_depth=18, max_features=sqrt, min_samples_leaf=1, min_samples_split=2, splitter=random;, score=0.833 total time=   0.0s\n[CV 1/2; 633/648] START criterion=entropy, max_depth=18, max_features=sqrt, min_samples_leaf=1, min_samples_split=5, splitter=best\n[CV 1/2; 633/648] END criterion=entropy, max_depth=18, max_features=sqrt, min_samples_leaf=1, min_samples_split=5, splitter=best;, score=0.611 total time=   0.0s\n[CV 2/2; 633/648] START criterion=entropy, max_depth=18, max_features=sqrt, min_samples_leaf=1, min_samples_split=5, splitter=best\n[CV 2/2; 633/648] END criterion=entropy, max_depth=18, max_features=sqrt, min_samples_leaf=1, min_samples_split=5, splitter=best;, score=0.778 total time=   0.0s\n[CV 1/2; 634/648] START criterion=entropy, max_depth=18, max_features=sqrt, min_samples_leaf=1, min_samples_split=5, splitter=random\n[CV 1/2; 634/648] END criterion=entropy, max_depth=18, max_features=sqrt, min_samples_leaf=1, min_samples_split=5, splitter=random;, score=0.667 total time=   0.0s\n[CV 2/2; 634/648] START criterion=entropy, max_depth=18, max_features=sqrt, min_samples_leaf=1, min_samples_split=5, splitter=random\n[CV 2/2; 634/648] END criterion=entropy, max_depth=18, max_features=sqrt, min_samples_leaf=1, min_samples_split=5, splitter=random;, score=0.694 total time=   0.0s\n[CV 1/2; 635/648] START criterion=entropy, max_depth=18, max_features=sqrt, min_samples_leaf=1, min_samples_split=10, splitter=best\n[CV 1/2; 635/648] END criterion=entropy, max_depth=18, max_features=sqrt, min_samples_leaf=1, min_samples_split=10, splitter=best;, score=0.750 total time=   0.0s\n[CV 2/2; 635/648] START criterion=entropy, max_depth=18, max_features=sqrt, min_samples_leaf=1, min_samples_split=10, splitter=best\n[CV 2/2; 635/648] END criterion=entropy, max_depth=18, max_features=sqrt, min_samples_leaf=1, min_samples_split=10, splitter=best;, score=0.583 total time=   0.0s\n[CV 1/2; 636/648] START criterion=entropy, max_depth=18, max_features=sqrt, min_samples_leaf=1, min_samples_split=10, splitter=random\n[CV 1/2; 636/648] END criterion=entropy, max_depth=18, max_features=sqrt, min_samples_leaf=1, min_samples_split=10, splitter=random;, score=0.806 total time=   0.0s\n[CV 2/2; 636/648] START criterion=entropy, max_depth=18, max_features=sqrt, min_samples_leaf=1, min_samples_split=10, splitter=random\n[CV 2/2; 636/648] END criterion=entropy, max_depth=18, max_features=sqrt, min_samples_leaf=1, min_samples_split=10, splitter=random;, score=0.722 total time=   0.0s\n[CV 1/2; 637/648] START criterion=entropy, max_depth=18, max_features=sqrt, min_samples_leaf=2, min_samples_split=2, splitter=best\n[CV 1/2; 637/648] END criterion=entropy, max_depth=18, max_features=sqrt, min_samples_leaf=2, min_samples_split=2, splitter=best;, score=0.528 total time=   0.0s\n[CV 2/2; 637/648] START criterion=entropy, max_depth=18, max_features=sqrt, min_samples_leaf=2, min_samples_split=2, splitter=best\n[CV 2/2; 637/648] END criterion=entropy, max_depth=18, max_features=sqrt, min_samples_leaf=2, min_samples_split=2, splitter=best;, score=0.667 total time=   0.0s\n[CV 1/2; 638/648] START criterion=entropy, max_depth=18, max_features=sqrt, min_samples_leaf=2, min_samples_split=2, splitter=random\n[CV 1/2; 638/648] END criterion=entropy, max_depth=18, max_features=sqrt, min_samples_leaf=2, min_samples_split=2, splitter=random;, score=0.639 total time=   0.0s\n[CV 2/2; 638/648] START criterion=entropy, max_depth=18, max_features=sqrt, min_samples_leaf=2, min_samples_split=2, splitter=random\n[CV 2/2; 638/648] END criterion=entropy, max_depth=18, max_features=sqrt, min_samples_leaf=2, min_samples_split=2, splitter=random;, score=0.694 total time=   0.0s\n[CV 1/2; 639/648] START criterion=entropy, max_depth=18, max_features=sqrt, min_samples_leaf=2, min_samples_split=5, splitter=best\n[CV 1/2; 639/648] END criterion=entropy, max_depth=18, max_features=sqrt, min_samples_leaf=2, min_samples_split=5, splitter=best;, score=0.667 total time=   0.0s\n[CV 2/2; 639/648] START criterion=entropy, max_depth=18, max_features=sqrt, min_samples_leaf=2, min_samples_split=5, splitter=best\n[CV 2/2; 639/648] END criterion=entropy, max_depth=18, max_features=sqrt, min_samples_leaf=2, min_samples_split=5, splitter=best;, score=0.667 total time=   0.0s\n[CV 1/2; 640/648] START criterion=entropy, max_depth=18, max_features=sqrt, min_samples_leaf=2, min_samples_split=5, splitter=random\n[CV 1/2; 640/648] END criterion=entropy, max_depth=18, max_features=sqrt, min_samples_leaf=2, min_samples_split=5, splitter=random;, score=0.694 total time=   0.0s\n[CV 2/2; 640/648] START criterion=entropy, max_depth=18, max_features=sqrt, min_samples_leaf=2, min_samples_split=5, splitter=random\n[CV 2/2; 640/648] END criterion=entropy, max_depth=18, max_features=sqrt, min_samples_leaf=2, min_samples_split=5, splitter=random;, score=0.778 total time=   0.0s\n[CV 1/2; 641/648] START criterion=entropy, max_depth=18, max_features=sqrt, min_samples_leaf=2, min_samples_split=10, splitter=best\n[CV 1/2; 641/648] END criterion=entropy, max_depth=18, max_features=sqrt, min_samples_leaf=2, min_samples_split=10, splitter=best;, score=0.889 total time=   0.0s\n[CV 2/2; 641/648] START criterion=entropy, max_depth=18, max_features=sqrt, min_samples_leaf=2, min_samples_split=10, splitter=best\n[CV 2/2; 641/648] END criterion=entropy, max_depth=18, max_features=sqrt, min_samples_leaf=2, min_samples_split=10, splitter=best;, score=0.639 total time=   0.0s\n[CV 1/2; 642/648] START criterion=entropy, max_depth=18, max_features=sqrt, min_samples_leaf=2, min_samples_split=10, splitter=random\n[CV 1/2; 642/648] END criterion=entropy, max_depth=18, max_features=sqrt, min_samples_leaf=2, min_samples_split=10, splitter=random;, score=0.639 total time=   0.0s\n[CV 2/2; 642/648] START criterion=entropy, max_depth=18, max_features=sqrt, min_samples_leaf=2, min_samples_split=10, splitter=random\n[CV 2/2; 642/648] END criterion=entropy, max_depth=18, max_features=sqrt, min_samples_leaf=2, min_samples_split=10, splitter=random;, score=0.556 total time=   0.0s\n[CV 1/2; 643/648] START criterion=entropy, max_depth=18, max_features=sqrt, min_samples_leaf=4, min_samples_split=2, splitter=best\n[CV 1/2; 643/648] END criterion=entropy, max_depth=18, max_features=sqrt, min_samples_leaf=4, min_samples_split=2, splitter=best;, score=0.833 total time=   0.0s\n[CV 2/2; 643/648] START criterion=entropy, max_depth=18, max_features=sqrt, min_samples_leaf=4, min_samples_split=2, splitter=best\n[CV 2/2; 643/648] END criterion=entropy, max_depth=18, max_features=sqrt, min_samples_leaf=4, min_samples_split=2, splitter=best;, score=0.667 total time=   0.0s\n[CV 1/2; 644/648] START criterion=entropy, max_depth=18, max_features=sqrt, min_samples_leaf=4, min_samples_split=2, splitter=random\n[CV 1/2; 644/648] END criterion=entropy, max_depth=18, max_features=sqrt, min_samples_leaf=4, min_samples_split=2, splitter=random;, score=0.861 total time=   0.0s\n[CV 2/2; 644/648] START criterion=entropy, max_depth=18, max_features=sqrt, min_samples_leaf=4, min_samples_split=2, splitter=random\n[CV 2/2; 644/648] END criterion=entropy, max_depth=18, max_features=sqrt, min_samples_leaf=4, min_samples_split=2, splitter=random;, score=0.861 total time=   0.0s\n[CV 1/2; 645/648] START criterion=entropy, max_depth=18, max_features=sqrt, min_samples_leaf=4, min_samples_split=5, splitter=best\n[CV 1/2; 645/648] END criterion=entropy, max_depth=18, max_features=sqrt, min_samples_leaf=4, min_samples_split=5, splitter=best;, score=0.861 total time=   0.0s\n[CV 2/2; 645/648] START criterion=entropy, max_depth=18, max_features=sqrt, min_samples_leaf=4, min_samples_split=5, splitter=best\n[CV 2/2; 645/648] END criterion=entropy, max_depth=18, max_features=sqrt, min_samples_leaf=4, min_samples_split=5, splitter=best;, score=0.778 total time=   0.0s\n[CV 1/2; 646/648] START criterion=entropy, max_depth=18, max_features=sqrt, min_samples_leaf=4, min_samples_split=5, splitter=random\n[CV 1/2; 646/648] END criterion=entropy, max_depth=18, max_features=sqrt, min_samples_leaf=4, min_samples_split=5, splitter=random;, score=0.861 total time=   0.0s\n[CV 2/2; 646/648] START criterion=entropy, max_depth=18, max_features=sqrt, min_samples_leaf=4, min_samples_split=5, splitter=random\n[CV 2/2; 646/648] END criterion=entropy, max_depth=18, max_features=sqrt, min_samples_leaf=4, min_samples_split=5, splitter=random;, score=0.500 total time=   0.0s\n[CV 1/2; 647/648] START criterion=entropy, max_depth=18, max_features=sqrt, min_samples_leaf=4, min_samples_split=10, splitter=best\n[CV 1/2; 647/648] END criterion=entropy, max_depth=18, max_features=sqrt, min_samples_leaf=4, min_samples_split=10, splitter=best;, score=0.667 total time=   0.0s\n[CV 2/2; 647/648] START criterion=entropy, max_depth=18, max_features=sqrt, min_samples_leaf=4, min_samples_split=10, splitter=best\n[CV 2/2; 647/648] END criterion=entropy, max_depth=18, max_features=sqrt, min_samples_leaf=4, min_samples_split=10, splitter=best;, score=0.667 total time=   0.0s\n[CV 1/2; 648/648] START criterion=entropy, max_depth=18, max_features=sqrt, min_samples_leaf=4, min_samples_split=10, splitter=random\n[CV 1/2; 648/648] END criterion=entropy, max_depth=18, max_features=sqrt, min_samples_leaf=4, min_samples_split=10, splitter=random;, score=0.694 total time=   0.0s\n[CV 2/2; 648/648] START criterion=entropy, max_depth=18, max_features=sqrt, min_samples_leaf=4, min_samples_split=10, splitter=random\n[CV 2/2; 648/648] END criterion=entropy, max_depth=18, max_features=sqrt, min_samples_leaf=4, min_samples_split=10, splitter=random;, score=0.500 total time=   0.0s\n",
          "output_type": "stream"
        },
        {
          "name": "stderr",
          "text": "/lib/python3.11/site-packages/sklearn/tree/_classes.py:269: FutureWarning: `max_features='auto'` has been deprecated in 1.1 and will be removed in 1.3. To keep the past behaviour, explicitly set `max_features='sqrt'`.\n  warnings.warn(\n",
          "output_type": "stream"
        },
        {
          "name": "stdout",
          "text": "Done training.\n",
          "output_type": "stream"
        }
      ]
    },
    {
      "cell_type": "code",
      "source": "print(\"tuned hpyerparameters :(best parameters) \",tree_cv.best_params_)\nprint(\"accuracy :\",tree_cv.best_score_)",
      "metadata": {
        "trusted": true
      },
      "execution_count": 24,
      "outputs": [
        {
          "name": "stdout",
          "text": "tuned hpyerparameters :(best parameters)  {'criterion': 'gini', 'max_depth': 6, 'max_features': 'auto', 'min_samples_leaf': 4, 'min_samples_split': 10, 'splitter': 'random'}\naccuracy : 0.875\n",
          "output_type": "stream"
        }
      ]
    },
    {
      "cell_type": "markdown",
      "source": "## TASK  9\n",
      "metadata": {}
    },
    {
      "cell_type": "markdown",
      "source": "Calculate the accuracy of tree_cv on the test data using the method <code>score</code>:\n",
      "metadata": {}
    },
    {
      "cell_type": "code",
      "source": "scr_tree = tree_cv.score(X_test, Y_test)\nscr_tree",
      "metadata": {
        "trusted": true
      },
      "execution_count": 25,
      "outputs": [
        {
          "execution_count": 25,
          "output_type": "execute_result",
          "data": {
            "text/plain": "0.8333333333333334"
          },
          "metadata": {}
        }
      ]
    },
    {
      "cell_type": "markdown",
      "source": "We can plot the confusion matrix\n",
      "metadata": {}
    },
    {
      "cell_type": "code",
      "source": "yhat = tree_cv.predict(X_test)\nplot_confusion_matrix(Y_test,yhat)",
      "metadata": {
        "trusted": true
      },
      "execution_count": 26,
      "outputs": [
        {
          "output_type": "display_data",
          "data": {
            "text/plain": "<Figure size 640x480 with 2 Axes>",
            "image/png": "[encoded data removed]"
          },
          "metadata": {}
        }
      ]
    },
    {
      "cell_type": "markdown",
      "source": "## TASK  10\n",
      "metadata": {}
    },
    {
      "cell_type": "markdown",
      "source": "Create a k nearest neighbors object then  create a  <code>GridSearchCV</code> object  <code>knn_cv</code> with cv = 10.  Fit the object to find the best parameters from the dictionary <code>parameters</code>.\n",
      "metadata": {}
    },
    {
      "cell_type": "code",
      "source": "parameters = {'n_neighbors': [1, 2, 3, 4, 5, 6, 7, 8, 9, 10],\n              'algorithm': ['auto', 'ball_tree', 'kd_tree', 'brute'],\n              'p': [1,2]}\n\nKNN = KNeighborsClassifier()",
      "metadata": {
        "trusted": true
      },
      "execution_count": 27,
      "outputs": []
    },
    {
      "cell_type": "code",
      "source": "knn_cv = GridSearchCV(KNN, parameters, cv=2, verbose=10)\nknn_cv.fit(X_train, Y_train)",
      "metadata": {
        "trusted": true
      },
      "execution_count": 28,
      "outputs": [
        {
          "name": "stdout",
          "text": "Fitting 2 folds for each of 80 candidates, totalling 160 fits\n[CV 1/2; 1/80] START algorithm=auto, n_neighbors=1, p=1.........................\n[CV 1/2; 1/80] END algorithm=auto, n_neighbors=1, p=1;, score=0.472 total time=   0.0s\n[CV 2/2; 1/80] START algorithm=auto, n_neighbors=1, p=1.........................\n[CV 2/2; 1/80] END algorithm=auto, n_neighbors=1, p=1;, score=0.583 total time=   0.0s\n[CV 1/2; 2/80] START algorithm=auto, n_neighbors=1, p=2.........................\n[CV 1/2; 2/80] END algorithm=auto, n_neighbors=1, p=2;, score=0.500 total time=   0.0s\n[CV 2/2; 2/80] START algorithm=auto, n_neighbors=1, p=2.........................\n[CV 2/2; 2/80] END algorithm=auto, n_neighbors=1, p=2;, score=0.583 total time=   0.0s\n[CV 1/2; 3/80] START algorithm=auto, n_neighbors=2, p=1.........................\n[CV 1/2; 3/80] END algorithm=auto, n_neighbors=2, p=1;, score=0.500 total time=   0.0s\n[CV 2/2; 3/80] START algorithm=auto, n_neighbors=2, p=1.........................\n[CV 2/2; 3/80] END algorithm=auto, n_neighbors=2, p=1;, score=0.556 total time=   0.0s\n[CV 1/2; 4/80] START algorithm=auto, n_neighbors=2, p=2.........................\n[CV 1/2; 4/80] END algorithm=auto, n_neighbors=2, p=2;, score=0.500 total time=   0.0s\n[CV 2/2; 4/80] START algorithm=auto, n_neighbors=2, p=2.........................\n[CV 2/2; 4/80] END algorithm=auto, n_neighbors=2, p=2;, score=0.472 total time=   0.0s\n[CV 1/2; 5/80] START algorithm=auto, n_neighbors=3, p=1.........................\n[CV 1/2; 5/80] END algorithm=auto, n_neighbors=3, p=1;, score=0.500 total time=   0.0s\n[CV 2/2; 5/80] START algorithm=auto, n_neighbors=3, p=1.........................\n[CV 2/2; 5/80] END algorithm=auto, n_neighbors=3, p=1;, score=0.583 total time=   0.0s\n[CV 1/2; 6/80] START algorithm=auto, n_neighbors=3, p=2.........................\n[CV 1/2; 6/80] END algorithm=auto, n_neighbors=3, p=2;, score=0.500 total time=   0.0s\n[CV 2/2; 6/80] START algorithm=auto, n_neighbors=3, p=2.........................\n[CV 2/2; 6/80] END algorithm=auto, n_neighbors=3, p=2;, score=0.583 total time=   0.0s\n[CV 1/2; 7/80] START algorithm=auto, n_neighbors=4, p=1.........................\n[CV 1/2; 7/80] END algorithm=auto, n_neighbors=4, p=1;, score=0.583 total time=   0.0s\n[CV 2/2; 7/80] START algorithm=auto, n_neighbors=4, p=1.........................\n[CV 2/2; 7/80] END algorithm=auto, n_neighbors=4, p=1;, score=0.583 total time=   0.0s\n[CV 1/2; 8/80] START algorithm=auto, n_neighbors=4, p=2.........................\n[CV 1/2; 8/80] END algorithm=auto, n_neighbors=4, p=2;, score=0.556 total time=   0.0s\n[CV 2/2; 8/80] START algorithm=auto, n_neighbors=4, p=2.........................\n[CV 2/2; 8/80] END algorithm=auto, n_neighbors=4, p=2;, score=0.611 total time=   0.0s\n[CV 1/2; 9/80] START algorithm=auto, n_neighbors=5, p=1.........................\n[CV 1/2; 9/80] END algorithm=auto, n_neighbors=5, p=1;, score=0.611 total time=   0.0s\n[CV 2/2; 9/80] START algorithm=auto, n_neighbors=5, p=1.........................\n[CV 2/2; 9/80] END algorithm=auto, n_neighbors=5, p=1;, score=0.556 total time=   0.0s\n[CV 1/2; 10/80] START algorithm=auto, n_neighbors=5, p=2........................\n[CV 1/2; 10/80] END algorithm=auto, n_neighbors=5, p=2;, score=0.639 total time=   0.0s\n[CV 2/2; 10/80] START algorithm=auto, n_neighbors=5, p=2........................\n[CV 2/2; 10/80] END algorithm=auto, n_neighbors=5, p=2;, score=0.556 total time=   0.0s\n[CV 1/2; 11/80] START algorithm=auto, n_neighbors=6, p=1........................\n[CV 1/2; 11/80] END algorithm=auto, n_neighbors=6, p=1;, score=0.500 total time=   0.0s\n[CV 2/2; 11/80] START algorithm=auto, n_neighbors=6, p=1........................\n[CV 2/2; 11/80] END algorithm=auto, n_neighbors=6, p=1;, score=0.500 total time=   0.0s\n[CV 1/2; 12/80] START algorithm=auto, n_neighbors=6, p=2........................\n[CV 1/2; 12/80] END algorithm=auto, n_neighbors=6, p=2;, score=0.500 total time=   0.0s\n[CV 2/2; 12/80] START algorithm=auto, n_neighbors=6, p=2........................\n[CV 2/2; 12/80] END algorithm=auto, n_neighbors=6, p=2;, score=0.500 total time=   0.0s\n[CV 1/2; 13/80] START algorithm=auto, n_neighbors=7, p=1........................\n[CV 1/2; 13/80] END algorithm=auto, n_neighbors=7, p=1;, score=0.556 total time=   0.0s\n[CV 2/2; 13/80] START algorithm=auto, n_neighbors=7, p=1........................\n[CV 2/2; 13/80] END algorithm=auto, n_neighbors=7, p=1;, score=0.528 total time=   0.0s\n[CV 1/2; 14/80] START algorithm=auto, n_neighbors=7, p=2........................\n[CV 1/2; 14/80] END algorithm=auto, n_neighbors=7, p=2;, score=0.556 total time=   0.0s\n[CV 2/2; 14/80] START algorithm=auto, n_neighbors=7, p=2........................\n[CV 2/2; 14/80] END algorithm=auto, n_neighbors=7, p=2;, score=0.528 total time=   0.0s\n[CV 1/2; 15/80] START algorithm=auto, n_neighbors=8, p=1........................\n[CV 1/2; 15/80] END algorithm=auto, n_neighbors=8, p=1;, score=0.500 total time=   0.0s\n[CV 2/2; 15/80] START algorithm=auto, n_neighbors=8, p=1........................\n[CV 2/2; 15/80] END algorithm=auto, n_neighbors=8, p=1;, score=0.583 total time=   0.0s\n[CV 1/2; 16/80] START algorithm=auto, n_neighbors=8, p=2........................\n[CV 1/2; 16/80] END algorithm=auto, n_neighbors=8, p=2;, score=0.500 total time=   0.0s\n[CV 2/2; 16/80] START algorithm=auto, n_neighbors=8, p=2........................\n[CV 2/2; 16/80] END algorithm=auto, n_neighbors=8, p=2;, score=0.583 total time=   0.0s\n[CV 1/2; 17/80] START algorithm=auto, n_neighbors=9, p=1........................\n[CV 1/2; 17/80] END algorithm=auto, n_neighbors=9, p=1;, score=0.667 total time=   0.0s\n[CV 2/2; 17/80] START algorithm=auto, n_neighbors=9, p=1........................\n[CV 2/2; 17/80] END algorithm=auto, n_neighbors=9, p=1;, score=0.639 total time=   0.0s\n[CV 1/2; 18/80] START algorithm=auto, n_neighbors=9, p=2........................\n[CV 1/2; 18/80] END algorithm=auto, n_neighbors=9, p=2;, score=0.667 total time=   0.0s\n[CV 2/2; 18/80] START algorithm=auto, n_neighbors=9, p=2........................\n[CV 2/2; 18/80] END algorithm=auto, n_neighbors=9, p=2;, score=0.639 total time=   0.0s\n[CV 1/2; 19/80] START algorithm=auto, n_neighbors=10, p=1.......................\n[CV 1/2; 19/80] END algorithm=auto, n_neighbors=10, p=1;, score=0.722 total time=   0.0s\n[CV 2/2; 19/80] START algorithm=auto, n_neighbors=10, p=1.......................\n[CV 2/2; 19/80] END algorithm=auto, n_neighbors=10, p=1;, score=0.639 total time=   0.0s\n[CV 1/2; 20/80] START algorithm=auto, n_neighbors=10, p=2.......................\n[CV 1/2; 20/80] END algorithm=auto, n_neighbors=10, p=2;, score=0.722 total time=   0.0s\n[CV 2/2; 20/80] START algorithm=auto, n_neighbors=10, p=2.......................\n[CV 2/2; 20/80] END algorithm=auto, n_neighbors=10, p=2;, score=0.639 total time=   0.0s\n[CV 1/2; 21/80] START algorithm=ball_tree, n_neighbors=1, p=1...................\n[CV 1/2; 21/80] END algorithm=ball_tree, n_neighbors=1, p=1;, score=0.472 total time=   0.0s\n[CV 2/2; 21/80] START algorithm=ball_tree, n_neighbors=1, p=1...................\n[CV 2/2; 21/80] END algorithm=ball_tree, n_neighbors=1, p=1;, score=0.583 total time=   0.0s\n[CV 1/2; 22/80] START algorithm=ball_tree, n_neighbors=1, p=2...................\n[CV 1/2; 22/80] END algorithm=ball_tree, n_neighbors=1, p=2;, score=0.500 total time=   0.0s\n[CV 2/2; 22/80] START algorithm=ball_tree, n_neighbors=1, p=2...................\n[CV 2/2; 22/80] END algorithm=ball_tree, n_neighbors=1, p=2;, score=0.583 total time=   0.0s\n[CV 1/2; 23/80] START algorithm=ball_tree, n_neighbors=2, p=1...................\n[CV 1/2; 23/80] END algorithm=ball_tree, n_neighbors=2, p=1;, score=0.500 total time=   0.0s\n[CV 2/2; 23/80] START algorithm=ball_tree, n_neighbors=2, p=1...................\n[CV 2/2; 23/80] END algorithm=ball_tree, n_neighbors=2, p=1;, score=0.556 total time=   0.0s\n[CV 1/2; 24/80] START algorithm=ball_tree, n_neighbors=2, p=2...................\n[CV 1/2; 24/80] END algorithm=ball_tree, n_neighbors=2, p=2;, score=0.500 total time=   0.0s\n[CV 2/2; 24/80] START algorithm=ball_tree, n_neighbors=2, p=2...................\n[CV 2/2; 24/80] END algorithm=ball_tree, n_neighbors=2, p=2;, score=0.472 total time=   0.0s\n[CV 1/2; 25/80] START algorithm=ball_tree, n_neighbors=3, p=1...................\n[CV 1/2; 25/80] END algorithm=ball_tree, n_neighbors=3, p=1;, score=0.500 total time=   0.0s\n[CV 2/2; 25/80] START algorithm=ball_tree, n_neighbors=3, p=1...................\n[CV 2/2; 25/80] END algorithm=ball_tree, n_neighbors=3, p=1;, score=0.583 total time=   0.0s\n[CV 1/2; 26/80] START algorithm=ball_tree, n_neighbors=3, p=2...................\n[CV 1/2; 26/80] END algorithm=ball_tree, n_neighbors=3, p=2;, score=0.500 total time=   0.0s\n[CV 2/2; 26/80] START algorithm=ball_tree, n_neighbors=3, p=2...................\n[CV 2/2; 26/80] END algorithm=ball_tree, n_neighbors=3, p=2;, score=0.583 total time=   0.0s\n[CV 1/2; 27/80] START algorithm=ball_tree, n_neighbors=4, p=1...................\n[CV 1/2; 27/80] END algorithm=ball_tree, n_neighbors=4, p=1;, score=0.583 total time=   0.0s\n[CV 2/2; 27/80] START algorithm=ball_tree, n_neighbors=4, p=1...................\n[CV 2/2; 27/80] END algorithm=ball_tree, n_neighbors=4, p=1;, score=0.583 total time=   0.0s\n[CV 1/2; 28/80] START algorithm=ball_tree, n_neighbors=4, p=2...................\n[CV 1/2; 28/80] END algorithm=ball_tree, n_neighbors=4, p=2;, score=0.556 total time=   0.0s\n[CV 2/2; 28/80] START algorithm=ball_tree, n_neighbors=4, p=2...................\n[CV 2/2; 28/80] END algorithm=ball_tree, n_neighbors=4, p=2;, score=0.611 total time=   0.0s\n[CV 1/2; 29/80] START algorithm=ball_tree, n_neighbors=5, p=1...................\n[CV 1/2; 29/80] END algorithm=ball_tree, n_neighbors=5, p=1;, score=0.611 total time=   0.0s\n[CV 2/2; 29/80] START algorithm=ball_tree, n_neighbors=5, p=1...................\n[CV 2/2; 29/80] END algorithm=ball_tree, n_neighbors=5, p=1;, score=0.556 total time=   0.0s\n[CV 1/2; 30/80] START algorithm=ball_tree, n_neighbors=5, p=2...................\n[CV 1/2; 30/80] END algorithm=ball_tree, n_neighbors=5, p=2;, score=0.639 total time=   0.0s\n[CV 2/2; 30/80] START algorithm=ball_tree, n_neighbors=5, p=2...................\n[CV 2/2; 30/80] END algorithm=ball_tree, n_neighbors=5, p=2;, score=0.556 total time=   0.0s\n[CV 1/2; 31/80] START algorithm=ball_tree, n_neighbors=6, p=1...................\n[CV 1/2; 31/80] END algorithm=ball_tree, n_neighbors=6, p=1;, score=0.500 total time=   0.0s\n[CV 2/2; 31/80] START algorithm=ball_tree, n_neighbors=6, p=1...................\n[CV 2/2; 31/80] END algorithm=ball_tree, n_neighbors=6, p=1;, score=0.500 total time=   0.0s\n[CV 1/2; 32/80] START algorithm=ball_tree, n_neighbors=6, p=2...................\n[CV 1/2; 32/80] END algorithm=ball_tree, n_neighbors=6, p=2;, score=0.500 total time=   0.0s\n[CV 2/2; 32/80] START algorithm=ball_tree, n_neighbors=6, p=2...................\n[CV 2/2; 32/80] END algorithm=ball_tree, n_neighbors=6, p=2;, score=0.500 total time=   0.0s\n[CV 1/2; 33/80] START algorithm=ball_tree, n_neighbors=7, p=1...................\n[CV 1/2; 33/80] END algorithm=ball_tree, n_neighbors=7, p=1;, score=0.556 total time=   0.0s\n[CV 2/2; 33/80] START algorithm=ball_tree, n_neighbors=7, p=1...................\n[CV 2/2; 33/80] END algorithm=ball_tree, n_neighbors=7, p=1;, score=0.528 total time=   0.0s\n[CV 1/2; 34/80] START algorithm=ball_tree, n_neighbors=7, p=2...................\n[CV 1/2; 34/80] END algorithm=ball_tree, n_neighbors=7, p=2;, score=0.556 total time=   0.0s\n[CV 2/2; 34/80] START algorithm=ball_tree, n_neighbors=7, p=2...................\n[CV 2/2; 34/80] END algorithm=ball_tree, n_neighbors=7, p=2;, score=0.528 total time=   0.0s\n[CV 1/2; 35/80] START algorithm=ball_tree, n_neighbors=8, p=1...................\n[CV 1/2; 35/80] END algorithm=ball_tree, n_neighbors=8, p=1;, score=0.500 total time=   0.0s\n[CV 2/2; 35/80] START algorithm=ball_tree, n_neighbors=8, p=1...................\n[CV 2/2; 35/80] END algorithm=ball_tree, n_neighbors=8, p=1;, score=0.583 total time=   0.0s\n[CV 1/2; 36/80] START algorithm=ball_tree, n_neighbors=8, p=2...................\n[CV 1/2; 36/80] END algorithm=ball_tree, n_neighbors=8, p=2;, score=0.500 total time=   0.0s\n[CV 2/2; 36/80] START algorithm=ball_tree, n_neighbors=8, p=2...................\n[CV 2/2; 36/80] END algorithm=ball_tree, n_neighbors=8, p=2;, score=0.583 total time=   0.0s\n[CV 1/2; 37/80] START algorithm=ball_tree, n_neighbors=9, p=1...................\n[CV 1/2; 37/80] END algorithm=ball_tree, n_neighbors=9, p=1;, score=0.667 total time=   0.0s\n[CV 2/2; 37/80] START algorithm=ball_tree, n_neighbors=9, p=1...................\n[CV 2/2; 37/80] END algorithm=ball_tree, n_neighbors=9, p=1;, score=0.639 total time=   0.0s\n[CV 1/2; 38/80] START algorithm=ball_tree, n_neighbors=9, p=2...................\n[CV 1/2; 38/80] END algorithm=ball_tree, n_neighbors=9, p=2;, score=0.667 total time=   0.0s\n[CV 2/2; 38/80] START algorithm=ball_tree, n_neighbors=9, p=2...................\n[CV 2/2; 38/80] END algorithm=ball_tree, n_neighbors=9, p=2;, score=0.639 total time=   0.0s\n[CV 1/2; 39/80] START algorithm=ball_tree, n_neighbors=10, p=1..................\n[CV 1/2; 39/80] END algorithm=ball_tree, n_neighbors=10, p=1;, score=0.722 total time=   0.0s\n[CV 2/2; 39/80] START algorithm=ball_tree, n_neighbors=10, p=1..................\n[CV 2/2; 39/80] END algorithm=ball_tree, n_neighbors=10, p=1;, score=0.639 total time=   0.0s\n[CV 1/2; 40/80] START algorithm=ball_tree, n_neighbors=10, p=2..................\n[CV 1/2; 40/80] END algorithm=ball_tree, n_neighbors=10, p=2;, score=0.722 total time=   0.0s\n[CV 2/2; 40/80] START algorithm=ball_tree, n_neighbors=10, p=2..................\n[CV 2/2; 40/80] END algorithm=ball_tree, n_neighbors=10, p=2;, score=0.639 total time=   0.0s\n[CV 1/2; 41/80] START algorithm=kd_tree, n_neighbors=1, p=1.....................\n[CV 1/2; 41/80] END algorithm=kd_tree, n_neighbors=1, p=1;, score=0.472 total time=   0.0s\n[CV 2/2; 41/80] START algorithm=kd_tree, n_neighbors=1, p=1.....................\n[CV 2/2; 41/80] END algorithm=kd_tree, n_neighbors=1, p=1;, score=0.583 total time=   0.0s\n[CV 1/2; 42/80] START algorithm=kd_tree, n_neighbors=1, p=2.....................\n[CV 1/2; 42/80] END algorithm=kd_tree, n_neighbors=1, p=2;, score=0.500 total time=   0.0s\n[CV 2/2; 42/80] START algorithm=kd_tree, n_neighbors=1, p=2.....................\n[CV 2/2; 42/80] END algorithm=kd_tree, n_neighbors=1, p=2;, score=0.583 total time=   0.0s\n[CV 1/2; 43/80] START algorithm=kd_tree, n_neighbors=2, p=1.....................\n[CV 1/2; 43/80] END algorithm=kd_tree, n_neighbors=2, p=1;, score=0.500 total time=   0.0s\n[CV 2/2; 43/80] START algorithm=kd_tree, n_neighbors=2, p=1.....................\n[CV 2/2; 43/80] END algorithm=kd_tree, n_neighbors=2, p=1;, score=0.556 total time=   0.0s\n[CV 1/2; 44/80] START algorithm=kd_tree, n_neighbors=2, p=2.....................\n[CV 1/2; 44/80] END algorithm=kd_tree, n_neighbors=2, p=2;, score=0.500 total time=   0.0s\n[CV 2/2; 44/80] START algorithm=kd_tree, n_neighbors=2, p=2.....................\n[CV 2/2; 44/80] END algorithm=kd_tree, n_neighbors=2, p=2;, score=0.472 total time=   0.0s\n[CV 1/2; 45/80] START algorithm=kd_tree, n_neighbors=3, p=1.....................\n[CV 1/2; 45/80] END algorithm=kd_tree, n_neighbors=3, p=1;, score=0.500 total time=   0.0s\n[CV 2/2; 45/80] START algorithm=kd_tree, n_neighbors=3, p=1.....................\n[CV 2/2; 45/80] END algorithm=kd_tree, n_neighbors=3, p=1;, score=0.583 total time=   0.0s\n[CV 1/2; 46/80] START algorithm=kd_tree, n_neighbors=3, p=2.....................\n[CV 1/2; 46/80] END algorithm=kd_tree, n_neighbors=3, p=2;, score=0.500 total time=   0.0s\n[CV 2/2; 46/80] START algorithm=kd_tree, n_neighbors=3, p=2.....................\n[CV 2/2; 46/80] END algorithm=kd_tree, n_neighbors=3, p=2;, score=0.583 total time=   0.0s\n[CV 1/2; 47/80] START algorithm=kd_tree, n_neighbors=4, p=1.....................\n[CV 1/2; 47/80] END algorithm=kd_tree, n_neighbors=4, p=1;, score=0.583 total time=   0.0s\n[CV 2/2; 47/80] START algorithm=kd_tree, n_neighbors=4, p=1.....................\n[CV 2/2; 47/80] END algorithm=kd_tree, n_neighbors=4, p=1;, score=0.583 total time=   0.0s\n[CV 1/2; 48/80] START algorithm=kd_tree, n_neighbors=4, p=2.....................\n[CV 1/2; 48/80] END algorithm=kd_tree, n_neighbors=4, p=2;, score=0.556 total time=   0.0s\n[CV 2/2; 48/80] START algorithm=kd_tree, n_neighbors=4, p=2.....................\n[CV 2/2; 48/80] END algorithm=kd_tree, n_neighbors=4, p=2;, score=0.611 total time=   0.0s\n[CV 1/2; 49/80] START algorithm=kd_tree, n_neighbors=5, p=1.....................\n[CV 1/2; 49/80] END algorithm=kd_tree, n_neighbors=5, p=1;, score=0.611 total time=   0.0s\n[CV 2/2; 49/80] START algorithm=kd_tree, n_neighbors=5, p=1.....................\n[CV 2/2; 49/80] END algorithm=kd_tree, n_neighbors=5, p=1;, score=0.556 total time=   0.0s\n[CV 1/2; 50/80] START algorithm=kd_tree, n_neighbors=5, p=2.....................\n[CV 1/2; 50/80] END algorithm=kd_tree, n_neighbors=5, p=2;, score=0.639 total time=   0.0s\n[CV 2/2; 50/80] START algorithm=kd_tree, n_neighbors=5, p=2.....................\n[CV 2/2; 50/80] END algorithm=kd_tree, n_neighbors=5, p=2;, score=0.556 total time=   0.0s\n[CV 1/2; 51/80] START algorithm=kd_tree, n_neighbors=6, p=1.....................\n[CV 1/2; 51/80] END algorithm=kd_tree, n_neighbors=6, p=1;, score=0.500 total time=   0.0s\n[CV 2/2; 51/80] START algorithm=kd_tree, n_neighbors=6, p=1.....................\n[CV 2/2; 51/80] END algorithm=kd_tree, n_neighbors=6, p=1;, score=0.500 total time=   0.0s\n[CV 1/2; 52/80] START algorithm=kd_tree, n_neighbors=6, p=2.....................\n[CV 1/2; 52/80] END algorithm=kd_tree, n_neighbors=6, p=2;, score=0.500 total time=   0.0s\n[CV 2/2; 52/80] START algorithm=kd_tree, n_neighbors=6, p=2.....................\n[CV 2/2; 52/80] END algorithm=kd_tree, n_neighbors=6, p=2;, score=0.500 total time=   0.0s\n[CV 1/2; 53/80] START algorithm=kd_tree, n_neighbors=7, p=1.....................\n[CV 1/2; 53/80] END algorithm=kd_tree, n_neighbors=7, p=1;, score=0.556 total time=   0.0s\n[CV 2/2; 53/80] START algorithm=kd_tree, n_neighbors=7, p=1.....................\n[CV 2/2; 53/80] END algorithm=kd_tree, n_neighbors=7, p=1;, score=0.528 total time=   0.0s\n[CV 1/2; 54/80] START algorithm=kd_tree, n_neighbors=7, p=2.....................\n[CV 1/2; 54/80] END algorithm=kd_tree, n_neighbors=7, p=2;, score=0.556 total time=   0.0s\n[CV 2/2; 54/80] START algorithm=kd_tree, n_neighbors=7, p=2.....................\n[CV 2/2; 54/80] END algorithm=kd_tree, n_neighbors=7, p=2;, score=0.528 total time=   0.0s\n[CV 1/2; 55/80] START algorithm=kd_tree, n_neighbors=8, p=1.....................\n[CV 1/2; 55/80] END algorithm=kd_tree, n_neighbors=8, p=1;, score=0.500 total time=   0.0s\n[CV 2/2; 55/80] START algorithm=kd_tree, n_neighbors=8, p=1.....................\n[CV 2/2; 55/80] END algorithm=kd_tree, n_neighbors=8, p=1;, score=0.583 total time=   0.0s\n[CV 1/2; 56/80] START algorithm=kd_tree, n_neighbors=8, p=2.....................\n[CV 1/2; 56/80] END algorithm=kd_tree, n_neighbors=8, p=2;, score=0.500 total time=   0.0s\n[CV 2/2; 56/80] START algorithm=kd_tree, n_neighbors=8, p=2.....................\n[CV 2/2; 56/80] END algorithm=kd_tree, n_neighbors=8, p=2;, score=0.583 total time=   0.0s\n[CV 1/2; 57/80] START algorithm=kd_tree, n_neighbors=9, p=1.....................\n[CV 1/2; 57/80] END algorithm=kd_tree, n_neighbors=9, p=1;, score=0.667 total time=   0.0s\n[CV 2/2; 57/80] START algorithm=kd_tree, n_neighbors=9, p=1.....................\n[CV 2/2; 57/80] END algorithm=kd_tree, n_neighbors=9, p=1;, score=0.639 total time=   0.0s\n[CV 1/2; 58/80] START algorithm=kd_tree, n_neighbors=9, p=2.....................\n[CV 1/2; 58/80] END algorithm=kd_tree, n_neighbors=9, p=2;, score=0.667 total time=   0.0s\n[CV 2/2; 58/80] START algorithm=kd_tree, n_neighbors=9, p=2.....................\n[CV 2/2; 58/80] END algorithm=kd_tree, n_neighbors=9, p=2;, score=0.639 total time=   0.0s\n[CV 1/2; 59/80] START algorithm=kd_tree, n_neighbors=10, p=1....................\n[CV 1/2; 59/80] END algorithm=kd_tree, n_neighbors=10, p=1;, score=0.722 total time=   0.0s\n[CV 2/2; 59/80] START algorithm=kd_tree, n_neighbors=10, p=1....................\n[CV 2/2; 59/80] END algorithm=kd_tree, n_neighbors=10, p=1;, score=0.639 total time=   0.0s\n[CV 1/2; 60/80] START algorithm=kd_tree, n_neighbors=10, p=2....................\n[CV 1/2; 60/80] END algorithm=kd_tree, n_neighbors=10, p=2;, score=0.722 total time=   0.0s\n[CV 2/2; 60/80] START algorithm=kd_tree, n_neighbors=10, p=2....................\n[CV 2/2; 60/80] END algorithm=kd_tree, n_neighbors=10, p=2;, score=0.639 total time=   0.0s\n[CV 1/2; 61/80] START algorithm=brute, n_neighbors=1, p=1.......................\n[CV 1/2; 61/80] END algorithm=brute, n_neighbors=1, p=1;, score=0.472 total time=   0.0s\n[CV 2/2; 61/80] START algorithm=brute, n_neighbors=1, p=1.......................\n[CV 2/2; 61/80] END algorithm=brute, n_neighbors=1, p=1;, score=0.583 total time=   0.0s\n[CV 1/2; 62/80] START algorithm=brute, n_neighbors=1, p=2.......................\n[CV 1/2; 62/80] END algorithm=brute, n_neighbors=1, p=2;, score=0.500 total time=   0.0s\n[CV 2/2; 62/80] START algorithm=brute, n_neighbors=1, p=2.......................\n[CV 2/2; 62/80] END algorithm=brute, n_neighbors=1, p=2;, score=0.583 total time=   0.0s\n[CV 1/2; 63/80] START algorithm=brute, n_neighbors=2, p=1.......................\n[CV 1/2; 63/80] END algorithm=brute, n_neighbors=2, p=1;, score=0.500 total time=   0.0s\n[CV 2/2; 63/80] START algorithm=brute, n_neighbors=2, p=1.......................\n[CV 2/2; 63/80] END algorithm=brute, n_neighbors=2, p=1;, score=0.556 total time=   0.0s\n[CV 1/2; 64/80] START algorithm=brute, n_neighbors=2, p=2.......................\n[CV 1/2; 64/80] END algorithm=brute, n_neighbors=2, p=2;, score=0.500 total time=   0.0s\n[CV 2/2; 64/80] START algorithm=brute, n_neighbors=2, p=2.......................\n[CV 2/2; 64/80] END algorithm=brute, n_neighbors=2, p=2;, score=0.472 total time=   0.0s\n[CV 1/2; 65/80] START algorithm=brute, n_neighbors=3, p=1.......................\n[CV 1/2; 65/80] END algorithm=brute, n_neighbors=3, p=1;, score=0.500 total time=   0.0s\n[CV 2/2; 65/80] START algorithm=brute, n_neighbors=3, p=1.......................\n[CV 2/2; 65/80] END algorithm=brute, n_neighbors=3, p=1;, score=0.583 total time=   0.0s\n[CV 1/2; 66/80] START algorithm=brute, n_neighbors=3, p=2.......................\n[CV 1/2; 66/80] END algorithm=brute, n_neighbors=3, p=2;, score=0.500 total time=   0.0s\n[CV 2/2; 66/80] START algorithm=brute, n_neighbors=3, p=2.......................\n[CV 2/2; 66/80] END algorithm=brute, n_neighbors=3, p=2;, score=0.583 total time=   0.0s\n[CV 1/2; 67/80] START algorithm=brute, n_neighbors=4, p=1.......................\n[CV 1/2; 67/80] END algorithm=brute, n_neighbors=4, p=1;, score=0.583 total time=   0.0s\n[CV 2/2; 67/80] START algorithm=brute, n_neighbors=4, p=1.......................\n[CV 2/2; 67/80] END algorithm=brute, n_neighbors=4, p=1;, score=0.583 total time=   0.0s\n[CV 1/2; 68/80] START algorithm=brute, n_neighbors=4, p=2.......................\n[CV 1/2; 68/80] END algorithm=brute, n_neighbors=4, p=2;, score=0.556 total time=   0.0s\n[CV 2/2; 68/80] START algorithm=brute, n_neighbors=4, p=2.......................\n[CV 2/2; 68/80] END algorithm=brute, n_neighbors=4, p=2;, score=0.611 total time=   0.0s\n[CV 1/2; 69/80] START algorithm=brute, n_neighbors=5, p=1.......................\n[CV 1/2; 69/80] END algorithm=brute, n_neighbors=5, p=1;, score=0.611 total time=   0.0s\n[CV 2/2; 69/80] START algorithm=brute, n_neighbors=5, p=1.......................\n[CV 2/2; 69/80] END algorithm=brute, n_neighbors=5, p=1;, score=0.556 total time=   0.0s\n[CV 1/2; 70/80] START algorithm=brute, n_neighbors=5, p=2.......................\n[CV 1/2; 70/80] END algorithm=brute, n_neighbors=5, p=2;, score=0.639 total time=   0.0s\n[CV 2/2; 70/80] START algorithm=brute, n_neighbors=5, p=2.......................\n[CV 2/2; 70/80] END algorithm=brute, n_neighbors=5, p=2;, score=0.556 total time=   0.0s\n[CV 1/2; 71/80] START algorithm=brute, n_neighbors=6, p=1.......................\n[CV 1/2; 71/80] END algorithm=brute, n_neighbors=6, p=1;, score=0.500 total time=   0.0s\n[CV 2/2; 71/80] START algorithm=brute, n_neighbors=6, p=1.......................\n[CV 2/2; 71/80] END algorithm=brute, n_neighbors=6, p=1;, score=0.500 total time=   0.0s\n[CV 1/2; 72/80] START algorithm=brute, n_neighbors=6, p=2.......................\n[CV 1/2; 72/80] END algorithm=brute, n_neighbors=6, p=2;, score=0.500 total time=   0.0s\n[CV 2/2; 72/80] START algorithm=brute, n_neighbors=6, p=2.......................\n[CV 2/2; 72/80] END algorithm=brute, n_neighbors=6, p=2;, score=0.500 total time=   0.0s\n[CV 1/2; 73/80] START algorithm=brute, n_neighbors=7, p=1.......................\n[CV 1/2; 73/80] END algorithm=brute, n_neighbors=7, p=1;, score=0.556 total time=   0.0s\n[CV 2/2; 73/80] START algorithm=brute, n_neighbors=7, p=1.......................\n[CV 2/2; 73/80] END algorithm=brute, n_neighbors=7, p=1;, score=0.528 total time=   0.0s\n[CV 1/2; 74/80] START algorithm=brute, n_neighbors=7, p=2.......................\n[CV 1/2; 74/80] END algorithm=brute, n_neighbors=7, p=2;, score=0.556 total time=   0.0s\n[CV 2/2; 74/80] START algorithm=brute, n_neighbors=7, p=2.......................\n[CV 2/2; 74/80] END algorithm=brute, n_neighbors=7, p=2;, score=0.528 total time=   0.0s\n[CV 1/2; 75/80] START algorithm=brute, n_neighbors=8, p=1.......................\n[CV 1/2; 75/80] END algorithm=brute, n_neighbors=8, p=1;, score=0.500 total time=   0.0s\n[CV 2/2; 75/80] START algorithm=brute, n_neighbors=8, p=1.......................\n[CV 2/2; 75/80] END algorithm=brute, n_neighbors=8, p=1;, score=0.583 total time=   0.0s\n[CV 1/2; 76/80] START algorithm=brute, n_neighbors=8, p=2.......................\n[CV 1/2; 76/80] END algorithm=brute, n_neighbors=8, p=2;, score=0.500 total time=   0.0s\n[CV 2/2; 76/80] START algorithm=brute, n_neighbors=8, p=2.......................\n[CV 2/2; 76/80] END algorithm=brute, n_neighbors=8, p=2;, score=0.583 total time=   0.0s\n[CV 1/2; 77/80] START algorithm=brute, n_neighbors=9, p=1.......................\n[CV 1/2; 77/80] END algorithm=brute, n_neighbors=9, p=1;, score=0.667 total time=   0.0s\n[CV 2/2; 77/80] START algorithm=brute, n_neighbors=9, p=1.......................\n[CV 2/2; 77/80] END algorithm=brute, n_neighbors=9, p=1;, score=0.639 total time=   0.0s\n[CV 1/2; 78/80] START algorithm=brute, n_neighbors=9, p=2.......................\n[CV 1/2; 78/80] END algorithm=brute, n_neighbors=9, p=2;, score=0.667 total time=   0.0s\n[CV 2/2; 78/80] START algorithm=brute, n_neighbors=9, p=2.......................\n[CV 2/2; 78/80] END algorithm=brute, n_neighbors=9, p=2;, score=0.639 total time=   0.0s\n[CV 1/2; 79/80] START algorithm=brute, n_neighbors=10, p=1......................\n[CV 1/2; 79/80] END algorithm=brute, n_neighbors=10, p=1;, score=0.722 total time=   0.0s\n[CV 2/2; 79/80] START algorithm=brute, n_neighbors=10, p=1......................\n[CV 2/2; 79/80] END algorithm=brute, n_neighbors=10, p=1;, score=0.639 total time=   0.0s\n[CV 1/2; 80/80] START algorithm=brute, n_neighbors=10, p=2......................\n[CV 1/2; 80/80] END algorithm=brute, n_neighbors=10, p=2;, score=0.722 total time=   0.0s\n[CV 2/2; 80/80] START algorithm=brute, n_neighbors=10, p=2......................\n[CV 2/2; 80/80] END algorithm=brute, n_neighbors=10, p=2;, score=0.639 total time=   0.0s\n",
          "output_type": "stream"
        },
        {
          "execution_count": 28,
          "output_type": "execute_result",
          "data": {
            "text/plain": "GridSearchCV(cv=2, estimator=KNeighborsClassifier(),\n             param_grid={'algorithm': ['auto', 'ball_tree', 'kd_tree', 'brute'],\n                         'n_neighbors': [1, 2, 3, 4, 5, 6, 7, 8, 9, 10],\n                         'p': [1, 2]},\n             verbose=10)",
            "text/html": "<style>#sk-container-id-3 {color: black;background-color: white;}#sk-container-id-3 pre{padding: 0;}#sk-container-id-3 div.sk-toggleable {background-color: white;}#sk-container-id-3 label.sk-toggleable__label {cursor: pointer;display: block;width: 100%;margin-bottom: 0;padding: 0.3em;box-sizing: border-box;text-align: center;}#sk-container-id-3 label.sk-toggleable__label-arrow:before {content: \"▸\";float: left;margin-right: 0.25em;color: #696969;}#sk-container-id-3 label.sk-toggleable__label-arrow:hover:before {color: black;}#sk-container-id-3 div.sk-estimator:hover label.sk-toggleable__label-arrow:before {color: black;}#sk-container-id-3 div.sk-toggleable__content {max-height: 0;max-width: 0;overflow: hidden;text-align: left;background-color: #f0f8ff;}#sk-container-id-3 div.sk-toggleable__content pre {margin: 0.2em;color: black;border-radius: 0.25em;background-color: #f0f8ff;}#sk-container-id-3 input.sk-toggleable__control:checked~div.sk-toggleable__content {max-height: 200px;max-width: 100%;overflow: auto;}#sk-container-id-3 input.sk-toggleable__control:checked~label.sk-toggleable__label-arrow:before {content: \"▾\";}#sk-container-id-3 div.sk-estimator input.sk-toggleable__control:checked~label.sk-toggleable__label {background-color: #d4ebff;}#sk-container-id-3 div.sk-label input.sk-toggleable__control:checked~label.sk-toggleable__label {background-color: #d4ebff;}#sk-container-id-3 input.sk-hidden--visually {border: 0;clip: rect(1px 1px 1px 1px);clip: rect(1px, 1px, 1px, 1px);height: 1px;margin: -1px;overflow: hidden;padding: 0;position: absolute;width: 1px;}#sk-container-id-3 div.sk-estimator {font-family: monospace;background-color: #f0f8ff;border: 1px dotted black;border-radius: 0.25em;box-sizing: border-box;margin-bottom: 0.5em;}#sk-container-id-3 div.sk-estimator:hover {background-color: #d4ebff;}#sk-container-id-3 div.sk-parallel-item::after {content: \"\";width: 100%;border-bottom: 1px solid gray;flex-grow: 1;}#sk-container-id-3 div.sk-label:hover label.sk-toggleable__label {background-color: #d4ebff;}#sk-container-id-3 div.sk-serial::before {content: \"\";position: absolute;border-left: 1px solid gray;box-sizing: border-box;top: 0;bottom: 0;left: 50%;z-index: 0;}#sk-container-id-3 div.sk-serial {display: flex;flex-direction: column;align-items: center;background-color: white;padding-right: 0.2em;padding-left: 0.2em;position: relative;}#sk-container-id-3 div.sk-item {position: relative;z-index: 1;}#sk-container-id-3 div.sk-parallel {display: flex;align-items: stretch;justify-content: center;background-color: white;position: relative;}#sk-container-id-3 div.sk-item::before, #sk-container-id-3 div.sk-parallel-item::before {content: \"\";position: absolute;border-left: 1px solid gray;box-sizing: border-box;top: 0;bottom: 0;left: 50%;z-index: -1;}#sk-container-id-3 div.sk-parallel-item {display: flex;flex-direction: column;z-index: 1;position: relative;background-color: white;}#sk-container-id-3 div.sk-parallel-item:first-child::after {align-self: flex-end;width: 50%;}#sk-container-id-3 div.sk-parallel-item:last-child::after {align-self: flex-start;width: 50%;}#sk-container-id-3 div.sk-parallel-item:only-child::after {width: 0;}#sk-container-id-3 div.sk-dashed-wrapped {border: 1px dashed gray;margin: 0 0.4em 0.5em 0.4em;box-sizing: border-box;padding-bottom: 0.4em;background-color: white;}#sk-container-id-3 div.sk-label label {font-family: monospace;font-weight: bold;display: inline-block;line-height: 1.2em;}#sk-container-id-3 div.sk-label-container {text-align: center;}#sk-container-id-3 div.sk-container {/* jupyter's `normalize.less` sets `[hidden] { display: none; }` but bootstrap.min.css set `[hidden] { display: none !important; }` so we also need the `!important` here to be able to override the default hidden behavior on the sphinx rendered scikit-learn.org. See: https://github.com/scikit-learn/scikit-learn/issues/21755 */display: inline-block !important;position: relative;}#sk-container-id-3 div.sk-text-repr-fallback {display: none;}</style><div id=\"sk-container-id-3\" class=\"sk-top-container\"><div class=\"sk-text-repr-fallback\"><pre>GridSearchCV(cv=2, estimator=KNeighborsClassifier(),\n             param_grid={&#x27;algorithm&#x27;: [&#x27;auto&#x27;, &#x27;ball_tree&#x27;, &#x27;kd_tree&#x27;, &#x27;brute&#x27;],\n                         &#x27;n_neighbors&#x27;: [1, 2, 3, 4, 5, 6, 7, 8, 9, 10],\n                         &#x27;p&#x27;: [1, 2]},\n             verbose=10)</pre><b>In a Jupyter environment, please rerun this cell to show the HTML representation or trust the notebook. <br />On GitHub, the HTML representation is unable to render, please try loading this page with nbviewer.org.</b></div><div class=\"sk-container\" hidden><div class=\"sk-item sk-dashed-wrapped\"><div class=\"sk-label-container\"><div class=\"sk-label sk-toggleable\"><input class=\"sk-toggleable__control sk-hidden--visually\" id=\"sk-estimator-id-5\" type=\"checkbox\" ><label for=\"sk-estimator-id-5\" class=\"sk-toggleable__label sk-toggleable__label-arrow\">GridSearchCV</label><div class=\"sk-toggleable__content\"><pre>GridSearchCV(cv=2, estimator=KNeighborsClassifier(),\n             param_grid={&#x27;algorithm&#x27;: [&#x27;auto&#x27;, &#x27;ball_tree&#x27;, &#x27;kd_tree&#x27;, &#x27;brute&#x27;],\n                         &#x27;n_neighbors&#x27;: [1, 2, 3, 4, 5, 6, 7, 8, 9, 10],\n                         &#x27;p&#x27;: [1, 2]},\n             verbose=10)</pre></div></div></div><div class=\"sk-parallel\"><div class=\"sk-parallel-item\"><div class=\"sk-item\"><div class=\"sk-label-container\"><div class=\"sk-label sk-toggleable\"><input class=\"sk-toggleable__control sk-hidden--visually\" id=\"sk-estimator-id-6\" type=\"checkbox\" ><label for=\"sk-estimator-id-6\" class=\"sk-toggleable__label sk-toggleable__label-arrow\">estimator: KNeighborsClassifier</label><div class=\"sk-toggleable__content\"><pre>KNeighborsClassifier()</pre></div></div></div><div class=\"sk-serial\"><div class=\"sk-item\"><div class=\"sk-estimator sk-toggleable\"><input class=\"sk-toggleable__control sk-hidden--visually\" id=\"sk-estimator-id-7\" type=\"checkbox\" ><label for=\"sk-estimator-id-7\" class=\"sk-toggleable__label sk-toggleable__label-arrow\">KNeighborsClassifier</label><div class=\"sk-toggleable__content\"><pre>KNeighborsClassifier()</pre></div></div></div></div></div></div></div></div></div></div>"
          },
          "metadata": {}
        }
      ]
    },
    {
      "cell_type": "code",
      "source": "print(\"tuned hpyerparameters :(best parameters) \",knn_cv.best_params_)\nprint(\"accuracy :\",knn_cv.best_score_)",
      "metadata": {
        "trusted": true
      },
      "execution_count": 29,
      "outputs": [
        {
          "name": "stdout",
          "text": "tuned hpyerparameters :(best parameters)  {'algorithm': 'auto', 'n_neighbors': 10, 'p': 1}\naccuracy : 0.6805555555555556\n",
          "output_type": "stream"
        }
      ]
    },
    {
      "cell_type": "markdown",
      "source": "## TASK  11\n",
      "metadata": {}
    },
    {
      "cell_type": "markdown",
      "source": "Calculate the accuracy of knn_cv on the test data using the method <code>score</code>:\n",
      "metadata": {}
    },
    {
      "cell_type": "code",
      "source": "scr_knn = knn_cv.score(X_test, Y_test)\nscr_knn",
      "metadata": {
        "trusted": true
      },
      "execution_count": 30,
      "outputs": [
        {
          "execution_count": 30,
          "output_type": "execute_result",
          "data": {
            "text/plain": "0.7222222222222222"
          },
          "metadata": {}
        }
      ]
    },
    {
      "cell_type": "markdown",
      "source": "We can plot the confusion matrix\n",
      "metadata": {}
    },
    {
      "cell_type": "code",
      "source": "yhat = knn_cv.predict(X_test)\nplot_confusion_matrix(Y_test,yhat)",
      "metadata": {
        "trusted": true
      },
      "execution_count": 31,
      "outputs": [
        {
          "output_type": "display_data",
          "data": {
            "text/plain": "<Figure size 640x480 with 2 Axes>",
            "image/png": "[encoded data removed]"
          },
          "metadata": {}
        }
      ]
    },
    {
      "cell_type": "markdown",
      "source": "## TASK  12\n",
      "metadata": {}
    },
    {
      "cell_type": "markdown",
      "source": "Find the method performs best:\n",
      "metadata": {}
    },
    {
      "cell_type": "code",
      "source": "methods = {\n'LogisticRegression': scr_logreg,\n'SVC': scr_svm,\n'DecisionTreeClassifier': scr_tree,\n'KNeighborsClassifier': scr_knn,\n}\n\nprint(methods)\nma = max(methods, key=methods.get)\nprint('Best method is: {} with score {} '.format(ma, methods[ma]))",
      "metadata": {
        "trusted": true
      },
      "execution_count": 34,
      "outputs": [
        {
          "name": "stdout",
          "text": "{'LogisticRegression': 0.8333333333333334, 'SVC': 0.6666666666666666, 'DecisionTreeClassifier': 0.8333333333333334, 'KNeighborsClassifier': 0.7222222222222222}\nBest method is: LogisticRegression with score 0.8333333333333334 \n",
          "output_type": "stream"
        }
      ]
    },
    {
      "cell_type": "markdown",
      "source": "## Authors\n",
      "metadata": {}
    },
    {
      "cell_type": "markdown",
      "source": "[Pratiksha Verma](https://www.linkedin.com/in/pratiksha-verma-6487561b1/?utm_medium=Exinfluencer&utm_source=Exinfluencer&utm_content=000026UJ&utm_term=10006555&utm_id=NA-SkillsNetwork-Channel-SkillsNetworkCoursesIBMDS0321ENSkillsNetwork865-2023-01-01)\n",
      "metadata": {}
    },
    {
      "cell_type": "markdown",
      "source": "## Change Log\n",
      "metadata": {}
    },
    {
      "cell_type": "markdown",
      "source": "| Date (YYYY-MM-DD) | Version | Changed By      | Change Description      |\n| ----------------- | ------- | -------------   | ----------------------- |\n| 2022-11-09        | 1.0     | Pratiksha Verma | Converted initial version to Jupyterlite|\n",
      "metadata": {}
    },
    {
      "cell_type": "markdown",
      "source": "### <h3 align=\"center\"> IBM Corporation 2022. All rights reserved. <h3/>\n",
      "metadata": {}
    }
  ]
}